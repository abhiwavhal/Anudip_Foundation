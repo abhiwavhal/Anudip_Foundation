{
  "nbformat": 4,
  "nbformat_minor": 0,
  "metadata": {
    "colab": {
      "provenance": [],
      "authorship_tag": "ABX9TyOfzM7YHFJ8XJnbrFAbS1to",
      "include_colab_link": true
    },
    "kernelspec": {
      "name": "python3",
      "display_name": "Python 3"
    },
    "language_info": {
      "name": "python"
    }
  },
  "cells": [
    {
      "cell_type": "markdown",
      "metadata": {
        "id": "view-in-github",
        "colab_type": "text"
      },
      "source": [
        "<a href=\"https://colab.research.google.com/github/abhiwavhal/Anudip_Foundation/blob/main/List_Comprehension_.ipynb\" target=\"_parent\"><img src=\"https://colab.research.google.com/assets/colab-badge.svg\" alt=\"Open In Colab\"/></a>"
      ]
    },
    {
      "cell_type": "markdown",
      "metadata": {
        "id": "6KySHsyNHnne"
      },
      "source": [
        "## <u> From loops to comprehensions</u>\n",
        "\n",
        "### <b>Every list comprehension can be rewritten as a <code>for</code> loop but not every <code>for</code> loop can be rewritten as a list comprehension </b>.The key to understanding when to use list comprehensions is to practice identifying problems that smell like list comprehensions. If you can rewrite your code to look just like this <code>for</code> loop, you can also rewrite it as a list comprehension:"
      ]
    },
    {
      "cell_type": "markdown",
      "metadata": {
        "id": "LIQYbLZD4tmG"
      },
      "source": [
        "## Let us take an example of getting the squares of the numbers in a list"
      ]
    },
    {
      "cell_type": "code",
      "source": [
        "# empty list\n",
        "first10_list = []\n",
        "# Using range to generate numbers and appending the numbers to list\n",
        "for x in range(1,11):\n",
        "    first10_list.append(x)\n",
        "\n",
        "first10_list"
      ],
      "metadata": {
        "colab": {
          "base_uri": "https://localhost:8080/"
        },
        "id": "uj--_GMtC7tH",
        "outputId": "8b455a30-7543-4122-89fb-108da64e572b"
      },
      "execution_count": null,
      "outputs": [
        {
          "output_type": "execute_result",
          "data": {
            "text/plain": [
              "[1, 2, 3, 4, 5, 6, 7, 8, 9, 10]"
            ]
          },
          "metadata": {},
          "execution_count": 80
        }
      ]
    },
    {
      "cell_type": "code",
      "source": [
        "# List Comprehension\n",
        "[ x for x in range(1,11)]"
      ],
      "metadata": {
        "colab": {
          "base_uri": "https://localhost:8080/"
        },
        "id": "KoL4NZxm4R1B",
        "outputId": "6d06a77d-7307-4711-fc38-cccd930d4c1c"
      },
      "execution_count": null,
      "outputs": [
        {
          "output_type": "execute_result",
          "data": {
            "text/plain": [
              "[1, 2, 3, 4, 5, 6, 7, 8, 9, 10]"
            ]
          },
          "metadata": {},
          "execution_count": 81
        }
      ]
    },
    {
      "cell_type": "code",
      "source": [
        "# The list of numbers\n",
        "list_of_numbers = [1, 2, 4, 6, 11, 14, 17, 20]\n",
        "# create a new list to store the square value\n",
        "[i*i for i in list_of_numbers]"
      ],
      "metadata": {
        "colab": {
          "base_uri": "https://localhost:8080/"
        },
        "id": "ZRlDM16z4wO1",
        "outputId": "620119b8-65f6-44b5-feb3-dfefc23c629b"
      },
      "execution_count": null,
      "outputs": [
        {
          "output_type": "execute_result",
          "data": {
            "text/plain": [
              "[1, 4, 16, 36, 121, 196, 289, 400]"
            ]
          },
          "metadata": {},
          "execution_count": 82
        }
      ]
    },
    {
      "cell_type": "code",
      "source": [
        "# Let's do the same using a for loop\n",
        "list_of_numbers = [1, 2, 4, 6, 11, 14, 17, 20]\n",
        "square_list = []\n",
        "for n in list_of_numbers:\n",
        "    square_list.append(n*n)\n",
        "square_list"
      ],
      "metadata": {
        "id": "KgkksPrm5NR6",
        "colab": {
          "base_uri": "https://localhost:8080/"
        },
        "outputId": "da4b331a-bc87-4092-9df6-5d11b47f4284"
      },
      "execution_count": 1,
      "outputs": [
        {
          "output_type": "execute_result",
          "data": {
            "text/plain": [
              "[1, 4, 16, 36, 121, 196, 289, 400]"
            ]
          },
          "metadata": {},
          "execution_count": 1
        }
      ]
    },
    {
      "cell_type": "code",
      "source": [
        "## C:w please write a LC code to get first 20 number\n",
        "n=[x for x in range (1,21) if x%2==0]\n",
        "print(n)"
      ],
      "metadata": {
        "id": "whOleJdPC7dq",
        "colab": {
          "base_uri": "https://localhost:8080/"
        },
        "outputId": "a845f89a-89de-4d79-b39d-2d3b5d94db2a"
      },
      "execution_count": 4,
      "outputs": [
        {
          "output_type": "stream",
          "name": "stdout",
          "text": [
            "[2, 4, 6, 8, 10, 12, 14, 16, 18, 20]\n"
          ]
        }
      ]
    },
    {
      "cell_type": "code",
      "source": [],
      "metadata": {
        "id": "4bHgpnYCpXzG"
      },
      "execution_count": null,
      "outputs": []
    }
  ]
}