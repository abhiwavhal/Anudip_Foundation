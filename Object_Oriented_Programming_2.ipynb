{
  "nbformat": 4,
  "nbformat_minor": 0,
  "metadata": {
    "kernelspec": {
      "display_name": "Python 3",
      "language": "python",
      "name": "python3"
    },
    "language_info": {
      "codemirror_mode": {
        "name": "ipython",
        "version": 3
      },
      "file_extension": ".py",
      "mimetype": "text/x-python",
      "name": "python",
      "nbconvert_exporter": "python",
      "pygments_lexer": "ipython3",
      "version": "3.7.3"
    },
    "colab": {
      "provenance": [],
      "include_colab_link": true
    }
  },
  "cells": [
    {
      "cell_type": "markdown",
      "metadata": {
        "id": "view-in-github",
        "colab_type": "text"
      },
      "source": [
        "<a href=\"https://colab.research.google.com/github/abhiwavhal/Anudip_Foundation/blob/main/Object_Oriented_Programming_2.ipynb\" target=\"_parent\"><img src=\"https://colab.research.google.com/assets/colab-badge.svg\" alt=\"Open In Colab\"/></a>"
      ]
    },
    {
      "cell_type": "markdown",
      "source": [
        "# Introduction to Object-oriented programming\n",
        "Introduction to Object-Oriented Programming in Python: In programming languages, mainly there are two approaches that are used to write program or code.\n",
        "\n",
        "## 1). Procedural Programming\n",
        "## 2). Object-Oriented Programming\n",
        "The procedure we are following till now is the “Procedural Programming” approach. So, in this session, we will learn about Object Oriented Programming (OOP). The basic idea of object-oriented programming (OOP) in Python is to use classes and objects to represent real-world concepts and entities.\n",
        "\n",
        "A class is a blueprint or template for creating objects. It defines the properties and methods that an object of that class will have. Properties are the data or state of an object, and methods are the actions or behaviors that an object can perform.\n",
        "\n",
        "An object is an instance of a class, and it contains its own data and methods. For example, you could create a class called \"Person\" that has properties such as name and age, and methods such as speak() and walk(). Each instance of the Person class would be a unique object with its own name and age, but they would all have the same methods to speak and walk.\n",
        "\n",
        "One of the key features of OOP in Python is encapsulation, which means that the internal state of an object is hidden and can only be accessed or modified through the object's methods. This helps to protect the object's data and prevent it from being modified in unexpected ways.\n",
        "\n",
        "Another key feature of OOP in Python is inheritance, which allows new classes to be created that inherit the properties and methods of an existing class. This allows for code reuse and makes it easy to create new classes that have similar functionality to existing classes.\n",
        "\n",
        "Polymorphism is also supported in Python, which means that objects of different classes can be treated as if they were objects of a common class. This allows for greater flexibility in code and makes it easier to write code that can work with multiple types of objects.\n",
        "\n",
        "In summary, OOP in Python allows developers to model real-world concepts and entities using classes and objects, encapsulate data, reuse code through inheritance, and write more flexible code through polymorphism."
      ],
      "metadata": {
        "id": "bjAi5HrGB0tx"
      }
    },
    {
      "cell_type": "code",
      "source": [
        "class person:\n",
        "  name='Abhi'\n",
        "  job='DS'\n",
        "  salary=90000\n",
        "\n",
        "a=person()"
      ],
      "metadata": {
        "id": "bdXexnCPB-qh"
      },
      "execution_count": null,
      "outputs": []
    },
    {
      "cell_type": "code",
      "source": [
        "b=person()\n",
        "\n",
        "\n",
        "num=7\n",
        "for i range()\n"
      ],
      "metadata": {
        "id": "j5jm1n6vB-x7"
      },
      "execution_count": null,
      "outputs": []
    },
    {
      "cell_type": "code",
      "source": [
        "b.name=\"Jenny\""
      ],
      "metadata": {
        "id": "ZUHM7QuuB-0_"
      },
      "execution_count": null,
      "outputs": []
    },
    {
      "cell_type": "code",
      "source": [
        "b.name"
      ],
      "metadata": {
        "colab": {
          "base_uri": "https://localhost:8080/",
          "height": 36
        },
        "id": "Vfy2xfemB-4J",
        "outputId": "b5edfa85-fc57-4f2f-c1dc-06d5519cfc86"
      },
      "execution_count": null,
      "outputs": [
        {
          "output_type": "execute_result",
          "data": {
            "text/plain": [
              "'Jenny'"
            ],
            "application/vnd.google.colaboratory.intrinsic+json": {
              "type": "string"
            }
          },
          "metadata": {},
          "execution_count": 16
        }
      ]
    },
    {
      "cell_type": "markdown",
      "metadata": {
        "id": "wN8Oom8TtUcj"
      },
      "source": [
        "# What is Production Environment?\n",
        "\n",
        "Production environment is a term used mostly by developers to describe the setting where software and other products are actually put into operation for their intended uses by end users.\n",
        "\n",
        "Concepts that will be useful in writing production grade code:\n",
        "* Object Oriented Programming\n",
        "* Handling Errors and Exceptions"
      ]
    },
    {
      "cell_type": "markdown",
      "metadata": {
        "collapsed": true,
        "id": "tY-zYTU6tUck"
      },
      "source": [
        "# 1. Object Oriented Programming\n",
        "\n",
        "Object Oriented Programming (OOP) tends to be one of the most interesting concepts to learn in Python.\n",
        "\n",
        "For this lesson we will construct our knowledge of OOP in Python by building on the following topics:\n",
        "\n",
        "* Objects\n",
        "* Using the *class* keyword\n",
        "* Creating class attributes\n",
        "* Creating methods in a class\n",
        "* Learning about Polymorphism\n",
        "\n",
        "Lets start the lesson by remembering about the Basic Python Objects. For example:"
      ]
    },
    {
      "cell_type": "code",
      "metadata": {
        "id": "074xnaDptUcl"
      },
      "source": [
        "empty_list = []"
      ],
      "execution_count": null,
      "outputs": []
    },
    {
      "cell_type": "code",
      "metadata": {
        "id": "CKsj93ax1H-y",
        "colab": {
          "base_uri": "https://localhost:8080/"
        },
        "outputId": "e88bf0ad-6f84-4a9e-c0f2-5f9c7486f8f4"
      },
      "source": [
        "empty_list"
      ],
      "execution_count": null,
      "outputs": [
        {
          "output_type": "execute_result",
          "data": {
            "text/plain": [
              "[]"
            ]
          },
          "metadata": {
            "tags": []
          },
          "execution_count": 2
        }
      ]
    },
    {
      "cell_type": "code",
      "metadata": {
        "id": "zm9GXzT20P-2"
      },
      "source": [
        "another_empty_list = list()"
      ],
      "execution_count": null,
      "outputs": []
    },
    {
      "cell_type": "code",
      "metadata": {
        "id": "MjiSihea1LJr",
        "colab": {
          "base_uri": "https://localhost:8080/"
        },
        "outputId": "fd434706-a70e-46d2-9f19-d02430e1fdcb"
      },
      "source": [
        "another_empty_list"
      ],
      "execution_count": null,
      "outputs": [
        {
          "output_type": "execute_result",
          "data": {
            "text/plain": [
              "[]"
            ]
          },
          "metadata": {
            "tags": []
          },
          "execution_count": 4
        }
      ]
    },
    {
      "cell_type": "markdown",
      "metadata": {
        "id": "_7YoNowOtUco"
      },
      "source": [
        "Remember how we could call methods on a list?"
      ]
    },
    {
      "cell_type": "code",
      "metadata": {
        "id": "zXhwOgpPtUco"
      },
      "source": [
        "another_empty_list.append(2)"
      ],
      "execution_count": null,
      "outputs": []
    },
    {
      "cell_type": "code",
      "metadata": {
        "id": "7Qj0Tcow1UQ3",
        "colab": {
          "base_uri": "https://localhost:8080/"
        },
        "outputId": "9f85b0ce-4a5e-4e89-acc4-348dd53d7e60"
      },
      "source": [
        "another_empty_list"
      ],
      "execution_count": null,
      "outputs": [
        {
          "output_type": "execute_result",
          "data": {
            "text/plain": [
              "[2]"
            ]
          },
          "metadata": {
            "tags": []
          },
          "execution_count": 6
        }
      ]
    },
    {
      "cell_type": "code",
      "metadata": {
        "id": "L-u_85Po1ZiQ"
      },
      "source": [
        "another_empty_list.append(1)\n",
        "another_empty_list.append(3)"
      ],
      "execution_count": null,
      "outputs": []
    },
    {
      "cell_type": "code",
      "metadata": {
        "id": "MbxECXha1dLP",
        "colab": {
          "base_uri": "https://localhost:8080/"
        },
        "outputId": "ef51b04b-a177-44ab-8c27-d519db99b1d8"
      },
      "source": [
        "another_empty_list"
      ],
      "execution_count": null,
      "outputs": [
        {
          "output_type": "execute_result",
          "data": {
            "text/plain": [
              "[2, 1, 3]"
            ]
          },
          "metadata": {
            "tags": []
          },
          "execution_count": 8
        }
      ]
    },
    {
      "cell_type": "code",
      "metadata": {
        "id": "q_BaBJeayeAR",
        "colab": {
          "base_uri": "https://localhost:8080/"
        },
        "outputId": "53a170bc-7421-4a42-ddde-1a5b696b4442"
      },
      "source": [
        "another_empty_list.index(3)"
      ],
      "execution_count": null,
      "outputs": [
        {
          "output_type": "execute_result",
          "data": {
            "text/plain": [
              "2"
            ]
          },
          "metadata": {
            "tags": []
          },
          "execution_count": 9
        }
      ]
    },
    {
      "cell_type": "markdown",
      "metadata": {
        "id": "KvpqGgLLtUcr"
      },
      "source": [
        "What we will basically be doing in this lecture is exploring how we could create an Object type like a list. We've already learned about how to create functions. So let's explore Objects in general:\n",
        "\n",
        "## Objects\n",
        "In Python, *everything is an object*. Remember from previous lectures we can use type() to check the type of object something is:"
      ]
    },
    {
      "cell_type": "code",
      "metadata": {
        "id": "x6xnvszD4jNA",
        "colab": {
          "base_uri": "https://localhost:8080/"
        },
        "outputId": "0ed03f96-f28d-4baf-98df-65192abae4ff"
      },
      "source": [
        "the_sixth_sense = 6\n",
        "print(type(the_sixth_sense))"
      ],
      "execution_count": null,
      "outputs": [
        {
          "output_type": "stream",
          "text": [
            "<class 'int'>\n"
          ],
          "name": "stdout"
        }
      ]
    },
    {
      "cell_type": "code",
      "metadata": {
        "id": "e8BHON1jtUcs",
        "colab": {
          "base_uri": "https://localhost:8080/"
        },
        "outputId": "460750e1-4bd4-4907-815d-167c639e66f4"
      },
      "source": [
        "two_and_a_half_men = 2.5\n",
        "print(type(two_and_a_half_men))"
      ],
      "execution_count": null,
      "outputs": [
        {
          "output_type": "stream",
          "text": [
            "<class 'float'>\n"
          ],
          "name": "stdout"
        }
      ]
    },
    {
      "cell_type": "code",
      "metadata": {
        "id": "d3wRT6DL5H3Q",
        "colab": {
          "base_uri": "https://localhost:8080/"
        },
        "outputId": "ee2e66f8-ec69-4d89-8413-81bfbf2c1733"
      },
      "source": [
        "schindlers_list = list()\n",
        "print(type(schindlers_list))"
      ],
      "execution_count": null,
      "outputs": [
        {
          "output_type": "stream",
          "text": [
            "<class 'list'>\n"
          ],
          "name": "stdout"
        }
      ]
    },
    {
      "cell_type": "code",
      "metadata": {
        "id": "T9s5C_AryiU9"
      },
      "source": [
        "another_list = list()"
      ],
      "execution_count": null,
      "outputs": []
    },
    {
      "cell_type": "code",
      "metadata": {
        "id": "_IiPXPfK5G8O",
        "colab": {
          "base_uri": "https://localhost:8080/"
        },
        "outputId": "ab99df79-f2c1-4acf-fb77-a579380c9af0"
      },
      "source": [
        "tharoor = {'farrago':'a confused mixture'}\n",
        "print(type(tharoor))"
      ],
      "execution_count": null,
      "outputs": [
        {
          "output_type": "stream",
          "text": [
            "<class 'dict'>\n"
          ],
          "name": "stdout"
        }
      ]
    },
    {
      "cell_type": "markdown",
      "metadata": {
        "id": "4RUiqsextUcu"
      },
      "source": [
        "So we know all these things are objects, so how can we create our own Object types? That is where the <code>class</code> keyword comes in.\n",
        "## class\n",
        "User defined objects are created using the <code>class</code> keyword. The class is a blueprint that defines the nature of a future object. From classes we can construct instances. An instance is a specific object created from a particular class. For example, above we created the object <code>another_empty_list</code> which was an instance of a list object.\n",
        "\n",
        "Let see how we can use <code>class</code>:"
      ]
    },
    {
      "cell_type": "code",
      "metadata": {
        "id": "-St1spSutUcv"
      },
      "source": [
        "# Create a new object type called FirstClass\n",
        "class FirstClass:\n",
        "    pass"
      ],
      "execution_count": null,
      "outputs": []
    },
    {
      "cell_type": "code",
      "metadata": {
        "id": "wm_mkKWZtUcx",
        "colab": {
          "base_uri": "https://localhost:8080/"
        },
        "outputId": "5dc324dd-ad80-43b3-b791-ed3c22c5e610"
      },
      "source": [
        "# Instance of FirstClass\n",
        "x = FirstClass()\n",
        "print(type(x))"
      ],
      "execution_count": null,
      "outputs": [
        {
          "output_type": "stream",
          "text": [
            "<class '__main__.FirstClass'>\n"
          ],
          "name": "stdout"
        }
      ]
    },
    {
      "cell_type": "code",
      "metadata": {
        "id": "110XHhG_tUcz",
        "colab": {
          "base_uri": "https://localhost:8080/"
        },
        "outputId": "69859b4d-e420-422d-eb75-b84b48afc727"
      },
      "source": [
        "y = FirstClass()\n",
        "print(type(y))"
      ],
      "execution_count": null,
      "outputs": [
        {
          "output_type": "stream",
          "text": [
            "<class '__main__.FirstClass'>\n"
          ],
          "name": "stdout"
        }
      ]
    },
    {
      "cell_type": "markdown",
      "metadata": {
        "id": "0GzJ7pXVtUc2"
      },
      "source": [
        "By convention we give classes a name that starts with a capital letter. Note how <code>x</code> is now the reference to our new instance of a FirstClass class. In other words, we **instantiate** the FirstClass class.\n",
        "\n",
        "Inside of the class we currently just have pass. But we can define class attributes and methods.\n",
        "\n",
        "An **attribute** is a characteristic of an object.\n",
        "A **method** is an operation we can perform with the object.\n",
        "\n",
        "For example, we can create a class called Dog. An attribute of a dog may be its breed or its name, while a method of a dog may be defined by a .bark() method which returns a sound.\n",
        "\n",
        "Let's get a better understanding of attributes through an example.\n",
        "\n",
        "## Attributes\n",
        "The syntax for creating an attribute is:\n",
        "\n",
        "    self.attribute = something\n",
        "\n",
        "There is a special method called:\n",
        "\n",
        "    __init__()\n",
        "\n",
        "This method is used to initialize the attributes of an object. For example:"
      ]
    },
    {
      "cell_type": "code",
      "metadata": {
        "id": "v9cCQCqPtUc2"
      },
      "source": [
        "class Dog:\n",
        "\n",
        "    def __init__(self, breed, name):\n",
        "        self.breed_attribute = breed\n",
        "        self.name_attribute = name"
      ],
      "execution_count": null,
      "outputs": []
    },
    {
      "cell_type": "code",
      "metadata": {
        "id": "JLdPP81ptUc4"
      },
      "source": [
        "sam_object = Dog(breed='Lab', name = 'Sam')\n",
        "frank_object = Dog(breed='Huskie', name = 'Frank')"
      ],
      "execution_count": null,
      "outputs": []
    },
    {
      "cell_type": "code",
      "metadata": {
        "colab": {
          "base_uri": "https://localhost:8080/",
          "height": 36
        },
        "id": "7ZdGFUwAeSu5",
        "outputId": "c75076ec-bd7e-4e19-f213-711e50df1dd2"
      },
      "source": [
        "sam_object.breed_attribute"
      ],
      "execution_count": null,
      "outputs": [
        {
          "output_type": "execute_result",
          "data": {
            "text/plain": [
              "'Lab'"
            ],
            "application/vnd.google.colaboratory.intrinsic+json": {
              "type": "string"
            }
          },
          "metadata": {},
          "execution_count": 3
        }
      ]
    },
    {
      "cell_type": "markdown",
      "metadata": {
        "id": "uIP-Vw97tUc6"
      },
      "source": [
        "Lets break down what we have above.The special method\n",
        "\n",
        "    __init__()\n",
        "is called automatically right after the object has been created:\n",
        "\n",
        "    def __init__(self, breed):\n",
        "Each attribute in a class definition begins with a reference to the instance object. It is by convention named self. The breed is the argument. The value is passed during the class instantiation.\n",
        "\n",
        "     self.breed = breed"
      ]
    },
    {
      "cell_type": "markdown",
      "metadata": {
        "id": "-mBKAs8ltUc6"
      },
      "source": [
        "Now we have created two instances of the Dog class. With two breed types, we can then access these attributes like this:"
      ]
    },
    {
      "cell_type": "code",
      "metadata": {
        "id": "nHsgoXD7tUc7",
        "colab": {
          "base_uri": "https://localhost:8080/",
          "height": 35
        },
        "outputId": "82fd2eff-0148-454b-bd14-e33065066a3f"
      },
      "source": [
        "sam_object.name_attribute"
      ],
      "execution_count": null,
      "outputs": [
        {
          "output_type": "execute_result",
          "data": {
            "application/vnd.google.colaboratory.intrinsic+json": {
              "type": "string"
            },
            "text/plain": [
              "'Sam'"
            ]
          },
          "metadata": {
            "tags": []
          },
          "execution_count": 18
        }
      ]
    },
    {
      "cell_type": "code",
      "metadata": {
        "id": "gH38mpAPtUc9",
        "colab": {
          "base_uri": "https://localhost:8080/",
          "height": 35
        },
        "outputId": "1d50416d-747b-46ca-ed3c-3d86fbe69576"
      },
      "source": [
        "frank_object.name_attribute"
      ],
      "execution_count": null,
      "outputs": [
        {
          "output_type": "execute_result",
          "data": {
            "application/vnd.google.colaboratory.intrinsic+json": {
              "type": "string"
            },
            "text/plain": [
              "'Frank'"
            ]
          },
          "metadata": {
            "tags": []
          },
          "execution_count": 19
        }
      ]
    },
    {
      "cell_type": "markdown",
      "metadata": {
        "id": "nOUFB6IGtUdD"
      },
      "source": [
        "Note how we don't have any parentheses after breed; this is because it is an attribute and doesn't take any arguments."
      ]
    },
    {
      "cell_type": "markdown",
      "metadata": {
        "id": "AZ1ToQpltUdE"
      },
      "source": [
        "## Methods\n",
        "\n",
        "Methods are functions defined inside the body of a class. They are used to perform operations with the attributes of our objects. Methods are a key concept of the OOP paradigm. They are essential to dividing responsibilities in programming, especially in large applications.\n",
        "\n",
        "You can basically think of methods as functions acting on an Object that take the Object itself into account through its *self* argument.\n",
        "\n",
        "Let's go through an example of creating a Circle class:"
      ]
    },
    {
      "cell_type": "markdown",
      "source": [
        "![image.png](data:image/png;base64,iVBORw0KGgoAAAANSUhEUgAAA3QAAAD9CAYAAAD0xzU2AAAAAXNSR0IArs4c6QAAAARnQU1BAACxjwv8YQUAAAAJcEhZcwAAEnQAABJ0Ad5mH3gAAP+lSURBVHhe7P33c2RXliYIfgAc7nBorTUQCK2DZFAlmSSTKchkZlbV9EzbWq/Z/jLbf8b8HWtr27s20zNWXd2dmSSDwYhgaK21gtYacIc7HA4XAPb7zvMHOBAIMkhmZiWrcSIu3vP3rjz3yKtexgoBPylQdf+aVc7YcN2CLfjpwauytRMvPW4GMoz0X5H+U3GVwxbnbMEWbMEWbMEWbMEW/O1hy6F7AbbM0i34twsb2f37OHQZzot14KbUdYtztmALtmALtmALtmAL/vaQmbpuwRZswRZswRZswRZswRZswRZswU8Mthy6LdiC/+FBc2puEGzNsW3BFmzBFmzBFmzBFvxUYMuh24It+B8YtIxyY/gx8LLUWpK5nLqmL/Dcgi3Ygi3Ygi3Ygi3Ygh8HWw7dFmzB/0Dwl3Tevg+kO3RbsAVbsAVbsAVbsAVb8JeDLYduC7ZgC/6y4E7DpUL6zy2nbgu2YAu2YAu2YAu24C8LP1GHbmuPzxZsgQPp7tK/LnwXV76shlsO3hZswRZswRZswRZswQ+Hn6BD55qNm5mPevZ9nm/BFvyUwXWFNl7//kA1c0M6/P3XfAu2YAu2YAu2YAu24O8bfsIzdBudNPf+Jc9XeFX4W8CWdboFf21Y9Y5+nEv0F99H9wrV2FjjH9eCLdiCvzJsEea/bVD/bvXxFmzBFvzE4Sf4YfF02Fj1bzNOXantBifuCq/OXXraDfm8UMwLD1LX9ZBe0uYxBG5ePyRGej1elj49jgsvL+tvAS5OXg4va9ertPfvAzbDugtOzd3dZPr1knEVN5OXNlUR3LAxH/d56lkqii7fCS8RCd/m/KWyTxXgpk/F52WJz9RiPVGNnDfO39W0m8BajHRIT/GylC5sqMu/CqTX/2X1WB9nrYV/D/V/ObxK7dJb5sJPoW0OqI7p9fzr1vXHYERpN0vn5rkZfFc5L8vzbw3pbdi8Pq+COSeO/rrtcmK/JM2rZLkpuAkF6xOvz3It3pod8u3g1vunD+k4Sofv17qX4VPg4Ep/18faGHutxJc9X4MV/nOer739tvjfDW5qQXoOL3v+/eAvk8t6+HHt/SGwscTvblV6DMGPravy+9u194fDT3SGzoUfgmJ1jRPcTndYND2kwI26EeyZ/rz8IPb0t6vwQrQX022ETWPo4cbg/HkJrIuYdv3bw3fXYGOM77p+D/gBSb4vqIjvKsZ5r78uhei6AdIzSr9/AdyXKbpdF895J//M7nRNCy+FtFMw08O3wdpbK8m5TbtK0GTZ1X3vvNsYcyOkc6kTXs5zL8LGtP8akF6H9Gs6rH+3vs268PqtHfY3hk2q8rLavdrzv6O2bQprNOf8++vD9y3Djf9D020GPzRPAyVyw4+EjVn8mCzdHtQ/9epGybtp3n+BNgjSs9ns/ruKedV4f/+Q3hI3fH9Yn2p9nvrn3Lu9nAorTlhZDYxp8lXRnfu1wGeC1JVPUtc1SL///rAxtfv7Zc9fERQ9LcnLcv0h8JfI4/tBemPSS9e9+jR1mx4tBemPN7x6ZUhP+0Pz+FvCT9yhI5KJ5bXwXSjXeyesZ85NnDjnxXqw56mX7nWTiOlvRHIWw43mXlfBjfntsBpj0/Spy3dnQ3AjvVLkvxykFffdNXjZm2+p87e8MvjuQv+ioGJeFvTXMSeWGFYpxMCl5VVYS7QJbHjh/rSrmzD1kJfU3bo3G8MPgo0ZiJ02zGJrpNSdmVNIj+6C+yw9CFxeffGt+zwFmzza5MG/Arh1+O66bGY0rMLfYVO+rUrpUdODAy8++V7wsmTfN7v0amwMBroRjzp8uvr4LwmvkqlbJzdsAt+WzcbkbvgueJU462CzjL93JoQN+bg/12W17sELbzcB573+Oj3q9Kebyr233+7D7w0bc1sP65+u/XqBstxXmzz+twEbW+L+/jEt3CxPhc11rWCNAhjSXq3epj0TrPXT+hfrfm1I8+2gyJsleNnzjcAa0WAw23fVeFhL5/5ae/KXgXX5vUrm6RV5WfxXzWezjNxbXg0fqX/q8b8EpGW/Hl548K8LP+kll07NN1Y/wwzGF8AeKq7EuEAPnPkCJ35qKl0PlLHNSDhvNgfFcXJyYH38NdHhGrJ8pwcvZOnmsXlZG0swWH2Y9valMyiKo7Dx/cvi/3UhvT0urK+JG2OtzmvLUdJTp6fi89Xo63MzeFmyV4b0DF4FnIUeLwPnratgRIOiEAU+F+3xf4b9TgPWW1tA16qvPBRcSstiWE/PTsjEsi6pX+mwGcm4jzZ59SNAJbv1VOuVu9O+9Dq5Zb5QT0uxUTQrthu+DdzcXoy3sZxXge8qbXPYrJUbYS1OShLxb+qZCTo++5ZZ0ldtyw+rv5P/atq0H265L8v32+q1nktepWbfVdpfCNZVSz/EqyozPRD+CtV5KUbSXwg2KXOtOmuR05O9LIvNNOa3F7fx7QZ4IfEmld0EHFMkJe3XJXkVSnFjfFtZMvGcmGuxndYrOM9c7iOk77n/tmxfADd3wfqEa+UK1uKlWv2doBTfqyp/l6BWvAxHm7cuPfbm4PabE9P961COm5q/7DY9pvMrI9XXdtSCrnpGHZXpPE6BQz/Oo1R8++vAuqivDJvlkKqBvdKztJwpj9JTOO1Ze2Kx9VM8x6Bb+5kKPxbWSvrL5Pdq4JbqlqjfKXtgRXaPrqlYjOK6cfptq4tS6f6i9XWrJPjbIeI74d+AQ+eC88Npzqtg2Injxs7IkNJOCQWznB037DvBuMetiOVkd6narOVvv78rPzcfwVpcNw8H+MuipZ5smmV6Pi58V9l/O/ju2jkxnL9rbzZvgZubrm6MtJgbC9s8k2+B9PxfBV5Sh3XlppwbLfnQC9Lasq6i3eVlxy0T/W2kwdStc3HycISXCnAXNDriK90dlEOnWGk5GWxmZ7mPNnn1LaDyBalU+rnu1q2jrqzjSqpdL0ZfBT1zn0stZawzqgXp998flPePgR9e8qvBGk7cmr68xB/Slu9T//T8Ld1a5XjrUpz92DTjzernRHPffEei1debPvxRsLFuLxbFm9WBO71NxdiY0IUfWa30klZhs7K+pRz1iZMkpc/SYGP+a27EWsyNxb1YlBtjs4qlYPUVU1sGm+SSUuDucu5lyj4tg8ugFW32qD3VXzekg9tGvXnx3YuwFkdv19Kuz9mhZxd4p4hpETbW+dXg2+uzGaSn+D4l/TRArXNbqNa9Oi6+DVyKcPTFenDzWO0/++uA3acirDl0okFRlhNzLb7epqdeTbrh6WbwijFZR/GBA45Od8CpmYKTE587/1OwFtPqTfvBYvOPnn8vkv0WcMpOL/cvDd9RQhp+nBanrB2LrrRr1o714Pdo+Gb0sVodwSZZpb/+a8GrtiHd7vtpAznR7Yy19dEK6nw9U1CcVGCfG03oanGWGJKph8onlRfx6D7ZHFxEK9Ya6KlCOju+GrglrZW4lj5VLxkYFpyn6yEVZzW9W5MfCsKNE/5SkF4bN9f1ubt1dmJuGkc/3JD+Jv152uMfB98no1TcjXVYvXfpRG1zHBs5c040/RXNihZ1jAj/sZ9FgxYsztrV7qxfLKZSWu7Ok7Ub97cbBH8p4f5izg6kP3Xe6G+q7c6DTSG9WmtpN1Y25RC+CriZpAVdBBsev1L4QbBZRt8WCGut011aW1PvXXB/pif/tvB9wU2z7ppWHYdy0ySkGzEN3BakBwfSfildekgHe/aylz8M0nPbGNYD66cBCAtrNV+tetojg80zeWXYLMtXBivXKdyRCGtVSc/TvXeuqRhuxBRsls4B982GBBtBCS18R7wNYLrGJJl7jFIqvS5ucJ/x6rZzPaRHdsMaqFqSIJtJEee3G5/XjRF+EKTXww0bIO3Rxphprzb8+LcAr47gzXCi1ArOM0kj94kLssDSw4a0Gx+swnr+WYV0GZCCjSVuDum5vZDrC2DijuSv61pgnVJ2LX9ZoYrmcoFz7wSnQmvYSP38i8Bqft8Fr1LeC3HcFrhhczD8pIJa7mBkDQ/69T2shBchLf91kPZ8s9f/2vATnaFTldlVKaS64BK6dW96s4wJxexkaCpmS53W0xlI8jcD32RkeHjN4kORgwOKr+w2EsdqHqtSYS2NAynGe2XSUlwXXhbfjfNt+b1KnFeDjeSx3hHYmL/ifleZa3HSc94slfN+fZ7r4rl100O7541bwfTMV4EPVzOwRM7tKqy+3ACOmNj8rfvUESTuiN7q83VFpJfPe/43CuEz5Z4p+l2me2d0nImMLI89V9NcPaLmuVnYrBUdP+Ui2l62EblMpWReTgylU24KKs9Nv5bH5vCy5y+CFZSCF1PprWOg8R8boqUtCpk2A+nEMUi7d9I4QY8drvr2cn4IuDm+as5ufQTfuwbpideVKOAL99H3zvjF3L4Lvm8R6fmva4L9WL35YSDiTufZb83KrcmPKG8TcHMVrOac/tCFbyv2u6q2aSGvCK+aVvHsvSOLXi6zHHDepWJYGbxP+/nytK6ss0TfAd+SS6pMt/uXlykplpeQKdFgTM8I1NcmU9P0sUMzJlHspyNz095vWq8X62HZ6ObFVwbppOmCqw+/3wydYGOdvj19euzvW9LfP3y/1m3E3OZP1vLRnfNL8dae65fZiG4f6p37mo9cqtYM8Vo/O3S1lssPBSe/V8qJZa/IDtAt/yqlk3qN5kWYqpt+KYaRY3q73Du+cB4rzsvLTuW6Cq9Qy78iuLXZvBbqG83mrwHjpaKqic6t/gp7aS82BQeDLqz2u/2w2zVwo6VVb2MUBzZ/ml7O94VXlTc/QYcuvbppGE2115nZcIxcwwH7fXlJxJyFpeVMJJZE/jR66bNlZfFeCoQOXWYGr0YN2TSCaUgzXyW3PHi/RAJKJBgvK2v1mZCcyTyybKG1Rk6ofHS7CiI6VVBCYd2LNFjfALc31uezBtZd7ksz/AUO47qgOC8SAEXB6vP179JJYGO69Hfp9y58d7lOHDetE8ee2m/93ZjrC/Ht4cb81Y/8zWgSwE4mvLqv12Wa+qHIKc/IeeJG0tXFoZuBA24M3a1/48JagWtx9czBtwNO/vq5Hj9OGmsv30s8684imieWIf8OSd0rmWiWpKQs9NPiLscZkiCJm0MnJ9BDWl9eWnacJlpHohJxhGDV7FHBLMeMJ8vNAT228lOwvr7rYa19AuFPV/eZk06/EktLVn5CdWKDcjyqo96zcEXwMGwC63NSeapP6scqbIz1IijGy98Sb8zYaMn+peKqILd9vNed9Rb/Cyfflt93g5ObXQRWVirHTTMWLfGSavwLUVR/e+i+ceJv1ncvPlkPbp+uS6v87TlxJILhVca3DAo3nqVyCmUZ+vWyktbqpjwVTO6uAu9flvSvDU4jrA2rYO0W/Lh6KRsXt5nrN+aswqa43wQsluJalVJxnaQOuI+kH16SV/pTK1fpGdeef2f5a4W9LKZiuLEUx4m3lk5PnOayzFQmVg3+yaCc1rqFZdbf7DbSmYdyzeLwn5w+0ZibzjG6nVKcPAWplwZr5abjNpmkPic9K2wElSv8ZUngbgCnjmv5pP92+jC9vPXp7Q3/pCXfHNyGbIiop+6T9HuDtca/QgGbg1N/Jf/+6TfixYX0PN379eA+Ey1skl5hXTp7YnH1T8OFjgB0aOnbai69KFtOoH5fk2ekNb5Tf2fRxltKapWMfmtwX7Gduqnkb8s/vZrpTdHzF5vmyD+nzd+aq2Xg6Cn9cuM6dZI40RPVV++l95eoc5X3Gv0qkrD1IqRVeRU2i/cycPpG7VijdctTz9PKdPtQzbU22Hv9f3lpDn5SP1LxhAU9t+ycP/bcAdrj6jOCLeG2JwxrmawDJ/9U31pe68FS6XGazF6xQwnUgrRnq/mrXo7v4ebpZOuWoXjpbXo1eFn9N8JP1KFzq5xGQPZICkySeInEn0RscQFTk9MYGhzCfDiKkvIabNu+F74cP0w/MK7NciwlEF+M4PnTZxgancJceBGtbdvR2tKA+tpKK07MtJTqnJnZGfT392N2Zgbe7GxUV1cx/zDm5uYQmgtj//79qG+oRV5enmqmgqwjrUvW9Qvz4z/nkdMWtzde1n96nYrCdBJMLmGtx8WL6V1Cy8T4+Dhu3bqF0tIyVFVVoba2Ftlsh8sIDriEuAbKU89cknGJzLk49+nklP7cBb13n9vEplsOn7kpLd/0fBgcTDnP1pjHyUNjuE4Mx6F2U7K5llhiWEaC80a/BE6atdiCNOGX+iv+c2Pot/PmRdiYk2oTDs2hq+s5IpF5+Hx+tLS0o7CwiPe+VOYaBHBSqV+yLHP2ajyG2ekAnj3rQrYnB0Vl5aiua4TXn8V+Yi0tLWOSzjUYsZJcxNx8BANDwxgdn0AilkBraysWIguYCYawEEsyfQOaGhpQUlLMPFiWlZTKawO8TCSkC5W1OM4z+2s4lutG/kssY2omgLHxScyEwsgvKkFxZSWqi4uRy/IzYqzz3Dy6u/swOjKO2bkAcvJzkOXNIm962O5sVFZVopjpBvoGrC+LS4qwffs2FBUVwsM4hoRVrKsGaY3hY3vDR2sxxCspolgNfM+20He23ndo0nm+ltK5M1lMcOjt1UBoSkMbwXJK3aXyl2zYYPhtBCeuQ7vKbrMabOy39UrAfbc+pdI40Zznbh7r0hoj6TkDH8dIn5H5KA1izaZkGz3n5ObQ6M5yc0kF/UrLh6D8nTJTMTeUn37/bfkI0vP5dnDz+A5gNDkLg4ODGBsbo5yfRUtzM+pqalFcWuJW7geBi1fBy+rsxvmuNq3lxDv+d2Kn0igPl6l5r7gO3TpaIvVmA6hP0vJJj2Qv1h6k06F+iV82ptM7N1gc/nV4Lx1ST5XeTcd7GUsaJFW6pUQC4UgE45OTePz4CeVnC7Zt24b8PL/lt36YysnPuV8DN3/hVvpPRnw8HkcwGKRs7sbQ0CACgVnk0CYoLi5Fbm4+5ilLKyrK0djYgIaG+jSj2M3HobvN+snpQ6eshYUoaWkIIyOj1vrm5ia2oZWyK12CKL7+Ov2zDpxXTrMITs5rLXXvDaxc9xfveZuO8bW7HwavQpsuXjaC81x3Tn+vBz1QfV0MuGEN3LKduGlXN0/7+6JUXpP0TvzlxJL1SZj9q0FgP+0zr3QxYXFxEY8ePqRcm0dhQQFam1tQWlYMb47eOyU4uTilbCzLAYePBG57DZzkm4C4ye0l/WVIyyARjdJWG0NndyfpMhfllVVoam5FJnWjYiuqylEQhQpP4fC8ya7nzztJtxnYt28v21ECvz+P8YRhpVwPa26PwLlfpfiX1j0dUnVORXR/uUk3S653arsLm9eMcaR7jDYcHlc/RRYWsEDc+P058OfkIMfrRZRyYnRsHA8fPEIl8VTXWI+6evJutnQS/63SEHNxOucFWKOzF+O4vxXH6FnP7K8DeuKk5p0ZEWt5OeCk+Gs7dFn/GyF1/xOE9Y20kTvDm0b2kpiPhNHd04er127gyvVbiCwm0d6x24wPGcZYWUR2Fg3iOJl8dhonjx/H8eNncObcTeaRixI6PE2NVaYQNYqclblCQzhJIT2C8xeZ57U7mBgdRi6t4+eP7+PqzTs4c/kGyuubUUknrygvV7VS1RxDUZVbrbIe8B0J1ukrp7NFUxaNQfdG9Pyh2AqKqqtAT503zi8nCJSne6/3zmiNpc/IQmdnN/7Tf/rfzcnNJjNUV9cQHx5TXCrTBZfAlZcF5a+6LDv5r5WYes9Az1cJU+8cB0s/jI71mherB4MB4+qZDGo5zMsZrKv6T4fUWCT+cSwS+ylbxS15rV7KZg0biq6qO5gnWBonOBWym9RVkFajVD6r0VLgCF6nLDeqgZIK3OTOxWJPzUzi7PkzePDwHiYmp1BVXYvcPDp0OV6LrjZroEAj0SKQLA1GyBlamMPoQB9OHfsSM6MjlmdpVTUyKbzkc5vbrVnn5UUqpgSQmMcknafL1+/g1LlreHDvAcoLi9H75BkuX7mGW3fvsawMM1IKCx1nSHh0cLkBhLg0WC/knNcb6UKZCOcZGvnUjOFKHHEK3K6eHtxg2XfuP8RicgV5haWoKiuFZyWJ8MyEGVQnTn2Db86dx7VrV+nYDaPz2TMK5ft48uwxFuOLNtJ47MvjePqkk8oqTCOrHvkFefDQKWRBDBqUUSvcIHDwaD3pOkqqty6qp/0TpOKrHatP3TwEvLemuqqHMSzud4ODJ8vagpNef52gPJx8FMlyXn0imkg9JqTiKxM+0a+1mO4vB6S0rBV85MRPA0V1Ie1del+6VwU9X81DF7slXpfiiASnaQgPYXh8CsFInErTS+Xqh9cMX+FK+FeS1YSr5dtpcszbfkoo2k9dU32l9/ZO/537VA3tr8C9e+HJ2gMHUmWugtqTKtvapnItDu9TaVeSCdy9cxNXr1zExUuXkJNfhMLyahSVFqVMCou17p9+pyTPhuCC2uaU6eDUSaU/qWL10i6WMvVwVWekIrvvVJoDvLpxU+kNVjNgrRjk9rg1dMHySgVlYuktj/Q3qfbxufWFRVY8XQksx/23Cmm3Fn31wfpfBpY+BakbycJMWy+exDJpbZpy7cGjp/jf/4//Cz5frg20FtKhW3Pc0nPU/boSrIvVLNGYVu9oQiakAdnOZzh96gTOnDlLPX4Dg8MjmJ6axAjp+vLlS5hfWER+SRkqa+vh8zi4W07Neri4XofzFFgN+CdjiTJubg63bt3G6TPnaGB3IS+/EE2trcj2uAMfMqVT/Wq/12HSycwF3q/FEzgp16Kk3toD57o+uZs6PbwM0lMypuHOib9Zm9PBfZ8e33nmPDfcrAvO+7WWu3XTb+eZveUjeyI54dad6fRrnTPHVw6PmLRiOukB6kg+i9JZGxoaxcjwmPWvj06Oh3YPlmNYnJ/C18f+iBu372Jkcg4VdS0oKyuH1/SMwKmj1cF5QEj1ndrqPnTpI/XbmVVjurVEKbCUfKOrwIngxJbts0T6mcGjR4/xxedfYXY2xLr60EhHM4v0I92tVTmpRAayUYPTM3hy/x6Of/4ndPf2oY7x/UV06OgQqgSnNbpLJeLF7lIVtIkH5zZVt1Q8e5aKY3/dXwLdrb1zgv5uxNeLYJqCOFJ7nCRrGHHyYQzrc0f6Tk1MYmhgEGPD48jOyEYebSm/z0OensKDB/fwn//P/4zQfBi+/HxUNzbCDH3m6fxzclb7rMv0PNXYdL420L1+2tWZBVYaySflYi2zPBTZsXOd3PnLDCv3FyEVx4mgHypX968O6+r2LeBS608e1F6bQrd2aynZCp0VD3y5fmSTcfvJxD0Dw5iLLNBQ1LS7DkCJEQFxLNMgDk6NYqCrE13PutHTNYynTwcxMDiFSExLxZQl/6xEyUULiIQpGEanMD4dAeU2aspL4FtJ2MjeRDCCuWQWYlriqao4JMvKsWIv9ImIRO91XUEyqRkb541gScsDGJJ0kpK6T71bi6I7pWew+qWuq89ZObZvhQJNB75oeaneLSzEMDIygcnJII1ktmm1YmQb1tNZhuI806ydg1fV38jYCaoo/zv3/JP6rTKk+Oz3ahqHlZJ8JqeNatFx3hRHSRlWn9OpWaEwW85I8LeWEmq2VRk7ZVl+Vj8G3asM1jUji/Wmp2P2Ox+5ZxjIaXLEplLbjzTQDzcoa+Wt9ltMAze6lphpRkIOhqGWL5bZX8t6llrCoWrKn9Uvwz6fz0cjmA5MYnJ6EguxRdaJ9bbYysKZL5KzlWTfLcsZQgxZpLOMWAjhiSHMjfSTNscQp3NDtWRtUt2yWFimDvFh/IyVCBYX5zE2NYORqTACQfZpMhNJ9m1wchozE1M2opVBBHko4ISjJVZUtLWO4FLgCg/RpIItR2FQVPfZarCYTrtXxAxJMkxygQUsIhqdxwSNpAEaS8FQBPEl0hHrsBhdQM/zRzh39htcvX4VWTk+fPTxL/DRBx9ge2sbM0tiamocgfAMeS+B2WAQk2zbzMwMYvE4607aYBxRDAvi1cG/A6oRf2ewLuYgp3o+9UdniNry1NUeXmuTJRUPqT9Xf/Md8aRBDMVZS+WAoll0FZUGljwVXFCdl40/3chr+QmTS8wkkSTNp2jKWQYkemNb0jLaWIdVsCj8k+q/deAgYF0+1h4+32x20O1zB8g/Ssb+TSyEMT7QhauXzuMknfE7j55jxZNDHrRhBraB9Vc7rW/SwNLzjwYieJHc0z/7oX4ype3wg8hSRevegtVDGQjcq0Dt4SXt0WpMVdgNKVB7xcerz3TRb5NXumeNEpTjoQCmx4cx0N9LGowgCq/xnrhN0azulHNq5xLp05XhG4MGFV98L3D6YhXHqfqofup38aXq6dCkrpL9qXd8TkpMy4l5uf2ti/Jz7wmKZ1KCbTT5y/sEHyYVeO9So5uf1YX9vJygXmT9VZLaqnrqlUVkUPam0lLlOC/XIP2X5ZEKTpv40ApN3afyUF62SkRyjXp2mYZ2ZGHeeL9vYAQzgXnKYOpVN/Nl0q2bj2XkvnBAqFDXJtlYp/56kMD48ADu3biCq2dPk/SW8M677+GT3/4Or732GirKiqkTg5iZCyK4GEeUSUzuWn4qTHaGoycFTp9JBqXKTsNHBnk5sRhDODRvs4yBUIgy0KjeyY9/JQ+UVv3oJl2F9c2xn4rr/kvVwP46fOTk6lz11snT0b6bBdVEeGEdVu2G9bVweCZFp/Z+M2BtrA/S4WVxHVD0F4LVR7RG+U4adPSTE38V9Jth1Ti3fynQI5egCRZVfU7bTL8mxkZx6uuTOPvNOTx50kldwncZHtBMhDeDunK6H6NjQxgLhBFe8mIpJdNSaHoRWGlHDrDOiqBG6Gr4fzk4+JRdI7y7mSuwLWICS5+kzg8hEJixCYRgYAGxmHDDmHxtKfhHvKDYLh9q3Uq2VpzNBRCi3gzHSMPUea7sWiYuVlL4kNIyB4W3Si4tYPkootspbt1Sv40eFBhJb9PBpQH9laxKWhuVXg/5VBXW1f5L3zkyTeksrV1TUS2oLOMSZuA08NmTJzhz6gxuXrmJ2bEZeIxsKRdp/4QC07RrBzAbmkE0GacNDizytdqudjl2rTNpYe1QfdLeCfe6SrAxipXvcrYkYUJ9zWf6rfRLSeJRFVXVLA8nL4HRJX9Yf6o8/lN+TlmKt/b+VcKrgvrw3wysaziZQrNOeQUFKK6oQIY3h8Z1DBPTs4jRYMqgw5ep2Q1QYc/PUIEPIRqegz/bj9rqFgr1FTJ3ENOzCTqA6hF1PuMvhhCN0AEM03D15KOwoBiVxYXwZzlCL7pCZ86Th3hGNiJLZKZYGPFomL4gjdw4SStFRLyhk5agUIlaSJI4SE6rfp+Kk6ElsZ2kYligYliIxrFIAnaZ2CF0PlBkBRKcrs6UrwRNDIuxCB24EEOYRn/U6qho8cVlCgwRpTJz8ObgT8bbCt8lmGaBTuo8DfMoElTwqocMTGVvQYmsIspDP0SsdBq09Ep1l0KjAb6wSGdERoJqzETiQRmvcRpPizHWMR4z5leMJJU5WRFxOjWxJJ0C1jnGuiSlma1Ep67CY5LCKrawiMUIA53U6GISRBEZT9gliLoVLImTzqmm7lMVToEZTayjluPI4ZWjGw4vIjK/SEGaUi6E9Bkf52APGmbskDj7Vk7TfIQOP+ksRmdPTlqCTppCksLbabczYu4GCYoY+z6ySFxH5kiOQT6cR05GHHkMPjpHK3EGpqePZu1xuol/MlUnOYF8z9yWQNpDDu99yKGRnZ/lRU5WNrIYNzMr02bmNLqnpKKDuIQ9+1jLFeLRRSTZdu0jsP5MgSts3SCHVjgSTYg+FoT/GIWdaQymtZnVBDwph0pCME5+S9LDXlrxmHG1MB/C1MSwCd8EBW9tYyOOvvUmDh04iJa6euT6fMafZCF4c7KNpjJMVQkBrBuJT++FQbVbz1ZrrLqT75CI0IplIO5VZzmCWmozFw4jxPYuqq2pJBoYWNvHxasyY52X6YDHF6IpHDHwukg+XGXhFBg/xVkGmTNOIyFBizm2SNomHYgmROMJOrpWS9Y9SUM5Go9QHoUtROj4LtDxX4wtGD4cJUhBzn9yJKU44uIR9o3YNU4lssj+ilEOxRmW2RbV1zpWdWdnLLFvVfc465xknYl44xm3fel9Kr6OsY4R4kX8rquWtiTIn2vxmJT1WiYtRuemMTU2YktcJoPzoChhexLkcbZRhiHbyJiUP8Q9810ifybmWZcI5RyNZDnIVgf+E9U6cSkLE+Qb8pqaw+xYD/Ih+0xLbOKUP3IWlcb9Z5VSXmxrIkxjn1cZCKtgdeb/FM2KXiVnTQkrrQI7T06c8lChtoyZ5WSusJ68T5BfI6TbCKPO0ToICT+U5XHmI3mmgSRH3qpcXddCgu2Jsl/nSe9adq3+TRJHbC3fk+7IkyZDGH2F/Sd5GJOclSxkn7h11rLDeaNZR06qXIfy2Xe6Wuc4YHfCAekwRjm2GFO/MAUVi0p1nDrKK8o66ZSQ6DqhdqZawPcalJMjGouR9imXEmyrlkKKQxzZIXpPmpyLsE8XGGLCvfoiDRwsuMG90yXtXsBbifcoeSiqMskTi9EQkgk5daytZMdSJu897DqvdZ8DqhH1DMtNEDfSb5JL0ShxlyJ5pxgZaBoUTWKeOn5yZBBjfd1YCM6gsb6ODt37OHjoiC1PO3JoPz7+xYc49NoRlNfWI8E+WmCzFtle6QeXF7Sf3pWB4kX1lXSaGYkKRFRhbi52dHTg/ffex3vv/Rwtbe30HzwmsRcpA7QCQfwu3RgnzS2w0sovRppfZp7WgPVosmD8wviSKYvsn4VIiPpvHgnibpn5LZGGEtSdiaUo44lO1fNu6k2C5OkqDSeJJ9oZxOWaPHBtACH0RRA+hJd00E9XVygvXYUb0bVkqJY+Sj7KzpD+VHzZFvGE9AltskVHBsVIE3rv9LULKlBlsN+Jh6jwIHkoGUOaNxnCJlsytd0cmEWE5mYx0NtnM3Qz0wHKFeGJ9hJ5PWt5nmoraG2PU9fML3sxTxqKLbB89odkVyyq+jnda2BymoU4IpWBPcM2SObFKCPmibf5BbbF6MOJ7uCF8dwfkpXS7eQx4zfKi0Rsnu8ijM/+JB8mYuTf5Wz2kUKWg0cmT5VuwXiCoSDHj/bGevz6g/fw0Yc/R3VDIzJyC2gX0EogvcVZhgaHl4hnbUkSvWkiYp6ydoH2E0nRqmWMbijnDz1I5a+LwH5ap7H+kv3ScSn5tUi9Kb0nOamr6RHJBicR6095w2eiKell8aWDHAcnli2javDKzU/0LJigzhnsG8TUyCQigQiWZPAxfTZt8yzaHBoUJ3b4i7Y48TTHrIOkBzm2MenzFB2up9c12pKdKVpaYN1VfwviUz6nKmCukrcOnyuLJbWd9JykfJBMdGW29b1kPmlYNO8ecvPXhp/4kktBOprcTpLy4XMqy4QMSHZ6Z1eP/dY65Lq6ahTnZ5EIyMTJCMbo6T962ovnvWNAdgGaWndggQSaX+hDc2s98vN8yPMyWxrYsbkAnvaO487jfnhzi7C9pRIHdzegv/cpupnPeDCGI2+8g9rSfCwGJzE9NojpiWkEZmmoSynS2fH4vBREjmE7PTGChVDQfD2Pv9D5TiKrvkLC9NDhlAIXs41PBZxZDiq3zGwfnSaqMlKYmbh85pzemTIuZEhTIAaDcxgdn2SYxuTMHJV3DJk09EdHJnDx/GXUVlbbErb29hZ4fVpyKVwuYSEcwOz0NEZHRzExMYWpqWkE5+ZIrGQTlrmSRcVKwUKX2OqaabhWYHIb4WBgvcPBAKZmpjAdmLa9UTlexYxRXFLp0NCYmw1jeiqIQIiKm87HCoMOmJExtUTBE6HTPD0lR1QtW4Gfxr0UzgoNJRlJk1MT7LtRjI+NYXY2QGOdwlPCL8uPbA9dAFVFVWJYk09OXgpGJ8SXmE2O53w4xHZPYWJ8DONs+9TEBGYDQRsISC4T73KO2A4JG51EqfmEDCoTCeHpmUmMyMhlmsBcxOJHWMdnz54gxP7NySnA7l37UVJSidwcD7uIanaRTM8yJyfZjolJBCYnaaTT8ae01nJYjSKyw5BTXo2GHbuRXVhAB410YujWHykqEg7rEJhfQc/ADMuPwEMF9tqhfRTe85igATNPYdRIw2JHRxsqS4qQKcNhLkjam8AU6WOCZc+SVsJSitJ/7IdlOVHsC7Uxi0qTEswEk0abp0kbY8TR5NQkZkjXWr6ytJSB7CwNorCC/E97BaNTs+jTUqZAADU0nKpqqlDkz8D4wHM8u3cDj571UMlkobl9H/bu3EOezLelEyN09hZozLW0N6G1aRueP+llH/pRVV2FvTS6SkqL2L/a2yBmUTAKtKCR/WhoisJ+HIFgmHyVgblI0pZuDQ+SFyfH2R8hU4CZHi982TrVNgXiHbY1SYMiFJpjO0n7xM3E+ATTz5KfQqQ7CXdGy/SxrSZlbP/tHONrz6B4VE799Owsw4yFmBQa8ZnjzbYlfQuUIVPMU3krTE/NkM6If+IxkdBG/Gw63+QFdnSMTkCY/DhNOlwg/0XoNEZpJGi0eZJ0P0ma0cyvjJdsGosyOlX38fFR9hFpmDyivb3i2yzmqUEu8bg6KINtXSItREmDM1NTpHnmJ1pQn1JWSCaR4Fl38Ts5hsbFzOQoep8/wq37TzA6E0VGTimqq6stLw+dbH+Ol70h2iYOWeeJ0XGMU96MiZeI93niIql6MiTZTnFiFusWp+E4RWW9GAqbQbtAY3KcsmeccisYXiC9U26y/hqUENYN8yIyOsbxwAQGBnopVTKQoHzzEM+iCp1erP4MUn7NCN+8ZpFuMny5zE9SQYZF1Pa6BgMhlhk3WTE82E389mN8egatO/ahpKqJ7cumEdGHwOgA5gIzxA3lEPvUl5NrctihBAYZJRodphE7PSlZMo4x4iBAHohQPsmAZA8bXrNt9I4hHqWxGSQvSYZRFrIzF+bDCM5OE3fD7BPSbGCWdV2i/iDdZ2vQhpzJcsWXkkUatJFIEwkrfXh+AQPDo5inA62dttpvQqzDs0zDiEbrHPl9cnKWdDLN35mknVx4TfaSLpZkVC5gTHtgyUMJptdecS9xLydD/CNcjo6MmOyaJY3LAJKxoz2Vmq1dnTxjEF7sn+FJvOrU1SorWiFPzJJGx8lv2jM0Pc32zhHHbG9oPoGxyTncufsIu3bvxf59B1FU4Cw5M6KnsSU5OytckX4mJqfJq0E6weQlVmCZ9KD98loCmZgPYHywD/fu3MO9+48wOj2HbXsOYc+ho7ZvqqyAMqYwB4X5uaisb0JRdQPy8n1MR8d1eoJ6OoQY7YlFit2pWcoH8pb4Qf2kQUCihkBc0QnMIO/aLJ7XB39xMcoqK1BbU4HiQj/bu0h+p61A+amBEA1YLrC/xkaJT/K08o3IqaNO93j9RiNqbhbxpZOQl1iQBtIkY8ZIXyOUBQHKj6gZj0t0VKLUqfPE6Tz51mM842GfCOmO5hOVq1fUQzrd2+mppPo2PE9ZQLoYnTDenSbtBWamSbuUpYqWzfprFjXVhW7/2l/WT2Qo0CDKIp2gOcqSKfKxnDq9k86QPFVfzbGOcXkm5Gsd6CVnfoa2whjLnJh0ZKJsDuWfnU25wjirg/ZmeMco20KkGSe/cdLiDHk5xA6Kr3hMvnspk7JI70vhIJ48fILLly7ZOQeyoXKLSuDz51KnxmjaBXHj+mVMhZLwl9SiobkN/kzS3xT11zh5kDQeIE9qplvLmLPID7qqOpmmNzSgFyNvhDFBuTHKNsgemKUNNE9aFN1kePzGpxnLCfKi1orwGfszTlkn+TM6Jr06RT0zRRFCRyIyh+ER2qaP+1BZ3YTmpnp0bGthOsk1YWVN76kKmbRtMmk3ejOWUFSYj/LGFgtZlMkrGjAmrS4G2ZfUTzHyw6TkM/XHqOynmRnKjHljKR2spply1VUixikh9Zd/dNUAqFbkSBfNkG+1B16DbspjjnQp/RSknTDPPpZOkw6R7av8FtnPc8TT+NgE+5BSmw/zcvOYr0OXAuElSftobnIMC+SVefbzIut94cIlPH7SZSvncgsrkVeQi+K8PBtsHSXN3r59F7XVtaivb0RpSRnrMItZ9kNwgvnQFpIDafap2mcDamoN60eDIEl5Izt9kvQqm2iasiTAtiywjYrjoWzL1Cn4NNIzSAfLlD3Baepw2gY6pyBMugvLnmNZU6SZaepU8bEGGYXTDNLjkpXH9hkexVAuOM9/LPzdOnTyoL97qlHv3TiOaFkFKQ8SkQxNjdh0dvfQ245aR7bRUCwvppBborKKzqF3cBy3H3Zjci6O0qp67N1/wAx0rzcDdQ3VKCkuQGEO81vRErZxPO4Zx/3OEZRU1mFne4WF7s776BqikqOR096xh47fFK6e/RpnTx7DhfMXjNCiMTppFCDFFdXsygwM9nbh1Fd/xvPHDxEIL6K0phkrXhpy5M4V1s2TSSeDwqBvcAwXLt3Ak84exNjMwtJyFPpFWDKG1HKNvpK5Sah2piEdnrGhAds79fmxE/jq1BlcunYLXb0DFER+BOhE3bt5D/VVtWhqasC2ba3IpqOyQscgEppB57PHuHHjBr755gxOfXMW58+fx63bt8mEIZaTAa8/3xhUJ346QtYhUANdSexJKvh7d+/i2s1ruP3gDkrKi1FRVkD9MW+jKQEaajev38OZ01dx/8kzKj4K1sJiU3g+CtK5mXF0PR+kAL6DCTp1oBCsqSymoUjDmUzU3d2J02e+wbEvv8TXx4/jzu076O4bolGcoK2Uj4K8QhqXEp6sj4SdZIVowiShRoFklas1FDCs6xQVzdMnj3H54nmcPnUK35w8yftLuHHrDh4/76ZhlIQ3h8q+uEQ+FvHOHqQhptmKvoE+nGO6L058hRPE9f2Hz0hrFPAUXEPsh3kqE58vH7t27kVZWRXy6ZXJ4J0Y6sVd4uiLr47jJHF94+o1jNIIS5JeF6IJPHn63BznXNJL/fZd8OQX0ljQ8pAU1WvkUYEKK7yQSSWyQGdonm2O47Uj+9hSOno09iPsj/q2NmxroZDL9SE4NohH9+7j9Mlv2NbT+ObMedwkrXT29lPIh9gVhcjOL0a+l+2UkScHPJGk4KZyoVI8d/4cjh07hrPnz5JObqOHdBVlfXOpOIrzqbSynYGUYQrG3kEKNgrFqtoq5BXmIh6ewuljf8S1cydx71EPDaMYhsYi6O3spGMRRJRGl8bXFmiot25vRnvrTvLHALIzClFTW4M9+3ajoKjAeJtSkkhQED7YHzRGYwsBPH5wE/dvX8bte4/oCEXxrHsUN0nPX37xZ9y4dhndPeQjjcxSqfvpRNqBQIZQ5rIUxfBwPx7cv4frV67gzDen8dVXX+PSpSvsq4foZltlLGbS0CopLbZ9tTNU+o+ePCU+LuHO/cfO3sGbN3H12hVcv3WLBmDCDIdiOuSzVPSdj+7jyoWLuHDuPM6dOYcz5y7gzj3m3T9kiq6wiLjPL7D9G1NUaI8f38X5i5fRPzyOwTE6vEPDOH3ia5w5eRznLpzHIA3rKMvQIUwaTX9GOj558mvyL2n4ykU8fPTY5EMO+7WMfCi6X1miAUramCXddz99iqts34mvT+Ds6bO4fPUG+gfGELL9cX7SQy6NLg8WF8K4dvEMzn79JWXKBXQPzaB/LIS+vj4ag1EU0Pitr6VsI91PDg/gzo2b5M+v8NWxr3Hy9Bk86uqigxDEMo2zZW8O4Mujk0CjlTw6zP7/6o9/Qh+vg4zXQ1o8e/EaLt1+iGeUe14fea+gECWkIesqAZk7SWfu+b2r+L/+y39BmDS3lFOE4tJS9ucSspZjNst64thXOM22iVbzisuQTx70+aWcl+mcjZOmH+HKlZvo7R6mYeFjfw4TL4PoHxpBZcM2LCx58fDuHZw/8SUun/6Khh/5lM5ajPUuL6+kY0YHXPSoIVs6c9qP3dPViYvs45MnT+E4+fvmjVvo7OyyQQadouz1F9hAoU59DU2NUX7dxjXW79HTbjO4up4/NVr98vM/4yL57fGDBwjSQM/KKUROQQXldaadeJtlMl+GoYJwQt6LL1Hf9eE///O/kDbGbXa8rqYKfo9wQmeNxt3Nm3fwzelLOHf2Mg0Z0AAsQ0WJjCoai9FpytgJnLx4FWeJ/yRLKC8qJG/nIEID9f79+zhz9hy++OILnD13lm27joFBygAatJmkE2+O3xkEoOyQ+FV/SfKqprrqt5ZzapZdOkeDfvepA88QX18c+xxXLp2jLH5Ax2QR8wvLlB9Rx6HbuQf79h6gw8W2s63L0Qj7aQxPnjyinriIY18dIy9dxFXisbOHcjdGB5Z4LiCPr0TDmBp4hjNff+XIu3tPaLwvYnhqDk+7B81pyYrT+Jwbx7Ev/oRpOnH+slrU1JRhvH8Ydy6dN3oeGJ3EMB3M2/ce4NJ58gL1+7XLl9BL3TMXjsOfW4Bc0pDPl8nf1HH3H+A09cjjZ0+Q689CA/OL0lC/Spwdp2wZn5ohj0+hv7cPX/zpzzh54jiuXLyA3v5+8vQKfPmkZTrb2exsDaHKMdVAbV//AC6KZ0lfX5G277JPNLg5Tx3dNzBI2foMD552ISePtgud1TzqLhKokaicJ0EGdUfGiuZulsxJ1OqFu3cfsHzKvVNnbXniJcr4Ozeuoq+3FzPhKJLZrEteCX0w5sGOtL7lH9v+4GTKP3Q6aTgP9Q3g5pXrOEvdNk6556Hy+oY6+/ix45Spx9lvzxGkI+vLL8IyDd6RsWHcvHUdX3z5henDa9dvkuap+1nfgkIN4pHPRPQsK0knaIhy8O7d+9T/J/A19fVp8sld8vIwncE4rQx/XhEKfFnwUh/euUpaP0N9dfUqRkaG0TM4ggfPeszJKPSvoJw0dYsO3Rj1BXzFxFshxvo7cYH8furEMVy8eoV2wDNzhHIoD0vKy2lTOAeZaRBkMRLGEHX3beLvG/LGccpfhQePHlFu07mZjzIdaTE3xzkUTJyxlKCjFUUfbdOrtM/+/IXSnMbdO9dIE0N0giN0gCkLesdRUdmApsZa7OhoIs9TmhMnmvSSjWy9SX6SzAsFpvCcvHOKsv/ZwAhK65qpq/IwTz65e+kMnty+Rj3ThwU6L9fu3MU56qAvyce3KX+0504z9tmUtbl57GcNQDJrDQO4M0xOf7OvJWco5/uZ16VLF3DvwX0E6Uz39fXiHvP66s/UtZev2MFuYXpfGZ4c+MgXooGJqQk8evSEcvEERofGWUAmWtsaiUjeLrM9bEcmbZqpkUFc/OYEnt27i0cPHlHuPMCZ8xfx4EkPRqfm8bxvzGi+mLJJq4t0AOIt6t0i0ruP+mVudg6XL1zAOfLUpbOnKZOfmy2SSf3jy823w5UcvS+7YRFjdAjv3XlgcvsEaeqs6OXmDdvbLyfUS3uhML+EectWXsLk6BD1+GlcII1PzUVo78yiq/MpbYbjFi6R77vYt5pQ0sBMDu23FeoKh180rCLpSNADh3t+NPxdz9C9mkOXfhWkVAYJju4Okks0a+MJDAwM2Lr4ML3t3bs7UFNOQwURLMzN4FnvBG4+7gdyytDU0oqdO7dTWPRDS4h0AENVZRnKCr1k4CSGe7vxsHsMncNB1Da1YXsL09TkUAHfxWMajk97JpBfWIHMRBhLC7PIoKGjpQoSTDOBOTISDV9tUqXBFg3PoOvxHQq+LoQoV4uqm+EtKIffK8UboqCgozETxjM6Ng+f9CJMhVlR14DKujoU+x2llqWZOQoWZ+lPhhld40N9NLzO05i8h56hMSxl5NAoKzAjVNPqw1Q+/c97UF9Zg6bmemzb3k6WpcE+OUqCvkZH6xIZUYdQLMCTnWOMvUhn1EYEJ2dNCGfn5tHozEeOVwdsiAmJcxs2ZaCzsxKP0cntxKPnj+mwPUBbRwtaGitpVCT5jsJvYILK4haF9kMMTUyjpKYeZQyVNCr8ZGg5O0+e9NORfA6/vwxVFUWoKM3D8FAn7j+4hytXL2OCSkJlFemgDyqEeTpRg2PTWKDXq9m5itIKR+CyVubQCaRwGBwHwJn+73z+HHdu3cD9O7cwSQEh4VCYn8e0GcwzYYw6GYjYgEAhjXgfBXoO84sGp/CYAvLi5Yu49/gB5khbXh8Ven4Zlle8mNFsEw1b7SUrLCgh3e1HWWmlHQoyPtCNu9cu4sr1GxSwg0iwH4uofP2+XMTYRyOjY+YkZPu8KKlrQm17B2mjiLRBh47NkBGn2Qdb4sg2RGNezM4tIRheZp8ABw7uxEpWwpy5BBvf2L4NTdXliM5M4Nmta7hz8zamqfgkTDXIsEwDbIrOxJBmcwN0unOLUV1VQueRRvP8DPE+jEsXLuMBBevw6DCdeTr2mo3xeGlgzJNOg5idmaRzlIV8X7aNuo5NTdMoHqLTNk2HrhIVNGbKC4iX0X7MjQ+ynBhpsxjl1Tuxvb0F21obqFzp7GYksURea9vRgtamXegXT/kr0dDUgLb2VuLXT/YWvae61P5p1DJGwUyh+vQeHt+7TqPrKQ3veYzPxs1p18hoJo2YSJSG3MQkghTiWh5cQEdIs2fJRIRG9xNcv34R16jAAzMBOj4ryNHm+SwfFSz7bSqAodFxW/qsgZ6C3GwaaDM0wAapbC6TT7vtlDEtqfGQN3KpXHTCqJ/CXCOxV85+QwfkNp3jabILjQ2NPGd5MTe/iBH2xyDxnEXDJY/0V1ZahEBgEs+f08jSgEzfMB32gM3eJGOaydWSzkXidxYTMzQMNcs2NmKzy7OkvSQNmejiPCanZyl7mGbFg4qKCuTnkkCWFjE9PoZbNHAe3LlDg7KfRt0yDVHKxZwCc+amAgu2L1OzcxleL9vqwxSd3cnhHhq201jy0PGsYB+16vRB0mhNBeN48eTuLdyjM3Lv1m2EqOgyibsc8mjcQ2U+H8ITGnqLpLvMnHyUE4c+4niiuwsXTp3CUE836WMYkUX2k9YY+0vpwJegob4B5WVlKChwlbCArgZxP9ZNo/n8BUpzH5bzKlDX2ABvFjtoKYIYcfXVnz/HddJu78AQmjp2orKpnU5zDvs7irGRHhoBd9DXM8K+9mFbWwsioQmMj3Ti9oPHSGTkIhync6I1fItz8CS0/GyBBgXxTQcrm0q+uKAYhZSHGsgap954cv8uZdt5jJKH4zHKexoP/pxcaFnuoIw7GsYxkmuJ9ACdmlhohg7MU9ykMfiks89mHYLkpcVI0BS/RoM1Oq19z/MxUnpWASqrKmhYOLP1GtKw1deyvqj3VpazSKOTdKLPsR9J45QpzY11yPcmkb0SotEfxLVrrOPlOzSSnlF+lrPvmtBSV8bk9O5CQ3ja9QyX7j9F93QEdU0tqGI/LYdnacDQaKYRPTg0yrIykJPjs73qWhKq1QnjdE48NAiz6dRpIEAOhESv6qmrus74lT/idCzHxwZNll+h8f7oeacZTjrkIIchshDDTJB8MRZAN52u3bv3Yf++A3TqM5Gkozc53EtdRZ6jMTk02G8zlj5/PrK8uZgNMW8adGMzIZa2jNyMGHKX5zFN2hoan8HI7DzpKwsVtY1obN2O5vo6lPszEJsZwtnTp5Dw5qOseTvamutIjxN4evMa7t68hT7S/Qj5IhSJUrcvwEuZEyWNTc9S707SWWdv5JNGi4pz2VcLuP/0qRnOY+MjaKrT4G+DOXQ36RCeu3oDfUMjCNFB07Loxcg8aTCJJPlay5mn56IIs78LS8pQ5KeTSFqJzs3iIY3hC5eu0Wl7RL4mjeisAPZDPLZos6bPnj1HF53QmfAi6tl31RXl1C1+05X6BI5m/mSkZyyTptmGpfgChkZG6RQ+pHFOh0d9u5SBXBrFeewHj/Tx5ARGiMsxGiqe/GJzXPNys1b7lFWzq+lX6dVEHGPM5/G9x7h+5RomqXe0nULOuwYc5J5qcEMznSOUqWPT7BMayGOTI7bMNxaXg6n9k9M2UJDjy6MOLUIO9XyS+H5Cx+0GHWwNlGigWaMbvoJcJEmTs3TG+0emmccy8rKWUV3otxnWMRrm/b09xiY5hbTp6lqwY/detNQUodiXxO0bl9E1OIlR9q8GQZZjIWQtOTvQFtieccpYzQDGyY8FRcXUQ9TX1B/L1BtPH943XX6Rxv0MbT3Nw+fk+egqr5AWI+gdHGU7EjZjWEO57llZQoT5dT5+ZIN7d8lrY1NzpF0/7Sr2Z/Yy5cAs+gen0ds3RX5vQmtzLfWkHB/NqtKpsEkLcRMfyQliaeEAdW7Pc1wgn07QfuvYdxi5hSVI0FZ5fvuqOXSdff0IUi5NE79a+ig7KL64aKt0BkkHmk3y5eTQaS01OnG61ZnXNZ2rPwyaxR8ZGbJ98HLo+gdpY7NNcdpBORpoosepVWF9w+O0jeLQeQgFJfmIJaizaPPdu02biTSl1Ta79+xjnikZwfYlFoIY6enC5W9OIRqgHZ2ZhZKyCgySF6fmYljxFqOokjhpacb+vXuQQ92iQ43kTMYW5slLWomgWb4YbWnaEwmdHD5pNkmIOtNHfVxaXGjbOxLREPp6B3D69HnKkqfUn+O22sVH3aw6BdkPWu0yw/7Jo12Ul1tqvDg7NYLbtBVu3JUNG8BkcIG6Ociy5mmXaykpnT7NNGtlTzSGorJK+PJow9F4lHei/nLAkOrcbgbf8moj/M0cOnfNquukJZ31CQ6BsMbpM3K2Dp3w3Q6dwI3j5O+AqQx7o5kYLRXSUg5NyQ9TyR48eAANleVGdMGZOTzuGsGth52obWzBru1t6GhrpIJ/iiAFhfYWNDQ1oaqsgMb1Cp7RmXjQOUrhtohtO/ZgR3M5qos96Hz2EPefUyg+G6bDVoFKCvSOljq01NfQMCNjUFD39/fS6A6zUwtQSwMll5bJ3JRmojoRiCyjsLzBPq1QnOdBNhWQRi9HqEDu3HuEcTJAbn4uduzcgerKShT5MqAFiJqVyBAzs7E6zUlEfef2PZw+c4mOwjCKSsvJLLuxvaMN5SUFbO84Bnt7MTwwjNraOjS31qFjRzMVaRDPuntw7MQZPHzeb0u7mlq2Ydfu3VRqjSjIocFP52SovwcTY8OoKCtFJQ2sfBqs4kI5TKu9xTpphGVsaBCdvX24ff8xtu85gDY6y/k0fOYpSLq6hnH+/HU8ftxJZo+ipr4Jjc3NqC+XkFzEQOcDPHjcjcesS0PzNrQ1VSIvO4Gnd6/hOg2wh0+7UFLdiD3M9+Ch11BeXkH+TWKwrxvzQRqbdHIqaUjT+6JTSkIXfjSbpUqKrmT4SJDRUb1OQXzt2nUM0CjXKZBtdH727z+IqupqGicFVEIhDI9MIUAjubKyBBUM+bSmhvv7bfTx4rUbWKACakmla2lqJFPHMTmuI6uHjNbLSipsdLm4sMj2PsmIvkbl+fB5N3yFxWjbtQv7du1ABQ2naHCGAqabzsUz5LM+Vc1tqKPR4aMSyVNb2ATN4mokNEXkZsQltI+KQqK0yGMjefKrtIw2n8ZAa2MtSoj7zqeddKJvk+Z7UVZbS6dpB7az3JKyEhtlHBkeQX/fII3nKmxvqWdfxDE70Yd7D5/j8+NnSPdR0lQJ9uzfg46OVltuF6EAH2Y7hXsvFVwJFUh+USmVOBUSDRYtRaysqWM/tqOVNOdltZPhCBUdaZeG074jb+CXv3gPO3a00ZHJseVaovW2tjY01DQjMD1nyyfqm6pRQ6PIqyWr7ENXPFiXahCBfR5bCKGXTtmTB7dw+1E3JungruSWo7GhBru3t6CuMp/oWiZuOzFN5aMDSKpr6kkmhbbe/ToduZvXruDJ025UkL5aOvbQiNyHhtoq5HqWbWnXE80mJpZJ/0Wory5lYyJUhBN0Kq7SkBq3AaQdO7ZjJ3l15w460vWVxs+jQwP46vjXNkBQVl1L+bETbdu2oZ59k4E4ZiYHTRYsLdG5L61He1sreWUG3Z2PcPXGPRoF01QM2SgjDe3a1ozWejpQhbm2tKeXfPm8qwthKk5k56GmpgotjTXs80yE6SD09A/RKAFqq6tQW1WOZDSCJ4+f48zZS+jpG6UhkUc62I+du/aimXy4RGcnMDlEPn1GIykL2QVlaKyrQSaNl+VoALM0FrPzytC8fT8+/Pnb2Le9CRWF2Vig8jtz+qyNVE9QtrZs24Fde5nv3t02ODYXnMX9u7eNP3JFl7U1dMOWMDrYh4uXLrOewwixooUVNahr24bmjg77fExjXRXbrQEkr/W7jR1RaSIZwvRYD27Q+Zpd5EM6/nu2dyA/K4HseBDzM9P46suv6IQ8xOQcDZz9r6G2fTfluR+LcqJ7n+MG+SEcYZnl1di7fyfrOIqB3se4euseFunQZdFJbGttQFt9CZqqc+ngZ6NncNCcpvhi3Pi9qqIS2od45x4NOxqZ1+n05JWUk352YP/Bg2gg/fk8K+ijMaVBgXB0BeXUC8VkaA1wdVMm36Dx+4yOpVZy5OXl2udkdu2iA0qDXE7Js+4+TAQiNC/9pK29yKMD4pPcldMn/SqRQLkmWTxLw/nW7evkzTC83izK8BoU5WdTVGumfdbafI96oq+nl8ZiNeqbW9FOYzGbBvDc1Biu3bqDJ/0jdGi9OHRgP3XVig1mamZ+bHoaOZT7e/bvQ8f27aS1WpM9A2zb8MCgLc8sKik1R0T7BLPZLTabyKtzgh91fyaNz9lJOh8P8eWxr/GkewjRJa/R3x7yaSON7Agdz0kaSsPDkzSmpnFw3y4c2LMDRQU+2xLw5OljOq1nMTg5yz4qwa79h8h3O9BAWpGTMk5ZNsQ6rdDRKSvKRUVVmS1XDS4kqdujxHMSh44cwUcf/QK7O1pIM3FMD3VDszGZxVWo3r4P28hngQkaw/eod25cwxAdt0iGj45gDbY1S0ZqCX0WJmeD6KVO1X6fMsqFWvKfDjl72tmD+4+eI0jHa2d7C/bv6rDPydyhPL168yEGBido5GfbpzHaW5voeFeirDibDt0gZQoNyelFtDR3oKokF/ke6sX+Lly4egtnrtymYZq07SMH9++ijKnGEsse7OvBM8qQiekAEe6nE7wXjbXaYuKnfKRhSxqR42szRMta3aEtAwt4+qwbl+mMPHryzGYTtu3cg53U/e1t9eSVPBqmo+gdo3MxNkujvBIVJcWopq5e76jrj/5SH1HnTdK57GIf3SYdarmiNy8f5VXUOa1tzLcFwWAAAwNDePTwGXlOeyZp9BYVUP+2kZ+q4GHOvV3d5vD6vD72a60t65+kc3zholaVPMDg+DSa2yljqD937+yg7itCNBy1w+3mg0H46Rg1NlabPtGeucGBEfJvARrbduC1t97FPuqxxoo8ZC+FcJOOyf2eCXRPRJBFeVdTQT23oxWtTbV0snJYj0mMDPZC+0Y1019ZXYd86qJIYAJnT35NurmFJ70jqGV/7d5FW2B3B/HuNTnTR30bnJoh5yaxvbnOZJ5OVj1z4RIuXLuNMdJVNe3P3fv30v6kDZibgZnxQcrDSTqnQVTXt6G1tdHoUbzkrE6hWyD8M2RkLFuYp/wdJg1cvXoV88kM7Dv6rjkSyfAsuh7cxoPbN9mHM0h6C1Fc3Yx22ra725uRn71ih0E9ffqQvZekHs5Hc9t20pBO5NY/2ZhLTveqfFohWmWkAfCbGhR89IT1JC3nF6GuvhH7Dh5CWUUFkqSxTuY5NzNm/VslXUv8L1HXDnQ9xdw0HUhPJnXPPmT6/KDooPzSygnyHPXZWeqErNx84rQdB468blsn5sMJyoAyvH7wNfzs9T04tKuJDnKItvIgbt25SYd6zg4zKmH/1LW1o4Oyu7Ykj079CGXJCP2AWdo7VWisLEMJn4dGB3D7zgP88YuvMTEbodwqoszeR93cTNlbQCdtCgM9DzE4SEcvpwTF5c0oLvBjPjCJ+7eu4iZ9h77JEGLZhaggT+xobzDZUEr5rmX3GgyfnA2huqENReX1KM13low7M3RCqBteAt/yaiP8TWfoXKdNVxsZ4L02yOqbMLOzs7bXQ0uGtGlU09la+/3jYAUeahFNkc7Ryx8YHMJDCqxDhw6jmcoy309BReK++7gH1+k0HThyGPv3dNB4K8XzJ/cxNDZhywzaaXg11JSC9gduXbmEh92jCEQzcei1o9jZWokS/zKek2gfdVMYjM7hwOvv4mdHD+PDd4+yc5spiOpo/JVggl7+NAVXOJpA+zYqwgoqPWb6+KGMjRhyCqtQWdtIoz4HeV6yVTyC7p5BnD570b6d10oD79ChQ7YsUZ9KoH3AJspJUdCmz1nWowvHvjpDhRBEVW09PvnsM7z99ls4sG8n2lsoKPJ9CAXm6MDcoqBrYT0asH17Ax1dGhR3HuLzr8+jvHYbXn/zXfz6N5/gAJX2TrZhG43DPBYYjYRsOVAxBa++21NeWYcsWhXqKaM7Kg0tO9I1Pk8mm5rFrQdPUd+yncZkjRkn01TOnZ2DuHfnERVd2GZzCksr6FzSgKfBnZsVpeN8A4/ozE3NLWL/4TfR3liOEB2LW5dO2yzS7oNv4p0PP8Fbb79Lo3knjb5WW+6lpajh2XEyZgCZVPLeYhq1hR7iSnvBYqwka0mFxp+wjf3zVGakCdWprq4eb775FvN8m4pwlymWhsZ2lFC5B2bnMUshU1jkR4v2Veb4cPHcebbhPo37JN7/8CO89/4HeOO117CtrRk1VSUmePX9pMXYEgVHGY6Q7nz0LseHhnDq2AnSHvOrrMYHxPObP3+PAmo/BWwd8QwqOArXZ45DV01h1rJ7P/x0yP3sd8lTCQObpTNprn0b2TQC/XT2i2kUVKGK13wqcSneZir76uJ8CqYoletD9A5PIZP09MHHv8Qb77xFh3g/nW0apTREvDR4hgdHaWA0oYNOtC8zip7nt2ncPsCz/gnsPPQePvv9Zzh4cA8VaCu2dWxDC5XzEg2DqYlxLIQXaJBUki6q7Rt4g8MUZjOkxZoG9m8HOhqaUUTBnQgtkBeidBY8eP3td/Cb33xEB5oGbkkJ05ajiUZybU0NCvKK6Vw634Sqrq2wNfOZmn4lWFfqqh82cLNko21Dfc8x1PsMQ1MRVDTvwt43f4GPP/oZjuzrwB4qy1oaYzpsY2J8ymZMGls6aMzTWPBk4e6tGxTUszQ8GvD+L36Dg0d/hr10ePdsa0J7XQkKi4swMDphhm4J+bCjlfS/EsUonbQHT/uQ4aNhSUPoV7/8GG+8fgS7aRBUlLC9ESoF9nv/8ARqW3fiw1/9BgcOHaQBuxPb6Xw31ZeR7hcpC0M0NpdQXEEFdmAnYoshOtiPcO9BJ6V1CZ3Ao/jlhz/Hm4d3Y/+ORpthD4aDGB4bsiWbHbsOYJ/kzztHsZ9OVmt1PumiwJm5TmahID8PTXTMpukEnvzmLIZGZlDTuA2/+fQfcPStn2HfgcPYRSd0Z1sDCn1J1ncYc3EaaLllaGuiMqLgyUrM0SkJYtlL42vnAXz6yw/QWlcMLMzg8YP7uHv/EXk6F2+++3OjsSNHj9Lw7yCfdqCmkg4w+0qyUDM0zTRI830eGuwTtuw0TCO1qq4F7370MQ6+QflKR7Clsc6MK8lK0b0ccvsI8NI8O14HIUxiPDCP4dk4VnwVOLh7J0q8SXii05gYHrKlllpZkOEvRPPuQ6hsljzPp8E3j3HSyqOHT1EoBd+xG7sp/4eHnqOn6wGe9wxg276jOPT2x/jog7dxeHcD6aACDeRRzahOUnZJWR/ctx911dW2guHcpSvoGhxGTVMbfvbhL/Dmz97Hjp3bsWNbC1rJl2XlFZiaXaCzGyXdLqO2vJCyPsn+G8fjrkEEI0t08Fvw3ns/s6DBuNbWZjoJhZinQToyEUIknmWOSwl5WsuiHW4gJ8ip05VWtg5WGBsbxsLCHEXEMmUC5SCdGhlmI6T5p4+eYrR/wJyLqnoaPE3kZfaRlsNPMt3ZC5cRiMTpuNTj/XffIR776YjfwiBpePf+A3iP8u7gYceB0qBEu47jz8qy/Y9avp5Hw7qERnk+6Y3q1wahtP/LjpBf0eh5FEMDdHbu3bYlS2XVrcTVp/jVr3+DNw5uN71aS/0YDC7QCB+j/g7i8IHddOi226z602dPcOM2nc6uPrTs2If3fkU997Ofk1c7sKOtlqEJXhq94Zk5289TXFqIupYmlNKgXFhcQiAYQXRhET977z188ulvGL8eWXSsJ4c68fAp5W5dG+r3vEbZ1oAQ2zPw/B6N1gfIoZzoOPIO3v/oI9azA/s76Ii11Nt+vXE6ygHaMGVlxeaMa/XCwNC4ndAZp7O/j0b+ARr5i9EonlD/Pe0agSc7j3rhCH718cc4+sZB7NnZSDopNNk9PhtD90AI23fuQ01ZDjxLszh/7gQNyC4EFrPw1s90MjDp5O0jrD/thtJik2Ga3QvTafX4CnHkyBtoaahFUR6NF/Kds3DOcQQ8NJy1TC/G+vT1D6OndxDFNP5lOL/13gfYQT7aTRmys60aOb4szEZXaLjOo6CshvxYhvoq6gf1rVQQc7VPkghEhnHttx2jg9+NLhruFbV1ePuDX+C1N9/BYcq9XTvaTT9q1vnB3ceorqilc7UXH/ziA8q9A2hvltwsxRjlj/YhKdOdO7aT72N0Oh7g+s0byMrJx9s//xU++Ig0c+QQdnW0Yte2dtpalaQ34oG0Gk9EUFpVisb2VpokGXSs+uH35pnD+h4d+XbaNlpuuUT5fOXyRTwfC2PRW4oj71Kfv/M63j1KGb2Nuohyq9CfST4YQIh8mOErQvO2nfCuxNH/+B5OfPFnTFCf7X39ffz8V7/F20y3h3bVTuqHWjqxuSyzv6sHyfkg2huqSf9xdPb046tT57CwnIX2XXvwyR/+QBl8FAd2NqOlphBLC2GMTUXROTCN6qbttDsa7LwD4U17igXqRxkzWmmkgZxoKIjRwX7aNE+QkVuIg2++RwekEsuRIPpo0+pzSMgrpU78CIfe+gBvHdmP13a3o402r4+dOTLaT/6Yhy+3AAcOv0Uni7YTO1iHRemTXSrDKZSSmA7dNHnr3s2bGKF8La6qo032K7z3wYdMe5h2cwfbXgbP8gLmpoao18LILSpHaUU9HVYvkpEZ8tYQFpNLttXJT7uhMN9jsmJsfIC83Y37zztR374dB197A2+98y7pZQxBOl2lhRX48J2f472je1Bal4+MyLgNal6+dh15tLW27z+I9379Cfa/Tvm9sw27aT+WZCUQpS3WNzRBJ7cG9eVFqC/OxePrlymDbtns7PYDb9CWe4824OvU423oaK+j7VlG/T1NHR/CwFgEZTXSH2U0uyN4dv8mntDpTvjLsOuN9/HRe0dp++/HQfZhfX29ySotBdVql+KKRrazhU6f9jNLJv7lHTpHF/wNwBlRX18zOXBPnz7FiRMn8N//+3/HH//4R5w69Q16e3vtdKW/CGSsUKGsoJTKrIjGoGxBjViHQ4v0hXIQCmkDuU5RXKGyLaFRWcJ4mXQ8/MjJ9WA2NIcpKn7NrCUWdEpeyKZSi4uLLeRqqY2IeznDDh3QHquG5mZzTmpqG2ic1tA4rkYrjYDKEhLecgJjo6NmuGmTf2ODOriGeWTZaNXsTADRaIz5aZQ1gHEyzMz0OPLoqFSVF6OEbbDl6xKaJjkZUQoSIRrT2kw8hp6+YXj95VRGO7F39z4bWa+m4VBfWUjBz7o019iykExq2mUtb1uOsqwxGhmzFC4+VDXvw/a9b1BgbUNFtYzzcranEUf3UoFRuBXT2QxNDtmoupZFLNKH09yQVUl/VTkqi5LCPFRQuJaUVBPHK5iYjlDxeRGaT9o+JH1AurqqnLiuoKMYNWdggUyvAzvm6TxpSr+EyrFAB3kwz7GhfkwM9JKhAzajEklkYmx6DgMj2hA9ybSz8K0sIDE3TKOlDw+fd2GQjKRTymgGsm6aFXaYaEWnz2jZV6YHbW3b8M4779GA+oBK5RCduCYKhWIUMVSU07mo157LcmRTmkXCc+yfkC3z6OzpQ2wpE3UNbVRCcuTotFLJVZXlmwO6jcaA0ufQkJTLqxOwopEwZqn4RyhUsrMK6KRTae47SIOqGSWlpaSZSmxrb6QB3IbKygpbr68ltcjMMhyrBau41roliYYMHzKys+isZ6GxKgdNtYUoIO0WFeVRERVTOZShJj8bPuJQS0kCi5kYn4timP09RuclRMWhA2u2NdXgZ28cwR8++Q0O7d5jy21i+ibecBe6ervpENBmz/AjTANftDI6PoKJqVEkk/pQq06Q0od0R2hIBsi/Ok1K9dMJldmscDb1Dq+sb66/lKEMXi+dMyoLr0/LU8g/tDl8hQUoowKsr2um0C6nAywa0cEbBSgqdg44MKAoceiNV96IX7T+3nZd84HPm42S8jK00tlv0Sh1W6uNnJcSH9tbGujc7aYxXYLA9IzNrk0QHxmsT8f2vXSGKJh/8WvsPvg6Ksm3+eTzHAr+6qIsVBT7bFmhllTOz1MmxClHkjHoYAd98LWQ9N7Yso0yoIV9WY0yGbbEfR0Nso72Bvz8l7/E0Y8+Rfu+I6ikc1uYWkZYXeZHU6WPhls+kokkjXfaROps0qf2JHpzclFR0YDGpt2kjz2ora5DEY2M2mr2bVUJiou0d5H1q2s0h6WiptFxjKuL0c5+rSGfebxaBhzAjPqOirGbxk0oQtmXmYdlTz6mySuaiR4bHkEySh5bCrASdMoHBvC0ZwSD4zPQqY9a3qU9t9rjp+VxMhZzaBguBifQ2/nMNqfPRWlg5BQgSFk2MiXHWfuUJkCL31YXzI70Y6DzMQ2MHjvgKMne1N46byEdt6pGOkTtlD0a5fSjsCCbRhipiOTkIQ3bQIaC5AwdmoKyPLSRX/RUA0SLRJ5nScRK46av0/bFNbRQwba0IRJbpsxgHNLLfHgRoQAd6EDA9lIWVVWw/Hws2SAJ7Z6CAjS3aNCCjij7spzys7TcjxoaW01N1SilXNKMbZj1nw+HyQsz6BkaxdB0iA5wEUI0IEeZf//oCHllCJHQpLVDp6iN6CCuJ11MM4VYfIH0lLT9PP78YtTUt6CxtQN1xEFRWQUNIMrI6grUN9SRXzwIsI3T00E6CVp6lQLd2A/JtyUU5HnQ0VZHQ5L6LTCG6Ykho9dINM7+D5Ajl1FfUYhdpMm83GyEopRL1LlByuXAfIxOZ5g8lIM6ll1C50IHs2jEPBRdQJJ4jy8n7aCI4XHJ3ilbkp9NGZWxlEDv8+fo7+llHWeMLw3YOZohghw6OuGIzVEO6ttvozRQM9HUvA179r/FNkpmVlFvFGJbcy12UhZqlUt25hIlh5ZPRRCZm0Q/DdNnvX0Isj8XM3MRQR5GaOhpP+nUWB8yYuzTlRh8iSim6dTr+2NDAeofX4HtD9Yy6mziUkuuitg+reLw0hHWbKdmFTPoGK2wP1RbakjiNgkfdXAp9WFtazuqyd/l7JOSsgLU1pUxlNNpzCN+Q5iembbDohIaCFmRwMpm1/BK+eR8Okik6yH/5NPxa0X7tl10ineivKKS9JWPutp8Ojy1KKfu0wnC89SXsodCbHdf31NEFqOorG/Djn2vo71jJ6rJ5zUVxWijY7l/L/XJLuqhmhrKV32AXeVLDrNM4tn2vOtKGrdtEhoMJN/V19XToXwDH9JRP/zGUdSQX/IrSpBbmEs+8LI/dKI3bR3KowUaxVo+qEFRsaCCwC4mf7WgTKXKCYhTt6xQfldi954D1JV01CrVTtJ5dSmdtiIUUrbVaEClton2UBvKiktRVVGDFurhWsb1U5brADntSZ8NTtNw78bIxIhtQcmibg1Sho2N0+DuH0R4kjKGNJrHSgXGR22/9GPSSVi63q9VVtq360dujh8lRfnIy8lGNgWLDo2Rk5SrGaZmOji79qFpWweNcPVrEeVnMToaK1BT5EXWCp1VHXJEAR0IBtHT+RTxSMj20+4/dBQNbbvIr+y/4gI6vSXYu60Z771+BFUF+Vggz/Q8fYTh/l5zvEdn5lBc04Rte+nE7tpFuU2Hh/1eVUN80XnTQGsedeIK+yhBbNonR3gVms0sEJ55bx+/1wNi3o7Htz7WJ6ecCRSdOKpJlNy8PObdhJbt+9nOXeyXOpuRaqoqQktdsc2ML8U1wTJFOkvaPmGxsPUtZby+EexYIMuqBcXvCvykodKiUmzfuZdtOID6th3IVb+WV6C5rRFvv74HTXRiEpE59HX303aKG/5bG2hbFmbQxgjg6fOnmKHt5+RMGT0xhgHKnFi2D/nUaeWNzWykDvWiHcO2FZFvK/NzKZs0ohWjTRyhHEmQb4Gy6ho0bd+Bph27UVZfS7u+lP1YhJ21JWihzswm4eoE4IUAeVSHE/V2YpIyWqvm2nbvZxt2o4S6oJgyqKaa6bbV4PUDrbSb69FPOdI7Qh0aXLS5C9mEObn5KK6sQ0UTHdiWdpSRH/0lhaiuKKXdX28r47QHcYp9HQjpJFC2McUzf2lwOP1vBOkOnZZVDg8P49q1a+bI/fM//zP+5V/+xTZa37lzB+NUFC8eL/p9scD4Zu2toJCEbBu78/yY1wl/Ogkrvozx4AJ0upw2DdeIkeh0aZ9STSWNv+I8JOMxClIJaZ1iF6Hxu0zhT8OLwlzTrv5sGlwSYFTeUhAlxUUU7lWmgCmH2OMeZNMAKqRhl1dQSKVNh4aGxDyFkJwKXwkNMh0Y4c/C+FAnQtODZvQnlrIwOEZjanSWwnOJDlixLTvTkiOJaOMrGxHTeAavNGAWqbA12zlFQs2lc1BHJ6Gqtsb2OQj3YgY5T3Lw6jTilJNJVRMnn9KwCc7YZvyCknLUUrnWN7aikAa2nEcbgsujoqHCaKGC1d6qWCRoo+whOrhREqjDiKoK46YMonzhnEZ1NZWLjsiemAyQmLMwRwWlE6rkdLQ10ehsKKdToH5g/enkzxDXc3MLtjykUrhhP8TJhKNMP84+mJ6dt6l3bYa/cvkSLpw7h8sXL+LW7bvo6R+xD4PK4Bmn0boYnHO8IOEpNaqlmurbfBl0Or2+LOzY1YG3330L+w8eoNFWSadnGWE6blMUagE6ljEahllLC/ARV1k0EFZYT9HE4CgNFh+N6pbtZoDpMAad8qYDAXILi1BJI7q2tpSKI4tkQLNgKW778HSq5wyNpuxCGmnCNQVWAemPKCPuclBRVYP21hbipYZOjd/6wJZYOv8tnlZgO+zLIMeOZWo5URYNFWe/ZA48VF4eOr6sjB1d7M/NQWVJLgo8i4gGRmyf2Y0r53Hj2hX78K32C2q/14cff4x9B/fYYQJaWz89NkEHdJDGRdScuDv37+HytRs4f/EqLly8hnv3n9CB1ulZbFtgmgJbp5rNU4jJHFKNHdDMu068cr/Bs6QreVyDKToRW0dNy8/2kl5zcnRYCR2+DApwtkMz1KJfR2dp6YejZpzcqWiYn37rtU5NLPDRASsrR0drM5oaa1CUy7dUcPIac8mLcphrakrpZOs0wlEavQHyFnDwwD4692/i9SMHKQuKkMV6acZuUae1MkiRLybidOSXEY3H7fh3HWEfSybtsAEdQlBWWUV+LwGbYaBN2Bol1bKgjz98z2bXymgkaVlyZC5gp2nNzIRIG2wPHeYkeT9Oza0D3iT/PDQ0c/w+lNC4KKehUFalwSYKF88S6WrZDmHQTEg+DYaqGimwShoubKvWQ9F5KizMoWNUYGmiMdJeMIAxnW42PkZDcQ7B2Un0dj3FjetXcP7cGZwlP924dRfPe4cwG9I+Fp3WOIJJymSd5GZrYs1wU5DRSmeO+WoGe2Coj3mPYYxphqkk79y9jUsXzzLfs+TRa3j0oIvtJf9OhTBFfp5kWFjQdwVlfHjoXOSTXwooewvojHjIc2yGOlmeAcsxUmc/Gz+I5mnM5+TXoqllNzxZOVgM0bliHy0nlphvnPJgAPmU++072tC+vZX9FGV7xihTYaeBaimceDmX/FdO2Z3rS33mg3ycn6+DeGpRLRmqmUmVRxniJQ1pCXVRYantd11kOfNaQqxTUYmnWTlvwSl0P3uEG1cvs+0XcO7CdVy99RRdfc5JjLPT2qc3YB8PjtOh03JxtcebV0Sjrp7GRCn8fhpjtjyRrK1DYUpKbBAsRp0k+aTPIjhA3JhxLvkmDlihPvPRAGmATgbWUiqdLDgXYroI9cwUZVimn+2qw246ACVFOZTn00YH03MRTM5n0BHPYPsLUFfOfshaQmBKTtQogsxjZGyKBlinHZx1lfL3BsPDu3cxSn0eCIYwOjFpA2yB4Czb5fCouHXZnBuGZbaBDsEcddV8OIAiMmd9YzVDDZ0mRrFO9tGQrbDlhttoIOawbz2kO4/4jv02PjKIYTp12jMemBpHD3F97dJFnD17Ht+cv4Zrdx6ja3AIk3OzNBRn6Xzq9Evn5EyRkuhWJ8Jqn6mCcKbPy9hx8kSlnB0NRanGGZRPWnSmQ4c0SFROY9svw95L6tQpktl+vtOKiFLybgYdfJ3ip4FfOT1Jkq0YmVc6Avq2npxaLWvTSoOKqkrU1NVRT1LWib7Yxmy2taK00vaMCRdawr1IG2WBemOW/JJFOdbIvm2kgVlCe0X1lPFeUlRsy6U1ayrnX3JBslJ8Y6A2WVD7xMN8RjxoiWxTUxPefvttyr0jNLQbkMvXy+Eo5qdmMEdnaT4wb31G9NsnHLSPTLlKtQqdBsKd7C1CBm0ix7HTwA/lT1kZGkSPtJnMPiBogMlPo7yIcraimrJNK5byswznHuJGzlVBMW0e7fFOsjzK2zDpa4x6fXaG/UrHeZh0cOuudNF5OxTl4pWrdgjUmJ1qq9MKtXdu1E5BdG1JOTzuvX0Hjrc61dEjR4F9rP2UbY0NtAfLkE08aX+gBt/ziF/tBRYPapZVn4bRSd4DdM50SFFdfTUd81bWmXqKsndF392h81hSWo4dOztQVVVGOyeBnu4+DA2N2VaEaCxm8qWllY4uacAjFpZXkleIKtpgDU18XlpGfUbHkzrPTrJknQ2D+qNAfGY403Z66rQt1T7ZffqdpH4yhy43lw51ORro6JSW+GxbhsnVbDqzlL3lrGsm+030ZqeminwsJ+KB/6xfTcbIXSdtUuas0OaQbtq1fZvNPlYWsq6MQXWKkoICO5Oikg69xlsHRkcxEw7bgEkVn5UUF5pd0NXVR1msPmJ5tAWnR/qgE199ORrgbaFdVs/c2Hdsgz7lkGmr0qSLyLvUx9pPKP7xeLLJS+U2O1ZRUQk7GF30xj7zF9K2115gtnWBtkmQ7Zui3NYZDsH5eTqfTWhrr2e9yqlXPUQt+yGDOCoo4/M9aGvroJ1M34H2QjAwYbO/2s/o9WfTYaTTSF62yQfZGQQdlFVEO1B41WCBTpCV/Sdbx7rHGpu6prC8KXzLq42gnvmbg4y4MDtV63xPnTplpyjqtD85cpcvX8ZXX33F+9u2p8XdTydYlnKwxruUnB5eAhZfhJWPajkXpSUIaIPv6BiCNCS0Ljw0v4gaOjo1pcVkHJFh0mZZqujg5fJ3TKOasyEqwjk6L5n0bYrQSIYozPUa4WaRUjNpkHjI/F4Si58eoT4D4IhRjWqwcym8dFKbDhlZkRtFekzIYyHRNNGL1wmOERrZc1NS8jRIyA69Q7MYokPnyaaRQ0dLm+i1H0EGTsqeZQ+S6IyA+IJMK8bVuK2HRKSv5WvU3kB4IHN7/X6UkYkatLxNDt2KHLqYzTzpKO6yqjoSPpna46PRytpriEbHoNGZyWT8wqI8VFUU8wWd0nDQjmRXPMUwkKKw7qCioANRUlKMSjpJOpmrf5AOIJ25YCgBHRagfQ07WqvQ2khmp6ILReiIzc7aceVzoSiblY1aKaZiZ7PzPOsSiWViYnoOV69dt5Ocjh//Cie+Po6TX3+Nb3RC37VbxBkdLRrF+TTq88jgsmtVJ82iGn5oSC+r3ZlL8FIQq78kgGdpgOiEwlukw4tXLlFBnMap08fxzckv8fzhLYSnx2wTfAaN1+j8AuYiS4h7ipCdV44MLw1xojhO4aizM7UER11TVVXAfiPes7UGfcVOXNWS2zj7N9NfQgWnmSpHALKC+kOC8tjSuFoK3vLCXPjZ6a6ppmDo1V8Rlv0SzhmMDiSENIJH+uN1yRQr47B+paT9vTvbcGB7HapokGhZ6+d//Gf8f/7f/y/8p//v/w//7U9fmqM2TTzIZvdS2us7K5FACNN2NPQIbt+7ha+I72PHT+DY19/w/jS++OIk7tKACgbDlJseCkPxqT5oT8Kw4VsFVo91lILR8cZxGqNy6KQcdSQ1u1r63wwEnWStj+lrYz6R4dTfstBvvpSRazHFYeQvBu0VlLMn2e1jZgVeGgo6uIc0qIEVJddmb3q6vBEP+4ljlp1FA5FOTSwasdl7ORNSqjOT43j66D7uXb+Jm1cv4eJ5OiUXzpHurtIo78UknQZtlJdzp28M6jtfCfafaED9oA/Ii73FFyvshwxaqjo5zMN6BycH8eTeDdy5fhnXaYRevnARZ05fxMVLd/DwcbfJIx3nrYEcfX9OCkwtsDxJVFKMhtuVRdpQwqOz4Vxmp+KoPEOXlmMzzrK+QkRap6BiWMEC6Te0EKEDr+Vxauc90vhX+ObEVzh18mucPHUSnx87jgtXb9I5m6H8oTHjp9zSrJeyoKHi9eTYAJaHyJLxpQ/WRmPz5Fs6D3Rsnnd34zzbduLEcXx9/BjbdwbHvzqJ099cwb27z1jvbOK6wpz2Zdv/mUHFTjqnYSIHVjNxpD7KJ+eq3469olbKoFH7RTDs0+xSOtEtNAYpl9gfkyPD5qTN0TkZGZ1ACZ2jbTtpbNChUz1n6bjQvkst8w+xLnSA2D4d+mLSksiTAs6mwW5HbbNvHdpy+Euz7Tq6WuWvkFF03LW2DkSosHXC5fhQLx7fuY7LlB/C6ckTJ/HV8dP48uuL+PrURcrBEaZNoqAgBz4v26xT65i/8S+Nee0lEenTfLYVFKqUHXstgZIy0DQoYp1h4Kw/sMMudEMDyZPtsSXomoXQJ3D0mYFQmAZoJBNDI5L1mTSyy7GtnQao9vnQoZucHMbYdADjYX21i0ZaSRnqSvOQGQ/bgMf4+Cwd9gncuHkPJ05SNp76Bme+OYWzpJdTXx3DzRs3ie9x0nkBceelnKURSXkrJ0DV0syXmXnsbzafXUW6pSzOz9cADvHqcRx2xmQCxmMoyi9DVbmWDBbBT77OojW0QqNIgyzaSzU+Okhn8ibO6YThY5/j2LGv8acvTuH//K+f4/Sly+il05yZk2UHh0imyIaQDpBxa/vribtlzTwI1/wnPpJTJ/2qgSFVR0sJ9WkKfU5Ex9WT8G3mIiEZZTFYdzqgWTTeNTBhn5NgPzn0qkFptotBe5CyMkW7mo9WOSpX/ZaSZkon5mbIcAdNRO2MsJRgTePMi4rFrwMraJtky1plFC01V1zNMmnAt7CwAAWFecjJ04FLcqhTdMJ8ROv6qRkDh1jUL0zHPL0+n+3BH+jqRs/Dp3hOm+we9cG1c5dw9cIVPLz/yPgpoFU0lEs2q67yVU3ekzItP6sUgxwAyYosylydiijNuEQcCNMJ4lj2hlY7LQvZxItkeWoC03CnFQ+yQzSALlmTpPMTnafcCs0zhO1ExQsXz+LEKcqYU9T/Z87i+IlTOH3uHO6w7vr+p5/2Tg7bpVOa9S1d1VD11TVVbQb+IV40U+ylPNMMkEe6iTiSXpZbavVPBfWgTjnUPjB9kzhMmScbooAOgz5rJB0gHZYhXSNaZ3wv6S8/j/YfeUC20NycDldyToX15bKOrKeDNVWJfE4+yfDnI59OZE1lhU1E5DBtFutlDl2qzqkGMAice3PiVn87oGc2K8u22YmkTK8sTIrISVIce0cHnM6rDpmT7W1FEEx3G627dJlpqzUibGhGXr4NQFWVl9CmJP74VqpGZQhbfg3QUg/LiQtqldsinWHKc7MNy7WVKYe2xRSdpAgWwjE7V0IOnT57U1xKGVbRRJrWSjiHJ7PM+KXeTepQl6jJO40Eq48kG82m0JQ7Qe1LitZpH2jlhVYXxEiDrAEilE/BhZgtLY+SFguK8yi7NPhO/DDdMoWwlumuJImTnEK+o/PJeJHQLPXLNGk3yr5eZFuS7GbmL11hROXgyPBL/IjnNIigb3WK3vVceHV8Gbv59pDWj98F6qG/OYhQ9FHBrq4uCzoZR86bnknJPnr0yDaPO0prDUSQIszvDUySR6LRCGxtRZl9981GSdmRw9MhdkoG2ltaUEqGc0RrFOWluSS2Ipu502iFZpf6h6ZojC/Dl5NnyxwK6Jnr2z1ZFL5ZJCgbw2BZWRSiMpyMWch8UrcyCqSt7OOQFP4ZmSpLjAs00GlpqC2nhgjZDN00Hc45EvYwNWtofglVNY10DGrXHDqmcQ0PRwHonqVIyJI5zfyjMZKpEUT2sFBmX71PDbf4sjNRkuej80qxQWJcSdKAXIzQyKYrmO3HSnaefAIjDo3+OQWQGBk3k8Z6rp8MQ6ZYXmZZJHAtDXOWAghSxKdkVHyaNaisqoKOoB4e1Tc75hGYkyLXoRIFNs1fX1fKeHSc44vQ975GRybJMM4nJrSsxZtHB5j1j+hD6Jl5KCqpwq49+7Bv716GPdi3Zw/2MuzffwivvfEufv6LT/Hxx5/g6JE30Fhd44zSCAc0iOxE0EwKGilWGlIy8EbGBnH7zi18ffIEvjj2Fb6iEXr+8gU8fv7YNoMnYiHiKU7nkAKejmw2HWB962mRjB7LKMCSJ49tZ95EtGZpNBOk741oBjDXn0GBlaCRqvXnjoBMkF7k0C17C+HJKXDsOFVRaCY+VVkvDTIZmP5sjcjx2bKzvEp9oquCdazu7Or0lhNk9NtXp5BgR8b5bFkzXRSqbU1V+Pkbe/DZL9/Fu68fQHuT9o5lYmRkFDdv38eJb07j8y+P4e6De1Q8ARsVXaYgktFQUUEDcEc7Dhw+hH0HDmLP/sPYs/eQhTfffB+//PjX+PTTX2Pf/h3IL/Sr+whGnLpJ1ZO/2Jc2Eq7nxJfjgDoxjWcU9EBC2gxnpXGiO29lSghPbuAzIY/C2kZTiZNsGrd2ZfaZonHGspFP4kEfV85kxAz26cqylk7QSZes4f+x0WHcvHkNxz7/I44znKODc/PqZTx/KlqYYN8xL9KQFHuccizOdJrRVd/LgZMzL8NM/Sw9IyNSyl0feNbeols3LuPMceb953/Bma9pBDPvzmedmJ6eQzSuytIoXKHxQmWSlNFApSM+k6EpIz/Jch0jSu3WaL9mF1inlJwRdpw68MZwo/dsp41oOsaTPvYu51P4qqmpxK4dbTi4bzcO7N+Ng/v34uDBQ3aQyYHX3sLPP/olPv3tb/Gzd9+yjzDn+3Np+OiYfi0jk0PDcoUTBu2jXKSCzadho2Xnew/sJ23sJm/uwN7du7FnF/PcfxRvHf05Pvv0n/DxLz7B9o49NrOxoiW5Jm0sV1PapGJyCZ06/tYz1dfp65TxaHTjpwNUbofI1FQ30JHPtkOfApQjWpqo0/v8BXloaKlHHWldH1qenpmwE3LVn4uLcVRXVVPWl6OQDrc5rcpaApD0opKEU0On8ZiZqSm61FWGDuvBSFrNkcm+KqWDpEM2Du7ZiUPCJ+XSnr1HsHPvUeLkTXz44cf49JNf4YP330ZDfTWNPbaZBoEjN/QNSLqwbCPdefYXHQ/ei+bkrLs8tErzrJliqn7GMnJy9Yv5lbAfFHzeTOIigJnZCGaCSTsNd4X6p4QOXXNLI/JzPTSUJ0n7g9Q5M5ikQ7fi1TLeElQU0pheWqDRF6dhnYumlh3YsWsf9uzbj7379mE/5e6B3bt43Y2jbxzFh6SXz37/Dzjy+huorqk2J070bz6HVZJ4o5FrlRUNkq6zqFN0sp0G2SwKMaol2rRoqUJykePJhS9LpzxmI4c48ChdImY0Ukf9sHt7O14j7R5gHfbuPYCd+15Dx57DOHj0Tbz7i/fxi09/iUNvvIaaunroVFIzsORIkA+WySOGY+JQjp1xESsq+pKPwZqaM+d8Q4/1oh5fIorFWZJVolnTyOw3LUDTLKT6yU4f5CupfTuiXPJG/cQ2qp3G0yxfHylW7zk9qT/CDW0J6gjRmfrbZjkVgYUmbakjTX46Dhm0MUgWzJ+FEIwSSUNyGhTkzKl9K9IfglS77KrClE4ZEDSbpc8Mnfz6BOXe5zhzjLLp3Hl03n+IyaFRxCKUk2ywdm7rG7qSecScM1lvWbstcPJ3bvWSgQJLH7/XKZd0q5iKLWbRSiH3zp4TH/YpC6ZzasSk4j/qbPGi2rgk24ZOmpyzXMqhhoZ62/+9/+Be7N0vmtyHnXv2Yj9109G33sLvfvc7/OqXvyRN7EUB7ZDVajnZGxjm+MJsTV41A6b99qIxOXQy5ZxYjm5PCl+si/M9OdaeNstidJ7PqG3JZ9ma4Sc5qNlJ9qOcMzka1k9STnySpFOulSrSDdIbcnTkVDu9qG7WHfFMh9DjzbGVTnm0B3zkaQ1Oy6FzCMJtTapFqYtsZP7Xnf1eAz2nrCGS7SAlPlESs08tqihIetPDOKLrNdnnzLiKNtU7Cuw7tivG/olne5HJ+vnZ/hz2rwbhvCk8Kqb2dao+0sLiNH16S6OmhcUFqKIdLTmjzx5NT81hYmQMM+MjWAhMGmfV17civ7jW7gWqoWqVQf2XkRlnPVlD8RppxTSH+JRlyTkVqChDC+OIVmmyEa+sgwIjLjJNgjYBK0n7iHrNK7uQ9RYPi5cVxNcZlBushZVtA6Wk15UY8UY+Zt8vMT9NOphutkJZD6sL8zFcSoOR+6xyqpADkjVWv7U/PwqcVv8NwCpuROhAkoarlIz20bmgaW85e3Lq9PHSdS030O+Nz74DTEKQuPxZKC7JQ21NKRYjVG62zGoGAQqyLCJ8W/t2+LU8zUgnG0XFlagqLUWZzqefn8H06Dh6+icQjMpbL7CRBW2S9WRJONFBIYGZMmCHibgkjq221rkM4sFUf9n3S8TARnTLNKpqUJ86RS8anMTk+LAtW9FoqY6zr29so1NUbwdkqMfkAFjPqQBlKrQuk/CWiD9ZkTRKRHTOWJKAkUlcNjpHRSZnSspomXVYyZKBm0XhQmGVTNhBLFiOOEyhcihEWFGmpxHL/JOk2ARDhkcjkvKUUmUoawtqZCox4+TnUvCSab1LUYSJ82ktM9JeGhp/FRUlqK6tRF1VKSrpACCqDyJPons0gPGol95moZ2kWczbbO0TXKYSp7Csqq3Gex98hI8/+R1+/ds/4Fef8sr7Tz77HX7/j3/AP/27f8DvPvsV3nxtHxqqMm3jtslhIs4+mGmBzEdaC0fm8fTpM1y4eBnnzum7c3fx9HkPxsamKHRXoO/faNlVWUUZcmjwaXmgZr2oL+ks0I1b0XH4i8Q3cU6kaUuv/mWTBjwUBJnL+tZULntAo5QUOqxLBmkmI4PGX2aU6JX7begzJ8BmpInDZeaVJBrpw5IG2GfLcYeeFI9BKlpB6Qysw9RIKRH2D/9q110W85Ie0RNNg+WWVthpcB/98jf47He/x8cf/QJHqBSrKguRjAXQ3fXEHNtL126jf3gEi5rNZH11sqQ+Qv/uW+/gn/7wB/z+s8/wu08/wWe/VfgUv//9b/EP//A7/Ja/99E50Iia86F61pZCVwrEamuNEI+ovqn3aknqFVtgoNhyYExAOo9SIFrUkIYErYSkUrgpdRXIySAtk54dvSdhL87WX+ZGRKsfNfEs+z1ba/OJt/hCAo/uP8DF8xdwhuHGvQd41NuPoclpzNMh8+dRAdVoz0EZHXHNyJIXxBfM2ZZzql0sUKPxMlSt6aRzT2IBsekR9D59iHPnL+Lkxeu4du8JHvX0Y3h61pZr6kOwdRXFqCkrMnq1pSSkBe0LFF9rJkhNWaKycfDCP9bXiqzBJLaO9TF5wLJloBpeJZdSjpycBOVhAoRBy7/rGltw+I238Sv2568/+xS/+d1v8JvPfo3f0DH/7Wef4B//8ffs60/w3jtH7WCNXJ3GlBFlJjS+SfPWTI1isny5YKqLllft3r0Tv6Qx9ZtPPmNe5NFff4pPfvMb/J75/uPvP2W+v8OHv/i5LX01WiGRyvhVXzuKj9TLOibIq0kGja6KFli4tRs2WyV+yka2V/vs8tHUUEUHJgt9fU8wSmdtODCPwekgsvPybVmT5EzeSgQrU3T4Bp5gkg7MQnIFdS2Ur9XakE+jPClelkwTPTn0JSPBxFoKbHScrZWBLkNOA0Qy4BVfR+aXVzXhyNH3yGOfEof/yPAZfvvpr/DZJx/iD599jP/lf/o9/qffs/3vvU8nmU6Gh7KBAsoGBRhSEtX+GlXrZjWId154aHgzUk85eda/OVpqS8csvwA6WdiWwU7NYo60nJGTh8KKatQ0NEIf9U3OL9BwH8TYyKAd0+3P89NJLkd+UQWzz6Gc0jcmi+g87cD77/6MDukn+OTTT/GrTz6lHP4Ev+T1d2zTP1H+/gOvb77+Ohpr6+3UW1UsJdacuqnKqp+C2kt9tMJ+yGAHq71OHOKWjp4cgDjlvjkC1I/LdH5X6MxowNKXV0xHvQNvvPMufv070hnp9NPPKNdIv7/j9R9Vnz/8I/7w29/h7ddfQ2tDLXJttYMzY6Z+ttkOygPDoP6rr/nLuIe4dGSs0yOqm7ZXeOiQOmO24jlH7ijOCutsAy2Sd3xsMyGkC1u+KcNO8cTPDBpg1QydDYYYvaWD26+pv0SezXYwH+2vlUNjy0CJUxOrRgvOVXJWHzLWd0ATtF4TSx7qK8kIF5y2KrigmVJ9S/L8uXPUgxdx9eZN3H3yDD32/bQIjVwtY6MtRFrKzdHBRKw7663g5Kd6GPJSwf4LI4yjduoqmZxyTJnCJBZxrT4X/mU8ZDCO6SvGcLAqvKzV1QalmUYDHv6CEmzfuRu/+fUn+N1vqYuodz79za9Il7+kDvoN/kBd9O/+53+HX//61zbgW0xasWWmbo4uzpQ3K6UZN9lGGqBymqB4rn4R/tTXrLXpEl5Ju24NZQ/EiW+ZXpoZom9gZpMNFIrWWJboymaImbfwKRtEIsPoUHiUQ0mwslkH/bbnErDqZGbo7ItLtSFFp079mJES8peCmiZaW23iOnDjiHgsJ9ZDORH4R/Uz3aL2Us4afTFYDD12IxKEnWzWz5OkLqAOU/tkpUg/rZjRoWCxaDOSDqnDsuT80ZnLys4x/pVdW1lexnwWEJjoxkB/px0QNRtNwpvrR2tLHcoKnYNSBM4wAulI+M/KsW/Jam+dOf8s26rIYuWYi5acXtIf1sP6TJa5nNYM6vwM6lo6odmyEbV1Sv2rgUrGs4z4n3HEd6IPrcRQOZLx2dr/z3stT3VoWeLKGQBw9INuVBzTsotMDjCYQ658FYPxLKruFT91/2NA1PA3BDXDAa/XaydBab2rC9q4qUbqeVVVlS3nMcPvB4OQykAse3I9KK0oQiOVfnxxDhNU5hPDVF7TMzTMPWhuarX1ujIUtdQjv6AMFcUlKPOTEOlkjQ4O2/6H+XgOcvNLUFVWgiItWaRRv7RCh04KJ0XAzmhBigSNQxxBZkGd6Ig6PuYDXrOLilBbVZE6OSdsI6WPnz7F7PyifbdCn1MoKa+0aX2hw+TSas8JPyLAbOT48kmcORQkcegDzdGF+RQBkeBIzFpfTKlq3wwaItMEIwtkD7bBn29HySqrwOy4HdOqqWzlrNFhKzAjl/XPYtq4be6kVKLTW4wiGlI6QEszIaqbWmQZ0dBSHI0utdRVo1qnE8ZYbtdTTA7303mIoLq6nAZyhc2EluV5MD85QoeiB51DM5hDMXKLaKAVFKCE+eczO40ke6iQff4c+zbSjr37se/wXuw5sN9OKD145Aj27NuLbR2tqKutQBHz9LEqJhNVKxkQZjiJkZbtRNXu7m7cunMbT589tzX7r72mkb1/wh/+8O9ooPwjFcKneOfdd1HXUGfpo3H1t5bWZqMwT/sZo0guhpk/zXoKaZm0FNd03+jwko7mpqNYmKMwiLMGxKPH50GOnw5fNgVgPMA6BMyx0BJNCUQtMxHHa3+Wvpmigwp0AIGMBeGXveEYG7yTOlWQUtFYmAWWIYEsQa0ZDtVHewOkMJf0wfJwFJSVyCssxp69+/DhBx/gn6j8/h//9/8F/+H/9gd8+OHPLL/Hz/tw89595r+EvCIadzph0++j0VyPI3uacOjALhw5eIDO4EEcOrgP23WiVW0V+cZv+xJlx1EjWe2s1qIjqz3FriSa6mTtER/IqLGfq0EgfjLhnf7Q+EoDCWqZFcLAvBTJjCs+4W1Ss0XRBejbXxrsUGwD5qmTpxYX+D6mpW7ZKC0uRQ5pVUcMX7xwAUMDg6hvbLKTFn/xuz/go08/w0c0HN7/8Bd4/c23UVFdS6GeY862RpBXmFYjDZqNkBMrZ18KXfXwsO8yYmFM9TzG1fNn0N3TB19xFd6lsf9L0dfv/gEf/+YT/OKjD/AmHevWhho7CltuoilbtklKxnGY2I3E6apDx2dyfKRYtL9LRqNhgATv7CkU4accOvsnXOpQkxybqTAjhGkLy6uwe/927Du0m87+LnTs3Ia9B8hXe3ahtbnRTlPU6KsvW/0XpZEYprEYsXI0eOHIumzyppasFLLdmfDneNHU2Ij9Bw7h8OE3cPDgERw+dID56qCmDjsMKZeCQwcSZJOnPVJ4VndRDGmY9JEkvyX4PM6QYL2t3UY3kndG2ex64t6jQ4E8aGmsRmWpD4ODnega6EM/nbkFxvHmF6KgWPunvSj1LiFnfgwjT25jZKAXYdJHLR06bWTX4SCazTUDh+XYEh7WRbNeEuOqm4L6Rfwu/BKDjLtiS6p0iIoONcktKEdxWS06duwjb+zFgf37yS97yC87cGT/Duza1oL6mioU0GDRyZDKVEa4qQrlrq7lVfgQ26irWRUjc7tXP7sPCFZH/SNt2PI15uJUNNNmHxvrKLv4REs9n/UPIkF6zSutQEl1jTltBXR4M5eSGBvoR193l61KKCothk6qLSmrgd++vVSIvJxcM77rmd8h8v2Rw4dttn6Pzdbvx46dO6lHG1BapLg02CgjiRbjB4HQ59Yr2+ezZWbSSXI2E/GEDYLRV3OMVhmEmVpiP49AaAYLGhTR0mI6ed7CPORRN+cVlbPr81FV10C67aD8381wgHS2D6+/dpB0tos00YyqcrY1n3oqW/I5yXKWWS8adAziUxl/wpm+OSmVLHvaZpT4zJGv6m/xIuPTKPXQqKdvadiXOccG8a3wr4ETSWbjNPsnvFsf8up0rJNKJbp2gIsZi5MCe6J0xLfqKH2jpZZaPijjeX4uhMRijLqekVR/w5lTD+n3wBxDaNH2rDt7F9NBuauR1EELC5ianMSTR49x69Ytyu9CO1Hwo09+i48/+z0+/vQTfPTLX+Ddd99GR0c7cnNpXywl2F8x2mvEEIPa4LRPfxxwb00s251imJvB1uufmcEmszSgru0qJknYFsOQmsR7GcfS1ZrN1JYVfb83h3UUz+eSr5sopw/s3W6Dkocos9T/Bw9TzuzdgZq6Glt+qk8e0I0wGenwioPp1eoKf+ZAqTz+NiZzBul09If6S7JWbkCmnGOiLsk+EL51uI54SOcwaP+olvLysaXQt89MBrOkJL29BeoclV1Gm1fLDeUca7ljbCFiukoOoWhP/a0Bq5VEHAsRfb9Yn6uJ0D6QrGHOxvuOFFJ1nQEn3hFPTpuIZZNfTjtfAJNvxIRmophCM4eqs0DUqKcacJFeET4saz538LaWZyYrm0VaWI7OWz3no1E7bEqaS7rb5BETL8aXEaP9oz2Fuew7DYxrT7AcsrLyOjs0sMifibnJbtp/jzEwOobIUpbtGW5tqUdpgXDvgLO9gO0kfjJo62Zm+5mPl8/oMJN/BdamVDAHy31qulIai/KHwUfZq+8zFtCukcWuT5gtzGv1GNMwkb7t7MiiTPKavmW7SLzRzqZNnldQTDtCgxukCbZZ8sDDtro9I2y5q/PMweU/Pbc9kFafvw78NfNeByIul8CEJH2UWsfTvvHGG9i+fbs5cJqp2kml8P7779OY2GPC3hmR+DEgEqXQIdb9dAgqKwvt0JO5mQk8eXAPkbk5+3xBTU0DlXIeeYLCj4Z4hq8A5YVFaKKzkbkQxDQdoIHhGRoWBebsFefnISdLM2GL7KY4S3BGDoRSGTgSWybILViPEsR4YlrGFMHrkYBtLC8txIFd7cjJiGOYhsa1m7cQXkygqKwKtQ0tLLPYBqWZBfNIMDiCwqE8vsiQ86RTGSvQWF9jG+EH+nowNDxFp4GCRGigxJgan0Bffz8GtTk1FMYimSDTk0Nnl0xFRRwOz2Bw4Bn6+p5hlgohbvt3WAYFt5ZC9vYNYXhsCtm5+aisrqbAzDelrZ61npKxRWHgXLORR6VdX1mGRuLRu7SIx7dvQB8+X04uss/LUVpeYieQluZRsU8O08HqRe/YHOJ+GhPVTTR6clFEbtEHp2urSmmMeuwD8foGzehU2Gx4Lan0sA5aRjZAJ/3mreu4fu0ChvufIxaeM6Y2vBNfDs7FbEuwDwSP6tskwwjPL6C5uQ1HXn8L7/7sA7zGa1v7DhTQ8YlQ6QWCAZvN014WLYNQu/XRWdABH+h9jn7iWpv8XdCHgCdHptHfPYLAJB3nmPqeCiDXZzPFxUU+hEPj6O15ihH2xeIiHQ0aWqKNSSpY7UHqHRrCzLxOfqLCZCMyM2VAuhQtwSlz0hGgTqARzCDRob6Qi+fMjNE9SCxhenoWdx88wuUbt+2IeB1iUlxYiG2tdND278SRA9vJi63w0wmfp7MTDEfYzzmoqC1DWUUJxsZG7FtTkzNxFUpnWY4rhTdpY3CwH9euX8XVq5fQ29vN9miD85q7abW2uhBMDqiGjrI2j5sdpNdS5ALxh1I5rJN6aJBKa86bq2zd/HjVf6bVQROa6e/vGyDdkgdYZcVQWRE6yV1dPZiYnIWfBmFNpZwoP0KzATudT8t62js6cOjomzj4zs+wlwZO245dVDCliNCICtIAjcS0HI4KPyubToZGCKkm5NBTCSi4Tp0+Io/FEOZGutH16J5tNK9s2oY33v8YR955H7sPv4bW9nYUFVD2xCP2bS7NEnmoDD3EUxZ5OyuDioPKUM5YkkbjqkPHMuXoaW+PlkDKYHH2SfAVESkDM32GzpQs3+uDuNqTW1xShvGpWXT2DqBvOIAIWZ3ZwEMe01LkiYkx8tI1XL10Hs8ePUA0EqQcibJMbeymAWKfJ2E72f5cGvyl5dVoaGxhnBXbb/ns2TOjMYktr9aKU+6S6dDd+QxXrpzHzdvX7IASnRSqGTpHETIee0q41QydxkEkgbScxdrN+1QDeeP2v8IKamvKUFnmxczMCB48fYLO4QnkV9Qilw57bkE+ZbYP9cXkv+Qseu9dsVNzF4ii8tp6OzhF26e1ssEZd3fwqzKkgiU/nLqpnqoFg/BrHEgHwZeNCuqw4tJKxJY89lH7odFpOwGY6KTTSsRmLyEcHKfeuY1bVy/j6cOHCMxov6/yk8EhQ8gpQaC/Dk50w6d6wP6zrmf7HS4XpK7qX9bFWSWh3xmoqqykwVRjDlM35f6T3n4kaAD52fcFdOT1wfuCvAJ4mWSkr48OXaf1iZbNFhreyqg3S+zU2aqySgz09FEG9GGW9RboZEvtD9eS+MHhIdyhU3Dp4nn0dnXZfifjAakCVtFqJX5nG7Jo0BUWF1O+FtqnY8aG6WQPDoNig2kYmY5+JDKHrr5OPH7+iAbzHGIrMSTp0Olgg/LaOurGalsi2kUeHxyfNTrxkvF08qqH9DQ1MYGH9x7gyoVL6Hn+DNHQLIlpkVmvIIdKS/ulnIEE1kmWNOlWMlrLvSVbE8SnJJjjsDjGoWboslZn6NQgF/cy3tzBEwbKGRl07l418YRKMiNZxjIRYltIiBvJK6fHXXB63ulup5flHOuAhbraWqvnQG8fRgeHENIKJ9WDkRfpGEif9fT0YHRsEgtR6Q064TScDawQleUE1UtLT7VSSjpQHyXXYPrB117Hm+9/gENvvYOOXbvp2FfQyE3YAHE8FmU6mvzMazW4WbvAHya3WXez+9hWBbXZpVsF9bNWRngpt7zUqzoxUNpL4OSpegp/CsQBHVo5T5W01TQQNTo2gUePnmAhHLfvMWb75SRk0iifw/POLly8dAE3b97AyNAw4suiDoHbeqfGhgdC+mExNvtmNozkkGrkyAFnhk7XVP1pdOhU88bmVjrOyxgcksx7juAs+56EI7qn4iWvTNvni7TNR6fUNjY1UU422CnWfsqNqfFRDA30Ixh0lhwb/VMHTFKGDg702Uetw8R9QhMeqjb/OE6cocUJ9sMJbMpq6zYHxiO9Khh+FS0VZCOpzeoBrTciaTpg79MiEqSfctVInT46NYmnz59jkHbyHJ1PuecqZ4425uOnOs03RDr02UmSOiBQNpRs1oLCctu+VFtZgNBUH548voOn3T1Y5Lty2pcN+taqX5UQJ4orNaCu/ZdLtPfEuRSulGdmHFu9VTvHcXJn6OypIYV9xzj6Jwvdx7oX5eeisrTY9p4+f9pJ+UebazrIMgxLNJmTWAjOkd96oVPonYN6NBhZxByom/nP+Std78gIh6Yki2mfsa4KkgfOoIGC4qwH43b3oa7p4XuAg4G/MYixdWLUwYMH8fOf/xwffvihOXZHj75hztzHH39sDp1mPFwwgl2FjS3eLAh0ZRM1TU4hnEuPvopKRHvlIqEZ3Ll7A4s0/AqKnW/mZLJTE7Q6kis+pstFYUEhGmsqkJmcR2B2lAw5gkxfBvKL6czROFDvicTYP6YEVEWHFZwONeVMQpLxZYzCjjVHjEaejcDLIEh1dEGRPtZ82EYcR4bHcffGTdAqRVVFOYW4TlljzvyvfGw/DfOw8cNMBRZHQeHNL0Z1TS327d7JtBH0dz7Fg9vX6UAN0IENYHZan4noxaPHXRgdn8IcFakmMHTyX1V1vY0a++lQTnQ/wpP7t8wwn6SRG5wL2UdCH1IoPXrWgykKUH9JHSrrWpBH49AEl7KxwEaLsRTYz9m0ZirL8+mM5bG9cdy8c8NOOoqBzl5FI7wl9bZ8oqgwF5HgKEYHOjE7OUpH0IcaGki5eflkfr85GXUUgiV0ACMU2OdOfY0HN6/RaZtFMAI7RraHguDSxSv4+sRpnD9/kc7sMA3oBVVDHaQuIfAH6cH5EPcK5omDeRoe2guYT0FTXlVpRyyXl5bQFk5imkbtcxqHQ4MDCMzRucr0Ydmrzcol2LWzg8baEob6u3D/9m06AzR0ZoM26ysB8PjJMxojPbZPMxKnEKKU8PtzrU/tQ7DRELqfPaaB98BO7tJBQVP6YO6zJ7h15659qHaOuNbsq0dGO3Hq4JjCg41x712KT1E7g8SD7twYWdBmXJ0gqjpdvHQFZ4mfJxRgkxReiaVM4pj96CtCtpe07fMb/vX9soICCtv67axvCwLjxMWty7h9+TyG2D59qH+cglxOuA6pOX7iG1y4cgPdg6P2oXVtRha9a3+VRvOyGVQr8bLW0mtjvOjYzCaTcuogR8nYEqNUK9Qu6zy3kQK7WoeuAz2Rr6dN+5MzU/bx4WcMg0M6wW/O9lZ1UzDfefiY7+dQRoNXy/H0QXPRyjyddvGyeF/fjqwuK0RZSbEp4qnZEB3BXue0R9JgFtsmZ8X6gG0xXiZfqy026mmdoT1EGQjO00EirtUPBSyrVjPTpIPC/HxToGN81zU4QdyNmNNo+BAe2E5hwbKinNCMH7NmOx18SLY4e6s0xqiRbhpGuvJfBmXZCmWZ9qcZUohT4VUf96+hsmxrbUZ4bhYPH9zCxYtn0EV5odMJZ+gI9/YP4sade/j665O4cP48OonDaCTCLFgXGYgsM74YpfE0i0g4wNoBpWVV9k1IfS9udrgfl8+cotPyCENTYQTmk1T6IdwnvX/N5ydPn6bxf9c+cq19v8KhnQjoyjX+VZv13NrO1hh5uF3u0oFwYc9XbHl2JeV7PBojD/Wgd3gGVQ3bKN8p1+iUSBkXl5eRh1dw78kj6BuZCTrLJVW1lC+51DeiV622cHb6aERcxqRrGDg1sSNarHYSKc6SsmX4aJjV1lSioa6Sb+K4epHtu34JveT/YCjCOoUxOzpBR+8BTp45i5Nnz+IhDSB9l1TLdk08sbxMGoBZxIOzfIc9L3zz6hiRxAdpTMemZ5rj6SBD9OEE55c4RwekCHul5RU2WLq8FMfIQDf59jHTL5K+/XTqS5Hj13H0RcihUTRBGT/KfgvNTaFYBwTk51GtsK9pfIlW2htrMTnch/s3r+PWtWsmE2fpDATYh0M9vbh+RbL3azsltbu3yz5qrkrJUHZVOZtCNPIHHbrishpbnprpybXv+T2+dwdjAxN2GMJCIIrBXjrm9x7iwcP7mKezIvm5TEMvj3pOJxG21OjbpEN4fOcmbl6+zPiDdOanqKunaQjr9MN7OHH2AuntAp7oFN8weduG34kbVsgGDYij1UDeUd/aQVJkv2w62hqD0MzNEsvWLIuWGWpPM/1K40MHiHvyuEbqncMgHJoUj9oo/RKNUOoSyT1bxmbUJBktwzNFX25+xvCUGbw4s33OoUaagfYXlaOxbSdR58NQ3zM8f3QT/XR4ZwIz1J0hDAyP0HF4hidPnlO/j9tgbIaH9dJpTy+AyhEOPPZtLg1oamZPp+lqeWVNTQHKyn00DbyYId46KTOHSB8L1FGazXXXSNigk/JKB8OLpLjaQT0remSw2RHGd2rDSJRxtkSYdpAzY0ScWFZCnvRAyognfvQJHI/Hj7LSMrS0NFGGeTE2NIjz35zEs8cPMU57JhqeQ3ByHA8eP8IpypjjXx/DjevXMTM+iSRlgg1/ZVPvLEdJT9QFwVk6vVGbkZFeT2TksDQN3rBP2JkiE3P+WG+td7E1L6yHZoM0gCqbq5AOZuv2XfD6C0wv3Ll2GUNdj1mPCZpgi5iZDOLZ816cu0Q7LBCGr7AYdW1tqGYbauprUFVZSnuHTvjTRxjoeobwTBjzoTk7Wfrxk07qr+cYGxuzGTBtIzDskMCcf4YpJ4jgdGWlVTdtB5BskrzP4tV0hp6JAY3eSOmkY2NLtk82hhzWjCX2AWldjkem9Zwj9RTkwLh3Auk3feN5ZSlG2U7n+u4ddD3Wp2gGMb+omcUA9G1UfTh9dDqMfMrfna2tqCnKNwdc5WbnF6KiogzNtRWIz02i63k3nvTocwXVqKjbTlqsMadRW1rUUi3h1rcTI/MBzAV1cq8+rUNbQzYd83OW9To2haxzaVHrK75LkNZleYuybPsR5ZCPNk5FQ4OdUN5Pe/f5o3uU2U8RoG4I6TT8yVnq/H7ce/CcDt0A6mrIG1V+5Oex3aRdO8iIJUk3Z7OOxsM2I0470WSJ4xRa3y1rjzV5mc9Ml/GPDeYoC0Opg1fn6t5/PxBa/+agURud7KejRd955x38h//wH/Af/+N/xP/6v/4/8e///b/H4cOH7QAG20+UgpdOH6+Ci4T0oOYJuRI/2fB7fHTmclFRmIc4lc1jdp4/z4eKmmrQjrVoIuP4kgygLPhz/Gisq0CuV8vjwlhYnENeofYWFNgJU5laZ2hD8VIEYiDXYXMMMZW+wvfGQ3wgY04jXTL8dOKVtIYd7c74mopu7dgJf34JQqF5dNHwllupo9dLS3RqGKPxt5bmGEOTcpYzmR+ZzgxJFpKRV2RLxd6mY1xdUmgfg/3yv/9XOj8n7CS982cv4dTJ87h58x5C81HERfyZZIRML/QF/10d2/Dang5EZ4aoIM/iFNOdv3yVwuiyHRZy8pvTeE6lWV7fhtr2Paikka/vUQkFwrbArkbkesjglQPM/Cv0DbEE7hPn41TYS9m58BRWYSmnzD4QWl5GZ2IlgmhIgjmAfCoWfcOtgMaGvsGVx2tjSzP2H9qHBgrCxw/u4PSxL/DFf/8XnKVQ10l6X3z+BT7//Es8f9bNvoCNZhYVFjhdRGXhLEmTCGObaeR6aKyUlVWgsLCIgn0RF2mQHDtxgorgBC7SiD11/Csc//ILXL10kQZCP8KRKOaiCcwnM+GjI7t37077sLTExMWzZ/D1seM4xbQXaKyd+Eqn232DZz0DGJ0NM12chnqc+CLd11bjnaNHUFNWQOHXiy//9Ed88afPGf8ETn1zCifYnguXr6B/cIyKR4qFipUC15agsPZr6kWmm0NnGkRwg9MXTkznLVus07Ts6H8vnbhZ3Lp9D8eO6/S9b9ivNHpIF198eRpnz16GTuxraqzHvn0HUVxSjcYmHXpwEJXE5cjzBzj+x/+Cb77+CufOnsO5cxfwR9b9zJnz6KJD69XSrOJyeNhnCRpAsZgO3Ina8pEsKUpWK0GDYCEex0IsilhC31BMQt80c9b1m7i1WpuRw6vTHlG/A8ZPuqYFF3SvGYrFRMxmVR89eogr7L+Tp77BN+yXL06ewufso9v3HyHL68fh199AU0sjnZEi6GQ47ZecZz9r6eWJr760gYMrFy/g+PGviaOzuH7jFp2goI2gLrNtWi9rJ57RKVmgTNF3qPQ9Po3ImcjSrJ1O3NTSksYWc6pv3biCP/23f8GpE8dx5jTr9Q1p55tzuHr3MYbGZxBeIF6ENwY5O9oz4xxOw/KIM0e3EVdEjvZc6RjxKGlLJ8dSIFBR8wUND602WF7Rqbqa+aV8Yj5J5uMlLTRTTrz3s3fNoBgZ6sOf2KdfffUFTtPRukzaO8b2njp9zgYAxDvlJcRPXh4VuJ/8WECeKUY4RCf0qfYcnkZnZyf7xYNDB4/g0J7dyKdBdOmbE/jzH/8b/vTnL3Hm/EV8QZr5b1/+CX8mXvX9JjkSxeJvyk8ZvQm2LxbTMtkokpr9E70IhQyiA9uTJJzKeJFqkBzkA2dEGXZSZWlBPopoJIyOTWN8ZgG1TTuQV1RFvsuHvkGVW1CAJOvWQ2Nwgdo2u6AMBaVVtql/WQfkrMSMJueJ5xCde+3DFL+pBDtwhHiNL9FQpeGjgw3saG/2kevQ7duzA0106gZ6n+HsqWM49qf/QufuLPnqDL4if/938srt+w8QpPGsEWgtHdTysWgsbh94XlqMkEH0vTWZA5RZJHZJLTMAqD/ERyuJBQbSgixRglwD/TO3TriQAUp5IaxpwK24pNhmAuZmx+mQdSERDSCX+ksfydeR8GUlZfYdqQRloA550ExlbW0FfLk+uhIOd7XToTt6eK8ZXs8e3sM//+f/A8cpb8+cOIlzJ0/ixLFjpOeTuHvvHuUVZX5hPmW231IrODysWSwnPxmQ5dX16Nh1CHv3v0ZnawEXaISf+PLP+PqLrxhOUi4ex6ULl9Hd1Wmf20gkdaAP9Q3ldmtjAw7v3obakjwMdD7FV3/6E05SR0n2XqLs/uLzz2nUn8WDZ12IEx/6nIgz+OixmY55tjW0sEA5oQEEUpiW7maRVxjMoSNqs2Wkkc60LG6BPBman8eijr8njuS8OVTHlml2gL+1pF0WnPrBlt+Tz2SwiZZjlIFajic7MmH7cZxli6L5ZdKY5SeaZmrpZB24tEg+WIzNIUbbQ8vusyhbd+0/ggYaoIvhaVy5cIJ673OcOH2K8uO0Daidohzp7OyhgzZPuaPDdWR0OnSyHhxHJYO4LCytQHmlBk/zcPvWTZMD0gunqQu+Zt5ffvMNLly/ge6+flseuByLmdzLJB7ljEpeWy8bcwqIA1r7kuSRxBJC1H1RyiYtaZXB68QiXmj7qI2RKNtHeqZFw/qI2+XA0SDnew1EJNhHOh06FltGAXl7J+2U3Ts72GtLxMFZO8Tl2JeUMdRHJ04JDydMh05OT9Lxow1XW0enwGezssXF+QiGZ/BY+5nPnUFnVzdm5+ZtYCe6lGUDkVq5Qwaz5liXaPsIgz4zFYsv01aQLo9RDiwhl3Kwbcdu7Nx7ADlknMtnyA9ffY4Lp07ixpXrOHH8NP785+N2IrROmm7euQu1dOiKa6pQ19yA118/yH6P0565TVuNtgx1wln2pWyHk9+cpZ6+Y7PhcdKc4wmwaib3WC83EDRwoAprJlTycIHyRAcNUlCZQ2f0Sfwnk8Qtn+l7kVou6fQdcW6D3KQ9knBigbpHdC45xLfatmPyh+9tYDAF1l8MciHlTHc9eYzLlHMnjx+nrXkWx8iPn39JPXL+KhaXs7Ft2w77vm1dcSFlG4H0R8ZknxShraEKfsTZ1iAGxiPwlLSjhnaHl3JCdrAGAlTPUsoyDTaPDvfhzp2ruHHzGgKjY9SZOkGSvh3rnCAtJchzNlPOVJp0EV8t8n2UMnsxnqDc1gFetMNzctC2azf2HTxAuefBU8q241/8Gae/Po5z7IdTJ7/Bf/1vn+PqtbsmA44ePYDtHdW0S3W44Qp9yWXqXe0hdAbijHpJJ3LoJIMlDXTar5bfahCOnG02kPBmzpzQ6fajBf1xwZCeuip8N2T9b4TU/d8U5KBJ4OlY2VJ6x+6SS12LNCXrIcIY54cvuUwhxlX+vOgEMh89ZH0raHQqgJGpIA6+8RYOHH4NTTTMFc0BLQHIpjCPwRMP2QzM5AKFS14xdjLujm2NqK2iA6IPGbKTklQ2XRQMY7NaQ5yDI2+8TaVeQYdQq3XFNFRj7FTt15oKhm0k8DUaks0NjKO1LjoKnz2rdcUazRkYmsLMzDzeeP0dO72xrqEStrWKqFB/28k+xtxy7hTUVhnEWnKVZfsXcrRHgIo1FJjBzOQkhgeHMDE+haUka0OFMb+YwHYy1/adO9DWvs2OLfaToAtZ5xw5ilQoM3Mh9I+M0TjpwuhQP8sFapo7sP/o+9ix/yiN33o6CanpZgZd1/WW1VEzTGSewAiGJ6bwsLMPzR27sYeG3wHiyefTgSFJxEOTGO19ikAkgbzSauw/8jb27GhDRSmZn4wjHErWa6+Klw7goo50p5CfnhhFf083+nq7MT01zfZ70N7egYMHdLLcXhRJeKSNUDoDA8yNElHru7W3MJmkMcnfs6EFjJMuhvTh0oEeRIg7fYemgk61HdFOZVJUVYuWnfvQRKcy36clh3Gj4+hCDMHZEEYHBzE2NGRLeWMUgIsrXhRXN9BpaMbuvbtRWUnjKd+PQqWlILfZm3AUE6TFkaEeTE8OYzE6R0bXunAPWtt2oX3HLrSwjzRjpjN6pER1kpRapT5xzDld14Lz1223+MgR9sJkkkJIHwIOBEjbw2Okyz500/Ecm5ghtXrRwD4+/PpRHNjdQQPZD20c9tEp8ZEnJFwj4SCmJicwODyMwcFhTExMk3b99i2dw6+/jlYqXO0nmp7Rd4BGsRBZRFNDM52IFlSVlUIfiR2iQT00Nmr6Yc/+vdi/ay/pWIYH+0T1Jenoqu5ylA7f8N6ZkbKfq6BWWUtJs8nFIIYHnlsYCcSoONtJT43MI0YefYz+gS4EqMCLy6uwZ5/2d72O+oZGGjO55PkVCt6oGSvTgTn2yTSGWcfp8WGEZmeMvvNKKuwD5FLkZYV+7CON6qAFfVvwSRcdWtKIlrDu2NaMkjwdJsE20aCSaM/wF2E2msCsTs0dHbER5ikpo9Ac8as9RXnIzitFfMVH568d+2iwZi0vYGZiEAPDNE6K9a2uDuxoq0FhLvPMoJFLp7m7ZwjDI9M2m3v0zffQwLQleZqfo7EYD9rsYNfAJOYTmSgpKMSRfQdQW1Fl+1vN8SSyF+i86FTT4eEh9Pf3YYz1EtQ1tODI629i1+7dqKsoQZ6mLOjMxhMZxM+c8zmXsWE6TJm2ZLu5sZ5KeAW5zFNO5lwkThkybR/47SdfBedmbDbsIOXogYOH0dbcTPx5MDsxjqfPnrEzM1FJPbCLTqGW5vjIJ0bnFlL9TBBNuKsfdHWO8qbRp2/qDYxhOpoBf0UL3nr3PbQ0N9mhM1pqNzWho+778ax/FE27XsP2Q+9j/4G9KMhZRk6GDoSKo29wACOsz1RwAbsP0OFv3YXKEh/8pLtMOn3yo8Zmwhid1rc4J2wAbUd7K/SdI31ewQYnaEbI0AnMTmGwvwe93V3E7QjCNAar6luwg7R36PAB1NWUscyo9W/f0AxtnHzs370D25qqUVmsb5OxrST/hcgCeWkGA/3DzNdDx3GXHVJTVJBaTscSpevEKXaqGh0K8byc0cWI+HzEVltk0cjft3eXreJopFPk93oRmwsjTB3RQ4M9j/zZtKMDR996g7KqnEZqDukMyGV+BZSj+gqO3LI50ouWNI72E1dahk160acSmtifh98gXnfvQll1pc0OGT+zj9RnxsvMz3S7x4tsGnS+HB1Gls16LpLWxzFBXTPJ+kbCETs8IY90IN184JBk+n4aU4WkGdZH+zrN2sxCmPiZ0aEvfV0Y6O60zxKtZOeiuqmD8uUA9uzajvrqchuckMzrHxjG1GyQhvg+7Nq3H14a4+HALCZGhkmH3SirbUI75fz2tkaE2c6RnucYG5+05dKtuw7YTGwxhaFvxRl4GB9lPw+RZqZmKE9q0b6tlYZqMYaHRkj3AzaouG9PB3Zub8M8jeXnfcMYGp9GdXUt9mzfgR0tjYZb6NS8ZARz8xE86aZ8HZ3Bzl270MH3jbW1NmsqC1trHKQnZmcmMDDYb6cUh4kvfftKS9EycouRU1JpJz821ZajPI8amvWUOaQOIPqNVtQjmqnQCdfapzYXDtERIp0R/8OUTxoE0MxCDp1h+EuR4StCTXUdOpprLeR7tSpgjSsdTmX+zHxyepq8xHaOTaCBuuHIG0cp42hnUF+KN8YoN3qod0ZGxrGLRnX7thbU1dcyORNTLmlgp6uzE+G5BerYPBw4cBjVNZX23UKSGnJ0IAajLtB5HRkeQBf7vaevD9PBoH2eybb0HD6MvTt2kM5ykEG5paPmJ6bHMTkzi2HaQ9ozqGV3hcTr3fuPMEunMbesGnsPHERNRal9A1bLcpPUl2HaQ110lucYx19cThvldTv3QIPP2exgHc6kQ2t02vj06DAGOkmLfQMIRpLIL63B4TffwaEjB1HfXI9c8m1OjpflUr/KPqHTNTM5bbPkI0O91q8aWNX3IpHlxzbaAB3tLdjW3kTskhuky02n85ad6ToJ8yHJ4zE8pz3qzS2i7H4bZaXlWIrOY7inE4sL86xLObbroJjSEtohHhtopQeEOdoDg5QvIerHkopqvPbWO8jJzTObw7XvrIvtSgm3GMLU2BCePX5AuR5GGXVqcXEZHaqY6RDJ/NlAGPlFxNWhozgoeU87qDBHJ9YaGRPoEGqAirQ82En9PJtAzF+PXW9/ikP7dqOqUDZWgvFErUy0ELYVVUPk0+BcwFaNFBeXkHaBWeqvp88eU//VoZH2Ul1LKzKy9WkxzSgnEJyZxtDkHHqHp1FR00jdU2841b5QX24+bUs/+5qyZI60MTCAPtrrI7SbFyNRlJMmdlBOvPb2m2hub0RxbgYWQ9Poef4UI7MRFJTX0e4hDddXooTvNAinw4bETz19PQgE51FVWUNnUKudKuHL1uC27Hi2yfhHyHBDOqjdfCaGfeHdi/Cv5tC5oJEsn89HpObaMkw5eHpm9Sf8cIdOkEKCjSo4+eh4aBka8/EVxJYy8M7P3rPN0+VlxWZEaimFFBh5hUmTTE1hTeMu4S0ww1xHNevjieWFefbJAi3HSNDTn6QjEFvOhr+gGPv276PBRGOEmUnBa1mClmRNU1DGWabXT6V98CDqqksYh+XQiJCx7ZFD96wToxNBmyU8+tZ76NixDaVl+pglccUmuEsWbDTWglqYuqOlK4LMp8Gk9dmFNLC0pGBsapJCLoAV4rV1+3YaaU1U1LnYtXM32ihoNVPqY9ky8HR8d3EhnVUq0mAwRAdjik7hrOW7g/EPH30Hb7z5LurqGhhf+3scRnfqlMK4BHJKXcjplIDWRzjnY6BxGcfu/YdpRO1Dx/ZtdmiJNudSYtp+gJXsAjJbC/FzBO0t9XZ0v+OGsG9oABRTkJaSuQryCm22IUCnYXx8lMI/bsvk5AAf1d6ngwdQXVVlDqALqhFLYlCvEldEaL42xVKY6+OPGoEJsq0zUxN00CKkiXIqme04dPCQTckXlBSjiAZPSxsVTxUFufbD0WHUh0PV8jktTSW+NHpXWlVjAqWipgqNLQ0UZI3YTqNPn84oJI1rz1SRDlFgnTU6H6AQ0Yd9pRga2B+tbTtZZgWd7Q46g6229tyfS+FPRAgXGv/UneugvhxS7yg0fDTeZGRo/6ociDk6Evo4qz6+ukAjQ8+bWtroFLyF3Xv2oqFaRrCc6EzbSyhD20c+1YeNlS4UCtKoiJtS3EmF/OabdALZr1VVleThTAreEKLRiNFScxNxVtdoH4zWqLSWM+ijqgWsj5yFbc2tbJFDM+m0nd40Ge4WeK9muy13aI9PzaELYaS/E5Nj/QjHPNi2h4Zpw3bbxzTY34X44jzpp9L2SB468gY6KGDzhFdvhn2MubSowNbWh8k3Mvg0Kq/RNc30trQ2Y+e+g6QB8hYVVxEdth36kCzTJyljZmbnbMZ3u5anNelj8dqK71Q2j45eOQ2hOB14jQDPjI9TIYRtVL6Y+NuxYyfzb0dtg/Dgsf7eTsXh9WivZ8i+XagZDe3XaGkoZV3l0GmDeAZlT5BGYoLGrx+HDr2O2po60A/neypCGjH6duNUMIZMbx4qdMopZUBZSakdGFBSUki+yTX5pKU+QTquc5R3/px8tLZux1tv/wyHjxxBY0ODnQamgyS098ifV0QjOm4fS9UeD52AV1Ndg7a2NvZxiW36l5wL0Uifmp4lX8hBXEZlVTWO0BDSR4x30pAt0Qw632gARN+g1EEHtfWNlA0dyOc7HZpiKFwN+qsbxz0QyMHXaL1kzXIsQjlD49TjM1y+/eYRVJUXEF8y/h3jTwo6FF3G/tfesRNfWxt1wrCcbg0+ZbEfw8T5EtUGZeRuGmB0wMqKvDRCRJuKk2mOmQ5I0mj3YcqaBvEnjcYCGoflZcIFHX+2dy5I42CIRlIoQjmXjfqmdrz2xts0tI6iva0BhXk+5hEl/y9gbmHJTpXcs2c7GmrLSBf6vI3T4lgskfpgNfmU8nk3nb6a2krKQS3tSQFZwHiDvOdwEFMSfclEHBHWV8uwdLjWQeqn7e1ttvRbukkj8YuLrAMNpZrmFmzftQeH6ASVEf8azLFZGBrheXn5qK2rQw6v2q88ThqeC5CPyStetn0H9egbb71lgzo19XXI1VfCVweeVCPmY1d1n2axtPeS+KIhqENXNKg5SYduPjxLpzlmsnPbzl1oI48q/t59e9GxbRtyKbO1FFC0o0/i6DteCQ3CTE9QLk0iSL7y+vNs/9frR4+yf/aipb4aRbla5rLM/g0Qj/NGN7v3yJFop3zwID5Px5Z0qA8+VzW1orljB5oaa7FIoywc0H7IJdRRLjdv22XfjS0gPWlQTm0MsV+0hUGzcM3kfRmu2p8cpAyZD9PYLS2ivt1m35zVQU1Ts6TD+LLJxR3si8baKtPv7C3SQ4wO1jLrEWEcYOeO7ZSPtaioLoOX/V3IfIvLyuickL5YXw0qaKlZZUUVy22l85LvfHrIl0862Y3mGjl0mrFNOXRs9yofEfT9OZ10WkK+DZOf9T1RLYXWyorC/Bw66ZpJ3YPS2hbqq3IbdG+lDdRM+vNnOyc2OvkpY13ZEBakLQTSMfGlpA3y7d67xznYxehzmTpgFoHZEGl7ifXcY0spNeDpZpNMJk2farVUcVGpObaVVZRbRfoubzEdiAob/NdAlL6nqW/oxZNxyvdy7CX9vvfeezhAe6CAMk4Z6vTgfMo6LavX/vBxOt9VlEc1LFP7uDQIAB9lZG0DbR2WVVpog0ASQZpF1Qy69qFnMY5kubYF1ZTlI5d0XFFZyvpUmg2l2VjVZYROh2ZBK+ub8TqduTfffgfbqS9yqRd0IEoeaV/L7ktL2a/UkZJ/U9OTrF+IctBPWd9s5ycUU1Zvo4PSStrRAUfiJUOQhZT+41XTa5pBFr0F6ZzJKdM2HjlumdQDIbMvMlBWXYs2yl7RkQ4KyjIHepk2D+0Q2nyaPa+ub8I+OtCiDbXf7DyVwSC+ET8uxhYwStn/lE63Zr927tprezBFDwOUefpUTyn1zRuvv4nXdVYGaUDOk31nlIrPmcNNsqNjNIEX0aN9oeFlZBfX4vV3PsShnZRvJFutgHLBL0+ecnSW7ROfa6uMZJIGZLVPPEAnr6WtlXZMu606k4yRQ6c8FujUhqJJzFOX1jdqgLke9XUaJKFtz3rKps1m/hHaLcND/ZRtszbzWU97WQcFvU7Z1rGjA6WkJy+fxzWoxX6O0u4vo4PYLFuNPKqBHtm8NjNP2TrNfDRrJ/unva2dukH9zWbI4TBiN8ZPgZCcutitG2f1wbdCxoq7+PbvBJx15lQyvCr8OIeOoNZZ4J/lBRLPPKLzQQxPzNoIWVPbdjJjnTGiZqaF40wtUdDcsz4cGKPBQoN3NgpEM/34/7P3H9yRHFmaIPpBI6C1FglkIrWW1GRRlKIo3V1V3TUze/bMnhF9Zt857w+8v7F73pt5M7M7012C1VVkUVRRZyZTMrVOaK01EAACYr/vmltEAIlMZrKYbIq4gIW7m5u4du3aFebm5gWlVSjJz0ZBZhqZhAJyiYpynsYfDdzhKTolFMDlMlzzQlQSKxQi9MSXtVRm3gTv4AQH1twKjfxNtiNbKIUZlmbYE5Q2ZNT/+v/9Lzh15hbCkRC++/LP6NjsRFkFjR7qIk3kiBqa/dX+S1pyJ8FoDquYQu1kXZrd0rsCWhOvd7IGKBRnObi0dFE7l+kNm9GhUVu+UEBHtrS8xLLrCaYMwLkZCoQpGp0U7KN0UhZoeMv50QfCi8oqaRSUuirFZ4aPw8sHKQ4JCHuSKANoeR7hsSH0Ds+gs3+cArYSRRRkxaWlNrjTl9gv4TH0d7agbyyC2eUQKuu3UcgWgrKPgkQDn41Tv/CoHYc0m9RPemqd9iwdKL2Yr/aUscxiCnR9d0a75wlEFn8URq4U4kpFg0gYy5E5Opph8sSwCfoFlifHWUZqaWEhiumEzVKpj9MQ1DdU8un0FhfmIovKbHFpjvdmMTo8ZsrJlDqJk0chra2/9W09GVg5dOJKGZcbykKGdKswmJ3EyOQkeqlYhnlcoMLIZJmFthQqm0Z6GPqoqozcYiqeVDqnmtWy92usFTSO3MyDCrwLsB41lnlsbNExn6XhpuWI+vaQlK6WZmicZelD3IWkX3kNMunkhkyYapnAnHwlKl4a8OSHcRpxYzSKtNRAc18ZdK5zma+IRouUrb5rp001pqbGqGyHafAt0pEso1IupfOTTud+jv3H8cK+C9PYLKkoRyUdYD1fEI728VC2SUcPaoKexmhp89Kq5uqJHnmN7dPGPXNjnTj1wR9x4cTbuNo5i33P/Ay1O7+FqopCDPW3k8dnjZ4VVXXIJ865eorGUuT266XmJTqgUyND6BnSeKasWNSTYRrCdPRKiwqQnV9MXpmn8R0h34RteV1OSEt1lnGztQuLyekc10X2UfgsfTSahLOlpJITC2F0DfSij+VPjE2z3jT2d5bRvbikGHrpf3E5lYp9GmkZrK8kh2N+HjOTA+gfofOXTme8oNKWL2elz9Jhm6DSSKJDPonhEX3UO0K5so19UEDepPJLphOxNErHdhE9us/hrZUHtRXaVSzbFOoilekUleDQ8Ig5HfrY7XxkhXyXhfyCUlSwb3Ip7zQxkkoHMVVLkTie9U3L1rZODJLv9S23ggKtsqiwz6+scEzMzUxgZGIaA2yLJnHCkUVk0oDRRhgyYgppTIjXk9hn6ezXMA2/zu5eo3e63mug0ZhF40urnQTqI70PEuN259iLRTQRkCa8ViikJ4fR2TeGXsqR5cxiGkVytJY55pbMoJsdH8c4+V6baGQW1SCrpJYOXw4ymDcDpBfLGx4Zt5nlUcrq4op65BVXgWyNzCS9O0VHgH06QgdsmH04wvbXVddQRhSaQa5VBPqQd5hG3QhpOjIyasbHMhV6Bg3sfBoOxeXVlA/6ximdbsnquTEMj0+jY2AWM0tZqCgvRWl+Ggqy2G5ZUaxvdnbOJgyG6WxqCW2FPhpOGaQNoUQHA7KZTYqwEZJzZFCOoUWKdPYDdUA/cdWSIxnCbuKOhgkdmRXqrykakx1dPXQEMpFdWEJnsdo2shE9km3Jlgq3UjFJGg6OjFDnjWCWOka7U2uFhzbPkEzXUs5UGoIy8rXcyfWbK8vccF3zXGNdoJUl+mbg8JDkyjCWIjM0IhdtgjcrN58IpFFWDaOcfKt3P92KC+LCtq0sLJghrCcuY3Rupsm/2vgxW09eKG8LGOT45ZFQelqpp++afB2gYT5JWV1G/tZ755k0bBemJjA5NIDOnh4gtwB5NAgr6FQuSo71dZKGI0jLr0RueSPy8zJQQDSyV7SLCzBNftB7sKM0iHPzslBaWmT4i0YDNPpkNJeX5qOsOJ86YwndQ5OUA9OU87mopl6tLCX/iBjiYdoD2kGys28SPYMzLKsc5UU0OnMlO8N0kEDnkjxIOewn1kJyytgH2gHz6MlPcLltAONLGfjRT36KR/fQGSjUkkG9y+P6wqqSTqC9oL6Q86RJvZ7efuOzmdl58ms6HaYMyvUQ+yEPE+FU9I8uIlnv3OeHUF2Si5Dsa3WsgTqYRNElO2FumgYvjdkh6oocjvsqOrq2qy37QRMjehd+gPbA4MA4dXYZ7bBC9hf7WwY8eU1Oeg9lwrTeI1/JoLNQTb2eCb1+ovfuJHemaNR3dXVhis64NLs2ptKko+orLS1DIWWJVtAY71Iuablyd18PegfH7Ql8RWU1akqKUEYZZ++EzlNea3M52nB52U7f2oQG9VSEvN7T3YOJBeKfVWC7qxbl0VFkzTQkzJmaoh4f1ZgfIc+MTdCB5DjPpz1SVE59o6d5yZTBlBNyaKQX2CezlH2jWhGiz+OwDL37lUU9mc9xJEdAH9wuLCimI1HEUMx8lNwks76HKIPL9B/r1wqFBdoME6S36LZMGV7XtJ1jMYQVyuOxnnaSYBpJWTkoqa1DKm2REOWL2RKUQwuU/91dvZjhGErPKWLerfLtjAZKEnPohHsyJqeGceXSefzut7/GMG2nR+m47dmzz94rHGR79H5mDp2lcjqQOdla8q5liiyP49eefGr1Cp2exUnKSeL2+h/+gI9vj2C5eDO+/4v/Dc8eIt1YZbo+WSX9LnkRiWB8gnh2Oz6V3aIHEpqc1CRQb28n5U+u0Tsrr5icJGuXdhXt7LlZytmxOergcfKzXmXKRxFprAlK2Xv6bIbeg1QYGx0xNtbmLSHaN8W0m7V0Xe+Yavf9FMr4BTp+/T1d6BmnzMkoQEFVA3kpExTdRtNlppmkc97TS56hLsnLKTZfo6hAn+khr2r/C3VgNAQEjoLko5ORd95bH76UDl388a926AjGCwzmpFFgamvqeSoCGcxaV5+eFjKlou/D2JMPVUmBam+oMaPWSutbLvpmm5b0aVemTBrGhhrR1AvPEj5a966XmVPoXGgmRANBSwuSKTT1IrUewYYXUzBHo03OVWYqnSx902k5jAiNrhk6Ff/H//Gf0dJOI6FhD5569vvYvLUeOfnJtkw/RgkaXByAacTVmTWUEBop6nC1cZmBCkRLCuc5APTEaF5vZxL/9IwsmgNS4svMT7M5LVV7ophhJEFrg5sDQzuvaRtYrTd2L6On2rK69HQytASqIOCvoOYoOHPC4SZBo/XokblZhBeSbAe4lHQydDprp6CVMknXFinawSw8ZU8T5pf0EWw6c1puxcIVVL7jCDZDwpkOspa6ykBR27SMNI3lZRDHTAqOtWyjvApsndSFYahli/pIuAShPt6q97rmaajqeylymfQUMytDy2+Zc4ltIB9oZlqfFkilAaCXvBlDkgsfPR0ireltzJG+SZl6CibjxT5dyTbSeE8N8Zegxgg/CrMlOtCzdAzmyT9aw66FcukUxCnsFy2BsbXx4jkqbOWT0pdxoEkH0U6TH67AuwFx179oRtCTYM1caF33PB11e6+D99yMOQUVx0JaZoj97bLSYqKRSv61ely+Zb2ETJ6i98GWUUinU2GwbbZlf5QVmU5ODNu3pE1XUjUzR2VM5a/15itsuz5wLYNPs+0ZdFzdgjE2Vw4dT0WNeBBH3enQiSbeoYsgbA7dazh/4s+42TOLR174JbYd4TjaVE8enGSZC0giA6dmZhvv0+eyPpFD58ogh5AuczZWqSBVAdPoMytpxFNPG7XhBG/ZZE4m+UNLgsUC2rrafdKC8oHOip+AifIiHaGF+SksLExSFrBYGinJSVpSozGob+qkG/30iopAdoiWVi0tkT/oMGozEr0/lJ7OsZ+sz4pMG69GImzVgpYOyynP1woqjhHiTIWRROMwTJ6eJyYKKlHL7NKZSArVlCrbsaS+pCOnjYLm9fXV5Cw6kBxLdDqsHeQ5Ud8/LZd8CVNZadc7vZ+XnJxJfs+hwpNwcJM4KnOO4yLCKiKSn+zjJI5P6kQzgkRzvYBvELzXsMQxZXJWM/8syniJoIk2J+t0dAygK8kt8Y19Pl+Kf3FGE76YWUijLJYRkUp6sOUpHIN6V490XGE7tTpDT/GW2J8ysLR0Wk88tVRGT07of9pyaC3503eT9KBf34xMpnGg8eLeoSO9OBb0XqE2LZIDpZlXfWfSsOI9TYKE55h+WTfYf0yrD9hK5qr9mkQQzvqExHSEpscKxwnHUXbaMo3lJTOiNHTlNM3TkhefiV8yM2VYOP4yqog+DLqtyTYd9bHkZOqCJOIlHbXAIJ1gGyyxDFtGLg+UqU0e0EBOWtF3tDhO9UhbZHakZhIWLlzVIcRFTyy0TG9uQe8SsQ4yeUZI71fqqaK99ReVT9qAwPqI8a7vnFMRc+iS6GexT0gv7Zy6Yq8gLHKskU7adpW9q/eobAwyzjkhbKECcddkqSYdw+Ih6taFJNKG8jKDzoOc0kwZkEG9bGjA4xqzxIlE1LfDbBUN2yEHcUbvcnIgLrOMzGzKQ73PNT9jT0hX0vKQEsoxnslicbbkUgOEfK53WbUEWh9S1gSIPmMyF5kzGmk23vBhnEg5Q/07Q8dAO9SGSLMQGcdsBelv01CUA7w/y6DXT1I5lhfCk/ZO8JyWBeYU0umu5XjXpx9STPdpw5Lujnb84U9vo21oCulF1ebQ7d9Wh6osdZ+MTMl6K97IoT51OkSn1Pccg7JF9L6VlssmpfE+9VgKaTG/mI7ZsC2ghVZw6umJGfmuIMcrfsBqXFOeih6zpGcS25CRRRnHNGpjMukmx35BK6XmtUyZ41D6XrSkvSB9JVy1+mnZPBfyAmmVQsUg+ZZsXgZ7n/wiR1QOqbVD/Uh66J1Y6bMM2WmaLCfPOLpyLBCfKaM/+yqdzh/7Kov00+7GxNTkQqrGV9AUm+QnbySzjnnSh5KC6GRBO+bLMVEyazrL1wYhejdSG83MhBdpK0mXUzdStmu8qkyNe+VRf5NQThdqPLF8OfvSvWqD+F11S9dmWNspP/SuJ9u0zCZR3Jv8kxWirWfM7iK9pZ+1ckbtCOW55crJHBsrs5P23twi+yKJ+kYI6embdYp0n/LNkMclQNQfWVre69om8pkeU1KWqP0IRqdHcenKJfz6N7/G1OAQnnviCTz92JOo3rAJYcpHSVO90qLJHmMxs0mpc9h3ehgiuaQnc5ND/Wi9fgXHjh5F23gSanc/Tb39Q+xr0Gsp6nnKdYFwZO3sCvIMxzHHnK61SZD7xJn4RZPTol+IPKL3YZWEmCRpUlqf8QD7xk1Yppps10SHmukm/BbnNKFPPU67SFJsiUpIk7SyF/Qak570Ka2B+JM8oz0V5inQ9T6eJlJlU2iZqJam64nxbJj8yXpDtuFcNmWYZB8bQd2rseQo7I8KHgx5d3rHvfXhS+fQCdzmIk7QfB4OnThavGAfwmXnpujJjWdiEkmOnOw47QKkWVYty5RTtEgcbHBRMGjbcL0NsMA8SRw09gSBTGTFm8JiQjESr9XdOgpzfWJADoN7740RNGW0k5ZEy8riLBl6CvOzExgeGkV7eyd+9+prZIIQnnnuFew/9ARq6woo6ILClIdBxegpjZw6N1B00xadMYEaIgzITrzplqgpyEnhkGeDqGpMEIkuYngzEliOZKS2D3fCj0CFHw9KJjrJ0ZNAtYk5BhWlU8dI+nXB1WwmOAchBalq5kATLj6VgKZoMEgUtDOfnBm7ZWBOQnBuII0obLyECcDK44/RhEA2ckkCCHJFg2ZsRUNJCAlGCUrtEsWetbTRrOITWUtWl/ralSXBJqdLJDODjkc5/hK0rvwYbax4hmhmpQj6Si85K3GSuRZKFfQlwXDlhY4Cd1dBtGIe39i7AjOrMPKyxpQfV+bYCSx/cB6ASqa9w0rZd+RdOSxuHLr2O/CtcjxCeWVOjhxQFalltBKwtpMrG7dEAa/ZRtsNkmNLik2fgNA7n2qbqOooG7SPHaIQD+LnKC3ibskR0/iSozg71oMTH7yOcx//BTe6p/DE936OPY+/iF1b6w1TBdVi+PJEw1LGmfW4GEaBNFIjlsngCk7oBjjylt6rjAcZycJLM9U8WBE6EYoim40TA9FCNTOQFtq22XbEYlrlkx5VyXbOIFC5ND2ZVhLHla8ZXDkwSXQutOQymQas5onFtwJLw6oMSzmD5O8UOlJLyZq00njUCLRecbLJsskR04mQjRHX42LszzNjFwM1UoEVqS1G2eAmZR6py8DrJMYrEIyvXKzV72IJKlsDXsXJwmACk0k8tWoFPJEBKDD+dVEmn9UvMmhEE3MmNY6WqYiXqFbprCbJsaWTJSdGSGiDIT31ESi1+ktLq1SGq1TYOTyEhvEJzyWnjObEVe+4avpausOEhxKy8FSt2RdTGTDeQC0lh7FuG1dBFaKaZv+pBMhX5LVU97aInH2RIZ1OjTAxllRZ4jvpJl9sAMauKlfnCkwmWuvGijY/YMUyeGzDFMtMuUVBLkfLxrWKFE1FF98WJfPBg5hRCkB5pCjjwMsV1S+j1D5Hwmt989H0I++7pXkO/FG4+yAaO7EkBBR0oZs8yCjXFflXjiqpxThRxckbJRKdltiv2uTL1aD7Lq1Wszj8mUgzkgFPql45u+ItOZyGALPapiTMI6dMzqAM0HnScplOudASZjI2RVtHC2YSyqrW8CFYoxSpBvjg6K733DT5Y58wYANM4rMsSUPnrLIQ9Qdr1iZPEX3LcqALr7/+Onr7R5AZyscjjz6BxsZNKCktJQpJ6O5sx4VPzuKPr7+JSFoOmvYcxksvv4KtG4pQwObaEzn1SwAaRY52BFVv+DHOCYQouGkt5zb48WuvpjBYdmUT6MKXp2oCsmiyVKSQIBQfaOIjiZwu3jAZaAnjgOPBbED+2S6rQaHMZvFJ1C0p9sKhygr4MVqGS6vqItQz2hDEPgNgwLTSR5aENhjlluSnbTevKOt/S2XBg6lnlmPfK1RZ/NcwUR2+5Bgop2KNQy0onQX+yFawu7yQLtSHxa0Cq1s86fB3EM3pApNacj18YHL5ucJDPOPsAdWm/AqqZXU/kvGCwLEim4f0F9/Y2FLBhmxwLfw1XgJ5o2EfFR+aCGTZY3LoLl/Gb379a4wPDeNbTz6J5595FvVbtgUJXZEal9Fz1q3JDX2aZ35mAuEpvfPeibOnTqGttQPJeZV46sW/xaZdu1Crh/NkOE20OSUqF0ktI37B+F0fmCnaDp4q38o8m02nlnFuwyjlV4OY2hDTdzDVXOJnY8/dEw0jIj2DdZN4irS2NBr3ls4eA9kosVyksdIog/60KZE+d5EWlUsCygHmcppsbfDACi34uPh764PH+l8QNNiFdAykZPQOzqcbq/cBQdE2DqnQNePqBKWYQsEJVc2CafZPj+xNysnY1Awh4zXDI0w0RG1Gn7gJvyiI2eIvg6A8UqL2XRPreMWYajZ2WlqIYHhwBOfOXcJrFML/+b/8d3uMXFFZGbxUTW+eCTWm3KB1gseVL/qoFMaYAeJADol2OdKWzHbO2jxLqBVpDEotvSYRIFBT5MwZdjRQ6Oa4mjSgLegG7zMIF71Ho/QqR/gon8DVpOBALVU5ehaoGZOUVHmmjoV9XrVAGGkIrDCdo06snXYV1G94CB+74B1dBxCt1SNDcGuUVwdhpHLdcGZi8UAKVbYMPOsjB3HFOLAKXBluIKocbTyjmUCVxnvMJLmsq4DDrC4fVoHqEl/QEUxiGTIZXPnqFalN1eNijB2DYPKXcZ8GGlM2rlSAgIU4oy3IbfcYJG0lzB1xdcPKVz1aZqtZfH07ydUqnBxeDlxZulb7xKvp9NS05NK+iWbjRiHZlLfi9WRTO31qbOn9IN9KleSDB1OacUH3hJcbDy6oixVvgW0Tz+szDPYkXE9N1TY9YeR9tU6UVWuVT+JV49lsLq91NP5Tyf/EVS+dCzuZFgJxrtttazWoXv9uq54sSjHIYdW4UnJXBo/WEJZv37rUUZGuXpUqPEwUxgVh4GgoSgkTGah+5Go0i9MkGZyys/w8EZ0E+gaVvq9pHx/nvVT2CXuGf0oQyBBzyIKMFhwoRhCjsfsNOCQuuPgoiLd9UHxQkC/Pw6q2auCIYDxXvOjmS40GRlrguQfJJF0LJ0lIFsILF5OavISQnorQmRE/CleNNYczgXm1i6GZlMIhymy8b8R0Qal9PeplrdJQ20wCkJ6S8XIG9DTJy07di3G1CpIh6pqovlklmtgHkj8mX3mpd/3EP8ZRKp/1aabbNjaKy6YQ7S3esNr4E73PC+k8PR1xd5Vakwk0zYWLeF10J2I2+af7yijwx1hprgifZw14uaLfVN6X82wGO2Ps20+MU7/6PtfRRI+Pixo/2pVRXO442sUqjxIzsAJzQln2isokXZyRRqKZrBLVNN7lDMtxcA6dlSEcDSeBaOG4RptemD4P2qDEorVW2Ugzabc8mr9GS01uqQQFG2MKaogcC5VpDQtCtJFx9zTWaH9E5aGawrYbT4hBFNTvptMdPno6rtUP+tZhSWkRJibGcfSjo3jtj6/jrbf/gqPHTuD9D4/htT+9hT+89ifbMKKwIBd79Z5liXtPXxg4O8v1h4LaKwoYn/LcPqlg9cdAOYSLc8SIC4PklJcJlkAnDtUYxF2rT9wu02qr4w83HnlhNFHgpR2JKaPNBpR+1LXdUxzzkmDWV5aWiBhdlUbnSuhAZ6pDT/VMz1p71Wus17aVd20VXja5qfvKFLRNstJWiTCoKcbfVgYv7gFu7DsJHY+RslkfB0XYWA70v+2wGtWxMVDeWHCZk8QwJjx4CILy2f1VQeDGjvBwhTBefMW2mC3s441HeU/0MVrpXKdMFxSleaslBivCl8o+MLlo/EEXnY2W8xPVpQThZ7JGQWXxviaTtFN08+2bOH78I7zx1tt4/e13baOpotIybN3cAJq+BmqulcLyzU0ijhrRMZ7xQdf+QpmUx99TUGsl6dX/+peEkTXA8U+GTuN4VH9Ijkh2xyAYm4yyNtA20GZO1m+ioI1TB+pBXdlu6hpLpmm1bDd9jTMnYP/b9doQD/Fxa++tD/GY/wvB3RC9vwY8EBh9pGjdgHbNZ6QY2HpNQSJcDKxBojQunbKq821WhXc86MzS25WrwgRBcC6V4M8cuOGuUhWjl91v32rFjRvNGB2dtA/z7ty9y3Ygy8nRkhNXls0KWF537Qaav9IxJpyjTh3vCVsFgRmbPCqH4e2y2UBTnEBxbtLZlWUjWMAMGrxK55w5Z7IYLgyx2j24Kw1CzY/SFea1E1pKozyeuk5t6qmlDCIOBNXFs2jZhiyDjqbYefS18tyiFXUH+DsuuDJVg8NK5yrDeMKEvSvTpbVDLBh488IFpRHuapFinNmgskkjnkYVgqJ9WAW+hcxhAkeghjpB45N7evlwX+CQcyD+dic8DZS5TxC950G1Oq4RfZyhFkvvmuF4ygWXw6cSX7qUCqKNo08sTj8qx4cHA+PB+KC4IN6A/ZicFkJGdiGy8wttae9KkpZPO8qKX5RWfZPKCN9HrhXuVwrDOX4S+zLo3J9u2lMiGW8WyA2Mjs4xqALFS0aYcuGpkge3jKPVzyuBYjHMfWZ35dohyrqnXI5KRjX+6lpP5tQawoqcACkoV46b8XXtcTlcSepvxYknFeJ7xYxhjQaW4fvVc3kMnxjo0rVHd9Ue63UGQjQt74lvxGfGaw6Eg2ozviJhon9MakHFqViCDqo7Glx0FOx+EBw4jtXcsWSXy8ReTNJsKus2PFyw+0GnKJnRy9ovBNQ/vKfA+7pngZcWx3pEPd9uiyLYMLFiHQ5uzYGeaDh9onY6XJxUVk4r0zJq7LNcJtETO22kZTF+nAZlx8A59lbmPUB3pQs0JkyeixnNuQj4JyjTy3r7RtUasDJ8PcI1GOAuPg58BINkhox4/RnYIThfC9FCVAtHG/FT6xyVHE6uWPdnKVW/BdI6CNJ3utaGXFqO7hw6N/lhJdh4ZCamsTJMjygw3qOm9im14a5ecXqCiYJfxUuLUVtprFlsPKiOoEwfLM6fK7d6VsYenQm78i1l6Va9ftRnDMpiecU3K8jOzsS2bVuwf/9+bNmyBZMTUzjx8Sn84z/9Dq/+/jVcv3ELufn5ePyJJ/AUw86tTcjP1nSQK0b13y2obVa31R8HzKdv+Cq4jzWLRxln5a2BNVkNlNYXzXMb+/qzflAbGWlBdBM9A5qqLCtP9yRTVZDieFScpROn6H5w7W8FIYqjHZVZlJDclcyUBAyKZHA/DuxpLfnGjVPD0kFcGsGaSwNVpdHlWyK94fjWjXfXzwFiVjl/jOa64/K41ALFiYvFzeQ2JbNCyC8sw8smx61eqgR9aYGg+75QxXm6+362eMWJNkF8NLtvBYHXZhvy1I0Gc6tsgjCUHkJIy5Azsyg+9SIQW6ynYRaYKCjGdSFz8ahNmPp7u3Ht6mW0dXQip5CO3J7D2L13Pwry9G4fMWIe190OZ//dSGfbKp43o8H+GZwesHYE9yTb3YS5bFCNOqUjDTWGyVsag64LVIcLsd5yYFdM49JFT3TLKtZ91SAqKtaNaIePu3snrO6roKw74F737oT1a/qCwc/uPTSIpwmp7E7ZdFPebnA7DWE3hFBAaAfx2aMXwaDUb/x9XZtD5C4JuqNu9sENP4G8+LS0DOg9GH3gVTsaHjx0GHv27EFpWS7jmNr3EPG0d4t46kqJB9Xm2MNd6a4ySm3oz9fJ+8Rb5JZeVjnOMSTwaPE6VVwQL7LEwOVfFWxoefZ12VzN7hg/NOKpquPac38dO4mDaCL+GIKuvjvBx8cfXfCCdS3EYkQn97cKfL1Bi9QLZtRF08Xu6dzKW1NEPDhjxIX4cr3gUmb9xa5i4HC9sw1rIdoOKz8AX5+zcF3QdXwaS6Q2xtds4pOga+MaOypNfE4PinPBMIgLrv/vJwjWa+V6aY0N7YxYUaEUFZVhQ/1mbN2yA6VFJW5nLIJPr+R+4oJDzwWORRPmuilFIGeNR+MZCn77QLot2dZR2klxCi65gjtxR8u77NLEgDc9EqtAmWIQa4/jJcPBgugZ8J9NAKgPgsBrK5Y/xls6d5d3gItzKda7vwriE/Bcl+p9hdhVkMintWNcfBRcO2y5kY4ucjUETTXxwlMfPNi1v+/T8Kj6nNJOY36vWh2mkkB3qc3VF4Bmmu+ANXW4svVEneUHeUVv9bKNZ0IUL/5J+no8DCcT6MG4CNIbOAZifBBihawDQVlrb8Zd+qwyfWTi+AkGj4uv6d7gUt0Lond9hWuKtKh7NWUNKI1hyDzuu5seh1jwZSqNuN5R1MXJeDPpJYOdYyKZ/eXGhlIov9dXwaUHi9A95wS6enwPujpkCnpc9GeTPLKWoxZzUOCqBvuTaEQ0pZdBQYvcn/Gg412VukgZolc/5JRnhfKwZdN2OmtP49svvIC6+jpo063WlhZ0dXYiMyMDBw8exCsvv4ynn3wcG2qLbWMrV+uDgcfRAhk1hiN/hQ6PdvNuEF+pL8hnsHvrJVCwGtYED0EaISDq6ODTmNBjhGQy/6J8E4yrWPDgzuNL96CccuWd5eJgvXTrQYBNNL3jRvfnrv3ZGoiLXIupbjke1xlD1Ch092JZfT85/rQy+BO77yHIdYfuj69VGYNrJtETKoeDonWmJ/DpyMnOR11tPRobNqJc3zIM0WhV3dJ9y9SVev+UXWUP7Rg8hq6/KIc4APLyi3DkyBN48qlnzfZ1n33x2OiX/cH0vlcDLHRzFUT5kmB5LZmLlI9hE0280IhOYd3uz+tP3pe8MX5R/vhJHNd2Faq7Ln4NrIrQxeoUa9PriaZbsePbFcu1NjwIEP+gBV9jUAN9R9+dQgH5mNCJBA/qUD+0faxK8x3hOsODzt3dGBMYmNBXCO6Sy/XNEm1MoZ0G9fK8lprkaoe67FzbgEFZo4MoCM4B87XwKKawgeeCZieCOUn7jQZGeExNPdmgjIFrsRVuoGLtyKBTWz+uKxZkM9zRsuJh9ZXApRL42gVOQUYjmM1Tx9rrqlkF0Uvd0P3g0vAkProfa59PrWN8X+qez+mOoo4Df4w/cxArYW0aV747U62rc+pqbTsEwtkLBbU3Rgv+GJ/IoAgmGhTL9LqtYGXyLNbGBwBfwD1Bxp5L6monPpohNRqbacg/J3Dj4e7YqC2CT604WoZLqXpieezMIxYPdk0cad2Z8qCBo81yFmenMbXIMZaWgbTcQuTl5BnWMgIFdmCh8UUa79GRE68vs+N8kJA3t4BH4WGYsVP8/LrN6LMQy289qzI1Tnw9PFFGXrj8DHbD1yzwdwRK6LjO+MSiA+4KytBvjD48KpEV6g0aYkP+8SlWQ5DO0iu4X82aK6crN1b6HeCy3B3iynW4BYeArsJ1dQ3BMcjiYwUWpbzBue75PhSo2Y7iAmEf0Ck4un6QXAxaxgxGFY0tZfZlKbHLGIvz4OMJ2uFNEa6m9SF6h/l8G+OrcccgRjhEwXqbNxln8XH3GK0cvr3x2URSn1ppzFHQDV4Zh3L8xrDV0eEfPepUVzJy4uu1gj11HXcLVIIvLUgZPa4FS8cfUx8CJvS4WBzr83yoXtLRLZtUiW4M6HgnxCjr/3TtYhmi7VBQfsmwQBaZXF3rEDscLDBa49qt0tHl6t52NQX1BTJBqWJ1W0QAvk91LictkK/WZkfb2PvCriQdjWd5KYxlGOtdb/teGLNpU5fZ+UVMTM3aJ5i0YZKyZmWm0sDOsE8/aXc+bfigFaZqreu9VYjdAX5iPT6VJriiKxAYPJaiXvTCQ/z5HeBLDQpS598zfQCWTQnVAoH6MaCpL8bwjvGnHf2p5Y+H4Abp62+ZgxK9YA0MulTKaIgvhxHqG4HHyoOS+RBgafk9dneUZSkIbINP7yGoIgDxmYux31UJXVv8r79pjopHNA4snSGhEJQq/tNJNLkrQ2BjgUeXWhFapuxaPheOYHJy0vZICGVlIjs7C2l6Kd1xLv917iZUxUcR7Wii+EV9vHzSdg8PR4hnag7yiioQyk7Gor3XrRdwUsj3xI9BfbLEolSqlcgionrACxfxAdESrq4Zfty6EexA10HwYy5ou+jiaKN0LpVcviDVqv7RdbweikJcObrtk6gU5zQyztIQeFQ59wP3ne7r7tDFd4IJIV3crcUSFKTc2o6LsUMs1hWj2NiQVpwMB52lGCsEkVHgRTCal5e0kxM7OElYySjkQQzpKjQQ89ols6gsV5PK8CwbJAzqVNDMklffYjiliA1HF2wIm1Lz+XkZnAboRZWZgi9DIsduK3sQL4iVorPY1VqIDSrDwBUSFKT6o61inMfDg+SSonRUu8z05NHTTffie8WlVvC/7mjJg1+BT+XjXGwM1uYVrE7jTEXF+rIEOkb7zEcKmFT9qrYqqPcVYu2NvxPUxIOLlWh1scGdhwCBwWFnAtWs5X9uxlLLP6I4MJHnm/gmrgbl/yzgWunbaUeP2B2VsQ4yhRw67VRn40iJ6KAsLC0jQqvG3qdI0pr2gJZMomJ07ou0Zy880XIq9aqUiDl0vLKNV3g0jNhomZzOzbMFG4p1dGH+VQZqUE/QguDocttsoG76W1FwaeQ8CA+HA/9Yb0y9BJmYP5ZdaenUMrinEno64XpxNQStZrlO7QRorOPQubvuaCX5iHsBM6oGx0mEQMUEFDFwtXjMgyOT+Zi14PvL09gXrQz+nvI6+tsdxvHC2igqulFqxrPd5PhSwrhyopX7uHiIlhncjstqcbxW3a4YV5fOxIo+j4K779IYeGQNRB3HM9ZSu6fAtPYvnnCpgtx2O1avAytF8UylxVr6dIFA+fUUenVqf+SZlUMOs3p1oaDSdO3zuboV1oLuxkqLgXV/fIbAII/OUFsm30fC2fOG6rdedOdRCO77KJbnU7l44RoERVv5lGH6LqMg6tDp6MGo5oLpEy3ldDJYEzleh1qKoGqlsqJ1bo1wmMfAtccSC0h706KWX3+6IibEJ+bQufy6XGTbFy3NClIXaUTLIlb/pVBSJdPIJTKKMvoyvS244KlteKEzprV3xBTpYu4J8Q6dRzneoRM7GFV1rqQ+eAjOXX+69AY62oUy6sCj3Quu3YWDKB3iIe7anHLvLFDCBOk97veGuLKNr9SbzOtlAUEHJ/ddO9VeoR7kchDcD05X3yOoNQqOY2JpFIzjFGmggt2F0yUuj4f4fArRbARdxwYWr/jv6tOvK8WePmn5SZBEoPa5XK60IDo4kkd8OneIpvLco1/N70ZfRfUJPdgKFlqgetnSboq2arX0JHWqXkkg2C6XwtN4IQNz9Na0tYWG3BLllbb1T5VGZmcksw3aaM47dF5Pq39c/SqDh2AA+L5xkcJcEfEjM8govHQagJusIwWZULmsSKOiRRvtPHWtRUExcQXbuYtWKoFuxupWd/tsq/LdA6J5g+O94Gvv0EWJR1AnRC/WBXYCqRafRyBCOmL6WNfZ692JVyyr6nPJCIogY2tLQEZqiZht68z7tkmEbvNceU1s8VpZde0Fswu+QB19nGp3SsNS8Ed33VUsGHuZAGPQwWIdBJeWajVLuhhL5xMRYqdxkeuCp5kgYPC4Sh1mQSk8CeScg7j7Po3Dx11HpVAQF8RGj/5KED+sBe6ei1t7TxCfV7BeivgyVtcVxPrIILPoqigvGKxvoxn9HS8xCcynWC8kouU+FDCutfpcHapTwVFc/CWIxyGK+rrgcH4w8CXf2UqjU3yFds46hJaUhTl0PJdw1wvehAWm0TjSphW65QWzL8YfVYS9I8IY/Umwi+Ndqx3/K7PjE0+LqNviYnXBH88VKt3OrGJ/EqRVhE/mwW77u8GfK5TF+roF/hicqShLR4UqxURl5Yxz119RsDQCHQPcgl8zFt2JBV+DzxGt0UfcDZhQSax9ArvgD/+dBHEl3astqyAoz+eMNkHAiHgO8yW5JI5+LoOLkeHs6lBbg4IFPuOngIlNHd0hevSgNvuirKa4KvxxVY/EF2AZfWt0EZRkadQSR9H4LJaEET61v+/wdJMQ9l1VxSl/1BIXBMdogcLY/UUjo8SO5YsmXwd8yfFgOi2+mKCNzvLwZfpEGlXEIK4gz6Xx4HD04PMKFB+EVbxPGuidSgPFB/0fBeUXXq4c06PBeBAJ3CgnJswS47dYX+vGapwcuJgYbl43q9BoTcyrNrtOC3LwoLcJl5jOMKX3lqxgG2nQpFVyxmspm456YOJy0hHUNzd4pc0+5OiIltGxeA+Id4qU2gJ/fNBdw0XnuvDJY9kMrBmEKOsYBAXoaPHxN/35moIM4itROlHf9wBb5StbA3fG+hjXpw65oF4vC3TK4Ax6FxMf4kHVKk1Q2h0Q4yQH65ezOkWMr2Lg0+u4trxgAEUT6Sp+HN3xhI6n/q7/FcSlCMZd/Ijzd2OplpdWbKLAooR0HBGWadfqPVjn8KkU3WQgjVWqkqsOs1I9UyHddpq0rmRSez+Q9+VK6fNZ0mHRVyOYREWbs+2RtKPKcjitZgndXG9kMt53osBOdcFfO3c5lFMt0C2f3Dc5Wn88RIu0ltrfemCTJLy1/t074b7TfRMcOg9RotytxYEEWu92jKC6665cutWk9iXcvSuZgiR3ZGcaMmG0B3QelGDnvGHlBAXF1xoDxcbiPCO60h2szhd3RxzqE60D8TWtVQjCc3XWexQUB7GBEkA8Ou7gLldXbrBOVBRixcSnEsSuXZq1Oe8eHw+x8tdC7E6sphisl0fpfFrdX50m/k4MXKz7Xa/Mzw9c6aopdhbD6Y7+C8CnuBPufufeEKshmEawomw88DRmLPgTHRm0LEnKJojXZIm2HBbeySl06HgrSBmkiNWkowS1u/bi3Z0rLjYG4nO4WB8TA5/Wl7QaounXFmngyo3ljNVwVz6NJhG13IWlXa3dgjS+UkH8uW/hnbVEi79PiKWPL39tbfcocXVCg2iZa+6tkzQuzp+5Y7TOtXS5X/DZ3WFdWK/k9XD8LPBp9cZaqzPxrQse/PiNgb92x9V9cnes18Njbcke7rQwZOwIXA53O5bIDCiv9AwepDZB3L1oVp7YDLxA932IB933GRzl3Nn6sHZc352f48uMgc+vfJYznid56rAJZI9sASU3ujAESWUY+uggihFBydH06/S6RayNXQ3KHt93Sn3PHHe7aXj4k/XAx98bHweGlTtVeju9n3z3gtX5veHuY2O6JgBfbQDr1e7vx5cjuDOtT7maN+IhPs/q8uJz+Pz6dWfGVWt4ShCfS7B+eWuv4srhDT88pW79ucC9M64EPjdvxuFgsbw0fvY1JMXeTvXVuKmPWF7dW9UvPFEVQfIYUHhYOXFwR5p4iE8cJPRRbuwFYzMA3VNQnMX7xGsqiR/b64HPdj+wfgnrw9feofvyAbv6ASl+f8sJEpCArx9oqMhFkZrwAlTHaLhjLEnDBEed2GCTsuC5tiXWLYKO7k68E/cwwNf0ICBsHh5GCfg6QzyH3y88XH572CbGvfTjenX/S6b/vEG1ByLujl68F93vD8eYrfJFtulzg7s3fzV8BZv2ZYHPY2w71nqwTrhbtV9FNv08IeHQfeGQcOgSkID7BQ0V/8xJ4EeCHDmbyb9jLCnC5XLSPciR5BZN+uT+6FP4cj9/8Pg8CDxcjBLwdYa1HH4/8JBHwEM2Me5uEK6vax92esEXpbPXVr+2Vk/7z4ZPrH0JGyQBXya4+7gLTr6hkHDoEpCABHxpQcLJh3hZrXO7vkN6xeeIBzpz5tTdCdGyHgqsh8unwcPFKAFfZ/C89iA8l+C3rzL4nl6vBxMOXQK+jpBw6NaHhEOXgAQk4EsLXjitFVKS2ya775BejIhfhxkVb3TmKO3XKyf++PmDalxb66dBtHUJSMADgue1B+G5Lx+/PYhZci9nY71y/iXTf9Eg/D47PgmHLgFfTlhn2Bl809k04dAlIAEJ+FLDegLqHibWmqMH5bjToRM8XB2gGter9V7woBh9w7VYAuLgbvx/L3Bj48sCn8UkWc/huFc5/xLpv3qQcOgS8OWEuw29bzqbJhy6BCQgAV96WCuk7i231xNpLseDlfN5gGp8mCLWt+AbrskSEIDntQfhOfFOgn8SsBYSDl0CEvBVAttXIAEJSEACvszgTc77Mz3Xpo7lWD/2qwwP01lMQAISkIAEJCABXwVIPKFLQAISkICHBhKvD1vEfn3c0wT8teB57UF4LsE/CVgPvrpP6B6U+x9cRifGSwK+fJB4QpeABCQgAQlIQAISkICvPDyoa0a3NXr26SEBCfjyQsKhS0ACEpCABCQgAQlIwNcG1nPH1gsOYmf3Bp/uftMnIAFfHCQcugQkIAEJSEACvhbgl4Ld75KwxNKxBNwNvtq8IezvJziInd0bfLr7TZ+ABHxxkHiHLgEJSEACHhpIvD5sEbvaNEnANx0elN8SvJOArxc8yAhw3J8YMwn46kPCoUtAAhKQgIcGEq8PW8QmHLoEJCABCUhAAr7JkFhymYAEJCABDxUSzlYCEpCABCQgAQl4eJB4QpeABCQgAQ8VHlTEPmj6xBO6BCQgAQlIQAK+yZBw6BKQgAQk4EsDXhw/iFhOOHQJSEACEpCABHyTIbHkMgEJSEACvrKQcOQSkIAEJCABCfimwzfgCd0K7tbCpKSEMZSABCTgywYPKpITciwBCUhAAhKQgG8yfO0duns1L+HQJSABCUhAAhKQgAQkIAEJ+CpDYsllAhKQgAQkIAEJSMBXGjR57UMCEpCAbxokHLoEJCABCUhAAhKQgAQkIAEJ+IpCwqFLQAISkIAEJCABCfjKQ+IJXQIS8E2Fr/+mKGzd3Rr4cF6h+/zJ+WAlfnqj1qb4tPLvXeJdqRscA1CyexXkiwnSrEQj4su/Nyb3A66Ev76crzbcrTPWdMJXFuJ55kEh6a65v0iq3G8LPitOd+OAePj8uOHzK2l9cOXHfpPs77ODx/decPfyPy33X0uFe5W/Xtlr0z+sXviXBNfr9w/308Mx+PTUru5/Kcp6/HT0lPAhHly69Vpz//jH546lX6/MeLifkj9vWIvTvwQOCUjAFwmJ79B9ruBJ+fmRNL6k9UpdLaR0dX9iy6e6X0zXL3W99sanDM7vdtvDWiSS5M4p0geBMq6PxYOBN/U+Q1nrtmOZ4fPC7YsAT9O1OMfHC74q7VkLvpP88UHAtXmFx7W511LrYcJnx/z+IL58y7deYwl3pPtMoFL8GPkcF4So2ChSuvASw91ItpufBWvl9xB/Hg++3DvLv1uOtfBZMBP48ter525Y3Svt1wHi22ft8hF3aeR69Lg3+Bx3y+kqumMS4cEr+owdo4p88KCxFl+Yu78+Suvg7xMyKnbKs6i5yBvBjPj6Zd4JcaU/ODxgJeslX1X/pyZIQAK+epBw6D5XECk/X3L60uJL1lGyZ3358+lGk8+nY3yZd4P49KshHqt4iMsRX8HdClqbhg7dshmBivBBN9YqqQeHmDv3gOV4HD1YdkUuBRd/PW4PBGvxuRvcgVI8PeNv+njB2nsPAT4z/p8G8e14cHDOnKvUl6SrL6p3Peb32wKP0/3iFl++8li+9SrjDe+GCe63/DtBhX/OY2QVvrygvNBRfw5n/dGlWwnqeqAqfeGrKlkHVOidBTtM7g4+xwOhFAfx5a+tx2O0tuy1OK2X5qHDWmTvBQ+InG9ftF1rG7sGfPr7A5/y3jkcz7kzg/uv4E5YB+d7g9eVAh1VwNqxpng/6XEnrMI/PkHcpXPofF0pjHA5dBWfZT1QSpc6Dj4t02eFAOf44lfV/9fWe0dDEpCALwdo1CfgSwjxAskfvVB6cLNofQm2tnyBryM+CPzxM8P9FBBNI+WSwqB5dqdoXIiZ2y74sy8A1q3GRz4ADiL2+t1x//CZ898ro6elD18AfEHVGHi6+3APiPHZCjnQHQWfku0rAev28tp+CK599Nrb68MawkZPlVsSaz0DU46eMxDX5P4UiEttRqV6KYUhVsf94fyA8GBIrgu+iPspam1aHzyojfHBQ3waD3dL+3WAO9p1R8RfA/dbiKf6etR/APircPYc4nCIv4oPgjuv3Ri0mLvisDpH9PRLCvHNiMc8AQn4ukLCobsL6Lmlf3YZf/5FQHxVa6uVkHoQme8EdfDn2+MOdowv/27lPkh96wNrCSq3OmOXDu5agTfQ7kwQLcOOzuR2Rfr0dwsCf/w8YG3ZDla3MXoSh+dfAw9aitLGz+I6XFdWlhkTX86d7YgHPcz/3B7o+2ruXt3nB55R4oMdXHt1Kuoo+PvemXPBx/u7X32IJ7u1x5Fi1Y01l/cAT5V4HosHN45XjwlPcc+D7sZ6uVdBtC9jPebPfE+54vgTDS76rwcr2J3GgR8XdlfVxQeX5A5YFa+L+BDA2ui4W1FY20c+TXxaS0NkLLgog7uV+WWFe8mf9dp1v22LT2d95kPcHXcWX4tAKdyfv159/BRQMh8+M8QXEitovSJ9nEsZ/+fAn68icTTCjzIGeyIed+tLCLGeYpuIZHwIMP8U5IP7dwsJSMCXEBIO3d3gSzBm16LghZSOPtwJa3JFhZAXyA6U6m6yKb789eu4T7CyAyXBgtapKgbxFTKhdIa79E/p/PM4Z5TExxgExvn9hc8I62b9tPKs9e70i4B1m6j61fceF58gPv5rDr7p0abGCLWWCneQL7gTzfolgDtxfABQQ3xYfRqDtZH++o6EAkWKgv6JWwDrphX4gpb4q/Ry6u4DLJF+fF1OtsSe88VBNG388V8A1qlaUT4YrO3M4IYOjjp3ts9zb3zw4MuOpo+/iEbGYJ2oLzHcG1vdjafXp7ctPpU/j4/z4CkcT+kAmNRxYnAhCJye+wVLvU7R9w/x9btzfxaLWX2MhdXYx+tqd3QTXP7PYv4qXL8YEIpr0bT2udMEJOBrB99ch86P7LjRHfV9FILr+x/995tQhcenjZ17cbk2xIMXUPGCSmnWV/y8SvKxAvc0wgHPdI+KR3E+GMRHMPhTX7aC/10fVt/zuPq8HiMfoql9Ag92rdyeTZV6kWG1CRd17NbVMq7QWCv/SlivCqubh3Wr0JMJBX9DR4+7p4AP6xawGow5g/TWt0E5ivOMGw92HaRZFXzCdRu0Dqwt+HMGoREfBPeL2iqIL4BwB9qMUJwli930uZzp4q+CwGQ6c8+ZXPiXBYe38Ii14DOAa9qd4CPjG+obHh8XBUWKOinBcX1wM+Q68wU5ijqau2p9+HRgfvdvpfi+wUpwZheC+yvts4Ha8+DlCzWH3l3yBrj7dEoVP2qD29HjWvD5YuU76WewTqa7lfNlgxj/CALar6G/2rKaH+JooPzBle65dvNXxfDMjfs4sMQ+j8/pj3dC9I7JYvWW11M82vX6eaMl8+Tupd8LhLda7MBhvLokxfn42J34NLH7Po1Xp258OqquJOmcd92/CzrXSRwoa3xYF1bdDAq4W4a7FnJ38PgJ/LmCekJTSLY2wHgi/m4CEvDVhW/uZwuCeJMTgbAwOcy/JL2XEdy006AAnVtS+/EgoRCcWqboxbqgZS+WITlQOarUzlewuLSM5BQXL6EjUFW+upjIJrAMq403ly1FMtUG89uZc3GiYssQVGyq5bHS6Qy4JXfMkSRDLAnJQktnShSAr0MFLvHCi3ZXvt21s9Xg7nosfJJlElDtsvIYp2idOpx5vl5RHpKoFJPkzDHQaLN3Zsx407szLMUXRvDFqO3qM8HyMmmTlExSuyd7QfR9gPo34In4Cvyp0ZZU0YHBeERo8Xw5uF7WCXvHutkyC5RwLR668sGXvRbEpEG7VJHqId+oDpWWkpJKYvJmXDWObjIuBK5sUVyOpo6ubarPfu38fkF518PzXvGrQEnWRBncLf5+wXeIP0YL0zkhWTyv2xwDUZzW542VpSWS2jjURRCCUqKwtlmfFXy5a8v3IJoK5+QAf9e+GGZ30DcOlNfu+8KDU43JaOsUwSDWULA4gj/eHWKFBijFgXjPx2sM6qhaJX8kE3jPMHD1xIc7wApReTxKbpksiNWuo0qzYGlZiqvQIEqDKARpAhBt7Wq9yn3DAhrqctnKs0i7tWKD393z1fhsSqIoDU+Bk0nkt1X4xEDZRCU9x3QUBCW43i7mvSCvL9T4wk5j/Ks0hgT/TT74+3epby2sN34FLvv9lWGgctYvKgbRMpkwwM/oY8Qij6gtASSzP3Xt7jv5tV6bjCZMo7Fr5ww6d3RzoFKFnvUjz2PlxCMcnFNBOfqKuxTnfvWjbP4OEXPBIhlUgYJkro1bq0k5DUwMx4HdXRO3Hlj/uP8gvXSkl/PS9V7GURMuL7KNAb1ED8slCCpiGv2lGP8yjreTAl7WuVMp0qgRS4sV6d1UlqtztZV5U1KYx5UXG3H3AULF08sPjnuB0t8FfLt8Eh09faPZDH8F/qtenqjnhL/xhkJw/w5QWUEb7wTWzjz3O74SkIDPG772Dt39tk7ppCDcgNS4tZ9Vg3PtONW1CRCrw1fkj+tD1KELrP4VGuMmxBhMpbBQleDEjFMyTsRq8aFFOghwUZpFXsgMkeKXCFdwZg6VnoStndPQl5DXpXIkM/XKIoUd45PSGEdFx2SmbnwdPKp8qQg5Y/Kf3H1vfimhT8x4peE9UyCMlgMlNANUWQ7xZJplRjglI6Mk2eHL9CkiqBKLPgY+p0DKap63GJgjiTgvU6lgRe0iNsqi5EFQEcvLgRMlvIiQp2eKlJr+VN+nggr2+LhW69LHuDMZHO5URUpni86igU+bRKcqicpWwfW9cAjKI7hhKJzcvXjwNBWop1dW2C51EtNau6LWt4xlVq5mueQGK0lUwqqf584A1RkVsjrCaLmaFuoXHycaquq424RYeuEVfy6DwYPKEcSXbWfxhXk846Isbk18XHNiEBcZn9xI6EEd4Zg+CkornHR0XBFAQHtd68xVzfYZMweFukw2Pn0z7BCcfxZYRUP7uxMsjj92l//iYRflrterPp7uUf7xcbrkqdqh02h7A1LpsMQIiSaNz3tBUPRqCMoPSrIL96TayQihkUQethl/8XHQAo+HD1ZOPKgvg5UFhpmEEk91ZUHl8qhxYrLWCmEaHnW5mg7uXDdjtPJx/hgHVp7SCUvizktXngLj1RbFRZO6MuPTOAdOZ7qOgcfLg8sqme76QVMyqjWNcZJ4Bj6Lq8bGtsDrmCWNP/EJ7+uOK9LhIHnrgLFB/rWwFqd4iOetuwNpZEJQVQTpHRKGn2Glg48jWJ1B0mh7WFc8LpIxulYweRPgEmSLlcmj03+uXDnrGuMmY5lH2VRstGheB9miv66fmFd/qs/ykbuimRwoTn8mPbzM8WnsqMLJr5TPjtcVVLIDn1Q42V13+x4QtMfkt48ht5hOV2FO31s8C5fOkDvm2i/8lVd1qYUOP1+OHRile47r3D3lX1mJBHJdUwty6JRYP8tISQ0cOuW1wlSv7gdlBkd3bzUsL0o/8S+Y0L4rBOWtSmKVWOtcW3lMMnvKgR1Zp+7YuSXnD4ORimUJJ5Op0qdslO/n9cBlZ16mVxo7t7Sx9nq4WxkJSMDDgG+OQ3fHQNOPOxdIMDmHLkjIBGsH9eqxqUEcFBv7iTuuDyZAnAThkRe+PpuZcsak5q0VdC4xpDsyqlxegt3wZThHSYqfotzSSWVILDoBLFPAZ5SBLrzpRCVTGLPuZVlAwWy/OVUMVqplEQ7Mw4pVvnA0cct8OrpErmzLQ3yUQ7rCOQ5MxRu+iQLXGicERW+bFWMyKX7Nxlq5UWVotSmGoHbQMWGIFmftz2SgQ8pIu/TJCXqiKLIqSnmWHGJM5/rWZYjB6isPyumCngjeTUBb0QwCl0SUWMbSUsS1K5i91J8rT6CjK0/0UJPdk5c1dQS0cqCekPuua/Wn8lC56smczxdD2aK8Q6d83slNQgZvMw+d4rVNWrI0cjjJV0syEpiebVA66xaC2uJwdv3m4nXueElgTzus8DUVxIPhGRQqsKRBeh+teoPTVaBI3vN4+WLUvhgwku2xtGIGD9FGq590U73lRo6jrIM4qhKCCrzXEA+6tTbuU8DLmvV4KqhpXYivytL5clblcinuxq8Cn1rHmIHvQHZ4hHRUbzqzMB5MGhBUtg8E5rFifFkmsMh34j09SYsGRgWGpUip4GnuQ3TkqwiXQVdBpEsf7WbdV7r4/r0LGM9aYqUN8vHURmYcT1iZdpMQjda1Bs8qBlsFSqE5OtWj4gw1y8dsvDZnys6t0ih4ea9Ikc03RXFe8ilKfaHptygoQTStpCsv1HkUDBrHKxwMKxqfHhmCcOCod92jeEFwiAdHqxjEJ7kbX/n0umv5KQOistZuBvkcYSzK0UJB8e6e6CHwOCiNleMiLbvySPaIF8SR4lXjY91cwwsqR06M0Ue3mNfOA7DydAzOXa2aOHNxPoGTi8mkrbStK0rg+dlrcKfDFHSTgTI6wJDhTlAynzSG1d0gqMMgJm8Fy3S47J6tulGQVHC4CD//52wM2Qcqi6mCe9Lb7k852R4OTmpoO18i6qLzovQD01nplp53mV+6XOBKFPAe77v2qITg1zfQN1ggRWbXLlU0fr208WCVeVoIf7VdvOJ6QhB/jAWHmxuPCkHxjFuicxld6bIeMI3qcZOX0n2+hjtBdElAAr4o+GY4dAw6aGhFh9eqCwdKa+kYv0RvwIRUvPwN7jsIFLY79T9xx/XBCbT1hbpAoskFEzmmIExsyOFRAl+8cDeBEivLmey65YSt3DCbmWNwhtUSUijok5HNayd8lV75BHLmkiUPg2sjSGr0ytJa9Yx3tUpYO4TERiYgU1aZG4hQ8CmfQMrWVAOVhGi3lgyGB5VFiu6p7ngw4epaBSzwMMNEUpJ5DA8Opmtp0aiPRWf9Rw2GVeCectrSHdEuzmG5A1hGxBqhJ3GOsktLC5BuSE0RzYVvDFZs+QqbYco3vu478VhckKLmHXaQezqn8plOtExJ5/kaYvrOUrRZbqQZ8ZHCd3oqh2E1Pi6DlJXOjVN5KRqxkDUoydFTf8dIpkzqVyrHe9EoHqTEVYDVxx+dr9sHnxVYphkKKpuXZlT9NaA+UBmrcTRWDdCPwn00wzm8a/rtPkFValRb16ofHBFXgTM4VsMi+80/xfUo2jFoQzwbiWMUJe6KNUf97iZVkpM0mbIO8KbuawysWCmim0a+ZINKWw1qh4JA9RjL6miE5Vms8ocPvjPtXPzpTtW5WnqrW0mi36fwuIafjaOgKA8mm+9mKN4D3Oh1zpyCJsBcn7OsuxqeDMEtnSq/pLHkcCqDjXDPtOsUYTI9OBfEJ1nPUI1PK1inSBXqcPcyZd1E9watatHTRz0hSaGCFu/MW7tWkKEu0wxB6l8xrliGTe6Sb90DI8k1rSRZLT+IhcNDF7xvsk9jWhhJ54qXbKJNPXb/+CibgpFn3WziLmF6Jw9qaaXuizuUWanExyorJXm1bhYsrdB5Mf2jXI6uHOG2kkZVp/NXzpHDxoF40a6k25gneT3980WCjdPPVr8oKTBau9MHBvekdL3cgQ79rAUnIAEPCN9ch46wRMUyPDKMubk5M35KS8uQmemEntLPz0cwPT2Ned5PT09HXl4eUlNTmValOGPWiBf7iTuuD4tzC5idmsbI0DBGJ8YxNTNDgzwF6aFM5OTloqKqCrn5efYELerQsREK5uSoeAvLWKDz0zswgJHpSYSXIiipqEBpfiHyMrIC18c7dBLy82z8AgYH+zE6soDJiWVUVDSgsLgAObkZRphVDp1+GGanZjA4OoLewT7ilY+SoiKUFZdQyCtBYFTYP/+IX5i0GhkbQ1dnF8orq1BUWozM7GybIU5jutRlKb0kRBbmMTExgd7+PkzPhZGZn8O0JSgmDbJJa2fMCdwxPD2D7p5eRCIRZIRWUF5RgPHJIdJxgX0YoR8YMsFqQQqVxmSyLBdavMJrcWkRBQUFKC0pRUV5BUKZIVsiIrwF1lziaG2PA81jrmhGkn0eiSxjdHQCw8OjGBsbxezstBkUoVAOCgtLWHY58vOzqeBUppwnmhnLc5gNT5Lei8Q1TB6qQHFxLgqL5OAxjRk3ekoWU0jz86TN+Dh6enqIZybxLmTItxlQGclmj8uhIx2XaH2MjU1gZGQco2OTKC4pQ0VZJbJCWXQimU6MYNPWUsPOLJyaGSMPzGFocIblFxH3XObLJ48TB+IhQ1TkFzWElWYsZ2ZmMTA4YNTKzs5CUVGxjQljA8bazLVVtmJpx8nbQ0w/MTnB8TVPfkmxfPl5+SgrK0MBj2mZ5DvLHlTIMqYnJzHEsdHX149ZlqP3Ss2ANkxUu0DHwIXhj/Coravh+C0hfXOiOBkvmEO3jEW2YXBwEAMcL6Ojo0rAdGwhaaMgfonQYIvQhFmU06F+YUgnTnmZqWiqZb/lZGCR47JveAyRpFS2J9vaE8rIJC+xUo+eIGCkxcVltqWXNJm266qqCssnUL8NDQ0ZXsLPGZGGeVCUL1MGZRJS01KtvpLSUvJQCTJIP4kiN/kRjMUAxFeSXWqrQqnlKUZOTo4ZMUopFI3rdKHI2TlMDI+gkzIio6gAmZQNhfkFCJHvnCnL0bBMnl5ZsPKHBkdY9jimpxYoS+pZfiWInpVn5SfJNKTcYdCTubHRKY7VSQwPTTBBOnmoHHUbapAqv1CspzxBUI/rKL5YWVhkXYMYHR7GIGVLLsdwYUUl6sqKkLw4j7mRAbR1dGN0dh7Ti44GegaRxH63c2MIjhWOYz2BSEtLNzrU1dWhqLgIaalpUXkma15Pow0sP+MsO380MHTBMTJHOT4+TvnV14epqUnKBk3cpCI3Nw8FhUVG7yzyeyrLkoMgUBGarJIsGyWPd/f1YIZjfZ6ySasH3DuteiKyYg5XCnHVcsuVjDRkFOShkvK9sog8nh440oYPIcBXcqOnqxsL4TAyiEthSQmGOf4mwjNI5nURZXc+ZXiI4yWddZnjI6RctXeAuNFYi7A2iaPpalBS411mMieAx/n5Ofb3gNEok+NEclI0sicovD/H+yMjIyZTpyanrH9CWZnso1TqkjD1YSVxLmCaYSxQjmSkpaG6ugZp0hGUCylpKTZdIIdOPBpSm+aXME/52TtKfpkcR5i6RuPLlqCSzjZmNNnAtLk5xSgsKGUdxcgvyKUs55hlMnu6Sfmdwg6TXIuQB4fJf6PkP9kLJaRtYWEh80veiHklLSUvOQ71lEx8OT2FIbVthG2bCWNhiXpIT6ht1MUoKvkVygqhgO0sZblFLFf13g2WOAbn58lDo5Tjo2GEwyvsW+pO6pX8vCwWq3HnQP2hSZ8l8ph0yghxGedROJdQXlZRR2fS9hDuJn9IHD17XGT1eoqbpkmM8BwGB0bQNxXGGJuWR/yqirJQnkdZOUf7gLqnb2CYyRawSP2sctyTTMcLriWxNmemZ5gtVVdXSx2VYrzRp3FEXo3MLxA3YsP8WtUineAmgnhO2i3TnlFbZNOEQukca3nkh0rjG9ly0h1zHAcao/EgeugNAw3FhcWIkwG5uaimvVVMumfxeoQyZpj5R2jvRCKsQ/yyBkRPyd3c3ByTw9LNkiWi5+ox4c7XGSYJSMBDg6+/Q6cgxcwgAWMDjJFzNM4np8M4d/4Sje0J5HFwHzp4EMVFenLhYIaOUm9XO4ZpmKZl5KCqdgMNlmIawVImcYOVJFyRguDfcnCUGJLC1FECTkJoeooGzdAIDfVetDS3oKOzE310aNIl4AoLUFFZid1792BDYwMN7FIz4NKktIivjJMkEzCuLUs0ICZnpvDhseO4fKsFfTSsHn/6GezbtQuNtXXBcwTiQsWkdfVJmKUim8Xp08fZ5g5cvzGAA4efZX07sWnLBioQN4+YwuJtXs+0HtDV1oELVy7h+MmT2LR1M3bv3IV9u/fQ4bQWmrIwglINgIpseKAXFy5fx5t/fg+PPPEUdu0/gPKaWrNkMol3SDOXdD4naGTeuHEDH3x0FF2D46hq3IxDjz2BXZsbUZJPQ0jlWZkMFEbqE78AAP/0SURBVMDtXQN49/2PaXMuoqo8hCcf34krl0/h9LlOXLkxyJYW0niiwbZEYb68oJ4IJtF5xnrlCDZubMTuXXvw6COPmvOeRcPBluGwEWqLGXU2HHwg0GhaIK3nFyJUnpPEuRk3bzWjs6OVyn2IiiEZRXSi69jGPTt3o3HzFuTJ4aUBlZI0zT6bQF/3LVy7MYJTZ9tR33gQe/c2Yfv2atJQBrJ7t011O35KxvjwIG7cvIV333ufhnIVtu/Yha07dlKRhJhukfn0FJNOJnFbnI/gysXLpMNlXL/dia079+LQ4cPY0NCAUHaqOXX2xJNmTxLmWP48ejtu4OKlNpw4dQ05eTXYvKUJBw4eQFFJEY0u8avnGToRJOLM9Cx6urtx/PjH5PskVLGtBw4dZN48Mz41rsQzMoQmpmbQ1U3+br2NWzdvoJ/8MDM1TaOZBiWVXwUNiM1btqCxcSOdm1qk02FVu1NFd7ZrsPUWTl+4jPePn0Tv0Dgii0uBwS3zQka6q0/g7FkaZRy7Tz/9FOm6F40NG9jvGpy8pckMa8sywnSozp45jfOfnCXv39AoMrBxy6A2z3MELKVkI5JMB41la7xlkM8rCkL48feexebaMswtJ+ODk58wbSqdyA3Ytn07FTt5KU3UUoEMwYmMjxk6SceOfmw00dh97ltPo6amkvQCWm4345PTp/HxqTOUR0uIUF4YDxBfN855MGAkb2SQVg3s13379mPX7t3m1GncunSSby5o0egy6dbW2sb2nsOpM59g28492Lf/EMMulWxBOCgYuiTT7EAfrp3/BO8cP466HTtQt3Mntm7Ziiwa4umGl+gZZtmzNJoi+PjEWVziWG/v6MfhI6T/vkfI11VWnvWpeG7F8ZwqvHntJs6fu4SPz1ymwRjCpu0H8L2Xvm+TCVkhOTJmtgVBGLJhi2HMT0zh5IkzOE9ZffFmM7buP4hdRx7Dtx7dj9SZCXRdPYc/vvVnNPfSOZ51jlUycTXTmXjYE0kWZU8faFRn5+SS96rw7e+8gG3btrjJD73/wz89hbN3adQAyVv3CDS4piygYT8zG6bcHkBLSysuXbpoTvkcnQ85GWXlZaivr8fWbTs4TuppcBabHBIe9D2sbQPtrbhGPvzg2DEMTE5jkn3vzV7TUf5IXpcRmpmfh9rGRjz+6KPYTXzLqYNcpxM/60iVCgzR6P7L229hfKgfBdkhyvdDuEIea6exnJqVhV1796NxyzabNMtixhQ9zbFq1d4gqFiCa7X7E7hJAx4dcgGIYqsi6Jg6eSu5oaV5E3SCrpAH+zo66DwXYzPlWE1Do43R+fAsHfU+yiLKLvZrd2+/TeDI0QjRGe4fGMQTjz+Fpo2b8cnZs5S/g3S+cvDSSy8in05zkvpZk3JEStil8TdVBCFP3Lp+A0c/uYSz15sxRvmTzLZqziXJ5JqcOhEuiWOogg5BPRqofzZu3oZqOhnsRlJEywpnkC5BwDZN0nk/eeoszl26hgHqgf0HH8GePXuxceNG61eNIwW2munDNDAmMNDTjU8oy86ev4yu/iFElslj6SHSh7qTZfo8GRnptD+yUVVdiy3bd2Hz1p3UT8XQ3LLuR6mrRpIfI/PTGB3ppx4/j8vXWjEwOIldew5g977daKIsNz+ISTUGUtjOZOrlSHgaV69eMXyuXL/JfkrGwcNH8Nzz3zEHMk0yUzTicZF1LJJGaeSHZTpsk+T1k6fP4ZPmPnRORLCFffjY3o04sKUa0+yTs+ev4aPjZzEwNGqOpoRJYD4wiH46MVfX1GtxURE2Uv5/59vfNluqg+Ph+LGj6O7qwbwm/8g74jtNcthrE8kZ7GfSjYNhmbbDMu0BTdZWlBdQPm3AE088ihk6nafOnMWFS1cwPjHN8azJQlFBMlEIaJo3eJpLXZ6bm0/5XYcnn3gcOzZuQHFuFs6eOokzF67i0rXbdPqEreih45LIziNbxAZk0fnW5MiWrduwqWkrde0m5OYVsB/Zr6zSmsvgIf48AQl4mJDy/yEE519T4IA0J4uCPFnGO40dCvU+OlbnaYy8/uZfcOt2K42AdA7MRhTQmYgOSBoTCzOjVA6X0EVhMz4ZpqLJQ1ZmNo1MOTQxULlLNLLdn4QIiUtFo1mbyPwcBfAQ3n/vXfz5L3/B+0c/Qu9AP6ZnZszR0yylZumvXb+G5pZmKq5RCohcZNKA02yWZjNNoEgJBU8TFsJT6O/vxnvvvYMPjh7HiZPnEMopsJnDuvoaKjYZSBKgxIGGSDKVTBLCOE+H7oMPT+PNt4/ROUqmQR1C3YZGpKSnuCc6xFuKwE6Ie3dnBz6h4niHuMugLKPx2kDjwmZgA3CCTg7YAmbH+mnkXcE//vp3yCCt8orLUEinZJmKQg+A0vU+zcIklV0nTp48hj/96XWcpOIdm1lGadUmVFdWID87k8pXipGG4OIMxkb7cfVaM97481GMT0WQn5OMpoZSfHLyPbzz/kkcPXEVk3M0xinopyZH6aAPY3JyAtPTUzYbOTY+hik603q6mkNjrqK8kkI5yxSpbDfjEet1ntGgWFmmIaqZSdJ5cUFPNYfozJzEm2+w796nA9rZh3B4xvX50hwmR4dx+yqVNp2YgaExZOeXIDVUhOxMKtPFMRozl0nDZrz5l7NU6NU09KpoOBSShjIt2DfEwZZRGg4yggZx/fp1vPb6a3QmF1FA576Mzk8q+S7FlhItMr0cOuaem8OZo0fxxpvv4PQnVzBN+zk9KxvV9RuQnpseXXmkPkqyJ3RhDHfdwvkL1/CnN97F7dZe8uECKmnUZOUUm1IyeiQtGH7JyWlUsrNUtt14l7w7SOWempaGrXRkMkhDGb0ylCbGOE5oPP7lnffpeH+EU3RU+uggzM3Pio3Iv8tMM0bjnw741Wvo6unF1MwcDbMyJKfRgeI4SEmmo995k+04h9+/8Raud3SZopYClhGtJ07TU5N0ECfZn9MuTM9gkc5LTXUNysvLaSwUsz6bkrBW23wVwwIN7mY6mLdvcIzdvsVyJjDJMDY2gg4am61trWjp6MVEmI77dIT8M8V6GFgnIrPYsakehdkpZhy+8fY7aOnqhXasq6qrRw4d+tRgabIMGQfLmGc+zegfPXYSl6/ewiAN1O07tqGsrJhjcwW3r13Fsffewxts69TsPHk4wr6YtQmmKYbJiUl7iq2Z9XEe9eQzk+O1vKLCnnLqCZBmwo1zRGPyo4wPmmQcjgtou30Tx95/H6+++s9mbCE5ZJNS6jcZfcqn3jaU+TM7RIfu3Em89c6f7alQiEZzVQ1lCR1q9w6lHKRF0nKShvgQPjx6Au9+cBzvf/QxUkI5yC8pR82GOitUuKQQl6RljmEaYXJSm69cxsdHP8Qf2d7LzR2YWklDTWMDsmjMZmRn2MSD8JF7onbYE+XZMUxyPHz0wUcMR3H0xGmkSK5U0PjdSLlF47bz+kW8+vvf4/LtFnRQrs9FFjBOumvGf3Z2lvJjjP08RlpSHoxN0vmSQZiMRhrjcsAkB7S7n+iwRF6yd4HEtHLoHCMZgedmwmhp66AM+BBvv/U2ncyTdDoGKAvmbMIoHKaj16fJumbKwKuUVXR+kzLpsNLxTpU+cO3rvXUFF4+zjDfeRGtHN/pH2Ld0/K3P6ThMTKi/ifPkOEYYN0f+z6TT2VBfh8qyEuTyXDIg2oOBLB7oH8Hbf/oTrl86h+mRQWyoq8YZOo5nz51D//AICsuqUFRZ454cyliVfCWfmpVtRTmmkBHto6R4RBdNjNhKBTeYLZ+bKJVcEQ4uj3sHS20lF/J8cmQUV898gnYa2stzC0aLgjI3WTnY34MrF8+Rlm+iubXNxlaEumqKfdbZ04NPPrmA0uIqZGcX4QPK3Wt0SDRuDx46QF2XTZ0igrpdK93CRmEqnhmi03IZbx89iT8f/wStXX02puZY7sykZMckxzdpTL3Qy3pucZxcoFM5ND7FQnJRXFaOjDQ5h3PkBY4l8thgTwfee/cdjo338fHZS0jKyEFRSQUqKuvIP9S1AVmSpQfl0M2PY6ivnU7gaernY2xfh6Q2MnMLsUAdowmXFQbpnXnqEj3FvHaNsqlN/DCFgqJyOjvUUdSbphuM5DrSkqGTNTTQg3f+/Gd8wDFx7uJlpGRkIr+0HCVVddQxyQGvJSPNxi3bEB7HjasXcOzYMbz9zru4QB2dmZOHzXQgc/OLkM7+0HJRe4NYcoR2hiZ4w1Oj6Gq5RT39J9LzLE5f60BKVj5qygrQUFWIybFByuvLeOsvHxH3LgwPD9lE+Bh1ouhrsos8Lfk1xjBEB3+BYyVEHt5C51P19XZ34NL5c7aqZ4Iyb05PBEmP5pbbuHHzJnmhn3lnMDFN2Ui5LLkoPZDOPiorzkF1VTF6ertpo7xHO+gUOrt7WMcK7bVp1s9xZLhoTE0yMP/kDBYWxMtpaKxvQGVxAbJSlnDi6Pv48NgpHDt9CXN0vpMp09O0WGNp3iZ6xP/L1MeSK93d3bh16xb5ZxAL8yu014qRTZ70q/rVXQJxZPwxAQl4mPANcOhkMmsGdJHKeh5hGiMS4MdPnsWb79DwPHuRBuMiNnBgb9++A4X5mRJpFDQyLOaQjnkK83YKmHEMDE9w0BYhJzsXuTmZq0epjHsa2ayF+WVUyaGiUptfMKfo9KmT+Pj4MXT19iJEZ622YQM20iDZtHETaqurUVikZRYpJvC0tENKR8sS8il0QxkhliaNQcy0JpICZnxkADdvXMXFi+fR0T2A6fAScvJKUViomadqpIXSKJCdaZRiSpdKBjNovnaOyqsVZ+hgzMxR+tDJKdMyMDo6WcyjZT56cmReBnP19XTjxq2bOHfhvC1/2bBhAzZt2kRh6IwIkcD0uxkYYSRTcXT3DeDs+UtUGIXILSlDXdN2eXLIZOIMplmeGkBvbweuX7tsfTE0sYDltCJUN+xEbWUZSoty6fy5hTRYmsHIYDeu3erA8dNXUVLegK0by1BfmY2bF4/jys0+jEylYufBZ3Ho4F7U11WicUM1GkjfRjroeqJhgYbjFj0ZohGnJTtabpFuDp2jq7WDwVpthsoiDZAw+tmWU6fO0vk8Q6O/y5bmaDZ3y9YmNDVtQB3rqyyh80YlOjk8wP4dplNA3gkVojgvGVmpUxjrvYbrt4Zx9uIAiqv2o2lLI2rrc0lDVsO67UmCDFg50nQmp0aHWFcbPv74BJVtIY3kjeSXJqRl0fGhptZSthQ5vPPkg/5+fHL8OM5fvEGlno+l5ByGZNJyA7IKtJTEKRczu/S0ZGUW0wOtaG7uxskzV9DTT+VIhy43v5zOVSUNLjmNelo5x3p0TLElx3Lkzpw6Rdt8EcWlJdi+a5cZhjIwJkZHcPncWXzwEfG4dJV8tcQ0RWjavNHC5qZNZoyWlRQjk87EJJ2wfhrevf3DSM3IRmZ2MSoKWVbyPOa6buDSjdu4cKsFaYXl2LZjF7bv3Mlx0oQG8l4jw0YGTSo0NG5k3zbaLPkOjl0tH8rJzTNnxexO/lgQBaiMIzScMunhFhUWkA8asIE0qtRyHRru83QCFjhitu4+iI079mFL0xZsUtnkna2NtdiztQGFoWQzKo6d/oTOl3O0GzdvRW5Rkc3SaxzIkHIQoeEW5jiexYWL12lwjNgy4/0H9qKcDl0y8Wm/eYs8fAG3mtuw68AhNO3cx7GldtaznXU21nxwPLwRm5qaUM/rEtatpVLm0LHOZbWXPKQnsckyahcj6GlvwyUa85qMGJuco3zKZD8XoEjLAXO1zCrgd6HLn4WRPrRdPYeTn5xBfnkFSurI35rskUMnw5J0XFmeoxHXj5bWdvb1NbR39mOcjnkWjcKc4lKUU0ZkUzZmEq9U4ZMsA5eBDmbnLTrUHPOXbzZjOMw4yquqDQ22LFsTLbQpTWLJkNTsuMY+JvrR09WF0ydP06C/ifbeQVRu3ILqzTuxc/MmpMvYvn0F7334AVJy81HWsAl79u23J7WbOOY3sg/1xGwDQ0MDxxHb1MA04psm8qWeSmdkZJgcMDoQTLYZUWXcMoLG3BKNzOs3buE0nZNjx0+Yc13I8bV161b2ySZs3LSRsqcORZTjaal0/Okc9A1NYJR0z8wij2emIysr3SbaRtpuoPvKRdy8dh2F5VXYsGUX9u47gCbysXCWrKonf9Yx1JPPG8n7GzduNr4vLylAKF1UIn0MOQUxn57QTdAo/Qhj/d3IoSG6e+d2tLa3Ux73YmElGbWbtqKsvsn6J30lgvRlCirJeg0Ye/c5JtNjP5Iekk2aDGWME5AWL0dKuw27tDzwKN0p0mncLZBus3SkO67QuW3vQm5mCJV1tSiprkI6ZVlPewsun6fDeeYMSisqsWf/QWyjXNEGTwNDw2jv6MXWLXtQU7mRuuIWhrQUOCMZTzz1GLIL8skodELohGriUna0QyNMETeIm623ceZaC271TaK4og47tm3F/l07sZk03Sgac4xt4Bgro3OZwb7pp84dnZrHdCSZPN+AgpxkynTROILZ0X50Nt+grr2A1p4hjM7S2csqQAkd5NLyWvZrhlsJwdROjs9yMI1iYpgO67UbuMnxHcotwM59B3H4iadRXddgcmwTx/Rm9m899XVZKR09Ojo9A+No6R5CPh26/NxsFObR+XYKNoAVzE6Moqez1WyK7r5+zC0uUzdkI7uwlGOwAjn5OUgnQWQupNkE8AKSFybRcfs6HbnLuHj1OmZo8xSVUXfVNlIG1iJHut8cdvWr+trpxLnJYfS03cKHdEovtfSjfyYZpTUbsbWhAk21RQhPjuHqTcqCy81Iz8zjuKuzVQCNG9m+wL5pZBs38HwDj3Vsd9Nm6k4Gye2skF6v0Ht8sNch6up5v2kzdVEeFpeoC6enbaJ6A3l3x6692Lx5s43ljaxn2+Y6bNlUhRI6dVrpdP7SRYzQeayuqcfjT36LsnQL+1o6o87kQYNw0Tii/GhieY2NW5i/ibonG1nUPRfOnsSN1j4MTy9jC/XAnj07sG/fDuattbZslvxln1VVVqKAtpkcy4GBMfT0DKOcPFZYXESdqOfEq0F0dLyZgAQ8XPjaO3Qy5vQcRI/pNUundwyOf3wK7310AkdppPcMDKMgPw/bt23Djh3bUEhDx6lKGSMU3LTUZqemMDg8SeVIZywrh45Wri2JkAJzI5WGDgWgNtnQn+q0r8BQUE0MD+HS5Wt44633zPjRo/lHHnsUe/fuseWL27duM2OtuqralprImeul09fS1ooKKrlSOkT5NOqd8gxmreen0NndS8PrPNp79P5NEg2JUtPNUk6aVc+mAsmkwjPlKjSTaBytzNCouoJrzX0Mg5icF6Z0BHOyaWwX2fsyWm4kI9FmYgkDxEWzp9dpfMgw0lK5jRSCNmPP+1GDUHjRSEhdXsDI5Cxa2da5pWQa63nYtWcfQpkpyGGZqXQqZoZ6bDauubkFszSUVtJysZKag/JqGthlhagqL6FCkjPBnlicxUB3G67c6sK5q+0UtIexd0cdSnJX6JyeQUcv25Vehu+89At894VvYcvmBuyks7V923YaW+zT7dvNUdf15i1bUVdLwVtQaO9z6P03v/07CcH6eDSLhZpweZFO8wiu32zBn//yIVrY92nM89hTT2D/4QPYs3cHlctGCvt61NdWo4I4D9Ohu9nWh9auIeQUlKOuIgtawTtGB+pW2xSu3R5FVf0e4lVLRzDXnp65JyqsXAaTZmCpVCfHxtm/3Th3/gIdozI0kN51jZuQQcNBD9DSVxaofOcwR8foNh2fs+cuopOGwKbtexGmHzwxPU6joZqGMvs0J3hPzXhSy98c/Vs6BnH+SjMGRmfs6ZcM9hIaN7U1FQixkhQ9zSZm4oMFOnR6N+HcuQskTyrKKiuwg05WDh06bfrSfOM6jr7/Pt4/+jGm5hZQS6X5yCOH6WDvwy6OqW10QuTQ1dGQKyktNzt5oG/QnIIleiKldB42NZQTtwWEu27jcmsnWqkoK5p24sknn8JjjzyG3bt2c6xscWHbFmzjeNVTwi00qLds3sIxtMHeD0rVk3NnWRlvamLFHGa2Iz0zCyWsq3FTI8f6FuzYSoewvgYLi2HMzc+QDzPx9LdfwsHHnsOh/cR9WxN2bd2EnU11qKkotEmGoYlpOubXML+civLKavLUNhTQQcyQQcfuU3DvsESwtDiHaXbIlRstdGCnyFWLOHhgD403jjP2c1drCw3FZgyOjOF7P/gxjjz5DNspmeDaqeWO4mFr61bHz3LqysrLaZTn2JMz9z6vQBNIi5QBzqHTjHJPVw+uXbtJh/KKvd9iM/xMX8O+yC0uQ1oaJaNwZhEqJTwyiFbKh3OXr6KkhoZLQxP5eyPt5lQbJ3pqvhKZwnBPGy5fuYbbHBPTkRQ6l+VII31zaEWWFOTRYS1DdoZMbBrchhs7nA5de2sz2jrb0DE4jvkkOnB55FEaoXU0kEoog7PpqGhppxxBcyIiYUwMDaL5diuuXL5Bw2mA/BVB/ZadqN+6Azs3bUAqDdUhOkjHT51GddM27Dz8OJ599nny3Q7s0tgn7cQjGv/bKAfUX02kq5Zfl5WXIpuORUZ6Otsv+epoYRMrckKde8Iho/e8RvHRsRM4ceYc5Xg382+iHDiEI48+hu07KFu2bqaR2MjxU0k5mmNP7Nra6Ez19LHkJcrnPDqPlMl0VoY629FLmdre3Y9Nuw5gH43Pp559Djt3Uk5tZ38HYft2GrFswzbhSyejvKQYedkhWxZnQCdNYYUoSh6PkI8+OXMKczN0YtgPu/buRffAAIboVFGRYRP5RwZzIcdtOuV0UoROPvliLryA2dl5OqlziCxQVy5z1LC/nfOm95YkC5ZJG3dcWOA4JU3k1IYpO+aZPxKh00tEtKum5WXWRb17O05ZRkdYE096N7ycjlQe6a531K7SAD9/5jRl7E1s2bGbsvUZW1q+sBBBP9P39vRiz+59xoNdnR2YmhqhzEnHk5TBeXqnOI1OCAe7hruCTdxownB2BM2k/RU6IMPTK9i1ez++9fhjePZJyhH21XY6d9slN7ZIbjTYEsCR0Qk6RyMci1M29ipLspGTKR5exGBXG25cuUIHs4dXmXTOStleoCC3EGVFmoAsQQb9Wg1F6xp7QjeJydEROnOdNplTu6EJT33r23juhRfpSG40533Lpk3Y3NRAZ4HOZW2FvUvX1j2AS9dbbSKvgk5eTUWp6ULrC000LhEf9qnk/rXrt4lPEvKLCzBP5yc1Iws5uUV0OGqRnUl8SI50TaiIjyPz6GxpxfXrzWhv76QOJC8VlNiqD42HvDy916u+c/LS3gOkDJscGkAb5dSZC2z/CB3epDzUUS7sbKzClpoSLMxMmxN0taUHZdX1OHLkIL7z7eewl87zrh27sJPjcLt4eNsOBjceJcc0sapli1mhEHJz9H5olcVt2bIZu3btQEGRHFzq4MkZFNNpPnDkSTz1zPM4uG8vHblGyuVGHmtIt2Lq0WXaAQO4frsDy8mZ2LvvCH7y019g5649HD8cR+pv1rtt+07ispM4uaXkcuxla+SHaJcszeLypfPoHJrBfFoBDj31PJ58/AieePQg+2kDttDJ3EJnUpM3G8jDcuqmJqfR2dVH++6G6eiq6gqOcdoypJz4XyEYqXaegAQ8bPD89rWHCBVP843b+OM/v4b33vuQA7HHjOUqGuMSHhEquKVlGmFMq6UkNgCl4Umi2vqNqKEjIGO7u6MdHR1t9lRjgYk1M65t/RUEIqhmYZNY3mJ4El0dt3CFyuDKtduoqtuCZynQv//9V7CPyra2thbFVNJaPqUZq2eefgbf/+53sYvG8vjoGOvpQFd3D2aoMOekaCNy5mboYOrpRh8u01BcWE5D/YZGPP3oo8hNT8ZQXx9aWjpsRl4LauZlSwk3w2/J3pvIysxgu2tQwTZFaF2/+847uHr5MgYGBu3F7fDiMqifDbRk0yZx2SYFzV47FzkOrOwgJKfYS+8yPMPz8xigYl6iASDVqL2wBHJY5CgOUTHV0fncT1qU0ZnV8qi+gSGMT8+ZY+K80RUaBcMYHRm25Tg5xSUoIr3UNXKa9ZJ8HuurrKqho1lCo8o5nI10gGQINFB56qgnPHU19XRcaWxmZVk79E6NmWysR0aR1acTeRxLy+ju6sSlS1dw81Yrjb9afOv5F/DUc89g254tKK8qMwNFm4PU1tVi38H9ePrZp7H3wD5b1tHV2Ys+KpmIDGmWJU5S0REaOQsL82Ilo6KMEL187T4OLmxI5xQtfxW1deWWPDljheRlITLatRx4amIcF69cxfBUGCV0LnbovarSYkxNT9GYbKXi70eY2aTS9dzYFLtKYl3apVLKu7C4kPyfj9vNN3DhPI2r61eDl8ppjDsrwvKJ3sJ2kQy/qDVZjBf1JsdGceHcJ7h54wbm2c/7Dx0ijZ7Ho088YTxQyv7Kzc5GXk42lWC5GVTf4f3HjzyK6opKdNJQ6+rpomHJOvVODw0WbcKivS3SsnNQwjS1/glVEBr9ueJp6GpzC23skhUizsFUvcMwoB/bkZyajqw8trWilk4185D/G2hE1deUoaSIxlt2CkKhNJTT4aut34SGjZVU+HV0NGuYthK5NHi0LFllise1m6t9LkI0skgedCRd1YYVtUUUI41l5C4yRHg/wo6XMSvjLI1xITpL2Zkh1FbX2GSJ3n3cwDbZUzkaHBsbGxnI0zR29FRJ735pY5T0dD2dE2c48EPclkyxt8VbQieFRmI+jd+mhjo6XEm4dvEczp8/h1Y6JRric0RTD8uUeIE4a/Mgh594je2kw5BKJ0QrSpPo6CzNz2JiuB+tzTTSadAUlFbhcTrdhTkhTPd14haNoonRcZs6IOeTJqQPHQStOVySsUjPN4eOd1XNBvZXEdpaejFOI3ppfpFOoca0QJgRgfkFM7Q7Orp5TcefBmA1DalQRoaNGcN1kTJb78ySnllZ2SgtrSDtGoOJp03YRLm6mQ5/E40xyQVN6jTxWu8pFxTSSWdZGmnib6OmWN4mzjjGdNRTgskJtNIYvkhZMDw8jv0HDuNbL3wbTz7zLDbSAC2tKLfZ+bLKUhqrm/DEY4fw4x++SKN2K5KX5vHx0Q9w/dpVDA6PqAaKGbZST7ZSMpCdX8z8lMU1dagWX+qJIvvenijS+WrksUm8Tl1RmJeHDNtRUJh6N4Y9buNRPlsyMrMykMv+zqNcys4rQBYdfz1Jz84KmZOdzY7kMDEHfXJqFufpvL/6x9fxf/7n/4L/8//3n/Ha62/gwoXLlLeTNKhZE6tyu6JKTi2wrgXKtR6cPn0Wv/vtq/iv/+2/4r/9X/8Nb779Fq5RBujJpIaAMBQ/6vtii9ZHSxyDKXYcGBzEO9Q577zzLs6ePRu8bnCdDvNxnDx5ivJznA5HHkLUU3K48/PdBGqJHNq8XJOPxtzUB5JC1m8G4lttLsT6xBsM2tAkj85RZUU16us2WKirrafu1VPbBjPuH330CJ6l7C4vKzVnqb2tzZa/GjOsLKCnu8fk21w4bE/sHzl8GOnk5+H+AXS3dSIiIau2EhHrCckE0YyYyeFMT8tETiiXMrAABfnZKC7OZ1uKaPyzPRwLJSWFdNir8dy3nsDBg/ssfnB4GMOjo+RxEZMFi5jkycWFMB3dAdy40cF7adQ99di9Zzv7fpm495JPWzCtpb4UA0LBPtWjMqjTkzgW09mmgoxM7KNDK9lz+dIl9A0OYXqOjjrrWbBvu7Iq0i4yMoT+3m5bOh8i7xVTNuYV0glM04ohFU5bYDHJdnaeY+OTsnIoD8rJv5JXehKmJ+GS0wqkN+W0Vs1IXpdQh4eoFzKzcpFPp1g2lsm/DTWoqa+kHC61SSvJ7fSQNkyrQiVlRh3p1NhYS5lYzT4sI5/nUD5R1qnBHFOp6bnk/1KmpdPFMaUn8rKPJDv1BL2mivqkuorHClSU0ZnLDcFen6Hss4kt9qsm9jLySlg2xzXHUjEddun5Asof6csqlrGNTv+jRw7TMdxCNlzBGG2asYlJI50Pni9j/JmABDxckPr6+gMH+9z0NHopmK9fvYE0DtidO3fj23SeGps2UfHlUMlSINgLsByAUl4yjDR9TSGYTyGmXaQyqfxHhwdNoY1R6WgjA+nSJaZ35pM+F2CijrKXTtjMKDrbbtK476RDloSGpt3YvnM/KmgAyCjTO3J6gV/vpmXTGMmn0NQTuyNUGI8+8ggVTDnvpxMNKm0pCUNuEeN0cPporPcOjiIjp5jCqgkH9+xCaW6WvSNwiw5I39A4pmlRabcqBTaG/3o3jM4VFX8BDZCd+/ZhY9NmjI6O4Oqly7h27TpmaERpjl/KSSA9QlFN417KSWeGhGutOyWwbMXoPC3dHLqq6mrqkWWMU9DNz85JL7qkjNMTT62tn52ZpmCtshk0KdPw7Iy9CD9NB3ZBHwxXBXN0XEYGzahKlwLIL6KRkmuz1No4wV4up+ZSn7J7oNdL9KK1ljhlpGewz3jOkJGRRsVKR4nCW8sWLb80HtH2u8u5aVCH4xxx6e7qQmdHF/khjcb1Vuzcsw8lVDSZuRm2pDWUHWI9WdDGHiHSftPWJjzy2GM4eOgwaqh8MtPpOPJP75PY1tDEVf2drvUwIiBdLSkivedlzoCAhpaeiOh9P4vnfW3YIWdPujlJTw7kLMzN0Olnv924hZmlJFTLaaVyqaWjova2tbWgu7vT3jlYZEY5dMaj7EO9JxSRk52WSgNSBsFOe4LQ1dVKg+q47SinzUiceFC9NJKEi/qdTkyyDHziFw5PoYfO2M0b122DA+1atps81UDjuUDvJbAzMulQZLCeDLZZ/ZJPg6xeTvzuPXj80cdoUG235caLizL/3ZfgBHr/RjtKJtNx0ZI1re4MhWiwZrIs9SfL04Y0qfQC9P6abB6BjirB+Fddalyn+6m0n+mUZdNQFP+EyCwZyaD9S+NskWTX7mpLNuufyjpCtJvFT5npyTyy73i0LuSAcB+U5YUCaWRVW6UKjl46mlPFm/KXFngih07tMiOU5dgW5zScVmj0hkI0uHPy6JSkGu/a+7N09DIZHwqRv4iveFi8IfrbslKJBGuj6ylh4kam+o59Tr6RgSIjeD/7eM/WjcgkrS5fvozzdE6GJp1Dp+9LqRCTZXTaxHe2oZMcOt3gtUThMvtodnIMY4O9GKAMFB4VdY3Yt+8gqmiEYmYMrVcuY7CPY1jzGCx2cVm8LkS1GE27Ni4jmfywsWkbKisbMTw4iZHBCcxOzNpqctf/9CRW5jHDMTgyNkmZMMyxm26761aUlpmDubggZ07jQvjKiCcdhTf7JC0tg44a5QFpqHxaWp1J50BLyrOyUshP6lvxjfoxkGUaXAq6sid0xIEODBbmKPOHcPXqVXtKl0f58+jjT3GsbaPxqicc5BeWn0J+lFwRT2qn26bGOvL4djTWVWJ0sB8d7W3o6e1j+eoZOjakrTZeWBYPpWbQFqVMIZ+lE0frc/Z9Fhkwm+0IkSczKa+0QY/tTGnB9bg6ThwlUN1ahqtdCPOlr8jnOdQz+QUFKCzMQx6do0zSP0K523zrFj46fgJv/vldHD1xCp/QsL9w5QqOnzhp7whqI5+2tg7M0tB3kxbLlMGjdEwv4cTHx3H0o6O2guAS9cbFSxdw8tQJvPfBBzj28Ql0dfchvMCxRHz1iQI94ZPscZyvnS/nbbdZOXJjdP7D1A/aCbK7t5d6bcB4Ws5bMeVCdk6W7Xqpp6l68qunOnLo/VPjgEMtEEkG1iB+0OSDTVyJlx1PyEF0ukH0zSI/ZNvqFK3Qkf7RxJPebZuiYT4f1pTEEhapT/uFV1+f1aklvAf27EVZYRHm6BD3tndhcnTCntgJiUUTQMRDcsDqduNIzlQK9YieQOvBH7vUJp+0S6fe1dIj/uJCOn252SZbFzTxxyCO1KQQCzB+jET0ftkIOjuHyNf5qCc+O3ZtpZNRTGdbu5x22fL48KyW8osiLEE4aZqZOGiyOY96cTdldHlxMXl6BD39/RimIz5LtpecMm6iXJobH8FQXy96eT+PfaHVDdpDIJn8mpJMeZSaibSUDLJjmu36i4wsjocc8jF1YjplF3nX0ZpH9pmehOtcu0TqPWx9GkFy2pZzc5ymMk06+4cDnPdTTFfKoUvWNripWUjikaiz3zimM9k6bZudFCEPRGz8arIRycSJcj6UzbJCzEa5rR0tJQeEj+oPSRcxPiQZICJJUmllA2msyTdNP0fYvmW2TRJe/WaTGrzHhiOZ4z2Um4vy0lLjR5VtE7VkAtHO6BeAKJ+ABHxRYOz8tQaNLso0LQmJ6JEah+iO7bvwrW89i+eff45GaDWVoLZf17tjjiAyi6R4FincFiWoNLtGZ6uoIBvzM+P2AvPw2Cim5yNmpLlFc8rpTCo90Vqh4A1PjKK3s8WWUWZmF6C2cTtqaACxRBMUboKdOWkImC9B46SKzt4BGsUvfv97tgS0mIZxKgWXtsKXIUlpQiE8g75+beoQobIuh9aob93cgMpSOqast/V2Mw2uIUxP60mLapDUFFK03ii4pCC05n7b3r3Yv383SgtC6Gm5bO8zyGiZk3ISPgQtyRTIUPLbBwckDYKuGNQWaSgK+6zsHFSyHXrVY256gnQYw/IcjS+bKYxglAbF6PSsvddRWunWp1eXFjLxBMaGtF39DCIsfHFZOywuYmQ0jFk6eRKeeflZVAgSsA4Lt6nMPEb11G8QVHbzDKM0FoZpNPTbRhSDNAj7+4YxNjZNRUclSTREb/W3AZWBlkXZjLyWlS1FMDNFGnf321PLnHw6IRvrsKGxnv6qVKLcNBlYNOZYiIxCfaC9tKIa+/bvxXe/+y0a0E0oLc2lUiKe1r+klN5ZiUzRwdXW7ePoHxyy8l0YIp5DbL/wpDM+rRe352mUyx2goqGBYka1ET2JZUTQPzSG5vZOrMjQ2KR3BSqwqb4YJYVZ6O7Uk+RuOusTdJZkSmnplPiAjgUJMEdjY4UOZ1ndZuw5cBC7dm7BcngYF86cRHtLOybGtFMo+1p1yvHU4h7SR+9XpJAX9Z7d1NQE2mlAtHb1Yjk9Gxu3bLenIRWlRZC+TWX6NIZU9lWq8S4ZgvTKohHV2NSIx594DE899ZQ9jVI9aqeedOtPxvr8zBymxidpUI9iaDjMMIUhtnlwiPQy2jH0a6tqjkV6EGZUkT7GiizPTBNN1KhfGaHqSSriLuUcjAnVJidGTivpYh8MNlxYFLPJKDNgevu8gY0HGnqReczq5f+RIQwNEj86JtooRHwnftNR2/rric7kFGWBHJwV7cGnaQgb/SrVdqsNz07TWB7H6DjLGplg+9guGrsyeH2ZAyxziHSQgx7RoxOCSCpbzeSWmqP2CnhYIY8sLVMu0cDJohG2fafeB9mFhg3V6G5v5lg/jU4ew2G2VwQLQBMkrs8l+/S8jzdJk6SlMEXHPNvLcTYwhuHRSeTkFqBuQz22bNmEmio6WpQtHTaR0A82Q11hPKuJJBWqiZOlFb1jkmaz9/X1tViYn7VdXbWx0IoGvdGXR3bmGA3mgfEZDE9Mm1Ovp/glxdqRj+VooxV2kHvfVWW7z2VoK/e+/kGbGNJOlL0WeE766R3ogaEpyrgwJibnTSdo7Mv497uh8sfVb07dsn1WoHdkDBdv3MYs8SurrsGefXtpzNFhEt0p01yPkmfZ2IVFyoLkENJzirB98ybsbKhC6uIUndwOdPV2Yp4yWBMspl+YV0/LtZuqnFlzaHUUCmqT/sijEaZboJzzrOg6TPyjoIk2HTX5kEb6aLfkcvuETSgnB4UlpaioqkV1ZTWK83KQTkd5YqgPF8+fw4cfHcMn5y9Rdk5Tx2TTCM/BIHnswsXzePf9v+DKlQukp5zQRczTsRUtj588hTNnz6G5pY18uGjGrHa01EZeF86dx0cffGibe4yxHyRzVqg3JEc0KaldcCV4NWmSEaJzJec1Q0+A9SkJOjuZ7omNJk810beR8raoMJ/p0un868lPHWpqanlNp0eTGmR+P5IcaTxNnB4WT0THNPlKY0XsrNTmwOuctNdTXj1F1Pgxec58TjQsY3hQSzHJN2NLyMitIg5N2LG1CfV0oJKWZtDf08wx2onpGZbBLNr4xJARP9kIcJdSfRqTHgWVb+qGdRnOHKszc4t0oLXBzhydR8kqxgtpZZDuXqQepFMtmTAwPIbc/BI01G/EDi0FrKtFFoXAWE+nLemdGZ8w2qzYuhi950gHSpMArC9Er7KpoRo1FcXktUU6rD32RFCTO5IslNiG+jhlzQjjp9m35QXkKzrZmhSR7k2SDqCCT0nTxivLtoQ3jXjPT49jZLDPNmzr7+8lrv2Uz5LXHJMMA5Rto2MTmJ4N0wHSpJPkIptm9BEtrLGGp87sHWG2S67tPPtKKzfMwVUaKUMG6V+BxtM8+3EmTJkyPkvcqTMoqwbojA/SKdWnT2SLSe8OjRKHcIRtZsWs11YSGN+objmI88RnwfpU8sFWz4hn7GjVYZ6IC3fxs3tNJcA5CIZVkDYBCfgiQHz39QYNKI7B/LxCm0n++7//1/jpT/8Ghw4dgratl5FnLwCbBehGnxMPHNpURktJFIgUhtm5udhQU4lMatypqTFTbpNhCjCNcZLRzYfJmWNuFrM8H8bU6IDNZutbPAUllSgsq0NWrpupl8EgAaAX6F19FkmHIc2WA2gZyN69u9HQQEFNB0YC3gTXSgqNk3HWP07DPAMlZbW2jKSawrmhrgz52Rn2qYG+7gFMjE8ZVlKsVgkNIb0HoRnTWRpMBWVl2LV7B77/wlNIo3K6efUizp+/aIaPbCujhhnEbJc+Sko6mHJmtAW1kzHRWUA5v3TqtCObbfSSm40VOiV9VDBLc7NmeM5qJzjtOkeHLruABhodOr0/WFtejBCFqJxg7UAWprEwT0KNTcxhbHyOcjQFDRsbUFjknCTtVCrFEqEA17egtFznt6++ht/+7rcMv8Zvf8vwu9/wyPCb3+Cf/vGfcPzox2gnbaan5zQBSXxdUN+7bawZSWFun4QYo4E+oB0zp+g057H/8sgDmcTDKXvRleqI6RmsEDp6adrRrhiPHtmPfbsbUF1dTK3MdLytjzFH5qbQ3nwFRz94hzj9Gv/069/g178hvr95Fb8hjv/4T7/G//gf/xOvvvp7HD161Ax6LT/UN5nsSYLorR/WNUaF1d07gGE6PNkFhdhEB6miLBcba/JRW1lIw3vQtoHu6x20d2RW9F6Mngao06QQ0zIwrwU42UW2U+OzzzyOJjqD4zT23vvze7h+tc1273L2hpZnyrSX8pNDLLW/iEkqb82oj8+EkZZTiIrqemTTmdcMNP/JKXQEVhYsXxJ5T8pQu4ZKQebSuNzQUG/b79fWVhnfq7IIO2aRbZ6fnScfd7HPjuOff//P+DVp8xvS63fs31dffRW///3vjU6vvfYa3n//fftmn5bsakZejOtGo3iTONNyWlEwrhWoUQoujc7dMeBm9Zfd5f1gPOtHZSloc6XhoX5cunAOf3r9Nfzmn/6R/PU/2Y+/xe9++zu8+ttXGX7P89/jD//8Oi5euk4HaMpmmFcoT7RluIx/GaWaCpIz99HRD8i/v8b//Mf/Qb74J/ID+Zc8YXzxj/9Ivvi/8eYbb9DYvmg7NmoXN8OP6PHfBXWWomklLdBZ0Ze5VpIySIx0+2bW1q0b8eQTh2mALaHt1lWc+vioPZ2XkeSa6CajxCNLPF+UMa6xz5JSaNwsUY719vSjt3eEMm0FZRVVqKmtsaeuddUVKCvMQdiW+3aho0fvDAo/yR6dacyq3XRq6djqsyF17He9wzI9OYYhGpXzMzMcfvR8yWPauXRgdBz9Y1N0gpJRQCO/srwUhfm59nRWDzXcZIrq0HkKeljGqdNn8Ic//pE0/C3+J3nm1+wPjav/i+Pq///f/jv+B2n5+p/ewCeffEI6uu8RylDzfCAeMCIYAyVhem4e/XRe29nu5MyQLSnT50PEzlq+niEZziDj2dwLzewnZ/EqFYU5WagpCqEkOwVz0zQsyTPj05O2AY/oqs/V6KlFRiqdGZFJw0u+rz1ZWjIDVZQT1+nJrr5JJ2kTfTrHazvQqBbkZmdi7+5d1HP77BMz2flyuDdiz54DOLD/IOVCOVIWZ9HVegPXr1w2x7dx01b86Cc/xz/8w/8b/9u/+wd8+zvfY7+W4wp1waXLn6Cz4zaH5ZzhfvHKFcrZj+m0LlN/HsEvf/kr/Lt/9+/xb//tv8XLL75I56sQra2tOHb0GFpa26BPW+hJqZ6y2CoT8RfbqiWFRx45jCNHDmDnzs101kpx8NBBvPjyD/Gd776E/cRV7zy98OyzaKLMz2a7tHPzwYMHcfjQYejppesqySfxFU8doQhahUEn094vpZFNWacn2+YcMZOlp/zSRKBWP2hnUn124ub169AS9TTyUWV5OQpy82Wxo621B10945icz0RZzVbbDbiytBhbN9YgL5SE0aEOdLa7z7No/tTmJDTTwvrEp+aQsN1691jyV2hrRTt9H7I5cWDQuFsi2ze3dhndxsaGOF5zUFAoXZdsOm5lfhazU6Noa9a7pN3sA6C8qp5jiLq/rAINlZXIYdpJ4tHf1oKJkRGrSzaMHDpN7pjvwnZryX5Rfgi1VWWoqSzDUD8dsAG9bmEa0CaxJZ9GJyYR1s66pElpXh71eY61Sbp3gQgvkFklU7WbbTLxG+lqw/mTx/CH31Ov/fp/ctxJlv0jfkNd/LtXf4ffUWb/hrJbn+O5ebPZdpuVeBCeJiaEK2khppYdpTPrM/6J9xeZxr7LaPEEZaIM1YSC5Ix0oxxHje3f//5V/I4yVOH31Bm/Z72/++1vTY/89//r/8ZrlKV6XWGIzuWC+Ij5nfik1KR9oR00NYluqyrIJ1rtoG/sSSZoslHffL18/SZus7/0ZC4rO5t8qqWoTEK32D4zZR0QhAQk4AsAjoivMdhA4hDjgM/IptFB4bd//yHU1TXYEzcbcTQutUTDz9LHQE/paIBQuMkw0jb3NVQ8WfTvtHVyB4WqnBKbpWFq59ApBBKHSluzVTPjQzSM5xGiwZsaKjSfx5QPBYRmCSVAXAnMJI+HoCcIuTlOQKTbezsRpqIApTE8PRmmQB/F+MQCnRttgb+RCrGSZaeivlof/S7ANI38kcFRjI1OBLipnazUZrU106uPKPOUSq+0rAiPHd5DR6CIBtUEHYnjuH6rDSPj+swBQVaG5Zdhl0Z5pjfXXBNl+Drs1aAAqLjSMjJoeOWhoqTINkoY7OrEwtSUGfMj43RGqWymqOzlzOUXa516IWpo2BVmkubzMzaTNknaTs9G7KnM2Lg+Zpxiyzhz8yg06VxoMw45BnqKNczy9KmEDz/6yLZlPnbsKI4dZzj2kX3f5ujRj/DB+x/g4sVLNEj7bGZefaBgfaDZT3PmZEzScGWZs6w/TA0tw1K7hmXlhuzFd9tl0lHGhDYzkwLEm8pombSRAs7LywD9FflMvK/dDvU+h94Rm0N/dzPOnz2Jjz8+RrwUjuP4xydw/DgDjaXjdEw/PnECly5dsi3rNTOozVvEqzI6rW7W0z8wgpb2bqRk0GCslGFdifycVFSVhcinhWSlFXty1dnZjampsB6MMjfLoYEje3CJ+C7QQV9IybYliFu3NGDfDhoH5UW4cvEqzp+7wbx9VGTkbCo2GeVGJwY9qZMTPL8QxsTMNObIIqnZhWbsaumgjG3hqk2BtLHF9PgoWm7ewJnTZ/HRhx/i/Q/exzE6E2fPfWKz+T3dA7abmSA5zSlnbV3d19mDi+cumIH4wYcf4EMLHzJ8FIQPSLvj7NeL5vzqY89aGmz2uBhUfCm8kzS/SyR1brWIX3XmQsyYV/Bp1AYF19cuj4LkRAQT4yNobbmNs6dPGp8dowN+lPx39CPXp1qyduzYCfblGTQ3d9A4miV/UHikpJuRpZlpGZdLNAbk0F26dI48+yGOHlNw5X3EIJ5W2z/44EOcOXsWLS0t9o6RZIrJESIrDJ3k8W3gLwenHKdlzdBrTKalorKiBAf378K2zRvI7mGcYF032S/DgV9jnM3sMmzkF+u7eBr9kpGptlxbs/macZ+koZ5j76dUckxqCbEMwxrKEm2T3ts7iK7eMZvsMmzk0Jm8ozxdSadh6ZwZvTukpzDzM1N06LoxMzFmkymSUXOUFYOUX6OzC8jILaCTUYGS4iK2k/zIcWdLVtlwOcS+h0YpB7SVuMbPsY8/Jh2Pk4bHScOjeI/0e+fd9+j8f2Cf1Lh16zbpPmWNdeNKmCoQVyMoz1nHFPlwcGLKvvOpd2vkJOmD+HLoUomnvm+WQnz0bqskpN6PW5KHSdASx8r8dJTpA8wL0+SBUczMzTp5SeT1MXK9BqDl7qeOn2J/nMAJ4npcgXLsxMmTOEPjtJlO0ij7XEan+tIcBhm+RtwY6AndNjpy23duR33jRqSHstg/ddi6bRd2bN2OctI7lTJoaqQfM1PjzJGMcspgPXXatHmzbcTyyKOP4alnnsJhOltVVaWUPYt0KMJobWvGFTo9Mxxj1bV12LlrL/WoNoeosvegtXmLdpotKy3F7du3cbu5BYNDwzZ5kaTJQOpg94QuyZaFlleUme4pKMimbs1AfqHfNZL9XEJeqqrCwQP7UFNTZU/oSukE1tXW2hM6LaHTsxQFz7NGcTkEpL/ebdVHqTUJpslULQu/dOk8ZQX1wXEGyt5jx49RfryPd9/9i4VTp05QRi5QDjahadMm5NOhm5+aRXtbN4bH5pGaVYGKuh0oLpGcDWF7U52tiInMjdl78n0DPZiaXZYP6LpFSKmnyff6rEUP9c6li3SIP7qBox+ex7GPjtuOpCePk0c/PIa33/0Qb/7lfXuqXF1TgS2bG1FRTvrTFpCO0iTS3Mw4WunQ6WloVm4h+7aB9K5AIeV3o94LKy5EiDJ3qKsdAz10MMNOYon2mkgy2hAvbW4USlu2Dcga6qqoE7vQzfTCXcuvddRuvnLy5HTWcuxVl5WiIEfvnks+sl2UCeJjydUk2hVJczMY627HzcsXcIJ0/pjhGOXLh5T1ktMffMRzk2VHydPn0d7RjTAdOlFJOJofZ+NGfK1eVaT7kZ0hR07B0iragGfSvxp7ysBxoVdhbt26SZp+QFn8AeUo+5ty9LjJZtX/IWXCMRtXNyhLRycnEZGwk+6mcyiHd4I22+3bV3GWeloy5KjZFC4cpd7R5xHeePvPOE3dpM/q7NC3fxsbUFJUSJ6UJUgdKUyFqA8JSMAXALIDvr6gQe6VIA3fjIJ8lFRV2JI9U+JUxu6dJA0+GawyzpXNMpoC1dythIh2j9TWwlp7PTs7bQJQTodW7TgQKZVPQEFHQa6lUe4bRYv2HkeyzRKaDDIh7d6PcrM/FmnzvDwyTri4hFIKC7SjI6w3jP7+EfT0jWCeirWOyq6uuhxFRQWsPgllVK4VFL5JLG9sYMBe2tarSdYqSUxq1MVluZAECnnJMX3PZ/PWJmzdsRkFdESunTuOtkunMdDZYfeXk0JYpkI2B1CGvQIh2lKeyIChWGcdonUajbVM5GZn2ex7Xk4aujtvYHKy14yZ/tEZ9IxEML1IetZtQnZhib3HUFNeiNLcNKQszWKorxOTNH6mZ8LoG5rC6BT7KiUDtVWVKMrJoEJyNNOGLhHSUevXZ9gnerI3NT3BMIlphpnpKczM6HzKlgfqqA8AG0VEEhJCT9z8uXW++oPlyWCWA6oey7Z19+m2eEVdqLbbEwzelZKR8tZzy1TykoxNR2ACnVARSDPuqkeztXNzc5jQE0jiO0NnSEFPlsQn2jlOQcstZ2ZmmEeGK4sXacUT+hOt2TEdPf106LqgbyFV1dbTGCqx7w8VFYRQXVmMorxszE5OoLO9g44hna6ICrIWEEfixEbrSa3UcgqN/bKyctuVbPeOLZgc7cbNK8dx9fI5e59xPikHi0mZWDQHQRRx766skK8j+hAsYzRrnpOTx+7PMKNAvKN0ETruY3K4L16gcn8Xb/7pNbz5x9/jrT/8Hm/88Q/40xtv4Mx5OmTyKphHs+t6d0KO5KyecrPPJvXdOSreCYbJaJiw7xvp+4Lh8Ky9l2P0EjJsqj7w7zpU3SPTz6Kjwd9zprxiXLt01913KVwqQWBCsixzTDiW5EBqmZ+c/1kep4mL+EyfHHH8N8l7E8Rvio7KLHPrqTyLklwR/xBFyQ/Ntk9Oky9oQIrnVaZ4QG3z7VXZs4zTJyQWSXf37hjxi0Myhqv4hIVbkEGkTVnSECosQ9OWHXh0/37U0ZBuu3oR12iAtXd3BkutXBkK2rFQEz+a6NJ3KZMW5zAfDqOndxhDE4vILShHrTbyKHW7zOmpTimdu6zcPFsS29/dpdc8jc/MOZJMZNslJ2ySgEZlMeXN9qZ6LM5PY6C/GyMjQzZpxeowS2NvcHQMk+F55BUV2cYjefm5ZqDbMmTiJlrK+Ve/CGmVOx+ZJ+00pjSGwuQd9Ym+WThlEySOlhwPlAN6SuNaq16PA6ObqLHE+tgfLG+afSxHITMzRw8F2CaNffGOSlDugPHs2oHeB9J7Wbk5OTSMVxCejmBpYRlpTJtOeiyGp+2Jywk6GW+//Se8+eafOB7+ZE+d3+C4+DONxvfffd92GB4dGWN79R4WC5ZA8LU4BEhe4kuHrpAOWllNA4rKKzmu01FEJ1hPwMsqKpFJJyUlJc34VxuLaDMIPRKcC08St2kWsYRq6hM9PXvxpRexb98eM1LFby2tXbh2s4PyVu8PFSIzO4dO5oQ5IFparKXJSluUn2ebSbW3tdPJGQqMZTlalJCStURVzpZ7J1Tvti1xzGvSihKFMj6Vvp+WYurTIg0b6limPticitzcLPskTwF1uD3ZJg30Z1QnOWzcKwjYN25DJ5hskIOpybI3/vQ2/vSnt/DmG3+28Mc/vInXX3+bckkrN7rtCePhQ3vp0NVSnqWQHwfpyLZgirySW1qG8vp65BQUIIn4aHv+CjqlmljoZHv7+gYwRX7TBiFkQ4J0VIRjPEK9R4e4ox0nTp3EG2+xX//8Nv7y1pt4+0+v4/U//AGvvvoaXn3tLzh26hJVaBqOHDyIPTu3obJCDrX4WxM/lDWkd1vLbdvFOL+MDnBNOXJIp5R06toKjkU6wXk5mcSlE23U3/2j5POATVJZbir5V+UvpKRjLjkdeSWlqNmwAQMDfXQA27AcnrDX0hYic+gfn0FrvzY3ykBl/SYUl1XaUtdk9mca+1FvEmhYa3jr1ZQ58tQ4x+zEDPUXQ5h6Q7um+u/G6b1EyXAFJ8c0welGjpjCjRz+8lzBJuV4av1rUY53ZMbo6NIqMJ7l6Fo8JB7WztljExzvk5KhM4Es1bJ2jn2GOepevSOvoxxlTVImp+jJHGUyr0cov65cvIjjdArf//NbeJdj8+03Xsdrf/xntwLo1X/G62+9g7bufuRTNj39zOPYtk27peYTb01kSk8I6wQk4IuFb8B36AhSvMFibW0Nr0fzszQMJmh8Xbp8CQsU+nrhXhs0FNEgCcSMMz54tJevl+eoHSZo5J6nQzKNMB2dhi27UFFWahsryBVT0OyMnvYszYxhbKjXnhwNzdAQKGnAnsNPorZMZVHArgSzU5T+wkdvZsnJMnElI4V1SibInRQW+uzCyNAYrl29jfPnr2GensSOXXuwZw9xKMmiwTXFdIsYm4zgdnOPHhDSiUzBxqZNtrFDVtIs0RpDy/WLuNo1g66JZOw4+DS2bShFWX4KslMjdGIiuE58U4iTNrPYsKEJwxTsXb19uHL9Gmo31GJD4wb7fhfRc7gy2EYRpLG+WaYNRJKphFJ5rReq9fHY5uar2L59M3ILi9Dc0Y/zV1uxsJyMg0ceQ31DAwqzQ0ihwTvQ0WxbbIfpUFXU1CKDxkfzrVYakUPIzC/E0899C6WlBQglTSEy1Yeb186jrY8COVSFF178OX748gt45NAuKsSdOHTwAI5oW/EjRyw88sij2EdDtn5DPY2CAhoSxDXQFurtFLbBLEktdQrTCRkew60btwyfEiqzzdu2U2GWGT+o1QbMKPfYZuVoUGkXwGQ5TVSW0jHJ+nDvygzGBzqp0Nl3NwfQ0LQP33ruCbzyg+/i8ScO2o5pRw4dwaPE7zHheeiQfbctP7/AvsWk7/Zs2LgZ5VXVNuOezL6ZnhjHe+++i08uX8euA4ex9+ARbKyvoJEYRlKESov4d5Fm/j2hjZu20vErQ1GIXLYyi7GeZlxtHcTF5l4UVDVhV1MdNlWXoCQ7zZaA9fV2ktd62fYRNGzdjsW0bIzRODj3yQVz5Cory7Bv7y7bIEgb8HR09NC4qSWvNdm7O6khbT+fRJ6m002HRjud6htOly5dwPUrV9HX1Y2O5hZcudGMSzebsZyRhaa6cjRUFmJusBuXWnpws3sYVZt34TvffgHfe+E5PPXEY3j0yCGGI3jsEfbr4UdwkLTSBjR79uy1XQFl7KVru3xaA+oXc9U0nNRV7GyNa72PkSr3RU9jGZZosF+7dQsd3d0Y4xDZuf8plFVvQlE2eYJ501iOfeReT8lnJzEwPIVPLt5kOVnYun0HXnzxZTz3/At4+onHyXf78ejhg7aU7BDDgYN7sGXHXo5VMlpqiMZWBg4d2I3y0kIaTivo0db1N26ji7z28s//Dk9/7yU89pj44DAeZdsOaYkZ23uYPHLo8BHy7z7ou2dV5AU5CTJAvMHj2imJpbap31l+3wiaW7vR1t6O/QcOoLFpC/JKK1CUSSk1OYqbt1owI08uqwCbSb+FiUH0tVzDJ1duoohGXNnGrWjaUIOcFG0OMUhjsgMfHj2Dsell1DRuxkHybEV1qT2pyqATNDs1hraeEcrHWRq9BdixmYZg9grS0/XUbQk3Wtpwu70LXX1D2Lv3EB3CepTmZ+PG5bOYmxpFeVkhysq0i14qRsancPr8JQzTENMmOhtrqrBEB/n0hYvENwfFzLtnWxMyIjMYar+No6fOoJL47n70SXz3xRfx+COP4BHS7iDbbeP/CK+J7yNHHsXBg4exY7voqI83U15JfmlQi5DmfDoasusxPDKJFhr75y5cRXllHeWVti9v5Dghb2i5PPnJLSuVvHY8pn/5fPq8zFhvO/nlMiYWkpBbVofHOF6XOa5G2m7bk+XeEa1YoK7QR67pWHd1tqO1vRXtHW22tE7vBObnF3F8VVP+VDiHTmD4xl0475bnPk6izE0k6c/eOQ6cc6Xp7RtER2cXeeAW+vv60NvbDe2SqKfu2oSkrr4a2t21qDCPTm0E7390EifOXKKzPk69OY1O5r1y6RIuX7yEK+cv4vy58zh37hyu3bjGcjtQU1dPfdGIorwCdHOsj/b2IjcvFzVNNHyrK4kRZVTbNXQ2X0Y39Uv95v1o3H6ETlu22zSEzZDOEz3NaSf6tNdtEYtrJuN1HrRXcW7qlbw2P0EaduHc9Q7KuX7beXNyZAjDfT3o4zjv6uxGZ0c32ts7zOHISM/EFsq5x5582ja1qq8tpqofRjP1y18oZ+eTQ6jfsR+HHnscpYVZxC2CEBHU7pcaW3qSnFukJ3ibUJCfg7y0OSQvjtpmXtdudeLqbTp8wxOYo1M/x3GpFSgD3a3ovH0V586cwfUWytuZJWzYsgNPPPUknn/+GeOxonx92oYtlFM4OoDulhv44MOPKOUzULN1N3YfPITyknz7ZIr0rTaYUV+2dXTY5k8l9RtRUl6EXAmJhRV0Nd8iPtfRPdiPI08/jaLqDVigrvrw+HH7Dt2OLQ0oYX+HZ2bYrm6cPnveJup2bt+GtFAumnsmcK2lzz55sH1DGUMFx+0k47pxra0HlXWNePLJx/GTH71Cef04ZfUjOHSIOo7j7gjPD1Nm61zLdbdu3WEb32hzGPWtULShpwl2MvkkdZ/e02zp6EJKKA/VHNviqeKcZPd+tu2y5sISnTPJnevN3bbr94EDh/B3f/evrD7JY+mNR2gLSIZKFjzGPj7E663bttqqhfxMytGVOdoTl3HhZicu3dIOwGlYmRunTBzASH8HWlubcfnSRXxCPpf8Ss3Mx669h+0TGk888Shqq+lcZ7kHBQ7IkHTsjD19SEACHjJoHH2tQU7RMoM9TbHh5lSA9J+Ug94pkzGvaz+rp/uONExPQSk1oaV2eiE4U5qGMeG5eXvPSzNy0SFsszK6cjOO2kZb31jR1tjzCzSylrR0kiWzaDfD6IF55AFolpUGeHhiAu1treiiYNYGLIt0PiNzsxgdGaUB3YbuHm0EMYJR3rt84SyOHv2QCvdDnDl/nkqq3d5F6W5rQeut2/aUTo6aOYtaUsB2ydTVtXap045zqTSCq2orsHPbRhzYvhGRsT7cuHjePuQ7Mj7nhFsqzWAK24gW+zPGtVNms3d8k6miHX1FOy3x0vJPPaEbGminsunC6PgolQkNgoUMJIWKaFzWUFhTaaUzbWEOKgtDyE5bxvhwHx2KfgxTQQ3TKVlJK0B+YSmKaLBna227hD77TLtkpaSnoaCowITzYQruAwf20ZDeR6NtP419vTuijV/22b2tW+kYlZdCu12qD8wgkCUgvG22j4GR2s0sR2viQyGkp9Kk19r54FGs7CHrbyZVm93yKsXoxhIWZmfR2txOhThiTqHK1AYqttsZK62orMSuXXQ4iZuczoMMB+x4kHFyUA5h3779NDC22ntP2vFMT2NsppZV6YXvazdv41ZLO3r6B0mjCVy5dhPvf/ABjn74Lk6d+hA3rl/C9Dj5g4pbT+ha22gwjIetr8gEpkDtabQCtagZpcRNT1caaMg9fmQ3ivNW0NJ8DR8dP4mb7UOYW6aTSmfVNjlgW5YXtRA5ybbvXuG5doXTzKje9ZGP4KhF5UtjSd952kIn9bFHD+N7334O33v+WTxFhdrU2GCUmwrPs100oBeXzAhlEUijxVxSXmbf95IjI8NA9LEjDRkp5EdotOudml27drFfy6GdIVWeuFLvzOlMvaM+EP117hRuEBih8W0nxNVCkM4DLwMg/UU7C8n2NFJLuPfs3uvwYf8doSMmPjtMI+LQof3Gi3vp+NbVVCA/N9OWwWpGX7S2j3Un05lIzbSd4zZu2oK9+5iPRogMHrXvkJx9GiCPPvooHqcRcmD/fvuEgRxX7WgYj2cM1Db3NNde5udYUZ9oA6L5FVpPhPKqKjy2YzOe2L8bUxyTF67QkLlyBVMzsyYTkii7tPOchKLeQdI7MtOjQ7hx9RqNxV50D0xjmN7v1ctXcZrGoLblP332NK7dbqZxO4ouOiYdLbftaUI4rKW0xJTywLYE1/IvIUEjVZ9IrK0sQmFeJpYWtZS8y5aTamZdH57XO8pJ5J8yfaw8N9c2YHC7WapvNXkieooOxJXMrYmahsYNNu5FOxlwB9Q35JEjjxzB448/Zgbl3j17bTt1jfEYGFYObJDLiV+yHWNz6DxLjovvFxaWjCf04ElbbWhXPFsKqciAWXxJktuz0+7Jagr7OiszD6H0LJsoSF1aRE56CjZtqMVhyqtvPfMUnn/uW3ju+efw3HPP4YUXXuD18+z3x7F502Ya0UWxggVSWPyXbiNG9ufAHSXnJePVj+I50y08pGdkobqmFrt378LuXTsoU3Mx0NeJE8ffx2t//B1+97t/wh9e+2dbkihdIvy1GmQmHMH0HNuUlInp8CKGx8cxMjZmy/+0AcrE2IQ9RSrIy8GunduhT2/ocwGSF6ZvhI8dHd5uySz7MIXSgg6Su0UeYTIF6cdU6lw5NHqQKMM/6swpqSuGELRXB+szMoImSRkh2a4dYmtqajgWD9BR+ja+/cL38J1vfx/f+Y4+H/QDvPLyj/GjH/0Nw09J60fNiVU9Y2ODdPxa0dHVjt6hQXQPD+OTK1dx9OQJ4/dPzp6k091q76C2d7TjdrO+79aFOdLJnkoLL7ZPT8pTM9JQW19v3599+ZWX8YMfvIKXv/c9PP/0U9i9fTtlVw1CuWW2aZp2f91QX4v87Exz0tQebdgzPqYds9vQxzHSN9iHrsEenL1y3vD58KMTOHXyHG7TOR8a7MUg73XSQW/roTPL4WeyOODPRcqBOY7oWR5Ts3M4tqpQVl7MvptGT9tlLEwNYnp6Ar0jkxido7TMyEVesZ72hlgIeYnyOZX0tb2+GNRUjemkjBDy9C7f5q3Yd+CwTZpIjsmpOsxxeJjn2r1bk5c7t+9EdaW+d0oSiVQE60udB4FdEA0Gqsh1eNDj/oLyWjKAtFLIpZzQKzX6tMgB1nXQ6peecPU/Sjkg5068r29G5moy2SY7Iva0Tk+tteHRvt278fwzT+OHL38Pr3z/2/jO89+i/HgUmzbpaWUFcgpKsKFpKzZt2YzKqlJkZZMGVo5wItbemfPgkE5AAh4qRMfL1x0kG00HapzJUGGEHDgnDNwSDWfcO3BnMu4YrzMq7kwtu0vVh0w5OumcrSxqeZBcRZfemY96ysbBnZZh20ZruZC2S56fosKbnaIhrLIoprX0RUsgrF5v5PAmhUrf4CBOnf4EFy9dtZnECA0DLdHTh6tvt9zg/S4MDnVTkdzCcSrit956C2//+X0a9SdxlcbZ/PQQRvpuo5v3bRZyippYnwFIyWRdmjsmfvauQRqFmbbmDaEgv4LGYpM9IdBSmK72Zpw7dRz9VGrzxFtPKW2ZofSlUUBtFW0chSRvtRRQS7WUQtK+pDAbxfnZWJrTe1QT5oT2Dg7TuGSNuQXItSdleqLCUvKzkFuYRQWcirnpcYzTGRkeGCTuYaRlFaCwuIwGu3ZUk/uo97hIR9JOnx7QlsilxUWoLgUqygtQWa6lp5XuvZuKUpRWlFgoLMlFDg3rZG0iwG5SP7BZPCHOZowRl6QMOpgZyMnLQlaetlJOpgEza59zsHcM2DRrorIpkK7GIVqmtRTGCA3f46dP4wz7rrW7lzRZIrbaJ5JOEB2i7NxSKtBqlJcUoCy/HOXFDCXlKC4uQT7bmFdaactmi0pKkJEVIo+ItsvGd1owOTs5iUuXLqKzq8uWIHZ2deDk6RN4/c238Prb5IX3TuA0eWe4vxvTQ50Y7OmwLcp7+4cxK19cy0DFC1Q4wjuVREhOkbNG7ZqeazgcoHOykYbmwtwMjn/0Pg33C1TyU25ShOkW6eBHWI59yDabBqre75wZxNSYlvjqfUfjAJZJ4mZlsQ+qsPfQI/jOSz/EL//uX+FXf/cr/OSVH+BJOmQVbKeUqG1SYA6deIj0TE2379Dlsl+L9b5NKY2P0jwq2wL7YHqx6FdWgPKyXJSWZCMvV0t92Q0y8q1v1LGBsc3gY70B4cDxrvhI5xbIWD6J8ZidiT+0zIhmMo/i+TTyiL4hpaWqleX55L8sKnp9566MoQpF5RXkRfWtvnWUg6z0VHKXGzl6ymLfkOPJCnlRkxL6VpwmG6rL8lDFdun9GT0JLaexpVBRwSPLL+IYycrUzoBRjA1EMjPqfQTP3XJuGYS8o3ErL0SQk4/6LVvxxFNPIJf8Pdx6AxdOHON4G0Y4onfAMo1XzSHgAFE5YzTcr12/ge6+QfSNjKO7fwgfnziFP7/1Z/zl7Xfw3rsf4vz5yxim8TtOo3Ko+wZuX7+EkYkpVpjFsnLYp5SdSRoJCzQyeWS7c4sKUVhaajTo6h3AgHbwHQqjo1sbv6SwXwtth8acrEykcYzZtBwbo2aKg7W8KZW8qO/l6TMleXp3l+OnoqIQlWX5qKosQVVFEWrKi1BL2VBbkYuKskw6f9qQRO8EW484XjX5L0JqjMj5TbHvoBUXZKOsSDsIzyI8NWrMLVLq8y6a1FGL9D4R3WaKsgWODjkWi5icnUPPRAQDUxw56dn24Xttm66lrAsMqaFsbN25B89/5yX85G9+iZ/98lf4+d//Cr/81a/wr/71v8bf/90v8KMfvGyTUuVlxepS/a+CAGOCc+qMBxjE8c4ZokMu9rYRyXv0jPKLS7F31x4889Qz5jCWU1bOhMNoab6FM8c/xPuvv4o3fvePOHXsGFrbujEzG6EjK75NJZ+Xum8m6ht5+sZYQyM2BN/80wfWHzlyEC99/7s4fGA/qsrLWD8rF0pE0pxPDkD7zI9w4j2bIDF6W4RvDI+8p289ppBneNt2p+UxrsEEd2ITOHTC3bvQPJpDx/ZSv+rbk5u378Jz3/4uZc8v8ff/iuFf/xL/6t/8Ev/L//L3+BWvf/azn9CJ/ha2b2lEcW46khfDGCUfd3T20DkaxfDgALrabtORexfvvP0G9e2b+Ms779j7vyMcF/oEQ1tLC5pv3sD0xAQiUpJsV4ScoD1QM+jsbN68mXU8j1/84hXi8WP289/jp7/8JV75yY/oaOxFbVkO8jNWkC65sJLBcUu+ZJuSlmY5bmcwMDyK660D6BtdxODwJNrbms0Jf+cvb9sSznfffc/eEdfOzvrEz9hAH/pbb2NmeFzfFGeZ2qeYXElBYbvfkt76/ENFcQG2NtYih3q158YVzI8MYoYO+gjrS0nNpB4sso+ca6JHes+4Sz86Yz+yNy1O97UTrSZVxKslPBYVFlFuV1BWl9smSBVlDKWFKC3IRB79Q6lh9XqsO12Z5gizXNtxmlhb/+q2eMWOAShSyTlufVw67Yn8vGzKz0yO/zQG6h/KgULq/2LaAiXltAWIX2lRAfJzcpDJ8WC5qdjnI4tUOyFUVNXj0JEn8b2XfoS//eW/xt/8guOSY/MXv/g7fO+738XendtRkJ2OEL3aFPUX5aR0o0klyhOnOHxbgnGn8wQk4CGDxtM3A2xA+eAg+pRCgdemBOJAQiJm1AmYimm0tE47m6XTIEvTDGjsLoOUEuNokGbm5FF50jCn0Bgd7MN4fy/oGxnRl5OcsKe9zzqkvBS7YjugtdEJ++Nrb+CDD4/j5s3b9k7XzLS2M9dyihYa5tM0mucxNT2Krs4W3Lp9G80tXVS+fZgcG6MTlYHstDnbZfOTs5+gvbOPaSnVk2XxylCRcHZ1L+njoCsy3rJoGFfg8OFD2Llziy3TPHXsfVw6ewKd7a2Ud0xMBSklG09FCUNRwP4o2PTNFmcYLRKPEKopQKvKSumITNk33foGR5BCQ6aQAj4jlOX8KKkaohCiMs3NyaBSW8E4FVJPVzemZhaQXVBOQVxJ/S/q6jmgnDoBnSQaqwt0tsJ6D40OywKD3vmwbchlxCihgq5l2OqPQlbGhdqgWxLKwt0cOhlyMgRyQ8gvykI6Hcxe4tJH53JikqZbYFSIdvK/9cKYPZnVTiDhcdymUfTqH/+Itz88hqu3WzBFZ3yB/CKBrxfTI0t0WOeXMUc8I5ing0zj1jarEe854a8Pd+s7cPoOkXbYUhx7jIbGgi23lNOuJ3XaSCA8H8YAnd+Wjk5ca+6g0u9FD41uqZiclAWskFfk0DW3dmJoeILEkcOiZ2vsK7Yzje2WY79E3lhMCpFFsmyzg0cO7ce+PTtw68ZVnDn1sX34d26B7UihQZqcQac4hAIad9XVVXRYMmxmt7ezGZP6RAVRJiXZXhKLij6Fir64otqW5FRv2IgKfei1qgqlhYXEgv3h229NlSnKscB8i8Rtnn2mJbh683GOQbYJE8SC8jgSGdvJfnQKnv2icaWydLQ419/xoIkc7ZCo7wxFiw0S8ZYr1IB3KCfU/dqq3d5FYr2LETqhRN/yieXEEzYxQ1oRb216ookfbRygZxVWC+9rQ4wIj2ausB69F6YnHLIFze9aG+JABpWwEnoC4Wsk8MaDgHHuyasLFmFGs4NUOpr7DuzDkX27UJq+gvPHjuLSuYuUFcOYI4/qe1R6+iy5pHc8R4aG0dPTiwVWsUKjR0umO7p6cPMaHbcbt9CqT11MzNL5ocFGpzNpng7g5bNo5xgemZNBlk0c1QdyethqjUE68smZSaggD+WRl/uH9C2yUbR2juLm7R6SPpPGYRVqq2qQSYten2RJXqYbJUKTCBp3cuhSlvVeKCkrWUB6ayfdMJllnt3gZBy7g3hrB0Lt6MlkJg4EGgeipHhO1DPyqUPs+3kpdJ4zUFKYg7rqEsruEfR1t2Jmas6SiT/U3SYG6EwsryxQ/ukrVuLSJIxOz6JzJIyhmWXKsFIamRVIpxOpSS/bWY88npNfhPKqOtRwTNQ21KN+00Y6INuwectmbGpsQH0NxwmNbjm0mqyw94UUxAT8t5413tafu3YgDBXUKgY9PdBNDRDyegWdsicfewL/67/5X/Ef/+M/4N/9h/+AX/3q7/HUo4dQmpWKm+fP4MRHH+HMmQsYZ3u1hDcrlGtPV370gx/iP/6Hf4//1//+v+M/MfzDf/pP+Pf/8B95/AeW9e/xb/7Nr+goHqExTUfdEJLUpdwhnm61DB1a8bsGEPtQfaGnnwqaMLPmKVtca6KgKB/tEhGcTHefFeFt3jfyUP6kZtDJKC5DZU0N6knf2voaW05av6GKx0oU08HQd9HcU1ny5sosGWXatt7v7OxlYanmJMiZb799Fdf13unVK7h8+Yo9nQxRh4XosE1Q77bcvGnfqJ2cmrEnYfPkI+l4vXspmaEJB/pQSM8E9V8+Nm7bhue/9x3s3bMVSQvjeOe13+D9t99G8+1OzJBn3C6Y01icn0JP7wCuNvcBGSVIC+Vhfm4W3R3NuH3rum3w007dqvevNWmQn5ON2fFRNF++gNGeTixQh8qrX5aMk0ymvE9NpZ7VSpRQGvZua7Ll+HLoJrXcvq+XTuyIbZijj3NnZuWQwpRepKl7rcLRnD3Hc41tfU6AeosyPMLxZ++fU+ZpdYDJNQu6zzFJPtJXV9T16i5JJBVnPScbzXbU4lErLMyh0xNP9Y3jb4kyM+UEQoRBfS1w3z1cIg7zpI9kqnQsjwwa91pkQ7Fsq6pIWvO1pAltILMcyd0lMqgms9JJY21kl5GWiSw6taLD3v0H8cQTT1IWVBovvPnH3+AdOtM9faOY0QIT1rPAMmzyUMiqAlspouCRTkACHh5oPH1DgIPLDypKAD2h065G/imdLYGUgNBtCy6tjUudUDos0nFYksewtGjGmbaa1q5udj8o2pa68K6e0GXk5NrypoKCPMyO0VC5dhntre2GiYIEfVqG+zinnAhJq46uTly9fgO3mtsooBepADKpCNIxPNCPrq52jE+OoLGpHs99+2n85Mcv4QevfA8vvfQSXnzpx3jx5Z/ilZdfwk9e+TYO7W5EZtoyLly4gM7uQUxLqKdmss0ZbGeq82+WKAz1fg+FJd0pZGTloqqqEntoyDdtrMXU2CBuU4Hdun6VDlPYlIG2oFZyL55sKRsvvDnh5utkoM9RWSSjtCiPTl0pxoZGqHyaMTQyjiwaMWU00vQhURmbVF3MuoS8omyUlhUgl0pmfHAAHa0d9o2kzJxiW+agZYcpyaQ9K9QTDs2u6wmdlkhKOelhn3ai1C5otrOaGWvWO04TMFg+ahIZAFJE6gmXQv3GAvSkivn1YdKy6mIUlhRgYGTYljneIP5SRjJS9I29dNUnBUQ+UjmDfe24cfMq2mjETlNxyZHRt7yWWKeMtxVtab7CQGNRSkj1mnIyZ4YngWayKJ4rGD15VEvmp6cw0NuLttYW5OUX4Mmnn8R3aBC89MqLePGVH+I7L/0I333lb/HDH/0EP/vhK3jhiQNoqC7H8NAQOujUa2dM9y1GfT9PTzv11Ii4sXQpowhxTKEBFKJRsHVzIw7u240ytr+zvQXaXVJPZabpjC5S4S0yZ25+MTZsqENTI/tyZRqtt67QAbyGvv5Zc7705MKm1cV3GXnk9XyyWQ7j0sge85gZ1+xxmHwYLNYlrfQUQF6z8i5KQcuQT1PrHb1MYBnhFEgbfbzLLAMZdGqb609z5BjsCZ2ODOJRy29kdqn0KyPZ3jVSPNOrK0QPu2SwE92kFeLyu7Ruma67b+VE01kiOxd3y4nT070UGibOqWN6ZWWg2WOOneSNtuE3maLC1oY4MFbmMf6W42dDIBqpOqz5jHDOraOjJaAhWsqx/vihfdi7sQZL0xO4cukqLl5pxfD4HBYkF9h3MsL1BELLv/v7B20b/Cee+w5e/vFPKXd+gFdeehk//MGPKHd+iJdf+TF+9MMf4NGDe1CUvYLbNy+jpb0TPWNzdHFUlt6tpUMmQ0071Wogsbur6utsee345Aya2/tw/XYvOrpHkZqWQ2emAiVFxZRl5E3Szz4RwGx+hYX4hdzM0t0Ehe1uSDpKnEoe0E61d4zsaYCqYxB9FcdkBuINyTb/NJd3GDTJpWWSmaik8b1jK+Vp6jJ6u1px+vQJ9Pa7DSesq1leEp1T1efeoZ7C8sIgLlNmXGyhE5ySi5IK93kWPUWW1FkgbyxJJuij4ikh+Q0216YHo/rGo7Zi1+ZA+hC2fUSfjVa7TUUpxIG7DG7E8aRjSNXmxoX4d5nO7mhfP/rpjI8N0yHJDNk3AR99/An79ukvfvwD/PDbz2BjZSmmx8bR1taNufkV5OYWIj+vAGMjY9QZyyjMy0dxfo5tr59XnIPcolx79y4cnkF3VwdGhgYwz3P7xp76iu1Rv2hOYZG8qs2YhG8yG25OgvpAIaCpC2yL/tU0RdwVeFPGs7VV7QzGp/qUMjcpLYQUEj6ZHS++kEjiLUdvcwKJi14l0HtZi3rnuRvtLc3o6emn09eIZ595Bj/70Uvk9Rfw0ouUty9933TuT376U/z0Jz/FI48csac9g3TmOrUjqZafsvAI+VK7H0vPS0+ZreGwtYfAqVkcg5Xl2L1rKx7ZtwVJc+O4cuE83nv3GB20Acyxr1IoScdHNR5Y9sAMyup24MlnnsdPf/pD/OiV7+LlF53+f+nlV/Ayw/e//3375FFBdsie0A20Nds3HtX3tokPcbGl3gzico2DxuoyFGemYorOXN/tG+hta8M426B3x0vLqmyZrpZLi2iSIzwJWiGHjkdG2dJ13tNrBZJjWi6rflfnmezl4NN4syXcPNoYZlZlt/41UN+JL9yalpXgCZ1wty5W4F1LznMfJLvdR+QXrU6t+Ehn3/Ig1FwyoaIGi+5sisaq9LfkhY15lS2Hl3TR929tN96VVBvNktgpdOy0hHhzUxP27NqG7Zs3YKi3Hae0BPfUWfQNh92uvizOXsMQsmqPSjDe1HUCEvBwQfz+zQEvODTeJHg4sr0TpzgTQB40wPkj50HHlaUlzIQX7KPbMoC17bbexfJCQ8HltlwUHll0kEpRXbsNlVV1VM7LuHnjHC6eP43egQlbjqPlUHrgr0EfmQtTwY7g/MXLuE6HTtvnlpeWolKzunSierr70NXZS+GVbN8VeknLAX7+9y787d/h5z//BY9/i5/+DZ26H7+CQ48dQn5RIW7fpmLq6sXkuJY+SbFQsVGyaTcofabBPaE0tCnlaOTn5mPztp3Ytn27fSJgoL+TDsRtzEzPMB0NDRrjSurb69vsg3ZOtKkxymUtX8gtKKYxU4fewVFcv3HLniCW5uehvqICWaQ/1TnzMVAS5haVo6yyBjm5eRgdGaRSa8Hk1Didq0xbkqglIMnJ+mxBBtuQzrY4RWnfo2KFclI1+xah072kdSZL8zarv7zAwOvlxQXoPUbNJHrzV6JWwWkVBqFDvOSMVdbWUaHXMsECWm5cwfmzJzDQI0XrWquk8sWW6OjPDk/h/PUeXLneQp5IQm1ZPuorS8ygTKdANyPd6iR/SIEos6xZtsE5HUH9+iUNA/OGSs/MGsVieHTMXnjXB1orqyvx7RdewE9++EP8/Gc/wy/+lv3/Nww//xV+/ou/w8/+9m/w3AvP2TbcczOT6OvpIA91YZaOlD5ZkMx+tCVZbL12e1W3iQTJmj4O5aK4tgk7d+/Fgd07kC5D48zHNALbHR9Qgepjx5mZWaiprcWu3XuQT2XXT2fzyrlP0HLlAgY1iTBBh21ugelFbXDsLGF2fBqjdAwud3bjFo0UbY2fmZGJTI4nWVpS+DLaU9lX6QuzSF0II3l+zvCT4la92tVUT76WSXfMR2iHLWJxQbPDSqPx5ygWD6Zj+eNcOIvhv+hO5a2PQTPoyYz+hKxma+XY6UPnUWORSNgW4hyb9sRatOMvUY6Bq8jK1oSDDNWgVBsX+lZcKsuMGug0YNSWiGa12R7xk2aybVKaSMQCayNvs2rjc6UzohroxF+wUFrN4h7XPpNePLJuM14FjOcYQigPu/fsxt7dO+2D3drM4trtm7aMTFPZmWrDUhI6Owdwq30QY9NztiX+S99/Fj/7yXfJbz/GL3/+c/zdL3+Bn1P2/OynP6Fz9xKeePwwKsrzyQ/t6GxrpaE7YOa71UuaGG6y7El7OVgNNGo3lBYiaX4a7c03KCeuYWB4yDYByi8pp5wl/eT4iG/NMJaxyLYwyO+MkJCaNNEEiD6toG/ZLS84eaB69WROEzHz80vuCYFozOyapfd0NN5Qv3m6sS6NzRQ6dCWlZbZhVnlZEWamhnHsg7dx7eJZDPZMu6cNrMTZbEm2M+7Y0DCuXLlmm4RoSbSWeG3YUIuq6nK2mHWyHpvoUSA/LdKR0JMD/xRRT6X1VN/exRIPqR8C/AzHaGBhBv5ERx9EX4VoIuK3gpnZWXvnS5s7nDx1hvqhhXRYQkVBATY1bsbex57C4UeeRk19E7sn3XZu1JjUh+OrKdN62m+h5dY1ltGKKeow0VA2a2RuCbdut+L4ybN47/2j7MMbmBgfJX0XiOqS8Z5DmX1HOtkySzpz9tqBDGlDk0TwLLoOxN9alUx0ibZV3C7aubIUr0lHjSG997tEBWEfGifdpQN1rlUS6gONEa3uaKWuvdnai6HxRfw/7P1nmGRJdh0InhAeLsI9tNZapNZZWnW1RDcaxJAACHLIHcEVlPNn+S2//TggCQKYmd39BRINTYIQA0VCtO7q0iK1jMzI0FprrTzEnnPNX0Skqsqs7mpUVb8bYf6UiWvXrpnd88yeWdOBM/jiF76Cv8f29O/T/d2/q6mx/wB/5+9pGt7P4Wd+5ifx8otPoqQ4m33sJPvKLkyzH3cv7dLIAo/GovIvbeQ5b7g6TLkEAmisr8ULzz6NqopSTI0P4803XkH7nRbrKzWLdHhgDAND45hfXUdVQ6MtwvT3f/bn6H4WP0/3Mz/Dusfj3yK4/NJXvoLnX3geJUUFmJsaQ19PO0bGRrHMtldjx5K3gKX6FY1J68WkvhmLxLIwt7qNG239aO8exOLiGvJz8lGQm4twkPWACm6va1mOWkHY6z8l+VTGlbYdR0CgmO226sAGK4YW01nXKsnsA9bXNllXqNfaX5b1UItcqu7IVNglNfLKsB15zfbYTcdlufKep8l6ZMqkO2zv5cfKmOWbzLqTpPaS0Ug39f5SG6YrLZu9o5E0patkVBxKX7pAJz1XvDZDhvFoH0h6Y3vPPkw8UV8LCHIPHTyC5599DunhEAF8F959/fsYJnBeW3Y9j6LUKsaOEnzucu+TTx8dqRX8sSFrCDxixdXbJDXqm6ztmta4nWhdZBioM9XbdTdpgg09ny9qQ2pCsEhU37sUIj0SJpigEBmxJ0iFEqBDCp+FclBVc8gWOzh54gjBUS++8+2/xu/93u/irbfeQndXJ+bmpjEyOIArVy7jz/78L/AXf/nX0MpZZ7RAxonjqCgtpxGxgu7OPoyNTSEvrwi1dc2oZIdr31UF0xCk0REKEkDyGIxFkVGUh6ZDjaisrrCRtcF+rew1DM0LMOOD3MrI1oU6Psu2GjO9hUsOICe/CA1NjXjyydM09GIESKvQMvGbbB33RuQsswnaa6zM4GCnYXER0KXHclBYWonh8Rncbm3H8sIC8mLpKCvIRzp7E/piw8kGlXFHMtmBFJfaYiAyBkZHh1kWm0iPEhgS5CUTjCZpWmCSRva0qAQ7KOZDH+4PDvSi9fYgWm7eRsutFnPay+327dtovdOKWzy23LplS1jPzc2xQ9F3PBqjUynTkW19r7abJ4Jbrap15OhRHDt8APNTI/g+y+6//dkf4fx772CgbxhTmiJGg+3ytRv44//2bfzXb76Fts4BnGCYs0ebUVdO0EpVSJXQ2XmbrpFfydtpmgwZZ+AaqLO0xQ21SB0Iw7gFe9TJbKG7t58ybKV8k1FRVYlDhw6iuKjQNjDWSEI4HEVaKJ16QJedYwtE1NfX2IsH7fPV2dGOJRp0Gg/TCw1Zs8mJ3k3GjpI33QVBc0a+jcZ8maDwTFM178QxMz7GclkgLzSCVF/oM4OG4FNPP2OLT+Ty/OblS3jlL/8C3/yLv8CVizQYu7oxNKzR5VHKvx2vvPEOfveP/xx/9M1v43JrG8F+sS36oIULJHMxkcJ8pxKIbxDUj/d0opfl13nrtq3AeruF5Wrulm0Me73lNm60tKKndxCTU3NYoQGx+63YfrrrlvTVCtzy60aqme9tggVe66mJn2Hsm1Bzrvdn6RFQuvZCuucMNcXJGD2bUidmhCcc/8yg1FRghlXZamRfoE5lrW9kh/oH0NnWjrbWbluMyPT2duuu03VLy03bY2kksYm6gLWXtrInG0Ltj2uNGLOpkAOgMh6ZGzqRnsvtIEpj7tCBRpbhE4hlxrCysW5Gvwy+AHleZ5vX2T2EoYlFxHIK0HygCfW1pQTgoM4JjGtkPMCio9EXDiLKun2gqRYNteU2Wj7Itqyvuw+rNOq0dL/2x7PvJCUPyl3alp8RRVl2OnIiAXS132ZeW7BKgJuRk2uATqTvfuRfmbSXUMzPFstE25ZoAiRhPebn5zA+NIzejk50tt9B66023LzRxjbhjgEsffN0i7pz62YLZXqH7cuYbW1wl2qIVH5qwxIug8ZuY0M9njhzAhUlebh+5T381X/7Y/zVf/0TtFy7hdHBYcxMTmOMen7t8nV88+vfxm/95u+wTb9qUyw/8/KLOHzkII3BXBc9222N2MeZD31PJiNZSanopHMyLs2Y5IUbNXSF7H4/iOTL8+md74Vcp1U7wnxrL67/qo35v/FNXL12Hf2TkxgliG5rucP27DZ6+kcRCEXZBlQTkBbgyKEmHGmuwcbKDNu/N/GNb/w1ZdqCfpVvX7+tcvmNb7AN/Iuv4+r1FkxMTLKOrDNllgyNfS3hr0V6lEF976h6ppcvZjhTDvYi0Mznh1AiC6bn7jRxz8uf03k9dd/T0bF+WrTqs/in5l3NngN/OqET0Eylp1TxsIXZpSW0sq8dmVwkmM/D4WNPsw09gNz0CPVTe8OyjY1kmEsOBZGVGcSJYw2oqSpmjHH097K9GxzB8lIcybQB1MZrGrD6MU1PVDHbJ9xUfAMJ5DEcjbINrMEXqCeV5cUYHurB1csX2Od3st9ZoL62Y3xyFjHWhboDB61fioXDyGCbr3Zf/X6yZvrEYsijXdJ04ABqa6sQY33qaL2JtvY2gtNFrLEOaZ9EkxPrj6Yua4ZJZmYUuYXsq7ILcamlE60dfeQtBbnZuXRZ7MfZ15L/bZahvlNUvbMZJBItj3qJkkQbYXV2kvWvn21UB+60d6CdrkMLeLV1op1tm15Ut7be4bM2tildmCJgXY+zD/KK0GJ0jtFaW+HaZlUKr+0iWfGpMClE2gGBQIgs6lONVKwuLWOUbUAr+4bbLR0mu5Ybd9gGqB294/jg8Tb7jFvU9amxMWxZW6o8Cdgpdb0cUsvsNE37sBrYE5OpIRtp14Jczzz1JPKyMnDl3NtouXLBPk3RtE7iVvdSTheWMTHsk08fPf14bFtAUgPhqiR/+b+xFcfC8hIuXLiIpcUF5NN4ONDcjOzMLKvU5leNvQG6HVs1sIeNU2dnD7YD6ahqOoiqunqr0GoUd6ssA2r6gb01Qho79HSkpAURTg+zk16nwckGZ3yc4GwM/T1d6G5nw3LjGsEHjQw2eBtsCaqra/Hcs8/hIPnRVCOtbvXeu+cwt7CKqtom+2C3uqaOxpQMUjYXu3nTxQZdnOBrFSNTK7h8owvBYAwFsRQcrytmJ3EbbUML6J+J4/DpZ9BcVYT8qKZCsTOV4UCAoRU6NWUiEkolCB3G+MwCZhc3oCXYmxobUF1V6kYXEmmayaprMzxkIqtjFlM0CNe3MDm7hHcvXkP/8CQKiysJFJ/B4aY6ZESYruLQ0AM7CS2Qsra+iX59D0Zjf3p+BeXVDThy4jTTLLHpSponr2kxG8tT7Kxu4MadEdxqHyV/Wxju76QsL7EBv4wb16/j+jXK9cYNXL9+04wWdShjNFxC6QQ87KC1CXaK3sSLyLt94GzEhphClZGqUShNS1LHqz2NpmemMDQ0SHDEDuKWluK/SnDBMmztpDGcjNLyajz/3PM4coAgJV/TGrV0OTu07gVcvzOBwvJjaGgsR3l5pk398L4dkezcqAMNVILZ/oE+nDv3nu2NVM4OPCsnDxcuXaGxdBUZGTE888xTOHHiJELaG0iyJ9cacbNvwiwegaJVzK1sM+0hzC/HabOsoKleLwim0DM4idttvVYezQ01KC7Ms8VwyApLTh1/gAZ5MrJCAWwvTGFqehH9Q5PIzC+jDtTi0OEmAu00ghIa9kHqNwsnEolZv7u5sYn5GYKx0SH0EJDdaeui8dfOcmhFC4GJpqTKCM8j0D/5xNO2EtnhmgpoKfilwW6WaRcuyyicnsUCjczhvl60EYy3sJ6oXK1sr9/ANS2XfuOmjfwuLq1QniH7hkQvOdwG8E4uckY8cddkUq9wedxejxMkd1LeI5hd3saxs88jv7QCmek2fkq3Sblprz3Wq5VZGr0LOHflFla3U1HMjr25qQm5ORn2YsdU3hJwug+2Mdoc/zoNirHxWd6K4/SJIygpzEYa/fV3US7My9UbLdSdLfSQh7bW27h5jTp1/RrzKKe8Spev4zLBsvb3WlleRmZGBuUfMR1VmemtuYwuvYBSfdLCtv1DY2jv7EV3d49bIbO2Brm5NNBMAjSkZFCyPkUpqxB1fGxiGqOTM3RTOHT0OEpKyhFght57+11b0Ci/uBRPP/88qmsrCOhoSFHfbPoUY9TbfhumSt5me0hwRR3r6urFytoWwpFsNDXUYWigC4N0vQNjOHDsSZRVNaMoM4SoymJuxPbyutM9iNnVbRRVVODk2SdQUVeJ7BDbaxqkU93tuHLzFpLSM5BdVoFDzY20nlapH91489w5jM7OE3hOsc3S6r/UE8rxmmTJNkALCWnrjGtsE25Txr1sUwOBgK1gqX0wzdBX2bEQ7bALpFin+FALSGiD6zDbRH3/aN8VMq2J0RHbNP8O9fP2zZs0Em/aCsXzC0u2qffxk6fx5DNPo1gbZLO8goxShl8vjfU2At1SvcyorUdhSTFSvSmBlKtLmeK09slde+Ta2XuJ96QId5GuXZtiR9LWZhzra3HbO25qYpbt4RTLe4K8dBGUXcVt1ruhviH2gSloog4cOX2GelPNtjqIUMo21lcWrB0cYf81RMO5gwayjOcWloumBerb8abmg7bSZUlxAbTSZ3cbAcXICCIxAnfqYF5pCWW6g4GeDvRotG9gFFWNx1F74CRyctKZjqt7u32qR8rOfieyo7vhpruuY3t1Bh3dA7jWPobBqU2UldfgYG0pasvYxjFub9qgGewaNUtmuOQte9nVy77ne6++TdC7jNz8Wnzhi19l/tk2BRXCGfybNj9Weq/vQdfY3m5jZHzaRtH04jM/O4aifLcqaXtHL8FLL7IIjrTNiYCbyHGsb8HFA/sa2hBZ2ttvcRn9I2MYnxhFKu2F5PgaXn31DUwtbaKwuglPPf8CaipLkEld1EwGgWOv/1Bl1NRfAbVpAfShIdsiIZKZjdzicoyzPe3qYB9I0PXic0+jivGkx4KU2w5mZpYwODqLa7e6sZkcQX3zUZw5dRqVhZmMdh1TI4No6RrE7b4xxGgjNVYVoLm6CKuLc+xXu6k7N22G0czkGIaH+6y+aSN1vWC9yfZNC7ZcY528cuWKvZTUol62TyNBqDZql0CSVH4qC+Zrdpz9O4F1Z9cAgXMG9aYJldVVyIklWx3Sljj2kk22w9oa25Rx3LhFENnRgym2Vdq38SbTVN33+owWnrfqZSDP9QJCW25oHYQo7ZBoOIl9yXW00zaaWA2wfXoC9VW5KMkOIsDeymqgRgspLX36oW9rtYjXwvw8OmhXaHE8bbdSxHYpjW1piOWp/YBdVd1rS3zy6aOkTy2gc93XfkrcSXSGG1tb9iZab4w0nbK4uBiNDQ1mEHpv3rWssvuaZ9ve5Fy7chMDBCXhrHxW+BMoKS2zxsjeuFn8XqX1OmS9/UtFOgGEVsOLsMHWXW28Oz42ikF2/F0d7TR0BggU5mzk5sCBQ7Zn0tmzp1GQn4/VlWW0t7ejh4acPk7WflKH2FlqJSkZUwKqIpeeOm42cDQct2mEzC1qQ9hhm7JZSKvoyKF6DI+OYnSBDdF6Eo4TKDVWFCA3XV+gsHEUGTpIsu82siiL+YVFLK5tYoXA7NDho2aY2dLO9Oa6xcSRYXTUK1EZitZnkofteJItyNJKo3mZYK2h6QCeePJJ1NUU68Wf2b0yrFMYXsA3znTGRgmaBkcZPg0HjxxluodRWpJj4EFTP7C5RjtuxVYA7R5gg9o7gdn5Ncq0D8ODPbzfDe3jpLfH/f39PB9AX98AjepJaDPykvJy5GhVSRrFWuVRpBKzMxOkmGL50+CL0XgsLChGND3G7KRgkgBDG8l2sEy6aJBrT6PJ6Wnq0yZqG+vxFPOmt3fFhSxv7dJKY3WeHczg2Ab6RxdRWduMxsZSlJVkGwjQvohKUvBfOqd015fZqbAjFgAtLCoioKtGNCOLYOgOO8thHD16BNqbTMBfxonscqmfpv+6Loe0bV9wYH0rlYb6LHV9g3ldR3N9NTZpJEzPySibRmVVDZoJ0IoKcgjg9H2FBTaeNJU1FI5AL7BXtlIwMDpJI7USBw/UEcjUUK8JWFluARZkflYOeS2zUULxMj8/S6No2AykLhqufQPDGKGhok3CQ5EwautrcfaJJ/HUU08TUNYjJ4NojvlfGKORODiCVoaZml/EwuwMJlhXVEcGWJb9/SpTxsfzHivfARo/kwiyE83LKyDIotxp7JhsmQe5/b/uTMaAk7VGhvtYhtMzszYl6fjpsyikIa5V2LQ0t2SoKUV6abJFQ3hqPo7WzgGkhKKorChnfWhAVlbM3rgr3xY/ZWJxU9dWVjdp0PXbZrsCAydPaO9Klj39DA8MorerG129A5hdXMIQAc0QgfwAdXeAIFbLxntOo/bd1DdtWi7wVU7Ak5uTa+BVpPflbqouC4vH+FYSxifnWAaTmKZ+njp5wkZstWGzyKYnSvfIahLjyM3Ktel1C4srmGOdP0YAmE8dFgBob7uDFLYhB1gPj58+bsuca+poCpVF6mLTt2RcyZETtXMbrMej1K+F5RUagJk40FzHspzEwsw06+oKAeNplFXQuM8MI408b22ssJ1hWYxMICUYwcGDzeT5GMpZTzTKvcV8z4wNoZN6ENEiFxVV1OVaWyhokjrTQmAxyjIcnZrBFPPb09ONbrav/ZTjIOur6Q9l20cwNUoQNj+/YPv5aTVcrcynvTO9FyP6sSJU7lQhkgP8p4yycwiIc62P0Abn2gh9aLDPXlp0dXWaXs7NzdKwC9i3V2efeJrt+JOs740se00TT7JVDMeGhzA2Moox8qp9Hitq6pFXkEeAmWx1WJPabVpp4mgkdSWpnTXj/UGk2/c+cg0sSSWlTwQCNsokEKCpy6PjNMBHh9DR1UbDtJUgbxKpqQE0HTqMU088ZXudZmdEEdP0VwJS5V1b9mgaX0835ct+aYh6rDYwg/JpPnwEzz77jG1TkpWRbhs4D7KOzrMuZ+bl0jCvQh6BnvoPk8OwymINDQdOoKnpMPUw6gAdnz8kl7t0txgkL5dXTcUeHJtDz9AM5le3UFddjoN1pagqzbWXr05+gnOqsLuV1hYzGRgcwvkLV+xzgaYDh/H888+wH9anGapWGmnU6A0ZZDXTzB212XqRNDe/itm5JSxRr7SITUlRIeUcswWqtJ+otqtR315TVWXJyalEvLSF5GO5+SwTgittW9TdaW2PXqhoZksst9DaplMnj6MwN8MWDtPsDZWjZUPRSKj0Lx3T5voCl+NTU8jKy0dJWTk24hv2kk0LVz3/4vOsf+UIRWWTpGCZ7ZRWw24jAM3NL6buPoVDzU3Iy0pj3LR/WL597JcFCouoqwfYf9dXlGCd/bBehunljcDNHOu42n21WSp39Y/qh3upJz29ernUzfo3yrZmifWvhHZXEetVpuNfGbG30ywLAczhCYxOziKanYea+gbbziE3mmovw1Js+ir9sq3bpl0xNDaDzl6mxb5DbblW6RQPA3ID7DfUDrD+D7IdUBugDeN1X3tRagP33Jxs1oE+jMxtYD2ZttKxI2ioyEch+yWz7RJlbu9GmH4q20yBOi1EMzA0YPkJhsOok96zjkTSWHvVxlq+VC4qbXflk08fFVHnqHWfMtqfIe9c0xvcNEp7J2YGuJaj11sjrZCovbLq6+vZCRHQ0a9b8lmT0zYYeAs3L7fgv/7JX2FycgEV9Y343E9+FaWVlciOaTltxqv4WWmdKayqq0Zgix2yDDs3L1v7dE1MTtKAHKBxO4LZqXGsLswhI5qO7Jw8GkrFNASqCP4KkBGLWmc+S4NWi2Do+5ZAWhoaGpvYOJchFiOfiby4POpXbxD1bd4K1tZXaGzM4+rVbrIRQHlhGGeP1xEs9aJrfAU9U+toOvoEG60C5BHQpTGcxaEOTnLaIihkB9DV2YnOvnGCkVlU1R+0t7UV5YXWwVlOFUT517VuSHb2plTAchPxlU2CkzlcvHQdY7PzyBcgOH4C5aXZ1qEpSAr9CVCqg1ymYTtI8NVtK0Ruo7Sqga6OxnqGGc3yk7y5iO01Ntidt3GzYxw3OyewmRwlQNwi6Nugnw2L21tiXqnQ5CQgS7Ul8E8QDBWwI8mIMU6WmXzol9FbfsS3vT1Vp5FoyNcWtHT0NHplGA4NE9hN06jbsDKJZERopOSjpq4GVWWVyAxn0ChTg77EsItYm+hH++AKrnfMoKDyGBrqS1FYGKEBl+i/GL/xa2+Lt7C9Mk/9GMWly5dsSmNBSSVi2fm2EbemoTbQkK1hOQhouhE+BmYmBPAVj+Vje1lMY3J2HbfaBzE0vsBnazh+pIFprmJiZhnd/WMoKq2xaZn6zsf2NiMz9jKDgpChrTegKzTe2npHcfFmJ0JZmvJbRj2sQjSWhrAZ9WRAQ3MbO1haXGUdmcHw2Ag7WXauNB5WtDcTtSIUpGGYmY4CdqAlpUUEvW6DbE3fM54p8/hgB8uzF5dvd2BCG18xao0YO7gtE4z1THzxjt6Wa1QijcaXwK223dBb51g0RCPLlb2Vv4yeXWKgnfieW19He2cXy3QIU+Sz+dRTyKC8owRf2m8pjTyFWI9T9U3m6jImCUYu3rhNDUtjHkpRX1uPTKI/N4XK6bP9sB5sETjP00i609ZLg3eJuraBM6cOoTA/w+Q1qKmBmgbY0YNV6tmamfKUFAtSthkj0Y8jnmoLDE1HrqJRePDgQZv2HYwEKQ1NBNUC+nHYBvfbG/bNyMiYvrkctbfhhw8fRGUlQSDDm9j4ZyMaBsJ4pP+BHo0896GDALOWQEMGpjRKxpi+Va2oKqHescwyQ8oey0xfwJJXZjxZ30rpOyRFTkAwNTaBG7dbMTY9Q4MsB0cON2N5YQbTE8PoH5lCdTMBY3kDChhXLGkTWwvjNOBYl1spi81UlFVVo7KmBlm5MaSz6JMWZzA32E3g1gGkZyKzuByNrG8axZgY7MG5S1cI6BYwTyCp75I0VVaaouYsjYUjDbJpmmz3NQ1S33wePUqQW1WLLBqUGi23zbdNt5zTtEBNyzVn5UE5ba7ZCNUggYh0RptzLxIIaAN/jawV5OehtLjQRtX1giE9mkFbLoXtv7jRok2pGBsaxDBBe3ffIIrYthUQ2OZ6gI56q5dM0gSNUu0n6YbV9QRZe+sYewh5nhNHHRQB9Whuds6mnHbTsB2dHMPMwiziG5vIzspDGWVbV9dAEFKKjMyo6aLV8a019iur6GGeu6gTvb392KIxHUhJY1uQyXa6BiWV1QTJ+chMD7Bf3MQyjfyutk6C7kkD9iUEV9lsK1XXR2lY69ujUQKFqoajqGk8yvTS7cUdRck0Se+XPZJlKeFsdFpltL5o22tcvN2HrrFFlLNPPVRbhrrSPIQZufnXD5VD+1XaN3f8W1pewejYOK5eu0XZphNsVOPIoUPIirIstFce24MtaxEcU0nbWnV1xfrpoZFJ28R/aGiU9TsHNaxrmZkx9BBI9BLo57FPr29oRmVFlYV1RCZUkVge1n5ST0bHxtDGvk+fCWQRIBTRLhFP0fwilNU32xTYjIiTreqdSclGjkhSdnvhuU7gNmIvNfRCLbugDBW1zWyH19Hf04FJgrqXP0NAV15EEELYyHxNTy2in23FjRt32OcUEMweQ1lZMe0blQWfU0dae0fQPjBuo40NlYWoLy/A2uIc2tt7cPNmm32fvcG042xXZUPZ1FrVHcprt1aRZ+0xqkW99GKyvrbWNkc3UnssOdPnIu2s7r5hcwjFUFRdz3KsQA75CdJHQHaZypogmxljPRzHtdtdtFWGsLLCljQYsv5BdcbkTKdz6bHWJ9iivFVuZ8+cxMH6KhTTvmhr78DtUcphcRuNx06jqTwfZRkEkOTH4tntR1RmtG3YDki+11tabLP9HALhQ0dO2DYgWtjNXmxbmTCcVdYPUGaffPoB6VMN6PZnTNnUn0dqWDZZqefY4cTj7JTY0WokTSsmqu6lsnMPWOOyjtUZ7bnUgr/8q1cRjubh4JHDeOlzn6OxkYX0IE1NNcYWN+EGA++mL2DACu2MUUGGJKzT0lpeWba3WStLC9hgo6C9UMLpMTak2YhGY+6tu+o+G4Q4G0nxuLLGRkrTMrJi9rZXU1usgTEQqdTZaDItmsR0G2yw2ODQpl+c0VfAmjK0g5ycCO3XZRo9O5hd0aqSBex40xCiEaFdc1weXGz6jimJHc0KO7kFgrKltR2E0pnf9AgiEX3LlmieGMQaLZHdY6NJI9GmtfFc7e0aw+vtpZafT2X4aHYWImHXCektlqRjRqHKiH701k/ATosDpEXSmW5CJnyut6upWl6ahtzq4jymF+OYXNhg0649i+I0rLXSlZaIp9QpH7PRKCPXnCchEArZm2Lt8ZaWWOBFpNKxrseyogY84UzG5FUG2cYGFpZZdkvLLMN1mx6q7/iSw8mIyDBlb5OdFiMn9K9VF8ijWcprS1hc2cHkUhxpGZR5ZtimF2qal5emvfmTzLRS4/Y6NldXMUXQqGlhqeEYktIimJpftlXksim/aDRCIBSiTKhVlkf+0+0aQurwqAAbZGFhOW6bAW9vbTBtTdHcZse7Q0N01Ta1zqDhEQw7nXPfskjOlL3krajIi7aPEJhBgOUfJYiNab8+GstMzQxPyUlOwWk4LLAM51ZWbNsGLXkuoyMQoMxDAZZnkOHDiBHJEdM6/hVO035X5uxN+dTCIpY3CG55X0BccFvTCq0W72aYuq8yZvlEmQ9t/hxj3DY1197geoDOScSIeTI5C8jIsWNeXNC3dysEVUmI5NPYDEcYXvmiYc2jdmpM0UcR5GeNOjA+M4Ntgq5oetRGLNh0WLQmK7GlI0mLnaysqb47gBVg2Rbkx5CSRs+bcWzMzWGV+VwgkFzdZtug78QYkab0qByZ1btIbVgaM5ceTUcWDaIQDb5ktgmq9TI1nb7Sse5q8aSVNdZblv3yypKBlvR0yj8t6KKV3jCMm6Ymw4hwkGW8urRuG70HKU8VMLNM3V239iZGAB+JkIeAgJugHEuf5epG6DxAJ6UmyFzfxiyNveWNFdv20O1XqJG4DSwRdAWiOUgOZSLIZxG2P9r7a1UjhNIxSl4LI2kkV5uJp7AtS9bCBKsLmFtYYnwhhk23PeICLOc13h+fnMEa9WydctQqc/rcTk71XwBJOmp9gAxNCjctoOm5OZRJhk01FiBX/ZEiSpb0TX6ld8yP6aZu6YQFyXKML7PclgkgF5apE25EVKPl6SyTGNtwvaVXWUlHZbBrQR9FopHAddanFfUBNEQDEbYXdKp/btqn0nVgTu5+Uh7c2YNH6jylcek5R/Jui8jLNvVvbU0jsnNsGxaZhxWCYOp7MMr6mY1sySYYsEUz2I0xFuZd9ZP6pj5JI8pTU6wHbEdSk2j0htguZOUgHEu3mRdBqQED6pvR+fklltEGy5J9bEaEbTpNZMpkjfXcHPVNMxC0hYPaO4lsP+vvR8qW5+RdQRk587aOUYLWGcpY/XpuLEKAFCRYNB+UIesNZe2tdqzwmrUj0DM7t0gegqxfGchkfsLJ2wjYoimSgl6gMDwTszZ7Z81mA2yss65TfwXu9T1XRH0WBbG4PI+llQXWG+lFJpsWIhKRlUeCaxao9EMAY319hXV23vZ9TE2iXcA2U/vapTJ8KJO6yr5fM4IEXq1vU449QGfxiaktdj3sQ1cWmfYq+w/WJda3lbUNrCzS5mC5a1Qqks56ZBWDXRTr5LLqPvuEEPuazAzWTSInvehQeeib8/kltue0B9TuZLDuRSnPLXYwi3OsB7Pzlrq+aZUFom0KJB99lSxh6TMUcSb7yBako2yys7Jsj870EBORUpuiybH+0kZZWtrA3OIKtlMph1gm24OAtRea4qpNnyyvsr02t7DOdm6Kbcci21p9f6r0TDxGrvc3/+TPvdwXN9q3Nh/Z1A99Z77G/mqU4cfYZmfkFyKf7WUm0/P6KGfniM9Euuw71LZOzc0YmNXnNdnZhfbpQVrAeh6nyz759COiHx9Apz/d2O0knAHv1Tc2I2wI3JslvWnV1D5tgitA19fagnfP38Zb795A44GTOH7yBE6dOc3GVUYaY5LVac2V3v65BJSULblrjYCXkuLl4YPIGN/PPYkNlCMaFNYY8ZodsEYFLW+89Lomr4Ni83e3USCAYQzQUNMlncW6Eyd3GpVKNEIMrNX3bITRUIf7uFuk75Ot7ZU/uyPSlTt6DacZl7qVWMwgJU09g25IooyHWTCjlYmpY1Iu7Gj3vFJhjPSnvIkkZolhd/TCjomHj0Eq1YQEjVsdd51uKB/2UAayrsnPbuJ7vHkkL4pPa2LJzLU3kxKulZNO6LQH4L6wFi1JyRjphvxbh+Zx55H0SmOYe/dUyhKM7thdXoo9k5+Ryo+lTPlD22IkSHsbyaj0ZKyURLryuHWdHQ01FrSArkVuPb8jsaoxNy0tbVBLaZs/xZJgYJeP+0mxy8m3GSVK1OQrOfEGgfb7RvAQUlRyekmgUjaeTHlcXveIaXmAzpRZaVK/U9JUu7DK55KBAwIEoozHYqDy2xYHvNYCOgYCdJ+k/n23ipJ0vkVDTMZYGq0QVaM9YhmzrbF0ZTGxPv4g5EYYjCtzrtIoQcpR5ZzgS0DFmnvTG/3Jf0IWymGy/O/LBElPRCovhrT3FNoDU9+eOjBH2TBO134oT0qP8diCBRaU4Qi0Nmgoakhaz0iKT3sLqthD9CftFm+2bcU+Upp6yaOFCVxlVDvk2iLNIBCgdfVFibm4H5XUltEmc0BKbldOLrduXM9OHamQVXaWHs9NedkJGD+JzMqz59/OdcFY7B79yNvdIjad2w1CkhfPfTjaH9s9iekRDV4jNRZ3K6aReaGzJ8yq7GzNHtDovbVh3nfHDyB6NelpNxGbqWHxPygnfKaEVD8leKunCV73nX4QeTn1jvtTUh4kW5E41uJU0nnXR1tNsSsDdvLEe6zV1mfqWuHlbJEmCYEkKOE2oXdpSectJu03cS+ZIFwqFkDO0wfRvlM71zMXqfdzH1nJsdK4/pU5sXq+vzwsosQtxbEXj7HjThO+nCT2+7k31URsRnfH5pGe3n/3UcjiTvyozU5APjIp+bp2wEtfKei9oC6cbUZ/CmxtHZ8+oO16LGIbo7ZYScxRyMLIKlE5Tb1XzBa9PIhHazN55D29SLf3NRS6vYqx9lWPmKe9Dtknnz5y8ur3jwexbqneWd0jqaqxSrJrYdPGhsEWlGBjYu2JGQ+stJsbNg9bezGF06Moq6yyb+f09sr6NkWUqL77z+T0xs1Vbavj+zoOEc/YCshAtFWctG611tzXUR2unKwdtRSutXBhdGodit53swlM3NKv66L0q8YwaI2/NrrU4IKm/OhaHNjbfDZIDn4yTXbWapQsHnYQ6tTUONkUUsW/7Vb0UxsmsUhp5Pbn1XOOxINGDgnTKEztp+Qid/LWjwCcgJmNpElOTMsaP6/VtIba5cnS4229Cd3FRBKoLTdPUdGrGntzjHwz8eu6P6Uo5xjQr1Lw8iCn3EpiOlfyrtTEE5+Y8aIQdBKGEkuUh4pNS6BrpTaFVRySj/UzdoM/6miSafSpzDzi80SMd5Mlvu+Jyl+RGdeSxV4YjRyaTOhMjozegIzkZvkVJV4wyGpN6JQAp8upIxnR3ob6uqvc2rLWulLeJWede2wkSOUnmKM33Spn82O8302K+Z6g5lvfh+hoZDf4I9AoeSVyKbasSvDcK01XotJhgiWNQhMYxZk/TbFzonKpqfxcPPt4skvvnvhV+SpNdts7AQsq7dd0WY3M6e2yfO7yT4HbogMUuGRvok6Q8IsVse67W2xH2J4kRvzvInnwPEufdnPnhSR5ie53Ht11fx8Txm0iT3ZMJEx/DvQ5g1bTwF3qnn/mX2EkAMWZoIQo99SQpCg1emH+7UI3dU/lx7jMJe4nSKWl73i96csiPVZJC8zpXLnfZF4cmLqH1DaZ/lJOZkg5AGvpeAwbg3rmktCZjHlJNuHDvp81KdCvFp9SlPeVjZGkQ1498vxYHmU4yvBzbSNbACZAaKopzluaIux4sES9hEUqb8Uj5vbd16VuKzWl6iW1y9b+OH4YZIkxNXsbwRS9Qr4nIXnTI921olbjm6q875MLyfMjUl7k3I8OjMU88Iac16fZPcajRlKBLQL+sB/SiNnj0L3yUuj9TtHZi0KmaSOazLPaLSdt19cl7bCO0qnGKx71mepL1L67b5ypf7sJqXxVjxS70y5lx6V2P9nWCLQhdmyKt3HkHnwQqWMzXbLId8nywjiUF5cfOTGqh3KJE73Iuyct65sS59ouQ/rrtZQil4/7SVxIHrIjNPK2W556wcEG2lZI1iUfKYeecxaF59yvu+9oc1P1WnaX41R1aoetwg7LQv6cpB3puYEr86g+S7Ewj/aiVHrp5eJ+8jgQP2oDXbmpdUi0EFYu1Ec+UpZSKXu3b6jVcj6TIyUYNz6pRwL2Wql2Pb7FPkijkvRHhbPtYXh0+ffJpx8dqdb/2JFXzbxK7t4OJdpCXqsRlmC219YwNz6Gmelp9n+pqG1oREl5BTKzc1wjxAisEby3MeE93XFNJbsDHpSOq+IuVXVsMqa1NPWmjGLdts5OjYdFyn9y4cWthMzpnHHaqboa625402t4dC2wl/AqpyiUIXbizozWVpl666iROY21sDHiPflTZ6fOzTN2tbiKk5HrxNx3afJHx8jvcrwncg2epsgJUDA9JamHCT96u6aVGHXbcy7sXgy7zhWKu9xPvL0tx1PJQum7IE6uu0BFcqZwBUg1nVD396fpnYt0bU4/okSait/KwmSha0pMUfPcOhxeS+pmHliZ8T4PNu0rcbQ4PCfaf5TlYAogZxw8wDm+ZU7pKLHouJ/sDbo4cgwzXXV08sVre8PMo4zSu0g5UDhHu2mYEJgrC5+Iw+LXSIy0SKYQfy2/6tyciWNlIsdzL2Zxs0vizXiRS/hQUpYMTxLC96qBdFKi8UKwBPmncnQvJdy0QZ2LL55TEVQWFlAJKzrPuR8eHM+WU7NWKScCEWfoufwL1LkJdy6M0lW+LFo6sXmfKBNk4hcpGUWmMDzs3rc4+VDgR+eyIizDm/TDXMqQ07XJKuEsTw8690hxJuJVDgxh8lq3XOo8pfPkY04k//ud+CAlvFisXjQJ0qNE8TiiB01xsszqzYIEsy+A2kE3kkCXCCxVUu51V7esxSWgF3f7UzCtUjDqhtoiKwc6a5PsLYZi8I70l5CL2nRrq+i82BSfjbCqHeCVsazkdLTnd5P8yBmZP3lUWtQVvXywwk08k08rN4vZOfn3dDpxyzKsY4I8397tu7x4ie8y8ajkxWSx3E33xiVl9vyZDt4Tkicm2t0b+2ifbF3IRJkqjEWigHIi+rQHvN6tRDynnlobI28Wjv4U9jFI3j0nPryWRdcsJXtxsI8LOj5xJ7skv949jS5KP/UNlDTO1RfpuDwxZvsUIzHHhffsZYaL4W7ibd1Veq5t4dX+dPXQC6bjnuB0obuk/dL1grhfy4fnfb9jUBOxl46I5y6Eqzvyt3/KrhfUwuwLJznKeRzYyrgCm2qz1L+S1DNpG09JZbcrs1RUz9yLJHd+N9lMKMszL3i0Bb7Ik/pLzQRw7f2eJEQ6N0lKZ+QU2DKrp3skHvSS3m1FIOtGbatmYOn1veNpWyDbUiElZCH9DZGXEJ8H+Mx9PuLlU3E6nmwPSYaRjaOF79zLHs8Xw8i+Ud588ulHSKaCn1ZSddpzzjhzhqiuEg2b6p9dq0FxPlVp1Uitbmxjam6FhkQI+YXFthRzaXEeopGAV/8d3dsJ7Z4n4k38KW33iL+JCByYdOHNKHJ33fPdazHknDvoyJPEM/vOSyNrdO5tZKLRo9PojdoVGegadTEO6N8aRF0zTAqdLW+g+4pScfJXfizMbuOpJ0qbjbN42P3z7tuJC5twiQgdJc6NF7pdP/uOdwXw8u/dUvwiXdPpsdiytpTncntvLZXHe4725xEj25XhQyjh2XKo7EuYuuei272ldJ0UHHnedMuO7jTxQ9q9yRvqIOXueqiYFQmPJnee74tLdxJ37ybz6z2hjBXGi8MMfJ3L4x5ZGTMz+/l3oRNePf/2WHE7M9yTpvtLUCIK73o3jv1kN/gjA99Lcn+ABJl86Wzgjtees6omx8DJKduwbyaZUZWxjag6X/ZvkbiTffc8xx+nMLtBzDFuXQqsKpfukasPHsPm1d14MMkbn8uP50+3nKFD8spE/Oqo+qujx4jHm91KnHuRWYQ68kDajTJxdJTw4xHDuNYnAVot7f3PPZeIzasXCS9K3vSc55KwSZkqa/rFc8eWfoxhurtJqZt+ybMe74veOb2CciBaHLq7Hjne3Ybijn/dcUcvPc/xPoNa20J3bzuTqjiYmd2ZGObXOXnQQZS43L2+n/REGiKoIJfGSOQE8sSHSPmVP17bkXRXpGov1XZ7V+6Ry8U9dN+ND0nW3nhO13Zz995en0LiqdiWbB6WvHybH3e5y7+F8cLpxy4kB7mEJ7ufcEa66WnXhyHH+/7odVTfYMnrR3e9LNq93VNz9kz5ZhjTC+8+f9UCyCaQ0xN3rqe6Fs/O531EBgzwWd7pR948rw87ihRGN4zf/Q9Iu5c6ofPi9Shxvr843T39uNrj2re7g+lCYdROeU5kpcJnVq7uh3cSIS1/7sordzvyz7WgqrOu3irU/jQti/KsOxaQB7pdf0xfx11KeHVOPwky/XWi8npS99R5tj/1N8qJtSF6Vae6Krive/TnJcrLQEoK86v2YV8aiQQUt5FO6OQnwHhsCnriT3mVc+nfU6988ukjJOKJT6e2PSxT759ZPXVuW9O51ldt4Q2N0G0nBRDNyEMkmoFwWBtZqplLeE80I1aJZZyJXFtCcqayS1c+3Jm7qbfF7lLATtcWZO/HyLzq1+J0/lwH45pNu2e+9Ot1PIkrC+audLEbq27ZheIi/zy3TcMZ1pLYbRpFXoPoYrK7e+zdRxa1GkP7d38e6bYXq3fcT/tSSITbC7ufHhTW5URv3yQB8Xx32rtxGRMmUaO7G25HKg67qx95THjZqy68wX/vUWJ8ii4xzXE/eXF5tP/CovPi9DwqHpIxoRssT547EH5P3PeSAUQe6U18OHkqjHdMhE8cPCncLSfn24gn9mT3sQuhuMWlbisN7/Euy3Z3jzx/jnjcfeie7J56lHiugxYK0VSsu0szznT0llxvWbW0tr5lUgftUUKGCnFXWh55N+9OW3eVw/0+98jdffAzR8q/XlxrRptI9Xu/zqsE7Uo3XEVz9MBIvZsPeCiZ2InyyTOr255+eG4/yb+Xr8QzL21dixcjHffC73oh6dxzRjzxfCqPe+XrwjpKhNBB+ut5IVkJmVePN1e+ck7f743HkWSsBN1TXdgNu/IkLNqX1APJ4knQ/qT2h9Pt/Vw48tLc75PnViGUvvLJayeUh9L+0PfS+wT7wejeRI1PHncTdCf7vT2YF0//7m5h9ojlZ2Wocy+GfTF5ge4iL4b7HnwAuXDu924tvDumhD87uCeeXyNe6HpPF3Slm+4ofXRn+t2Lf69d3g24S86vKYb9mR/duteri/Ke+w+8mSDvmc4e9Hwvmd2n+9LdC3137Pvv69wcfyQTl0teOAEmSHcSY1iJiHRwp/s52zv7IPLS9WgvPt3nH/s4lcVea7HnX8fdlHixF487u69sLRbVV7uZCGypuKN0WLf2ta3uqfPhtZvGE//0skjkcXc33X/HJ59+mPSpBXQfRF6m78783t3t7S2beqmlwuMbMh61PHqAhpre8sq5imvVejcSVVh3X7TXeNxD5n9fOBbB/njuDWa3edP86GhF5vliw/GAdB6lVPdikOf3C/DoPj1yPIm3ffLY/dmL4/649qewl+7DaL8PfX+jP8lpD9Dtpe+Rdcz7BHS34ehIcTyoSd4Ld6/c1aXJKb3703w02p93csBTjzfXiSleL9H7edsNunfi6N786fEDgj+IvPzul5HuyLncSk57HbeTm47uzv6k9mLgmffi4wNJ5encHmDhMUnbbMhpiZ0w76YzTr115aWRmRgkpcWDMZJ4+EhJe4E8UqAPDihx6fsObWwu2g/ovNDvH4uXpneU7/tD7Omh8klpm2GxTz6PRPemtZ8enK5HCiEWvJDurfy9dG/8e3Hu6ZUdSPv96Lme3R+jI8+vR/fH/yh0dxtgv3dx7MX0aDEm6mviajeCh+bhb4j2suzIY/qR+VQN944W0K706+579Y5PFbXFu+fvh09ehrzjB6e1v9z30906uRfHrv/EfXfl5V51z5052gsnP/LrSUz9iXu630+CEkncRQ/wdi+5+N+fFI2cFfVjxum8K68PD6j8uXbubj+6eoTkPpA8XtzR9e+OHydR77lHu2ne80CXYvFB/vf41FPnw8rtXs8k52MvhPPpePL6aNcneoE9v/vD+OTTD59+7AHdfnKicM4Ti03Z2W2ovONeaDszv/v9uPOHNp4ukJ2aX4X/gGJw9q81MfvoYQk8OrlG5+7m6cHkfDyqb4/UwD1IDg/L7V4OdfQCPjy9/T5k9LvmnhwmRuf0dy+pPPer/b0d0fvRw8M5w3rPqP4wpPBe/NLBvTT0PaCbk+8Z6w9IY4+1BCVuPEb+7iUvv/vzqjt7SbmO60Ep7Gfn7ue8emRAp1hcqe4Rw9ronDdCF+SdML3uB3T7/O+eKlzi9APJC6SjF+iDA0tc+wGdie+eYO8fy/50RQ/2vaeHlP2uF5147v3ICyvaf76fPjgeGXEeiYf7fT8obudrT6/scA+9f7p79PD4H4Xursv2a+f3xvpoMSbqa+Jqlx6cwb85ujdzHtOPzKeriXv10QK708QTRzzyX+2Ga4MfNf4PQ16aHr1/WvvLfT/drZN7cez6v+t+wq/c7n3v2R7d3W7Jx/1+Pgztj/XuFO6nB3P2cLo3vg8Kqzw+DNA9iB6HF5HHjzsqNa+/0e/9se3eeZBgHpL43m0F2kvpQXE4H17ae35N03dH6PYC7sX9kMR98umHRD+2gE50b8adKJzTuVVZdUj7RpnuDWVXu7furrD3NnC7dFcgz8/d8T6Ufthtwi4v75f+/kQT54/Ax24/+BA5PCxFa0h36f0T8p7qqHB7ZeiePKgDFT/71f6h5fQAeng47/6jx3U/ebyLlJe9ND4Q0O2xtY8SNx8jf/eSl997ZbSXnOrJAxM30pP7U+edxwJ0VrK75+YSq83po/YkAjq3BlpinqOR/ImUVuL8seXgxSF6tLBKSi4xgO+STgR9xBjuOT6YXJacn72yuff4IHq0+F0c78+x5TVxbr4f6H1/Onse7tarB/t5NPrwYe+uy/Zr5yLvyaPHmKivu1eJ88fWuY+Q9ovKI4/pR+bTq4n7I9ufa4/cuWt/zdS164+G9qcrev+09pf7ftrTSfu1c9Gu/3vuK11d3V//9tOepNzTB/l5PNrP/YNzcjcZj+70kelunt+flMMHATrRw8I/Dj8eL+6oeka5v4/Md+88SDgPSPjuWwq0m9ID43A+FEpunwfytF/P7wZ1D0jYJ59+yPRjDejuJ9dYWHW1+vewSrjXSO8Zpvf7fVADt0u7Yn8fP6IPePyDk8vvo9PD83s/PWIe95EX4lE5upebD1Jnr0z2+3vfcrqHPmy4RyPF7cUvXdxL4z5A9ziA6AfgU/l9/3zu5/lRifE9Mv8ir75pFFSOQM6mGDrntmHev5bd3eSV2Q+/vB5ATErGzX5A93jJOl73jg8jTyaeEfGoiTxq/I8QJ6PwYnl80e6GTBz/JsjVMdEPQzf215UPrjcfMX1Q8e6SPJLPR2bV6Z2nfQ8n77nTT6ejHw/a34bvp4e1Ex/Ufvyoy1ncPDgHDyZx91Fy6PjR76Ol8rj8eHndy/P7p7UbP73thUnc+8CEFcILldDy/ZGQnI/dVPaIlw/S8wf49Mmnj4QebAH92BKr427jLNF4jhWYjbpr2PdV8nsq+uPRj0M1/9HnUeX3fs6j/eePQw+K62NNPyCfH498iof9zquXGpFLrFSWqKc/PkQdtL+/QWLiUo8PpyIK9DfKPemHW5f3x/OJah8+ElYV6SdEBgl6mC487L7oE1POHzn9KOXwiGnRm4rHc4/PotrXBwV62F2ffPqbJX+E7j56P6QmUOfO7m7Idf6Y1flRpf6RtxLvl98HkcfQR8OYx8njiucjF9OPhPaXhdM1T88+9AjdRy6Y/Tw/KpGpxxqhI5l3Ly2N0nnhdfTc3zzttQ/u+PjkyfJxZPo4+X/U+D8+MvXpQ9Cjqs9jF7F7oZl4rflI5Mzij78u7Y3E2a+dix52/2+KnPwfncTxR8n1R82PF/ejpvGD5ff+3NxrItvonCnDo6Xyg/Hjk0+PTj9ur7V/QGK35NXlXfKrqk8+fWR0V2/oXewfodPxY1gHH9X68Mknnz5m9LD25GPYzvj0oyeqga8JPn0cyQd0j02qyn519smnvxlS3fuYgjiS3zL45JNPPvnkk08/avIBnU8++eTTD4uI6B5jNo5PPvn0MaGHfSv3sPs++eSTTx8n8gGdTz755JNPPvnkk08++eTTJ5T8RVHuI08cjyIW763dJ/nt3YfJr+ijyfOHUcZPz7vTu8tCNdO9GE7C9s62bXL/8XsHczfPH0xeaX16Su2HSx+1PB8lfr+MfHo47S2I8ig66nTok7AoyieFHrVl2E8fpfQ/an5+tPm9X7edhexdM2aL/PH64Y9S/j755JEP6B5IjyuST3p1/fjl91E5+vQ1lB+U849jjn/c6stHTR+1PB8lfr+MfHoYPc4al9IkX5d+2PR48v/o6aPm50eb3w9Oze1D92jka79PPyryAZ1PPvnkk08++eSTTz755NMnlPxv6HzyySeffPLJJ5988sknnz6h5AM6n3zyySeffPLJJ5988smnTyj5gM4nn3zyySeffPLJJ5988ukTSj6g88knn3zyySeffPLJJ598+oSSD+h88sknn3zyySeffPLJJ58+oeQDOp988sknn3zyySeffPLJp08o+YDOJ5988sknn3zyySeffPLpE0o+oPPJJ5988sknn3zyySeffPqEkg/ofPLJJ5988sknn3zyySefPqGUtENKnPvkk08+/UjowzQ6SYmjTz755JNPPvnkk0975I/Q+eSTTz9S8t8g+eSTTz755JNPPv3wyB+h88knn35k5DU2H3aEzkbp3i+wP4znk08++eSTTz79mJE/QueTTz755JNPPvnkk08++fQJJR/Q+eSTTz755JNPPvnkk08+fULJB3Q++eSTTz755JNPPvnkk0+fUPIBnU8++fTpIf+TYJ988sknn3zy6ceM/EVRjHbusgOTkn7YKyt81PH/4LRfDfbz9yD1eBT+Pwq1ely5vR8PLqofrBwU/708PeieT3vklciH0Q5J1SS7G9g7ScibstefyX9fGXh68Gktl/16/uHy6NqnH4Z8Hk//70/3UfLycSvPD8PPXhj7tXOffPLJJ598+rDkj9AZ3d2hqrO91/Gue/ih6JPbYX9MbKb35eOxyojxOMPrk1smPwjdrdOfLNotsbuKbt8FT61s71GWj4vh/1HRD569pB+yjB6mW/fW0fvTvJuNB8cjPx+nIpXsPrz8PkYZ8cknn3zy6RNLP1YjdPuz6vrf+ztT58fzd/fzx+u0ZTTfHcZL/4drPP1w6FF4+7jyf3e5fvxk+3Giv2lZeanvcfFoJE7v4vZhEbxPlj7O9e/TQfe3efvpYfJ/0H3dc5d+Wfnkk08++eTTB9GPDaB7mDFxL8nffpF4/j8o3P300QM6xXdvXA+697h0d/7t184fRA+S1SeBHsb34+bH8/+D5F1x3Bv+Qfd+VPT+/Di9Fn0Y/jzp7kn5UYnpM9Beig9J+zFZej85P0wOD6MPksf+sI8iu8f1/7jkxf+ocT+MH93/Qfhz4XV2b5w6+/DxPio9LF+PS148Pyq+ffLJJ5988smjHytA9yidtfztdcw/2FSkR03zk0D78/JpyNf+Mn4QfZrK7qMhye/x5eM1No/b6Cilu1LbH8EnpJgeV6c+ah38+PDz4XTp40Z+m+GTTz755NPfFP3YALptut0PBpll5ZpwzUyJ7SReJ/ph3dnZ3kIKO2aNCJhHe0APSYzB/DnP2/cYIha/+fecUlVaydiiv206800/OibzT3eMD94wHujMT4LcueLaShxFOio1Pt3ewRYvtxl4x/hzIZJ5avyQvDh2jANd89f45NE95DV55S3d3WEc4llxWjzywweeV2xv8kI3FA+v5Z9pu9iVLvNHGWJHPJP4zOL1eLZ860xpiqsUne1LS+HoklKYN/pieIX0Qjve9dwrVTkSb29THu7UuHBFxkAWrT0R8YxpGA/ywPh2EumoDCwN0m56FlKO+RZv23HymwqkhHjXpe3F7YWRHu3e3I3RI/JtvMvpGdPdZvoqQ4+BhEsU5y6ZlFVWppzinQdLx8nfXfKXflzx0I/KR170w3vGo+K2ywQPStdInnhP5WeeA/ZIIjfR6hadfMvtkiXgUeJC4cyX99BpoO4lojLyrvb7dCG3LVfGj/KMAM9SjQ/lQQ5J4lNH3qSfbXm1ckyxGM3I5uNkPneyZK3dSaH/u3kA4ubf3aHzGDFdo5OeJK5NHrqX8CMjXumJQ90y+drRayG8tBI+rK4lUZtSsUNhUpPM/90kf3R6YP7179WxxDMdeS0dtjT4SCnIi3jQU5FCJHsXpB3KgpJirUvEofi3GXcS5cuAlI6FuY+MD8p7J05HGSenYYuV1suvhXEseYfEDeMqQUqPIciz7lozYvcVt57ZhZFkrEtXgiId2SZR3q4sRYrA6YD0wolFknKlaWGSE2Wj53bPkc4tRjKRYvVRdVt3KQHpiJErO+fbOae/DJngw9JUMrplXvgjWYm8a2PYlZEjlYFk6O7ptuQoJ7JgdLveSfvPffLJJ5988mk//VgAOi+DXoc4MTqGudl5LK+s0q5IRiQzHVkFuYjG0pGmTpaAJcD7WxtxrC4tY2uTpldaGiLRKJJSPfOLBhmNG+t0E8ZeCkVJgfLMMw7iWJqfw+T8MibnlughjczQlNqM04BIRiqNQP2lJqciLZKOaHYW0mMZCAWT+NxLxSMaURaviGlsbmB+Zh4TkzOYX1nDBgFBMBJlHjKQncO8RMNII1uyT1JkZShd5iuZBoSMux0+SKaho/s78XXKYxZzi4uYX16mgZGMtGCMvOQgOzsf0XRn5BnJdtpeZ7g4Ntc3MLuwSCOQuQiGEUzPwCbj3Vyex+L0OOIri4jzOiWQRlmJF8qW5mtKasDi29mK020hvpPKaANIj2YiLyMN+VlBbK0vYH59C4vxHaTFspDBvEUCDgiCYbC1JvueAqJMGdvW2ipm5ySPaaxtbFg6wXAMsYxsxDKjjJtpMrBKapup7bBsksUby2Bpdg4zyytYpwwjWTnIiEYQoOdU+ZfRpjQFAHeYJl18dR4Lq8DyRipSQ9kIRyIIhVLNZlO+UphXQfg9641H3jPSMZnA0CzsdayvbWJ2hnmljiytbGBzKwkh8Z2VgbyCPOqCi9Mr+YDpFeW/tUkV2MTU9BxWVxnP5jZlTZ2kR5Xzzs4m+RH4kGxTaNMGyWMa8xZDRkYM0YjKQIavx6ckw+PWBrC2jOX5GSyQt7RoFnYCYWxRVjNzC4ikx5CdFUMkxDJnEMuhsuLlTyeeMUtdMwDnrFxzujZDlkeluEO/ljJ1zpWNF1z8C75J4ahrywuYW95hGYWRHMxBLJSMcICgJNnVi+XlRczMzmBmfom6loxAMEIe6Ve6HAggmEZ+afhvrC9jdZ3lHCtAmPU5HFIeJAe2BfwT2GDtE2OmZ2vz85hm3ViPb2KD7UCcclfG4wS8ahdS2E6kplCnmV4660oolo1oOAVpzHOAZeBUgHlW28BySWK9XVlgmzC3gqRQJkIZecihzqeZP5LeziRkxQuKYRPLi/OYnJnD0hrbIxbwtniQkNT+MIFkth+B1CACzG+Y9T+alY3MmCqHo2R6taqiC/5ska9t3jQfGyzrmWmMTi0hJT0PwcwiZGWw7uh9BeW6Q4ScxDpiARkOK/NYn5/E2Owy1lPTkRTNpT5ksjzSELRK7ThXvlWeVqIJwLW2MI95uoWldbZVrDfRHGRFybfEvbaE+bk5LLA9ibP+brMyrTOfcWtjFZNpiTuyjFJTAkhjA5eREUI4nflnGzM+MYmFxWU2u9Rblkkq49iSX7ZNAqsbbHe3KTf9ufywbQmGkJMZQU6MfLBeriytkI9VrK1sWVuml1vyva0XHCxT6aS9vLIMBhBgv5DNdjsWY50Ks90i76tLC5idmsb66iri6+uIbzIs28gdOeWA+pOcynwwD7GcAuoN2+t06iyfeaXGpM2JlGuDkDpJkD8S6JNPPvnk03761AM6My7oNmgczM/MYGxoGN0dXRgZIaijgbpJgyU9N4ai6jI0NNejvLAIOTT0QjQI1mnkz9BIGCcATEpNQX5RMbLzaPREwhbnFkUnw1Rvm2WzpvIqOWFoCXBs0UhpudWCK7c7cLW1C6k01FP1Rpa8pLFzDwjc7PBIoBekQZDBuGsbm1BVUYniohwzdNTv0yxRDhgvDXka27NTkxgYHEVHRy/GJmYwvbgK2h8EprnIyc1DYVEJysrLUFKYj4LcLMYh8EYGyZdGKpJljNBwXCGAm54cx2B/H4aHBjEyOYkpgqI4n8vgys0vR03tAdRWVaKyrADELGbEC4hgeRYDlOW5y1eYr3Tkl1ai+cgJrNKYGutpx8U3v4fVuUms0QBNSQvSOKNZTrCyuZVMQBei8STIReOIRvP6VoCGagDVtY043lSKM0eqMdx7G23DExiaX0HjsdNoqm1guYSRymwkEQhiUwCZhikjHhufRv/gMPkZwcjYBA3GFWaPADEjF5k0mAoK81BeVYrikgLkZEVp6JGZ7Q3iKvK2tY0bV67ialsXRucWUXvgMA42UQ9KCgkYWD402B24Vrkyze1FTA60o61vFp2D8yipOozaunoUleSYySmbNkAeU6QDRgwseYukNLreFnibIa/9lPskhocp92mC6UUCs3gSgXQucgtyUVbJMiwvQWFhLg1X5p0REBqTZwLL1WWMjU3hzbffw9DwOIH4OnZo1BOy0/jUCErcjE8B5Y1tGrVp6cih4dnU0ICG+jqWZxEiQb1UEDiQRS3uyZsM67FBtF67hPahcZTUNiOcU0hjeAdXr99ERWUNjh87hDLKkja8w6Vyzur1TvhAQI5wkUerHPQkOEcNNCcYJ1k5UMnnAlISlU7Nu/jfFPc8X8dw521cbxvD8lYGcksPorG6iOCfYG1nmUb8PG62tqCjqxNDo5Osq2HECK6yM7KwsbaOWHoUudlRRAi0JsYGMDy+hMYDT6Cm8STlQCBuPCzwqHqsa3KmvNA4b7t2DW+9+x4W2BasxeOsG4QDFJUBDeqO9CNIMJESyURmYTmKqyjf6lKU5WchM0zDXcY/s6N2Zmd9FUszE2i7cRXvXmlFMLsUdUfO4qnTxxGlLA3UmQAYQjJjGrPjI+i4cxtXbt7G1MIKljcYD58HUgU/KVOC+BQCi5TUNCSnhZGRm4/Sqmor44L8HITDBDuMLo3R6VWUsraVTN4NLG9jor8Nd65cwntX2pFdfhDlTWdw9HATsqPJiARYBioLAkbT4c0VLAx1ob/1Gs61dGB2J4JwST2OHjqIA7XVyM+KKAXLgvKsQa/kJOqiXmAw+I3z53Hr1i1094+hovYQ27oTOMI2N5q2jZnRPly/chk93b2Yn1/ANhuaDWqKXs2odFzNSiE/lCfbkVTmNz09gOMnmlFalmvA6r1zF9DTO0AgtYYwn6utWI+zjEJRbKUEDZCLD+XdxMwY8/PyceRALZprSxBMWkNfdz9u3+rG2Mg82yqmnSIgxvRNEAKXbHPIzxbrTEpaCOnRGE6cOI4DB5pRUZKHuckZdLG8zr/7DoH7or30Mv5TA4zLWjwDcwJ1W6yvGQUlKCivRX1dNXUmE7kElqlMk6plgE51Qmphr0B0kiAf0Pnkk08++bSfUv4NKXH+qSN1wd5xlmCu7U4b3n33XYKsW+jspmEy1Ie+gV4MjgzROB6T/UQjPkSjPxdpNAC21texODuFjrZWjI5PEhTuIBzNRDAYYYeqKV1uVEEjMg7MKSU59sbxDawsLeD8xYv43mvv4C+/9QqGx6YxNjqK0WGmNzKMkcFBDBuY6kf/QD+6e3qwRgMgmZ1/RnYhI001QJdio3PrWKOB0M8wV2+04PylGzh36To6+4YwOMw4yf80gd70xCgmRgawNDdtb/Izs7IZAQ0+GgnJNCjEn40UxNfR29mOK9du4s13L+EyDbTWOx3ookHV19uLof4hjBKwLcm42owjQoM1EKABp2E/GpNbS3O43daOv/jLv6JsJrATCKK6sRnLBHR93R34zje+TuB8x+IaHRrivU60EjRdvdmKtq5+9PbTsCZQ7h8YQnffMDq7em3EMD8ziNryXNy6fgFvXbqK8zfuILukCmXFpQgHQ2aUJmmEKk7QtjTPMhzBOxfo79pt3LzN9AYGMThI3kdHKIsxjA/3Y2qc+VicpRGcgkgohFAwzHILsLy2WMYrNL7ewHdefR2vvXOBwDLZjRTS0EpleilCc1bSMqBZDkx7vLsNF6/dwSvvXMFOKAsFRYXIz882k1MkICUzXiNkpg+ybM3EpaMs5+fn0dbZjYtXb+LC5Ru43dGF7oEBDFHeo8PDBNksS5bj5NgQ8fsCo9hBhKAkiboZpCGXTBC8Q0DX1z+IP/nzv8DbNGSvt97B4PgUeqkLAwN9GBqkXvHYz3h7e3hOfVucm6URHCK4Yf4I7kIByoCAQ/nTvxEB3fhAD9559Tt49e13scVyXaABPUb9//rXv80sJKOCILMgLxtpgcTopX6VPffj4iKfwgCSgG64kQ7dcC8/zNjn0zSmLwgl+zQhLSNvLM90nzLvvnkJr751Dh3949gOZqG8OBtZYfpYZp5ZJ1558128c+UW7nR0GyDQy4q5qWncJhCaHJvE+soiZTmHm9cu4J13LyOSQXBfWIXSItZl/iVjzX7d1EoBhyQW1SbepWz/6E//HFdv30Y75ThA+fZRvwZYPwZVf4fkqMu8N0xZr8zNE3TvIDcjE+mRqI2cSRwaNV1bXUE/6/sbb7yBP/uLbxDYjCAcIchuaqS/VNO1JAFg5V1s8DjQ24Pz59/D17/zKm6296BjcBIT09OYlpsYx+TEBCYnJ9mejJCnAYyynOdnZ7G5sYZoehihUBhp1HvNHFAbBYLk5JQ4c0pwQ4By5+Z1vP7Ka/jzr38X43Nr2AnGUFxCsB9OY/kyHMGMnBXMxgqGettx9cJb+OvvfA+XbrVhZGaJbWIMJaWlyMxMV1G7cpf/bUF3l45GlL//3e/iW9/+Nr73/dftpVE0MxtVFSUIEGAO9XXiu3z+5lvv4jrLrH94BH2sC3J6cTTINmSI8h7isbeP+s17Y+MjKCrOp06HsUbg/sZb7+Dy5avo6eqiPNgO9PVQH7oI9jtwq63H2pwhtr3Dg2xvGcdgfz9WVpbZ3sdYH2JYXZ5n+Gv4/qtv4/yFa9aWDLBsB9iGDNGpXg0wTD/jGWC7pZeCU2xz8/JyKDO2Abk5mGB5XGKb/yd/+mdo7+hk2BFMsO8ZnZrCKMtpdHyUfI9iZGwEI8ODGKE+zLJ9So6vsm1KRZh5ETg1+UkjKUtphMD7fhDnAzqffPLJJ5/206cU0O0kOkTaEdvbWFtZxc3rN/H2W2/h9ddfRzAcQllFGZoPNaGwuIC9YzI7d3aug6PY2thCWWklojRSwmkBGmdb6O1qx9DoBKbmlhDNyuMzGWshJkNAx4Q0ymDfNZnVI+Jxc4MG3BJutNzCtdsEM10DqG8+goMHmtBUV4uK0mKU03CqKC1CXk6WOCYom6DhMoLZxRWbvhWMZiEaTkWQRm18YRrtnZ145dXX8Oqb76C1sw/bqWFU1TXh4KGDOHzwAIpys5G0tY7h3i6CtTsYn5hCIMR8xBhPLIo0Gmaa/rZJMLA0M47vfuOv8cpr7+JW1zB20jJQWFSM5oZ6lBYW2KjGOuU2QQA6NjZOw2eDoCLDRrgCoQB21hYJwrrxyvdftTffsdwCNBw9Tp7SsEmQtLowiwLmq4Rgp5J5zY6mExAnoW9kEgHmq6ikFM0HD6OkrIJlUIaCwhIcaG5Gc20xKgoz0HbrCq60dqF9aBLVB0+grroa6SoPgaVtGp4rC+hqvUkQdhF/8e1XMTK7jAjLrKn5AOrq61BXVUF5ZGCLfMq4u916i6BuiQZmCnJyCglOaTgJWWwuo4Xg8fyVm3S3sbiu0awIyiprkZ6ZQR2gXapi5U8K05VBPN/XgWt3+vDejU5klNSguqYKhQV5NkVTZW9v02XEyjA39ELnLFzM0wi/cbsNf0WAf+HqLQyzjLLz8lHOOJoaG1FLvvOzM7CzuYaBHhqEPR0EY2MIhTMRSieIiYTJRxxJG6sYoU5+g4b1xNwiwjSOmyn/kqpalJUVU+ZFdIUoKSlBUVERystKUV1Zjrraap6XUOdybCqippTKXDSdFcpaX7YRupYLb+NaWweySiuwE83G8tIq3n37PfJWwHKqZx0poAwJuwguBXaJxgn06TSEm0JoKyDA25oAoJzrGzNJRkBJI8TuJYi8m9CMA4a0MDa2yXC6l6IRuiTqdOtVnLt6m+W8ilhxLQ41VKAgIxULI124eL0Fb168gSVE0FDfiLMnT6E0PwcbqwSC7V3Yim8jOxZGNJiCge5WtLR2o6zqAGV+iOA0ZummENA5DlR6dOQxvrmDS1ev47uvv4E1ln92YREamg6goqKa+a9ASXERjw7cRtKCGCeomybgmKFRn8f6kJGVjwymK8C4TVCqaaE3Wm4yzqsGMubmV5GTW4g6tgeZWRlIY123TFNPbESdILCPoOTmjeu4cOM2ApkFKG86hrNPPIkDjQ1orq9hfuvRSFfCuhtNj2CdoHGEgKXl5g2CuRB5yEJxYa61USmae5lC6VKerEDYWV3EhfcuEMRcx+0OgtHtVKRGcwiSCg30Rwn+BfiNJZXH5gpG+9vRcfsyzl+9ge6RKSxupjKNHNQ3NlOPs0yEu2W5s8XyZJrU5fXFBQNzb7/N9oZtV24+db66hjpfC2V7bLCXz95BP9vgpJQg6liPS1nnS6oqDSyWsr0oKynmufS5mACK96jnhw42s93KR1paCEtLy0gLhlGQn0egWIoi5js9moGewTEsrG6jqroWtTWVqK4oZxwFjLMYNax3zQ21KGU/sMr2+trVmwRi/dikLJoOHEBNfRWqajS6z7pUXMzyJh9ss0pKy8wVs27VsRxKWddysrIxOjpG2bcQtL+FnPwC1Dc14/jp02z7Wbcb61HXWGftRXk581GQg8VpAvL+LgyyzU4OENCR3wzGk6JpmVaB1K9Qljz1AZ1PPvnkk08Po08loDPbOUGacjU7PYO33nwLrXfuYJXXZ598AsdPHUPjgXqUV5XRuM0j2AlibGicICxuIzTFMpAyCF5otK7OTmFmfgXDk3MIRNyb96ysTBpJMgRpulinS0NJ6Vo/y5PNdawsL+FOZwe6B8YxNruC5176PJ576kmcPnEU9TTc66rLUUtXXVWOAhoGUXbmQzQIZpfXaVhlIa+IhncshOD2Kvrab+Hilat45/wlbCYFUFJZh2Nnn8bBY6dwoKkRjXU01AvzCGIykZ8VxsbKIqZnF9E7NGHf6WRkZppxKeEsTY+j704L3n7tFQxOLqGy+TSaTz6Hk8eP4fjhg2isrURNRSXKabDuxOOYJZDt7R9BhMAwJysdefkZiK/M2xvsS5cuESDzXnkl6o8cQzJlk56WipxYOmoJmhuqK9AkwENwt44AuocnUVBRj8MEH8+9+BINnoM0iBopgxo000itKc1FNg313vYbaO0fw/BCHE0nnkJTbQ0yI2kE2HEbHZwY7MaFt17H5VudWE+NEvSdwvETJ3DkyBE0UBZ1lWWoKslDSW4U4XAQs7Nz5uZZjlEarbH0XGSkpxIcLqPt9hXcuNODroEprGwGidPTEKMxnpVfjpxsN+6WQgM/1ab/rWGZBtjtvgnc7B1HLkGBpkuVUPYBM2bdyJI3KidAZ+BuawMbS4u43XID7128ZukFYnmoo8F37MwpNB1qJtCvMZlV0UAtpHEcI3BenpvF0PAEpudWaezlozQvB+EAlSy+YoD9tXfOgUjARkef++znUX/4qOlCc3015U4dq6URS9k11NGYJJirYvwyeKME7Kky1nftQikv+SSgW5saRcd1TbkcQ8WBowgWltrodWvLHfJXi2NHD6KsvAAsZguvaWWanry0sEDgt4R11jF9XyYga4angTmNMdDQ56WmwqVSnhq1WSHIWVqYwez8IpbXt7C+o2mubsROflMEPgi2pruu43pbH+Y2A8ipPICmqkKENhcw2HoRb16gPHvGkJxTgcMHD+JocwPyomHE1zYw2DeIaCjDpgwX5cUwNzmEofF5AoaTqGw4gYqyiIGPFKzyVzySV/KrMda1jTiu3bxN4H0dsdx8HDh2HM8//yIOHjhEGdNAr64yXaulnKsJmAXdtiiDyfEpGuWUcVYB8vKoF8zw1uaqfeP32ptvYmCUdYkgORiKIYPHtGAaighOwhnp5GHbpszaIi7kZmioH53tbbjTM4ySukNoPv08nn3mGTQQmDSw3aiurEBlRQXKCdxL2YbECOrWqGc9PT3MRzKy2LY1E0SkaNq1ptcmUYc1ZXpxykbgL5y/jNHxGaSxTqwlpWGHPKVHI4yrEFkZMbZ/LAQVHNu4JLZDE0NdGOptRWf/IBbi1J/0HGQSvFbV1iMjt5ggUrJUubH8tgnoqCOqr729vbh4+TIB6gDLeh7VdQ2obWrCIU25JNCeHh3E5UtXsUbwXUode/qFF9F05DDqBaoIeOupw3K1tXWooU7X8ChgVFNTTVDMOmHfD2cSbJWzTGrQSJBWWV6ErLxC3OkaxDbbiOeffwFPsK4dP8o6y7pQX1dHQFxrLzoyKfs5tvPXb7ZienoJuXmleOGlF3Hk+EE0H6pnGVdbHaon33U1DWhoaOR5I/moQTnBY24e+wW2gxot7e7swZVr1w38nzr7BJ5+7jlUMQ/l1ZWoZLtfyfTk6lgXo6nbSFmZxfBgH5ICaWwTslBZU2Ojqm6qt+oQj4mK6g6qH+7aJ5988sknn0Sf6imXorU1GoNT0zbNSdOUKquq8NnPvYzjBC/l5WU0hMpoPBfa9zYd7R2YnJlGfHsbdQ31vJ9Ny1MLFuxgfnENvT2DNFLctL2igkKkBjSNkYloBEb9q+dkAcU3sLqyZFMJ+8fmMbMMfPZLP40XnnkKJw412uhcqVxpMTv3CpTSEBGI7GhvJ58TSGO8TbUVKCI426aRfe6993Du6k10DIziwNFTePqZ5/Hccy+igcZNBY1BfS9XWJSHMsZZU1mJnc1tDI/PEgBeRSwzF7k5mZZWEjYxMz6CaxfP4zoBYlI4G1/8qZ/DqSefxYkjzaivoZFIcFZFOdXQsNCqkeNTs7h+qxVZ2dnMdyaN10Iay4sYHh7GjRs37TuSvDL6P3gUgWiUYC6GcoKSqtIi+iVvNKxyIgRVBMvXO/tRXNuIE6dO4KXPfIYGWrm9TS8vK0NFaT5yM9OolesYbm8hoJjG5OoOmk88iWbKIjdKY39zxb77u3GjBW++cwHDMws48/SzeOa5Z3H21HHmvRylxYUopjyKiwto4JUgKzcXG5oKSmNymEZsIC1oC47k5qZjOymOm2230NbdR9A+z7ITEHNgRG/xi2jYCrho4CkgQ3h7BauDnWglb63DM8gXoKNhWUpAFzRAp2m4NMJoAGtsI1kLShC8bKys2bS4c++8iwvXb2JtOwmHTp7GCy8+Z9/g1FRVoqy4BCX5hSihYe5cAZYX5ww439FoWXYWaghMcjMjBhAHJqcIZi4iSN1tPHIUL33xJwhU6ghmCeQqSlBbXowyAvOKqmqUVVbZ6EZOTi4i6ek2xc8jZxrKamfe46tYm5tG1+0W9E7OoeHkGUSLykG7E31tnWiurmHdaaJss6j7m9jc3MA4AUzfwAg6CSJ6+vsxOjGBuYVFWvSaspeCVC2CQ3Bhhr7ethDIaXGSWda1zq5Om5rW1dWDSS0ksb5OmdFvSipxIA3cZCJJAunp7jto6RrBCmFTbnk9qopzsUDgef3SBbx67joGp5YRySpGTQWNZZZ5OJhq30+Jr2hGNut9CQqLc7CwNI0xguOq5mMorTtAXUk3QGdg3c4S0tDIPgHh7dutuHnrFooJmE7TOH/5My8TzNUTRLG8qNsy0KtZdjVlFcgIhrE2O4eu3gEkh6OI5BayzuUhPW0bO6vTBOaj+OvvvoGlrRCOHzuJbAKn5I1FjE+OoaaxEZGcQmjRIluUKUnTTbcxNjxo05W7h8ZZv07i4Onn8NTZGlQWZqOMwDzPXC6KqH/F1PvszEyssd3p6SH4XVhGTl4BTp0+afqbnExQpoVNqN9rE2O41dqB81dvYTUpRPB0HKsE5ltst7bj66iqLEM2640W+1GRCVgk77AtHe7G5GA7BsamsRXKQmpWIYFoNgqKSt33qtlB1hPJUwCQ9YX5WZgcwcVLVzCgbz2XNrBGFqprCYwIig41NlBuAcyOjeDqtRtISQ2jtvEgXvrc59B46CCq2Q5XlLNM5QiAKiqqCKCq2XazzhFE5xLMRanPkUgEBWyTK1guNSwTTeXUS5FwNAuXrrViJzWGL37xi5TdKftGsJJtv4BcOdvE3JwY9XMLE2PDuNXSitXVTZZtHT7/xc/j8FG2iY1Ks4ztdBV5YF1iGpWsByr7MupbZnYMoUiAusp8sI/p7+nHrZu3cPjwEZylzjz59BkUsS0qKJBjO21tUyFBfCEK0tOIsZfQ1tmFxS22HRkFTPMkgoEg+x0tzJQYIRUlTgTmfEDnk08++eTTfpIF86klTffSogWhYJqtxKapTU89/SQ75woaATEaTak0PFKQwXMZDBXs5IOhIAZHhzE5P4cVGpcycnOKSwm2ShGi/6mBIQz39GJhZoZGKY0f+mA/bG7XHpRLSUEagYOmZW5t6a0/jfCUGJJT022qWYBGrlZm0/cSARp2+ezgjx05SOBSieLMMJKWJhBYmcL6whSB0xCuttzBEAFaBY3Q42efw/GTTxAA5CErSsCpqW40uLSaZJigK58G/PPPPo+zp88imBpEB8HArZYWLC0tUiZb2NjYYJyjMtGQn1+ABhpVpWWZoIj07T6SaWClxaLIIjg8dPgwjhH81tRW0WgJYlMLkoh2Maw39iJJJREg8YSWuxYMSAsxH5qaGiFfGpahMblOYzFO/1r0AKmUC/3SDkIonEx5MawM+Piarbypb3DsuyZGaCM7NEjXV/Xd3BBef+8KxhZpeFXV01D7PE4da0ZxQbatfKdJfhoAYqRIo1FaT8Pxy1/6Eo4dOmCLsbTeukZw3oaJmSka11tYJGhNDqagrrYYp49UoKY8G31dLbh2+TzutHbaCp2bik9zL2Vo78TJWpyyoCx5S6tIOgk42pUIy54ZxQ6xwhyBZwtBaGtrq31Dd4wg7gnq4mECsSwa4TLgBP6SUgJITdOiHlmobajFC889geeeOkWZEED3tqGzsxUzC/NY3NyySYKUFNZUpkqOIE2yFAANBkJI0cqD1OdIOMJjyOlaWoAgS6thurX+lCU7SmbiWvVFK65mZtBAzzajPitbo7tRZEZDBCEhGynVt21razMEyd14/c038Md/9l/x67/zu3S/Y8f//Id/iO+9+rp907a0uGyjl9L7bS0MsjCNDgL2V1/9Lv7wD/4A/+l3fw+/93u/hz/8/f+C//Znf4pXv/99dNEolvFvq5hus0xNsTTKpEjimF9cxIWrN2107urNdvT3j+DalRv4xte/jVffeBsdfYOUSSoCqufRKFJo8KezbmTRqM6hcR3JjiIp7E2MZcxKg9nXgiM7LN8dPrHRVaVH0sqsAZZRMBhk+aQgEEyiTCMIh2nMp2cikpGDWhr69WxHCnJysLK6junFJayurZLdFSxPD6G3qwNDozPYDuWj6fBJHDnQgMzAqk1h7Onrw+jcOstSauMWatF3d3oxoEWN9A2sFsDUarbEqXskgKbRYPrRQinFRXlorK1Gc2M9a84OlpdWCJIJoE1XGYHlJwkrBJ7tre1sUybBwsaRM6dx8GAjciLJ1LMO+zZwcnaB4aTfCsKAFL6W909jPQwGklBCQFtIUBWgfg2MjmFobMpqq8lzi/WXctRo4Pj4CM5fvIBAKB0llfXUqSKkBQlmCVYEV7RFjGaYJlEZ9W2ypk/GMrJsRdUQ0wlTocOUe4RhwtTnaCQV0WgynfRZ3x6yvRIAUptDHU/TYkYBlhHlkUx+9W2uFo1JSSF4YppqLsOsGyG1c1o5l+W8s8m2fHOd3GhUnX7UlrIeRCJhBFJCCLItDxCwp4a1mq9WFCXYYvNOtuwFn1bVFGmRJzYMFNo2wfEW4huberdnJNnsEaXEsisqzEFDTRnKSvJtRHV+Jc5yYiWmTCQXlZX+6NlCeUDOrWXm7vnkk08++eTT3X3Mp4i8xTtlCEWj6Th29CiefOpJm5KXSQPaukha6sk0GNUZJ9HA3WTPq3Bp7LSTaPjG2XlqtA4hgpvMbOTFMrFF43R2bBxT4+M0aFdpZG1r2QYajzSS1dlaH6yj3qJSvEQWO+ygBeiSUzNoWNACENFoSzYDnIaAvj+S0SYjcmsNqTTeQ/F5RLYWCOim0d3ZhZEJGoJ6e918DCVVjciisa3CkxmhozPHE5Ye484nCG2qb6Rh14zlhSX09/Zhbm4WceZR39YUFBTRQA1haXnFFhwYn1gC7TcaooxLFpwiZTYEfk/T2PvKV7+CU2dOorS0xO6bmUERe4BO0hag2+IzcbFNuWuFOFoljItGaZL2+dpkDrcMHG1RPuaXTrhHC+ml2Pc9lCYNwRQaO1ox1IwZjXIp1u0NLM5PYGB4GK3dA0hKz0dVfZONlGRq6XLGbVPLjHeGE8k4S09HZXWlfbtYlJ+DyfFhAto+AroJA0TLygEBZ15uCCcOl+PkkRoQt6Cn+w4uXb6A0fFFrNoADvmgcJLJh4wxt+adW7HRACTJ2Vkqc2VMjmEI6FcWV9Hd1YOFhQVkZGSgrqEOhSXFNCxpuJFfyZLZpR0okCGB0BE4VJcX40gz/eZEMTcxQEB4A3NLC7bIfpz6s8F8bjCZOL1vMiIVnVhw7PDX5KAjjWeWh4xbZxSq1JxflZd3rnTTwtSPomKb2lZYVIhsApSCvByTX3VpETII6OKri+jpasW5c+/g4uVLNP7nkJNfiDp9S1WQjznWk3fPX7QVIm+13MbK/DIryQbWluZxh4D6nXe+j/fee8sAT3FJmU1jLMwvwNz0JM69dw6vvf42bt7uwtL8ChkToNfCHjSimUdNAxRAzS0sRVZhpU1tjMZybKS9rLwKRSUVyMovRkZePorKK5FbXGJgLsx6n8P8FFeWI5rLukjwovEqV2tUtpKLriRFli7LekvbE2yxrGWkU2YCDxrclGonCzAYwuQN1mst8BJIGPRqR7YEzPhcspoZ7kFXexsBUgpCudUoJbBpqKtCcWYSlufG0N3Ti76xOQN0GpuTQgjMuSm8jJPnWip/k888Dq3EpDha1ZStUHKKgMk64mvL2FhdIRBJJbjXoix6oeSc9IBCx8LEFAYHBHpTkF5YjPLaOjQ31aEsN4rl2XEMDQ5geGwSy8RlxCVORuQhOUmvL7RdwzZyqRN5hYUIx2IYn57F8PiUvWSw9x4CmnrxsTSHqakxW7QpnSAtt7Cc+pVBXgPGuq05ZG8VmAIR61Z8Eysr65idW8AU49RCLeNzS5igfk3MaEGYWYxNL2FyJo6FRY2iOvwkUt3TyKpAuV4GaWuSLW1VoJcXlJ21VObJfDvZKWfkVfxK1ipOfRe6uraBufkFTE5NYWp+jGmOYZJuRgtPTc1ianIR09PrmF+MYyW+zvJwmqTFZ6ipbLuoq6xr7sWd0nPkIGyCmNjO5io2V+ewvrpEXWN7kqwvptlfiLX9jqHuH5W799onn3zyyacfV2Lv/mkl9oLqXFNpsERjOHr8OE6dOo3q6hpECNj0fUeKjTZt0QBas1X8JqbnCDCS7TuMjFiWvdGN2+vwFETSBYIyaBwsYWZmDCOjwwQ/hAM0wFNo0MlpNElGg96Yu+WttWS13vqusYNfZZqr7MDj0F5h9tqW59pnCuvrWJ6ZR3ffEI2iaSyubiIoo4cAbn55A3d6BjC9tE5cmUUjuwm5uYUg3jRDRt/b7BiklNEio0iOD2JRe4N+6kgDgltLmBodIN8zWN7YNAOsvrkeWbkxLC1O4drFN3Hz4ltovXndVpAbnZzB4uKaLSaRGo0QRDbgC1/6Ip544gyqKiuYP+aZ4pXymE1E5wAezRU71z0HGMwXDcmthJO5I2chEnGYYyCzp83RCJZ/GcoEwyly2zSTmLfF2VkCrDEMTk4ilJeH8ro620ZCRq8WnpCxqW0J7K27jDoNawiIhbLsW6PS4mKsLS5glnHMThEkEyxsIY3lToM8nInauoM4eeI06qoqsTQ9gZtXr6Gzowez85SrRouYx4S0LU0t2iFYYHkmeVkw+UgAViabWF1ZttU348xDvqaGlRF0RAkq6EWDksnikwad9gfUdhjOwN1EWmbMvtEpZ1muEAx1tbdjmWBJI0qa4kWzmHpMHdqg4UojVDqhUcN1GfnUrzj1azkexyrj1+iObF/bQF3GJM8d43ZGYkkwztRIBoqqG3DwyHGUlZSiOCcLpQW5OHX8IOprCYYiAZsK2tHWhvMXr6BnaBzh3BI88dyL+PJXvoyXnnsK1RUlbjGalhbcab2Fhbk5bCytYHJiGleutuDK9Tu26mtVXQOe+8xn8JWv/gReeO4s00mnnyGcv3AOV262EAhMUw4EJohQnmnEI0TaqSEbvTnY3Ihj1M0agvX8khJUNB/EqaefxpETx1FXV2OLljQ11aOuppJAvhBZmXm8V4MDDYdse5JsAlfZ2hKBp5M6E2xKJhhJlj5trtER1ayvav42dlhXtVWfqm2cSGeDTt8Lbq2uo296Ed3z65hapw5GQsiMptrWEPHVVYxTRtouJT0cRElRLsFrFss0HwX5MQ1Uo6+vnyBqgnWOXLAi6Ntc1Sm9sEmhTiSpjDeZcHzN8Ns6gcz62gq2eLKxsmILGGk/woGxKXQMTWJgcg7BWDYycvNYpALCO8yr09y15RX0Tc2jn7KNpGeitIj6VViAwwSYtYWZSFpfxOjwAIZGR7HEeDeps6Yh/NFgoPFDHjOzspBD8K6VdLUa7sz4OIhLqMusG/JIkDQzM0UgRKBHHYxl5bHNKSY/6cxZkDLWSrPMIfVS7aj+1pZXMTEygts3buLqpUu4dP4cLp6/gAt0589fol7QnbuEK1duoK29k2BR03T1tkVVhuUg8C1ZGRB3zgAenQf2yL7LjGVIR7UXrMt0mgWwsb6CqfFR091LFy/h3HvnmeZFpn8R5y5cMPfehfM4d+kirt64Ziskb9gwnNvbT6/s5NKYbID1Tp8u2mztDdVp8sB21c4ZpG9sAbeG5jE4z4tgBBkZkg15ZhCPTbWL92I5f8qlTz755JNP+0m29KeQXHdo40bs+ALBIHLy8u0bsJRUGocpmpJDAKZ5YOvLGB7ox8XLVzA4OoFwegaOHT+J3Jw8M7QE5mQMhEMBVFQUIBjcwsLSDAaHh7BE42ObhogM9xQNM9Gp89VKklvsxW0iXNI6/dDgWp3FDA1VLaM/wXTGhoYwOjjM6xEM0ZjTcttagv7qzTs0foC6xoO2MMdaPMmmWq5sJdOOzUA0I9emkMpw0Hd2yUkEjVtahIKByIsZ63oLT761uXhDZTFiyRtY08ITBHTanDhMsHfw2EEcO3nINiB+85Wv40//y2/i937n1/Cnf/qH+Ob3voW3zr+LK7db0DU8iEUajrGsILKzArbsvUlFojUnA1hOcNbJwpka+k24BDhzXwVJqPQp8KezhH9hLmdc6UgjmGG0U5ZM2uTtNJNvKtPSYi8a5VrY2ECIxmoOAVqShrhowMmAlFGmUQS3B5tEQoNRjqRV6PKoAzsbBNCzM1iYnRdmwk5KmBkKY32DRqpWcWw8gBefeRrF2Rksn2G88/YF9PSN0nCUQcZ/6pRGXhygo+F/D6CzVRxNGiQalPomaZVGt74RE3DIztbCL1mIshw1y1RqGGB82qNQIz767swEYiO3xKKhNFsVT1PvtDXF8tIybXtN/UxGkP62CRjmCXDF6/jwHMZHNU13xKbVDo2MY2hsAuMz85hbXsOKgAjFTFUxPbUMUdKOmFgqDe3MXNQSzD353Av2rVhJXi6qSgvx3NNnCKJqEQoHbAEJbb+hzcZLCf6OPvkinn7hZZw4dRKfffFZ/NRP/gSeOH0SRQV5zP+mbbCsDf3b2jrRRoCcnpGHlz73JXzpJ/8Wnnr+eRw5eggvv/QU/vZXX8aXvvAiyzQJPYMj6OjqJ5DaQXAnTMmFCKSSsbZFGVE/igjoq4oLbIXRcEYGMgk+KxoaUFSmFQ4LbTXPJ86cxOmTR21xmPy8YtTXHcYzTz2PQw3NKMmKGGBirq1cnBYLjGjclbq0vWErzIYop2TpzPQ0hnt70d/ds7tFwODQIDq7O3H51m28cuEqznUMYoYCLiovRRXbi0zWl/jqGstlEoO9AygjyKyqKEYknIxYNIDioiz7Xm2Iee3tHcWGhrhUJNaQsI6zLgi0J1NRN5YX3KqIoyxjpj3Kujk8OEAAPI6RwSG03LqD7791Du9ea8Xo3Aoq6ptR3dCkz4CZJ/fyQZGOTs2gc2QKQ5MLyC8qI/iuRi7bhIbyYjSU5iI3PQ2zTEeAbn552Vax9UaMrL4LEfGoKYmZObnIKygwsLQ0PYNpAkrbJ1L1mchzdHQYs/NztpJrfmEpYtmF1G9t+J7mwJzmqm9rAZBUBFICmKYeX3jvPfzW176G/9///r/jl3/xF839+1/8Jfziv/9l/OIv/jJ+5X/7P/Crv/pr+MM/+GO0tt7B8soyE1N1kV6QP1U8c4ybF8msR6pb2hZC51Sd3WeuzUm8nEneQlpqEhbmpnHl8kX8xq//Gn75l38F/+YX/h1+6Zd+Bb/8K+TnV/43/NIvk49f+iX8H//f/w9+47d+Ezdu3rDFgBiZrSQcYlohRh3nvblxrWI5ijFtA9M/jImhMUwMT2CkfwTtrT147b0beO1aJ8ZXqDMsh8bGepvOKv5VK6UGexnyySeffPLJpweTbJlPMRmks44xNU2b7xIGyRbR6AcBAZYXMXrnNi6dP49zFy4hmpWDg4eOorn5kC3ZrS5UG9jKAgiF01CQn0HjepuGvVvIYHF5BZvx7QSgU5dru4/RMd1knqUSWKTGEY8vYmpiEO+8+V388R/+Z/z6f/hV/Oavfw2/9eu/jt/4ta/hd37rt/HHf/JnePX1t5EcTEfjwaM4cuwMQWgxje9UTC2sYpk20k5yEGnBqI1mOdIbd32r4r61sfRpqGhHLdmEgWAKjfEYstP4bGsNyzTOVjZo0ROpZhCsnH3qFH7iiy/hc88/gQYan1sbi7jZcgXfefW7+KM//xP8xu/9Ln7/z/4Y33ntFTPC5+aYlkaS+C/FMTBGJ6tDb+wF0jzTQ057j5nhJPPYAJo3OicnUJc4S+THA+AKc98IneImONpYXsISDbhVluFWiEZ+hGBMRpskTznY8IU+WuN1cnIq7UWl4Ej72GVFo7ZhOBEGQfYaNgkONhn/Nk33neQQcVQEWdSDowcO4EhTPbLSozTuruPKtTvoGxwls6n0p7xI3jT6mdZ9gM6OPDPZUBtojGs67wqBl6ZnBslHGvVK2xyYNKiONuqRwFWJgxMMXRqRe35ulhl664xjM65RBwFi/m1tm9F46+o1/OWf/hn+82//Dr5Gnfrar/8G/gOPv/q1X8dv/u7v4a+//Qqu327DzOKqATrjVz82fKAUxS+5SWIdCYQRzC9BSXkVsgSUCCgzI0GUFuYiNSNIPywZgRzGs76xhbGZRQxOL2NynuWytmqjUlVlxfjMi8/jMy+8gGNHjyCDclxaWLL92wYGRll34kwqjLmlFQwS6PX2dROg9GBtcYw6tkoQMIM+AtLe3iHWU6a3rc3oIxRpgLpEoJ+SgnAa+QoFkK6tHEJBJDGNtFgGUqj3oWAqAVPYwF5RQa6B+TDrTmZGIUoKypDHfEWpBp4Oa5c2kwHPbISOdSuVxyDzGiCwmyRwuvTWW/iT3/99/Kff/i0a+1/Dr33tP1LOv2ZG/e/8wR/hu+9dwshGCioPHcPBY0dQVV5gcUyOaD9E7YW3jrqaKroyxNJTkRELEHTmQdtArCyvYrB/HGMj+uaObOhjSNYDfXqq0TnpfWfrbbz63W/hv/zubxsPv810f/s3f9Pakd/+jd/Af/69P8Dr71zELKtp84kncPTMkyivqXWgQHVjZ4V1fAndA4PoHZ/FZkoIpeXVtjBUmPJMj4ZQU5iJ+opCrBI89g8PE9SNY2VtPQHoKBsetVWLjqmplDHlat8kh8NYXZhHX0c71tmumk7tbBnonZmbRW5+AbLzixCJ5VHCrGvbbnQuRfrGWqAaLBcKBJEVi6FI2xqUEhTbgihuJc+K8kqmVUUQXGazFDIyshBmutqI25GElTiK2C7YSJaYZz20usg/V7/kJ+FY8dRquxE6chdIoe5E2N7no6KsnIC7hmlX2cyNUvJTppH+inIUlBQhM5s8RCK28I+QuI2ksm/ZZN/QfbsVr33rO/iD3/lP+P3f/k/4z7/5O/jN//gb+I3/wDr5H38Lv/lb/wVvXriJma0Ims++gMOnn0BdbRWCaZQFGxF76eIaE8uLR/tOffLJJ5988slI3cUnkLzO+F7a66TdnzrwTZuKJ/CTlBRn305DPr6C+YU52yT4jUtX8e6VaxgcGUVjYxPOnj6FmvIcpAvHMZQbpRM4CtAo1N50KdggGJikkTJL43qVHbj33ZjIwReN0GhT8CBS6DQDcnV+ES23buO111/HX37j6/jGt7+Nr3/nu/jLb34X3/n+W7aZ7tLKiu0p9+xzz+DA4QMEXZnkeYdG2BpSGYk2LA7S4JCRJ3I5ZeIyXPhnafOm2+BcBkwSgSxBSmLBje14HMmb+kIrFclpUTQePo3P/cRX8bN/7+/js5//PA4dPIxIKIKl2QUaZl248t55vP3K9/H6d1/BO2+8acunT83MMu4kbNDg3DawpLyKC8qaBpEZIbwrktHnXZjhzKOcI5aP/CYMlrue0a8z71y8Gl2QsaSN0jW1aZMGUyqFnrbtJrvK9xYtIOVsixFu876mUiqfqUpABaT0kwiiCCJS6HZoSGp0Vd8LasqjAVIBQIbSAgtV5WU4efggmqrLMTPSh/brF9B266YQDDYIKDbpVzBOcEhTJCVyj39pnl0kCmRLf/ZNj0ZJaL6SV31fSV98knBiMRGBRkF2QZb8ahpkkGAmJc3StHty8kVgu7g4j/6+Xrz7zjv4HnXqW1//Jr71jW/hm9/4Nr79jW/i+9/5Nq5deBdDPV02yiNxupJjmrsWo9I3IZFnPtWLg3AmUlKCBFKUIw3WJIFngWGmHYxmICuvgIAvSkA5hO4b53D53ddx+cJF3GnrxuzCMipr6nH4xEnq8iEa8hEsr81jXKPUY3SjbuPni+fP46033mK9eAvff/1dvHfxJto7ezA1MYHZiTEeR21/sE29tNBILIVqpU591vdX+mYywPsp5DGFgDxAGenlip6l8Sc9lIr0cCpCIeoDs6VvViPhAI12ZoV+BKKdvFmSprDUAwFbprFDfdlmnHEC/vHpebS0duC1N9/G91gnvs36+42vfwvf/tYrePX7b+PixcuYm59FCQHai8+dwalDdajMCWNzdRGdfX3ompyzTdptNde8bKZNflIJKvMaUFV7iM3TBuYG2zDUeQsbaxrZp5wp+03KeoN6s0qdHxwZYTvRgrcILN968zW8+ep38d3vfAN/+md/ij/+8z/HN7/zHYxNTKKEAO1zL7+MU8cPo6IoYqP5qTsb2NlYwQKBcndPD0bGJxAgCM7PzyHIDVubKF0NZROg1dYivr5mIHaot5tgc8U2AtfIv77ZXKeTzqqG5UbYjpQWoTSWisDyCPrar2NmYZHaG8LCVgh944uYW9xCYWEpCnKpM1FNiSbg21ml7hEAJV5aSP9ZwwkQY7av2/MvPIsvfenz+OpP/iR+8qt0PH6Fx69+9cv40k98Di+9+DROnTrCvBaybINWW2xqpVf3EjotUj+wzbTcdEu2U2oaE0+ckyKoFVMLm4b0WA6qqhvx/POfxVe+8tP47376Z8jH38JPfuWrdF/h+VfwUz/5JfzEFz6DZ58+S7BZQmCpsfYd269wWXUyvone0VFcvXULr739Jt6ge+31V/D1r/8F/vRP/gh/8n/+If76L/8SY2MTKC2txOc++wWcPn4MVSUF1vfoZY+qonNsB825a/7qxyeffPLJJ5926RO4bYHrih09qGNzUE4G8Y59xyFQR0OaPaQ6RVmzS0sL6Ojswutv0gB+7W3Mr27g1Nmn8bnPfwEHDzQjkkYDUV7pZGTLOASBYFp8GTeuXkT/1BzWUkOoPnCUhkohDURNDXTcGACRebG9SeCxjrb2LnT0TWBwchlnnnoOzzx1Ck+dPYEjh5sJ3o7gwKGjOM20n3vhZXz5Kz+JF198CYePHEQODS19E6LNxjs7um1vL+2Xd+jAQRTk5yJmMx/1Eb8WdqEBSnBiRj57fDmtsDY3NWUbK1+9eh3bKQHm8axt0puTqWW6Zd2m2Ihfdq62PChBU9MBPPP0czSWaKg8+RSOHz5sU4jGR8ZwnaBXhmYoFLCFUbRK4igNlisXz9sqb9qAupr5SYmGEaHdTVMYafoOyUEebM5MobV/HO9db0NmUQVqtD9dY52tEieDU/BGcCpJHyjF19Dd2oqOgWlM0hhsPnYGTVV5iKWtYXq0B72DU2jrGkZDo/Zcq0JpcZ6Vqy18IENYoxs0yrc1mkhnkztZiNND42ht68D1Gy0oKa9EDQF8aWWVbQnQ39dP4L2NAwcOo6G6Ghk0EmNpAjJpmJycwvzsNDYWRlBTlkUANYmeqWVc7R5GbmWD+S8vKkKYacg+tbf9hj14wTKM6wXA5ARuXLtGsBhAblEpGg4eQYTlIHwkTKXpYt6+3AZkKTtbJXBzAzMEE+cuXUN3v7ZcCOPFlz6LrOwcAxDvvPs2QVcyKqrrTb+OnDiNM8eO4MShAzh15DCOHD2O5mbq2oEDqK+uRElhAbRhfrKU2gxgUkJn3FH888fu04vqEv+lZy5zOhJEhdIQCBIgp+mbtyn0dHTi4rtv4p03X8ftW7fRPzSKydl5WygoGtGI5A5GBnpwu/U2brZcJ7Abs2mht27dwU26ttstaLtzG3fu8Lx7CNOzy6wDRThSW4ZTzbWYHx/A1a5BzG0FkF3ZhCM1pcgL72C67w6utg9iYHYTWeUHcLypDiXZAcSEybY0/Zalr+wksrQva+Zc/RGip+5R/9wYu/IcwEY8CS0tnbhw+QYBaQ6aDh7DM89RxseO4jDrhpalP3XqLJ5g/X362efx8udexnMvPovTxxpQSjCXsrmAmclxfOf7r6O9fxQpkRgOHz9hq5rubKxidXEZ8wurmJrdYB1twfrKCvUuBQ01FcjPyTA+R4f60NN1B+2DEyipP4IzL3wJP/O3vozPPnMSZw7X2sq8ydSpcDSGwrJqfPmnfgYvff4rOH7sMOt5SAvMIpTEepi0is2VadbZCQLnt9HZO2QjzY3NTcjIjGJzfQkbS7OYJ+DTPpjXWjowO7eCCCuo9nrLzs1h/VzHxHAXRvrb0DE0gfzKAyipOoimijLM9LYhPtlPwDiFKurbdiwXY9MLOHf+CjbWWYe1d19TPRbmJvHeO2/YyK9G3A41NyDItnlM+9BdvYZk6mZNQz1e+uzLaGY7WEf+tI+i9oGr41EL9dTX1Rro0/6duQSJwWAq6w+rWgK0WZmyHDfWlk2P3nj3ClbiyTh5Ut+E6iVExOqZq2MaudRLszgm2da23OrG6loqKpi3L/7El3H8xDG2002UgdKsRz1dbV2NfaOpfR1ra8gDyyqQlkIQFsD0tPbcG8aNW61ooo48+8JL+DJB6NPPPYVjxw+hrLwYWthH06hLyyvwmc9/Cc+//AUcOngI+XlZbEtTEDT+qYvMj7fxvlVCI09zffLJJ5988mmP2K19Ekmdm9fB3Uu8zw7RgTq6ZHbwRGcaS4lvLdNIGcf1lqt49a038d233kVaZh5O0RB++YtfQl1Dg21qncb+UiBDNu9u18k4hYEChvS2bWRulcaDlj0RZHHvhhOmsFAgAZYWTtjY0N1UGk1ZNAwO4dnnn8dnv/h5Gl2fo/sC0/0KO/Qv0iB8ASdPnabhUIXMLBp87NA1jJKeHrY95iKpqTTIaABOjRNbxm2ExeVQTNJoTYyWiTSBKcB76wRgQ8NjtllvJJyO3KxshBiPNk+fIEiYX4q775FSgsjMziZQK0M9DaaDjY04TSDw4lPP4OVnnsMJGhv6VmtoYABtNNwn5hYwF9+0xTfEg95ty4gSgN4boRNn7kzEx26UTs7u7JhfJzdH7j6J8tNG3ja1ywzsTeZvm+AqBbGMKA2yTIKnAFZnFzE3OWMpaSqjVhXUtNSdpCD9B2hgafxOcnFqPj+3jKmpeT4PIF0LRmRks4zph2lphG6byEomvTgRwMnLycah+mo8f/YY8tIDGB7swflLl9A3MgF9Trej1VGJyLRaqfumzuVB+dFrBMudMkyDNRQO0vDLpupsY25mFnNz8yBG93yZ07n0VlxYRLJSWY5rG5s29U2lnp1XgGA4Qv7oS0O/lFEmjePamho8/eSTePmlz+Bzn/0cPv/ZL+AL+kbtc5/H5196EU9qM/vKMmSG02zZebeCqMhxrbRFuisZaCzRALLKwZ7QX4Inl+8QCkrKcebUSfztr3wBf+dLL+DFJ0+htqoKVA3cut2Ob3xbI9DfxpvvvoPRiVEsr86T5zUCmnScIuD4737qJ/HzP/ezdD+Pn/3Zv4e//bN/H3/n5/8H/MP/y/+Mf/ZP/in+4c//DJ57+glE6V9fpG5qlJOMqkw1yulGcGWQU3oS9TbLgkDeRuiUPxn3euaRy7CRrUYox3iVYzcKLL/0xDj0ekF6tEWnqbjZecVoaD5s9fSll17G5yjXL9AY/yyN8Rde+CyeeuppnDh5jEZ/BQrzogTZBAvzowZiO3r7cGd4Ej3Um29+4+v4w9/+Gn7jP3wNv/br/wW/+0ffxne//y5mxsewOt6N3tarrGf9mFlgvjQKLlmnpSIYiaBYm2Y3H2A6BHOnTuD5Z54gDy8TeHwRh44dY31KRjfT6u3tZx1fNRlo5deknVVgcxXr2pB/bBgDrMd9Q8MYHBnCK9//Lv7g938X//HX/wN+9Te+ht/94/8T33v9dYwMD2JpahLD/X0YGxklP0s2DXqT7cAGG0ZJSjUrwuu8UAC1zHNpZBPr8+MYm5pGx8Qi2kfnbc+99IxilJZV2mI6ackLDLfI9mJNBcZ41NKxDWVZxDVczrg1vV17u2XnZBGwZSLHjjm2gXhObhbyCHzymF52TsReMNnefcyrtfn7y1h/urZGRwoiLZdzJF1yP/LEMtfUa+oQWOapadqoPNemX2exPc7NyUdebh7bhBxzBeRDI455OTH7vtpeeCgvrB8bLLN1yiVK/1WN9Tj15FmcfeosnnvhGfzET3wBX/zi5wi4j7AubFLOYxgaHGNbrZV9d/SVKDlZ57lmlEjKnl56vHvOJ5988sknn/boEwroPoBcT81uWgbNto0WJW+uY2F6Fl0dvXjvvcu4fLXFNsw+duoUvvCFz+PpMwdRlJ1qC1RY/64jHe1ZxsT4ZBjS2ft7Gk4GV3Tb0iLtGhJmQfA+zcTNbcRp3cqLVtbUdyAaKTl28CCOHjmCo0eP2gbnBw40orKqDNnZmQimpdE/w22wQ6ehkhGLoLKsCJFgEpYWZ9Df14fFxUUDkW5Mi4anTCt9R2KYTk/WaLusYGFpER39w7wKISOHxkhuNoIp25ienMClS1fR0TmAyck5rItHWj7JKTSSNdNLb/UzQshnuidPHiLQPIyysnysrczbyoXzszO2cp+W99b6CFokxL6XMzl5EqD4JBoTkuAWDS4aPZpapW0LdEePRZ5/xkK/MmDcN0xmaJsvxU+mAumIZhcjL78AmdEgDc5BMzjXVrVoeJgGUJjS0IS8hGKbZS9DjjJhtOOTQxibHEEgHEAGZaH91VKTCV30HdyOVjZ0ZWyp6tue9CwUlWphjaOoq8jC9voCrl44j672LizM0Si1qYg0/gJpiZE1Rx4MNdVgxvStUSQaRVFJCeNNxsjEpE33nVtat9yp2Dyek2xxF/HMgALpBHNz8wsYHh5HIDVs3/RkpAdpGMcpqg1b6jwQTKdMitB84CCOHK6hq8WRowdxkEb+4WNHceTIUTQ01KOouJjGcpiqIsjvQKuNzBl5R0d3XylPKhsZluRPhvh23FZsrCaA+8IXv4y/SyD2P/zD/wk/99M/jacJHnPSwxjo6caF997FW2++hQEarQsrDBsIIzO3ACfPPIG/+9//A/w//vk/xz/9X/6v+Cf//J/in/6zf0L3j/EvdP5P/zF+7me+iieeeBK07ikbN+Kqje71J7ZlQ9tLAv5Jrpp2a4sCOZYfg5TbhLPALveeaAQYMjJiKCsvo4ybcfDwIRwhID124hDP61DfoE2ni1GQn4VYJGQLcGh0cG5mDt3dfRgemcLcYpzAPBk3Wjrw2hvvEUi9jtdeew0Xzr2DzrYbrJfrFOs8+nvvoKenCxNT8wmWBFi031oYGZk5yM0rRF5BDPmFxSisrsWB48fx8mdewEnyEgkl49qld/Du699F++2bmF9YJEgSUAmySqViaX4dw4PjGJ+YxuKypjwm2YbuWsHxjdfewauvvsu28To6qd9J8TWkbS1gcqQP/QSAI1MEdGpJxY/ebEnOdNLR1GAQeYUFyCLw0nT06YlxDBNYDhBYJiWlIotguKi4km1bxKb7GrZi1myKNvVJreo2K8vWNtsI6pgrX41260WV5G/JWTkk6z7PVd/0wk2i9srJdNoJzZxrp+lR12rI7yKnR26asa7on36t7rIObqlubWlBKzJMSqKieTG4VAi0KQtN47bz3drvSFM70yiX7Oxs5JXlIVaUi9yKKjScPIEXX3oep04fZ7sA3Ll9A++98yb7pTbMLcxbq7e5Iz5SGSM9aOEYLw93OZ988sknn3zao7t7oU8BqZPWr6xpW5FNoxjrq1iYGMOta9fx13/1TVy4dB2RWBb+4f/4j/CFL30Zzc21iWl/jjT1TgaG92frJW5tYnltDSv6hmqTJj+N+WS9PZfRvUvyzc5W1gePWokvVftWeR/tK06LlyRvcjzdoqFqS6ATxOlbK5GMbhkvmbF0NNVXISczgqWFWdy4fhUDA4MEa4IMCq1vNxS/0pShxdi3V2lMjqCnrwdXb7cjEMtHeXU9cgliAgQ3t27cwC/+21/GH/zBn+HipRtYXlnHpqYnkkx6MtxtYZF1GiUEo5FUpKcHEKLBGFAS2vBYhjX96fsxvV23pfZJ4sgd3bW9XSZIEzhT7NsCdboyY2uPTPYWh0CDpmo6QKcwbswqlXeCiOWVoaq6Bo215Vic7Met61cwODCO1XUHikROwgK2dNrbbmsVi2N96Oxuxcj4ILLzc1BYWoxcHrWcu5anB403txcVw7PctAGChmQ1MlJXW4qTR6pRVZqHvs52XLt4Fa232rC5yZSUD/sOTemSe2WX/AroOh0ihklNsVHX+qZG2+NweGwcN1vbMDQ6Aa1eriXOPf2TgWplqDJgZMNDw2hpaTVAl51TgMOHDiE/OwPpAcF46il1dZ1Z1FYYKRqVJNuKQ+lr8R/xo5X9bHNlHuXc1FxXVs45TfLo3nPTWfIj43ZHS8NvbmB1Zcm+x9JI4yYRelZ2Hg42HcJPfO7z+Bf/t/8Zv/Cv/iX+wc/9jH2LODFOADs0Sj5TkZlTxGOSvUzpJ6hdjcetxFVlTCO2N1hdlzA7Pc2413iu71/1vWCq5UUyte+g6KRj0nxxr3rnvqN0o0cm+Mch8+9JxJG2kLC6YA+ZFlGENrIWntkRkrQCc7xLnrrUWq6m+5txjLGcb7d2YHVtGwePnMU/+r//C/w//1+/gH/9C7+MX/g3v4h/92//LX7hX/+/8a/+5f+Cf/Q//TxOHqulTMfR2dmBfgLgDWZdI/xxufg24izkTfJkHCVAlQo7X1tKnDqKr375c8jNCKGvowXf+eZfo69v0OpFUjI1jKBudnKRAKKTrO3g6LHj+Mf/5J/hX/7Lf4Vf+F//Lf79L/4K/vW//kX8r7/wK/jFf/dL+B//+7+LY01lmJscRpf2yBuZxuqmNE6Ajm2fRsOVU+lWIBm5BXk2LVNyGB8ZRW9bOzrvdFjd0FYFufkl1M2Qq5IMp+nvGtHX96U2VZJ/au/ct6GMV+XL64SIrZztyPi9xYRUUu55Eu8zVlNqzzlwZucWo/5ESkkyFHBMlK0XxmITD3LqA/QyTu2I7j6IlLJtHMKzBKcCjgyvb04DgQB1RqCMjxTNxqotxpRfXICTp4/Zt4DhcAB3bl3Hq9//Hrq6u7CkYXu9TKKM3becjM/aF8ebTz755JNPPj2I1Et8usjZXvajLn1nYw1rc9PouHkDl86dx/VrLSgoLMepM0/hxOmziGXl2NL16+ub2FhZxdrKMo0n7b20TpDCDl0GB//i23GCuXXbaDwlkIZoTN9uhAx4eWTJGsmk8zpgGQfJBurcG2bzQHKGg7zoOwlv2pBu2UiZHI0lrbZZWV6EA43VKMzPxtjoMC5pf6ZLVzA8PotFWmziSYbHzsYiVufGMNbfjvfefgXnLpyzlQfL6g/jwNHjtnKbvg8M6ZubUBRtbb14+53zuHT5OsFfPyZmpjAzN4X5xRksL81ibWkSg4NdNAzbMTrWzzxs2/ciORkxxpNm094E5OJ02mBd+Xc5ds6Iz2iG0zgROJMkiZ2YSY2keJ6cf/3KL/0xL8m2v5uNldlTAbr1nVSkRnJQWlaBZ584ieLcECZGhvH9V97EteuDGJnapEFEo3dLWzkQkK4vY32KwPbODbzyvW+grf0m091E06FmVNRUEYToW8ItA3TJLF99w6by0WqcGkXcUBEGUhFOT8WhhiKcONyAnFgU4wRXrbfuYGZmDtqHTBa+lRu9WzZImq4o8GHEskxnuLr6BlTV1dn3Tjdvt+H8pWu4cUNyJ3AhqLa9CQUgVlexNDGBvlu38fbb7+Ly5WuIRDNRV9eEpoZGpEe0iTVBr+REoGYLvOibQROuE7lJnUzZwASP4s8xt3e+97dH3rnz6cgZuDyqyAhktrbizPsE69IVfO+738P585cxODTH/KcgEoshPSuKgswYMvTtHPOukbUkGvOZNOxLKmqRnpmDsakZXLlxE4Ojo1hg1mXSx1nnZidG0XLzOr7+139JI/f7aLvTBqxtMH3BAAFRaQRNcWZWuNdGgUmqb+4LOPeiQM7435+R/bR73zu5xzECpWMnuqW7PKqeSosFRRK2uxW8AEoKnYC5/K8sLNi+g11dfYhm5qPpwAmcfuIFnD77PM6cfRZnzz6N06dO27YKTz91Es8/cwJHD1XYNiIDA322J+XCsvKp9iWVOk0ZsXyVP2E5TVc2BqQvgRQUF+bg2JEmHDlYR7C/hRtXLtm3sz0D0+KI9ZkAc3gKXR3kh7p06MgxvPDiZ/Dkk0/j7OknyMuTOH36GZw6/SyeOP0kXnz2CZw6VI3MSAqGhobQ3juKmcUNAkq1S3p1kmTf0VrbQzYyc7KRnZdDgEJA2dWJOyzbscFhtpHpyMgpRIBYzkayNMVbekryRuc0SmY6xjZSL7TW1tewuLiElZUVAtJtFv8Wj5t0G+aW2eYtLq9hYXHZ9gLdtP1EVQYSinMGNhPO3SOpOHUQmGS6upG4RZJfBwI1FXIjzjq5zvTXlrG2tkSelpg201tbxTJB19JKHEvLW3TrWCEvG+viwfUFbiPzRCZFXiLGHy+CqSgsycdTT5/FoYONCPP66tVLuHHzJnoHCMJZ2FuUkzWZchZ+L28++eSTTz75dC+ZDfppJY0saDGRqfFpXLl0FZcuXkF//wCKi4tRXVkuMwmjg93oaL+Dzq5utHf0oLdvGOOT82ZIuO+H3IQafQ+3QKNofTsNwXAMBXl5Nr3K9oJjWjLz9FbX9d0yDtxbYPehPu/oWy1Nz9HbV/PhQpkhw1M3iiJg54CcM16TEQyFkVdQiCNHj6K5qY62QBytN8/h3Te+i1s0AgZ7ujE+MoLR0RF09fYYUDh3+Sa+9+Y53GprQ25eFo4ebcQBGg6poRBSw+koLimgAXkSKVvzaL1xAa9//zu48N453Lh2E3daO2xaqjbTvnOrA5cv3cC1G20Ym15GKLsIpeW1yM/RAiVBk4syLCBho1EylHbtDc/4oIBs2lDA5EnrngZdnMa4RuAcSWae3Jx1rC+b6BinjQqZDFUeNG3LXspKAAC1tUlEQVRT01BQUICzT5yxTaNTkjbw9hvfxrm3voOWa+cx0NOF0aERAt9xGqKjlEc73nrvEr5F0DeifbcKy3DsxClUVFYSLGdYuewIDO1I3jLIxAPNZlc8ZIc/qUGUVNazDE4wzWb71mVieBqL0zPYon4xZ4nSdN5NF6hbntmo/ITCEVRUVdiCN421FVicHMSdy2/hHMux5doldJPvkdExzExMo29wBDdbO/HG2xfxzrnr6BuaQH3jARw8fASV5BtaIn2badLZtDMmaiMeBHgamUsMtrIsxEzCGXcfntyonisbFfLy0io6Orrw5ptv4rVXX8HVKxdYd3oxQ4A2NTCEjp5ejIxPYmNzG9GsTGTl5qCgpBiVlEF5aTGx9gJarl7GbY04EwBMjo1jeGAEt1s68d47F/DKd17B5QvnMTw8aKMaW8zfNsG3XrC44Q5KlvzYVhi8pW8TU6kr+m7MK4t9Pw8gd3/vlzJMHHeddNqcq8e6djb5nrbKKT2VuyCnmfREXmPjM+jppw5SD4uK89HYVIma6mKUlkRQVBRAUWGUdTMXmfmFyC6tJNg/gPoGLZpRxbDj6OnuwNTUGEFT3EYDNzc1xVYvHxKwQSxsUw+21J4EEU7PRUV5Nc6cPGVbRsyMD+HG5Xdx5+ZFTM+vYWBiEq0j07aYSU5BKQ4dOIwD9bWoLMxHYU6WfReWX5DPZ4WIsn7pW72GAwdYZiWYmJxCd3e3LdC0SnC1yTZMr1w0qq9p1xJCekYmMvMK7Vvcvt4udLZewfzMCDJiQeTkqZ5JbVQfVDskQtVnnVkNMV1VlrS1x+TUFPr6+kyfetmm9TDtnu6uxJHtdUcH2tvb0dHZgeGRYczPz1tNs/aFfLlxW30HqemmjDcx0mplJ2Y14sU2SdMaTZ+lR6ZflDHd6voCZmfHMTjUQz6YZk+P5b+rq8u5TubPzrt5vwcDBK4zswuWtnKjl1txlteW2i3pq25KSfTyzxqWFASiOQT5B3H21DE0VeVjergHt67fRMvNLkxNE0ianPfhOZ988sknn3x6H/oErnK5n6yH3kfOhJbT+TY71YVpGsidnfjmN76Fm3c6saaNbFMCNBQHcO3qeVy7chHXL18h4LtOo/Q6QVE/5heXUVBYZCuxmcHMv+WFeQKdLrR19iIpFEPj4WOoqa1DXlbUQJ1bXEHvd8UTu/HNdXuze7u1FZ194xiZWMKTT7+EBhrz2VFBIXbTZuWYdyNN6TKA5y55n0Y7r7UZenZmhi0IoimPI0M0dGjw9dHIGSOYGxzopaHTifM0gN/TnnoXL9OYnkZRaTV++m//DE6dOYWSknzGz7iSUxCJpKG8OBfL85O2T9S169fR2tqOWy23CeS6cOvWbVy9dNm2KrjEuMaml5BXWosnn/ssztJgzCvMQyqBjJbKP3fuPQTCYWSXVaDu6DGkpqcjygxoY90ADWwbQWAG41PTuNk7jNcJEGMFRailYX+wucktH08fMnNS9ep+e4NWzBo6brWgpWcCwzPraDxK8Ea5ZUW1khzNMBq40XQasWn6hhBo62jDEMuzv7sNI4P9lI1Aejtu3mzBO++8h0vXWjA2MYvmQ8fxzPMv4TjzkJ9fgECAkH5zi3rAcu/uJZfJaD54iIZ3FcJhbTnBMmF6Yi4pGEQskIZIajLmp8jX3CIWNlNRd/gkjjU30jDOs8V0hC6SmQ+tUOcKljcFhmjx6/vIWCwdGdSr9ZVlTI4Moau1hUCmFwMD/TQe+3HnThsuXb6KCxeok1dvEBAlobbxEL7wlZ/C4ePHUZSTSTyzZtOIp6Zm8Mob7yCeHEBxWSmB6gmkxyL2Haj0VmatVMxGLuyfPx9Ano/7fbJeCYwzT4pOpI3qh4cn0d7Ry+MYRof7qRPduHrtCt65dAW3OrttewMtBnTq1CkUFBUgEkrDdnyNMhxDpwxj+tFI1tjgAK5euICL751nnelEhGD7xMkzeP6Jk8jIjWGs6zbO32rHHOtvfnU9jjdUoSA9gDGW+blbPRiciyO3sgknm6tRnJVqe8w5XsUs3X0ZSlQ63rezhBdXh6mHNPo3aFTfuNHCenWRZZaJ2vp6NLGsgyHtaele9lgYRiCnkfbtnQ0szc7iGtuUG9cIxkcnceKJp3Dk5AnU1JTtTomVvls4S4tglIb+6soqpudWDcxvsVaUl+RS7CvU6U7cuNOD/LJ6lFUfRH1Vnq0kq6m61uKkpFG/Ulm/0xANhbGzsYEJgsIB1oWVlUWCvTC6+wdw5XYbbrZ14ZlnX8STZ5+0zeLFv9oZB3jEGOOj/qYkbWJ5eQ7DU0u41T2G+fVUFOekI21nEYtTA2jrGUZ2SR1Kqg6gsboUaQy3Tv+TM7Nsfy6xvo0hLy8HTz31JMFhE3JiIdbdJHvh8tbb7yASy7Q93dQGaHsJbVJ/8dIl9A8M2tYLE2y3O+0F1W1cZlt0mc+uXr6M61ev4coVyvbmDdzms6WlRZslkZurlW7JO9s3yVflqD0bJ2cW8Oob7xIgbePsmTMoLS6ybRrc9E5XFoLh8fgyxkaHqHt30NXTRzA3ghFed/ewXbx9g3XyMvsHpX0Vl3m8dvWmrZZ748YNW8FWbWtNdQ0mJsh3Rzf9X0I9AXNDY721JzYsaW8eVPJ0GuXU6D/lnBRfYv0ZxtjkAiaoxzm5RcjOzqDOsYSt/UnomcrKJ5988sknnx5AnypAZwuU2NvzhNvexuriAmbHJ9B+px0La5sIxrJoq6VieXEWczNjWJidxNzsAt0SZum0j1ksIwe1dfXIzY6aYSyaGB1jR34DgyMTSM/Ox6FjNK5pHGSkJ1YNNGhBkpVA2iEw2Yyv0KgapJEWR3w7gieefBE1VaWgzX1XBy1uRQbm1IEnSGcWHTv0NIKBaDgNOVkRSzMSCiKuKUgEn+PjozRABmi8TJGLZOQWFuPAkZM4+9QzOHv2LMFLNtJCbpqUXChtB7kZAWSEgIyYltyOIDklaKtiztAA0oIfq4tL2IlvoSCvELUHj+Pksy+j+dhZVGthDUW1soLZqUn0Dw0ir6gIxXV1qDhwwDb6TufjNBqIcgbomJEk8tk/vYgOyq+Ihk99TbUtP05MZoBO4ENf6CTtaOrhGsYJ0MYXCQQDmThw7AkCwFLmO8mMQtt7LC2ZAE+rc2YiKyuGCGWj/frmaAhqm4VRltfszByN3QCKSipx5MRZnH7yeRvlyi8oRCicaka1vifq6+3D3MISMnNybWGR8vJSW1bcMwzl9E2L0s0ieo8vL2Jph+mFsnDg+BM42lyPUsk4iYBnJ24g0L2rT4S2ciUA0NTLSBDZBOb5WRnIiYZsutWG+J6bN56HhkexuLSKtGAEpWXVOHr8NE7S+G4+fBQ5+VkIafO0TYLezXUsLyzjRlsHQpk5qKyutv3ewulalIOypDfHvyPpkXe+p2H3067/xHGXVI4qH0aaTANaU4i16mgopOX1U2wBoNnZKYyNjVAfx7G0EUdReSUOnzyJk6dPo6KyHOkE+yGizSzyGKMSBVIDBDEEd/MLmB4bxzzLKy05DSVllTh1+iyOHz9B8FKC5FAS5od70TU2hZ30TBTXN+MQwVFOOAXL4yPonVjGWmoGSuuP4GhDBQozkkHsz/wr055THvbl3CqXnJWuXehsb8JmMsH+tgGMwcER2+6jobHJlssPsMxkwHuATqNmCpOskTTq7hLz09neiZmpWaSE03H22WdQRyBYkJdtLwk8djSG5IhXmjq7uYX1eBKGmM/0jCxUlBUgg8h0bWUGk/NrqKg7goraw6gp1zeUrGMMo+mY2qdQo02aAh0OBBAgcNCiNQsLsyyjJEQyMgjINjGxsonNnRR85sWXcaT5ELIyw5ZVLcQjfjR6pGm6asvUfsXXV7C8mYIxtl+p0QJUFOeAmI4AZB5zy3GUElyW1xxETVm+LQSzxbxrZGpkdMTqY0NjA04/cRalVZUsd/JJHZocGUE7gXxhSQmqamrQSNCjZ4tzs7Z1yPLqmn2jvKGXcWxjpmfnMMV2Rt9UzhMoz88RNE5NUddmCOaWbAXK/IIClJWWUYSShcZJKVtN9d0kKF3ZwO32bgQjGThz5iyK6DcaSdRt5ldtgMp9c3OVejhJ3kcxy/JbXWebrbJcmsfsnL7nnMM09XOGPMzO6B77FbaT4kcr2BYWFqCJ+jHPdkQjmqPM54GDzbYYUVl5iQqbCUnYUgBdsAB5nRHYIqhbwerqOhZWU7CRlI28ghKUlBQgm229vjNUfjxd88knn3zyyacH0acG0DlbTZaVTmRG65eAgIalfXfBDjqalY3iEgKqKEEHDY5oegTRaJSGZibSo1mIRDOQz465vLwctbWVyMnQ8vA0nrfXMNDTi3ffu4AlGghFJeU2GpLD+CJpATOgnVnIjlpT99T9GpDZoXG+gp2UMGJZuThy/AhKixlGL17Fn/HMc17I7afEI5LAABOgsRKMpBsYKSmvYqdfTIyRCi3lvrq+hrX1dWRn55LvOpymMfzsM8/h+LGTKCRISdYUPSZmb6UZoy0gQBCnqael5dU0rspsXzMZJjRtEKHBraXCK6qqcOLMGZx56lmcOvsESopisJfGceZNI5AEFtr0uIwGW1l1HY3ectvjjHiVRqVMTJZDImNbDLPIYGvkoFp7OlWW0UAsQJjC80bozOmbnK1NLK5S7sEsZOeX2v54ZYXZSKdhn6I8yCPznkYwWlTEsqpronGaZ9MxV2kQrm9sQN+wRAmcmpqbbKXEF198kQYXQTpBUSpBhcVB0sIhywsLBIhBlFIOkl9hXi6CAS0iopJUOcqoYonQAAzQQNfKlimZ+UjPLSTQOoKGqjIC5GhiCqrybDHfVagGFhhfEnkMx7JQVlaB0tIKW7FTgE+roa6trTE4QXRBHnltwFNPPoGzZ06jmYZhBo1v2r1mFzrasemM0wuLtnplDctKIwHaN0wjhfJnNuQ+t6dTDyenx86/o70znbtFgFIpwwAyCToKCktoeGZTfgHbjHqdLhQMs46U4smnnqYRfQYHGhtpRGt1zWQEWW55eXmmx7l0QjgCAevrqyzDLDOKz1DXzpx5AlXUq6A2UhNQWpjDwlYSYtT70upa1BTnIRYMYGNtFStJaYjkFKKKZddQlmegI0Q2bdPqfWVwnwD0iM67rby7CYF6sUBoR7fE+qspxZVV2gONOl5SbCO72sdPkiBrzk6XY7jNeBxr1MEpgrm0tLDtc3iUoLa0vMymKe+WCcvZ0tNFgk9bNTUUwToBjUBKeUk+8nMJ4rUfIoFzdX0T61oVSvMjiFAXtDiIgius43sHKYEgwiG2bxnZhGUpNhUylsm6kx5lecVQVlSIp86eJgAqIn/67lL6TV5YH4wXOU3d1eg6b6RGsqizIeppISqKCKYp3Fg4gLRIJipqGlFSUYkithUKJjAcCEZY95LZzpaz7h0yl5PDuqn6trVtI2rLq6uUZzVdFcoJlLWVyhbrrOqtpibHyLO+xdTKsNqiIxxm+xllunK8r43E9XIgMzPTdKSC7bXaMn1P6oE0WyFT5cFsaJP7vIIiHD50kLrK8NqHkQzTqysD+tvWd3PsIzY2tlm+5IF1NEZ5ham3crEYeaIMJceIZiHwqL4jSp7KyopRVVmOGgLUjQ2CZtZlyaO5qQmVlRXIzcuRcJxsXYEnLqg0wTTEQiEkB2Ms0HT7VlarpVaWFyA3K2q+Ej2Knfvkk08++eTTgyhpx4a1Pkkkdj2W1TE6crnQm2kaJ7SutHiDOukt9uibGslaWcEmO1v7noJGDE0W+Sb+UrcfpBEiMKNRg1QaDCFo89lwUKNuy9iam8bb567hj//8W4gSOBw+fgwvf/7zNJRkHGhPLI3MyKBy32+o6022TWvjWJyfw+wqwUxcK8GVIJNoR+tSaol8iV79uwE2kvumRLlzXbeypOfqzJ0BoHv6YF7GPw3ZlWUCmBWCAX1jRiOWhlyQBoJG89JoPCYTeGg0UpFYPBaXzHGlI0cp0PhYJRhcXhEoXMVGfMPi0rd+qck0lAl2QzRewrIgSQEFI0jWhtnb8XXMLy8SHAawE6TxEYrai2cDaCyHQNI2UhWZvrOhm6fBNDa/SCMmZCOMEQJILdBiAJM5E2/J2wRjccqcwGB1M4D1rTSEaOREQoyX/DspePwz7p0klus2y1eLJWiRhGUacfrGiqWZQoOWoD2dQFgGoFgxU4uGnxaV0MiK9rpbXVrC6toGthhXOkF9WBvFU4fcaAr1hMBV+0yZ0cy4d6hLM0xTW4WlRGn40eAMEwCahGxalfRG/Ona8ah4xLs5LSW/RV0hQFmnvBcXF8g39ZPARqNeaQQMaYE02npBAiHJVbop7VbZiRg3dWuLej0xNUUmGIZAMxyJGWD0RuckT5W7WOCvfhK/D6c9QKfjLscW0HvmVrWQERw343WDIEYrtG6s0a1TwjTotUF0NCvLjhqZTGG+TCLUA42yajq0wN/S8oLp8DYBfxp5TycgiDDPMuzNQGeJ2UqlK7OYWWZ9Yl3dJJjIDhFQSiFWFzG9rLJgmTGcgTneDrH+ey8TdskJYo8SWfNWI1VaVm+Vpr6x2k7B8jLLZ2mVvLNdoHyjMU1vpF86k7MypcCMY2s7zrjixEOs79Rz5SmJSCaWncnyCZEflYh9Wet48cTJP11qX0EBgtn5Jd5MQZTAKZi6g/jaEmZXKNdINlIJNDJVFxguIFWTvgnZ6agPKFP4hOnHWadnFxexwTiTUtyKlNJvJZqVlUHdYrnwXK2fjpKD51TOm5vrzL/2mgxgdnkLq6qHyVuIBqijm4tYYV1OYX1PCRN4aXEotqnJTGtrcxMLCwvUCfKbSv6jMftuV5uHb7GdWltexhL1XS8A1F5lsn6qrdjZ0BT1DdaDdbeaJ8tOJaG9LvVCRZLTyLcAmxZO0W29IAipLaFsBbKsUMi98mRbR+yo3V/H2PQi9KVrTnauTY8P8FmKVrels/0HCWC3mP4W2791gTomrJVbN5Uf5su0g/xIn5SuxKxvb6Wf+t5ZwFhTtDXbQTh4jW2RvusLsR2OaMZClAWm8lENZl3VSz+1CVaPlP7mCtugNcwtUc7xVKRQNplZrM/pXhn5gM4nn3zyyaf3p08foNNoCjtK9ec6t/fgNI60sLSZlGb4qCO1YIxCX7+lmT/ZZrqtWG3xgeQ1ni1jou0W3r7YilffuYGaxqM4dvwozpw5RfCkfcjU0Voq/NMkKge/jDO9ticYWJdxIuOUfLjRKPqiVSB7U84Rwyey5XKoB3sePG/iUc790njUFgIECNqzKFVLZIsSYFEGnPY0EjMWjaLjQbztHb0Y9RG/FtVgfDRSbIvbHS3i4kYidkcWtOJGAjDtRaQTjRbyktcCS7b9Ao1qvSkXTpXhI7LVMHVDgJCAQOBFU8Y0mqA8S466b1P6eE/Re+Tk4knHM3AYguzYOX+0hYJNUzIAxnT5454xHHna0gIoNHo3ealt6lQeeqRozVDTtWOVJzLmxC/zYiCGD8wv0zTElAApCiXQpmcWRv7pRCpUu58oUQrIxiS3BBp1g4+1uAQzYaBRH1kpvJhR5GJGjvGb6a1ElDbJ6bPKwvFmNqNKysI4Py7zIic5d/ZwkvzlwwXTb8Lx9m5UCTK5SF8kSMtvGq+ZNy8ByZHnWmpf6Ec+VPS7rPFoZrv2AdTqiZSLliDaJWWLekKk4OKnnsRpSK8xoMQgPKckTFRKk9fCNlZ3jeFEQh55FWw/0YuS0ZNkg/viR84BuqSkIB+Qd3qSv13embBKygImItD3c3pVpCeqk8qLpmFalkx/9juWp5WpgioXii3x6sZ0xgEtS496K33dZJ3YTE41nZXIrQ3hMzYrJMpHFY+g2IjPRQq3rYrJOAVytMXAJuPWy6zdNMxvos4wCgHPuOLmMYX5F49Wdixva+EYTvXCFhKxeNS2EnxQZrvqqXT5s8G2dpt1X+2kRsvULgkIm0vEZShIFBDvCrxHiZYmIR13LtIxkQyd13Y67dWWKtqORFxLRdepW9oUXVjKXuLQl5qjLeqW6qp40YsGvdzRN8aaDeGEygeMhpKweD3W3Is41/7IST5upJNBvXYuwbjkac2y8ikpKn6dKjfm1fFp96QPbAviBMVJahdTWSdYBkrDxeqTTz755JNPD6ZPaD/hdaV75AwtZ+Z7EEQASqM/KTK29VjZpUFoH6Srw5bTaAL7VDnZAAq5KxR1srTttMrg5PQ8MjKzbApNWWkxQsEAO2/Gq87dYvd+7yF24AH26GGmpX5dZBjaPLsQ6tJlkOoot0e6mXD7SEaTRgR1TGFebM86GhKKV2DJ4v//t/ef4ZUm6XUgeGAvvPceSCCR3ldllq821ZZiUxSthmxLiiLn2V/7Y82sSFGzs7M/1s0zmpW02kezI1EUR4bsZrOqu7yvrErvE2ngvfe4F7gwe84b3wdcIJFZmdVV3ZXZcYC4nwvzhn/PF/FFyB691yiT4uPc8EfP9daZSlQ4IuhsUPlMkkLNeEErWKZRYRb5IOjMFFoKabTAPKUx4hCa4BaPLlYb4UrB07nSNkK76ZKZ6eJG5tz75/C5qcF6Zvc3w4lPCZRYfKpf+5FF59gUxzSRQQtDpEkPaNeWfmQ49NvCCmQyBMIqGiwqjhzonAeFKYKrN/K6aavm8UyOJLWTnle0aPLKvv5YrsxYjHTOcCmLiLfdc2I58Kg81IiGi0hQRnWtBA3SXeqzBRCGpZCTqASbUVx1zds0TsbNcG7WrWxrBFeSt2DrLXPAH0s0GcqtxNN9JYiMwGt9bxbetqLDi7BMiLSnUX4t6KGRJLspy6ExdiDLLk1UJrUYSDit1PzguRaCMTKne/bDC/6vGyHxOjCJ6eQUd/rKeqCXQHYte/TPRAvyLCzj69CFVTBalCG0kBH5p5NDsIB0rufyiPlNuyoLVoboqZVJGreNSTKzXY50w01xVb2gGC64wJh8smYnNDpnMVHVDlwTjIlEU+IH0P2w/hlUrkkI3Z6KiSU7QWJ6oruS25VllWsZyc+jBc9Q5cCyi3FipIxcUx7LJ16LWFrbSQcWRzlUpll8N0PhKs5OEgfJruvwaDLpKG94tJibV3zCtEtPS7HvflVmNEKnRVg0SuzcSRa9mGMZFBlWRiuxzEca2jPxAr9lNO07tCHYudmTfXNi0QmNwS4Y+NYoKs6q1oHl5FS2fTS24jE9k/MwHA8PDw8Pj7vhIRyhE0KRt3Z14f2No2JnOgOvjNAYgpsGKXFu4pH1xGaRfStNPDqL6bEBvPLTn6J/aBLZBWV4/Iln0NTUgPz8XFrTW21nV3A+Og/kaxiO3j/rLbX127zlbDhjPyaLc+1+E2G2LBydO7FD+wxfl/brlBNZMKWKcAqq4Gxt+B4SguCJ/fBZ6NYCoxpmyp2zGcbnDgVDiqw91XvvDTgZwjsmWeBQdnmfYenMxcvGCXQSwF0FrtbhfEsMJbCzEcw20EOFF1wxwJCUuTBoLFHdvXXoQUh4LY4BEvyRHXNpyrRgjgL7m2OUiE1qGq2Ge1bpjumSLpOJRH83fAzzNxyFNE82yRCch7cSEPp8d2yVe4sniaKZnDKSX0cJLxU8QILT0OZWWBkw97Is98Qmi6FLGiZOaFuQCxPDrjYQ3r9fhCG4+uRCsJJuaRoSlY1wQr/tmBC4vSQJbrg8tszc4Afrljd8Cm0HFgzrZ2E5COqYpEtMKVcs9UOTUGbWXzrQom6HL26srtlPKKXZNufBj7lxNsILlyJ2Ts/cVeg+0Z+AfsiOrAdQSoZ2HJzvzkc+4X8Ygjm0xJKxR+vFepsquBEOw9Q9I1R2rXNzTeN8D9MtdKKjZJOdjfvO/rotXdohuBZCQSSY+2fwiengWi2lu7sOf4TQlhA4tnsyuqDh6bpvCQm5cebh4eHh4XEnHlJC9wBQ9LaLoUX7zgem8NPojfnC3DSGtKz/2bOILa2iqqYBzTt3obSkCGnpesNO1UM/Cd6sKyD6sfvr4yqhDkAEltYResBj4qOEy60u7g6qA6F39wX5fP++C+uK08+IT8ufB8VnXeQfLF4sHzYk6LDV7XZ+3U3+z1t6/qLkeRCEkt9viQhjtF3MfnHpsLXO3/v65yGPMw8KkiGTbTv5Nu65dCbN2hIPd7md20+CB21HHcKXUHK7LkmiSJ+WeB4eHh4eHgl49AmdsG0MefMuMde3IZpCJEI3OjSE0ZERpKRloKKqDnkFhYhE0qg80E5y0H0n+BMSOiHxZa5O7xIcET7hMbHDT7hMvP3p4rMP4W74RSn8n3WRf9B4Jcrzi0qTX1Yk1Lz7wi+utjwI7iQjP78y9qApuhWSbTv5tt670/9Pk9B98jYiIXx6sW1Sfzoienh4eHh4rMMTui2gKhR8u8JjfAnLS4tYXVlFcmq6LcmdpO/V1CFbpxxMxknwJ5HQhQgfbxNcgAQbie4TLrfx9q54cIVN9je7+XkUC09ePH7RSKh594WwxD4sJXdzPda5k/yzq3sK435Tczt8fAq7KN0ZxqdF6D7tti9RIvnsxPzZ5fTw8PDw8Ajxy0HohDtiyRt3ibmNqK1q0RG3eqV916FFGdQJy82mHnqzP9sROtm/S1AJCG3caXM7L+8GZ/fBXdy/m082FWk7eELn8YvG3Wvd9njQ2vJ5wNYm/uEcoduAi86d/n9eCd128G2fh4eHh8enCU/otkIdLf+VLEwcfSQXPgiOiUjwQ0e5c1eGsNNOtCJs55N7muh6A9vb/7QQ+n7/oXxaRcYrNR6/aGytmx+HB68tnye4lzGPLqH7dOLlCZ2Hh4eHx8OGX2JCdxeE/ey6/fCEDzb1wQke2mnwcJt+OrSp4zaPA+hpgp8B7m7/00IYwmcfkofH5w2JdfN+4GvLx+FBU3QrlLK/2NT1hM7Dw8PD42GDWx/a406s97c8uWMepTr80BDh4/vso2Xtfo2Hh4eHh4eHh4eHh8fd8MtD6LZjS9uZeyKBxHl4eHh4eHh4eHh4ePyC4UfoHhie1Hl4eHh4eHh4eHh4fD7gCd3HwXM3Dw8PDw8PDw8PD4/PKTyh+zjccypm+IDHj52ueT9W7sMTDw+PTw0JNfi+jMf94pOk1i9HCvv1UDw8PDw8Pm388qxy+UkRpo51wndLqo/voTd5c1d8WlnxIP6EEnktw+OXF/dbY3wtuR/8LO2YT2EPDw8PD48HhSd0jxyUnZ7QeXh4eHh4eHh4ePwywE+59PDw8PDw8PDw8PDweEjhCZ2Hh4eHh4eHh4eHh8dDCk/oPDw8PDw8PDw8PDw8HlJ4Qufh4eHh4eHh4eHh4fGQwhM6Dw8PDw8PDw8PDw+PhxSe0Hl4eHh4eHh4eHh4eDyk8ITOw8PDw8PDw8PDw8PjIYUndB4eHh4eHh4eHh4eHg8pPKHz8PDw8PDw8PDw8PB4SJG0RgTnHo8Ewuy832xNCo6fJ3weZXoQfNZV6rNOn/uR/2eT4V4hPAy5/1nl8MNe8j08PDw8PDx+/vCE7pHEJ8nSz0sxCFXah1W1DdPxs1b5P6v0uR/5fzYZ7idlPs+5/1nlbCI+z/H38PDw8PDw+HzBE7pfeij7P09F4GcjC794/DzSU2nzWaXP/cr/yWQIfb5XCKGvd/X9fhx/Rrgf+X8WfGzcPTw8PDw8PDy2wH9D5+Hh4eHh4eHh4eHh8ZDCEzoPDw8PDw8PDw8PD4+HFJ7QeXh4eHh4eHh4eHh4PKTwhM7Dw8PDw8PDw8PDw+MhhSd0Hh6POLTu0XbGw8PDw8PDw8Pj4YcndB4eHh4eHh4eHh4eHg8pPKF7yKBxlY8bWwnt3I+9RwV3i8ujFMdPjrstgh+Wkq1G2Hr988NWCTw+KcIUvDMV75au29v+vCGU8sEl/eQuPR4F+Hz38PB4VPFLsA+dppcxokmf/52dTE6d3EXUrRm1nTXZCbNUzzfFO8EDpgrW+Mierq3Snk4S7Op5gv27pd9mO8FJAIWhfyHR/437Gw42+7/Zo/X4JNixe3a52W54FQS7js22Pkso5K2hb0BxT9Lju8TXxSspuHM3f/T0PmIUONfBJaGd6cSCd+kZWNqE0F4YxnZh6d529++NMLS7hSps+Mo7/Jecm0LazvEmWAkzd2H5tKh+CgiD/lgRPiFCMR9IXEZyqzwb8bWUcKfB8Q67wfFu9z9f2C7lN0uqOhS2FYnngq5du+fubXbp8SgjseT4fPfw8HjU8MiP0IUK3c8NCu9+TSK2Xt8DodXtnTjlLtEYNlneUAA32fnEuEv3mODxluATILdbzYMj9HJrXO52/xeGuwqSEP9PQ9jt/Ei451L5bpbC+9s9/2yRGPrDgE9WWj8l3HdibVgKz7Y6u9v9zy8k6XbSJsYk8XzjTnj3lwa/qAgnJvjPU4Z7hPvzFMPDw8Pj54lHdoQuMVKKYnL4xtZ+HZLCFl+vbA082vDJamBP90MT/oYIfdp8d1MAd0VgKcHpGi8sJ3hPhw3f7UlgVUQsPE/mkXw8cBO6Cv1xt/nHZ+uPE7BKc+cInaDQAst2CN5lBxbWrRF6vMrALCymmyQKn9tdi5B5ErwlpwmFI+wQ3E98i24PdGkW5JNiFbjnv26vUma7ZXAnLMzmnbLQ0iHRT0IxS3B0V9zNholzByww58bCc/I6uBB11BOzYzeC526obv1SUL7IH2dfD8KH7ph4JVsJPhOhffkZ3nNYtUeWKk5MYf2YYJ8yOfklie7dYdkdgmDuhTD2BjvlnS3O7ZIXum9lMuG+OQnzVOfhrz0I4aTdFN315xuuLIp2tQFdh842ZHV3zM/gXpjKoYPQpqD7W+1uINHm/cH55aSRT8l2Ffq0cd+FYqXFHrrw3ROTwSzonp5suHD+OMi3jbvujC2BHTdcfNZIlEgIQt0QybBVbt2xrssKc0Kq85bur5dxg7OjMrIWlDLnYpOldWzOw/vBZum2R6IdYet1iI8LO/F56MfGvfBO4pOtPt4tZMHZ3erv/fi6De7mjSG42OLNJivExuPtwttqO/F6s309CZ/qyYPnsYeHh8fnG48koUuMkJ3zJ7GDX111nXpKMjt5EoO1Fd2k8pRCgpQsy6u8lB0RphQ7Wiew7od8DY0GOYMHutwC0zn0YN1xaMkeEPpxStcqNQ49XeUtO/I3mb8iKql0r6drWAmkSaHfPJOWYhqui5NcyK91lUWPeeQNGoVpV1jWdfgscCECpD+js2Zf1jf8cXGh0TNCcpqhRaXCRkpIjtAPntGkpCgd+XRFia1TFxuFmZyU4FJhyJ0ueVxZiSOZ+ZSUpPjyqCyRNwx1xTLOuV9dUTqtIjVZFuSz/A/VYRFWE0a26Z9kcWEZaMWFvhmJ9xQHs055HTmyuzQKV7clh3MhkmuJwR/lijsLbiW6tRt0Iw9ZJi0HGVcK6MLmPWeFz+2Gk0Hprb9klgHGhrf5kP9rlh7rOS/PnDsZBbFCNzrXRWjsRoqCMnuWFfbM3dDZun+EueKP6pDiq7zZHnIveiAXzAfF0eSkMTfO1zAoO/DGGutfEHsLR/XT/LBbLq6yG9gwo/SwtONNJVWKwmB4yocU5rWVn8C24Fw5o/uKsvM1hKsDuuPKNiViAJY0dCC5FJB7CeHyYtUKhaJGu0E5kGvdT9qSRvdqclfpVjGWUelNtaOkUEiuPMk3lXVnKxG8skQI8l1tm/0F9WCz5eCuEt8iZCYocQrMsmo9KoTk3vTi5QGxXbzX010ZF8ouhFZ5S6cKdeOW7K6wbVihddblsL7wttpK/W1ISdsqM8oXeu1KimK5UTdDODfh74YPH49QshDbuQ3t3O0oyN29wg2fhcetbt0dxSt8otQMUtSQ6OJu2FoXnKvQZ0E+6n4oxzbY6oWgRkblh89WVpZdvVR7Lbjb28I512/oUYhQLmE71xv29dRJH7ZmD5bDHh4eHp93JLb1jxzC5j7RSMmTghUqoupfdJ5sHYvuqdlfod1l2pWSTVeuB3B6j2Ce0Z5umAnuJSJwY/qJAjGFNrSkc7lXWDLuvn5FtOLs+BapsMR5Z5mGqov9rdqVTJw2qczJX4Vj3oX+OL/WEV7KXhDndTF0abek8LhuXDF3/FbXNLyp++bEOXfgudmnBecmUKrNhO7c37onBjmUoS27Txs6BlCUDPZo47kIQZhcsr2ivAmIjoXBo9JD7pWVLk83jOm4ZlxHLj9Mf5TheQi7704T4uOgeFk26kKOlGaUzcqU7gmSgWGoaoVuQ/frkB8WF53QmBCSyzzdCFd+W7yDNOAfaSzjHucvy6fOV5lbZlku5Ty4MBMkls6Co52Q/K4rV3KlA9NGVsj5eHRlwTkJykF4rec0cq54WxSCZ4lGv64kBaWJRG0j/V1MEyFRlGzhE/NXhucrDGyV8VR44qhmaM1eQEiZp1IvIrzCe6s8WvrJLz4Py/XHmcSzELqSXzKWVAJvKu9EaEU2Q3eSXQR3M+EJyt6WPyPCCcZcWGTDfHZxcJTNhSFbaossRVX27crJYHKYcX6YE13ykAh7rKMZhUVLKj9Whpx7y9P1wnJ3SM5PDxJsQzI7bEEQpQQwTZhwKhfLK6wPJHerq67NtnbF4qTUcuXAlS1n5JOlHY1+E0Je/71/hPY3fLgTW+2EJoxVaML7d0Pis/B8s/3Qh+18DM/vZRw2Xzls42N4up1JxPo9ZQKN1Qnd480t/VZ4tnHn47DVxZ0mPHPYOPPw8PB4lPDoj9AxelJSRNisYWeHn0LN0nUo6kwIY10E7a0liTiZqoyk1WQkU3tMSUpzmoA8MIeEJVt4gya8HyLhWraWNTrCjixF96VoUPkwSNOgZb1FX15LwRKVqeU1KiYaqaDlVMqStLKMNCnD7AxdiLqvUaZU5zmVFyk0yRoFk3JLv6STyWfFLIyegXY1ErgsjZf+Sx4pQPKZMSaZpB0pQDrQ2JEnJqbOFZ5M4OcSyYFGVkIyJdnkl3Wj8peCJLHTThHLWk9nGnoUqlXmhvfcyBk9kS7Ga9fV80JkgPKK2Fg+JovaMv10n2mwsiyFLRXpvJ/E/HNpm0L3fBbktXsfL8Nr3hOnke+h3FuhW5aGLCPJ65EmabDIKi7Ot2WNElDY9NRUSxIjGuu2eZQfOpczHgUVu1W9oU6SvPKL8aZF2RWhUmJbGtKOwpfLpBRHXFbpJr6yZHFPkbvl4BiWb7NNo3BpVll+jdQo/ey5wrESQpkllCy6cqTB01WWPZcNvFCMzJ181E27NLsqz4pTKmWVN5YaCsfOVH6UiZRfQ1uWMrJEIwtmT3muePPa7jF8GiWvri3auk+sMD81wqrRthSlA+/JJGKJJFdlyUbTeB3+hjKFbmTCILfeF1yQ4VP9KlFYT8K6RqOXGPqT9yrWcuxiFLrb6quwNYTNz81PGd5SmXRxYdlj3C3lk1PZNgBx3k0O8k9HF658Ujm2u+ZS91VudXSkdqN8yIHkT6HfyUw3rOoFEdsNtnNxpFn7YERUsvCJ6r6Lm5NNEKF1dcdd3w+272qc/FYOTUBdKUAaVkC7pACqi4LJosKhNpT+LS2rJVBcmT90p1HrVGU748Xaaum2kpSOFTpUOjpvWJ7sqF9LOR43ZHNlJ8TG/fuD8/NOhP7c7RgidLudH1ufhW437OpOQtVhXNzTrS503Op66/FO2+E1fQ3z6X5g+U5jBcq5WWW+mW9hGZKgCXC2XM44bJxtRiiX+bYNXMlNtOFyPNFvDw8Pj4cfjyShE8JIKXp6a2vRZMehN+IrIiHxZRKBZaSnpSMtjcqAplvKPv809iE1IZnsJpk6gchTUkpgJ+wFElItTMFNXQft6SxOLXlFqkQq/eA9qR3JVMiTZHhODVXaMRapeC9TKVnR1MIUuuRt+Zci5YN2M2hPVyJQIje6SqWRHiRyshRnKGkRepdGWVPsnp4ZYTONUJBGuIhFxmlpNQXJjHs6n6WRHEibX6TiGo0zFKYHxRVnoHunuK2PJGxBXB2zSAkVpnA0xOwxUXSVLEIn0iMFUH9GOmVfSqyIs+Igw+dS4FaZQpRN00lFasG0SCGbVTxEcNaohCpFJZxGp5aXk7G4lIRIehayUkXWSXYWFxhHklMqcstUUjeUXyUK1TXmpY32MEyNRogkakpoaCSe4iAlUgp1Eomie9tP2SUX08kRb5YtWk6jETlSetOm6To6ptD/FHkSlIFkJralj+zFl3iH6SIlXFb4oymRRjSV3vQhVFyljCenpptJSlV5diVUabwal0LOo4sl7TIc3pfiy2jYtdwrj2w6n458mE7CFmEassSZwPFl+kizKkVYAvJ56FZxXmMhSqJynJKWZkVW5I/B0D2JoTKHR0s0+i86nUy5HalzFkUA4pRV4RhxVz7Qf6WpjiJyGnGV0XUK64KVOIZhU0l5X1Ok01gwlT8h9GxpaZH+LvE+yWUq85tyhmFIKCWpYFfyTxfOa4PEFnTtjGLtUlQvBxS8OI/JROKu/HHy0rKllVJK5ZsWSYmUhyK8Kiehp2HtUV4LimUy/UpNZ/vDa7kUmVeZdkRfZIsyyDOWe9XNOEOJszxbu8A0lbE6xt9UpksK67MSR/Fdo2eplpZBgEH+K894sLspa6wrMktzbBbYRqblYDkli3nNUqEyxXKRxMhHWLbVDiit0xjGg5C4rbizu6GMoX96psfBMb64xPqbjEhGhLK4Nlx1wl4gWN1YZXsVpx1GOyWd6W0pgXSW6/QUpeiimlbE1A6kRljeXRlweSW/lCt0rHQJ/uT1evGSLMpfOwkRyLodzL4rc3ci0Q/hbtfmSYLZiruF79xv+OLs3c0XlREZIVHiO+3Kx9DXAGrgtvX1LjCrQWjWzmm6PFObaaU+Q42V9S9mz5XnjRDcb4hQkq13w9gHXjgElsIYbNwO/zw8PDweHTyyhG4DrrFfpmK2GFvE7Nw8hgaHMDE6jtmpGeTl5qGwuAAlZcUoKilGWlaGKaR6Q762EEN8Zg6LcwtISc9EflEp0iJUGKWHsjdYTzkeXecgJUOKxCpm5uYwNDyMielZpGfnoaphB92mI5PkIH1lEal6My739KSrswu9wxMYm11ARV09yipLUVRWSD+pQNGvdB6lWs9HlzE+OYdRyp6yuoTSghxkpKXwfhwDg+OUvwLFpWUoZjykcEsXWSd0EnA5hpWlKPpGJnH1ZicqaxtQWVKIguwIBnp7MDwxh7mlNdQ1tqC8tACZ6VLkRDrU54YdID1VxEnkJian0dndi0VqTRk52aiuq0VGdraNVsmOwk+mIGtUzAZ6ejA1M41UEoKqmhrkFxdqeIcxc0qrFMfF+QVMjs+jr3eESvoq8yKCitoKFBTnIyeThMY06yUqA1SyeS7/hkdm0d0zioaGnagqzsLq/BgGu2+hf5z5lpyBJSpzTvl1dEe6iJEbnfOeCF1FRQUqKytRVlaGSCRCGakcu5iSZDKfNFolw7SZnmR4vYOYYDnKLSpGYXk5igsKkCGFmn6bDk8jhSVlOY61WAyDPd0YnZ5HThHzprIGhTlUMKOzmB4bwsg4831sEotxkjSRABqnbGjkj2nHcquRxpS0DJpM5OZnoaGpFjl5WQyP8kyNo7+vF0PM0/gK47VGwkPJLc4WX/6ywCr2ccWbhCensAg1JfloKC9GNhXfBZbznt5+jFOWufkZponenoeEzpkkKsyZOXkoKS23dCosLCSJANKYSKki3swTV1BE6KigUXbLr+VFLEQXMDg0iIGBfowxDHvpYJVI5EjES7RQaSaCz0vGQSYjPRt5+TmoralCEetobhbJBJ8zkbBEQjw9PYWR0RGMjgwxDnP2viUjM5tpVEB3RchlvuQVFCJFJI/OTHGVqDQS1fTSELynEUKBpYIxpmGcVmJRzE7P4eaN21iOryInvxC19Y12JEcwuZlrtE8CRsq1uDjDejGLvoERTE7NIcq0ZYKyHMlnR69M7WT8s9n2lJSVo6KqGnl5uWCxc/ETqV6NGlmfHh/DyOAgeobGEF1NQYxppuROtfx1PuqbwdycHBSUlKC0ohKZeXlWHjOYF2502Syase90jXSI2GhkLoal4S60tfdiYSUDqTmlbA/LMTA8imhsmXmQjAbWwZLCHERIPt23sD8LVO+C0wBG1ML2hXmLaBQzs3PoGRy2VC1lHcvLzWbeRuzlydL8nKVL7+AARqemEaObjKxcJnMq0lhminIzUFmcjdXYJNo6e1BQ24ycigaUFrFtYhAyeumhVwkWJn8kkvJd15Y6umFppzY9FNhsu2N4agg8MOiZS98HgzwIwjPPE839QO6skBFW0gOzBQqCt+/TNhHKxaebKswDwJwtY3kpznoaRSymNpxtR2YmTRbbEZZp2lF7JqsidLoOexwLXuCl6pp7YhcOm0+DC/4EF7oMjeBcmw8eHh4ejwweYUK30XwLMRKZ4eERdHZ04tq16+jv6cUkFemC/HyUVlagpr4Ou/ftRVlVhZETfeuzTMIwTUW0v6ubynQ27bSQNJUjM0sKbhBC0FPYOIAUWFNJV6kgd+PM6VPoIOHJK6/Dk1/8BnILS1BAbSJzLUqlYolW41hdjOHlV17BB+evoK17ACee+xKOPH4Me/bvpQxryEpeRrZoz3IUQyQptzsGcOHiVaSuLuDwbiqWGWkYGp3BqXNXsXPXQezeuw/79++xN9MSiSqz+5HCHZ9nZzqP05du4i/+49/i8Sefw5G9raivKsWpD97F1RvtGKMy+vRzX8R+pQUVfinJ6lzd9C16GhSXuclJXKf9N95+D0vsnatqq/Hs88+iqLQEWeyoNT1Symby0iJWqGyffOdtKo2dVJpT8eRzz2Pnnt2IZGZY95xKkpZG4jQxPIS26514662TmJ5dRC6J6dEnj6NpVwuqSXAjJB8pa4vU+ZaoHMTQ2dmJC1e78N5HV/CFL30TB3dUYLLvBk6/+youtQ9gKZKPeAqVOMqexrxJoeInmuKMoiLlcg2HDx/G0aNHsGfPXmRlZSGNpFPTthxkUxSf8Z6fp2J/C++88y5u9w2iZkcrDhw7jtaWFuSSyMqNdB4jdfQ3aXEBMRKu9998HVfa+1DVvAf7jj2BlvoKLM2M4calszh76Squ3ehATCOjSi+mmwiZyJzyzI1IkpCkZiI5PRNV1aX4xje+jJracipCyeju6sS7776L8xeuU0lKY/gkpCSfKSJUiqlG1kiglpnQi6IA6RmoaW7BY3ua8eThPchPW8XIyAT9+AA3SFqGRwZsBE4MxI1RUSr6kZKaTnJUTDLTgBa6371rN0qKi41ou8FtlX/FX26klImQxkmI5kjixnHu/AWW24tob7+NNBIsEaoVFsxlkhRNNRYBNkWYCrso6SrToyC3AHV11Xju2afQunMH8ovyeH8ZU1OTlHkYPSTK3d1d6COhnZ2dZhlNQjbzoaS0DOUkAeVVNWjY0YKC4lKWyQz6qgbPxAybhQ1suq+Yk0qwTM6Oj6KjowcvvvgyZmeiKK+uw3NfegENza3Iz9MYuaC01hQ/kszJIbR39ePdk+dxq7MfU+OTSKNcmpBrej7jqdFhxTOfxLq+oRG7du1By85dRpSz2T5IaV1ZiWIpOocbVy7hwplT+ID1e56tRiw5E+l0m04/VKaTNKJHfwsL8lBZXYvWfftQ29CESvqVy7Kcbpmp8CQn85SnRlsoDFOf96IYvHIaL776NsbmVpFf0YRdew7i7NmLmCSRLcjLxnPPPI6dzXU8z5Mn94SVe2XuxyDsdvSr0UAlfJoamuU44hNj6Orpwym2czFWqF27d6F5Rz1KSkTOUzHYSQJ67RrbvHNsE8f1noVls4RkgQQ0Iw8NVcU42FrLutePv3nldRx45gXsOMYy1NyEbCZHJoMRIQ5HgtyPveIJ7oRGUBqpDRCUiDRO3C3gTd3Xg3VCd4elj4E8UO2Ru8AP85M/Ri6FO8N3TyS9I6Tu0caZg85DP1wZCEMS9JLgntkWOl33Rq5D6GaC40R/ZFdvM1YWEZ2dxeDQCKYmZ7CWko6CsgrklZYjwj5Mo65Ba6NWyuryRjpuIAxV8gaeW5sb5pA1XQmyKlX0J7hjmMPuz8PDw+NRQco/JYLzRwhhi+4ac62oNTIygosXLuCVl3+Kq1euYHR4mCRpBdNTU+ju7cPVths2nTEtIwslVAa12MIaSWB0ehzXLl+g0jiIaCyO7JwCZGTlgDqpwXUOCo9dir2GV9eyiv7eTnzw3ls4+cF7GJ+NoaaJZCG/FLnUJjTNTSN0q0sLmKf/L/3dD/Hjl1/Bq++8hywqeSXlFaiuazDlJc2U8xj7w3kMDo/j0tVbeOud90l+erCjrgyxuQlca7uJH7/4ClLTKTsVueYdTSbYeictsUiEsBpDjP6cPn8Z/+O/+DdUkCtQVV6Kmqpy3Gy7jvPnzuOtN95AemoKldV81NbVUYZglI9/qySgmh6p0YXOWzfxznvv46//5m+xwHQponK/Z+8eEqJMm/ZmLqTcsSMXkTx76j18eOYsCVgbKuqaqBjXIlWEjn6nS1b23RP93Th75hz+83/+G1y6fBUDY2NIy8lDMRXzMhK6DPbWKclUtpl20blpKnVXcPLUBbzx3mnsaD2AmpI8dF47j7d/+mO8d/o8JhZWMD4fx8LcLKIzM5ihojg+MYGxiUmMT05ggucTPJaShFZX16Cmpgbp6emUhcJQJtf9K+2UkKuITU8xzMt45aUf4/U330J3Xz8KikpRW1uL/Pxci4PcmK4qh/EY5idG8PpPfow3P/gQq8yfoqo6lBeTaEZncf70+3j1zXfw9gen0Ts0QcIwa7LOUqYpmmkSl+npSUxRsZ6YmiXZnibBi2Pvnp0oLsrh+Qpu3byJl156Ca+8+paR4MmpBeduchyTE6MW30mW8ZHRMQyNjdvIYlpWLqpKC9FcV0WqGMfQ4DBee/V1vPvOB7h88TxWGcYcCdIE/ZkgcZ+YmqY/k+glcbp9+zY6bt/C4sICMplWRcVFSEsnsWFBk5Joyjk1LJuFqfQgqZUMbW1tuHrtOm5T3tmZKUyMDaNvYBi3OrpwhUSy7eZtTDH+0zNzmGVcJ6ioLy7EkEaPGkjqqitKEcnOortRnDt3Fq+//iref+89kq12zExPk2vP29v/Webz8GA/OinnLZLHxaU40iIZKCwqIVGlUPzX6ICwdcBBt92LCzc6p7o82NOJjz78CD/+8Uu4fOkahpkOtY07UFBeyTqS4RRI2l9diTH/lzE3PYLbIoAvv4F3PjyP61dvYH52gfnKeFE2lbnR0WEMatStuxudHR1mNCU1K1NktMiUWemy8VgU58+ewttvvErC9QZ6RqcwPLtkI6rzM9Msz+Pm1/DQAPpIbm8xXwYGBi3ORWxHsrNzkB7RaKgiKuNUWsVQDYNNiWXdvHX5LH704k9w7VYXosvJNgr79tvv48b12ywHM2hsqEMF0z+HBPHjoHgIm0kdw2XAiffC85BgajqoTaVkWx0bH8Pt9g68e/Ij9PQPMR5ZqKutQkF+DlYXF3H61Gm88/a7bAffZZmZQ5zt9tpaKtuvy7jFOCzMTKI4N0Li14b/+d/9O6TmFyO7nGWopo5tDckw81j5JqFMCpMlpDhMeDMhlGJq02XHqAaNwGsjHOG162vkpyOrzMNNaeDg0iG4uAN6IJMQvnklR5KNz8JCm+CHO3W9kAPjZTIQ6/Y2nrqbGx64xXFIcK2c3AMmS2Ds5WUgkyIURiq0o1Od01+bss5+YH5qAlcvX8G1K9cwwzqRmVeIvJIKZESCETnaVRVV7M27uxE6+qsRVrsye26ys+WSnvFo4DPlsGyGMOvBn7vy8PDweDTwiBI6wTXjWnwiSkXv8qVLOH36FC5evIiqykrsJ/k4dvgwFflqG8EYHBmz6TtiMLUNDcgk2cgimUldW8LIQC+VUiqZU/PIzS1CTm4esnPdKINBHeJ6l+LO52aobA31UuG8hSVkoKSuFSWVjSjMpeJCpSc1dRVLs5Pobr+Oi+dPoZ3kYHR2nuSlFhUkMPU7diJCcpmVuqb38iQAM+juHyEZu4b+wRGUF2bh2eMHqJBpCuAQPjpzCRXVDWhsbEJra4vrV/mzLqOmVyUtYomE7nJbB/76x69i5+5D2N3ajJbGBhKvJSqec+iighyPkUCycy0uqUJ6ZiEyI67rU/+6HF/EzPgolel3ce7CZUyyYz589HEce+wYmpt3IBJJpz3XpSrsNMZeo5FDvR3oIim+RmW3Ydc+VNXVIyM310Y60ymtvucZvHWdZPs6rpD0LS6tYI2KeEp2Hqp3tKC6sgTpaZp8qGmjVJCnSWRJPq7c6CZhXsHxZ76M5qpiDNy8jP5bV2grggMnnkfLwcdwcM8e7GnZgV1NjdjRwvjuakVLayt27txpMu/dtw8NTINikhNN/5EiFupDGi0L1Agsz8+gv6sdl5lfV29QeR4ZR25BKQlhKSorq+mWkWGclXaKe3I8isXZCZz54G1cbe9BUU0jalv3oZZxWVvS6Mt5+tOB6egK6lv24bGjh3HkwD7sbm4yUt5C2WR2tOxCU7NMK3a1Ut49zSgsyKbyvILe3l7mwwUMUdk/ceI5HDp8HAfpx86WRrTStDCOimtzczMad+5GQ8tu7Nx3kGHUo7aCZIwkf3x0gnXjLAb6hpCWlowvf/mLOHBgD9NnF8NuwQ760cj0KSwqsvo0SbI1NNBvCnheQT6yCwqwxrhbkonM8WBqVNIKkqnI6ZtVkYxskvPa6krsYl401deihKRI34YtLK+RFGbgiSeepvxHsW/PXuxQOd6xAzubG7Bbo3M5GYjNz+Hdd9/Bh6dOGXnR93S1tdXYt28vdu3axbTaScW/Bjl6UbBMcjs5xXQZQ3SRpC49gqzsfHtJIjmD7LX8WgczXYRO366pPuiFTtu1i3jv3ffp1yyJg76vTUFpda2NLIh8abEijSwk61s0Kq5L85PoGxrD+6cvY3gyhgIqrU898SSOHTqC3buZnk1NaGxqQEN9PQqYdiJA46Mk2uOTprNr1FNtTxrlZEHHjauXcfPaJdzuHUT9roNoOXQCRw4dxt6dLdjFMrKD+VLPNCgqzGO9S8Ikye00iXE0GkNefgGycgpt2mQQQTPuW1flE9sr5n9/exs++Ogsy+EyCkqrWGb2oO36LbZhUWRnZbI87UFlVRkySejWleW7QHXHrRis5FQ9UAK7RN5KcHStKaArKi18lKbHKytYnXUvIK5cv4l5tgO1NdUsB43IyY5gZnKSZeA9XLt+AwuxJRx97HEcOHQUdQ070NHei5mZGEoKcnBgZz1W58fx8ltvo3rnXlTQNLE8ZTOQDKZTCgN0PJc/aiitDVeZpeybSJNG7jSJWBcBoTM3upYJS5MMyw3jbgsdGcwD521wGh6d/fWLBDBNjBS7Z2bfZFt2t2yKsu7pnCY4ldENkUp7kRfcMbdqzNbllV03cdGFonRgemxH5uhMvmzInABNQTcLNGzvzG/ZS/DH7vLHCF18AVOjw7jMPuP2rXbaS0dZdT1KaipZ1i1VaVQmVQflUD4IPJFHiac8yq7NOrFZF5pO7mIst/JL0bYemQLoz5V42ZDxhM7Dw+PRwyNM6ByWl5cxOzuL9957D5cvX7bpWl/60hfxpS88jydPPIYmKkSpGZkYHp9C261Oa+N3U+Evys9FXiQNGZFVLMxPY2JyDj09g1RqcpGTk0uyU2A9x3qHax0cYX0EOw0q81heQG93Fxbi6YjkVqJhBxWLwmSSRBKTlFXMjfXjwpn3MTrcj+haMtJyC2mvyL5haWzaxXDykEMFJJ1ELDo3gdudA/jwzEWGkYrdO2rwpaePUYGcRnffCC5du4W6xp3YQcVdhI46tOvYw34rSYRuCYuxeVy/3YtX3vwQ+0h29u0mudlRy/jmIULtdGZiGMP93Rgbn0ZaZj7yCsuQT/Kg73vkkUaOrly5YtMO+4bH0ESC8KWvfB3Hjh0lWc2A9oHTG1/rQKmhpivclGUsz45jYGwKF6+3o7Z5N6pqqNBSeZXems64pyzO4fZVKq7tnZghsc3Oy0N6bj4WqPDXtbSirroMWSSWIn7x2AJmJ8dx6fw5dPSPI6ekhoTuS6gvy0XfjUuYGelHTlktvvxrv4PDT38JJ44dwaE9u3Bg7y7s3b+fCuAh7D94APt5rmmWTVSyS4pL7Ps5KaOh4qmDI3TOLC3Mo7+/Fzdv3kBP3wBmp2dIdtNtJKSmnuUoM4/xYcxZFPQNWzJJxdLCNM6f+RDtA2OoYJ427j6I+vJikOmho+0SOpl3qVmFePyZF/CNr34ZzzzxOA7t30W5dhtREdncve8AdlPW3TzftasR5aX5yMxIxiKJSv/AMG7e6mA5T8E/+M1/iC988St4+snHsX9vKw7u3439Bw7iAN3u338A+w6QwO/dj52tlKOqBAWaf7Y8j/HxGVy6eJ0K/CLKKyvw7e/8Hp546gT2M532HjiAPfsVLvOgrob1IR0LVLhvXrtsI8zpqgtVdWAirE/PZZYy/5kIgSKZnhohmctHA9P5IP3az3zY09qMipoGKuyriK4k2zdvv/Vbv43nn/8CHj9KUsdyuWdXC1qbalFfUYiVuXFcvX4Nf/vTV3G9a4D6YITl9xAeO3ECx2kOMT/37N5p9bmokPUoNQ2xWAztJH4arWQzgPzSSqRkFyBVH1GZjJuNm/KlaYwxrCwvYY7txhkS3Xff/wjVLK95+cVUEJMtbJHYqooqpGsBIZUZmwNGtwsTGBydwelLtxFFHklmK/7Br/19fPHZZ3Dk8EHL172M/27Gr6aqkmQrFTNsk7ra27EYXUB+fj6KS0uRmatvwjQCew093bcxQqJy/Pmv48QXfgVffO45HD2wF0foj8q0XsqIKOezzojEDg4Nobu7h/5UIL+4FEUkOC6OTq0N97qzBXFohnu6cf7KdawkR1BZ34R9ew+gp6uHfHIFhQW5OHRoHyorSxFJT2O7om8uF0hAJ0ieZqxt1eioSIit4puSsl5/NLVUZyJ2aodlb5qEc1yjr4sxmiXESPQ1wVWj/hG1MfqedmEWk1MzbKc6oYVgGpvq0VRfw7NlG7l746330Mm2OCevAE8xXQ8dOcSyWYcbbTcQo2yNbCuO7duF5HgM7390Dk37D6Nu9140NzQiNz0JmQzGFmGSnCGZU6Vlni+SCM/NxRBdpOyUaZbt69TMJOWZxjyfLS2zXifrZZ4af1fEzQ+mo4jDUlzfiWmUnH3GxCT7m2mm0Tzb3WVyVYWn9kVhs6zwcmFhienC9j26ZPkdi0XtG+n5uUXEl5hHlCE5iYRydRHLTLMl+jM/t8z0n6FcM5iencMcw1Oeaq605OIZ7TOMlWUsML0XaUdESS9j5hejGBkfJfGfwtz8nOWbZlSoDK+srDnZ+Wx8bJLtcBRLi8zTpHT7blxRVjLZyrWKs+SdY55OTWGS5WF2bo7xoNxxTdfW4kVabEqJxLjPTqKno4Nt4Xl03OzAGtOwgPUxt6Sa/UyavRjRTA0rAkvMh/lZTLOczE4y3afnEYvGsbzGdGcjY+0M7UFpwvSaYb7MMB2X4mvMvyW2TwusBxOYZ3sdX45TdtZZymLTOFUmefSEzsPD41HDI0/o4vElUzzef/99dtSz2LmzFV954QXs2tmMtKx0ZJHIZGZkI87OQoROCtruXTtRWpyPrAy2/6vzyKK9BXYot252sWNeQRoVm7KKanYUUuYYiMjcOqFjJ0GTxs4mhYphd1cHRqaWMRVNw96Dx1FXxs6Lz5OTYhjsasO7r7/IzimO3LIq1LbsxeQCVZi0bNTW70RBQQnyM/W9zDymxgZxo70HZ85fQ25+IfY0k8QcasUEyeDtzn5cu9GF2oZmNO1opsLewo6aYrDPXe+ytPqjEbo5XLvVg5ffOIld+46gtaUJdTXVtrhKFnvUkrwMjA32oJcEpLN3lIprBUpLSlGYH0GUnef1a9fw0osvkdgMoIgd8he/9k3sJEnQggM2zW4lbgpcknXk+koqxt53ESAh7RmawKmLbSQATSirrKFCr3BdRx6dGMHNS+cwODiMfCrk5VVVJLgFGJicQQWVzJqKYpLOTKRRqVuOUokYG8GVC7Q/GUPD7sPYc/g4SkhyetvOY6yXBCejEAee+hLKd+xETVmE5CWLpCIb2czv7Nxs5PI8JzfHyHlGhlYHTV0nc3cSOoIJOj87jU7m541bN20qWkNtDVKp1MwtxJBBWdNJyPNIwrU+o+IkYrAUncG5cx/iVv8YSut2onbnftSQkIH3O6+TwPaMYJEq5q5DJ3Ds8AE01GgEOAs5JEg5VOptNDiPZZHKelZeDnKz00i89RZ+kQpLDH19wyQ6t6mcLeELX/oamneSLFdkUY5cmghy6YdGavLoXv7l5WexPCcjmxpURAWEhE7K4QWWq6lJUpD8HHz1Gy+gurbCFhXRAiM5TLPCgnwrJxoNKi8twthQH5WtURKNeRTX7kBqYTVyRbgZ77Q1LbYhKB2p2KWkITMzC/kFhcgtZHyyM5DLjNcS+e09Q+gdnrLy+tWvfh3NO3agpCgTBZS1mLLk5LKApMTRd/kj/OSNt3D66m0U17fiha99A89/8Yto3b0LJSXFrKtarTaFdTkD5SyvVZVVlLMEEyPDGBvoR1f/EOtYNTJL61jG3SIMGhGyMitJmRRaCEWj2FhZYL5F0dXdi5MnT+P8hSs48eTTqKquIelJQd/wMJLS0lFNQpZPUpFBj1ij6UsUSdOMz9A0PrzUiemVHFRXVuOp44+jua6WRDPHFj/Jy8tGQX4uCV2FTXeuLCvFQG8f6/iYjbDVNjax3hWzHi3j1q2r6Oq8gb6xWew+8jSaDzyJPTtLUJKbiVL6lV/oXi7V0Z/GhgbLZ5GJ8xcvIz2T4dnLoRorxbb1Bwu1kTq71pIjqxjt68Olazewlp6B6sYdOLD/ELrb2dYtLCI7K4JDh0noqspsRLSvr59l5QJeffVVvPXWW0yfkzbrQW2syE1OTo61j5YiQV0SsR5j3M6dO4e3334bP/3pT3l+Hu0ksRpN1DT3jGyWb2UIPUmem7Fp0Rev3USUgu5oakQh06y/pwMvvvhTvPOevk0eJDlZJOmgwk8CmMP6re/qtBJuM8voQZJcLa7ywenz2HXkcTTs2Yda5lcm63g647wmRd9SgUIr69huTZHoXCGxvXRVL2xGSDqScfnKJbz3wTt46Sc/RVvbbcZjylb6zGB5jkTSKC7Tk+2crTzLtqCzs8vi+frrb+CtN9/Gu++9z+sLRrAV1wgJfDqZa4RGRe/KlWs2zVwzSEQAOzs78PLLr+Ia4z46OsV4ZdrLG/VDGo0/feYi3nn7JN5862289967OHXmI7TdvImlpWX6mcl2LVedln1jPM826tQHJ3GZaa0VZocZv6s32/DiT3+C9z94H9euXjWSnRlh+rMP1EI0Fy9ewNtvvc74/gRXr7Q5Gdi2yW+N3mtlaBvZJfmNkhBeb7uODz74AD95+WV8dPo026IbNrqqxjMnJ59+pzIf5tDXcQPvvfUmzpw6i/Zb7RgYHsfgxDTGZjWSXIq8LNZ1vWihu6G+XqbJKbz2yqssL+/a7IHevkEskMympOWzzrG9Vp4tzZFIMs9u3MI5yjo4OGJTra+wPL75xhvo7O60Pkt1LiMSQTrbeBFe/TEgGg8PD49HB2rZHm2wg9AiF62trTh+/ASeeOIJVLFjT81k76E9CeJ6azyF0bEJXqdR2cxFNjtrKfLawHmVRC2/OAfFpYV8lknld8wWYRgbHcXiolYDVBj8DdmTXmPyRNPvCnIyUVbAziQ1FROjE1iYXbSRs1TZWVnC7PQEhkme0lJX0FBfjeMnHiPZyMX07DwGBseoqKyYfa18uDA/a9/gxBajlCPLFEJGzOSUiiZlK4PKrL5hkxg2jUUdpD5n05BJ8DGcRpD0xjKUVW/HtffcKm/oG5WDe5tx4she1FdXoKe7jwrNDXbat0E+a2/HL1+5yus2U841QrKTilJeIQmKok053eqK8jBYTCBJU4WWmaYppsjmsnPVd1Ka4kodxMYIFpfWMDI8gvHRESoMi6irrURLSyNqqJhpmfjxqVmMjE9aWmiT6SUqcvrGa4GKn6YK1TXU24iebUWwSoVQ0U0m2aYSkkKSYdHXq1+x74R+XPb0jZbI3N1hCWV6n8LXdgVK3DKSiGePH8G+hiobjZWCJMViknGT3VSWO60+qHKhveM0i8s2vVbe875GM8KwtYap9spK1rYTCo7lEJQ9NClUkDV6mkkx07V1gb2ipjAaWaBs9In+pSOViqaUTBdf3k/LYPpl0IpTZLRsew7915dQKhbKdWfkixRMjTyQ7GgVSpYnsR4p5FrzM13pSbkqK0qwt7UJB/e1ICuyZov/3O7pQ/9UTNTdQXkufzU9LFksL53/koUFkv7bsKzemtNvKcS2Vx7DULjKCntbL6sastEymrEpjPXcQMeNq8jIykJNy160HjqGoqpapPF6VX4qXYM8TmL9KCotRwuJ0ZG9u1FRkIMxErvrN9vRNTJpcgavXwxh1TWZbRoXifjiPG7fuo2h4UlbQVELjjS1tJAcNWJhYd7agG7Ge3p2AdQzg6RU+ddLDMWHhDUpE8tJGSQGGuEI5GO+JLPepmVEkEGCXl9TwTq3C4f37UIO43vj+jV7qTFNgi7VWeWFyWPkQvFcS86wsmxVmMYE50VSVgbjXITdO5uxq7kJxUVF6CIBaO/pRUzNHI3L6UBUSuiWjM9AJsmUXhLl5eezfuYgm+2WVpUs5nWZpoCmR+wbwA7Wf323qNkO+iZymMRWRsRM5O5lKvXvvf++vexZtrIJ1vUZXLl6BT/+8Y9t8Z7r16/bCJ3cyQ8Rn9deex1nzp7H5OS83sCZuzVWtsRv0USWtD3F/MKCraqrbUliSyuYJ2mLxRZoa4XtVxYqygpQVVaM/Jw8tr/FqKusQ3VZJeOSZ4uuaBEZTevkKSEZea1hJxq1J/omU1M6/+6ll2l+ipOnTuMW4zfG9ucmicj7Jz/CD3/8Ej4kMenrH2f6kdtQVhHW8+fP2Tfar5Hs3iTJGh5hmzY2jh7mwckPP+SzV/Da66+hnaRDi/gskxT19fXgo1On8MMf/siI7qlTZzA4MEwipe9o3YjX2Ngorl+7jJde/Fu8+87bJGLXbYquvk3VokAfsO0R4Xz1tbfQ2dWHhWjMFhmaY57dYHq/Q3Lz4x/9iGn9Gs5Qxt6BPpLDHvp5hbK+Yvn22utv0p+TuERi2dHJ+I6NoO3GTbz//od49ZXXmFc3MDsXYzlOwiJJUm93NwnXK/bN9YUL522RopGRUYZPeUjyXyEZe/PNtzDYTyJG4qcRQo0YrsWXsBJbtBWNF+Zo5mNMh1X7nn1uNoqLZ05bGr5BWTsph/nLsnKDsrz11ntMo9dJNPsQVTvLdjUWY7lknumF7d+99JIR3UuXrti3pFOTU/R/wUioFSVmllrLsLZ7eHh4PEqQSvCIwjXaydR6MjMjtorhc889i8NHDiObSqAWuJhgZ3j7yiVcunAOVy9fsu9Faqi4FReXUrGMUImQIpxFvbQQhXkFKC/OxXJsnGROy8QPYY4dk1YPpPpJIzWZyrOpyjQpmUjP0LLpFSQz2TY1cnFmVDsHGJZiMYzPxDAyTWUivRSVVVKS96Mkj0rgAhXY/nYszo5C+5WtrCZjaiaOmdkl6iBpKNS0TCpg0uykOhoYz9hinOR01hbHGB+fw/jIFKaHpzA7NIrpwX5MUNEa6B/C5IQbEbHsl1JHP7TPUxLJQyYVoAPHTmDf/j3ISIlhoOM8rpw7ietX23Du3BVcbevA1MIqapr34sDho6iuKkO2OAP900QbUxKlhJqSLP+ZFtoLLiPblnrXCoTRhTkbWdR+cUqtJXbKfUPDGJictTfypVVVJGm1qK0uRwFZzOLUCO0P2JQh7aE3Rw11dCKK6Tkq0CQsjbV1KKQQbu8z+keGattT0M/u7kl0DC6gd3ACk1QMJqlgjZG8Dw6PoZ/p0j80RkVyhqRS5Fyyix4rRZzZOHMrYy6TpKymZiKnsBh7DhzA/kMHqEQW2/dwt6+cw1B/DxW8FdsbS2mhhSf0Haami4msqTwqiVJS1shrKH+StmuYZfyGqST1YGBkGhMjg/bd5shgL4YHetBPBaxH6TMxjSmWo5DIhUZTXDWFTcpPH/N4cHzBtswYHeyhHzL9GBoYsFHXnpF5jM0AC9qlmnESCV4vCyJWRrCoV/OmFptY5lHKv/tdtPQpKsrDzuZ6FBdkUAmbQj8JyPjkgq02aDCx+CPGoQzRUUbpaISJhsqsvsdcZoVY1fdniFPPpnJHWZTOTgEjVsleWE+GmX9DQyMoryhF444aVFdrxIiPaXmZCptN22PdwJpuMmyS27wCyrmrGVVVJfQ7TgLWay9KJKdE1NTnZMZvg9Dpl+ExzGh0GW03OzA+O4/y6iqUVhajurYIdfXljJq+extDV1ePTcWmTso6qvjSLYlXPFn7xaVAuR5nROIstwpf0V/VN2KKvwXIEpeZiYqKMuzb3YKKohyMDvVjmAr85ALThgRae8KpFClftLed8kTpY58tMb208I6RIJHKtRSUsu3aUVeH5vo6zOhbx/5+KuDKTxqGKWcKWqs8yme1Xdm5haggOa6prkNZSRlyMrNsdLO+ppL+VCGPnHyBbd7V82dw8uQpXGsfYFuRhwrar62tsZUw+3racfrDd/D2m6/YrIR51j+ht7sTZ0+dxKskDre7erGcmoW6HS2ood/ZqSvo7yJpePctKuQfoFsLT0WXLN1IHWB7clq5YXamppCkZaKyvIzlr5jks4jks5DtJstCDWUoLEB9XQ2am+pRXUe/83ORW1aC1v17UV9fYy/WMkWmmQKq57ZtRuC3q0+rJIxR5uswCcMlW8zq3bffwUDfANJZ35sbm1GQnY0Ztvsn33rDRpuukqhqNeEY079/aAhvk1S8I7J78wYysyKoqa1kWa1FeXkRZqYmcPniBbzxxpu4RnIyMjmNBealvtu+SULyzskPcObCJfQOjyK/pNQWt8ovyGFxWsPw0CBJ00WSLo06deutDqrra+271vKSYsTYfpw/fQpvvf4qbpCkaZEgIUYC3D80gIuMz+tvv4Uzl69jcDKK/OIquitHNuN8++J5vPXKyySLL5KknsYQy14a+8HahnpkpKdgqLcdb77yIq5dOouZiVF7UTQ1PoFrl0UG38DVazdZ/ldYFupt2msx03lmYgSXzn5EIvmyTYufmppBRnYRSirYTheVIi83FyWFeaipKEGtpn7npmNlaR69Xbfw05+8iLfefR83uwcRyStGDeNZX1uKjLRlG6l+m2XlXeZNT38v8y3Och1nXzyCK1faWIY+wo1bHVhYXEJxWTnKyitQUFBoI6rW7lqquF8PDw+PRw2P6JTLsNHWcc3eKhZo2lhhEXKyc+zbmLMffYD/9d////AaOzN9lzY8PovHTzyNJ598whai0Pci2vMoVdM0NEkn5hbiGOzrJqlYQ1ZhCTveCpsap8GM9Td/ep2uoxRFapujY5P0e4EEYtoWbqipLLKpcMMjPVQI2nDxchtaWg+iZc9BNLfusredIh2pKcnsyKhIFmQjkpaCa9fa0N45RFIXx8H9h7C/hcSzLBezA9240d7HzvoWBkapHNy8jTNnzlKBes3ecmrqyRtvvIa33noV7737Jl7juZb57x2ewZ79x7C3dQeaqAClUasV4ZBCmptBcpSaRuWKRGN0gKSog6aHsl7HLBWu5t37cPyZ59DK+OTnhEtOszAFUXekzn1LIyIjbVP7wE2SCPYMTmJqNobM9GQc3r8LhTkk17PTuHL5Im53dFEnTcHBwwdRVlFuypzebq8sx5FLYrebyrmY4+T4JBUKpsftbqRRUfjqN7+FkmIqPwuzGLh9HZfPnMJHVztwrXcU7569jJPvvIH3Ff83X8drb76FV1/j8Q0qBlQczp49b0IXFBRAS95rYQklg370Fl+bPEvZUzlaIAnvImG61ampt1Hs37Obil49cgqKcP7SZfteIz0tDQ225yDTcDWKlYUxyvMObg+Mo7JxL+paD6GhPA+pS1PouXURl693UsHTFNdJ3Lx6AR9QYXnjjVfwxptv4K2338DLr72Mnyov334XV67dIBkfQQkJVXpqMhbjayRwwzh//jKuXL2OEZabM2fO4W25f+0neJPK9ZtvvM3j23idytfrb72Hsxev2uhPblYKFakI+dUCldg5XDzXxnRdQEZOOp754lMs2zkky2lMD5V/GZI7EjB9+7NG5Wua5UL7/fVOxpBbuROF9QfQWJ2NLKaZFsHRxvCkDUpJgxtHFnki+VglgaMfkzPzuHqr05RYTVl76qknUEYlPJPlff37Tyq9M729uHjqI1y41YXG/QdRu2+PTZ+LsMBpcp9GQu3dO0mPjGUeCUsSw4nHZjE40GlTXqNJOSio2Y3djbXIpWgZpEa2Eqv+rMzKKQNm3mpF2b958RXMLa6ynuzGocN7SBoiVJKXcU0LhszHWVXSqLQ3Ip9tQU4m5UiOY3F2BLeH5/DexS5MxLNQUVKAxw+0orY016baiY5pxFabt2t6oNJV33MtTJJ8dbXjJklPw74jKGzQSqZ56Lx5heXkKjr6xtG093FU7TiA+spMS+eIpodKbrG0VaY3i2kS26bpiQmWiyF09Q6ggATt8NEjDDud+WmvWERZjcxqVUHd0Mb/mp5Z29RsK3iWF2v7hAzUVVaRHFagODcNA13X8cZb79jLgsod+/Gtv//rOHH8GI4c3GPfOipPY/MzbNeGSfLqmSbFRsJ++tKPcZlt2irbg8effh5Pf/nr+MJzz+KxA7uwu6ECJSUlaO/qw9h0DFpZt5jETGkzMjHDstFOhT0ZjSRkrSTxFSW5Nlo6wLZ0LTWHZKkJ3/zm11hujtt04EK28dqzsKGuFqWlxTbboaiiAnXNTbbHaG5WBtu5ZJYX91LFEkP5LYrM8jc7PYZOkvTrbe2256cIyhMnjuNZyvvcU8+gtZH+ZGdhbHgY3SyT87FFHGBbNcd28lbHLbz+xuskPCn2zepv/OZv4LHHj+Lw4QP2fWdaajrTR/s99pLYlFMuElOSNq3ueru9nQRlAAePHsOTzzyPZ559Hvv37mW865CbnY5bbazfl89bXX/6C1/BV77xLRx7/DGGsxu7WhpRzTgODgzYys0FBS4NtG9jNDpvLyv7e7uRmp2LXUeO4/DTX8ZTTz6DY3t2oqE4F1OjI+hlWRmdmEUlyflBynvi6Sfw+GOPo5zEeTUaw6Vzp1BWWkhiXIWKygqc+/AkSfi79vJw78GjeP7LX8PTzzBPjx3Bvj0tKCspwtJilMRvzL5pLGUeV1RUI4t5p71fsRRHy85WnHj+eRx96kmS8hKMD3Xj/Efv4CcvvYiCsiqWk2/gK1/7Op46fgTHDu5kn9yIpLRMjM4s4MbN6yjIS0NVZZ69u7l0vYOmi+1vEo4dOYqvfOUFPPn0k9h/YB9lrrNyFUmPWHvu4eHh8ahCXdojCtd667uotLRUaPXFdJI0dbiayiOSoI/MNVKwFNWG1mMYHxu1t5tx28SNPpgyq0/oI8iKZKKqvBBZ6XEszFNhGuilYryAJekCsqwfOxGYrMkRJFHpyC9i51pQjAxqqPMTg5ibGjUbA+x8RcBW00gyi6Vw1FCRpVJVVmTfzU0MdmJuYoC65Rx12hSMUJGamVliR1bCDrwGZVS6pJWEGwdrWubs3AIJ5LhNNxlgB99P0zco04+BoSHbh2+Uiur09Iyb5kKnTApLKVuy2t5apyI1twgNVHq/8MxhNFFJj82O4sP338co5c0vqsSh48+gqmkXsvOzzK2NdNg3hFTZdcMUJqc6aiqdFPukjBzkUsmrqa1FGhXx2NwklufHsRadYKdPRZAkLbqWSoKWh9yiIhRSES6lqSjKxdr8lI3QRZlPUSrUswvLGBybpah5VAgrUVrIfNFAIAm0lHvqp4hS2dICEWNMj5HRUSrow/YWfWBwEINDw1Q8R3lfy76PM12Zj3F9B+PKzDonCP4sY3m9yrKkffTiSel21NTBaipBR6gEPXHsEFbmp3H+tL5puYGRyTkbqUsimU1PomH+25L4lE9KvH1zqZGpVZXDKNN4BlMTJP8jYxgaGcfw2BiV2jEqWiO2iMGANuam3Bpd1EgseY6lc7LKKI8ik5qaNcR0GhoeZNzoTnEcGcHw0IiVCY3eDbEMaHsAEROtxulKjyLMPDMSpjEMpqHia1rvhkmhgq5yohcYmkKbTRKTRmKp+rK4zCOjJPpOl1ijPZUIXetolFjehOlpRMaljxmmh0z4LaoVH2EtxRaIiM4tk1CuICOT9ThD5XWZBGrNpmdq2q1eIog0aLEFm9apskzZMlkwcnLSzJ1W2tTIW5zJLsJoUqkCyBgUaCrmp6Po6mJajU7YyHJDyw7kFbH85qehtCwPTU11yMrIQF8f7TCvZuZZ7k3eVCyxjCzRHy3mEaccGjNWvC1uxCrLgFbes7RhuEwFCzYnIxU56Sojyyzji5inhVV7U8K40AM3iqp4Kn9CaKRPZYlx1fxqGu3xlxuJoCAnx0Yf41TIF7VqLR0pL+SNRDUyp0LEB9m5BbaSanNzKyrLK6FtS+qqq9DSWIe6qjLkZjCf47NYnJuy7zYX1zKRmVdK5b7WVonVKphffP4pfOXLz+BZkqva2iprY22bi1s3MT05akSgqq4RBeW1SIlksexkoLY8Hwf3NNsCVGqTzgYjVFOLKzZCF2djIhHll15wZTIPiwrzoUWIMkhA9Y1WMQlrSUkpiU+uLYijlV0rKkvZhmUjo7QEew4dREU5n6enwFbTdUWZhqlghUwXOihlRPBXkJUZQRUJ18H9B0iaDmJX616mRy32k4QcP7AfJ0jiRIK17YRGfZfiyyglqTp2/Di+9MIL+MIXv4Bdu7UybC0ammqwRwsUHdxn34emk1iICE7OR5mOwKIylv1TUWkp6ptbsGP3PhLrJmtXysuLbeprZVUl5TiAr3/jm3jiqaewc98eI18NDfXYv3sXyeYT2FFfi3QbPRvF3NwMltgeGIOhiWRnMO3r0KyXhvsfsxHSnU0t2NtQh8ayEuRlRNg/RhhmLRq1qm1rK+qbGrCHpG93cx2yWaW0zcrM5BiiUxOWp523OyhbAaqq62x15ey8QuZHNgl5Hv2uQ015CcnzCjrbb5LE9rOvXEZmTjHtFCCP+VdM4llBklhGkh5JXcXIQBc6b11j3YyirLIaDa372S+WI5MEOi87hXazUVNdgny605TRzp4uDI0NM56qzCnIYr9RW9to3xC37iEZ3tHMdKuyF3XaEF9JIWzUHQ8PD49HC6aGPMqQAp1MxUr9pqYsLVORSU5NR2FpOZr37sfeI8fYCbSw08hAf8ct3Lx2FUNUfmNa5SzwQ9D+ZGWFRcjUyBWVmgFNY5yPmRIbEoBNkOJOuwV0U1yYw06RRHC8BzMT/Xy4hn4SrYGxaSRnlSK7tIkKYyXvR1BfWY6yghxMjfbR7iDmZ6lIxZMwPBGz5e1zCvVmt5IdWwG9kbrolGFpqFns/EvLy1Df0EBC1mhG03K0JH+D7tHU19fbG1MTN1RkeeGmINHoFomK3pwfOXIYO3c228hVT08/iXEm/WikcrIf5VRs02jdkUKNjGiMREbfYmnEQ95qmp5CosW0LOTm5qOmohI5VLTXojOIz45geW7Epu0Na9pjai4yC8qRla8pVYX23UtVEcNZnMPc+AjmZ2aoUC5hZiFO+wtIyy1FeVUtsrOo5Cse2vNubRmp6cn2LVBldSUVqkZb+VPbOVh66FrLvdM0UWmpratlWLkk+sFb+3UoITZ3/+LOsmLWjDxkkHxWYgeViC9/4TmU5ESo6Ny0j/g7e4ewQMV0hemyprSlYr5KcqLvxURSksgAkpVmSWlIz8xDQVm1jY40tzRjJ5VkbTPQTAVPWwfINDXtsO02pNBocYLkZKMC9oIiLS2DSmgeiosrqdTsYHxb6U+rxVuL5DRRkWykkigF0N7eUynO0P5k6/G1HONRzQHlNRlpqFC7RR/MEpVhjbjpGzsSO5ZtfeunTcdVCo0wsI5JLXZfMTof14MgNmqUPGSZDV5GOPs09CtJhlfr7tb0zWTUpsNpRb4kjZinRFheHZGVgi5jPsgLO6G/OjJPU9OYvmksH/p+j/Eh51+Pj4VihEjfbclo6ucSRseG0HbjGrSvnUb1d1D5zWeZzM0pRHlJBfYyP0oL8jE+PGwjIxPTU1YPFKhGM/XNoUTQRvaaBqwROBdnF7CrK6ojJqwJrZHpVcbJ0nFFRH/JkdUwfjQOgR92SgtqfPSQRcwZpgnzRnFWGPoWTd8nyZ7cONeE88BMUkam7b1ZWsJ6l51pI+7Z+ZmIFGUDeXkge0J6lhZ0yad/i5ga6UF722X0UqkeG59AbHkNtTt22UqtL3zzW2jZvZfpnmp74w1T+Z6fmkSE6RydGsdA521cOncGFy9dwq1OtnGaYsnEm2IaXmPbqxE+jSzpm7llbaovw/SzNpYZrPzfKLhKwzAdYd8CZhWUkMzlsillfmdmIqOwENkkt7YdiSwx8+3oLniU0bkuSbQpS1ZOHiprGrH/0FE0sA4Wsg3SLI9IQTaJUwUeP7wHxbkZRm76tIcgC35D/U58/evfwte++it4/NgJ5GUVMysifMa8ZbnTVhTZuelISVtDXKvfLi7yvl4s6sVEsi3sU0MSXVVVQdITQUZWMpM9lbJnoYX1+JlnnsWv//qv48CBA9CiIJJ7RS+M6DY3N49uctgOpGBBL71iUVsExdJJhI7pUF1HAsh+oKYmhwQdJMBZRvqL2Y8UaGS0qJhtYSPKKmqRE8klGYvYolcV1TXIZTusFw3a81T7R3b3DqJzYBqx1Uwb7e8b6MfVa1dw8fJlXL9xE6MTE5hfjGGOsnSyDPSyr5uYYR2xtFZ+sRVRu8U8SWHbuLwUJ6EbwkB3D+sMexFm9uxsFNdvduDspWs4c7kNbR09GJucZLrNYXp8GGNDvfaST6tcptGPPBLF2lq257V1KCsrZ11NJVFktxPUoTCLPTw8PB5VuJ7wkcMa+2YZ6kXUpbQPVpzMS4ROCmhGdg6aqIR/5Ve+hW/9xm/jt3/nd/Hbv/4tpFBZkbLx7lvvYGx03N6iSxVTdyAFMpeKTaZ1QMu20fNcLE5lJFRizdoGpF2SBObm59ueYbmRFcxP9JCo9fLhPAZGhjA2s4D0/EpkFtYjkl1iznbUVKOuvBhLs2OYGevHuFa+m4liYlYLAaQhp6CMBCCXZJG91So7bcqssZDU9BS07tmFr379a/jeD76P73//+/gBzfe//z38gNff+9538Xu/93v43d/9HTz99NPs/KmQE0oniSpjP0o0IokKf3FJEYlQPU2jbcysqYQiGpUVhbZohdJWkV+f5qZ0ChLBbWyrEQgtvKLFHKikZGSjkkSxMCuCdC08MT3ENOm1aYSj0/NYyShEFklJJLsA6ZFMKkVZqCstQkkGfdUG1cMjmCDxm5pbxPjsMrKLtVJmg3RYhkJFbc19k5VFcr6juRFf/dpX8Du/+9v4DuP++9/+fXyPafEHf/AH+D7T4zvf+X38w3/4O/iN3/h1EtQDVNwLmMf36vbDeDEsGn3btEZioUUvqP3isUMHcWz/LipJ2bYy24UrbRhjGVmksieisywyYUYKHhVTEbrVFOqd2aiqa8Kxp5/Ht/7Bb+Pb3/kevvudb+Pbv//7zK9vU+7vMu++T7n/0KZxPfXkE1S8i+hOpEBpnMzzLCqCdfja134Fv/M732bc/gDf+e738d3v0q/vfc/Kwh/90R/R/CM+/y08ceIxG7XQlDiD4iOFPyRyNJJTI5bKRlePNJqnDGc9YoQWoouYW1i071VsNEwj30wiVyRUmFx6Ka02UjU4MyInmzoqFsq9DbMJJAL02oKQc/dSRrJt2NvwP4T8FYkhmSExEBGU/FqePS01YiOM61lNwuUW7tHLgJhNBe3uaceFi+dMmd7RJGLdigISuiyWz9KScuze2YqaslLb+FuLUvQNDoK8hGCeQgsViawzJgxbo8Z6seHiG8qqX9phW5SsiDHhFuOrJEZMW8oshVffViqGqfxJZwJo9V2NjiaOqToGxzO6EfHRFE59o6el82OxRfqfbEQ2LYUyOQcbUCBqA5S4PLfvPkkuKIDzO2z8VMlZF/Xi5NDhw8gn4Wu7dAb/w//9/4o//Sf/Df7pP/tv8c//xb/Ge6fOY2J+GcWV9WzzihQ9jI+PYpakp+tWG1764V/j//3//L/hv/+z/wb/lz//M/zpn/4Z/g9/9uf4J3/+f8ZLP33Zph1O0O7cPOvMEskOA9e3oavMH/6Ki9NPlg8ZyutKkCM1ymMHCcw4SGZZoHszhM3M4N96MrhkDMAL/bOMxFm209lO5RWW2ouzdLZB8n1ZU4XZviSlMo55GSR0JLmUbbivH4vzWg20APW1jSgprmB9zEB8aQmD/aO4dP46fvLSK/i7F3+MN995Fbc72kheJyj3suWPFgZS3uiFkvJX000Fa1t5msR8zy8uRnlNLarqG2yWydR0DAP9/baAiRaV+ct//5f48ORJDA0Nmr/W99HfJMZZixslk+ilZ5AEMk/E7S2VKN+K6i77RpWP9EgG0tIzGU+SQj5nbbAXDGTm9EcyMrVXFjA7M4lZkrie4Xm8+NpJ/E//8t/gz//ZP8M/ZZ7+kz/7U/yf/ox5++f/DP/m3/5bvP3+e2hn/dAWCUsr2p5CEaJsKq/LccS1bcVCFPMz2qJgAqP9g+i4cQv/5T/9Nf67/+6/x5+xbPwf/+y/xf/uT/8Z/vd/+uf4f/wP/y/86If/Gf29HewL+jE1Msiqu8Q6olk4EXuxpRdCWjjLRnYtCfWrHAxrjoeHh8ejiQ2t6BGCcYkATiENlUYd1dGlIZKTh6LyapTXNmD37t148vgx1FeUIB5dsKX5terlgvQ7+qEOQr1BhMpXOjthvdSPU/GJ01+3+xARagp25B310lSmcvLyUFKYi9KCdOqLo5ga68XMdD9Gx8cRW0lBQWUzMkjo2B8ZqooLUVmcj9RVTcMbt2mgA0MTmI0x3LS8dUIHvam2Ebo4OzEqjdTLsvNyqHiVo6VVWxfsdGanMy2aSrNjh+25VlFeYW9I9S2JBLZOPkwzdeKKhOQnqdPKlBoN1PSmAio5+fmFJGYMnk6lE4oDyqoM/wOjX3motEliOonUOUJXUliIioI85KatYY5pMd5/E4ODvUZuQVKrfYlSMkhYKUdmeipqS5keeZlIo8I60NuL4ZFxjE7MYWhiHhkFeoNcZ2FL2dLmzmur7ODTkqhU5qCqpgr1jQ1obqnFLuax20hcCvoOtOxsZpo020idvtvS1gWKzwac/A5hrNwYpP7WqPhoX6TYqtIrDdlFhTh+YA8O7duD8YlJnCehu3D5mpEejdJpGqD2ZpI7EaYkHpNF7JI1QpeLApbF2iaN0DVhZ4s2FJecjkxotE2y79Aonb4dY75osQQpq5pqK/KVLmJY1QDtX9hM9zt20D7z3DYWp9Eqr7t2tdq3KOVluTatzKbZGhgjsTHJpSZB8gZGdSeE2/BYoxirmGe8NP1OUzc14p2iESFFzWy4uqb0NGOudX/jLFSy3FPZV1guvDDVDaxs2uYgKytiUz413TS26EiyVUslg+zpaOLphH7TrFGJXKLiGtP+YVQepWhnZmbz6MqvQYu02OgcKzvrXJR1rn+gB7duq1wO4tTpM/i3/8tf4F/9y/8v/uW/+tf41zy+9KMf49r58xgbHkJ7+210UGkdHZ+hkioypjUutxmhM0XdUmX9z8icEo0utB/bQlyjUWsW18wMt1amLSDDiIogyv1muLKkRF5lgCI+qnGaAqjl6DUCohV7szIyN+JLmFfyK/DTKdr6BpCKMcuE5dJ6VvEZ5cwvLsO+/fvxlS8/j68+/wT272627zi10ufb73+I//TDF/FXP3wJL7/5rn1nuhCN0u2K7bNXVVqCI6wXTx49jC+ceAzPPfUkntBm6yeextHjT+Abv/Kr+NavfQtffuHL2MG6qdF1C9/eBihG7lWCM7zSs6CyirzohZ3sWL6rUNgjXdOQ4Ai2hYK843ngkv+0a4UmuMNT1SfVSa0Ou8Z+YpmBqXS4pWjYGyQtIZttV2YyazPJRGxmhsRkGdrQ/HZ7P37601fxP/+b/wX/0z//F/j3/+6v8NOXXsOZ0+fQ39/HPJ5DSrrqD8mM9t+j3ApZ6R4SO0VLRjxbTbzkjM3OovvGTfzkRz/Cv/pX/x/883/+P+Iv/uIv8NJLP8Hp06fpdz/r4jzbcEeAtVegGV7rBYEZu2adYLQFvXBLZqOvby4tXVgObbSd5VcxlVmGO5e/qiPJqzHKvWALU6VklaBx91HsO/w4jj72GI4ffxyPHz9u006P0jz/pS/hm7/KfP0Hv46DR48gn+2jTTder7TOrPE6zjq9xDqqRadrKqqwu3U3Dh85hqOPP4HHnngGR598DkefeBrPPPccvvn1r+Db//A38aXnnsKO2iq2vPSHcXBtiGZAqG3WdQiLgRnX+3t4eHg8mkjo5h9NSAldjC3aMs+TVLSjwZLORlyoiKZmZKGgmJ0TiU5NXa29AVUHOTU1hVhsyfQBKQzqN+x7JSWZKRPqNNRZyAi8NqWNsF6ZPXJyOiLZ2fahenlJPjtEyjE2js7OAUxMkYCkZZCQVCE7nwqx5QQVIK0AVpCPnEgEy7EFTOij9Z5uKmlLyMzORGFxASLacsEcuE5Mq0jKJOkbmvRMZDNq2ZnJVITTkUFlOD07B2k52Txm2fRJ7dUlBUKKhGKyTHKqkQ+DGJrFT3GgaqrpahGt2JmJCNNKiyvoqUKXtXUlxLkIjDpOGlPGSBipdK6y601NTyc5ZPy0MXZmJoaHJ9DTPYLB/hHE5hfs7X9pcZEtLKLuV6SzrKQQpZp2SeWuj4rzMJXFceblxPQsMvMKUFpRzhAJfY9GhUUKjaaPasqZvnPK0rdJJMsFWSkWpjbGziZ5y8nMQC7TJo9plJmpaYsuLUwXsJ8wNjqXQuCouymOdpfKCcOKS+GWvYwc1O8+hCNUboryIhjqvIgLH72L8ZERKiyiclTQqWxIMQ8VepFojRwpnSLpKcjJykSu7VSQzXzKpZy5yDGTSZOOPMqZQ1KsvJMYUly08qfeduutdybd5+QwvtSHsxiv7Kw8xi3XplxFSBJyzD2fsfgobaXEuTJEv0yrc4qxXVM+HS0t9EjyrvIeyWN8ORnTc3HMRt11HslhQWQNGVJC5SZoVpR6IcLUdJ6Zhwb3TSH/FAzDCoIzvdxAr7JJzrMKWIaZBlrQaGF6DisxjUjRLu05HVFunUJr7nm9RII1PRfF1KyWtl9k+kZQlJPmNqhfF0i2zYWGLTBIktbN+q/vLKemZ3DlylX8p//0X/CXf/kfqUT/r/ir//BXePO1l9F1+ypWFudskaSezk6WYa0mGTP5VSdE37VnorYxcKnh0lqlTCtMapEgS2E+17L343MxTMZ4J9VNTc5nmqawbOlbLSm98lhu3Fd5YfIFZ5aGtMLjIu3PkGiPU/Y0Elh915ROYqdplE4CWQyNXgY4sqSpe/re2FkgwkCUMWIXefmob9qBL3/lBfzmb/0GfvM3/j6ePHEMtdVlNqp58+IZvPOTH+Lv/st/xKULlzEyFUVyJJftRg5q6+rwRSr4v/W7v4Pv/OAP8YM/+Ef4AY/f/8738d3f/w7+8R/+If7ge9/Fb5LUHdjVimISujTGU8q6OI1t0m/yUiBT2C3lJJz9KjL6U55bxMIGiedq1jZqXOgisKfCY+cO9kz10YgO2xIS41Uteb/+VOmTgmW2i6xxzF0WQN6KLy1iaKAf7771Nv72hz/Cf2Z5+RHJ13vvv4ubt29gLjrH+phto7uFBZqKmQLtj6rRNPM1yD+JrWRX+dGWfMJqLIouli/tZ/fv/+Iv8R/+w3/A3/7t39o2Kbdu3cTs7Jx9J+b2WktnfpK4UXZtEq5iY/lLE2c83Oid8zdMQaWZaowZnmvKvKW5GcpFazbCzfM4y8cyhdSasrn52bYYza//+q/hO9/+js0G0CyQ7373u/j2d76N7/8B8/mP/gTf+8E/or2nUVFaam3fmkaSVeJcxHnUOsAij6wXbKf0/eAzX/gCfut3fpf+fMdmmPzhD76PH3zvOzz+wGYZ/PGf/DG+8Y1vorllJ7ODNYLyaaqsjiKfFscg/Tw8PDx+WRB2348kpORpH5q+3j68+Hd/h5/85Ke2t5RInbourVZpZEMjVeystIdbhMq+TeOhkqWOTH2Dputo6omb90UF2DoPdZBx2tH7W0GKfdBbGtSj0JAEaoShqqKYCnoSpiYncOlSG+bm15CdV4Syqgp9XmZKlZFDyqFvG+oqK03xEyG4ceMGlb5lFBYVoKy8lAo6u1zrsPSjqUS6dqROy6druoz2nopRtOU44xDnnSVdsNvW22x13BTV3gqzUw2ncjnFUYYeyNBu+N2h/FWn6UZpHOTHHQjuyUfnK3+TUrFkx2RTBEpLtVFtBL3dg0boxsembW8+fShfXFRo6c2gTC7tjVdWnG8bn/d0dKK/R1M0J6Hv0rK0UTUJovYL1BLWRrqkKNMvTWdSfKT0S2IpDYq33lTH15ZJxJZoNJ1L950RFL+QwAshUbBhWRl7YKlFt/wLFYe1VGSVVKF1j76nO4Gc5Hlcv/ARLp3TVgZj5AoaZUkiMU3e2H+OXi1rmpv8l6KjtwchmAD6k4xxWnShCvxV4phh+Cqrckt7UghVJEIpdVQMtdT9Ikm79kuzRXz4wHQpyyGWaTq00PQtpjLV/FHTwPt2yVzkdUoKiTbry0J0BSNjc4guppAUF7CslqM8P8M27ZArhS0o7TZh07XOw2sXji7d9N0AQbqns1wUlhfbHob9rMuDPf2Yn5m3CFqcZVX5zsx2soossx4sLdu3rkNjU7YgSkVJESqLcm0BHWv45FgvRkRkGO+FhQVcunwZt1nOVNcfe/w4vv71b+Cb3/x7+MoLX8dXX/gmfuXr38SvfvNr+PoLz+L4sQMUL04y10eluwPTtqCSNutWjVxBhG2CNphXWRTFsyAZUU3FdG+KlCEx29C5nXVhcGaJZbrUluUv0Igk7WkDbNVZ84GZlqbtLnju5Fd7RG9YBiyt+XyCRE5bXPQODNl0by0RPz83Y82TuZM1c6U4y1iKOfcyKjSW/7w0rZ521Pal6iVSqi2nv3NXC06ceAy/+ve+gR9857/C//Z/84/xe7/x97C3oQKdbVdx7ux53OocooJeYKM5IqwZWdkor6xGXWMjTRMaG3egsaER9bV1aGpoQDPNjvp6e3GRwnbVRjcZr3ArEhs7VhlkvkhWjUC5kSOJmMLnASG1AuGMFuYJp2eKCLqypXjSXeDWYHF3YaQxjmtsJ1eWllQ5Sfz1VSQhf4P2f4H3o8yXlEgqqmqrjJy1Xb1KMvc3NhKs0cc//pM/wR/9YxLXf/Q9fP8H38U3vvkN7D9wELk5+ZQzJehjXH1XeTV5WJ81PdfFl/nKsjEyMoSPPvoIH7x/EhMTU3j66WfwX//Xf4I/+eM/xh+SCP/+7/0+fu3Xfg179+4hec+kyNr+Q+VBcVWMgj5LcbQKw4PBUsV+lRIBzaIsGl921vQ1aBr7L6WrfQesl3taCVgfT6teMv4VFRXYqe9+Sa70ze6OHY32ze4OXje17LLv8oqLSpDJ9l7Tj/XySfJZejIsTQuNZGYhm6Q0Iy8PUT7L4rG2voFlpBLNJHgtNI1a1IV+a6aJvgXXN956yai6qziERi8mZEKsR9fDw8PjEcdGy/eIIVQmdVxcXER7ewfOnTuPs2fPYXJy2joojZBpiolWHRseHYU2gl1kR15UXISc3BxodSzrx6X90rvlxWUsUUmU0q+VM/URurieukSqGHaUYrgJ7FyysjJQWUbyQSKmzU5PnbqI2flV5OQVo4TKsPZ+Vmdq06sobyEJXSs7r2Re9/f24MqVy4gxDtpXq6yi1E3PpAySSQq2M1QS7OgUGOvPJbb1aPyxayo1NMp0p0RQiQ/SSZ4Zbdi4NCMyp6D0JtRGdMw/HUQgGOfQfgJcEgQeMBwROo0tJGsKGMltYRHTlh38wOAoSd0IpsZnbOUzfX+m1e9so2/Ln1Rk5FIRLGHaMQ1HtJAMFXopwKUVVcih4sssZBIznGQqfjwqPi5k/vLcvdlXOinJRGad4ZUZ5ZySQvmoo1MILLGcP0omi5Bs8hjEX57qjn3oTyxpPCY9B8VUeJ996igO7iynYrqA0x98gNs3uxHVprz8s83G6WRZ5JqeaRqhNqHXio0Kcd17ETorUoEiSjfKBxE4WwSC6SNFVt9WaQVAl52MjxPHYqc37jJarVI+65miLpGd2CoJUvacWyvD9MfSwMiCygt/TSj6QTlGRidx9fptnL/YhuhSKhW4VirjdajIp/JHW1Yd5Kcd9evMetwUsIKlzCLuIpVutNidW5jmQgiEZZmpa6rHnn17MTs9i1tXb+Dy+UuYHCeBIo83+5anShuNNi9T+Z3EzdsdOHXmvK1WWV5eYcvr11UUmYIu20xMuTR3Gp3ThuE3bt3CFMtXHcnGk08+hS996ct44ctfMUL3lRe+ga98+QV89ctfxFe+8BSePnEUpYX5mJmcxI22GxhlG6J6qvYilXKkrZHcqU6T0KzYsqEKk+EpXCnz8UWbtnnp8lV8dP4KxqNraN1/BNXVtShgnDVCZxv1M7+1Ub1N3yTZUX4ZVA4Ye11q0+0Jti2Xr7fh6o1bGJuaRj3JU2vrThQXFtoCEam0qLi7fNCv8okmyGRrCywdXT2y1TgZhBaeGOzpw7snT+LMubPoH+i3eqw9KLVs/pEDu3D84C7srC5GcjxqK8dOR1dRVFZre9wtkQD19PVhem7OXnulRZg+JAepKWksL8lou3IFH773HvP0LKZGhhmZRabd6gapY8G3VTlZ/uyPsoZGZMPaZ0N4dAiqD0G71hAGz+3g4rlhzBalSUJ0fh5To2Nsb7Qo1Zy9eFFar2jxjvEJXGUZGZuaRArJZ21DLUn8Egb6etFxux0lbJMeO/Y4Sd0TOPrYEezZvwv1TXXIJBFaZP8xPTPLrF+x775cmWfojJ/qtcqw20aDdZbnWuF4cnzUFt6ZmZlDJdu8Y0eP4Zlnn7H9VPfu3WtbK2jBLo2+SQ6rL8pPq2TOKFYW1nq8E4+ikDR8ZneYTusuee7qc5J7qcf6ms2yVFBcSH6fjK5utwG5Znik81pyqD1TUvf2D+L0uYt47+QpdHR0sv2bs1FixVvF1tpYGhG6NLb5+cUlyKLfQ1rpl2k8t7Bg7xEikRSSwXTrF7RA2I0b1/HKKy/jwsVL1pdakaV8aucUruWklQ0TfDP00Cx4eHh4PHpQu/2IwrXc6vA1jXI57jrdUx99iJ7ODiphU/ZR+AI7b22MfOn6TbT3DdhGwE3NTSguKmBHIkVK3RnBDncmGsMCO+MkKqOarpedQYU6VR2mhcQQlZyhgwDsWSKZUvSrkJ5VgLGJOXx0+jyiC0u2b1I1iV42CZo5kQZP+1l5WkZ8D4NMQT9lunntmil/Jfm5trl5Bjs6jcioB9P3aRpF06pmq8saqQre8Fqn6eJvbyzZoeumETmGpl8bwRJLuKOX01P5kkISQZLotCLedkp5aBxCxWAzFIKUKBmlkBQD7QGVxs65MD8f6RlZGBqbRkf/KEZJsLUxcH6evveRoicFhOFT6UNWDrJLypCZk4vJiXGM9PUgNjuJHQ1VKCnMol0Xmo1W0OgbJunQ8Vic9hawQAVqbmqVnf88ifwkpqiITctMT/E4gYnxMcxS2dAIjpQoxctGVORl+KfrMG8tTu5cfzoTLPeZjCKmB/cfxJFDR23Z7Ktt19FOUj5LsmD2aEdJrpHCtRQt+08/VhexGp1GdGaCcsUxPzljLx2mKO/s9LSZqclZxn/GlJi4htqoaUtJS2X5S07RlKMolb5RKoyM4/Qq3c9SwZ+wrRtmmAYy01NUVCeimJ3SyLVGmEVRpT5KgdQUsCjTYZ7pwfCm5Y/SicfJcYwznfqppF26dBXvvX8KV6+1M3tycejAQTTXVqEsR/vPOcJgqcN4qlRtlCzVjg0l0sqi8lgKLJVFZaNIi47KA+dOmUAfI9moadpFBfk4610mhnpu49QHb+P61Yv2bZLiNj/HvGadmpvVJuTjaCPpPHXqPM5T3iiTa/eePdi/txXV5axs9JzVmXFWKJRBZTy6wvSdpfLZy/qUTPJ40H3Hc/Qoj/ttT7HHHjuGg0cPY8+Rgzj22GEq7gdRV1PKdmQa7Tfc6rjaYkHlJ9UyegGLC9Msf+OYYfpp4QdtTaFyqNUhe/r6cfHKVbzz/ge2OqAWdXj8sROo08qC6RrRYNqwTCvlNGqsPb3mWW6nxlcwNbPEckG/WJYn6Fd/bz+uXr2Okx+dxg0q0CmRCFp378KuPbtI6FL1OaylbfCuwn6kALsz95cIlQnLG5oYy25vVwfefectvPLqy/jo1Ee2LYZefmnF09R0TevOQ3oOyXJGtrnP1vevleWoqaxguEm4fvkybrW1YYDEcG5mkXk2w7ZwEj39/XjtjTfx0k9ewukzp5kuY0x/1UV988Uyynqiqc3B6xQjVzqqnbS2jcetsguys2ESnyeehzYE+aKSu4Y5lv/+wW5cu37JVvJU+s7Px9A/JDLXhw/PXcPs4goKS0tRU1dDOVYYpxHm/Zhtk1FSVkzSU4Sc/AKkpEUww3bItg1h3MdHxuz7Oe1vqm8clR9G6Eh69a2lXkjonuK9yP5pfiFqq62qqBaT9JSXl6OM4ebn5ZE8pbKuzqO9owNDQ0OUcc5iF07h1MiuGhsVRa0EaVO1GT/FWE263jHIqLIqn9V3uG9KXSrZpFLLB80UEOnLtAVvtOF8eVEaOm6cQdvVM+hsb2PdmcbM1LS9ZOnvJZk7dQYvv/wK3nzzTdy6fcteliSzsU5muVhlBOeXYpiPRW0BH63KWlJehtLKShK5WXR13MDt6+cxNay2j+0W029ieh7XbrTjjTffxV//8Me2xcUE632cYqt0aJaG9rLUFWNn8su41shaJP7L2E0PDw+PRw6P6Mbigrot14ar45+bm7W9xy5dvGTT3KLsYDRVprenB2fOnMfLr79FgjGBhh3N+OrXvoa62hpbDl9v2tURrizMYYjK49Vr1zFPTaiysQk7qTBp9ChTHbP1FFK+wpAJdoRremu6ogU7VnD7didOX2nHOx9dRn3LXhymcnj06F7kUBPWdLXUFSn9q0gxD1Jw+coNXL3Zhe7+MRw4eAQHD+xDS0uVvW3PWFukv3MkON24TCXjo/NtqKpvtk3RtVm4IMXAlmyWdq2V/NjpxeZn2TH24pU3T2LX3kO2b1NDXSUVDBdP6/TVuQtUKHuohNxsH8C1ti40NreicUctqmu17YGU8DWXPmZZ8U+ATU90aRJ2qKlUECTLIglZf/8wTp+9yDSfwUpqBnYdOIydVLrrqspJcDXZR4qIZF7BAvOuZ3CECt95zM1HkUFyd+zEE5RnB0oKMml3CamM2wIVii5t1Hv9FvonFpCaW4rJuSVMDPdTkexAd8dNdHS2M07d6CSp7+zsQlcXFTZbDnsRkUiGkQy98dfeZqGK5xSENSpMi7anUnu7NhaPYc+uXaivq6VylS8rpjhphppGzTJpNBJz9RoVD5Kq1Ugumvc9hsadB1Bbnkt559B16xIVxG70DY5SMaYCvxzF+LAUP+Z5dw9l67byqc3VdS5Zx4YGrEylUz6tnCl59LZay4Nn5ebYUuHjo/3oZFx7ujss/7o6exhXxrmjh2WwG2OjjG9sDrk5EepwS5gcm8KZU2cZbi+mFqaQX5KHofEhuu/kPcrBNLt69RreeOMtKmmv4dyZC0yrbJw4/jSe+8IXUENCp28VNXBsuW3lR3mvVHPKpTvjfX3rqEnBS3MYm4zi4tV2dPWOYJmK3XPPPINKKqx6YSGrIskaP1A6pqWnU0EuprqWgnHmV9tVxrn9JkZHhy3v9J3s5PgU06jXNox/g/X5ww8/NKVXG9U//6WvonnnLmSzsqloavVI5ZWKu8jl1PAw0/EqXnntLVNan3nuBZKhA8gvKkIG62e43x3ZNx2z3JNEa4SpZ2DI9g6cHOlHQ0058nOyqLBGcP7yNQyOjllZz4mkYIHkur+/l8o3yyfNjZs38TqJjMjMR6wHWTmFePyJp/G1r34FFaUlJGAkmYsxEsXruNl2DVdv95AwFbOkp2NxbhID2tS98wY62ttx+dIlvMc4K2/OnL+IlPQsPPn0M3j+i19EHcuneDP/rT2wzCBE5jbyJjBMDHfHPdepbUrBejgy1IcLDOfC5SuM8yDJnBbIiNlLke7uXnxwkiSf9W6G7PnI40/g0NHHsG9nFebHRzDW14lTp89hcmYBMwuLRtzHmW9t16/aBv8nqfwvkakd3LcXe3Y2Iis92b5hvHDpChaXV9DU3Ijm5gZksT0eo2L/0dkrGJmYR35+Hvbv22nT2d2KrcwbK3rBqBMvFEeNArr2OYQsbTEkPnNs/2/e6sCFq23oINkenRjlE83KIPmYm8O5sxcYzzP48Mw51LOfeOLpp3D02FHbZmFgoAeXL18wvxZFUlj/tcx+O+vtyZMf2vd1V5h+2ie0UYsdtWqBoma0sT/par9tI8paRVQLGBWwHiuvtBKl2hnlscjg4PAI0rOyScJYnth/3W67jrMk1++QaJ+7cM5WCK2prcOePftQXlZhRPzc6VM2s6GypgZ1La0orKpGJjuF9HgUsbFhXG+7he6RScTVBu/Zi7KyUuTmZdiLmSUSyQG2Ie+9/x6KKyrRQPdNO3ay/ixjcX4Kly6cItkdxvjEGDRCqBdQmhJ/8oOP8P7Jj9DJciHyqb3yGkl8V9nfdjIuWhl2kOmQxnYzu4jktLCQdZ7lnURe5K+P5aubbd3acgzRWZLEsTFcuXIdr7/9Hk6du8gkXsVhbUzf2oTo4jIu3ujG7Z4R256iuakeTfXsuzOU60LYiifmv4eHh8ejh0eY0DmIoGjEx03N0cfocZtG09fbg/Zbt3C7vQP9VKj1zVnz7r147PHHcfjQAdvQNZ06Qgo7dLmdYeenDlnf1ySzU23Zu9f2ONN3X1pWXN2GlIdN4KU2k9ZiBsk0HVSsb3QO43bvGI498RyOHDmInS21NgqYZqSEyi5ZQYp9t5CGi5fbqOwOs9NaxfETT2Lfvj2oriox5TJNe2etxTAx2G/+3egcpJKxy1ZubG1pkmpjeop1Zfb2lfb13Vgsat+3vPX+WRI6kqiWBpISErpUEkkpdJRlPRa8GOgfQnfvKM0wWlr3UrkioavZIHQhXXOOQpdSksw5oac0vJVmy8NT1VpcwOj4NK6TzMwvriG3uAxHHz9OMt2I0qJ8xk/+ujTTG9cYFZuxiSncaLsJ7flUUlFhH87r+8NcLWiSTIU/aQWLM3MY6OjCzas3cKtvFBPzK+jsH0HHrWskABdwneTq+vVrVKav83iVhse2G6asab+y0pJSZGRk2Iiuyo3Et/RzqWlv6Xt7Bxyhi0axh4pKfW2t7c/lpkrJheK+RqU0HSkkyWNUaGep/Kyk5qKx9fA6oUN8hnJRnlud6Orux9zMPMaGB9BFItZGudra2hhfKfM37Pz69TYqmzcxMtCHCMtzEZXZjMxsKj8DLCcXcYOK0Oz8HHpEGm610Y/L5r6NadZ2ncaOt3GNaTMyPIEVkseKsiLmO4nq7DwuX7yMYSp+Y1NjVMpncaurHTdJJm7faMMtHm/dolLZN2DTq8rLa/DEiWfN7NqtPRwjrAMrVAIdAXPpEFA4pqMrASqDSkfNkWQ5iC9QwV+k3L0YGp42EvgsCV1FWZkROs2wE8KN85kp0ObR2nIkM8NtPbC8pJGeaRKlAdxQHEkobt9st+t4nOWEyqQU7mPHH8eeffuNeBspo/JuZI7GXmBQut6bt42U3GbeNu5oxbNfeAHllbWIZDIs2tOLEcXD5Lc4xJFOxVrfrI1o5dXBXpSXFJHQ5SA1kknic9VGnyZHBhGjjMMk3NqQ+RrJ2fWbLJ+3b0Ob/cdXVmy/r+NPPcc6/iyV1FbkZCSbQq1vqHqpULfTnV7szC2tkcjMYqiffrVdNnOT+dN+ux3aPF4rjpZX1+HQY8fx9LPPUfluQo4ILJNQ9dTKseLL/5Cw6Ufxskt7ZrQ7qLu6T0KnqdVUrjVSs8AwZqKLtkR+f18P43QDN5l2g0yDSFYedu7Zj2MkdPqeqlT7qTHMLNXN+LLtVzc8JtLdae46O9vpbpSkuQR79h/A8ceO2EbmGrHWBvhtJFdrKan0q4lxqUdmdgamZmNM21uYYNnRQiB7dzdbOY6QQGmaqKRXmXOEzkXCtoewsxCMoT1SeZThNQnl/PgEbjDMDpInbfhdbgsurdlLgxskPh2dfZhbWEZReQVOPPUUDrL9Liktov/6/tXtlTg3v4B+EpJOEpvOnh70M4+1cIle9kQYF41IVVRXo4rthjYa16hlX3e3vXA8eOigfX+WxzKkYqoRu1T2WUuxRRvVG6V8E2yrukg29XJngH3YwuwscnOzbINtfQaQn19gq+KWlpbbt4BXL17A1NgoKmpqUduyE0VVlchg4Rehi5KMXbtxE4NTs0jOzGUdOYCKijL6l2HlZXFhAcPM49Nnz6CM5aqueZdN8VT5zImskKDN2zd7esGiEcJ2vUyj6e3tZ4FLs+/gHj92DLtadtiG4xqhn9Go8sQ4bnf3YGx2AVOxOPIL9K1nJutnNtvhVJLDFUxPjrE91DfWXbh9uwO3OnowPRtFXmEJjuhF6OG9qKoswszcAq6196FnaBJ5jHvrjgYjj5kkdK7MB1nt4eHh8YjjkSV0bmqhU9i0qaw2XlVnV1BQaFNo+qj46k2hlvfWCmRa1v25Z57GoQP7bdGOdLKslLVlpJAEJaWs2kIMJ0+ewdDoNPJLKnDg8FFUsWPOp4JpREhh2t9GJ2JKhOTQc2qP+pZnnAoJ+RmeevYZ7N+3ix1oiXXeqdZ588SmRmoj5Ag6unptrztN3Xn8xAlbcr6IHaMUTH2VJk1temoOY9OLtsFrc8suNJNkNtXXOp1FU7YkAv1O0mjX6gq0Wa9GxW6192AflaidO2pRU11mfmpkSvbDETql4fjkFCao8M9HY9i1pxWNTdUoLysMiJzSiPbWY8ujBRgYwo3fKf5OqbS0oDY5H10mSZumwpyN6rpaKt6PkaxWUiHOpG0qkXQZeGFnC2TcI+OTVOhzUdPQSIX1WRSQ1GTRU+oXJstKdAnjo5MkOcMYYrrMUYmcojI9NTaI8REq1yRXmoY4McF8YBkYH5+yFTO1omQZFaC6unrkkKxHROgYbhh+eIxSkdUb9rHRMRsR2LNnN2pqqli28gJlUmCC8DxFexaSeKyRwMZXlpGaUUhCvI952Irq0hwqkPMYGuyhQjtFYjNPRW8VC/OUdWKM5XOURHDc5JyYZHiSl0qQpomuUnErKy0hqa6mclOMialpm7o3otEgEt/ZmRlM0f0U7WsBHi2kMMF4akqUpvppX0MRqzwqbU2N2pRdCymsUjnvZxqzbK7EMbswR38n6ceUTRGcmpy2hYREXFuoFD7Bsvj8c89h166dKCjMRLLeSBiUt+tn/HPjIpaWdj+wp8JA5X42umb1Kbq0wjTMwuPHH0OJ9tiTf7TvVgRVAeM1FUStHlRcXIzikjLW0TL7Bm+eSucgCVxnZyfTc8gU46zsTNua4vjxY3jyqSdsuwbtIycyp6ItP3Vuo9cmUxKJdCcuXb1m4Rw4dJiyPIHcnFybFheSOe3F5Uip6p5eFEWYt0kk0vMklpPMF8pWXIhsplMvifYsle0lbZIdj9nm+eOa4jvFvJiaITGIorComHLuxLFjj+P5558nOdboTKrVRaWXpomrDIwyb4eZhxqRVT5Ep1kWqIxPTYzalFp915uXm0cy0IInnnyK5kkc2LcXOfoOz+qGZFcsBXeic3ftYOdKZztsPLH0T05GZiQDhSXlJG05Vl60D9ro8DCGh4cwxfho9cbdu/fgGRJJtaVa3Egvngpyc9lmFSCvuAzROAkp61tXVwfjNWozJLRx+/HjJ3CCZWp3a4uVA60aOTkzR/I6hazcfNtapI4EKCMzE9HFFZb3AWbDGspK8m2GQVlJgdVZFRqJ7qZIB3HhXzg+txErFQKakMwJzNcZ1pm2W50YGJ1CJKcQBw8fZnO8xjo4YjLL71rWu6dYph47dsRG50XUtGpwDvuB/Pwiy9uBgSH0ktDNkXxp6nh1RQVaSNRq2V9oimo5rysqKln/GkjOB0hyZqws79+/H/VaGIb9kc1+oFttp5KZmYW09AjJy7y92BpgOdeolVbCrCovw9EjR1k386x+ZjJ/mpp2GKFTG6VvsDX6XdPQgAbKUFpayjYzGalsk6IzbuZDlOUqr6jUFlapKCu2cqN4LS+yX2Eb0sW41Mp9YyOfl6IgL4v5lo9C1kUtdDWtvBoZwSDlUluRxTZ01+69OH6C6XT0CMpLC0m41Q+TZK+tkHwuolsb8rNfibHdq6kiwWW41VXlJGnaxy+CKNsifTs4PDTMNn0c2iexpqYORxjXZ59+wtquzIw01qNFa0Oj7B80ur9zRyNqRVojyvUNbOS9h4eHx6OJJCqiQY/26GAjSjzyX4253vppGwJ9czAwOMAOaJid74QtZV9Axaq0rALFVBK19Lu+kUuXwSKSV2J0vIyzpy7jr/7qR4gtrqFlzy587e99A2WV5ez8qNBab7ExMiGEOpGWadYUFX3YNdDXh57hcQyOz6CuuQWV7Ly0iqM6Hi3RrVEpBsZ/HqmkaZqdlJooOz1t7KuNvnOoIGnUQutGimzOUZEcon/dfcPILypDWVkZqqoqnN7JHyl0mraYTPsaVViKUQEe0eIPgygpr0N5uTZL1spr7n22G0lZ47++r1vDGBWHkYkZErtZlDCNSksKqYjmsuCsmH33FjSIt5LdIh4kup05Jdop0pKDgjE9tUH47fZO21cskpVFUqcNifPZEafSMv02IyJK+ySi+k6qq6vH8jCDBKqBinAqlcwI0yIiRVsKGpXdSSqZ3Z1d6KUCvEBFZSlJW03IL+YB/dQkLPujQBoF0lHKVU1NDRWKGst/jdAZ+VyHFrVYxoKWgycR1OjBMomVprOVUKmRAqO0orcu+k6rxNrSDIaGutHf34WZhRSmdzNKK3agOD+FCtMchgfaqZyOYpgEe2mZGbWqxRHcapeS0abABX5pOEnTQbOzIqgjiayqKLMpRlpkoaOry6YpaVPkVaawprVKETdlXEuVrGn0goYy6lssKX8i5Y0N1Sy/6VheiqOLaTZOsjo1N4NFrUSnfFJ8TA4NkEVQVl5B5bzYTDGNlkkPdWfJa8HJvo6Kvx7oNLjvoJHlONYWFzC1sISBkUm3ByGhvfa0BDt1MabFmhE651j5y4MFxqoRXzEiJ9I7RpknSXpmqEgrflIGCwsLbeqYjBTP1HSNd7Fk0ysZk1EHSycdgTG2CZ2sb5ouJ4W7rqGJyjfTTnlAK6pzNubDMmR11MhdEqanZm1FSS1bX5CXy/qsbSKy0UNFfXhswr5/jKSl2DRDyaD80UsOLR5RzroqWXPz81inikhY3IJAVvYop6bcibQN9Pegs3eQZWgJS6v6dlJprNU0VZ+S7IVUUUGRtV95JEi5+QUkoxnr8VWqOfIaYP2EsPQIsXERnrn4Mq4k+lrBc2p2AUMj+p6yDwvzWuCD7VByCtO6gu1ZFSpZh7Rdgja0VqrLnfJaBLaP5GFo1H2bqbZJ5UejKtUka0XFpbZth6Z3xtlGqVz39Q9hhWlcWlriiD7bhtjiMtq7+jAzv2iLTakeFBYwzY3QKU9UVqwV05VdbiZ04ZMgXrawE4+MW9/NG/jRi6/h/TPXkJZdgl/9+7+K/MJMumC7wjKWl1vA9q/CSJ32cUwVY2UCpzJxRZo0EtdN8jM4OGzEXVO4C5ivInL5JNxr7IOG2e/Y4lC8rmD7r+8ux8ZG7Tu5hgaSU5ISjTZqP8AUlX2Wm0U+08q+fSxno5Rjdj5qdbKYRFnbAVSzvdc3idOz07Y9h5WD/ELxcPR1d7KPmGK5YDtPObJZbzWSnsY2Jj4zjd6+foxpG5DUiI2oFWj6I0mk2iIjdCS5mp6ulxSFxSWsnzk2BVkbN0RjUYyOTdJMkdTPYX4uxvKSwrxkP1ReiaKSUmuvIqkrSEvRqDb7YLYv42MjbLP6MT3P/ik937YMqigvYFuUZtN49ZJqxMqYXtBEmT0knIxPWVm5LTqlkTxmPdOdMiwusf5NYGR8gW137npZsZ19mMMb+b5x9PDw8HgU8YgTuoRGnLdszx0qfVqeXN9FaFUwjUqlp2nTayry2seHPaU2YpXylkESlLQWw8zgEN7/6Dp+/JP3qZA34NChvXj2uSdtqkuaaZ9EqBxa0OqIdY++kIxIJZRirs42ukRDhVmrnmkVTS2gYKOItBP4JEGpb6wgzs5KyrXk0bdAeour6Z/h0UgJO15NI43FYkhLS7P916TUhmmg1cTWpJSRzGnqlLZZWFpKRjRKApmiN78pSNcGYpTZEQAaurUz/mjJ8SV1/pRD0xLTU2kYvuka8l+/YSLLURDvRMifQJz1R/G4CBIVed5PFnmmzCk8Op2d8ZKypTBsbpj0C7dIgOKr+GtqpJC6IuVWFhkHyR1fYicfYzpT+aXcUtsEeaM0sVhKHv3JGQUSqdeWFSoDbmou7wfuQmjhAr0UUFprs2q5z4hEmH7MFyq08kuuwrw2D0i4ozEtmT9HZY6KTaSASkg25WeZSKZ88XnGSX6qXFIuEToaW6zGvHNShMRORmmkuIfhKl20sqK+Iws3wDe3hCXdmhTdNPqp9KG/LAt6c59O9xEaLapCQelH1KZtaQU+W4Ez0R8ahSvioJXsVAY0vUtxdfEOwHNXhkJsTcUEKC1XWQaYX4tUppWeIsYi0xof1cqG5lWYlkFahFBcY8xnlQmt8CiFWoROdUn1KiszK3g5Y/TI1antEPitlXCj2gyb0AqsYfmSEK6chO5ZgkwWXjM9Fe4i0055oJkAKj96qvK9SLkkm0Zl5ESvYUSuNb4uP7Kysiw96cxMUrLaCk3fVp4xXyjzipV7lmcq9dqLUtupSJKgWhC0zXop8iCZ7RtQhpfCfBVPcTboG39M7BDbJofiFJyt2w3ahSCjbXEWtmMafbKFmWhPcdYoUiYJqRZIcYVH6RZ4FkDTBpUm+t5R8ZI71XvleSrLlPZGVDlQHJdZJrRQkaA2TXGUfVv9kekh92oHdF9HlU/JanCJbXAi6CUHb9u5EkUnAaELDdu3XhG6l17H+6euITO/Gv/V7/8OGneUIydP7eUCiVYmMiM5VrbCcq5kcuVBYZH6keTYKCpNGD/t/Sk5BZUzQTKrvMSYHmpTVHZlN43poLxiFbUjPWHboX3kXPuntBOxVsRUzm0Ej/lue7Hxvkay9ELSFhyi++V4jG3Eso00q4yoH5Ho2ptO9dzaMxolkOTUCwXFx7ZuIdQeqW9R+uqTBb34S0llPVNZpf+a2hyP05+lVcqn9otklcQqneVAcRCSk+NsqxjvZNZztj/xZda1hWW2WczvVdfuZmSwD0xXf+ZWkdbKqAsLmmqqcqTVfF35tn1QGa7qivxTXKIxbdS+ynLPcqI4pmtRIj5m2ErCROPh4eHxqOKXg9CpB+C9sAvW842lrjdD3bwI1OrKkiN0NG3nzuGjszdx9mIHDh99ioRuH/bsbWWnRd/UaxBa2n5d5xOM8SisYOQutBhAVhWWlFotSy41zjogk5UnUmhNSXEQmZBRZydFQApBiFChCCEFQPF1wToZGBLtSQGT55k0UvAZjC7NuU5k5JRHuRXZdA8N6zb0XIaw56EV3dL5VnmcVUOQFVutWHSNzFC5Ut5sKpY8lyyJcdZzW8KfSkmylA+lr54rzWS2+L8Voe9brem+0iQMXsVEdrbK6+CU1g1ZA+IVnCvNV1akDMkTW/bGFpFb0TRe5kWK7R7MQmQ5/6BQeXBppZU9PwlWNFhGf+SHSPX9QDG1msT/jSQJztbvydbG03WEt7Y8YpKYC+W9Hio2Nl1YrEIZIKy7UXrzlz9SYqU024qod4PKFO26Oqgb6x45hPe23N7IUyE8lz+EFQb6y/Jn96yQqGzqPusoldFkKubu2sXJQXa2yEqv9aJpTd/Psky4aaoiy2J4fB46vU+oKrj92VxZFEw8GbsKkBi9dShhg1NCyW/EZVNaCPKJ9zQ9fDsEab7ul/wxgrFJgnVoO4CQoDmZaeheI1kG+aM0cldM6s3+qN3Qiw2VBReEe74htsJ2d23E33zSUfkXXJPQdZPQ/e2Lr+OdDy8hq6Aa3/3+72Pf/iaUFuTQliPbGl11L+lcWVDdUfiCCI+FdZ+wNKLATlrFQyTLbTau6uiKtUnN/7ukH71Yk5sNB/KYbYNqFf0xViV3QTwZf5FHhaX7KUY0A3cBFB/1NepntvYt2ntVC8Wo/dKzZGt77vRDkAjyK4XEK1nky/ofPdGPaw8Fmzxh36UuUXT2l8E35OHzRCj7LCb2klIyKNwgjvxXrFxuuFD01ILc5ujh4eHxKOHOVvgRgxr4zWBHzBbddVrL0HcczjilQp21Rkg0cqb+dnVxEV09PRifmEBpaTEaG+tRVV2FiLYaUH8TpOAmMmdw3YbRtC2dYtC1mlN99B52mute6FJGnS6N5BGk8OiNvhSXRIVTcZEioE5YdqVgmpG/NDpufFcis+F2i2gOgf2QzMn2huqz4VaQ0hci8fxeUJgSX8vmx5dWEO7tJ+e2ZQDPnMw0/JOipPPNSraTyzwTkQs9VZrFqSHIKD2o4eqNv5T/ZRmeL2kUimFrtHaZkRL/ldEG3tqEW3ZdWDLO6xC6r3TWYgCSeatMJoPsm9Ebbe0RlWzTGrWIxxq1FxE8U/5WJTMFkJIld6HZAj0LDa9oZJ9pFeax5cyGEUlzxtmjmCzfNFpgMvBCwYqDqCxtgC6oKCmPA2t3+Gzkw5TBeyEhwUIk3go9p7GRhaDeudyWvHyg57oITRB/PXPpIHuu3MuEm0xvhdkN/XI/20J+qQ2wdsCI2nYwemOyWILwWqRaI0/xxRjvsczxXrI24RYUL5Y1KcErq/JXhvV0mbkjw2DonKB/lo+hESS3wqGFREMHIpLhaK5LD2dVRt6sExuaxLL7oLA2TeYOBDelVIeGcVX8tXWK5BI2tUOJ/uhceRzER/K6kTYq8mYoP93ZpvkWV1cmnUOVvzDuzrg4J5DBAHZtxl2bCBuPCV6o0ZIsykczahu0XYIM847+a5x/iXmn749Vnlyb7eqNpTuPqhdWDpnPRjYkZ1ivA7jy62TWuYyNqpk7d89GwkTO1P9YDxGEI3csS24rAvqpJA7SUGkVCGF2BfUVNhpnEVaZoVxBuQnLt9JnheVdq0tqZCyUW/nhytCmxDKkpGiklGQrHPk3+Sxwut+Irw5qfzSS5wqS/CIhXmEdsuKhe2aJYovMBS+WgrR13jj/lDYaTZRRnjg5BdkN2v4AOgtTLbxrXm1z9PDw8HiU4HqLRwyJHdH66cYtw0bnv/HAFFV2IJq2lc6OS8ra+MQUFqIxm47SslPfvZXbh/vW4ahj0nGL3+uQsrAlDCGxs9FRnaw6LrfiXoBAYRAkq0zY0d7Z2TrlwAlFJHpu4Ins2yiC8zfUf2UlNPq1987mt1NeQxPKfCdxJTY82Dhug8RHJo7iROUlHHlz527ExU1FdfGU3Q3ysgFLC7mVAsRzO67PVSJMVqmCLn3cnwvXwjYFQnYCq4Rc8um6nS1B2r0NONsbRs/lk0yoNFFRTdb0IylCiq/eKtOG5FmT4hKQBEJHKYYiJ+65M/YsOE9UBqXMhwRn/Z7c6p4Z2XUem4RORLtQ8VLcLV3DRAgkcTI4k+g3/52d0J8HgfN6C9xNk83OdO1euKyHoUAVdnAZQvmgaWS2l5fkN2uBrfBIhHm54eEWmFVnP8zzOxG6v9Mfe/FBJdQ2w7/DHo381FHyJfw5BHElwrCd0Z3Ajtwp/qHRX3AePLQyYeXAuTBYvgbnGyefMiTDejlzDYprn1w8LCLrhg9pl4LSnYxk5z09Cssgj2aP9m3qKK9d+ZR/uh34mwB3Gd7fajYQpo0d7RF/dGE3GDbzT5uda3sMTS3WdF21RVaP+GdtEe2pekv00HfLC0uDhJtyIUtbEMoftt86KgydKw8VhfCZLtQW26bvCpdHM+aT/A7CU5sXtoGyq/QNnxmC9OYN5wft8dzySaSPxt2ntQSZdW+7OAg2LZjtmk0Ntu9zNWrp3DuyJQIeZ77JKF5KQT1Xe6dplqwrdsPZlfgUx2RWvkvGUE5nUX6IuIogOv+czPRL7WdYnAJx5So0wa07jh4eHh6PGtRqPpJwDX7YrAthh7Zh7C0mjRSykEzxCdyqlXr7vmYfoGdm59mH+1qFrrikAOnp6kjYOQR9pyEM5gGgbs51gnYW3A0g/6TgmJITKDaBjELCKREoCaEyYLd0TDxXVos48SjZ7wzRkODKnsuE98L7QpiGG0g83wxZSxQnhDpxjVa5ESvJHjwgQv9dGHc61n25cYpMcJThv3ksd4Hb0B+GYPksd+tWzS/Z0lH2QkWSz4L7W+GUMJfWW03gExNORqc8mpwkHnpjrrfbdCtFRPa280N/wtb7ibD8C8qOrsLn5nrdjUtTGSlN6y/sExE8d8Lq3MXr7rAQgvPNuKczISxQ63BymnKpNFp/HgrFi7B+WDx127kRQncyifflxowQ1J+7IngktxvtgUrF9nDW9atUkEKeyqwlWdeoHNuR8JkZG6GVEemk0bWVLz5S+dLRlFPZdv6Zu3Wjg+IVlrcgnuvx5VHxS0AYbfOBP87vnxGhJ3cY/ujfZOGJIqQ0kFEEtzrQYf2cxvLGEiG4n4B1//Q8NM6NI3tBmdnqbgvCpxu2dEYjvyyteJS8zD+t4KkFRerq61BbU4HszIiJqHbetpJRevPPyiL/dW6wc3rDv418UhBBuiTgzuvE8hvec+7W7eogPxVfGZ6b5fB5iC2XJlhQF9bdMkIWXugP45XE+EsOc0G7YV0Lj9vBBa3nzjhxJLP84VF/Qfm3UTSVbbZ5Otd0Yi10Ym2kHIayWAR0DI3zT/Kuv+iTsXBkl14EItqR5h4ie3h4eDzSeCS/obtfuKizA7M3fG6apToY9RWaAqbNlxfmprAwP88+PxM5ucWIZOYgPY2dkpTjoBNx2JKM1t+4TseQcCpsOGX4/NVjhmx3tli9C9TxBqcBzF3Q0a17ug69DdVNsVB2sGsuronQ0y1erkM23TP+8j90ua50/Cygf/aCm15t9S6xeCaGpfvrV1sdB/lqp/rhbXel57JnF+vu3bPAGZEoQ+DiDtyt2phdeWCP+bPVsRE5PZQJHiYGeE+Eea48DECnzvV2fvAewzMnuvrYYFxZdGeyfGcZE0Jv3DEotc76A8CFpRGIDWfuTKMg8i4MR9jO67uWPVkOH23ncCvu4s32oIfmZ3AM3ZosiTcSn+skvHBGVxuJGz53djYTu+3g3IWu1+3xsHFvA6Evm3zbzuK2kMV7WU54ZmkQhGLl/F4I3clecH6v/AxxD2/DOrm1XNzpXHdowtEsgW7nZ2fQPzBie+Ulp2SgvqEOefmZyMx0C7aozQwXaVqzka9EnwVeK+wg+JDc3AthH6QRVsm9VXa7lp2tQQkJYa0j8M9gz+SWRpUqtGzXd8rmZHEy2KmutsjjoIfOgrMXWA78c+6dnU3y27ns0JhV3tRqsfZQ/ZPOJZemc+oYIuy7HNQ22WifyRrcJDZsbD4PrSQeE5x5eHh4PBL4pSV0m6IddDjWObgfXuv7DX1bsETCp+keWoktg4/09tlZWe817Jjgn6Dn23UbCbc2OU9AaGUb1wnYrGzf0fHq2aZbYccZPtimQ99y3B58yv/Q5fYd/gPCeWm4IxoJkUwMS/c3lAUJpGfhc+fhdjplqARs+LqBdW8SkOjrVmxXdaSOb4Y8DYXZxqe7eX5XKN+Zl3R3Z1iJ2AgvlPN+8iqM0fpx2zgmHjcrVdsm7DYwOmfuEgmdwKvghh6HMm8rx33Ex3Cn0w3cpxd3QPLI34+TwRTp7QXYLk7CBqG7FxwhFqwc8D+83upr6NMmH7cPehvQojm8bwe0KgebQtsGoX+yl3j+MbiHlQcp5xam2dfRXev7yWhM31Nral8aMrMy2OZr5FZ+Mk8SG5TQbQIsfFlZt6a6senGJtwt/0O4aPDnrva28zdBLnuccL0JodvwGPQnDFR/YZB3pmXolztujoPsujhvyot1OzrfOHXHkMiF/VNI6BLD3Uzo9Iw5RG8VVnArQGhrs+07j1uceXh4eDz08ISOsMY9vNzU+id2D1uUrMRUs/PEG4RZTbAfYhsvtrjc5GobH9axKQ6bejbev8PTxNBkNzSCe+Z+tyrYm2Eu7hrup4+7x3EDsmNPwue8vlscPgmhSzwmYruqI2XoTsjedveJu9y+O6R4SVCLSXBvO2w8c/Zl++MDC2O0ceRZeBEg9MUdXXquY4vdbZFgf6v1MLz1MALPt5Vja2YlYqvHd8M9vLgn1vP+Yzx4QELnfHsQQreR/qFvW30Nfdrk4/YibQNaNIf37YBW5WBTaNsg9E/2Es8/BvewEqbn/bdJtG//+tlITzeV8y5wloJjeCHQvdUznq4H7y4+szYyMfh1BDLYw9DCdhZDmcKj5OeVyeoInRM7fB5is58u7eyUcG7lx6a8CM7X/dLlure8sFG6kNDpwda54VsJnfZzlL80idaI0Fai7dBK4nGLMw8PD4+HHp7QEda4r1/yROfhTSlkdh4qWTTrdgPY9Zab5sZ+NiPhVuhiq3dCosttfLkH7uWrsNXnDXsbLu8eYvjkwWT6bLF9THl3mwf3InTb4RPF9349D/HAnj9oACG2BnRnwKHP9wrhnmlyP6Jtcbidk0QrW59vG+5W3I8cwn15tg3u239ZvF/LIShU4mjQVtzlURjK1tBC65uc3bdItGgOHyAO90XoPiE+ZW8Vq81dIAndvcLYLhnW3ZPerL84EzbSYXty9CngDnl4w4LRgw257kQoy1aZdH0vOT+Jn8R21hNhpE7ETW71zV2iHyHZC6GXjppyeSe2k26rVDom+u7h4eHxKOAeryJ/WcGm3vW+wZFJpO/NDOomtutGPn0khvTgIW7ngnGRorWubMmESAzt4UJiGiUaxS985hFiayp9PlIosURuVzITjx4enwY21QC18+vmY8paYuHcBnc+dr6J84k4huZjQrkToZOt5nOHj0mgu8H62MR+NkR4Ln8TjYeHh4dHIn6JF0VxU0xCbOoiQkK33pkkJhGfbfv2fJtkXPdne9xvwj84Nbmb/fuV59727v3054t7psy2RZvSP2AEPlF87zfLHtjz0OP7DeBuCAO+U4D78fmeYt/Lg0+QmInefQLnv2A8aH7dPV/uB59y0hOJPt5PHH42+X+e+JnSapPjjQubgrgJP3s63NOHbfuYUIatx0Rs5y6893Eyb+fv/bpNwB3ONRIn6CLRH1ncbPlus0gSbW1FoovtXXt4eHg8vPilXuXy/rBd8nx63cHHJf4GmfussmlzXO413VL4vHaEW1PnXnI+SEp+PuP7aZWFu8fuXiH8ItJE8nxey97H40Hz62eL6dbQfvZ0+/nK//PEdjH75NJ/ur59cmwnR+K9e8l0P/LerTz8rHG9m4zbp+vdpPg4/CJyxMPDw+Ozhid0n3soez7LLAq7N9/NeXh4eHh4eHh4eDxs8N/QPRT4rMiWJ3EeHh4eHh4eHh4eDzP8CN1Dgc86izyx8/Dw8PDw8PDw8HgY4Qmdh4eHh4eHh4eHh4fHQwo/5dLDw8PDw8PDw8PDw+MhhSd0Hh4eHh4eHh4eHh4eDyk8ofPw8PDw8PDw8PDw8HhI4Qmdh4eHh4eHh4eHh4fHQwpP6Dw8PDw8PDw8PDw8PB5SeELn4eHh4eHh4eHh4eHxkMITOg8PDw8PDw8PDw8Pj4cUntB5eHh4eHh4eHh4eHg8pPCEzsPDw8PDw8PDw8PD46EE8P8Hat1B4/IAJ60AAAAASUVORK5CYII=)"
      ],
      "metadata": {
        "id": "ri81BP_IW15U"
      }
    },
    {
      "cell_type": "code",
      "source": [
        "class mobile:\n",
        "  def __init__(self,model,price):\n",
        "    self.model=model\n",
        "    self.price=price\n",
        "\n",
        "  def specifi(self):\n",
        "    print(self.model,\"model price is\",self.price)\n"
      ],
      "metadata": {
        "id": "LsE2jT4EXCL2"
      },
      "execution_count": null,
      "outputs": []
    },
    {
      "cell_type": "code",
      "source": [
        "a=mobile(\"apple\",2000)\n",
        "a.specifi()"
      ],
      "metadata": {
        "colab": {
          "base_uri": "https://localhost:8080/"
        },
        "id": "RBNbnlTjXCPP",
        "outputId": "df9271ce-d86b-4b3f-d9b5-73610049a901"
      },
      "execution_count": null,
      "outputs": [
        {
          "output_type": "stream",
          "name": "stdout",
          "text": [
            "apple model price is 2000\n"
          ]
        }
      ]
    },
    {
      "cell_type": "code",
      "source": [],
      "metadata": {
        "id": "Uk9oHqalXCSj"
      },
      "execution_count": null,
      "outputs": []
    },
    {
      "cell_type": "code",
      "source": [],
      "metadata": {
        "id": "VzcbV9xwXCV5"
      },
      "execution_count": null,
      "outputs": []
    },
    {
      "cell_type": "code",
      "metadata": {
        "id": "IH9PURqwtUdF"
      },
      "source": [
        "class Circle:\n",
        "\n",
        "  def __init__(self, radius=1):\n",
        "    self.radius = radius\n",
        "    self.area = 3.14 * radius * radius\n",
        "\n",
        "  def setRadius(self, new_radius):\n",
        "    self.radius = new_radius\n",
        "    self.area = 3.14 * new_radius * new_radius\n",
        "\n",
        "  def getCircumference(self):\n",
        "    return 2 * 3.14 * self.radius"
      ],
      "execution_count": null,
      "outputs": []
    },
    {
      "cell_type": "code",
      "metadata": {
        "id": "xpiQhNfDtUdH"
      },
      "source": [
        "c = Circle()"
      ],
      "execution_count": null,
      "outputs": []
    },
    {
      "cell_type": "code",
      "metadata": {
        "colab": {
          "base_uri": "https://localhost:8080/"
        },
        "id": "wwhkXDJqjAHg",
        "outputId": "dce76d45-27f8-4343-fef7-8696f576cc4f"
      },
      "source": [
        "c.area"
      ],
      "execution_count": null,
      "outputs": [
        {
          "output_type": "execute_result",
          "data": {
            "text/plain": [
              "3.14"
            ]
          },
          "metadata": {},
          "execution_count": 6
        }
      ]
    },
    {
      "cell_type": "code",
      "metadata": {
        "colab": {
          "base_uri": "https://localhost:8080/"
        },
        "id": "7d5jk613jLmy",
        "outputId": "dd406a5f-0b47-4e65-bd06-96f2c67c7e25"
      },
      "source": [
        "c.getCircumference()"
      ],
      "execution_count": null,
      "outputs": [
        {
          "output_type": "execute_result",
          "data": {
            "text/plain": [
              "6.28"
            ]
          },
          "metadata": {},
          "execution_count": 8
        }
      ]
    },
    {
      "cell_type": "code",
      "metadata": {
        "colab": {
          "base_uri": "https://localhost:8080/"
        },
        "id": "LtcO9Ne3iUo3",
        "outputId": "c05d4cc6-5b73-42fa-81fc-cfd49b0d2cc5"
      },
      "source": [
        "print('Radius is: ', c.radius)\n",
        "print('Area is: ', c.area)\n",
        "print('Circumference is: ', c.getCircumference())"
      ],
      "execution_count": null,
      "outputs": [
        {
          "output_type": "stream",
          "name": "stdout",
          "text": [
            "Radius is:  1\n",
            "Area is:  3.14\n",
            "Circumference is:  6.28\n"
          ]
        }
      ]
    },
    {
      "cell_type": "markdown",
      "metadata": {
        "id": "zOyW9yPHtUdJ"
      },
      "source": [
        "Now let's change the radius and see how that affects our Circle object:"
      ]
    },
    {
      "cell_type": "code",
      "metadata": {
        "id": "Sp6WUJc9tUdJ",
        "colab": {
          "base_uri": "https://localhost:8080/"
        },
        "outputId": "0e500c8b-df70-4c40-88c8-d06de7c66000"
      },
      "source": [
        "c.setRadius(4)\n",
        "\n",
        "print('Radius is: ', c.radius)\n",
        "print('Area is: ', c.area)\n",
        "print('Circumference is: ', c.getCircumference())"
      ],
      "execution_count": null,
      "outputs": [
        {
          "output_type": "stream",
          "name": "stdout",
          "text": [
            "Radius is:  4\n",
            "Area is:  50.24\n",
            "Circumference is:  25.12\n"
          ]
        }
      ]
    },
    {
      "cell_type": "markdown",
      "metadata": {
        "id": "_0r0aq3ntUdL"
      },
      "source": [
        "Great! Notice how we used self. notation to reference attributes of the class within the method calls. Review how the code above works and try creating your own method."
      ]
    },
    {
      "cell_type": "markdown",
      "source": [
        "#Question 1: Define a class named Car with attributes make, model, and year. Include a method called get_info() that prints out the details of the car. Create an instance of the Car class and call the get_info() method."
      ],
      "metadata": {
        "id": "khcrlvtDY98c"
      }
    },
    {
      "cell_type": "code",
      "source": [
        "class Car:\n",
        "    def __init__(self, make, model, year):\n",
        "        self.make = make\n",
        "        self.model = model\n",
        "        self.year = year\n",
        "\n",
        "    def get_info(self):\n",
        "        print(f\"Car: {self.year} {self.make} {self.model}\")\n",
        "\n",
        "car1 = Car(\"Toyota\", \"Camry\", 2020)\n",
        "car1.get_info()  # Output: Car: 2020 Toyota Camry"
      ],
      "metadata": {
        "colab": {
          "base_uri": "https://localhost:8080/"
        },
        "id": "9G-Fb1VVY867",
        "outputId": "87a93ab7-2946-4c93-ca02-9d7d91453709"
      },
      "execution_count": null,
      "outputs": [
        {
          "output_type": "stream",
          "name": "stdout",
          "text": [
            "Car: 2020 Toyota Camry\n"
          ]
        }
      ]
    },
    {
      "cell_type": "markdown",
      "source": [
        "## Question 2: Create a class named Rectangle with attributes length and width. Include methods to calculate the area and perimeter of the rectangle. Create an instance of the Rectangle class with length 5 and width 3, then print its area and perimeter."
      ],
      "metadata": {
        "id": "5B1PMCCPZWjY"
      }
    },
    {
      "cell_type": "code",
      "source": [
        "class Rectangle:\n",
        "    def __init__(self, length, width):\n",
        "        self.length = length\n",
        "        self.width = width\n",
        "\n",
        "    def calculate_area(self):\n",
        "        return self.length * self.width\n",
        "\n",
        "    def calculate_perimeter(self):\n",
        "        return 2 * (self.length + self.width)\n",
        "\n",
        "rectangle = Rectangle(5, 3)\n",
        "print(\"Area:\", rectangle.calculate_area())  # Output: Area: 15\n",
        "print(\"Perimeter:\", rectangle.calculate_perimeter())  # Output: Perimeter: 16\n"
      ],
      "metadata": {
        "colab": {
          "base_uri": "https://localhost:8080/"
        },
        "id": "3dEwy16gZag4",
        "outputId": "d54ba6ab-3747-4a27-8316-d7c6b5d04b37"
      },
      "execution_count": null,
      "outputs": [
        {
          "output_type": "stream",
          "name": "stdout",
          "text": [
            "Area: 15\n",
            "Perimeter: 16\n"
          ]
        }
      ]
    },
    {
      "cell_type": "markdown",
      "source": [
        "## Question 3: Define a class called Employee with attributes name, position, and salary. Include a method called raise_salary() that takes a percentage increase as an argument and updates the salary accordingly. Create an instance of the Employee class and call the raise_salary() method with a 10% increase."
      ],
      "metadata": {
        "id": "7Wli4i_vZpWS"
      }
    },
    {
      "cell_type": "code",
      "source": [
        "class Employee:\n",
        "    def __init__(self, name, position, salary):\n",
        "        self.name = name\n",
        "        self.position = position\n",
        "        self.salary = salary\n",
        "\n",
        "    def raise_salary(self, percentage):\n",
        "        self.salary += self.salary * (percentage / 100)\n",
        "\n",
        "employee = Employee(\"John Doe\", \"Manager\", 50000)\n",
        "print(\"Initial salary:\", employee.salary)  # Output: Initial salary: 50000\n",
        "employee.raise_salary(10)\n",
        "print(\"Updated salary:\", employee.salary)  # Output: Updated salary: 55000\n"
      ],
      "metadata": {
        "colab": {
          "base_uri": "https://localhost:8080/"
        },
        "id": "5FS5LB4XZqj8",
        "outputId": "38b4dae0-50ad-47ae-80b0-d2adeec8e6e8"
      },
      "execution_count": null,
      "outputs": [
        {
          "output_type": "stream",
          "name": "stdout",
          "text": [
            "Initial salary: 50000\n",
            "Updated salary: 55000.0\n"
          ]
        }
      ]
    },
    {
      "cell_type": "markdown",
      "source": [
        "## Question 4: Create a class named BankAccount with attributes account_number, holder_name, and balance. Include methods to deposit money, withdraw money, and check the balance. Create an instance of the BankAccount class, deposit $100, withdraw $50, and then print the remaining balance."
      ],
      "metadata": {
        "id": "WtZOkm5pZ4WL"
      }
    },
    {
      "cell_type": "code",
      "source": [
        "class BankAccount:\n",
        "    def __init__(self, account_number, holder_name, balance):\n",
        "        self.account_number = account_number\n",
        "        self.holder_name = holder_name\n",
        "        self.balance = balance\n",
        "\n",
        "    def deposit(self, amount):\n",
        "        self.balance += amount\n",
        "\n",
        "    def withdraw(self, amount):\n",
        "        if amount <= self.balance:\n",
        "            self.balance -= amount\n",
        "        else:\n",
        "            print(\"Insufficient funds!\")\n",
        "\n",
        "    def check_balance(self):\n",
        "        return self.balance\n",
        "\n",
        "account = BankAccount(\"123456789\", \"John Doe\", 0)\n",
        "account.deposit(100)\n",
        "account.withdraw(50)\n",
        "print(\"Remaining balance:\", account.check_balance())  # Output: Remaining balance: 50\n"
      ],
      "metadata": {
        "colab": {
          "base_uri": "https://localhost:8080/"
        },
        "id": "_lp0zSSiZ9vQ",
        "outputId": "bcafbeaf-02bb-47cd-d9da-6524451f5586"
      },
      "execution_count": null,
      "outputs": [
        {
          "output_type": "stream",
          "name": "stdout",
          "text": [
            "Remaining balance: 50\n"
          ]
        }
      ]
    },
    {
      "cell_type": "markdown",
      "source": [
        "Question 5: Define a class named Circle with attributes radius and color. Include methods to calculate the area and circumference of the circle. Create an instance of the Circle class with radius 5 and color \"blue\", then print its area and circumference.\n",
        "\n",
        "Question 6: Create a class named Book with attributes title, author, and price. Include a method called discount() that takes a percentage discount as an argument and updates the price accordingly. Create an instance of the Book class and call the discount() method with a 20% discount.\n",
        "\n",
        "Question 7: Define a class called Student with attributes name, age, and grades. Include a method called calculate_average() that computes the average grade of the student. Create an instance of the Student class with name \"Alice\", age 20, and grades [90, 85, 88], then print the average grade.\n",
        "\n",
        "Question 8: Create a class named Rectangle with attributes length and width. Include methods to calculate the area, perimeter, and diagonal of the rectangle. Create an instance of the Rectangle class with length 4 and width 3, then print its area, perimeter, and diagonal."
      ],
      "metadata": {
        "id": "iyrHYPHpfV4t"
      }
    },
    {
      "cell_type": "code",
      "source": [
        "import math\n",
        "\n",
        "class Circle:\n",
        "    def __init__(self, radius, color):\n",
        "        self.radius = radius\n",
        "        self.color = color\n",
        "\n",
        "    def calculate_area(self):\n",
        "        return math.pi * self.radius ** 2\n",
        "\n",
        "    def calculate_circumference(self):\n",
        "        return 2 * math.pi * self.radius\n",
        "\n",
        "circle = Circle(5, \"blue\")\n",
        "print(\"Area:\", circle.calculate_area())  # Output: Area: 78.53981633974483\n",
        "print(\"Circumference:\", circle.calculate_circumference())  # Output: Circumference: 31.41592653589793\n"
      ],
      "metadata": {
        "colab": {
          "base_uri": "https://localhost:8080/"
        },
        "id": "vzfja6nefYHD",
        "outputId": "d893103c-411a-43ec-d8f9-62e9c419518f"
      },
      "execution_count": null,
      "outputs": [
        {
          "output_type": "stream",
          "name": "stdout",
          "text": [
            "Area: 78.53981633974483\n",
            "Circumference: 31.41592653589793\n"
          ]
        }
      ]
    },
    {
      "cell_type": "code",
      "source": [
        "class Book:\n",
        "    def __init__(self, title, author, price):\n",
        "        self.title = title\n",
        "        self.author = author\n",
        "        self.price = price\n",
        "\n",
        "    def discount(self, percentage):\n",
        "        self.price -= self.price * (percentage / 100)\n",
        "\n",
        "book = Book(\"Python Programming\", \"John Smith\", 50)\n",
        "print(\"Initial price:\", book.price)  # Output: Initial price: 50\n",
        "book.discount(20)\n",
        "print(\"Discounted price:\", book.price)  # Output: Discounted price: 40\n"
      ],
      "metadata": {
        "colab": {
          "base_uri": "https://localhost:8080/"
        },
        "id": "o2VcjhKsfaqO",
        "outputId": "335d0923-5a41-47d8-ef5d-0a30403111a3"
      },
      "execution_count": null,
      "outputs": [
        {
          "output_type": "stream",
          "name": "stdout",
          "text": [
            "Initial price: 50\n",
            "Discounted price: 40.0\n"
          ]
        }
      ]
    },
    {
      "cell_type": "code",
      "source": [
        "class Student:\n",
        "    def __init__(self, name, age, grades):\n",
        "        self.name = name\n",
        "        self.age = age\n",
        "        self.grades = grades\n",
        "\n",
        "    def calculate_average(self):\n",
        "        return sum(self.grades) / len(self.grades)\n",
        "\n",
        "student = Student(\"Alice\", 20, [90, 85, 88])\n",
        "print(\"Average grade:\", student.calculate_average())  # Output: Average grade: 87.66666666666667\n"
      ],
      "metadata": {
        "colab": {
          "base_uri": "https://localhost:8080/"
        },
        "id": "hor9t6nofats",
        "outputId": "11a3708e-0cf8-4645-a700-e07e866022b9"
      },
      "execution_count": null,
      "outputs": [
        {
          "output_type": "stream",
          "name": "stdout",
          "text": [
            "Average grade: 87.66666666666667\n"
          ]
        }
      ]
    },
    {
      "cell_type": "code",
      "source": [
        "import math\n",
        "\n",
        "class Rectangle:\n",
        "    def __init__(self, length, width):\n",
        "        self.length = length\n",
        "        self.width = width\n",
        "\n",
        "    def calculate_area(self):\n",
        "        return self.length * self.width\n",
        "\n",
        "    def calculate_perimeter(self):\n",
        "        return 2 * (self.length + self.width)\n",
        "\n",
        "    def calculate_diagonal(self):\n",
        "        return math.sqrt(self.length ** 2 + self.width ** 2)\n",
        "\n",
        "rectangle = Rectangle(4, 3)\n",
        "print(\"Area:\", rectangle.calculate_area())  # Output: Area: 12\n",
        "print(\"Perimeter:\", rectangle.calculate_perimeter())  # Output: Perimeter: 14\n",
        "print(\"Diagonal:\", rectangle.calculate_diagonal())  # Output: Diagonal: 5.0\n"
      ],
      "metadata": {
        "colab": {
          "base_uri": "https://localhost:8080/"
        },
        "id": "T-4XTRkMfbAo",
        "outputId": "4b7e9a64-2079-48cb-c87f-8f2d30228993"
      },
      "execution_count": null,
      "outputs": [
        {
          "output_type": "stream",
          "name": "stdout",
          "text": [
            "Area: 12\n",
            "Perimeter: 14\n",
            "Diagonal: 5.0\n"
          ]
        }
      ]
    },
    {
      "cell_type": "code",
      "source": [],
      "metadata": {
        "id": "iMWJB22q34la"
      },
      "execution_count": null,
      "outputs": []
    },
    {
      "cell_type": "markdown",
      "source": [
        "Question 9: Define a class named Person with attributes name, age, and gender. Include methods to update the age and display information about the person. Create an instance of the Person class with name \"Alice\", age 25, and gender \"Female\". Update the age to 30 and display the information about the person.\n",
        "\n",
        "Question 10: Create a class named BankAccount with attributes account_number, account_holder, and balance. Include methods to deposit and withdraw money, and to display the account details. Create two instances of the BankAccount class, one for savings account and one for checking account, and perform deposit and withdrawal operations on each.\n",
        "\n",
        "Question 11: Define a class called Rectangle with attributes length and width. Include methods to calculate the area and perimeter of the rectangle, and to display its dimensions. Create an instance of the Rectangle class with length 4 and width 5, then print its area, perimeter, and dimensions.\n",
        "\n",
        "Question 12: Create a class named Student with attributes name, roll_number, and grades. Include methods to add grades, calculate the average grade, and display the student's information. Create an instance of the Student class with name \"John\", roll number \"12345\", and grades [85, 90, 88]. Add another grade (95), calculate the average grade, and display the student's information.\n",
        "\n",
        "Question 13: Define a class called Triangle with attributes side1, side2, and side3. Include methods to check if the triangle is valid, calculate its perimeter, area, and display its sides. Create an instance of the Triangle class with side lengths 3, 4, and 5, then check if it is valid, calculate its perimeter and area, and display its sides."
      ],
      "metadata": {
        "id": "3a62Uj_R35Ir"
      }
    },
    {
      "cell_type": "code",
      "source": [
        "# Q9\n",
        "class Person:\n",
        "    def __init__(self, name, age, gender):\n",
        "        self.name = name\n",
        "        self.age = age\n",
        "        self.gender = gender\n",
        "\n",
        "    def update_age(self, new_age):\n",
        "        self.age = new_age\n",
        "\n",
        "    def display_info(self):\n",
        "        print(f\"Name: {self.name}, Age: {self.age}, Gender: {self.gender}\")\n",
        "\n",
        "person = Person(\"Alice\", 25, \"Female\")\n",
        "person.update_age(30)\n",
        "person.display_info()  # Output: Name: Alice, Age: 30, Gender: Female\n"
      ],
      "metadata": {
        "colab": {
          "base_uri": "https://localhost:8080/"
        },
        "id": "1IwoSDSq36I9",
        "outputId": "0cf84bba-93f4-4be2-844c-07d05789c30b"
      },
      "execution_count": null,
      "outputs": [
        {
          "output_type": "stream",
          "name": "stdout",
          "text": [
            "Name: Alice, Age: 30, Gender: Female\n"
          ]
        }
      ]
    },
    {
      "cell_type": "code",
      "source": [
        "# Q10\n",
        "class BankAccount:\n",
        "    def __init__(self, account_number, account_holder, balance):\n",
        "        self.account_number = account_number\n",
        "        self.account_holder = account_holder\n",
        "        self.balance = balance\n",
        "\n",
        "    def deposit(self, amount):\n",
        "        self.balance += amount\n",
        "\n",
        "    def withdraw(self, amount):\n",
        "        if amount <= self.balance:\n",
        "            self.balance -= amount\n",
        "        else:\n",
        "            print(\"Insufficient funds!\")\n",
        "\n",
        "    def display_details(self):\n",
        "        print(f\"Account Number: {self.account_number}, Holder: {self.account_holder}, Balance: {self.balance}\")\n",
        "\n",
        "savings_account = BankAccount(\"S12345\", \"Alice\", 1000)\n",
        "checking_account = BankAccount(\"C67890\", \"Bob\", 2000)\n",
        "\n",
        "savings_account.deposit(500)\n",
        "savings_account.withdraw(200)\n",
        "checking_account.deposit(1000)\n",
        "checking_account.withdraw(500)\n",
        "\n",
        "savings_account.display_details()  # Output: Account Number: S12345, Holder: Alice, Balance: 1300\n",
        "checking_account.display_details()  # Output: Account Number: C67890, Holder: Bob, Balance: 2500\n"
      ],
      "metadata": {
        "colab": {
          "base_uri": "https://localhost:8080/"
        },
        "id": "vbWykV_Y36Lp",
        "outputId": "99570f06-8893-4494-a5ab-a22d5cd26c76"
      },
      "execution_count": null,
      "outputs": [
        {
          "output_type": "stream",
          "name": "stdout",
          "text": [
            "Account Number: S12345, Holder: Alice, Balance: 1300\n",
            "Account Number: C67890, Holder: Bob, Balance: 2500\n"
          ]
        }
      ]
    },
    {
      "cell_type": "code",
      "source": [
        "# Q 11\n",
        "\n",
        "class Rectangle:\n",
        "    def __init__(self, length, width):\n",
        "        self.length = length\n",
        "        self.width = width\n",
        "\n",
        "    def calculate_area(self):\n",
        "        return self.length * self.width\n",
        "\n",
        "    def calculate_perimeter(self):\n",
        "        return 2 * (self.length + self.width)\n",
        "\n",
        "    def display_dimensions(self):\n",
        "        print(f\"Length: {self.length}, Width: {self.width}\")\n",
        "\n",
        "rectangle = Rectangle(4, 5)\n",
        "print(\"Area:\", rectangle.calculate_area())  # Output: Area: 20\n",
        "print(\"Perimeter:\", rectangle.calculate_perimeter())  # Output: Perimeter: 18\n",
        "rectangle.display_dimensions()  # Output: Length: 4, Width: 5\n"
      ],
      "metadata": {
        "colab": {
          "base_uri": "https://localhost:8080/"
        },
        "id": "ccIJYP7N36Os",
        "outputId": "a0856535-bc91-4f74-fc10-9cca804be84a"
      },
      "execution_count": null,
      "outputs": [
        {
          "output_type": "stream",
          "name": "stdout",
          "text": [
            "Area: 20\n",
            "Perimeter: 18\n",
            "Length: 4, Width: 5\n"
          ]
        }
      ]
    },
    {
      "cell_type": "code",
      "source": [
        "# Q 12\n",
        "\n",
        "class Student:\n",
        "    def __init__(self, name, roll_number, grades):\n",
        "        self.name = name\n",
        "        self.roll_number = roll_number\n",
        "        self.grades = grades\n",
        "\n",
        "    def add_grade(self, grade):\n",
        "        self.grades.append(grade)\n",
        "\n",
        "    def calculate_average_grade(self):\n",
        "        return sum(self.grades) / len(self.grades)\n",
        "\n",
        "    def display_info(self):\n",
        "        print(f\"Name: {self.name}, Roll Number: {self.roll_number}, Grades: {self.grades}\")\n",
        "\n",
        "student = Student(\"John\", \"12345\", [85, 90, 88])\n",
        "student.add_grade(95)\n",
        "average_grade = student.calculate_average_grade()\n",
        "student.display_info()  # Output: Name: John, Roll Number: 12345, Grades: [85, 90, 88, 95]\n",
        "print(\"Average Grade:\", average_grade)  # Output: Average Grade: 89.5\n"
      ],
      "metadata": {
        "colab": {
          "base_uri": "https://localhost:8080/"
        },
        "id": "926IUN0j36RY",
        "outputId": "ad5be473-e749-44d2-886d-7f880dbc62a2"
      },
      "execution_count": null,
      "outputs": [
        {
          "output_type": "stream",
          "name": "stdout",
          "text": [
            "Name: John, Roll Number: 12345, Grades: [85, 90, 88, 95]\n",
            "Average Grade: 89.5\n"
          ]
        }
      ]
    },
    {
      "cell_type": "code",
      "source": [
        "# Q13\n",
        "class Triangle:\n",
        "    def __init__(self, side1, side2, side3):\n",
        "        self.side1 = side1\n",
        "        self.side2 = side2\n",
        "        self.side3 = side3\n",
        "\n",
        "    def is_valid(self):\n",
        "        return (self.side1 + self.side2 > self.side3) and (self.side2 + self.side3 > self.side1) and (self.side1 + self.side3 > self.side2)\n",
        "\n",
        "    def calculate_perimeter(self):\n",
        "        return self.side1 + self.side2 + self.side3\n",
        "\n",
        "    def calculate_area(self):\n",
        "        s = self.calculate_perimeter() / 2\n",
        "        return (s * (s - self.side1) * (s - self.side2) * (s - self.side3)) ** 0.5\n",
        "\n",
        "    def display_sides(self):\n",
        "        print(f\"Side 1: {self.side1}, Side 2: {self.side2}, Side 3: {self.side3}\")\n",
        "\n",
        "triangle = Triangle(3, 4, 5)\n",
        "if triangle.is_valid():\n",
        "    print(\"Triangle is valid.\")\n",
        "    print(\"Perimeter:\", triangle.calculate_perimeter())  # Output: Perimeter: 12\n",
        "    print(\"Area:\", triangle.calculate_area())  # Output: Area: 6.0\n",
        "    triangle.display_sides()  # Output: Side 1: 3, Side 2: 4, Side 3: 5\n",
        "else:\n",
        "    print(\"Triangle is not valid.\")\n"
      ],
      "metadata": {
        "colab": {
          "base_uri": "https://localhost:8080/"
        },
        "id": "6AdOU9SK4byO",
        "outputId": "6f2f9313-538c-4a78-d1a0-281d5560fbd7"
      },
      "execution_count": null,
      "outputs": [
        {
          "output_type": "stream",
          "name": "stdout",
          "text": [
            "Triangle is valid.\n",
            "Perimeter: 12\n",
            "Area: 6.0\n",
            "Side 1: 3, Side 2: 4, Side 3: 5\n"
          ]
        }
      ]
    },
    {
      "cell_type": "code",
      "source": [],
      "metadata": {
        "id": "KHxoGs7I4b7Z"
      },
      "execution_count": null,
      "outputs": []
    },
    {
      "cell_type": "markdown",
      "source": [
        "#Inheritance"
      ],
      "metadata": {
        "id": "TR63raMIcZBI"
      }
    },
    {
      "cell_type": "markdown",
      "source": [
        "Inheritance is a fundamental concept in object-oriented programming (OOP) that allows a new class (called the derived or child class) to inherit attributes and methods from an existing class (called the base or parent class). This enables code reusability and facilitates the creation of hierarchical relationships among classes."
      ],
      "metadata": {
        "id": "WHlI8BZecZIf"
      }
    },
    {
      "cell_type": "code",
      "source": [
        "class BaseClass:\n",
        "    # Base class definition\n",
        "\n",
        "class DerivedClass(BaseClass):\n",
        "    # Derived class definition\n"
      ],
      "metadata": {
        "id": "kqtRfj2QckFJ"
      },
      "execution_count": null,
      "outputs": []
    },
    {
      "cell_type": "markdown",
      "source": [
        "#Single Inheritance:"
      ],
      "metadata": {
        "id": "9jglo8m-cZLr"
      }
    },
    {
      "cell_type": "code",
      "source": [
        "class Parent:\n",
        "    pass\n",
        "\n",
        "class Child(Parent):\n",
        "    pass\n"
      ],
      "metadata": {
        "id": "qFZ7xihhcoWd"
      },
      "execution_count": null,
      "outputs": []
    },
    {
      "cell_type": "markdown",
      "source": [
        "![image.png](data:image/png;base64,iVBORw0KGgoAAAANSUhEUgAAAa8AAAIACAIAAAC6q3TwAAAgAElEQVR4Aey9B3wU17U/fqbsrgQuyUvixEle3Fto0vaVwLiCG5gOatuLVhK99w6mO9gYA6aYjqkGgzEY06vovYMoQqiAhKQt0+7/d+7KhOQF8vwPLyBn5jMso53ZuTPnnvs95Z5zLhB1UymgUkClgEoBQkAlgkoBlQIqBVQKEBUNVSZQKaBSQKVAjAKqbqhygkoBlQIqBZACKhqqfKBSQKWASgGkgIqGKh+oFFApoFIAKaCiocoHKgVUCqgUQAqoaKjygUoBlQIqBZACKhqqfKBSQKWASgGkgIqGKh+oFFApoFIAKaCiocoHKgVUCqgUQAqoaKjygUoBlQIqBZACKhqqfKBSQKWASgGkgIqGKh+oFFApoFIAKaCiocoHKgVUCqgUQAqoaKjygUoBlQIqBZACKhqqfKBSQKWASgGkgIqGKh+oFFApoFIAKaCiocoHKgVUCqgUQAqoaKjygUoBlQIqBZACKhqqfKBSQKWASgGkgIqGKh+oFFApoFIAKaCiocoHKgVUCqgUQAqoaKjygUoBlQIqBZACKhqqfKBSQKWASgGkgIqGKh+oFFApoFIAKaCiocoHKgVUCqgUQAqoaKjygUoBlQIqBZACKhqqfKBSQKWASgGkgIqGKh+oFFApoFIAKaCiocoHKgVUCqgUQAqoaKjygUoBlQIqBZACDxANRYUQIhBZIaJSiccyichRQiIkUkmihCiiQkIKEfGsguf/4aYQkUiyIosRIgqKrBBCLw393cUy3bARCa+QlRBRiKRgo5JUIeIJmRA5IkSJhHeIyopEKqS/u8sdf4oi/uivW6xhmQgKIZKgKEpUiUSJGCLhSiLiS6nbA6WALAmiEibILkQkCuUSgUh4GCUyiRJJEiQSogxBSIhEZHxcES/H70RCe5ZEoiREJIJMIouE8psoS0QgBE+JyM2EhPE+oiITgv/usklRolQIciiMvxGIKMqiVEEUfEDKlmESkZUokUWJCOG7M2LV8ylEFgmOmjARJYUooihVyLJIJPwOX09AfkUmvct2l6f8z/r6waGhRBTaVdjRMrJXjAkkREhFoD2Lp5DPSES5KzuEkVERyBQiE1lRJCJJEhH+FqooE8iId4RIiIESMjpClILMHSESkfFx8EsxKuBgUSh737VZ5KrbgChJEvIYfSOikAjBUYevQYEVnw5v+I+3/yx2e3BvGyWRCEIUkRDWhKhEwhS2IkSMYFfRPqKMESFyGNkBpRoRZRSTgkR5RyaihL+XK0T8NV4UE4JRIkpiGDmQcnEU20Fxeg80RNSUKOfiLSgC4o8piyrYMoppOUzEiEykuysDhJBQTL6LpDJKxCiJiCSM3B8DfMrSdFQgTkv/Y1w8uA55GFt+cGj4o8gNE6qaUZGNAKWIEorZKEIi8i6RYlh5F+qhZBZFiofIW1FZCkmIbbHttlIZgyL8UiFhEpUo7pFolBBBEkTU3GRFlmVRjAEr3ofqp3dp9cevJUm6jYlVbcmECBF8aJnggykykWRJjP5jLLwnm//YiPr/faGAiKAjo75FuUWmxocQE4wKkQUxhKghRtB8kGVRFgiqZsgZlMPQopAEEpIrK0llhEQichhPoSCkEIgQG44J2ph5QdHyrk+OzVDNEwWuhK3HVNQqsUz1UiILhFCevIdURklf1YooR1DNpJyHJlPVc9H/flQY7vpA6okHaSkrYpiUIW6hAiVHSTnap7RfRTSVQxEZjVlU6BQqqO/WWzIVgjJVJhE95YgiVYlYikCx392GReR0qgpSZpVFEomKdEigeYLSHdukeiIC8t0avcPikGUcEhRmZQlfiiIsEcI4ikKogUrY4H3Zbr/Ffbnbf9RNsAdiiKDIRJYUKq5ihgc1hKkxoaDpTE0EBXW/SAgtBASrSMxuwDtQ7RBVLiqqUdGsMi2qNDtJqTKviSIgHt3Gqr8ld5XxgoJYDsXUxJjmJsbGhBy7bdVjR//e1vnrzSQiypEINdqj6NupIBFkwZgPiqqr1GJGrfCe4+ivd/zPPXpguqGADIV6FDUT5CjKQSmiSMgeVdIbe0WQQ1V61l36iErwO8Qg6ngRQiKyLN+pjt3+Nbp70KSmrCHIRBBCIrplYjsauBKaOVQjQJfm7R/+w4MYDkro4pQFKYpGDR116O0RcaSg4wePflRW/+Fd/hdf3n6X/8W16iX/gAJoQ2DvIjiheBKQCaJU8kWi6MK+Q/KhIw8FKt3R5kVokUgU0URSUEiiD4TiHGqYEvILBVY0CCQSQT8iPQjdITX/7pkoj4VEpVKoalqQFMQ8AX9O7SHkvSq2QXvmLlsFCctROpjCFAFjagFiOj4RdW4iw0cFSSIifci73Ej9+kHqhjH8Q9MYoaig8HrerUsIGhIpvHV1wbb5ZeU3iEgiMf+LcFe/m0JQcAtV3nHUJQ+c3j03d4YoijFAvD1/EuvuKAXCmJw8WXzk+vVrEhHprE3sPMp8vKcQ/iJ3+q4zu+7KJHT0CIIgKSIOLmp95xddnbt3gXCrtOhawdJtC0vKKlCHiE0N3eVGt2Hu7w7uvPzOU3d+rx7/7ykgi4pAQkSRLhWeu1pykRC5ks6SXSm+cOHWWapNoRMZ50EUKtKoyVF0q2jOtnknC84QKbp854INhzcTieQe27N935Yq1w6dcQtTnwsa0jI5lnfkix2fR9FqFirRs/jX7c6nVWRy+erF/CtXUSwrP9o3ihxGxx+i4Ze503cc2ULxV0RP9F02FNcx8JbJ0UuHlu9arEikoPTy1K2Tr98oQKlMvaJUMCPa/vVp/vboLrf/z/r6gemGKLoqo0RBy/LtyW/Gda+h6aR1THVHCfls9wxtxmOL93xFRORSBbVInKX9hxt1BuEVMdGqEDJ+5fjHsn8hCEIMByVJqpo/oT0bJoISRTNEEYmu42OuyT7UJQVCBAEVBSIQtJvFm6Gb8VmPjlg8+h82WsW+FBCp7hBzLQlffb1Il6Hdcuj7Ted3MEHtkStHY357dJffZbvr/e/gwzuvueNr9fAnUABNziipFCqgM8P2irsZLSMiKayo1HTm2S48nXwgRMKIAhRgCimnruRjBcd0wV9/t38DIXLNPr/sv2BolMhcT9D52bASorN1AokQQSkVqMeZyGTupq8ez3zk5q3rsdnhu/WdQqIwko8fESeScir1K4lCAw8ERMYwITX7Ph6c3hGjLGScvbnzPnceo2ORKoGSXNl4+ltaN1woPnOo4Ohj/sd3Hd+OE9xyOUIq6rV44V3Y8G8MqTvvf7fjn0D66nPpA0PDSlJB0F1Ijp89Cz3gi22zV+9dG5iVjjNxsnj6+lGKYuJNcp0IIenuuqEghxRqYKCNS+fmxq0dA7010Wg01vGiKMbs2VinSDgoqDedEBgO7jkuooihcDQqhmQlWh4qQjRUoqWVN6EnjFs1/m7cIESoFqkoUTESilSKRCiLlIbkyjNFh4hCNhzbqe2pOX5hb5SUoRklEvEu293uf5uF/u6C29+rBz+JAmFyS5Gj5wvP8/2B7Q+7TuaKRFiXu57pCexguHEjPyISKVpYGUU4LFPC5bduSES8euMUdIa1JzcTmcAo6LS4r0TEgrLiK4X5OM8hYlAXGhsh6pLDgAZ5xo7F0BMKb11FWEVg/Zvt9jMrhOg/Tmo48b2QhLFhtyT0m4fCZRh4I5MKhcAw6LywgyyFQ5V46m/ucscfkiJXloYqcDKQKBHhUsFZIpN9F/dwvXVbTm+RcN68AieF0CUvkmhUust2xy3/V4e3X+TndPDA0DAWHUVkUlZxne8BzMjH8ooLaGRU+e4TOyAIe/IOHbt0BtpDw0+S+S4APbnJP3yZ+oUdsgEG8IcKLoYJaTz1DegDttHJTHuAIdy3h7YRhYxdPRn6QHlFSCTiqNUToRfHBzkYA7uPb4tN+SFfyOgYYvozzrnZikzqfWqGXswzf3mB78y/OOHFm6WFFaQC+mpbfPIhDIpjukC3eR0URNvootwVMBj4HIAeMHvnQqKQdce2QWdghkL9cXV3HNsPQfj+8Pr4zMd+OexxnR2KxLz8W6VvfPoadAHoBfX+UptpD7ciFbM3z4SO0GDSu9BBC8OY3ZePK4SEpVDfpSOhF8fmADNAu+7wShQYYWHcN5OhF8S117Bjua0nfkDFFrVbQZIrcZIGh8rPiSf/T96FiiSy8dgmdjAwQx7psrQrkaX0KXYYxEE/7mj+QSKRuBEAHzFEIGfLLkIAfji64fz1POgGu0/s6TW7EzuAhx4wd/OcjC+9mmGcRAj0ZNhhCKbQjWeGP3ry/GmZKAs2LdZ011RW3CRSeNqGL6APMNmgGQwbcr+nvmmZxkgokiCaxiRYJiQTSfZ96eG6cw3HvaFrD/ARXCstIlKUGQTJE96C4TWgMzim2CsJmt5bjmxiBvJxmbymB0xdP0MhJPfCDj4ImhEaflSN6WsX6ILay+X5cVnADn0UOkPejStHLh+HsfBozi9gPHADWE0PIApZsnc1ZOuSJzXQdgDoA+tP7oh5vMcsHc11B+gC/CB+Ue4K1FKlUNacHOTeLKg3xXL6er4ii6h//By3B4aGRI4qOB2HYQxHi3dBn5owCHaf2EAi5ODxPZpuNffmn7p0/gzfB5LGNNp+frN25K9gAAz6qs/6g8s1vWHwggGyQjyzfDBIO3r16L3nt702riHfiSmIXpv63RToB4pYMXfrXOjKz9805eLV893md43rpsnPz68KwVXCRCKPD9C6Z2QShTT9vAn0jpu9cda072dCj0eW7FlIpCgMBGYQ7D74g2eGX9MTzl09fTTvNN+FHbxo5KnLV6d+NzmuI7v3zI6Dx/fAYOg9v//5kvx9B3cyXbSnrx+fuXk+DGDm714UCZFGn7XV9dGs2ffd1v2boD9wvXUVkeiCHQtgMHSa1WntoVXQV9NuSgoRK7O/8EFPWPL98v1n93mmez7fME1RlDnbv2K7cTN/mJl3/XTPBT3j2mvyyvKj6F+lBj5qJj9Gq/0cGfS+vROdq52zeZ5mILz7aUuuFxcKhaA38/ZnSdBHsyl3XZgQ68S6r416jZDwlfy8Gp1qbDy262rRNegBW/dtP11ySjdE653tKC8typ6eCaNw4MAw4HvB+l3fbDmxI24YCwO4KClbuu0bTVc2Ul667sR30E078bupRwoujF4xqkaOpqCgQCGkXLmBEzOEJI5OsE6pLxKSs6Cntm/8mHVjZ21ZAH00U7+ZTIjAjAa+9y++3remx1e9oRucOHcor+gS25HtMa/n8RvHv9y1GLrBtkObTl09A30Z+yzP0dJTM9ZOg35wXSidt3se9IX5P8y9WVkOA/m4YXE7Tu+ftfdrGMwzA4DIZO2+ZdATMidnbz/5Pdfzkd9+8owoR/otGgSDmJnrFhy4vKfvwv4Dl4/6f9pk73mdtN0f2XRo87mLp5pNbRLfCyIKWnX3rV8ephs9QDSMhbFQc0ImxdeKXvzoOaYLXC68vP/sgcc7Pnr40sljRee13WHV3uUiIZ98N5HpDuVhDLtBC3eaP6qEPdPSfz/iGewaRTx0dj/TPe7YuR2fr5wMg0AipM2nzTWjAYYA0/cRdigPXZlvDm3EaWpRoVPKIj8Q/HMQDVtOawGjIEpIYSik7cYv2jRfEGXow/ZdMpAoke/OboNOcObq2Vnfz4MBDIwCVBOGga63bsSKQfvPHGK68kfz9kmEbDv+PfTgz944vvfsIejKnM4/GSYidIeRi0cShVQIoek7Z2p6QrgysnDHXG0PuFx0npAQM5BtNak5IQJ0gyHfDJVIGU7+YbQl5kA0nPEBP1wH/QH3ISx0hxW5X1EXJ50Ir/Jd/kyF9X0cKjjJG8pZPIgZBNtObNP14bLnOrQD2K1ntkIfZuLqMZISbfyXt17/7HUikotFp5mOsOP47ssFl6A3/HBkS4QQGMv3XzZQJIJjlp0ZrZUUmR8GfRcNEQg65pbtmQvd4q/eKFmYu1TXmS0lQvsF3bhByH7QG9hhwHeHL3fOjmIwKgbnC4LUYEzD1z9uSGTSZUkXrhtESEVFWHmk5+NjVk8QSQU/QJM2PQO1vzMHoQt35NK5VXtWMAO0MAw5gR0Cmt4QnNXj2JUL0B32HtlLZDLt++lxfZiySNmpgqvQBc7lHTl3/Qx0jFueuxrnakIk+GUXXS+eEPGr3CXQnTl69QiRyVufvQfDgJAI9IOsL9BUQrBGXQWDM2AIcEPj2CHx8f10MJR5vMMvjl44dJ8Cxu5j796fWz04NCSh2HzXuStn235ul2V536Uj8T113x5ds+vcfr4ne/zaiZOFp9m+sOnwFlkgEzfMhp5seRlGivFjtVmTc4hMHDPdzCAoDF+WBbJg91zoCsfO7pm9birfh5Ulkr2wvW4Q5F7bX3yj6PDZQ6duHbtVdrMqloLKNugHjrkuQuS3p7/71OhnJUKuVRQyHWHe1gVhEoVOMGjFRyIh2w5vh96wr/jssp1fc73guyNriisvHsu/ePDKmYqKim1ndvKd486fP18uRX84/gN0gYtX87af3Qs94ErBaYlEanRim019Pzbp3X1RX+jF3CKV87YvZbtob9wsJERkB3FvT/pAJITpCc0/b1UeDUcJyS8ruhVGRHTPcXED4WD+oeJbNw5cPH6m+EpJ+CZ63KuSrvCaiKSi4T8ZD2FSTmQSP0bTakojhQjQD+JGMMxHj6NDsD84pzpEhdhnOmDoYyIhe8/t4XrCzrP7Ll0/xfaA1Qc3EIEwg6H34l6yRDKmurTjaxBBiR8E1kn1w6IkyaTXkgFMRxDDFUs2L4NuTEiuHLBmJPSHPRd3X791c++5fcevnSsSruF8HZ13I0Q2fZr05ievEknutMTL9gFJjoQjAvSCsasn4VMNgt5zukZJ6NCZI7pu8cfPH1h/ZDn0gwXbFxXfunG64NTRCweKQrfOXTgLveHAmUNhEvrk6ylsT/Zm9Mbh84fjusKxcwcLSkqhD4xcOoyQckkqTZxgg5EMUYTvDq2HHvzlm5cJEd//5F32I04hBEZC3Ql6USomErl+86Yg3CIkBIPh+YnPnr55tjB8Y9ep3adKDoej98pY/Sfd8HCffoBoiHO3KPpO7YL2AOOAGRoPHSHvxtW9p3MhE/Ze2X/h2lk2B74/tomEyaQNn/NdmOLQDaLIfG9d+vSMKBHbzfTACIbpp3v/8xbQL/6lcS+JhIxbOxV6cpGKyiPXzkBniOsPWTMDTDeoN6FOLJIB9XwRE/i4njVcUz0KkZt82gKGMUQWb5YV853j5myeV0nKmA4w4KuRshLadGijNivuUP6JcKQcegN0r9lxdoDtz7Ad2VukctO5XL4Le/zqRSKTHw7vrBFkzl6/uPVELttFe+XKFYWQ6Xu+hG6a34580jbGBv1B061mhaTM27wSfJqCinyiEG5oXMPJ7xOZfLtrDXQEzVBtxpQUbRd47fPXFSJcOXNc0/kxdjiTNd0L3eINn1roDDopI+GoEpZR0RAxCE7d7kkBnIeLCNAeBiweRKJip/ndoCdMWfuZREir6W244QwRydI9i2t2qlF/QkPoA490qHmrLHy8+BiTrd1wYCuRCdeH7bNggKiQJp+35ofoiITzKtCPgeHw2tg32BzotbQnUeSvtsyGrnxleaSsuIDvwvL9of2XXaEv1OypQ5FFc5Cp3018dsSLho9NEiFd53WJ6/aYRIRoRQQ6aUevHUUE+ZEBGv/8IJHF3ad3QifYfnxbhURgKDDdIHOWB/rCY+01+WWV586e5NrDnjO5USJ+tnY605kJC2Wn8g7HB+N2nT0oSqEuc3pAF3hzdFLcSC3045lBQBSRchpzpiCPEDl5wuu64XFhIm87vD2+E3oM3Z+nQhcWhscTRfwmdzl0g2fGPGWfZIdu0HvlQFSyf56G8oOr2lCJvn8J88lFcvDKyYlrJo5eM/HspUsKISevnB6yrP+1ksuXi4tGrhx56twBiZCNJzYPXD4wJFcSRRy7Zvy8bdNEUpY+o+1LI2pvOLpu2PLBy7d+RUhFJZE37dk8+Ov+OOcrk7xrVz/ZOGPYqlGzdywJhW/R1HtBCoVo+LUwaMWA+VsWESLO/3buhG8/jZCy4tKbI1cM23zyB1EiI5aPXLZvKZHJuXNnhi4alH+1UFFClaHSBdsXjf1m4szNs/KLC4gknbl+esjyXhdLzhBBPHbxYP+F/c+XnT999cTgJQPzii7j6xGy5dTusSvHTdr66bLti4ev7F1aWbb17M4+K/oVhjBvf8TK8ZM2TqERt8KBgiNT1swa8c3QJdvWSNECGoiuXC68NO37mYOXjv5qx6yQgDljP2ZWEEWIxrJs7wkF6kns8EKhdOCivjsPbyEyOZR3dMDyIReLLksk9PXRb0Ys6xfFaDz5u+PrBq8aNPW7yVeKThGZFJRcG7lgyMG8A4TIo1eNXLJrJRGjc7Z+MWH1+CiJaMdD5wU9lm9dN3Btt/WHltKUEmHTie0Dv+pXXlEcJZGS8muzvps7fsWY6ZvnhSO3qFejAq0Eqgf85duJ49ZNkBWy4oflw1aPEJVwRKgcsGTk2oNrJRIavWLUos2LCCGnrx/vuaz7icLjRCY35NDCrd+MXzl20trPrxfniYScunZy6JJhpy+dkAj57uD3A1b0lyKVFwvzei3/6FzR0YgikCjZsGftqJWfLtr99ZTNMz5aOUwhwu5zR3uvGpp/80aEkKnrZw1fPRirmQjk5LWLU9ZOGbpq3KLty0ORSnxOhZw+d3T0+vFjl/9l/e61NIf1x2IWPzu2emC6oYzdhBmhEgYVxirLRBXMzxOiMq0NQgc9RqISkTpuIxgYQwuNYGAOTcJ0fe7QDAdFFjFMW6SZdFUzCjJRwpWoMYk0TyqEQVnUWMXJB/xDVCRZkiMVMg3clhVMCY3FmqFnB+MsUIxj0KsYVSKiiBHa+CUmZuGTYJ0T5G4R86lp+Qe8v0jd4zQ3mSqgmCQlClj1BK9VRCxWEsv4q0rXi8TSuugNMXZXIaJEn4SmDYhhTNkmUYLZBlSriFX3oX9gfQoaNhErnPOzY837/EKxEgkCzf7EY8oNsboLmJwkYT9KmJ+CvRzFrJIQqQyji5mUkzJUiDAQkAZzYf4lRrTEDeB7zR+IPYsqOoJpFKUTkZVS/EoiIZoPJ8tiLH1PwSI59C7oEq7ydNBQQPwtzU+tCMUmx2IOHZFU0psjKTCVkLIASj+aZy8LghySSCiEWf0i5j2FIzReQoolzKAKhw8WxTcQwxi7RuRKtCLkMM1eIaKAKSu0KA/mgmFKfSUm7WBImFAh08wIQUZPYhS/ofyJ0ZVo7/8ctweGhlgdRBEkMdYVEazAJZEwdg/NFEVcKI8SAQtkYWIpCWFACY1CRYAjEVKpiKTfkiHtprSVZXT3RkUM4qdcKN9C5kAuQPBByCWSdIumX9FraD0IvFgkYUQ3RFdkEkkWBMwbJVKUArSoyPR6bL+UhDBpUIqlgIoCRmkrREJWjIW/RkRU2mIbRr3QujsiEcP4SzqMwvgEgiJHRSyBQnlLieXshRTMNCWSglkHCHwU6zHui0QoBRDo6VigTInjSA5FKiUilpNKTENVt39GARHZCTuSMkaICjqZxuKhaAlhLSNKYMp/sVAYQioQA+mUPSIJghsCG1FwlksWpbenvD5qzQRU/2OhWwKWk8EuljBeBUEEq9AIEpExkoHyG/0UFFIpYptCmJBoGCFJJPg3DYSVJTmWridHSQR/FsMpIlBfMb4CAi7NfseHpeYVYjb9OX5SFZQW3YkgxGOsK77aj+wZkUUSRegXCJbmkUQsHYZyn6YXYqEfOSbyFRFHHA4N+l5YhSQio64Q0wbwVX5m24NDw59IyB9LKdB8dNrlioLV6WK9X30/aSUVOSxHwyJVIGmJCjqofiKBfqaXV4VS4giPoLtKRjhAyUFV+Yf/ExEO4RL5l5o0NI9eCt+ZERDruqqkKcrKVbXCFJSNaIvESn5VXy6n2oAoS5i8SLMQsSAQaiEPlyCvNmgoof6H4qlqRk5BOxEDWVHRq847GibU+KiqxilWGWs/U3T7//daaNeiT4MIJFopVUZj6e3VAR2oolYF39Ttc1t7Q0qg9v/jJoriHX8iG1C+QPd6LHc+lgNaTT9FWZJEWo4lZu5j5QtMFvvx7R+K/6sNGqJpIqPREUWFHnV4ZKu7pi//r7KLHoaLiIJFj3FMoG1Fa/DRcjgPBXc8BA8hSmG03WiqhITGKk2dQ8WimsAChWy0mmPWNB3+tyHwTjiIaYtYlR3dcmjSI1bQS0VZqC6ve7fnRL8nrTROdRrqsIgJs4eAx24/QvVBQ3Sl0cKDqHWjX49OXlBHb3XQEapUgv/5qDgFQx1PeCpmLFMP1u0u+s8+oMHAtB4+Wli0xpaEs0pYaaY67JRpaU12KrxJbJ5NlMJh6hK8QzmKISMWWJSRuWMOAfRRRn6cS6FvH6NB9fvEqhZo2eE8oYzFfahv/OFi7mqDhlSyouAJlVWWlUZKyoQbN8tDhcU3y0qr9V50IxyKYOV5qgVQNwp1AjxcbPIgnwYLC61a+e2wkfOHjP9i9KQFI8ZOHT9u2qgJM6vFPnzitBGffDF44tQRn3wxetwXwz7+YtinXw4d9ll+fv5tuzh2UGWpoCjEAp1EQcgounqTAzPEN2S5RtV6B01j0LwGNd9o5+iLgRQo9/9awPFB8tcdbVcbNIziBBwGEOzYeKgG1wjYxqBtxkIjhnm/Wu+aGsa5C1ehoYz+Q5x8pqsRPFze5TsY5t9/KAqiPOSj2aBpDk+nwQt+5vl03fPpzDPVY4dn23HPp8JzbeC5tvyf2sLzafBcBnDvnTlzJmYaKwouQREjK63ISYNJ0UDGieaigpscvFmzthvMnmq910wI6EwB/hW7r8foKqcBhqY9XHxebdAQ7Qda5zB3+07gP9DpA3xSUGd2siZ3td51v2i9ZPU2LOeOvhRRJlhziU4//moRfyoAACAASURBVPtx52FsUaFldAePmx73tJ8xOsAaBIuDtTjAHKgeu9GjsWTGgIwxeCE5izdkM5oPzp49e7s8+226U/UQA2xjtkJYIVfzCzVxTeLwZX3VemctQUgKwJ/t7q7Dq9Aw5iC6/fIPwUG1QcMwXd5RlMiOHduAbcuYOoAtE2wuMHmr916j3fxvNopY7RH9YhjjGpt0ewiY46F4BFpgY+jHU7RPZ3C2NLAGwOplDJmsxVMtdjC5tTY/IHzbweSCV7N4vZ+BN/Py8jCUkK5X8Td0xiJalYiGdJG/whslwL4DidXjZe/RI5DgALObqe3ydh5CPaMI+bF1kP7m9R/oH9UGDSlYYLTBtu17gGnDmHxg9oLZDTYf6gjGDI0hUDMpkyKji03MAEMWa8rizL44mys+2QmJbqjr4ZOcYGnP671as52zBCHRoTH5eaObt3lA7wBLAAwBxuwGa4AxdeCMDjC3g2QfJDoZk5eJcbPFzRk6gykdkrIhKUOX4OX0mWDygMULBjdr9oPBrUvMBpOLN3ohyc8nuOJMDjBls0YfYwxCgo9P9oLRyVh8jM3OmHPgl62Xfr2BThCgqXw7fuiBcsXD1DhNDhkxYha81EJr8/PJXj4pHax+sGSA3stZ/Fz9IBhdjNUBFjtjzgRTGmv2M4lu0PtQWFo8jMWnseSAwY17fY/W5mVMATbRAYlezhbQWANgymZM6Vpzqs4UBFMAklyMPgORy+wC7FAHJDkg2QWJDq3FzZidYPSD1a+z+MDgRQ4xOcCYhTyATfggyc8kBUCfypp9YPNDsh9sfr5OttbiZi3ZWr0Dr2Q/PHfuwo/28d9SG91pVRJRIqSosADgXbB6IdEHFg9v9IHZrjNmg4W+iC0Tkr1gzQJjFmfy89ZMMPnBnAnmIIJvggMMQaauD4yeOFMnZFGzlzN7cMjo03lzNmMKaGL6RFImJKXEW4KsIY2+XUfOmI7gZfGAKZO3OqB+ECzpkOAHWycw2XEsWNpzZhck2sHogUQn6FN5qxMMGWBJ4w0ufAa9nTGlQ2K21uSCZDeOJoMTXmnt7TYUsV7EeCm6Btffvv4D/avaoyFvy0ZYtKWByYWdZ3WBjZoVSenY/VYvjhM97Z4GWWClQ8KcxrweAFs6Dh5zEFnW5AJTGiQ5GHMWl5TCmZuz1gBYHDrER6c2KYuzBJlXs1EhNQXA1IbVe3BUmH1Q34d9jADqAIuLN7qhgQtM2WDIZBq4weYEUwYdk0EwpwNCahb+KtHHWv1gasPY7Coa/hP+p+7U0eOnwLPpYHAg0ll8YPJzFlQSeYubNwfB4Nbo03VWDxi9eBZRzAcGO5fkApMbLJlgzcDrzXawOhFHjO04hCoPWAOcuT2YvAiXKFa9yBLWbK3RD0l+qItWOWexx5ly4hJcKMyM7cFI2cmCIg1MaZokNzTwgt4PyVmMMRvqeEHvhPoIoIzJC4YcJtEFZgcFIAckBcGYBhaHBlrdAw0xZ5VOGkqEFBZcB/Z9zpaJQtqSytkyUeImusGQxhg9YPGz1lQw+7TJHjBk4MMbndiWJR0R/DVnjP81SBkHWDxskoPVO1mLS1PPBfXTOIOL13ugfiYYXTprV9BngjmHDoQgJLsR5kwBMHgYWyZKd2uGxuiGBDvK8kQXGANgzWDqe8GYgwLJ5gODC81ha5bWHFMpvMj89Z0c+gfs0CDIJQR0rwTdfUbQaSLqHhUx8/Dh2ao/GhrT4xKDKJNNmTUM2SxqB5k6gxMsLtbqRY40eujYoL1rzWRNbjC5maSOYLCjQ8eWDVYnj9LVrjGlgcUPyZlgsEM9F6Kk1clZc0Bv54zpGnMHeNUOetT4tEYfawzwiTlgDII5k7cGUHewOTlbAIw+HJCohmSwVj9jDLKmHKjvRF3G6gVjKpjSUWswuPkkP2KiqhveczTQ9GJh2PjJ3LMeVFvq+lHgoUbvA0MamLuAKV1j8nAJAVTQLF7OlAVGN5LalKqx5HAmP9XRMliTE6UmjuH2YPDx5gCPwtIJlnS8lQ2xpobZE2/oqDHjgNdaMzRWHyTmxOlzwIiwCxZ3vCUI+gxUzcw+3tyZtTg0xiy2fpbWFIQkF2vOjLdlsSY3Z0yvYcrUWdBSiTf42PpesKaB0c2ZMhl9Wg2bD/i2d0VDWbm9LJ+gyAUFBQzXVGcKos+xvo8128HsYFCBDeJjWz2QkInPafYhoxo9YExHA8hkR863eMHm4k1OzuRnknxcg2xkS7NfY8xB5drm01o6wysZqCsk+VFamx1gcaKcSLDH6d2a5CBrcj9Wzw16FOG8NYtNyNEYUKjokoL4q+QAWJy8NYCyxJLJJGeDHjXrGknZnNWtNWSB1YN0q+vX2IK8sRsYMuGljPQugzBNUKCTRCoa3pP573USA/L+p6VsckKyB9k60akxdAC9B60blI3pbGKAT8wEcwZYnHHmLOQekwO7B6VcTrzBB8lOHD+J7SExnU9orzUhQ4M1E5J9THK2xuRjDF7mBRdY0rTmgA7loZ8zeCDBCcYMsPpQONdrx9fOiDMHdBYfZ/LTkeMEkwulaAMva7CD3o6WERoLXlRaLQ7G5EMTHrVON1icKhreq8vxnKCIZMgnC+DplrrE9gBtgG9dAxzwZApr60j1OyegPuiOs6Ghytl8aDkmZ6HPxJgBOHp9YPWBNYjCSZ8Dhg7wZgBMATbBzdkyUZ1nW8Mf24DZEWfpCIleiG/NcE0AmsPz7XTGNLBlATTXmPyQlIZWcwMPp3ciDBlTwezQWTKgyt7MxrOWdDD5WIuH09vjG+CTsA0yOL0fXsxgNS20tZwo/6xeDaTdHQ1pvjBdpFQmyvXr14H9UPuKBx5twkNrjmkVr0mJe9ofnxCABhlg9sfru7CJadRa94IhDaHfmIWamskBdf3oAUimxxY3qrHGTDB2Qr2vvhOMiPKebsM0tX1gTOPrtgFop9O2ioOmDLTknrJDvcBbzXo0Se3H13ODxU5dn9lgyQJrBhg91Fh247iztdFag5DgZiw+tr4LzefY2foBHD4v+UHbGHQtQfcB2FpAXb83ezgueVoVOvxjZv8/Y4J/z/lqrxtCwwAY2mrrZbzwbvD9tIFv2bvHWe3Mkyno+LM6GaML9D7OYucs6WhrmDPQ0NC7caiYXWDIAX1rDj3cqTgMTNlgS2eTM6GekzO4HjFmmlp0GT95IbzgAZMd6jp12la2xr1aOIb80hTAee3nnV2HfpLTpz/UaQp1HVDfHm9yc0kesDniLDi9w+gzUC9IygCjl0301UjKRv4w+cDg4dD6oICo6ob35HRaTyAy8C/TtC+64E8pB08fPnDq4JlDp+Yv/EarbYaKjz6zhsGBFmhyBpjTwGRn67tZi4szuFirHc1kfTDO6oR6WehwTPSANQURMNEBRi8Y0iGuzY7tx6bOWcn+KQOeavVmWs/1O/YeP3rh6JnLU6atAGgKukYVFcorr+VwBo/O5AdTRpzey1m91Bzx1jRm4dSBycka7FyiG+9ZPwsadEAl1OgCUzuwZsNLzUdPWXby0uVeYydDbScap5p374qG1HeMJKF+taKSYoAm8Lt2q9dtChWJVy5cLSgtn/DpwrinWuvMTr5ONrzo5GsHoV4qYnFtZ1wtDzzr4o3pYLCztRzwfBpj8vHG9HiTX/OsnUnwx7/sYGungykFMf137aJEAO499mX/H9/ofPzE2aLS8lOXrxRei8yZMReYd+avXrfv0EHgm+nquWskuODldpzeDi+kQkIGmxjU1Ary9VJ4Sw5vCMDTXrZuBpjdWosTgbgByht43hfo8NH1kuLr1wrOnrqoq+3hXrS37ziCZieHsIjUPbv+33+y2qMhm+DSmrKBaXny6NW8S1f27T1cVK58OW8F/M4el+jgX8mAx9PY37jZF93wfFrcsw74fQr8GsEODDm6J11sDQf7YqrW6EOv09N2eM7NPNGa//U7UMcFtfypzmElhWXAvAUveE3NskuulRVfLdl3+HjhzaKDJ89o/tuzYeehpV9vYH+NklbzhJ2Lb6t7OgV+3RbMmWyCl3kkjX/OG1/bC3/OhF+1iX/ZwdfOQhu5oQNsDtbmRPVQRcN7cn2FEvp/lVaHjp/FP+2AX7W8Scijf/bWatzxxrWbE6cvRwjjWkJ8K/Z3XhZSgW/NJrgB2mr5D5kXHHxdJ7ApNWu2hidbsMyHoHfEP58CmlYM24r5nR3YDJ0lTQtN9xzc/8XMZRz7auceY4lMZsxa/vxb3Vt1GJiXd+rwsbMAtUOV8h8adYJabfk4B/yXi3s8BXQfcE+kPvJyZ2CaMb9qCfEpmlrpoPlAq3MxT7bWGDPZBj5I8GkS7TWNbjbBW+Pl9KN7T3256BvmiRS096HxvdGQTqQjIBaX3ERErtl887YjX3y9BrSNH2sQkGUCcW0YNv2tlG6fzlrh8PUPdh3/bmo3X4cJ2TmDPp+zqEHLfozmgzTv8Jlzlr3VfiDDpsNzrfp/NPX3b/g/mzI7e/B4lmvDPWef9PEKElXGTpwFfNuIUvHVovXAfgDcO41a9Dlz7Vzz9F5fLl69dVcuPgDbLLvL+E/mL321aZcBoz9/sVFHYJuP/vzzQPePmd/ZdU+mTJw57/VW3ZHgVh9OPNZ14ky6poUoR3p3/ww46849B9ZszQW2ZbDDeEnBVQCr3KP37P1/88lqj4ZoFxh8AG0PHzs7YNgMLfPWu817VFaGaRe27D1s9ta9Oxcs2fjRp1/1GvWXiVOXz5i7cu2OHYmNc/jfZCz4asO2LSdHfbYI4prDU45PZy8e/tHkH37Y8c33O3V6HyS027P7QKVQvmzZGtC0ioqhiVOXs7pXgW8D8OqaLVuCvSZt2Lxn4ZLVwLWFl4Irvl6zOfdE/37Tlq/6ga3lSW7Sd9P3+z6dvgx0TdN7j9mw80jHoeO5Z9PYxABYPNRO8YC+o4qG9+Z41JBE8tGEL+H36brH21ZKBCAJoNaePXuXrNkC7Gt7j+YV3yi5VFSQX1Ip3JAAPpCIXFZe+v2WgzzT6OSJc8VFZQVFpcdPHADuvfHTZ5eG5fCNsvyCyycuXsAhPW5GZWV5SXn5wBGf34jK3QePA02rGkYv1HZykMIafQBNw0L575P9UK9t3oUr+YXl+deKbhRJR0+eAki6Vnj5+vXybSdPJDfpWhoKld+omLN0Dft0G96YyhqyITEI+nSdLQeg9cEDJ2YsXgV/skOCi4Nm/xQNMUFFIddLbjDQgtE137opd+bctcDU7jZ4VEQOM1B/2arvroUrFixafSkvPyKTIRNmrtx4IELIytyDOoN79aYdZaWRyYtWlxRLazZsB3ip7EalrJDFi78tLiv5evUPwDed9cW3ISE6+fOly1Z9e/LkFajxOs6x2NyQmA6aVIZtMXPV11t2HwJoeORg3vWCG7NXfF1SilEx1hbtt2zZdnjPieLCykD7CZcLK9atXX/lRsnTr7o59E44NPW7MCbfo4nZk+Yu0vyqBeiaL1i2dtfeAwBv+TqNxaqmNHj4YauT+DNAQz/6I9gPTp05PvGrJR+m9vph94ETp04C/+q3q7eUFBV37j1iyervFZEsX7Zm+9EDlZWVfcZM4qDxrdKyzbn7Ap37Hj9z4oftB3iuwekLlytJxZCRc9d9u+lCXiloPxjy8ZTimxWWJl0WTF995XIewGs6sxv0QbC4Nb9OYaHZjm0HVizZqnn2vUhIXLp+fU63kReuXo0QEs+9frm47NPps4+cOP3Uq+2FiDhy6MTcYxfgd+0wIicpDf3W1jY4jaPqhveEwyiWZ5VHT5zOP2vX8k0UheQePnn69JUr127U+EPL1es2nDp1VQuv8ZC0ZOP68pISnvswpJAMXx+Apt9v3Xfk0HGWeRz4X27YcWDd+n0jx83DJUdecGoguSC/qP+QSQCNtu068sWX87jHPWFCWM0HdNo0HSxB1mzXWXxxTNPyaJj/Xcbx4+eXrFsXr22oZRseP3ns0NFTiY17VCghFur++dWuCxasOnT0Kmitr3zo5/Xt0Ug35IAlBed8rD6AjON7j85cugL+hN5GHlrcDQ2x7CytSIEFXkSpoLiEY1rp4tt8v257YWnxlQv5V84XpnYabnyti0QiPDTTPN6W5d68VHJ1xPgvv1+/79COvTy8+qajPSGkRUbftp6ujVM6E5HEJwQKKvIHf/IlsG80TetfGArV4N+CX7YujUZA8/zRg3mLF36n+a926B80e8Dq1dXLgl/ZFy5av2XHgY49h4SKKzQaC9S089Ckkih1G3XZu/fojt0HAWzAJRWFhE++mAO6hro66Wy9TAxpMvnA5EHvwXNt2OezX2raXVEUV8exNf+Qktl9BC1jSj0BVTk49+SAf+PJ6o+GiXSOQpO6/9CVEycu787ds2LdDqjrBHiPkHLuGRf7vIeBN/bnHl6wYvX+E8cXL/oWNK+N/HRulJAvPlk2+culn01chOvwQbPjly59OXc1Ax8A31qORhh4v1Vg+I2SAg2Yv9m4ed+2Yyy0QD99/RQw++KSHADvbdt8ePbChauWbzhx4CxwNvaZtjWeTo0SwkGTHUfzzp84D1xTgLdLKyoXfr2J4Rs/anBCkl1jduFEc5Jfa/KoaHhvbpcEUSLCuHELtH9Kh/9qWipE4cm0R5M7AvshsM0v5l/pM3wUvJgGddOeSMq6UX4zDppJItG8mALQuORy8ZVLN89cvHzmwsVjF0/vOLB/1Lgpx84VADRi2BbbDxycNn0JaJpt33Xq8wVL+BqtCCEM1ywuMQBWH6t3aurYNU+lAtc0GpG5X6ZKIQKmICS01T7r6T5u8rFzF3TsW6s2fB+Ro/0HTIdfpV48d6W4+EpjR2+2XgqNOAmC1ctZgnyyN07Xcv/hM1PnfwNP0JkHpund0BBdabIs4CLzaCkX3rgJ8CFomv2w6dj8RctYaIimyZ9aZXb/6GbJLRbegIZBlntr+/4jYz6es25z7poNOwHe6DJkYkUkun77zh07c7fv2PX1xk2WJt1KK2++mdGBq5368pt9bkbKAd7jDa4KWQCuyfJ1m44cPKGDN0Dv1dmywJLCQEsNtJi34JutWw7PXLByx/4zHN9YY+gI0LSk5GaT9KHAtDiw53x5NFy/bXdz4y7XC26cyr8BL6ViBKLZDUY72HDiHv7srVkvKMrS7BlLgXcyL2Z4ug6hrxbBqs0P2cLM1R8NEVzswH1w8ejRAcOmArwJv23BJniBbyURGfgmGpOf4VsuW719xbL1B06cnvzlUp5r/uWsFVevF4z+bO5nc+d+NnX1yPEzgP3g6NnzY0Z9yT/nide2vRkVAN5xdBh3raQE2IZ9x86vDJUCJPP1/GDOhjp2YNsA13RT7s6ZC1Z+vWH3D5v2AtsKw1CZd0RJ0T7v5rgmq9Z+TSRi/LB93C/a7dq3u+hmKWje0xoz4y3ZGP3wejaGd6m64T3hkFbYF4dMmM09ncr/JrVSCAHTjNdj7AjHNtuz9+SWHYeAfV0DzcZPnFEcCoO2lSwR+F0qwHsHDp2bM3shAy8BWEaOmmX3j5n02VenTuUBfKjRttmdu2vKjK95ruHu7Udmzl8DbMPTx6/s3r8LdK8yv2gOcW2a2ftOnvM1w70ajRD4rw/z82+Nmzafhfc13Bsb1m0+fvx8HLTgmBft3hEREuWhgQ6eXTBv3eVLFwHSMd7A5tXp05mEdKjv49gW+/efnrVoLfzWBVY7D+/dGw0lWhX1RzRsBo+1/mFL7qLVq7RPZmCsnylD84KzgpCO3cdw0PjJ+l6RkNEfL1y1MffbdZuBa6LRZ4uE/LGhj4e6DVu3P3/2OvAvV5aRDzMGQR3Ps42yKsMVHLwPtTMk9Dw0rpmQUULE6bNXs+xrAM3ZhOwTV2986Oy2YMnKTXv22t7qTCT56XcDAK+mdhktkHDDth2bZ/ZhOd3xg4dXrPzh7bYdeQ7E8tLOHYdztb01jB1w7shih3ptubqeG+HQx/NXAVcPftmMeSXg7NoH6zxi4W0acnjP3v83n6z2aMgnBTF+hW1x4djxERNmMS/5421B1pwB0OL6xbzN23Yz0PpD70AlKs9bvuLYyQtTZy2B/04Diz2qRNoGBjDM65OXr79w+RLAq+fPFo4aO13znEP7q5SQGNZAU3dw+LWbZQw0BU3qmZOXr57N+3OjDgDve4KDK8uVgQMnb916YNHKze+mdbwlkE5ZYwEafPPdRllUakLLz6Yv4MB2rfDmsE/njJs2Pw4ahYnMPJXGGTx8HR9GRWDcrENFw3tzPJbvV8jg8TO5F9Ph16khQWT41hgTZ3DxRt+v9f7ykrITR/J27t0VCt8SogQ0zRQiw5OZ8FJa4oedS6Totl07c48eKa+INGrTafr0RRfPlgC0BabFycNnKQim79+TO2fxMvitq+ZvUi+cv3Itv+jbDbm5x/aGJfLptGXA2aKy8vs3fE29faNhKXfz3iNHT0YVIffY+WCnsbfC4t6Tx0+dz5u+dN2FC0X5+aXfrtqGs8CJmWBwoffZhFH3AE2Onrg4Y/Eq5vc0qgHuqRsqchUaEoLCGJpxf7R///222UvW8k83o1PhWezzLk+3YbdKK8+dKSi9Hr1RenPQ2C9Wb9j1zeqd/G9S4QXvkKGT8svKT5+6XlJSOXL0NGDrF1y72dLeD+qk1Xqzc0lxAQuNaiD1whw0h5d91nadL+efKyioOH360pWy8PKVWzlNs1mLVqzfszOeeW/0pMUVleFjeXnX8i9VhiKm97rv33vqekFpUVlJg/c7Fd4oO3vp4vFzlzn4kPl9C3gqNe5P7eB3reFP9sIr+bfKwrlHz506fey7jbmgadE1azitOSBLRKCrZdy7//+tZ6s9GoLey9s6wiOp32/f32H4GEhoBxhYmxNXz88/a9+999jpK6VnTl/YvvfotDnz13y3a+D4OfBCO+4ZR/tuH+efvnLh0pnDl07WebML8I037trZdcgkeDkd/ph2uuAUMB+2zOx/JPe4lkvFmEG+9fLVq89fuViQd/3Mxfxx4xZpoNWSZes+n7YE+Lf6j5p07sLpvLySXblHT53NA77N+t17i/KKd+w7AXWdR04fvny5ZN6Sb+DJVpjSEEuHsvmZeqql/M/YnQaajBk7i3k+NT4hO6v/mLg/Z9HkHzckZUFdN6P1du//acfBk3S1Pa6ew9ln2uX0G6XDBLhMqOvk/7tl9xEfZ/eZAL9tDS9kmNt0bJY9iEv0aGs5mgVGJLTuwtRKa+Xrndw6B0NH9X6IT/ug9YBuI6a27zcl/k8O5um2/AvN2vcfF6/3Q62cGk+ndx420dNr0h9ezfygw0j2ibQPg8O6Dp+ie6It+0zbDt0nZHX6CCD1vbY9G6f3fs/R5e2Ufo1SBz7RwK992ZfqH/BWmw5gzNJYMjWQck/dEKtCx2Js8osLgWumqR3AoMW6brC0AZsXXXLWVP5lN8A7oE/F1L3/dmLYYL1WmCGX0FGbHMDUHQ59MsA1h5ccYEzB+AqUIu0Yo4urE8RQmPoZ2hcdmJtoCfC1gxy8xzyfyuo9AB9o/tgM9C5tgpt9xQt128FTGWyNlphvxzWDp1MxaJdrCbXswLeDWg6csdQHOLapu+u4JcvXLl/83fzla5cs2zpx8lLuj3btsy5ITGH0WVCvLbzgCXb+iAYO0359yFa+rf5oaPRrbK6axhx4pBlfOyvOGgSDnTH442ydtYleqNkS4A1g3mWhWY0n7UzNluzLrcGUrTM7oZaTgw/i4Z14phXUC2D2UnxrqJMSl9wJI/U1rcAW1NRxYRSu3ou5K2Y7/6tWAK2B+YBlmsOLbdEaerLVI884WasX/uxioU1NvhUwLYBvgiZzfAoPrXXQBBPCuNaMpin3ZEuaTZXFJvsxfQVTQb2qbvhP4BDL+0jjJ3yJ8YYGN9T5AGOqk4JxRsw1ovVs2uC8R50MMHj5lxxg8vKvODGGNAHzKXV1A9wrqcyLqZjSZ8tEmhucWO8jKROj6Ou1xVS2um7WGACLj3s1Cyxu3uDin2/Nv+xnTd0w19OQEVfHpTN0wpQ7i5t72cG8QnMEE4OaRCfUdsKLdkhsF28LMq9kwMt2zQvuzXv3Hz5w8uj+0/sOnDl54Ep6zggEsnpOTN3TZ8cZXcA2vxcaKljSndb/U2JoqDVl8wZHnCGLTfBqEzPjMRnZDslBrak9zlwbXJgqavGBMQXqOzQYYOjWWV3xiR3AYH/UFOQsft6apTFmQn2adGymKVXWAAoVfTtIaoVEMNrB7EejyuZmrX62XibN6nFCkoM32TUGL6/3sPUwPiwu0YFZJbZsMLTDLD2jS2dLB6sdaqW09oz4bPrS8ZMWTvxk4V+mTBs+am7cCxmgz9YamoENbXy2lqtD509pJdsQrnCgzqL8E+6/++m75KJkY6kFk5c3BBijhzW5GYMfmd7qYywZOlMAw62NrbXmAGat2mjWpNmBJqrJC0lu1uzD8g02Fxi98ZYgllow+zUmP1vLgwWIkoKMPg3MXrY+TYB9lSb5Ya4eTUm2ecHmwwBvcxroPTpTJ4witATBFMQEgIRUMLq0iX6t2Y8JpHqM0cW2zBlgTgGDAzNkDWouyt37m57BKi+EDPv4C+apDEo6FzRwgjWIs5b1XGBxxNd2IyzWd2CgNQbS0zIKmE7uAIODsaRBQmfO7GMtDqaeizcEMMPM7GesLsbsRGCy2TFX3ehHqDK1h+Q0sDo4I6YMYaqvBRkJI6L0iBeMOROTUkwunS2HTXIwVhcCkMXD1PfHWdrrLA6wpjAJdqiRwnEpAC14Jh2gkaYerdRgtSNb2lLA0hqgyb3REGeVsXyDcr2okGWacNYsDELA5OgAmxjgEgKMLQcwGjzAGTuCzc1ZabK8BYuGgN7FYe6dF5KcmF1qcLJYfMGFuXcWL9ZWSMgEfQeNLYiJUkY/pusY/VAHR1CcOaBt4MesO5MbyWINQpIXH7uOn7VkM0kB6Cl5VwAAIABJREFUTGw1Z6LqXdcB5g5gy8bUe6wG0AmbTkiDF9rBcynwoheeckI9L8brWGlkuMUDCV6o6wh0+AjXBJAlXLdPRcN/wv53P/2P0dCCSSCsOQ0sQYx1MrejY8CPWIYpcR7MDTBng9XHWzrhcDJmMsnBuPrZmHFs84PZzSb6IClQA2s9ZOosGbypPdTzaBLtkIBZ/WBpB4YsqGdnzO2wxkkDJ+XpIFiyEOMsTjCkgN6OJWowYTkTyz2YsjH7qr4H9J3B4Mdg1Hp+rbETQrAhG4z+eGsH1piC5UZeDai64d07HM/g6nEyGfaXqfBUKqaBm/xY3NDoBb3rcVs2JHnAGuQsAc6UxVg8jNmNahSiRiYmjTV0MSYva8nGyU2srNUBsO5GNi36gqVlWGOQSfaA3qWzYBYmmDyYSmRoBZYsHMYGV6xn4TUvJHk5s0+DcjSAiZtGD61xkIGiN8nN6jtBsotJ8KKGlYwpT2BO09jsqHIa3VDfwWFKtScuuVOc0YclXpg290BDXK6YLgcqKHJxYREL74HVzyQHaXJnW87qxuIjDR2IU1gPwsGZXRjJr88AsxP0XoQ5fIaOvCkD9Bk4o5jcGR8syYGoiqV0qJZtdmPWc5IbxwhW5fGCxYUanzEdSytZXVDPiRqfPhNB3+QEvRslvc3JWNJYSzYkpXJ6VBVpsqk3zpyFt8V0LywBhXduQBNk6/t0+gBqGwYfY8uC2nZ3xyFVy1kruFDKQ7VVf0sZi8HYGVsmVy8H7RpLAB0rFj+YMrE8UZID9G1ZrK2AVUk0Rjv2E1ZPcGFgLea0ZvA2F+hdOFVXPxMMqWDJROe32YFlaczZqEKaMrRJOVjBSe9nk7LB5MSRY/ax1nTOEmAt7cHg5swevLMJ+YzTp2vqY+4nSmybBwxOLPFkzkCGRiW0HWfy66wuJiGTsaWraPhPxgOuSkzGjJvK/hmVOF09WjjL7EZQsFCtzZAC5hy+npd7zQGmHN5kZ/VUB0csCMaZaKfU94HVyZjboJZkcaIub/aC1aeNpWnafJwtoDV5dOYcZB4sdBSk+n42mo2JPkQ0LNrWnk32Y3GaxK5YkA3LIrjAksFY/KzFxST5aM2CDDBk4pS3KQCvujHG3hTEeCybFxVYaxArHSQ6QXtXS5munEjRUCCSIpcWFvLwHqqfiQ7e1p5J8OLNLU6KSn4wejBxXu/FvGmTpyZqc4jp1Gp2YUKx1c9ZsGgCpsybvFj8xtpeZ3ZiYqg1C1PvkzzQwBOn94IxTWvzcuaOKFFsmRwqxa54fSZaS8b2WGwpOaOmxY+aoNGHWqrFDSYHhojZMrCGkNmFiYmv0mRtfSYYsxFnzV50xSY4wJLFWx2Y7lXXHew8jIYaxhZSx7KeD89WbdBQoGtfE4Xs2L4VoDVr6gDJ2eg9uV81gU1eBjGU1rzRY+Y51u1IQlamFUYD+I3Fj6xs9uFl96ld9lHH/FXr6Zq5NEM1tkDKQ2ZBPEh+VYgoVI74ZC56A61u3ujlTLRo4P2ivzXAWgPY9fSGsWOaRU672EjBl/IGMkOsHtJPajrRr7VmM0as9YASNzkLSx8BrgQQo6ogCBhoTadNaNlzZAMMwMYFmCtvFpYC3xx/ElO7/uVP1BjMbhTbRqe2PpbqwgRnM3obGIuHs/liFzAWD8K3kRrg/3Kj2GKyA+pk1nzBSXNRqNKP6SgPV6ZytUFDnJVXRCKS7Ru3grapJiHAWbOYhPT7tQwA1is0ZHBWtCM0SV6s/2pyMGYnZ/ag3mdyg8GpSwowRldsv1/t6h6zL1ixUVJEXHgb11WmG64Up25IgSi6DeWRnyyCP6VBbbu2jheLUCU4mERU5//1HepmoITTu/CTOt3wIMEBCU5W70bHv97NGTwIZHUydJbAT20R6jlYvRvqpEG9DCwxa0WvH2jeP3PmTNXEMV1S+Y5jkSiSREIirqEUKrx6ndG9zjzTDJ5Mvz/77zPgN+3g9xm4/8Fe9fkHO/w2VfuMF55Igd+m4pdPpMAf7Ox/O+9Po0+mw9Mt+T/YQdfYlzVaosvlSZJCF0F8iPi82qChSIQoBYvN3+3XMY2BfQ/4FlqmOWZx3o8d2JbAtmS0GIkGbEtW1+6RX7qBacFCSxZackwrDPtiWsXaun3wrzcNXNKcRavRJSrJCmahEQG9KQ+ZQ+XBcaxISESOjpk8548W9zONPAlNOtZ6O/PZtz21G/vuy17vncBLrzlqv+2t08hXt7E/qWUX/ftZtd7yJLwfTPwgq3ZjX513/LUaeeu84//z25467/h/aqMvv59d9/3sWu/467wfqPWO/8/vZr74RuCJF5pdu3YthoAx0t4+rhKHRJQUWSGVZaVFEz5dOGnB6qlzltyX/Yt5y6bMXjx9/vKpc5ZMn7988qxFk2YsmD5/+Zwl2MQX85ZNnrVo2tylscvuS4uxm0yePXfKrBWfT/tqxcqvFRIWMRGFWswPjrX+Z8vVBg0VQqKKIEhiYUHJ1q0HfthxaPuuQwd37N+68+B92TftPLBl96Gtew5v3nVw866D2/cenTFv6Y59xzZu3btp275tuw5t3r5/49a9m7fv37br0I49R+5Lo1t3Hty45VDe1XxRQPsoFmJGpxMfrrpv/5Nv/n3fCAqRQkSoiCokSgQJDUhqX0noT7wPOyGCIN0uyr9gwSK6ZiFRojRVQqhawxnFE6008FNbRG0ff4ghhIpATUMZ11hGOMB6nX/dqpZJoZTFb3EBRSEqVNCVFKlhpNBUtn/tUxHCaGMpIq7ZfMfBoX178BtZIGIEr7l99l9rrqoJtOqoMxSZXJBJtIrXf8T+fx873bOlaoOGSENJRnMSR4UYJgSzFJBjEEb+9T1GJVGUqeFCSkpupqfbBUFCZsaWsQlc9psKtH+9uTvugAulo5ykxrEiY01g6WEr7nFPHvq/PRlbdFdG6xFdx9gNiFC4tPb92O9kneVLV7Rp1XbXjt0xteWOPqq6KsYAP6ndqoWQKNug0S/g0e3697eXzYstqUzDiRAERSl8m7dxXj0s3Z+3pewrCaiX4f4jN+/ZtfvN198oul6IL377Je88/knv/A8vjqBUUKiIkWKro8ZKYP/fcs9Pu3u1QUNJQikrEiUsYtQmElym8Rf3iU3ovWjZeQRZuXevHjnZwc8nT7ofI+4fckfVl6jp4IKRMSlJV0nF16TC86d15c/1alEWab8ghehgQvWQ9j3tKfzyX9ijiiDh4m3CqfOn010Zme2Dvix/UWkxIbIgRGJ3lmWEZEWRYgc/uTlFjjErRXEUrVEiSlJVwsnfd5uC6uj/x953wFdV5PvPbam3B9D1uboqkHLTaavr+vbtvt3/7r71bV+VagdCIAQSEpoUsaKg2EGlC4LSe0m77dySSugJBBJI77nl1Pm/35xwN6LhbRSfJJzD+YRzz5kzZ+Y3v/n+yvxmBuKKiAQG1BJAGb4pejDAkACraQVORuCb29ueeu7ZlBnT58ybS9RfgeY5mgfnHrgweyT+Lte8QAuYYbCfwTQrahciIl9f/x/yd79BQ2BB0h9gjLE7Tglk7XfoCF95t5v5CAuu+3TttKkpmbMznpw46fjRHL+3e0GRbokq7vD5nfrgVz5NTD+GZhkAdgx/bzXv8g/IoSz0H7DrxK5IXKo8BJ/cDIMAWpLs4enxeCZPnpyWljZz5sxp06bNnj3bR/sFjP0MTaAXDIbARZ8+3b2INRF2NCkzZnma9dM0HfAV9iSvQPM0T9zGhMFY3g9qIQ+FuVknC8MX3bn5/Mz8BS9MS52RNnPW1JTU1Ws+CTwS7aHAz+9+wfLdrcZwLARgs7CH+C119B80FNUmAQuCFwIQaK8geCEw5SYdPDHAWJ45lnN03ISxaekz0tJnpM+eOW7cuPLyctHFE/gURELcrEMABYTDXugv3VYhBJrdrOz7fT4CZkUKAUnAnQrByeLG5N+9g4ogRdPp6elTp07NyMiYPn16enr6lClTli5ewtLXXF3EohTl5bfAJOAV0Pd4D+yXDQDc7RYheh8HY6tErIvYILAc5pluk5LB2C96LOGVm3LCAoo8cBx8gn3v7bemPvfsnFnps9NmpE1LmfLsM7u+2N79lCS4OR8N6PKiVOF4DvCd524xNu8/aHhTu/U3i2VBsFgsTz311PTp09PS0mbNmjVz5swZM2Y8+eSTJSUlge+LvBv4KV30CwqIAkwQhICJKt5pa2ubPn16SkpKenp6WlqaeDFt2rTU1NSsrKz29vZA7QZYu/M8v2rVqueff37GjBmiUjxz5sz09PQJEyZs3bpVEIRAHxHV5wAdBvDFbYqGgRYNBL4KgrBz585JkyalpqY+88wzIouI16mpqePHjz948KD4VqA7BTKRLvodBcRGLC8vnzRp0tNPPz1p0qRXX3112rRp06dPnz9//uLFi5988snnn39+woQJZ8+eFWsXQId+V9meBRZlQHt7+5IlS54lR0pKyuzZs0VAFGv91FNPrVixgmGYgA0kdhMRIgNdpme2A+P6NkXDnqKPZdn6+voFCxb85S9/mThx4ueff37mzJmnn346NTX1gw8+KC8vX7169fjx4//4xz8uW7astbU1wCIDgwNuk1r0bHGMcX19/fLly5988slNmzZRFOXxwDDv2LFjp02btnHjRoxxY2Oj0+n89NNPn3322VWrVjU1NQ0Y3fDYsWO/+93vJk2atHHjxrKyMp/PN3HixGnTph08eLCjo8Nut69Zs2bixIl/+ctf3G53gD3EUCDx58AQDIGqBS5uUzRkWZZhwAnFsuyZM2d27drldrsbGhoCSDd27NiUlJT169eLfYDjuJqaGqfTuXv37urq6oHKDQG2GHgXxGf/TzdVV9dXZsiKrSyi4bp168TQP5EIPM/7/f6Ojo6BQZPz589XVFQEwF2s+BNPPDFlypQjR46IdRQnC7a2tp49e7a2tlYUFQOj+jeuxW2HhqKJJGr7AYdIAPICaPjYY49NnTp1/fr1Nyaf9LQ/UiDQyqK+I3Z+juPGjRuXkpKydu1asVIiV/Ss4ICRgjzPi0QQsX7s2LHPP//8oUOHxMr2rKZ4fZ1mLYaO96TMwLi+7dCwZ0v3bEKR9Vm2OxBswoQJqampotEUAM3rRpZ7vi5d3+IU+Dq0BVpTxESe5ydOnJiSkiLqhhjjAGje4lXrU/ECQBa44Dhu7NixU6dOPXLkSM/eIRpPPp8vQIeADtEzWZ++fosnvu3QMNAeHDkCP8ULsc8IgvDEE09Mnjz5008/FRuepr8SDn3dz+sykX7eghQIqEJi2cSuHvCFibrP+PHjp02btnbtWvFpoBaBWXQBXAg86qcXgYqIkn78+PFTpkw5cOCAWJ1Afb9RhPTTKv8rxb590VDsAIH+cF0HCLiQxJiMQFDYv0JTKc2tSQGGgRX2Az08IPkCcnHs2LFTpkxZv359IGygZ/pbs1LfrlSBuosq8IQJE1JSUkS/YaDugZzFLtDzZ4CGgZsD4+L2RcPe2k/sAIFRlN6SSfcHBgV6duzHH388NTX1k08+uUHVeqbvmUxUsr4RPXt6WgKvXJdS/Hmd0A0sfRgIahETBBKLxr7481/827MAgdxEbhdjyMR8AsluqwsJDa9vbpEbJDS8ni4D93fALBBVJNE9IgJQb9h3Y2KILBSAMDGxaIsEPG4BWzXwicCjnncC12L8g6jKBW4GLm5cnp5Pxa8IgiAOsos/x40b99xzz4lo2BORA0XqmcMAvpbQ8PrGldDweooM6N9ihxfHWB977LGUlJQ1a9YEaiwyQwDIeqJDT8gLKIaBF3teiCnFO6LVGbgT+Lr4VPzp918/3zTgyBOhKlCMAKT2/Nz/es1xMEe4ZxTRuHHjJk+efOjQocBcnUAJ/9fcBlICCQ2vb02RDyTd8Hq6DNzfgiCIw2Ljxo2bMWPGihUrTp8+7Xa7nU4nRVFWqzU/Pz8nJ+fo0aNHjhw5cODAvn379uzZs2PHju3bt2/dunXz5s2bNm1avXr1hx9++O6777711lvLly9/5ZVXli1btnTp0gULFrzwwgtz587NyMjIzMzMzs7OyMhIS0t75plnvF6vSFQxkuE6AosQLCqDr732WmZm5pw5c7KysubMmSPmlpGRkZ2dndnHIyMjIysrKzs7OysrK1CktLS0yZMnHz58uKeyGcDc6wo2gH9KaHh940poeD1Fbpvff/nLX1JTU59//vmJEyc+1cvxTC/H5MmTp1w7ppIjhRzPP//8lClTxDviX3ES9IQJEwIWOv7q8XWN7+WXX05NTU1JSRk/fvyECRPGjh07YcKESZMmTZgwYWIfjyeeeEJ8cdy4cePHj580aZL49x//+Edg7mkAB3uC41fLODB/SWh4fbtKaHg9RQb0b7Hni4rYihUrPvroo/fee09U9D7scXx07ehxr/tSfPJBL8fHH3/8wQcfvP/++x9++OGaNWtWr1796quvpqWljR8/nqbpANyIpqtI6cBNUTHEGC9ZsmTq1KnLly9vIUdTU1NdXV19fX1dXV1jH4+mpqaamprW1lbx9ebm5sbGxqampvr6ep/PFzDkA+HZA7rxr6+chIbXU0RCw+spcnv8DmhkIhiJbPD1qov3ewLW19P0HOoVnwqCENAE8/Pzp0yZMm7cONFSDmQl4rIYBhQYMxG9e4sWLUpJSVmxYoVYyEBRAxffWIZvvHmdDzRQqp7F+BbZfuO3+t1NCQ2vbzIJDa+nyO3xm2XZACJ8Y42/ER97A8fA/UB4jQh2HMfl5eVNnTr1ySefFHUxcXhX/NtzPFeEVPGthQsXpqamrly58rqCiU+vu9nXnwG1NFCSQOEDj/qaZz9N32/QEHZBEWDanJf3kjWvWQ6W/Ly2w8N3XviTxrwPCzRsWQmrc44fPzElJXXDuo3fYnXPvr0CjMOQJWyhWrDsp7gfQT9lqIFVbDLyCo1CY+zr3tSkb80Ly5sKmGZhHwtxw6gjOcefnTL58fHjGIFnscBwsLePn4ENVMhJFkAnN8U7LCcsXvLi8ylTX1/xJod5loetAmDzErIP57W3/tVSkbVmyULemBfX4u5eTXZgNdy3q02/QUOyLjTZDECAXRXEjdNY+P9Gu478608BWDkes7Bhk8/P/OOxcVOnTF+7btO/nsO3S8mTLS9gaXtYABk23xB4VtoJ4Ntx8819ixN4cYs+QBCOrEctbknAcwBF/+IpwpW4bwTwK2/OPZYy+elxj/2N9XmvrSxNgFBM888FrrvREXP8y0tfTJs67d0Vb0FJxGWrBQYLDC/4/9ViXCstiFsBw/LxsAEhjWELPfKhm0u7/plb/0FDskkeyGqWqG+EdYh0ZATYiOy7niCbycZm8AkBj//rP2ZMmfLpxrXfPecb58CQTcqgC5DvYp7hsJ8mG2P0T44aKKUmDCZwPOxgSHb85AUvUaf6VkEBtDk/K4BmybK0wOG847bJz6Y9OeFZ2OEAWl3cEQoYmOxswXPcP/eP5XmeZfmlS5dNnTJn5cqPSHqyVSTZZxE2BerjAVYI7aMFP2YF2F4ItpthpV3JRCr2GzQkwEdAArbMa+Gwn8NsF/fPhdr7yBVfSw57p/kFzJL9+PCjzzw5IT1t3catX0t30290AouTHSLBTQMmEAvdTzp+WAr80xT1e3lve3tr69mK5sttnRer+nS2XDzXUV3VWXW580J1Z8Vl/+Urli++mDNxfMa4ie1nzndUXOisvOi9XN1RVdV+6VJzZWXHhcqOCxdbzp3vvFjVXnmhvfIifaX2tcysJc9OXP3CPHylpqOywltT01ZV1Vh1oe3KpT4VpvNiVVNlTVPV5c6Lp3BbJ3SnwObUPyy1b42v9yc0xLCXGNdQVnZ6Xua5Ra+eX/zahUUvnVpwc86yZUtPL1x0at7880uW1Mx7YVfsmCMj/93+p3/crPx7y6d0TvoVqxOTXflocbtbsnHzrcEet28piGgku0SBKsZe/uT9XDk6rpRbkLJPpy1IVSBH+QjZFLIChGwohEJaJ4pwyXR2FJ6PlHZ5qAXJ8xAqkCOzAtnkSguSO1ShZqSwIKVdEUwpwhzKcLfyvsKgH1uRmlKGFCBklSObXFGAUJ8KY0HKPBRUINcckinq7Hle7Gc52MD2Kyvf3r5tjvsPGnIgxVjM1uXlW5CaQvfZ0f02dBclu/OmnLnoTpvy3jz0owJ0dwG63xJuMgfHWNDwm5L5DTKxyDWXt++iwQHAMRzr4/kOzH1l+bDbmDt/wKrTmAe3GvhywTFdsWWjG4W6DcPt2rg+nfmaGKs+waZNtOtGUNoRNk2cXR3tNsS6DYnWsGhKF2/XxlOGRJsu3qpPsOgSrWqTQ59A6eJdxmRIrI2ndAkuY3KRPtapMdnCYyzhMQ5jos2YUKCPsQ6K71Nh7Nq4Yk2yzRhnRqomlw1jvw926MPgNJcO3H/QELR6P2YxU203O5HCrY1xa2Ituvut+oSbcjrD45wGYDKHPsGpi4drnclhBB79Xk8nQhV7d3fBAAqJxWUFMJNv3galEpN/SwqAR4+FfzxDY3z2s41OFGQ3xDgMcX067fpYmz7aqotyGEzuQfGUPtYSbrKEA8w5DYkuY5LTGO8wxNn00a7B8XZDjCsijtLH2nWmoiHJhYPhqU0TawmPKdDEUoYEhzHeOSjOaYy1a+ModYJLO7JPhXEY4or0yRa9yYqC622FGBxD4DfEknZIuKT/6IaY5VjMY98583G3TJVriHGq453GGJc2/qaczogEuzq60JhQODjJpouzaWJtmjiLJvamZH6DTCwydO6LL8gWwQyIaQbc7dfP2v+WHVp67TtQAIbUaOzHENqF8cX1GxxIQeljHPrEPp2FhpEOTaJdC6dDn+g0JLmMSZQhwRmRZFWbRO3PoU90R4yyhsY6NIkOfUJBaLRNE2fTxFG6BKdhBKVLsmsTLeFxDn2iiKFWtcmqNjkNSX0qiZi4yJDgMkTnKVA75Sa7PENMGUM2qv4OxBogr/YbNOx292K+vsBuU8icunhiZcQ5dTFmY7w1YpRFH1esjTMbIu2hJqtuVIF2lFMzxmFMLNYkujSR9ohEtzbRafhZoc7kDjVRhkS7/n67ZphDE+82xFsNMTadyaX+qeWOGIthqEs72hKRUGhMsIbG2gfH2dWRziFJ7vDhVnWsTRtjH5REaR8wa0bZdPEFBpMjJLJEF1Oi+0mh9sGiiMRcQ6xLPcZuiCrUJ7r0w+zah5y6GIf+fooU+Ot/bUhW9eUXRA8BloIBaDK0PUD4q99Wg2z4jrEgbg2PKzdssiEZaGS6BEo7gtLHUvoYuNbHEoVxjFVtonQJ9kFJNvUIuz7Wfke8WRtnHxTtjkh26iOdEb9yRSS4B5tsOpNVM8Km/plTm2DXRdo0Ca5BMWZtXKH6QYs6uSjc5BgUmTMoqcBgcmoTrNqH7KFgmhTqRriN0UWaKMegEebwBLtxRI4OmNZhTCzUJ+ZHxBdpYszhw1xqE2WMskfE2nRxlCGhUJ9YoDUVGOIoQ6JZbXLpEik1KJ6ULsGC5I2FhYTfWAg+lAbtCKP2ezS0aGKd4TG28KgydZxryBibOokanEwZ4o5pI52aOLd6WK461mkYYYtIcunj8rT3lOjH5Bhj8zXJtvDheYb4YsMYSh1XpB/pUI88qUt0a2Mc2uhCfXy5YYQ9JLpEH+lWJzmMSY7BD1siIilDgk33c3toXEmYya2JtQ0aSUU8UqyJKohItupHiOAIfGlMcGljqLB4e3hsgS6uUBtn0Y7+Og6KdyQ0vDUBs3c0jP8KGurAvKX0I826GLcx2m6IKdWMotRDzQZTuXpEcfiDNmOCUz2cUsdZtTGFxmE5mkinfhhliKTCQBO0DoqnNDGWIQlFEVFmbYJVk1SkTrCpHyjWJDjCh5kNJqsmstAQ49BFukNHULp4hzHeYoxyaeMdxqhSfVypLtkRnlQYHmc1xFiMyYXauHzDmIKw4YVqk1kdUzAowaWOK9MlOcLjHJp4hzHJqQZTXULD3liu36OhQxtdoE62D4qx6EfZdUlWXRQVFl9oiKE0US5dZLF6dO7gBIdmePHgR1za+ELN0EJjpHlIslUXlTs42aGOcWrGWLUP5w2636mLLdE9fFQ3zKVJsutGOPT3UIOScoeYLBFxVGiyNSLaZoyzDhnlMMRZDElOXXyxETJxaka4dQ8cjYhx60fY9fFlQSZ7RHxheHy+McmuMxXoo+zhsYX60Q5DnISGvbHgrXm/VzQkaPJP3VBUD7XxdsNDRRGJruA4K/qJHd1nDYmyqZOK1ElmNIRC9xVGPFyijy6KSHboE2xI5kR3H0URlCrSph1p1o0+oY0VQcqMUJne5DCMsRvGFAYlmeV3WNAQtyzeaoh36JOPKRGlvssSkVgcnlQQFl+ojTMbwflo0ZgKDclubUy+Jvmk/hFqSKxVE+3SJDj0iTZDolkXC8MyhoQCrckSAcqshIa9sVy/R0N3eIxdH2vRjyoOH2ELjyo2jHKGPUCFR9tUQWYS2eBQyN1KkyN8jFmmzpehIkOS3ZhkN4wpCos3I2RXqfLlyILkx3WJVh3YGi5jsl2TbFeozCjWbRxjUZocCOXIkA3JXTJEyYc7I5LzZYhCQ6264e5B8XnaoVb9CKcu1jVohM2YYDXEFxnizFqQwy5dpGVwslk/xqWLktCwNxa8Ne/3hoZOXQzYy8RAtmvjHPpkpy7eGjYMBvQQsivjixYuOLUgo4BEzNiC7r3wzurCmfOOKR6gDHGOsNEu5R1Ve4/Y//TMpXdWnkidWSQfVhpmKtEmWQ2xlpA7ru7fbQl+wBk+0o1CregO94sLT7ywJF9udCj0eQhVHzhcMjjRFWqi9KCH2rSJYLVohls1w6iwWDC3h4y0GUc5whPcugdcQ0Y5DUk2DYwNAgRrY9yGeKfGJKHhDfit36OhTRPnGDSi2BBXFJFcoCHOQTTchn50dftO/5nq1rOy0d9kAAAgAElEQVTn63LtrqRHC5RBtXv3txzNo+QyR0ikXReZjxRCY239jj2127+sO3bYhpBTE1csj7Oj6FxVEO7qcjzy6wJ0l12prt+213vyQkfluUarpeTnj1oQYus9Jc9lOuX3uHWjbEEmCsXbNaOt8thCzUi3dmRBULTdOMKljS9TxVplkQX6RLfOJKHhDbjwFnx0IzTUmShDnF30NWtHurTxlpAfuRCqO3Yct7PV+Xm1jhzc0VG9/5BZiVqKy8+u/SRXoSxGQQ4U40KhbZcqimbOaDt9ouqjD+zoXrP83lw5OhaErAgJvN+OhjiU2kv797EdnbWWgqvHbJjubDtqtiEl9tO2f/t5DhpqRXdZkCwPyUtkyInkrkEjjiNlnhIVoxh3WJwFqQpQSK7yAZc+QTwd2jjgbX0COBYl3bB3buv3aFigiS3Vmwr1D9k1Qy36OEfQ0Hz5UKajstnlKPvF70sTHrr42U4f7rIolOe+3FafY81DMvN9iU4ZsgXde3LyzKJRv7t6MLcy/0ABktsQMgffWRLzSysKYzztxQ//wY5UXENDvbuE+uV/WeIerl6/GWO+SHFfQ0Nd8XNpLqXJiZB98APmOx/OV4YVB8U45ZFWhMofGHNQhszKB8oUodS9I10qpVkLEWTfeEp+w96Z84d80hsauvQQb0gZEuyGGKs2xq0b5dbEm4M0F7d+yTW15quUVjlyyJHV8NOqPfvKEPIWFVdv2VKfZ+ssPlH6hwkUktXs2W1WJjScLKt6dz2FNI4/T2hxFXcUlp+a+yKmsR2hirUfcy3NlpDg4zJ5vkrhVPzkyv69diTnfT7b3WPsCtW5l99vLzzd7HCdWL2+bst2t0xVuXkTc+bUudnLcoOUFXn760+63Y9NsKP77IMTcvTRhdqEPCOESeSS8B3JUu6Nsfo/GhoeoPSj88OTXINiCrSmXIQaDuY0nyzNQyq7ItoiH0YhBaW8m5KFnNuxvqu+1nul2dfQ3lZ4wqxA/uKL5S8tr92xr/pYbkEIqtuynfO3tpytYi/V0H6vPSKxYd+ezsqyoyolJYuyoUirPKgI3W1FqKu+vXRyuhnJas+c4Gs7O6+c6Wqs8bVeNiPkO9fEVrd31VfbkL6tsY5t6GgucjmQ6huhkNLFS2jYG2v+sPd7R8MEG4T+JVKGOKsuiqBhbL5Sjn3+E6nTKfmwk+rRRYakYpRoVwXlKFCDi8I8Uzxt2tkV7+FOvxkF+eovlI75VXvZ6dOrPnD/6lE/xmdefe3EL8b6LldyAj6qRFxz16mlS8tQkEsbS2li7Ci6SK7Ik8tZ7DErjBc2fi50dZx84hlq7iLM8FfPnih85D/ZDl/x+L9f2n/gwocftpw8U/LKitOrXjyG7nQYTK6IhNLw+GPGOLc+qUCfKOmGN+Crfo+GJaHDKf1ou85kjrgHxo5VCNc0ly1daUF3FejvsQ8Z4QiNLwqKo5Ci7rM9/ubOHAVMk+I6Wwoe/nW13VL+4hsV+3c1Hsg7/cxM2ucvVhmOBSHn00+xmHHIftxZdfXchx9RSG3VP2DXJ7h0iW7lKIsCsU31ReOebCjIa3c5c2QoX6W8cjTXX99yRI4wL+Qj5EA/OpU2s62tw4aQJfIhh2K4hIY34MJb8FGvaKhLhEhAPczosGgjC/WjizQxeQpEC37Lr/9hU0bbwn9C6ZIshsh85f35SNFaUlX92Y48peKoQkGzbU4Faqu56nj40cYi6vxrH1Tn5l7cu8ccjGzyu4rRcB/fWSBT0p24cPyTFHrApTc59MmWQQ/ZlfcXIDlmPA4lYru44t+PK0OaAjk6v/rDppJCO5KzHlyx50AeQmenZmGBvfDqe/nIWGSMcQ+KhUkE+oQiXZJLk+TWJktoeANm6/doaNFH20NNFkOCRRNrHRxbEKRquXi5auN2mzyoQBtp1SQU6e7JDdNZZKh635EreQdzEcoNVjVfvVDyXFqnu/TMSysb9+67uP9wzcb19eaSXKSyDo7NRYjvoilllLf8xOUv91tkyGxIooYkOrUJToSOyxFdX2//+9+91ZXnZs+xogesyntdv/h7V1uzRYFq12zlGXx23ec2Baq323Cnt3zW7ALZTyQ0vAEX3oKPekNDZ0Syw5hE6ZJcukSXPsGpibaH3m8Ouru94lLjzsNmBXKFxBxFQ4uRIv+eJAdS1Z8qrvj4k0I02KZEPqbThpD/ag018r8bT504u+r9equ99otdx2XIiu6zKBXYj51KVVdh0VXLUTtSlaBIc1CiDQUV6pKOyMOwj8lXKHB7u+PRP+age90IVb33sbfIbZGpcoPCPfbS9kuXjyhR0SP/z9/SXL83j0LIojGVhv7UYoxxhCc4dMPtuiQJDW/AbP0eDSlNDHWHyaGOzdOZqEEJLnTn2WWLMM260QPg1FOqnSj00r6DFhTatOvIldwcN0J2JPfVXDg5OaPNXnxm2dtXt22rPXD4dOYyX1tDngoVyVDJXYke7CuMGl06ZyEvYPu/JVkQcihRvtzYsPuIHSHmam3h4081OIvbDx/JQ8iM0Jn1W3CjLwfJjyKVRYEwj/MQylGgkuw5dKcnHyEJDW/Ahbfgo97Q0GFMBDNZl+DUkjEKbYw9fKg1+CdFv/mTgNkru76wo7tL7niw1mrjWuvzkLzt1MmzqzdYULhZjoQO7JSrOms7qZ//p+/EiZPvve/4xwSWZU+kzaWCgtvOFGEWWxQhVOx/YsZ/+fBem2KYDSXV5Bz3dzXmyxCLsRlpa/bs9jY12n4ysnTiMzwrNJa5HE88fnHdmhN/fxIzbSUvvlOYNvPyZ1vbz5TnK8Mc2jiXFiyn0tBEtzHGapQs5RvxWr9HQ5cu0Rk+0mpMPG1Itmii7dpEJ0JXt37pEXCT1XbBdkTo8njsZcfkqrZDR1vyXGZ5cH6wuq3qRPnU9IZSd+nLyy8d2ldTkJ8fjLrcTq6VvlSQ2+Frh9GSkf9tQeqqNeuwh62zFzUWUL7GxoZSNxWkxC3N5c8ucKIk3NTaePpMi7uQ93PeurrCwQk839lqtnga2s688mZX/RV/ZU1LWbENySU0vBEb3nrPekNDu757oQSnLh5GbLWxDnWUPWz4cdlQd3hM9XGn5/y59jPlFfsPUEjlQKjxs8/PL1jqlN+Ti5DXXkyhO+vy8soS//3qrh1lCxdbECqcOKP1fHnr+asX129qdVD2oPus6P4SeeKl3ON05dn6iyfrDx0rQj82ByFPcREEbCF51QcbmMtV9SdOXtn65aUv9pQk/ra5pMx/prYkbc6pGXO95SfaS085/v1xB7qD0sea9YmWITCHz64z2fVS9PWNWK3fo2Gx8adufVKOLp4KH3VGd78tJDZv0P02xSAX0hTPyCyZPiv/rngKIVfQ/UU/e9T+27865CaLanjhY2mOmIfLf/8ElfSLol/8t+s3T5TJohwyNfWbP5XMzChE8Wf+PrboRw85dffnI1mRXFUyZerJmS/kDBsDIYryn7iemOmOftilHJajkhelpJamTHPJ1acfn54vH+Qe9duKGemUXGdGulN/fbx0YhqlUFvU3zygLI2i3Ig3f9BnvaKhzgSwQlaygdU9rp3FuigqJMGMYJUtM5I55KHWkGS7PpZC4Vb048KwZIsx1hykLAuLpyA4JtKMQgrR8DJ1wgn0QAGEryK7MqRAEWIOii/QmopUSRRSFMiQS2W0o6ACZfIJYxKsBhY80hphcsjCLbCWF8pBSjNcREF8GEJWZChR3puLgimkOiGPLjEk5+mirVqIvrYY4qlBSY6waMlSvgFb9Xs0NBuHOgxxZkO0AyYpm+xhiebwBLN+mDMkxoXictG/lSkSTmhjnbpYa9CDlCzKFZ5YFJGcr4oq0kTZ0D3uoEirLNIuTyzRj3Jo4yhksqF7bcHRRWioXTPSHTEqb9BPHKq4QvSAGd1fhJLsg0152nibPMoVnmyLiIIJJ6oHXOh+mzLarIp0aRIs6G6H/D4bmZRiV/3YgYYW6IaB91qKsLkBG956j3pDQ5io3gMQYektXaJbn+QyJlPh0U79qLzwWLM6xq2LK9IOK4pItJAJ8vnhIwv1sW5tcn7YQxa9iRqcbNbFUIaEMl2SW59E6UcXDUm2a0a69MMs6niLProsKNoVkVCoh3hpmM6siy/QxRZok4CL1EMtBlj3gRoy3G6IdOqj8owjrBGg9zkMJqcuNkd9F6y6ZIjJ1STYjAlmg6lUl2TXxxYMSnCTmTNShE1v7Nbv0dAZHpuvu7fYmOxQAxdC2L1+dIEx2mKMdRiiHWEjHBGxTmOsRZfs0P30SHiUTRNbaEwq1iSWapJsEYnWkCjLEFjCixocQ4UmF+pHW/RxVFh8sXp0vj7WrYNlbIBB1Yn2wXFFwXdb9NGlYaOocFOeId42KIbSRxWFx1nDol0/SsrRR1OhJqdmBKUf6RocS0UMdanjrIMS3ZoHbVL0dW8MeKve7w0NycINZMWQaxqiQ5/oMo50GxLdIbGFwaZCY5zdEAUcpYHVE2z64S61yTYkzq425RqHU/pk66AolyG6QHc/ZTTla4bna01WQywVHp1v+DfzYPDu2Qz3W8MiXWqTPSSyPCzRFhHtMCaZ9cMgpT7BrjZR4aZCY6RLl2zRmKyGkS5dsjtkNDV4VLHWlK8dXaImS91ooi3GZJcxuUBrKtYnlA8eCXApRdjckN/6PRq61PFOzZgT6lGUMcodMcoeNrzEGOtSxxXqf2rVJzgMcXmGZEu4yakfZQ1PdGsjbYahNn0kFTa0QBPrCI+zaZMLdSNcuuQCbXSeBuJpXfqEY3dEusKi7RGxFo2pRJ1caEyyGUaWGkdS+uR8TZRdn2CLGFGsjnEGxRarf+qG0LOEMt2Dxfpks2a4OyK5TGNyBMXb9KMLdUlOwwiXIapAL83MuyEb3noPe0NDSieuowUTfm3aGDH20BmRTBlNdk0yLGyjibFoTBZDvMv4M0oTRYWaYBadPtoWPrzEONKpiXOqo2BOZ/gYszHeMnikIzTeNWiEW5/kDE6g7oy1Dkos1D/k0JoofVTuEEjsMsKKXsXqkdbQ2CIDsHSxeqRNF++MSKAGwdC2VZ8EC0mEgwaQp02kNA/ZB8W4w2PMd8Aqs8WaZEfQ0OKQyEKw7qVRlBuxWr9HQ4c6yjL4EccgmAtsi4giDDrGFpF4Wh1DGU0O3Wj3oHiXFtYUsevjYe1iXZJbO9JqjILpSurhTl28WxMLCyjpH7RFJDn1w1zaWIshya0f4VRHufVJdv3QAq2pzBht1Y9wR4yw60wOrcmhjbbpTE5t0vEIUATsuki7Lto2CLKy6KOLDElmdYxdD0E/pdpYd+gI4FfJUr4RH95yz3pDQ4dupNMwwmkAWLFqoi0a4CuYum5MsIfCHBXHnTGWiEiHPrlMnVikj7ZqRoCJqoE571bDaKcuxmkcWRAW61QPd2mGu3TJZs1Qhybepo8u1iTYNGPAI2mIosJHuHVxdn28RfeQPSLWFZFgjwBcs+kegEcGWO3VpjOBfaODRcCcxninMdaqjXUbI4sGjyoks2VODI63a5KPh8LyYvmGqGODRMNFWrWhV2brf2hYe9xxDCFYTDgUAr5usJBqv3hUIEeX9myF1Tb9sFUUWZYdY+Gfu6b12nTSg++VAjyPxUV3GQ+Hcc3aTZRCUxSRbDfE9OvTpk6yGU35SNZud8EW5UIHsJy09wThpf6DhjzPw74oTGMB5ZCr3Oh+Bxpmk91bII/s16cDaaq+3EY2L8Ow7iYHwNgleL/Xni5l/r9SgMMML8CO8rDcK48vffRxXlhQngw2b+rXpwPJbXKlOQTVmY+QzVD8HIvJ7nn/K0kGfoL+g4aMTxRidTZr3s8ecfzmH84/PO747R+KfvvXfn1af/b76sPHu1VCEQ1hZyJpL4AfuO95QVPnMGYF7GN5pq32cluxzXfmQsuZ8/36rD9XWXOpou2kmyY7iAqwTTmWNgIQua3foCEr+MB6hK2HecxghscsR/bahm22+/HJ4S4C87BLlLgmO+wjKrHnDwyGsEMUICHZbpiHgxQIhBTZdr4f//WysBc5D50HdokSWMxgXvLMQPv2GzTEAguKPfg4YCczwo08x3WJjdqP/3LEGBNwG/b7CY/yWGB90g63PzQcCiyPGUBBQA0eCwwL6Njv+Q0Mfz+RtgwWBLJ9KOPHgu+HJvct8f1+g4YcZmnM05j4OAQsCNCmZD+z/i2rYUN5smNoN9bzAPWESW8J/riNC8ESIGSuIQeBRFAWYXvl/nwCe8H2qALPYraTbBcNuoV09CPdkOwkB+axH/bC9mLs5TD8Ffr5gTmyqa0I6QyGn+A3lHjzB6aAH/OwX56AeR4zfgBGQcCcALpivz7BLSNgnmwqz3fDoiR9u5mt3+iGMJxM/Gk0bOvI+72wuXK3N+cH7jjf6fOdMG7Jczz2wMa2AmZZzIMKLB0/LAVo3EXGF3g/CbThwExmMG7vxz4Z4igEWAcsbPfzwHig+RJ4/GGpfYt8vf+g4S1CMKkYEgUkCgxQCkhoOEAbVqqWRAGJAn2kgISGfSSYlFyigESBAUoBCQ0HaMNK1ZIoIFGgjxSQ0LCPBJOSSxSQKDBAKSCh4QBtWKlaEgUkCvSRAhIa9pFgUnKJAhIFBigFJDQcoA0rVUuigESBPlJAQsM+EkxKLlFAosAApYCEhgO0YaVqSRSQKNBHCkho2EeCScklCkgUGKAUkNBwgDasVC2JAhIF+kgBCQ37SDApuUQBiQIDlAISGg7QhpWqJVFAokAfKSChYR8JJiWXKCBRYIBSQELDAdqwUrUkCkgU6CMFJDTsI8Gk5BIFJAoMUApIaDhAG1aqlkQBiQJ9pICEhn0kmJRcooBEgQFKAQkNB2jDStWSKCBRoI8UkNCwjwSTkksUkCgwQCkgoeEAbVipWhIFJAr0kQISGvaRYFJyiQISBQYoBSQ0HKANK1VLooBEgT5SQELDPhJMSi5RQKLAAKWAhIYDtGGlakkUkCjQRwpIaNhHgknJJQpIFBigFJDQcIA2rFQtiQISBfpIAQkN+0gwKblEAYkCA5QCEhoO0IaVqiVRQKJAHykgoWEfCSYllyggUWCAUkBCwwHasFK1JApIFOgjBSQ07CPBpOQSBSQKDFAKSGg4QBtWqpZEAYkCfaSAhIZ9JJiUXKKARIEBSgEJDQdow0rVkiggUaCPFJDQsI8Ek5JLFJAoMEApIKHhAG1YqVoSBSQK9JECEhr2kWBScokCEgUGKAUkNBygDStVS6KARIE+UuB7R0MO8wwWsICxwAu0l8UsxjzmeExjLGAOw/8s9mGOwywWMC9wkNaH21nBQ97zc5gVMLyE/d0J4HUOe1kBMxgy5LHAYj+mBXLNYpolVBDIcT1BePjI10/4BPZilhPgUwKDWciEb8c85nmoAguF5THHchwDn4TUtE/wsfBdjKHYpKICyelaAXieF8gdQcAc6+W6S+OHopK3um/0+E8sNsdxPd4lX+A4MaseaW/jS+ApGliGBbbgMI8ZP5CJERuO/BVozLDk0c0kFINpaH9oQobwMeFCxot5zHLAJSKPY8wAo/ZyEM5nBEgrQHbwGoMhVwZzwrUbDGZ5ATjNI0BP4YEJWWBewmRd8EIvh4AxxxFWFTBLA2eSzIFM0BMxZnnOT/L0wB2xx/SS121z+3tHQxEjgNgC7yPAQQjPCpjnMcNikWGAqzkfD7zBi1xBGhp4iRVojGmew34f9sK7wGFdmDQkAS6exbyPACtmBA7anQEA4//JiD2vu1kJME/goaeISA3cwpGXIWcaAE4sp8hGjMCzPMFpwlUc5jmOIdDGC5gFuIOv/fOLX+cfnsGYEVjMAztzPE9eEjMXE38j0vV28ys1+vrHMBYEgeM4lmDCNz3v//d4zLJETEITEjTE0EYAjX6MeYbFggBYAtKWNOVNrDIjNrWAGWhIEWaAH/ykfXkBMwJPYwH7ev8m8B1JwwAwAW4KIsZBZXiaB3wCHL/2JWB84DkWCzy0LBYI+974A5gTQJBzBPsgJ+BAzONWjBlR7IOuwmOa7j2f2+nJ946GoGaRZvYLHE2ATlSxGMzQuBPkKwEenof/BZ728z7gXQbEI1EbofXgkaj3sZgTWAF7WABTDlJ0QWsTsckQHCRKKIEDUckSBIHngYEIQoKmJh7XtTLwNIf9HMvQPvGToCEy8GGAZB6gT+B4zAssDSIdvko4i+cYYDc4utFQ/GJPION53gcIzgD+QjdhacxyPPZgf8/EgVfEEl4HZ+LT69Jcqw0ppViK2+Qv4QnMY48AbQMdngPrgwGR2QnkALbhMUf0r5tLHp5lGAYkOcNwDKAYiFbM+gUQ4SzmaewHVsKsAIm++QCWAXbCPg44FvifSFsCgqKCCWohz/OQhVhZwmY06xU4wo7dCl+v+TMCz0HO3f2nW/D7iDpBBAh8BoQ0yA3pwBh//2hIjAXeT7RzBojP0iDzSK8G0Q3ClYX2Bv0POIL1gNAEuQrNTUwSEF3ANNgDOII5BnNgUOAu3O6FhH5IRmMAJoEYRhywUaCBRcQJ/PzGC+AHmnAhlIZYYJxP/N2dXlQASXnIHbDRgd3JHVGMA3t/7bvX8IsHq55nBNBpCIMSxfS6wvREN47rRlkxDQPY3IfjG0G/D+/f8klZ6MaCn+hQ0HwgZjmQiCxwhCguQab6/L1iUt/rCFxAi2ZBN0+yIgYSIQ/c4AOhDwzkwT5i/H7jR2iR20REEy0bUTckbU5Yo1tbBKgCYwTwneO6hTB0jGui+hvzh9SApkRGg5LM0Zj3gJrsxRxNY38HZlledDIQqd5LLrfV7e8dDQUaej40OsE68Kx0e0gIM4lqF2lXTugWYgz2YQGaURC8mGcYzNGCD4PAZRnMeomaCEgIwhnkKhY4gkzwE/qGwLOYCUDJdaAQQCuQuix7DaoIUhEDnKirohlBtDiSIUClD1jnmhoIzOjDXgBlAuXAvgJ5qwcaBrRRqPI1XQboILKfqA6IqgXPMwwjFlUsoagYBooH6sc1FyTLgm4SeCRegLLCsoHawQfJMVC5meN9LN/tbIZODxYGUa4AJTo5BlRvsD2BF3AnoMLNOUQ/OMArARoWGhMYURRtHnKBOcx5iMjv/Zt+sLIhE5a4nVnRXIAKdWMTsBXdXWyG9omuG2Kv+H2cn6iM4CLo7RAE4ncmWitDtEwOsI+YxOC1gU8TBYMl5ff3ls9tdf97R0PRw1169cSR8oMNviuYZjDmzzRXHDp5uLW9DdyBAoM5MICJegWAJnD4o33vvXrgFR4L+e5j09ZN8fk856vPTN86o7ruMjQPi318J4txQbnl8Olc4qChyVBMt0ELuRIUA+PpGhCJF6BDkCPQzCJm5ZXmLNiQ3tXVReQpdK5OpuPoqb1nqs8TjVYUsiBjRc84i9msL+Zsyd18jasISMO3vjJGwxOXONwkdvHOoi8WfbnIx9OVNRWZG2dVNpzlBJYojF95SwAl5yslJ11bVKm7u4DoGRQLL4KgCH8BlAxUcEBeCGTQDAbPWMyytN/H1fgrwK3G+mmBqW1r9IOCSBdfLHBUln5Fx/5u5BAwD1YLNALYuSWXy/ad3wneSVD9OYbxY4F3lNouXr0ogKunVxRmydggACLxwlQ0nN1/YY/P5+EFELqYx36arfVVtHvbWJamyQeJ4wh6CYv59vbWg+f2VNZX9lYbMNhBUwYVGTLEPMt5r9ZXHSo/DmprmzfXfaiusQ2kOmi6vZazt/wH5P3/CzSkMZv9WZZ2mn5t0WqgPkf/ff0TEVMi9rr2CgKmQbQCY4ErEOweP/bgMe/8Vv76PTQj7DRvVcwO9vk8+wv3hmSi46cOA9MRuezDLHoJhb1k8JAuIaqKwI7EG9ITBHmiQLI8OKHF68DfQLJPjqzRT1O3dnaAPxLUVKauq0EzKXzrkR00se9hPIeMjxPeETo5X0S6fvb62QSLQVdgeC+M+hI0JKPmMDRIBovIEDgNtZy+6xnNvOCmttYTF0uDZyvc56me6Cm+Rb4Pvnnx9DM0S9ia9JFetYGBrQl+Y9/jedbLdRBpxJ4/f9bwpCG/1MJi5krzBfnk0KP23RjjkFlK9DSCceebdAg80eXA3wcxD2/ueUvztKaxrYGYFPW0n69rrELPocFvPsDw3hsMTohwCgog6/Xx/B7Hl2GTwmrqq6GoMPjCt9LtwU8Er9rxIcGyblsfxmeAwdna+quhk0I+z/+892pBTxM7BbGquS7MZKxcIH8q+Hxlycn6EpSCcsvzMTjzv+IQ6j3Dgf/ke0dDlvHTgv83q34rewX9+we/wjRu5jxB80PRy7K3ct7CGDd6ms5XVfg57MX+hqaLpxtqWMz+8t1fRr4d62c73j34pmxBmKuq2MPwZdUlXAe4GiFahZiody4f+tMVY4j6ibu4VsxgL8Znr5y/1FIp6oat7W1Xaq92dIFb3Uf7z1Wcb2lrFVGmoamx6vKllrZWUe36OG81WoBamS4wJgTM8b7qtlqUJd9p2e/H/qv1ly9XX+iiO89VVbT7PDTPeTCPslHW7jmdXf6zNRUk9gEMEAHzLW3Nl6qr6hpqadYvYL7T01F95fLVlkvNbVeaGhpddWWYw9ud25Rzg/Y69omKYWt7y6Xqqtb2lsbmhpqr1T7a29zaUnP1isfnvVxT3dDUyGPBR4PCy/N8bW3t5cuXfb7uEUvRn1hdXd3Q0ODxeHrqhgF3wQBkZKLNCNDjIdLlUvUZlKnIq7BiAV9tr0aZQcfdO1kWN3c01TbX38zqk1ArHiQweKtfO/6mPDvIJ5C2gAgbcNxUt1xt5jvhozdQuYinuxNYBiIldjo/l88Pq225Kup+Ama9vlY0C7179GOCVt2OZhgvB5ucrm2qQ9noM0evaMhCzBoBUoF4DGAE0NfFtFS2nsY8rqy/EpYW6jpLteEO8OP3KmRvJuVu/by+dzT0YK+AsWw+Qi8iNB91dFzfFlAAACAASURBVHpsZRaUjeQLQ575JAULePeJPUEpIacvlmGfMOLdMeg1Ocf7fvnBbx58+2en6y4oFuqDXwoOnywvrixCqajgUpkHxiI4AbzQWL8iIv7t0eCWJJ7J05Un0FwUlKVAmQjNQw0tlVV159FzoWvyV2PBv8O6W/6s7FzFacwxz6x9RpUuQ7ODFDNVr+99Gwt4fe5GNB81eFoxyGYYsGj0NKFMtMGxg+M6xn48XrZIFpSJVOnyoDn605fLOzGrWKS49827FdNlqiwU9BLy06wX+5bvexXNUsrnhAbPCpm88TnM4pW73kFzEZqGPsvb8u6hVaGZIXWdzehZWfCKIcopIU1trYdcB9EcGZqJgjIUaDGSLUN+jLdZ1qIMpXIpvIiy0BbXFszjxq6Lo1aaUEY4ykBomnzRztc4Hlc31aLXEcqQoXQkz0bus8VgGEJkJDibBuoBKg0ZfGDAEmRP1pUr5yqPFu1qb71ceLE4dLZ2p+MLLOCfv/UIWoKwgFu66p76ZCqagcKy5K/tmAdRfjxWpgdFvRaDJqH2liuN/pa/vvU3lKa468W77nlzOJqB/BxG2Sjm9XvQ06rLHXU+2r9o75uqOUiWhv7rvd9XXDwj8PidI2vRMpS+frpsOlK8rKxtuerHLJqmWrh1ljhotvjzRSgLhaaiX6/6z6K68xjznU1X//zhX5QpSL3yx8PfuAelIMwIu5w7UYaqpeUy+CHJsInH4yNouA7zPFoo17yujno7CmXI09alYwZXttTIF6imrHtGsQChTLTZ/SWLYQjxc9c2tAjJpqKYN6JLT5VgAW/N2RIyXYVeQC9te2FrwedoCqppvYSyEFquRbPQhaqTNZ7q/3j/V2EpyPTKyJA3jPJUxGJ++oZUNAs9+/EENFs54pWkas8VBnt5f9eyrUvRPKRKlf3pnT9dbrgI3ny26+29K4LmhQdPCX3sg7GX26rB7wWo7QMvPsRJ0gJ/03Tz75Wfv3c0xCxubW1WZalSP5uG5qJjhebZ2+f9+xsP/fH934cvDscCu6v0gCwLnbhUxmH85/cfe3jFgxjj36z45U/ejRQwXnNkDcpGF1rKS86VhcwOLassBGtV9Jrz3N2v3TPqjZ91gZcFs1yXbF5wzMqEk1Xnis+V/+S1oUlvJQvY++jH4+TZCDOc/I2IX675Dxr7V+dvQnNDP8hdXVl3bsXB5SgrvKKq7LNjW0LmB7V4mskYBwxH1DRdCs4I3pq/Hfvw01umoPnocEle3lmA8tXHPxYw1iwODpkbfLr23IuHX0FZyF1TfuL0KZSFlu5542LL+S/tX4Rkh2xz7ll9fK0qAx05sRfz7EcH1qHFyIO7jp04iOYiqjSnw9eumIX++62/1LZcKDvplC9QyZYhjPmj5n2qhfI3dr9a01gjeyEo4Y0RmMOPvvfXoBeQ65y9paVpQ/56R+kxzPt//d4f0EJUdM59uvLEHz58VJMZxPk9RELwvQf/fq9M9X+SOc+xgg8MPRKwd6nqAlqEFNkaND0IZSO0QH6oeD+N+cffnxyyUoc5XrZIrnt9iOWka69jD8pCC7ctwixGLyG0CH3p2i1w+IHlMSgLbS/a9X7e6uBsJXoB0Wyb8mUU/BLa69zB+/Hz655BGWht/rq8UvuwN2NXHXobM/jj/R+gF9D0tfPWH9ksewm9sGURhzGaK1+6eyHm8B8//CPKRp/kfna4xDb0jeg1h9f6MBv/xkjVArTVtmNrwRb0ggplA+zuKT6MZqArnTUChOZAvE67t0OWrlh1eDUreAa9+m/KparNOeuzP8uWzVbaKl2Xm2rQYqRarD1afCD29Wg0J8jL0NRpC5qDlmxbWnyubPqWFDQH1bTWf1G8G81H2VvmX25pWk2tR7NUba3Nmy1rQrJkbx9c1e7xql8ZLF8Y/mXR7g9z30FL5MqFoZjDL29fjJYp527Jfu/YJ2g+em/fe5jGv3v7t7IX0IbcjflFx4a8cc/qgrU+zLx5ZCXKRJvyN+ecs/zHJ79XLUW84OXBZ+rnWcGLBYbzQfxHfzi+dzQUBFx2sRBlI+s512/f/u0jH/w/tBStP/rpuzmrZbMQg1nLyWKUobhQc4pl2b+99beklWN4TP/hvf80LY9hvcx2+y7FXPAbOi8Vymei0otFAIVkXgiH2cFvDBq9MoloQGxVc4UyC6EXQ+XZIWhRiHJxiCFT5efYgjJKPhfN2jRblY1yT1l8mE/fOEX5cohiMeiqoHwtlh+idmzN367MlLXTLaBmkrarbbmqzAj6wryFwcxzn8xQLgz1YW8L0yKfj945+pGA/WgumrU5lWWx87RVmaEtrzm9JW970CKkfBGFZiD0AkKLZEv2Lt1s2YRmI4btFHzCWwdWKuchP+MruUhpZqtOVpWcu3oOZSqPleeArivgiZsmKl9Tswz+zLkLZaCK9qr/EfjRbyfGLI/FAoPmo3k7FoL9BY4wGNH2+72geL4cppiDUFYQel0mXyiraKwBGxkGC29ibMmtx84kNIuMU3WdrClFs9FuanuLr4Y6b1fNCz7iOsxjz7gPxg1/feTl1itoYciPX7/vv977xaNv/w0tlilTgn08i5ahZZ+/SmNc29mKskPWHF5LvMP4lc9fVc1GPOdDryjmbJ1KY9zW2qxIQx8eWM0RQ5UTwPfSib1vH30TZaP6ribMY5SJUtalChij+Yo3d67o6upCS9B7x94EjiV+Rlrw+70Nqpnow6OfiBL9zT2vyRcoWMzscx9Dc1BVw0UyqMzwmOuiPfL5wR8cW81hRrUkdPTb/92JveWXSlA6Mp+xVrZVBM9Gn5o/ZDG35vgm+VxFR3vr3M/SZMuUv1rxuz8s/7XpnWQ0Bx2nDm1yb1FlqeraOjCN11vXB2UHt/i8FxvOoTSUU+mqb+lCWWhbwVbSq3Dql9NUc8IEzGZ+kSlLl3VCYE6Xao7ylZ1v1HeBqfThsQ2g7gFbdYEKy/tlyxBajB5d9edHV/5x8Ot3ojRVUU2xOJhIDHCw8ekbjX7fQnz1vaMhi4Wdzu3y6YqrTU0b8zbJlgSh+ehMzZkDRYfUGYrahmp31Uk0C+2k9oKsfhlN/OgpAeNff/Bf961MZDHebNkszw5p8nQUnSmWz0Suy0WAVTDeCoh4x9t3/eytUZj1czxu4zg0B/3tk79xXuzrrCs4T7WyrSQYzS9fhNCLQbJXEHh3OPzu7lVontJRQQksPllTeKbpBMb8u4c+lc2XN3a1AtaQsO4rLY0oC+3J24l5PHnLNPSyHGPG4/GgWejTIxsxZv7HBFu0bZHAsEUVhYrMIKqKyisrkGcpt9j3MAKuqKsprT7NYeb9ox8pshW0D1Ta9/d8JF8sxzR2XnSjTMWZKxXNHS3yWfLnNkzFjHC544rslTC0HGHM7KC+1MxBjR0NmMWmlaOi3xzDgy4jU7wY0tjWgHmce85+tfMSxoxsATK9HXe1o4ZjacvJgvY2D0T9kMhHEsB+C3HbTSwKOFE5kIuYzLgpqzmFshTFZ0sZjC/XXVXMRwdL9mDM/P3Dv9+1anhjV2fQLJS5bdbV9qoTV6tcVYVnak75vO1ovmLlwVXgavTVotloyd7FmOdpzI//9Cm0EGEalMel21/zYt5D+9EsNHtXJriVOdzaeaWLTBRddeTV4AXB7Z0tDOdTZsnTPkvDAkbz5Mt3rfDTLJqhWrJ1LkSIYX+bv9mHu9o6/Wh2UOb2eWTKAM74dEbIPJmAvfsLdqF0ZUtHNQdzQmmYi+fzoiy0at9KjLHsDZSxKYPF/pOXzytmK6xnCys9tbLZyj22IwL2fpazFWXLPDTz4pb5aAnKu2CpamgsuXT+3NWyq56OHfZtIbNlDa2NmMefmTfJMpG3i77SWotmhRWcMTd1NilnyZbtWog5nvPTz6ydFJqlxEL7oh3ZaJ4MszDIAuB+6M0mX70yXTl/71KaBKKBT0mAWDjFq6FoOaqoOVlef6awwnr+0sk2f7MAkyKwFzz8IAkILN7Exv++svre0dCPW1/8YhlKV9NsS311s2yOQrYQYR67q0+gKcp9ZTbM46AXFShTAe6wbHT8dA4W8IhXx6CX5YyAtxZsRumo1e/JrbCh1NCiC6XiAC8M7ApY+aIRLQ5Gs1R3PBNKC3gXtUM1J0w2RybLDEJT0X7XPgBNHm/K3aFIR1ucG0CkCbiJ6wDFMD1UNS0EpavQqwiz9CdHNqmeD+7wg9ktBhFW1deppoRvtmzAmB/36WPyLCVmcLu3I2ym4t0jb2PMh6Zopq9PxwJTeJJSpcitp2wY839Y8wSaqUIzEUpDQQtknV3eV/e/j2YFeXwdPux/ffe7KBt5uQ73BRuagRwXzmLMf7B/DZqjQulyNBvUVfkSxNB4M7VN/ryypr3WL3TJXkIhL4dgFp+qPY3mylE6Uk5DoSnho995CAvYWemUp4cEzVKgLKSahd47/B4Prie+kwZX/0A9SCyV3wuT4XycgE9eOadMQUUXczGHL7ReVE5X7nHt5wX8xzV/lb+MMMs+uWlc8BzN9A1zxq55AqUia/lxzPlQtuztnctBTcO+eZ9nhmTKJ3zy11+u+BWaJ1O+oGIxFzJXkb1jARGi/AeH30UZ6JG3fjZ960zFlJAZm2ZiDq/a/Ypqpr7F34wZrMgOmrr+aRDqc5RLDy7BAnEZpyt+9+6fMzZlKKaELfwSzOelXy5C82X/tfbPv3339+gFJH8BsRjvde1HgFl13cDBYB/LoOnKD/e+izFWLwydvGUaZnFFdYVyGsp3H2uuqwlPAx2CxfjTgo91U4PrfVfLG06CebQIvbZjpSobodfDsIA3m7er0mSNHi/G3g3mTUHpqJFtu3j1gny6yn7GJmBvxuYZ8kz0xJpxD77xsCJTiearvNif/fkClB4EQUJ+XpaJlu95CdN42e6X5bNlf3r/T9M/S1NNQUu2v4J5vMu5W5Ut+/nKX72wbqE8Peylba/REBfixTzIC5qFabKEwv2AE793NMQcn3My/3P3Idzl92P/HteBgop8DvPtnS1fFB46X13OsJ5O/kpu6dHtJTsu1lZgkDdduaVHD5bt5Tn/2asnj1BHfXRXa1vH566trc2XBKED+2DaE6aFvSd37Sk/tqvk0B73bow727G3uaXuSOGR/YV761uvwMw6vgMLbFdXx07bvjZPCy8GFNA0zzZZTlEHHAeoc24yER5X1lRsKdnk83kgWpd4f7s8bZ8Vb6msP48xtp+07S3ZhzFu8bftKtxx4uIJL6Z3OXfnnHVigb/Udn6XY3tNWwsIWIEvrnQfpfblFxeA247FZRfKj1LbOIb3MfjEpfLD7sM8xzQ2Vu+27KprbwEeETxVZ6v2lh4uqXXmlR86VnyYZbxnaqo+K97d7GvBAr2/fN+BssNiZEcr3Z5z0nygcHfRuSIwhMk80+qOxoPF+w+XW0/XVoI4Bv4jgRgDeBiFTGgj03O8WPBV1FWMX/Nsec1ZzOLmpvbH148vOQeC8+UdyzN3gi/Pi/2bi7dP3zAjc0vGoaLDmMM+zpuyPmWnbRt4+zkw+ja7d85em7rq6DtvHnrz2XXPYuydsSF9U/5mGLjm/H4W5xcdm/15VvrmrI3m7e3+dgwCeNfYT59jOiBydvyGZ9bkvSvw9Lh1kzYeX0fCa9gc9/GsL7Jnr52xOn8DjB4zoM9ut+2fvmn6O8dXrji0atK6KZjGOaeoCev/VtvWKJD5CQLmu9iu5z6astey+39CKLO3Zb53fANmuAv15yetftpV4ezytT2+4e955S4Yhyw7+MSnj7a0NfOc/3LN6aV7Xn1u3cyVu9ZcbazBmDlcenTsuqfbvB08hw84Doz75ElvZ9OFhoq/rR935iKML3tYertzW8rGGe8fe2fl3jcf3zAZ83ht7uq/f/JXjFmPQE9cP35d/iZgJQHnuHPn7EjP2DRzq21bm9AMPiUWO85YZ2/JStuYue74+lauUYBZCyS2Bya7kAUn+gkf/h+gIfYJXggnhg7qAzEsOrMgoo7hcBMBI0acT0qEdBuJJiCxxxCO5Sfz9IgqwPMCpiELMvkcAhUFmChKQwApzRBnIolaZDHX7oXPwNAWNISXhFR5RdyDEAUaQv4ZTiCTrLg2CONifByZRwzKJJlAigUGYIXE49Aw86RLjHOECEEywx5UBvGjPMS+AIhCrAIDo3ugnrEwiRrA3Q8SFnRaP5npjCGcm9jjGHeS+2RZAZGDYPgDuMmDfTSspANoCeFExKHFgosdONCP20EegIbM+znilSGTUiGUHSYWshhDsFv/8F1/O6UBolTFSHmWYUWTmZhwXBex74Da4INjab/f3x0uLQDhOqBXw9RPGriDB+YU3avX6A9k52EJBoid5rEPgqfaOFg/hjiUeWhFGmbZQ+A3h1loTS+mcZcf5pMwPPb5SUovTCogzjWoYCe4z2DyJy3gLhCTsL4O5gV/O273AR/5yaJMGJgEygahE17s9wk+DvN+3gtB3xy0qw9ACYYNCSd4QXKT2VAkooFcA3uDVO7CbSRslfXjTsJIfo73QaWurRcAXEx8r1BNgGoyYQwzYFEQToa+A6vyAEsJvJ8XsF9cBILBvJ8TYI443QEFBm7nuC4gJJACZj7AiyT6GyLVJTTsZnJQk0k0HoAY+QEaE9AY/NGkPaDTwty9a8uBEAgiQwDE6YA7AQFJ2AHNczCLnQdcEsRlkMTWFaPARJUcugbM3xMd1UQcA0sBD9GEFcCrwcDQNLS/iDjAU3DVXR6ARDh46ASYJRNdSQFg7THxAUdWL4HwMkBF6DMCDG3ARDsyoEYQD1agAN6CCQZkSqqAO3BHYGYeqHYQfcCLVRcNefJpApeCB1SYbmYiXZFl4RukH/Ashv5EKgZdiCyKASvXkAnXIvFh1HWAHiJVfIAvAD5ezPjZDuA0lvUQ9wgWYEUZsvwVmd4kYIHxiZoXaRMvhlVnQFyRacUwIsCD2KEBHIVOmAQNDEYWYYOPgfYIvZucAISEW+B1HnuB34B9OHFaHQ9oRQAFisBwvi7MwjR8mE3i6Z5uACu8iU3pI0B5TUCSvoJFjxtZXw6m7gmsv9v7RtgVhC2R56wXdDsQ1QDHsGiOGIrLiT0MQ6lENibFpsmSPjTdSvAXig5foDHLQxA7wL24ghSENYLcJYQUE/gx54foTliASYRfMseW1Bd4HmCe6YI3PGQhIWBqP6wu4SVKDynGLc+K379ueLNI0C1eeMwTVoRJwQxHJnleY1GRUfvZX5rEYwLAAf7C6BAs0kMmL98sykn5fAsKdPKgREIwIzkJUvAgRsXf/favODeZpgE3gd94liMq3Lcg0cB7pd+gIcyIAgQEYQT2qwiO/RoISeEZTMOSKNDliLUNMbTiYiYDj9n6U41Af4fgBTCrBTBIwDqB2IX+z3LgdRJRXnRgiTXqT43zfZW136AhrGkkwBxiFrRyMtO9e11YYrOIlku//As6obhGQzeTStz5fXF7X/KF2e7irHPwAoseSuIFYXhQGfvrSRyPoj0P1CBLJXWvI9oX6gzMtP0GDbulGccy4MeAVTRh7FRcoahfNw1UA5xK0PvIyg7XBHe/rlW/LzyxPRgybEUiEUBmgec3sFBQP71geBjYAZ9fQDHELM97+n2D3YwK9Bs0hBFSElHsp1lXyamS8spzZy+dLTtbVnauX59FZf+fvfeAj6Lc/ofPzOxu6rYkqEhJIz3Z3pKA3nttV6WX9GzNbiqh6LWXaxcrigIqdriWe/WK2EBayvZNA+lVSkILPWXrvO8zA/vjr5AL3ijmug/PZ5nMPPPMzJkz3+ec85zznF0bt22hc78gA7qXWkLxnJF0MN5wqI9fRAHaFNPnRyuhu3t631r42ZKPPnvno2/e+eDzIV0XLVv25tIvPv33Cjp2E00O0Wsk/yIq/Y+dNGTQsJ9yi/EHyO7D/TiMg7DxWNg0BkzCYPKQrkDcOL38AeRygfx2fH7yDEmeohO//I+x2hB7HDTB3EsiPxvy1HE3ATcRiTPgunIYUTKkK3ZdGURNv2n836jVLtCkMh2MOMTezq9zu0MGDcn+gN/nIT2+00cOMSPHM4R6kBnCpHpCYRjSlZ2lK6p+GGlhyAcOKWMIGSkvnl/njYd6vTwKUFZpjwclljtzsg/gFqbcAOJqUBiHdGVIKpgp+r+WPoh8A3305BAyt4fKb5IXZZDIHKBSoflI8mT3ASCmgLwalCZQ6EFROaQrnqUrmf0UMoBS85XnXKaHhnvWIL3a32U3aKkq9Eo8/aT31LGTDMZEQqUHhQ5TGoZ0BWUZlm24Q/d3BIRUGkgfctQP4SHiwqEjG6K7Rc7YJ46fBWICptBjCj3IDSAvB7GWpajA8g2gKIGxGlBWEMpKlqwKwaVUh5hYqSWkFRGSGsidA2ItyKpwZTXIygg0zhtAYSTkVQzJTFCWEQodKLSg1IFcD/KZTFUl5FWAyggSLaE0EaoakOtAXsYS1VD7NaAog1wd5FcQUh2o6pkyPeRriXFGkOsYqkpQqEFcxsirAqkB5BWgqoBx1aAyMhTVhKQKV1SB3ITnaMurH6XTClLWwnOBLr9LiPhD3RQVx0GZD0+fPo3j40FRgSuMIDPgYiOmqAGpHiQmkBgYuUZQVeGqCuZYdBRVRQVixVw1IakCsQbkWiROyrSYQo+rEE9Cjh51lUtXE4irGdJKhsRAyDSgMuHyClBWgqgW8ktwmRHyK5n5lZBnRFgs1oCyGqRFEfIyyK9EF8ozUCytIcQGxH5SHUNai4+rBHE56kdMMXNuBUNRCbIKyK/AFFoQ6e4se4DyFUI/VCTJH+rNXvJhhzwaYnmVmLyCUBhxhYmRV4UrDYTEBFlVoDDh+SZCWQkSIyi1MFYH0mLGjTpCVQ/KIlAZUFUYQYw2sLEVoCyjAK4SVBrI1bJyqyhZwICryig+q4K8GqbcGKXSM2U1oCwPk5SDvBbG1oFSFyU1QU5VGN2hRI++k7EUo4sMDGk1SHSg0IcpjRTX6kFWBuPUoCpGGwpjCA0vyZtX+cDF0ZBQaSHfCJISPFcPcjVDrkVgN7YIJJW4SIdL9Iy8asRvqnLGuCoEfCo1AkGlDrthJqjm4HItS1WOBmBVBSjqiDwdKDSgLEWQl6sFeS1ToUbcmKfDpWoYW4tJZ4NMC6o6EBRFySsRz6h0oDThChMuq8TzTaCqxJUGUJSCQhOOuFEN0hJMUYfayPVMuRHLmwUiPTPPhEZ6uT6EhgOw1ZBHQ5AbsNwqxBNjK5AKgwZtAyD+UINUjUvV4flVaAhFsp6OJTdQYpoOV5nwXD2hqidyq0BmglwkUYIKiZmgrAGRjiXQE6oSPL8Kl2jDFZUgrQBFMeSVs+TViIPzaiJlFZgYSZ3M3FokGCrqQKKB3GIQVjCUJpasipBUMXKNuMrEUNQSUiQvYDINQ6XFlAaEj3IT2qPQhtBwAO68qocujoaYfBayz4zTobEzt4KZX82UVkB+DYzV4bJZTJUBiWAyA0NZx5BWgrQG5JWgnAmyKiQtyjWQPweUFQxVDeTpQaSDbCMm06E2ihLIM+HyGoasDKk7olmsPB2uNDBlWkyOLgT5BiTrKYwshIN3gaoa3YaqEgmYCPtqEM8rDXDDLJBVAuLtEpbMyJTV4AojrjQwVEhBwVUh2XAgnhryaEjptmVEbhVLbIIkNSTrIaOEkGlwWTWeV41wUFkJqlqQ6sOVRqSeSKtBZoQ8DYhrQKUG6UzIozQOlTEc7Z/JVFYREi2oanFFOZFbCZypSGwcVwmSWqQXC/QwRk9kVSPOk6kZWXoYWQASA5IxJWqm3Ig+BrmOAtkKUGpAoaakADViaFUlrqhiKCoJpQlTGjGlkcitCqHhQOx5NY9dHA0hTwtyPVNaDwo9K0NDwDSAKQAzIEOHy/UgmUXkFYNUHymvC5fWgLQKcstxFdJdGDIjIdMwc9W4UodGX1UdAjuVkVBWI+FOVkmZwiv4shqAO0Gpi5BpkHYsrobYaQCTIbyQIdKBsiRCYITwIqZYDzdUEKoaZC+SGrHcMkKpIRQGUBZRQquOJa1B7DeuHFRaEOtAZsLyjKDShmTDAXhqyKMhUihkFURW9Xj9My+/ueTVdxc/9sI7ALeCVAvKKlyux8WlIDSg8VNhjJBXQH4lITGFKSqQrqooYeXPYeZrQGrE5fWgKEWcpCjHVWqkj8g1rPgiW6MLkqcjDM0pIvCpurrH33r/s3ueXgiMcuAUG+56YcWX6+FaDSapA1UNqEogrwKXV+CqSsg3EnkGpATlqUGpZUl0EbmVhMKAy7VhKi2uUIOkFBSGEBoOwJ1X9dAl0FBZwc6tAokhLLNi7j0LnG3tG9p3O6ztU01zIFMNufWYWM+Q6YmxlQiJxpWj8RgNhBWg1IOyijIsFhJoAlCHTMmyAsYNBoZcy5KZWLkVyCLJ1B492gfJpSDQE6OnxfylZvmX1i0dm5rMHQ8/sAjgr3V/f2z31u04TARJOeTqIuVVIC8lco0gNiITNhqAjQy5GvJrkI0SyY86uKECqUpyAwirQmg4AFMNeTRkqoy4zEiMKVy09LODB/Z98P6K1o6tp06cBmI6foMeS9GwoByIQiy6lIgqg4xSYE6AqDJGtpYp1mO8GVwoB5gEojKQaiBZzYgoxRhTAIrZ8RpkAoc73T4Swv6C5ZSMuKHiaO/B/Xt2vvHRFw1OV4A888z89x985vX9u7cD3IRJKxjRhUy8FCIKASuAbA1I9AxCC1DCElZCqhFjqiFiKhre87RIS5JRSr2yJoSGA3DnVT10cTTEZAaQmzBFFT5a8947n7Tt2RSXV/3Ygvd7ST9LaCSyK4A1DYPJBFGKY1Mw5njG8JJwRikwpkJKCVNQB8xJTOxOgCJILMNz9eEjNFH4FGAVAmMyEFPR5Btx+8l+DxNugeRy493PB0jvZ1+s/HPRfc88+e6Js55Vjeb6ux/v/JEEfCokVzJgPLCmqPfC0AAAIABJREFUhcNEJkyH5CIQaHCYSsC0yIRaSCgCGA8wPixbh6YW80wIaqWmEBoOwFRDHg2RoVpaB6MKlnz0mcWyASAP8LTTPZ6bCh7DWDe88OK7u/d0bNu6d9nn61Y0Wh96dL7TsXPb7n2PPvMaAy9Y3WDesX1vy4ZN426dSQybMX/Bm9+sWmPb1Lpld+ejL30IjCnfrbIG/OSurbsBn3Ss8+zHny1nws2R11cCTFabHn7s2cWPPPX+rh27gZgUKdI0Na/bvf/w+oZNlmZr9X2LkpVlWze2b9m8Y5LmMe3Mh7dt27LKtml4vhokesivh7xqkOlxSchuOABzXt1DF0dDZPOVFYOqJCJR896ij82OFoCbCZCTvYFbCuYCdofDuuHosZP7Orv27v7xwMEjTz33dl/v6WOnDzz9xqe5d1Ts7+w+fujs8ZO+BW//AyfGLnr/s90n9hzsPrn/6PFGl5MFk1atcZHkmb0/HsRTtaf6eu579FUmPgnZYeKLiTSjZNL99zw+v6vrMIbdXmB6+ODx7r1dezsP+44d737ujXcKjY8f6e7tdvc98cLbry5e2nus5+Shvr9qHkFSpETHUFZQ89qhOeVL8tXQR0O5DlPU4PGl736wfMf2rW+++/U6i6v35FlgjH/zvX8dP9N3R9njt5bed+LM6f379j63eFkgcLaw4hlgTN+69YDTvhmwGY/Mf/NsXwBjli399DvS7Z/17It/mnqPl3SHK42M68o9pAeur5yuvcdLkoDfBlkmNPeXp8UFGuCVPfj84n07OwG7uevIieXfr4acqiXvrPj/PbkeffqF79Z1fLWm8akXllTf9cLOI0fv/tu89//ZPHbG3QxhMahM2LhZINaFSTQh2fCSvHmVD1wCDaWVyFFBUQ8ZM+a9+cHZk6faW7Z2dXX9sLENsNtWN7Zu37YF4CaAW9tcm3482Pnk8x+fJY8x4A4cck/0nHl94acYYxjALe4+8uaSxxa+8bHPS/JyjMAS9Z7xFFc/wWApAx4vwO2TZzxKkn6IuJly9taj2RK5Bk8tueu+1/cfPgxwY8Djvv+xxRAp//P4B0iSfPb5JSu+X7tmvRkip6ffWLuvs+v+eW/cWPjg6HG1TKEGy6sEuQ7LM4ZkwwHYauijYb4RpEV4gnbR+6t3H9i3eMnHzy36GLIMLOymQ8ePVd/3Mja8OHxE+T2Pzt/V1fnC28u2bWsD7GbIrCBJ/1qLzdG8wdZs7usjn1n86Qf//NLVcRCgkCAm7Ny754knF+P4eE+/G+AOTd2jp5HKnBehLKW8DrWgKsBT9Q8/88H2fVvKK/9+7FQfsP4CIkM0dsv2rfufnLfknkfn+8m+RQuXEPCXFV9Zzp4ljbOfBv54xI5yA64wEbI6yC0NoeEA3HlVD10cDcNy1YRCh4lMkDTtlbc/c/2wZ9jYSs4NdQysiIFPOHrw1Kx7n4NUPQi0kzWPHDp8/Nn5H+7+cTtAEev6QtLn27x56/a9m/dsOdDVefStdz9+54PPWjp2MbGJTJi6adOu+Qs+AOzOE54AXDvtL5PvRXn4iL+gqT8UYmBiisohdvLsh188uOfolOq7Tp3sxeFPuNAE+Pj2th/eWLhcfMt9p06f3bSjC+NN+9sjz/T6PN990wSsSciVIm86JkXGyhAaDsBUQx8NpaWQW0EM17/78XKnYwMTbo9OL2FKjQRxZ2d3zwNPvQ+ROian/N5HX9u/79CbCz9zbdyGYYUgVvv9pGzy34r1T9xceG/1/fO5gpIPP//KbG7BiBKAiTu2bX963hJgTvV4+sOJGVhcsdvvm33PS4DNwIS1WJYRUkpH/6Xi4efe3rl3/4yy+870nwXIjcgqAhi3+/DB55//EJi3y26r2nv69L+++hawDNO9r/SSgaq7noKEcsjXMlRzCVkZoawMoeEA3HlVD10cDZH7fX45KKtZw0vnv/2hY8MmgNtBokbOBswJW3ft/Wz5KoAJwLxp3uJ/Hu3qeeaVtzZv3kowChmMMqResMvQlDFLuvjt5Tihffcf37Rs3ghQCHDbxs1dz726jAG3+D0kY2QZYJM6Txxb/l0jwC0QV4gzSm/V3vvkC+/PeWj+4T17o4WVHj+JYxPwyKkA4451d7303tIIuAUi0+xtbU7HhnBcAiA/foKc/9ZySC5DUQbK2YSiNoSGAzDVkEdDBnIgKMDiS9/79F+Wxg6AAqashhDrIaH05df/2esN1Na/PHPus/39vQe371vwzldbtx8GmESwCtu3bba2b8q6eeb7H63oIT0QPvnTL9fZOtoRs8LEPfsOP/XMEsCnkwESeVHEFzwzb3G/l/zXm1/9aVL93x57+XT3qW/Xtt//yKudB3sAEx44fKzRtUk2rfLfXzb0+nseeuatpV+uu/ehlx32LV+vblyxxnJ72cMnTrjnPb80PN2IfHpkRhBWE7khNByAOa/uoUuhoR5uMIGikjFK++b7/2zt2ArEVFxWCdJyEFaO199/so/8utH51fcrSJ/7wMHD8xd9snXfAWDeTlw79aNPlx/rOfvu559s2r53/8lOgEnvf7SidWs7MMqAMWHTzgPPv/Y2wFiS9DKvUTNz1Nk3zz51+tjmXV0ffLx0ZZOL7PUsfO/TuQ8t2nX0KMa8+duV5uOnepd+uWLHnr2egP/v899bu35Lg619f2fPB/9YvmVH5+ffNJ3yuGvuf4mZVYOcW/OrQV4eQsMBuGrIoyEuq0TBIZnGufNefuWtpZBcjjxdpVXIVZAx7e5nFtq2dTS0tb38xrJPP/1G/8hz73z0ReQILUuuAWbB0m+Xt2/cvt62UfTnmXBt6SPz3nr9w3+EJZZgI4qW/XulofpRLK5gvbODlVYOkmoYXXpz6QOrm1d2tG9yOH74+7NvAz7NWDfvoy+/Y15fyriu/F9fr931w4lvVzUs/8paOmde3cMvb2vbuq7ZCuG3v7nk49ZNO/7x2dfAuhM56+ZVIA9bFL8VmkUZgDmv7qGLoyHyDZRWEaoaXFQxoez+6vtehmwDSzUTV5kiBXospyRKoZ23+LN5i97LnVJ7/2MLby56cOajC/DsMkJSBnjBDOPTC99a/uSTSwC/k0jVztA+UjvnYSyrnJ1Ve8+Dr9ysrYcx6ide+pQhLgVVFUNSAditc596/uUl/37h1Q+YOWqInXTDtNmPPv0GCDSATaqtf/iFNz/62wPztQ8+/Wf1I7igdP6iTx568mVgTBtXUPfSe59X3P0kM76MpagEeQnyTKQc/kOReZdirCGPhiA1MqUVKEIgxUQklmMyDciLUaSHrDxcgrgT8BKkuYxWw/UFkDWDea0OU6iJcbUg0ITH6oFVQEQVMLI1INMzMyqJpFKGpCJMXgmjpodnUl7Z3Im4BMVgEcpqZlolRE9jMWcATIU0DSYzEIJSGFXGkJYjd5yYiRhMZ8QUw/DpkFMG2aU4NgkiS8JkaiypCFjT4boiyKacY2Va5NCTa4Dc0CzKpTjzqu+/OBpGICe+SoaimpVrYohLicxpaGCTV2BKI55Xi+XWQE4VjCpmJZeGCaohq4yVY8KySpGbYa4aWQAlhcSoovBUEyE34dIyRlYFM6cGBVMp9SAsZ2YbEeumTwVpNS6rBmUFLqpjJBogyQRpJQypDvJrkMkyQ4N0C5mOkVMKCaWQXgLppRFCNStLy0oxslI1IDJCdikrpSwyszxcUo8p1HiuFkUEiEMeNgPx1ZBHQ2R6U1ajeI/cSpBUIL9W5NpqiBDrmdI5kK8FcREaY5UmllwTpqxCbqj5GhTrPlaH/KXzdEjXpqvcgCmqkKO1SINCTeVqkOvR+g7CCsgzocAAFRWDrDBGKowscRW6Igoz0IVJ9SAuozpBwy8VH2piqKooj260ABQmr2TK1JCHQqHRZyDSMxR34eNKQRxatWEg7ryqxy6Ohigc/gYU6ImrTNgNtSCvRKOdSoN8+hQ6tJKC3ACi0nCVlo4+wqQVKO5YXoSCl+RqpBaIi2GsARQa5JwvUyOmUuhRY6UOra2g0oC0lCk3cZS1oFQzlAWYooqQacJyawAtyqBH4X1yE4qMkmggv5YlM4GyHJkFVVVhchPiSakO9axSozlohQmFVCkMlDpijFSGZlEG4qkhj4bIqp1XDooZaPmGGxADobFapkUOVopKPK8WgVRuPSgrmHl6yKsjZBo0jCN9pxRE1ZhMh0bsPBNIypkyLWJHpQnxtETDkutQiKiqMhJN6pmYKiMKL5GYQIV8ekBiQAEAsmKWqjxCMQcN/kojFYBcjavKQFAGqgKQ1aLQK1k9FZ1qhBsQeoJUT8jqMVktrqgKy60PzaIMxJ5X89jF0RBBkkyNFm5QVVDrcVSiqLtcCumUxcgPRllLxYNWIc8YFRWWJ6qGcRWQXxIjrSYUs9AM7416Ymx1uBiN35CrQcYTmQnGVRACxEVcZRXk6pjSGQyZERRqOqYeyy0JV5lQM0UJJqqIlGrCVVWIddHCDbWQi4LxEbtKKWDNK4bcWYw8SjKQlZ9biim3KkwaiswbiKWGPhqKNaDQY3mzwqU1uMIEuXpMpEZR8UoD5JWAqArBpcSARmCZlqGiwpXkFeGSOoa0FjG0ohJTmkCsRWFMedRqSxINWowrrxpuqEEIm0vPx1WAFC1LgxaqkWjQsk6qMhBTEdCqmdhYE6jKsbxKFBuv0lJX1GFKE1NZxlIVo/UgZCVM8WyGCp1IhdmX4bJiQlkGilCc8kDceVWPXRwNUTCyWEfrAbjCSEjUCB/zqkBUj0LiJAaGVIMC23ONDEUlCg2WVICiBlMaQaYBsRryZiNjTp4Jk2nwsWixOLTejFyH52oZimqQl0FuGRL9VLPQaD3WBLk6hnwWqCpwZS21pIgBSaDjKpgKHWLp3DqmQgOKarRkTp4WcqtRjJNYjwJmxhkwgRGTViD2k6gxeSValEQSkg0H4qkhg4YBKnW2jyRPHNsPzGlIpc1Hi8qhYM9BqbmUjpNXBSoTUnZUJiTrIUHAAErTuWVy0DIQRiq8lFqvcFCum15SPOtJtIyeF6VF7Sep9PChta8HYtrf5lg/Shbq7QuQ5PETp3BGMVofRIVseVdWpfogz2C5VcxxdYh/KGPOlfWjMqL2Mh3yo841oTU3pWj9iCvrREmJoiLDHeUPo8U0qcSo59Jf/TZE/X1fZcigIQILv5v0+fpPdmOsv6I1PBRGlkRDKHSDUkGuIVRoHTrKLoO2CZWemVcBUjUm07ByK0BUCpJyhlLPUOoH5Yp0J5xsdXHNI4hJUAZfv5t0e+ms0b9vvvnfvzsPGp/Ifp/PT5481QOMm5jSQlyuJRTGK6pMlRHZWKRaFBgnQiY8ZMUTqzGZ4aL1Up2DVI8UXqmeoTShDZGGlVuFUyt7XuqUi+5nScujMkonlN/rJX0ebw8ahqm8qP/7L/QynnDIoGE/6e0nPT4/efjgGYBcIG4FYhIB43FsyqBUAp/KIKbh2BQ0AQ0TASZER5Uiz0R8Kgq/h8locQeYSF8LYNKgXJS6XN6Ukvu9VEZUKl8PyhIVCJy9jHcXavIrUqAfpe0m+wOnvWTvqZNHCUgF1p8pHriJCry7gl8GYzzAXwFuw7DbcfwOavuvKCDqZxXDb7lU5zhxK2oPN9FnoZb06SgK8EoqfjuEjU+UqE/SOeb70YryKCtAqAyhTABuegzze/vd3h17O/ce6O482H1oX+e+/YcGpe7df2h/59H9nUf37j/Uefj4voNHvljx3Y8HDh84eGTP3oM/7uvaf+Dwvv2H9h843HWou7Pr2KBcdN/+QwcOndl3qJPOIBrwkQE/9ZyhDKJX++P0kR4fytbld/sDPp/H6z3j85Nev4+Wpa7k1xsgUfWTHl/A3ec+6yc91B4kk11R9SNTyrlT/GTAF/AH/7z8DXfAQ0u9XtLrDvTTySdIsv9q0/t3cf0hIxuiNHIUUvhIshfldfQH0N+Dlt0mEAh4kYSG0oeTJOl2uwsKCpxOJ/2WfLQ1j/r1+wd1IKU+NncAfXvnoJD0+7x9vwvu+CPfhJdKnUTBDEqySZ5BCiVlbKMYEaV8vbxK+lEecETKjRs3Pfnk0xSPkYGAj66X14nf5/OQpP+9997p6joYCPh8Po/P53GjbM+XeRvnmvnJPtLvoU4KBJBlxu/1e0JoSHP6kEFDNFAH/F6/z0tDIG3sQLMN9I7/9tft6aG7CpAer6/vpZefq62rrDBqu48fJkmvP+D2+ftJ0uvz93t9fYN1UdRPgPT5fF6/hwJ3NPT7vT4al//IWPQ7eHYPEtURYiBZzk2eIT0oweuVFnpw9fl8brfbQJWGhgafzxcIUJLeZXfn9fp37dqjVmufffY5arxGZ/qQqHqFBYkUfoTrKFOtFwkBvlDC2nM0HDJoSAY8aCwl/X4/JcHR8hmNiVc2Ol58NKVH7/5+TyBArlz5fUWFaebMWfX1s++7536v23eBfvJ/usoVjsoXvy4SeWk9B3XnRQnmB1f2vMKPJdQ8SAFqWgsNWD7Khkj2Um8w4CGvrPp8XnfA7335pRdm1dfdNXd2UeGMgwf2XbwTNDpevP++3tMGvXrO7LqqSsMX//4nakbLAZdof6l+kPwQ8CBhNUD6SI+X5j6UyjtUhlAGUX9wJPQE+ugc7H6vBxk+Brc6nC1l5Zq77r5n9py77v7bvfWz5rz40nwq1zFiHPpa9J+Dct1+0v1/6hf63ChpZPAsACEe/2UU8KKRCemzpM/vJfv6SB/KxU5eMb/RrPLpPz+rMFbedfc9c+/62+w5d1UYK70+Egll/p/WSzHV4088U11TP/eue+tn3aXTm1wtHUFuvNQpF91PgXt/HxnoQfKE/1yC+UDIpQuxydCRDX8ZU1/iLFp/oa2EXq/Xf744nc7y8vJZs2bNmTNn1qxZc6lSXV09b948t9sdlNo8yBIdKiEK/B8Fghz1f7vOb33xxRcGg6G+vv7uu++eTZX6+vq5c+cePnyY0nYpcS2o/Z4/K/h/IBBYsGCByWSaM2cOffrcuXNLS0s3bNjwc4vKALcR7DC0cSkK/BHR0O/3U4ab/7O5BCi79FdffVVcXFxTU6PVamtqaubOnTtr1iwdVYxG43333XfkyJHgNMulCBra/4elQBCbaAaj6fDee+8ZDIbKysqqqqra2tq6urra2lqj0Thz5ky9Xr979256go7mK5ot/X5/0Nro8/leffXVysrK2tra+vr6WbNm0b+zZs3SaDRmszlIbZ8P2ViCvQX3hzYunwJ/ODT8+eDpdru7urrmzJkzZcqUp59++uuvvz5x4sTrr78+c+bMuXPnnjx50m63L168uKqqKj8//7vvvgtQ5fJJHGr5x6FAf/85VxW/379///6ZM2cWFhZWVVUtXbq0qanJYDBUVVV9880333///WOPPVZaWnrbbbd9/vnnQZ0jSCiPx+Pz+fbu3VtfX69Wq0tLS1988cWnn366jirLli2rrq7W6/UFBQVvvfVWb28vfaLH4wkxZ5CGv2DjD4eGwQE8SKwjR464XK4DBw643e4gVi5cuLCqqqq+vp5uRmvSp06d2kSV4LmhjRAFLkoBm8324YcfWq3WgwcP0hLfkSNH9Hp9RUVFa2sr8oTwent6en744YfVq1d/+eWXx44du7Cf3t7ezz777J577vnkk09cLtfJkydJkvzkk0+qq6s1Gg3dcu/evU1NTUuWLHnggQfa29uDkBoy41xIySva/uOiIQ1wPqoESRZEw1dffXXmzJn19fX0YEuzmteLPBKCjUMbIQoEKRAIBH6iqAbt0TTPdHZ2ajQao9HY0dFBn3Uha/n9/iCKeb3e/v5+t9sdZE66qw8++KCurk6r1QZHdOSbRfEkLRUGzTghfTn4Xq5o4w+HhjRr0mxEUyo4qNImbVpCfO2112pra+fOnRu0c1/IwSFuuyIm+yM0phEqiFNovva8eRo5hXm93d3dWq1Wp9Nt2LCBPhrkKBr1LspUF46+y5Ytq6mpUavVwQm94NEgkl7Y8x+B7IP7jH9QNAwy4k82gn8uWLDAaDTOnj07aIihQfPC8Xxw30SotyFNAVp8G+ARDh06pNPp9Hp9S0sL3cxLFXo7CIVBgKO1afoozXvLli0zmUwGg4Fu83P8pRtf2AO9J/R7mRT4w6FhUJugR9ELBUNaDKT5ctGiRbRPA90gyKzBjcukb6jZH4oCtL58IZDRDOPz+bq6usrLyysqKjZu3HghTS4U64IzyxeKeEEWpWVDvV5P9xmUQ4NBpcHrhrj0Qgpf/vYfEQ3/I3VoD6/a2toLZcP/eFaowe+ZAkEbHH2T5x1MkS/LRYUpun3Q2eU/PhrdT/A32J7eQ5Jkd3c37a0VtBsG21zOht/vp6eStVqt230udiQIlJfTw4VtgvcZ3PiJ5ZFuTB+lYfdCKv3i6154D7/D7RAaXuSlhNDwIkQZ4ruCHzC9QcNcEAsu/NQv/0Hp02lgDXb189Ppax09evSisuHP219qz4cffmgymTQaDX23P5m0+clZwQf8yf5L/Um3p3/pNsGnoz0ZabGXvvQvI9elLv372R9Cw4u8ixAaXoQoQ3zXTz5g2t/+8p+JxoIgxPyktwH6CaLw0aNHdTqdwWDo6OgIKrkDnPjzQ0uXLq2pqamsrAxefQCNmMZKWsKlDZRer9fj8fT29vb09Jw5c+bkyZPHjh07fPhwV1dXZ2fnvn37Ojs79+/fv5sqO3bs2EKV1tbW4CMEB5Kf39v/xp4QGl7kPYbQ8CJEGeK7gp80bR3u7u4+QpVDVOns7Dxw4MCPP/64Z8+eXbt27dy5c9u2bVu3bt28efPGjRs7OjpaW1tdLpfT6bRarRaqmM3m5ubmJqo0NjauXbt2zZo1q1at+vbbb1esWPHFF198/vnn//rXvz766KNPPvlk6dKlr732Gu1KvXnz5l9GS9puOGvWrIVUmU+VZ5999umnn37iiSceffTRBx988J577rnrrrvmzp1bX18/c+ZMGj0NBoNWq1Wr1WVlZaVUKSsrKy8vV1NFc77oqaLT6SqoYqDKhAkTenp6fuJZ8cvu//d/VggNL/KOQmh4EaL8r+yihaaXXnqpoKBAo9HMoErB+VL4s1JUVFRcXFxCldLS0uBGaWlpGVXK/99CQ0zwV6/Xl5eX00BTVVVVUlLS1tb2C2gZCATef/99nU5XWVmp1+uNRqNOp6upqaExq6KiwkgVk8lUeYlSRRXT+UK3onfSv5WVlUaj0WAw6PV6k8lUV1dXX19fVlZGoyE9sRM4X37BI/z+Twmh4UXeUQgNL0KUob/rQvFw4cKF1dXVd99992qqfP/996tWrVq5cuV33333LVW+P19WXVBWrlxJt1+9enXwFPqsC1qtOn8q+n/VKvTnN9988913361evXrlypWdnZ2/jJZ2u33VqlWrV6/+9ttvv/nmm7Vr19J90jdDX4t+ipUrV154Pz/fDt5h8HEaGhoaGxstFovD4Whvb29tbV26dGl1dbVarQ6q20EN/Zfd/+//rBAaXuQdhdDwIkT5n9hFu7MEAgEaDR966KHLfKzzItG5/39+1oUNLjxK77/Qr+tC75kLW/7Hba/XSwf5XWguDF73J6cPvP8njS/8MzhmmM3mqqqq8vLyM2fOBBv4/f7gjHZw5//MRggNL/IqQ2h4EaIM8V3B5WHo56Dj0O+///4gWv2y57sU6NC9XThXE3QSvBDLruiiwVulZbSfT8UEowN/fongfQY3fn7pC8/y+Xzr1q3T6/Uajaa/v58WD4OnBBEzuOd/Y2PooCFamN2PkoegJVe91JZn0LKioEXVqbW1qWwVJOlfvOj12pqqu+bOvtLXjO4S5cHwBtAyrn0Bst9HelCKjQDKZNDv8/pQ9hOquNHasfQqoigNCrU4J3oiOgPMlV441P4yKBD8jBctWlRTU3Pfffddxkl/0Cbr16+vqqpSq9VBu2FIU/69sAIa20kPWn4YQQjKmEP6aB/UwcgDgNacppbkD5Bet4f0Bxa+9npdTe3s+lnU6u9XcgkK1NA90ksPn8+B1x9AKaboJYbppf97yQDpdqMsK1Qbf4DsJf19KBWH7/yj/V6I/z9zHyE0vPxXGULDy6fVb94SAUw/SeW3IQMoTxOdUPFnS6n/fHH1y9pDWXbOQaKPJBcsWmyqq6uZPftK+z+HgyjHCTqVzuUSoLJPoN5RhhV0DGWbQoDu95DuXvRcXtJNZ2QLUGnmQ2tr/yoMFkLDyydrCA0vn1a/eUuUO8mDAAXJVKdQ4hBK1rpo8odfthMlzPUFqARp5Ktvvamtrqq+a+6VdkVlm/T3ke5+ss+LErh4UIoylHStx0cl0qVTQSHQpNIPUeKil+w/TXr7qfRXqFGo/EoUCKHh5RM2hIaXT6vfumUf6acsbt7Tp7obIawJkpvxkRYY6YDMQalOSHNCWguR5cAzHESmFdKcYTk2xhV3boUxTZDSAKnNkG6HLAdkWzBBI1PYBtkOyGyCtAYYY4aUJkgzQ8aXkPoITK3Qzuohe8nePj8ZQAIiDfS/NYH/ENcLoeHlv+YQGl4+rX7rlp5zaeS8fUdOrcfxNkxsY6TbGJlWImtQqg1PtRNpZizFzsywMtPtYZnW8ExHVM6Vdm7B0x2Q2QrCVhA5MKGNkW1jpjgZiS483YYnN4aN2YhnfxaZe1f0TdePngijCpn47QVlD1GKMTXTQvr70brIgzg/9Fu/qd/z9UJoePlvJ4SGl0+r376ln55t6DnWvZ6BO8OEZrbQHC2wcYWDUq2cHHN0VnNUpoMvsnEFNq7Aws628664cxdH1sKVtvAlzhixPUZg42XborKs4RntHOkncWNnDfsrN30yMaoA4suYo0ohcQZwZui0j/vJQE/A3eMn+0i/+5xC/dtT+H//iiE0vPx3HELDy6fVb93Sj1xRECD2nji8loA2ntjMlyHY4mUOSnXGSWxcgYMvsvOEVk6Ogy9y8UVOnvAtO56wAAAgAElEQVRKO3dFSxvjhOuvT7fHpXREZzZEyd6I+/O98bdDwmQYMx0yiyMTyiCpDOKLILEQxhSFRY/XGh8MkB4060LPmHvoKezfmsJ/hOuF0PDy33IIDS+fVr91S8oFBk2i9HQfaQYcARZXYOVlu2LllmuynFEiF0/aFJdi56ZZY8TW6IyVsVnOuEwLR+SKSnXyshr5KRa+yMzJaeRnNfKzbLzMVr7Sys+084RtcWJzRLaDI7bHiFxxIidb2BwtMcek2zn5Tk72Kn7qD1HyZl6GnSexxwjahuVY2WNahuVbecKWKJErMmU9P8nCyVzPzbLy09tiJFaeYGO0dD03+x3+2PJRkyJSZkDCDEiZCknqqMRyfPRkGFnAStVgCcWQUoAnqLGoyWr9w0HHWjT5jB71vE/ib03mq3a94Fw8NYeErKfnCYEmof77ihwSAm6qen1e98LXUE7Ee+974L/veeAeSL+/Dz2Sx0s7yfr9dL75KyV0P7Kj0BNvfjdJnvZR9PF5Br765R/1kLQ/r9/t7fV50exfY9Oasiq1ury0v7fP56EuTw3Tfjc1mYkYdRBqH+lGbmd+P9lLIo85dBekF7nQXYUyZLyvL4WGLdFZTTFCMzuliSm1RGW288e2cuT2KLGLm2WJEJqvSbPHCFyxcmu0so2dYovJsnBE5pg0a3TWhgi5k5fl4qTbYwROfoaDLe24JqM5dpSdm9rBlTXFpjXysyx8kTVSYotId/DSHOwcK0e1gS+yRudaeQI7W9DGE1vCBVZOjitO0caV2aOzrVzpG6PzChNvgYRiLKEATygISymGUSWQUAqp04iRM2D0VEgugfipMHo6JE6D+KIQGtJc7wu4kWsn+uIDyFzg9QQoVQDtGYzqplSLc/6qAXLRokVVNdX3PvjAoHQ+QCd9lOM96e0P+L0UDnr6aW/ZK/3YERx5kVuFz0vrEAgwaJAaDPqgLH603z/lFUEGyMYmW5Whplyj7u1HeE5/gEHhelCuiYYJP0m6qYGCDkYIICUQudxejTLk0dDFVrTyZE5ejj0m1cIVOKJklmFiGzvBxc5uBWkLQ9TMSWmLVlk4kkZutgXSWyNFdsiys0T26EwLL9XGzzHHiH6IUTZGZJmjRPYYgYWdY+ZJN0SKLbxUB1/Uwsmx83OasDFmpsDGzd/ASrNGp1m4yc1ciZmf3XKNfEN0zppY5SLun6ePKSCSC4jEchhdwkyeER2vY4wsgXgtkVzGGlkEKeMjEgoYo2ZAfBnET8ESS2D0VOaY0hAa0mwf8Hv7kXeTlyT9HhRwhECQshwMhgRC+pHfEvVNo0/eS77z+pt1lbUPPfDwIIg3A8pIPaSbEvS9SMBFt0A9I0LlKywIJbyUL+o5A7obPcfgECeArNVUoQIBaDxsbG4y6Q3F6pLTfWc8PrcvgKRRSmtBaa8GCw3RYmEouqyfDHh6yf4eBMpUdMUVkmdQmg95NGzkpbfwM524oBEiWjC2mQFNwLAyIpsh1T725tacG53hMnOMyBYpcOJjWm6a7CQkrTfe0iT5syUyz8kTumIyzWyhBdKtEwvb8QxztKANUtcTYAVoBsyCE034KDtkt/11oivjZnuEqik6q4Ufb45Ld0WlNkTnLhhx41/ib4fkyZBQzEgug4RiSJ4ASToYWQxjpjASiyG+AEaXI4th3DRg/QnwcazrDTC6FEYX4ckFkDg9hIbn+NiPRCZKGURfOUKQ857q1N/e//aX+s7p/s/6++cvml9dZ7zv/rv+227RvQ5czwlV6JGQyyyFJ1cu+gTdrtyUoy0dzuQLDHzpKzmKIl8RJvUHPH7SFyC9Teu/r6/Qq8v1Z8/0/z/C7zmz9pV0PhCJ+smAH3mMBM6JpsiGHghpygPC+6U0ZRcvw4xnrmUlHbE2nT154sS+nWcOdO2d/5aFgK4W185/f9rAADOMtEanWYEgSe/uBW8e22De8f67DRDpCLvRAWMasGtWA/jPnLLjyY0Q3l5gPL5t6/H9Z8iDZ07t3NZumvs94Ge2/LB7ydsOgtUWLfsK0p6CG8YOnwIwlZk6Db9uKmDTGCPLsDFqbOQUAiYTI+6EFC0kTIHU8TiaKimFa4r/OvnuzqMn7K6NED6WmVSCp5bgY6ZDUkhTPv/Wgy+YMhyivZSp6vzh//Z/L+k5p4xTPS18/c3autn3Pfj3/7bf/3S+z4fMYf4+Lx2VRIOaO/iM/+n04HE3FaHvO4/ptI4Z1FuDzX7xBlK//R4UPYXiohBkN68zmypr1RpDbx8SHH0+j9vTg8JXkQUjuPjDf7tB9lAWEqSIe1B0FvoX8Hqvjt18yMuG1jDRagDS07vr66+/Z+IOgI3TjWe7uxx/1R5e37p12Qfb9Q/ufmReIwZNMHzT3+61QsSplo5tS95vBYYZh7a77tn5zJNNAKSfbMHjbZOKfCS5ZcF8MxNfhUPHY38njx5pAji6oXXD4n88gecBS6q7+6knn30tAu7828OvAtyRriya9+RbwLydGFY4PGfq888tIWBSZHwREa9GOJhZAqOnwIipEYzbnn7ylf27ugDG4qPLIX4GjLwTkkpCsuH5D7j/HP75yD6yP4AqUsfo4O7//vecBOdzU/axwJuL36qrq7/3wYf++54H7oFS+WmkJ/tIN4pDP//AV/h/PxnwIljyokzNpM/vpyytA1/9So76SS9CQzLgDyBF2L/e0lhUqS8t03p9AUpN9voRsCO5HSF7gFo/5b/+RXoxMhSSbtpu6EFgfLXK0EdDYB39/OuezR2tQDiiJa6YjPWQYsVhA8Ch9XZPz+leu6tnS8vpLbtXA/TvO946tayzxXbww4/WMOH0rgPd+7cfWb7effwYeaKnKZJ5fPvGzn9+1gjQFpeBDIt49CcM/D5W5vYNbS+9vgyYufsOHtuzadfy79a7vf29JAnEHcd6+8zmlp379gIk9/f4Vjbb9u87wsBuZV5fzEgshaRi1ogySCzGsDuff+G9Xdu6AL8Rqc9jilhjSiChPISG51m/P+CjrXvuLa8s2PnKC1tfnb/5xde2vvjK4NTnFu94+a1NLy3c9srr++Yv/GZG2Wf5t6wae8fgdD7ATT77ys5nXujz9ZJ+ss/vRsIdkn/OmenOP/tl/I+sqf7+QMDndR/Y3rH7mfkdL76w/aX5g3X/O+a9vumFBdteeG3XCwvaX3p5y8LXtpXVOcKErojhDRDdAGFmPLwJGDZmxDpgWPHoZhwGpdoxYnUY7P/4Ax+CQWptKjStcuoyKDL4TYY8GjZC1JEtG/d+8rkdMGectIGXaY9LsbJljQCH21qPd9gtOOt7Anq9ARuEnT24r/WOwhMtrt3z39n58dsnduy0Q5SZwNqMs0iSNOPgOXmqrfZvdsY1X8WOvX/UrdclFsEYLYbd9sMPe19+5b2Pv1ixc8suDBcBljt75nMe8gwLppF+vzS3FkDOgBl9PvKmqZXAUEHSeGLUZEicAqlF+MgZyLUQv+3JF97fvasbMBWyM6ZOJxKKYFRoFuUcTwdIv99HWY4CvRYs3gwcMzPOAsPtEDMotYERbgnjNONsCxFnhuuaYKSTmd4ISYPS+QCdWLDYtTiP9B8/NynrQc94xn/2Sj9ltIQT5S/jJ90/rlluw0c1hA2zYINDHDvErGXGOohrbBDTTFxjxoa5YLiduN4cm+xgKx1saRMr1RaVZo9Ot0enO6Kym5lp9sjsQalNUcnNELH/38vPIqmzFxlUz9mLr5RCg9B+6KMhk9i38utjrrb1RGQLW2KOlTuwnPUE1hjB6m207Fv23nqAJgLIEyctI5W9O/Y5x0/rbtmw+5U3jlrWd330cTuENYSnWxjQ7z7bjEWc2bP73x8uA/xGLHE6M6kEogoB/gLwJ9cPm19b8KHL1frGB+8CMYkRX8BkybwBEkD88BMv9/nIf361ggk3PfjwQrfb+/XKZmDcBiNLIW0qJJQg1ItX49iU5+a9sXPbASZrbPioMjy1BEsoDB9VEJINaS5G7h1IbkJqkjV9rBlLs/GyHRxhU6yyiZ+1NibTPkywnjNm3TXIjdTJFbk4InNslpUnsHIznOwMK0fkjJJ0RGY0scdY4hSWYSmOaIGLL3DESsyxyLHUyU2zcHOaY7LRNifTEi22RAhdbMrfnp9hGSZuj8xycXOauSJHjGA1N8vKTbOi3ywbP9nGkdr4aTZeuo2X7eLmOLjZdk6WNTrDzM6wcDJtXIGdJ2yIEbfwJRbkfCox8wVtMZIm9khbtNDOEzZhuMfdg2ZOkZbsJwO+X6As05O51PQr2bVmbTMG6Nl5AltMhpOXZYkRWiKzWnkSV6zExZE4eLn2aIk9QuDgJ3ZEym2R2TZuoi0ux8mRmaOzm2OF7dEyG19o4YisMWIbL90ZmWbhZrXGjWtgZ66LGmPlCZq4mS0cUSNP1MTNtkSlNnElDq7AESOzRmQ52DlNvGQrP9MSm2HmiW08mTM2y8LLsEeJbTxJIy/TzM+2xgqssQILN8vMzzazM2y8bGeM2BmX2cITtbBlZp7QwpFYufIGXraFl9EM+P7lXyI2QF4ENG1CdsMBwT1oZP+J93ULpDbzpCRJ7pj3ehMBZiBa4Lqzmzbabp18wtK64+N/NwGzCQd3d7c9Mf/0ru0dk6Yccjm3vPmuY94z5Ok+M8D3RJTz1cVkwI0zp8+990UvSU7U3oPhKgDRrVMMO3ccBhiz8YfNby3+58JXlh3vPg0gARAtWPTlafI0DnekpGowxu1u0o/h+dLc0nBcEvCTACpAYcjTsAQdJBXhiUUAt8x74a2du48CpsLjSyF+Gowpx5M0ITQcGA0beNnbY5QOdpadLXJFSJ3RgtYI2YZrlBa20M6VbeAKW3giC0fWwstu5gutwxJdkTnmyLQ27p+a+QILN8fBF9uiMlrYChs708oT2qJzWvgyy3XSJm62LS7HEpVq5WWbecImbrbjWnk7N7slStDMT7PyhE6uyMmVOHlCJy/Hxc11odgkgYsrt/NENi6KVkKVm4UgO0bgjBW2xmVbw8UOdo6dk+Vki22xMldMpoOn/LXRsDla1MyT2nkiCzfLzs+xRKU3xmQ449It7OxGtsgRl7MSucpmOHlCK09oj852ciUWvsgek94Sm45wnC+1x0mtsQobV2yOTLENSzejx1R2cEQb2YLWWElTbKaNL3Ryspt4OdY4sY2XbY1IMV8/ti1K3MBFg5CdJ1nLS+vgCVFXMYI2ntAZI97IlVq4OSgslYfQsJUrNrOFzTGS9dwMaywKiLDzM2zROegdhdBwQNy7+MFLoaEzJqkRRm0cX9LbdaC/80DXfkff2e59K1c0EpHHLdY9Sz+14BwrME4dP9wx/MYzB/ZsuLPkVLt957tvrsGh45s13SeObNm668D+Q+6es8ApIeCm5594q/fU8S1b9mzctfvkafLV1/+BYUr7hh2vvLUM8LS1DZbjx4/t2bHzx6Nne3pPFWsfOBPo3bv32Fpr6x133nuip2fngW321o5wGMuCGxnMWzGYDPjNEHcHM2zK48+937HzNGDj4LoiImUGjJpGJBlCaDgwGjZxEtsjs2xRYhdHZuZkN8fmtHFybPwcKz+9KTLbHCewxQkbuUoLJ72Zne2IkTWyszs4AktUppOT3cgTreSl2PkIttpiZWvjBA4U2J7o5KKoJEeMwhaT7mDnILkmOt3Ol1uj02w8SRtf2cYW2dkCOyfHzk2zswUOjtjBzUYe+FTAko0vtPIQ1Fo5yPeejmpv4co38AXNSOCSubhZtlhJR7RyHRXs9KvKhptYyIFsLTuNErskLWyZiy10xOU0x2U5Y5Vr44TOuEwzEodlbXxpMy+n4bosR7TAGiVoiEx38nKc0QILN8XMFrdGKTvYUjtPYovOoWRJsTk2pyM6zcqWtYdnt16b44jKcXIy2zg5Zn52e7TMGilq4YjsEQIXT9rCEyB5OSxjYzSK8rLHiJsjhbZYmZODRD8bV7A2KssRk90Wlt3GyWrmC+z8nJbYTISV0SkhNLw43g2891JoaOUrbbzMJmxMQyTexMyyZ97gCBvWAAwnnuri5ljDRjuiFBuiMtEaCkRq+7VpdpC9xs83XTOFOaIQ4A4In5oqNAHkwugKSCglxhRjcDtA7nWCqhhFCQ75ODGDNWIqJE2H0RUR1xUDcQcwC0eJSgDGcUYXEzABYPy1Y4qAULGi7wDW+NhUHcCfX3592dsfrliy5B8fvL/inX+suG3K3diI6dioSUTiNEiYhI+ZAonFkKiGhAkhNBwYDa3cLHOMyMHNbORkNHGRkruWn9I0LN4ZJ2ri5ThjxrRGC50xElpCXMeXOYYpbJwUMzfVHJlm5WWvi1NY+WkojjNa0MqRUrgmsEVmb46WtbFFVn66I1pAaXbZNnZ2B1fWGJGxLkLo4uYg7ZhLRamzVTauGFVepo0jN/Mzm3kZFm6OhStAmub5aueqmoYJzNwUa7gYhWlGZzgjU1r5Ob+2bNgaLXbyhO18qY0jNcegWANbTJYtXGhGkmDSRjbSXltjstAoEpWLrAr8VHtktoWT2caVOdliB0foiE5F+iw31czOcHFzWzlSa6yIilbIMQ/LbuBKG3lIQrTGidu5Amdslo2dbY7NauWLbdE5Tr7CwpcgcrEzzTEiS6zYys0wR2e74lRWDhJXXdwsV2T2ZjYarhwx2c1cgZUtaY5FgmoDV+pAMQ4hTXlg5LvY0UuhYRMvxR4jssZIHbGSVkjrYI2xRwlbonJsnGQLQ4XUqzhRKz9tbWTOEv4d00dOwEfpIaEERk7FUgrDkvWQUsS6fgYkTEOBwwnTwkZOCU8shqQSuH5yWEIBjCmEpEJIKMDip2FJMwD5S0/Dk4th+HRIKGeNmA5J02D0RHzkBMoBexqMno6NLgLspucXv7PkwxXLPvz+/Xe+f+cfy+8sqoXhxURiIcTPwOMLidHTsJFTmMnFqH0oTpl63Ze0G3JlTm66NVbQxEtpic5qZytd/GxrVLY9MsvGUzh4KUh3jspy8OQtvFSqpcjKETiuGWeLzHZGCGyc1HaevCkqx8HNtIXn2DkZVk5eO0fUGC1pj8txsClJkytYy1U5kPFRYB2ebI0T23nCZl5OMy+jmZ+Kgo5i0hFeoF+BmZNJQ6GVK0ah6zy0zAcSP3lJLk5mCyfHxlOs5l9v52e18LItlEnxV5UNG67JQNZSLrLWtXGy1kUn2XiZDq6glS92sDPaIMkamd7IE7UME7ZFys3sNDvEm2OVa8MTW8Oz7PwMBz/eEqdoZGebwzKasBEbY9ObYzIbucjw18BNa2fnIEMBW9DMy2pkptiihes56esQAo5B4fkxwrVcgZMttPKy22MEDbycJp6ygZ1OWXUlrdHCddfkuPiCVTFZLXEKC1vZGpPVylM4OSqEm2ylM1reMiyEhhcDu/+471Jo6OCL2/g569mZzghBS2xWY1SaNQpFENtjBFZ20nfX5L8yYsLNIycTyWUwpgxLmsBIUhPxaixxMjF6BiO5BB+F5nbDEqez4jWQMAFGl0DSVHxEOYwqQca+kUUsNK1cBGlFkFSAJxYxUOBdEYxRo0DjtGKIL0HzxfHFyIcmxQDx5TB8KidBT+BTCbgZx8fjMBHwW4mRVGDyqKmQUAAjpxDpZcjJZlQBpIU8bM69+UuhoT02u4mfZYtVOPEkOxbdwIBmYDUTSdbojDUwppnJbuBkNceKXGyVLTK7kRnRBGDGrrUAtPIy2vkJdk6Wi5vbwRW7ANYTw638XAsvw8oYto4Z2cBkNbDATKRYOOkdEO/A2Wb+DWauvC02q5UrsPGRPk5VkS0mw8YXohqT5eKJkW7Il7XwZQ6+2M7PsiE7Y5ItXOjAItazwqxsCT07sZ6b5YhGWPmroqGDK7DEKG08mQWGN2GRaxlhTcBwMJgWSGyOSG0tn2OJTmzgZDcNE62LzLLioyzFGisjuqPYYL0+p40nbGSLWtm5bWHZdmH+lkmVFgYaUZqxGDNAA0FYIaIJD7NC1kYsvaXU4ODloigsbk5TpMwak2LjCqyRmU3DBJs4wvaojDX8DGRXjc52RWU2xGZ38IQWbk4LR+iIFVviBPbohCYMbwBYw2TagdfBEZnZSMUOyYb/Efou0uBSaGjhSFojRc5ouTk22RYnbOWKbNfkNbBl86/9k3z0HZBSBimTYdRUSi2dCsnTsKQiSJ0GWQVE/MTI0aVI9LuuHFIm4/GFkDyNmXg7PkoLKQUIBEdMYowuZqKw4qmQOIMxRsNKKMavL8DiSyF5KpY0gzGyCJKL8aRSIn4KkayFkUWMJDXE68MTJhOJGiRIjlbDqGkwehqMLmQkluIJUxlJ0/H4UjxJAwkz8OQiiC8LyYb0y74kGnJyXVGZdgJvN83ttG04ucFxwtz2w72PNwG26+mXjmzZZg5ntHESXTyxA+Boo+P4Rsf2xx873rGpGQtbGyu1c5I38qVrAT+1c9umx+6xAdvKwHc9+Vx3R+uhbbuPff+Na4LagrN2vvyG12k3A2bmjEHresSlO9lCVKOVTo7Aycl0sqXOaJWTk+mKTnGyM1zsbBdH5OSK0CwBN72ZM8YJ7KPrVx5usTuBb2Zn2HnCVq7KFY6WyPxV0dAZLXBdk9QIrM119Wf27+/rPN7T1dW7fdtm0yPrASO9bofyDjs2ohkS7HjWptKCAEmaGWGk98yGWyZ0QIozXGaDWCvA1sdfPHWscx0w10HY9hcX+A7sPbrvoPf4oW6HzfXnv5oB6/Oc6pDdYoeUVqbUCtfaIbkNUm2sBEdsWgMkmSHJFpu6hZvRCik2iG+NTrVxUltixC6e2MnJtrNTGjH8x5Wr+k50e06e2PL88xuxyKaYMRaOJISGFwG7/7jrUmjYyM1piRG2x4qd3PSvuLlPDR+nGnEnpE4Ojzfg11NolV7ITNSjVWRGFWLxM/CkaUiUSyqAETpAC8yUw5jJMHIGkgTjy2FkOSN5CpIQE6cSqVqEm/ETIF4NieWQUAijCpDhb9Q0hJijS5DMOGIilljGTC3FkgqZaYWQOBGSJ0FiAVKrE+6ENDWMKmbGlyBxMr4AxS+PKoLR0xkppQhDEwsZoyeF0HBgNHTG5qxncn58c7GXPLPnifnrrlNsf+Ihr9u398P3dj39km/bllVMWAtghUgzltKhrehQ1/749IvHdu5Zi2MWiLMDvgqiGjHo3t699blnGyFqv9VCdh3cOvdRp+DGbYs+JD2BH+pqt73y+uHN1vUALZDQBLAOh2aC1YxHNkNcM4NoJhjNeFQzXNPMwNZBeAPGa2aMsIan2aKFNo7Uzpfb+fLVESLr9bf4SK+V4LcQcjSxwMttui7hV0dD3jgbXO+orSa9Z1vve7AZx5vwsM3PvNh35MAaDPxnTq/Brv/x+Zdaq2c6INLKTNt6/6N2IPrOnHX9ZUoja9j3GGvri6913H/vxuqZvj0/NhDcg0teJ91++/jpDcBxAexf/uWJ9k3rIMzt9bQJxtmB2wCw/eUFHX+ftyn1tl331ZmB31w7c8NDDzYDZy2wmutnbX3wbgvwzdekOWLF9ijhSn66C67Z/9a77mO9axlhrbKxPm+vC89cHS11sUMeNv8R+S7agIJDH9l/+oSnEQg00x8jdUYq1vEzV8Tkzx1++zWJEyFlOiSqWQnFkDgJ4d0V1fhpCBxTirHUEkguROcmTEdrU4+acm4jYTranzgD/dINrqj/SzQOi5xUpnuEWuLt3JotyB/t6rhbXZTuv9HOS8mGKE3NKLE74LFn3NSMwToYZQb+WuBamcTuJ153nz7mPXo8cOzY8a0HGjE49M8VBz9fvu2J+ce2b2+C8I7HH/H4us4eON6zt+vs0QPtDz209dGnyFMBK4Q1M4Y3QLyNxWrBc9YDtmv+4q4NHetw2P7My/2nuvr3dgcOH/d5SVu1Yf+3XwVO9fceO7sehnd//o3n6Eny9DG7JL+JlW3l5Gzgpa/jS5DLCCengYWRfV4rAzczRC1xMkeMoDEKLaD5q8qGVm7WeoCeI5273nt7NRNsUWnNEemNzAgnA2sC6D9x0nf29IHl33mP9vz40T9cGHi8vesByFO9tvyb2yeOJ729B77/+uia9R5f3/EDB9cCkGSf+U9THBBvixaao7ObAOxosAH/Kb9tuMqlMfo83q5vVh9ztXk8/cd/2LPpwWd6D+89vW1X50f//uGeu/tPdHa3buz8+jsXRK6JSXIMz3GwpTZ81Mb7H7TWVTcyEtYwMNLrdd50UxMobZzQnPIv+778HtLjDXh7e7sPUYF3sR9BZh1zHA53RsLEcJgIcCfAhDCYHA5TASbhMPGKKgYTMGqCmIlPQcY+1Nt4DCYQMImASWGMaQB3YjCBRUxlYJOvqOeBGxOMvILSWcjlNICWIqUWb/FSuUR/GZmG6lmXQsMOiNvwyut9nTtdRJSdL0WrkbPTHczkJhi25Yn5JHnacq1sDWBnu3Zve/TZnR999uPnn22f9+zZLR1WHEiff9v04m8Y4Mq9nXSTm+5/4IC98cdV6xoAbLFjNnBkVq60OVLoCIs6uODdExt+MDOS/d5A29jxTQyw3DnB7+vfUFji6fc2SvLbFHc0YdiZ/tOu6TMsWeMcIHIOE7THKJpjhXZOjjNG0hyTvR5wkuxdD0QjM6uFL3GxBciz71dGQ3uU0Arhvr6zrbeqO7BkZ6xyE1vWHClsiJM0Yqz+Myfbn3rOjhHtlbV9hzu/x1hkd886ANJ9yvL/sXcd4FFc1/psU5d2JWHHiZO4gXrvgO3EcZ6fEzuJOxihXpEQiGob94p777FNi40L2Lhjmsr2XTVAiF6EGkJCqO1qd9p9OTNin4IhMQRhLbrzDcvs7K3/nfl17r2n+Kf27T7e+vd/GEC2Ra5oXfdVT/NR/GmIMcvB5HWZfkK8JSDUpEmp1iRVKYHY7FZQDnUc3ff8C1tkgOsS6zcP1Nc3vfxuX/Nhk1yhVcDhV+YqyRgAACAASURBVN9gO/qN4LUZwOwTbgpItPgmaQPiUXkTftUAv64Bv/4qnXN/lxmUVtx9SqUz5bN6Y9FehxDeebzH/s1jL7z88ntLX3//5deXvf7qx8+/9uFzb6x45Y3lr76+/LlX33vhpfdef2HZi69+cEbna2+tevXNlS+++sFzL/39+Zffe+2tVe9+8OmLr37wwivvv/jqBy+9tuzl15e/+OoHL7++/KXXlkk3z6j80yV+4cU1qz78EgVf0WOc5P/uzB0+nRWkYynT6dhQC5fsW/KKo+d4JXg3+CWhVl3AFJ3yUhN473zmzWMH9mpBbpTJ24zGpmXvHfjs49Zvvtn3+BsD24823ndvb/MeEyi0vtFmTxjYu3fPwy93fLW+rabeCKpa3+j6gHC9OmSz90VagANvL++srdn/9AtdO3ZpAXRBV1YpVM7Wg7uKFzY+8wLh+PYv126Ww77HlrBE6Fj37SaQ6/xizH4plUHh1YGRlepIrU+4EbwIY6uUeRi8Y6sD0TG7NShhtNlQ+8vECi8gbUdbXnlri0xlDUxBIxn5ldXgtdkTiM25PepaA0yypPyRDA5WgbdjcGADKOz9Aw2ekTY7o0ueXKWMMMIVu+YuZPY3W72UhGGNV02tUv3G7B9SHxip9fCzgtyoAidnM8m8CGGtymizImQTBO545MG+Pdt0SkXz2i9Ylm146NkqgMOfrOQ4buuzT+gg2HxxkkUdURMQitE11Ml68G5b8bltkDPBr8yy3+j8rzKq6Z7yWb2EQ2RQdDokmm6h2x+G5xxOwcGh/1/GNbfkeSmg+7BnyjPy5enyZynlWvP5Z9KF6O4NPR1x6GoIHdSdw5PjiIMRbfgl/5nouIUdhyGVT8eGxoAYrUxGeOfuN16vUnptBmUVyGsfe3jn4vIdLzxqO7TfDKpambLPZDi84v29a746sO7rXU8/17NrjynufwgjVCo8qxU+VgCmt2fH409aptw6RIZ23Jm7RQ41oNoo92xetqL+d9NbX3zlaOPOnbdksYyjGnzNoDCBD+HI7sIF3wFUy+RkaNBaOlcn866Qg33QtveR+2uVAVbfpDp1TI03atVZfeOsChVHiE4ur/dJ1QcnWiZEm7wjR5sN6/wjLHD5zsceJqzDeMufDaCsVvkaS+f0NTboQeZghrZOvsGgutzyuz/Y7L06L3D027cAOAaO1/zq2j6zscdSVwGgl3v01+0baD+0WQYt3383dKzbrLxIC5pqgL1vrezaUK+VgeAkZvkvW5tqO3QmLcBGldy2o2mgaY8uOqECFLtefdexv9V0ZYpeodj32POD7S0mlTda7/glogKcf1IlwMEPV3FDfWgpi5Bebr4oRu9P2fCs2BBdMQ07eOIFNPFHv0Y20T+oaPiJDtYdw9HmxJARZ0pZkmgmBa0QyDdffX3LX/9WX1s37OeSR9lNig7Bs6KYeqblny490rvow1jsFDrCJ6yTH3fS4enYsM4nwQiXme64k+07fnR/4+EvP+V273QO2HbMLW167snu5rYtSlUDQJe1Zs8HH3eu+Wzv11/uePLlY3t314Fn+/dfOHsH2tdv6D0yIBB+1+MP6JSypmde4hnbUUPD4W+/Gmpu4ju7TDFTDrz1/pGtO00gb62uZLo7O7/5nHT3Et7ekFtq7xvq+P5bgR2shUimp6d/0ybBaTNde1Ot10QdRFRCaJ1iisVXjKsDXgIzZJb5mlXRJq/oBv/IOtRJHN11Q4MmpFYzZRPAnudeIQMDQ3v3HDu0k+s5tuOx53VKxYCjvzbhjzUQbrr6f4a6bCbwdna34+LgsePW391cB9C7Y09/a+tQZ3tvy57BPS06AAv4d6z7juvtP77jgK2jw9na2TitaDOoiG2gJvb3DQDHWlqdBzoGO5rJ4cEB6/bmlWttvcf4I8fqH3xu/9/f6xvsZI7zh59/ywgKPWhMKoUR/KvBs/HF5xnW5th5+HjT7r59e+szc80QbgygM+WzYkPiRLkMPf4IvI3DYDLoDERg0Kf68Dls2H5i0jnMY5LI9VM+WZ5jebSoP9h8KDM7a/acsoKiwr6BfoEQJ8tgpA6RfM/tJyEMx/2/p190nolUT9lw2GtDpX+k0S+1RnaZWe7dVLpg59KX60oLDQrfSggyTf3rwfz7DHCVBeJ2zCwz/fFv9X/Nb7x9mvXa/92RNdciu6IKVI3TChoeesRy2x270kvrr/ubFUJ0igla+WWNi+/Z8exS68wCnRzM8JuGG+6szSurVF2pV8kb0m/b+9gTdX/NaMop0Udda5z8P9ueeXxr/E06uGJryg37Hnlpa9q0ht/GWP74N9PUP+qv+d+tv7tZF3+dyTfUIrti77z7q1S/NWqiUOVQgyZoo82G+qBYi1e00T/FJP/NZvCtD4zc5hO7EeWv3xo8E/UQaVXGWjRhJlWs3iO0HibpIMIA4VWK0CqfMINnmB5UtR7ROrikCrdKrtT7xZh9ozd5gkmpqr80yaq8tNoTDBBSp4ywwuU1qhCTMqpWpkQLRfkvq8BLr5hklHtb4DIjBNSC2gDyOsUvq8BX55vU/tnaw8ve2r36430ffNK0auWWKxKMcHmtR6w1ONn0y5TK4PhGdbReQ2XDs2JDAd09MSyxE/QDioHHRD4cZigskhckF5gMcXDo0vyMqQsZViC2AXvprNmLFiwunzOvpLj0/vseEAOTnShNcj4spjyLKk6RRfRpPBISJMSz8H83sgg3vD6dbLjl4kkNAXFGdaIlIEQLV5kUv22AyHrvaH1weJ1HtAkmWv3jtYGJm1RXbFWEV8JVZnmkRRVnkl9l1MSgVSwkmBW/1sLlFnmoFS6v90/Yrk7Ue19Zhyv6F1tkk0zq+Cq/SAuENsgu1ful1GrSDJ5xJvmlVd6RerhU7xNugphq2a/1npdrg2KMyhBUYAbF3pWf2eq299bv6azfc6ypruO9FQblZbX+KdXK31b7x+gmhFWrYyuDYw1Bo86G2sBwNLNRx1gD0PZG53NFnWqyPiCiVh1u8k3cpog1+SYaAyO0AdE1HqFW/1izZ3jlL1JqvEMtPrENPhg0fJNngsknxhIcX+MfZQpINmIE8HCDJsTonWz2SdEHRFkvDkUfEF7R+uBUvRq9QlT6R1o9o6vVsQblrysmhO7wm1LvGVkXkIqOMxShOgizRP/h0LJVjcs+2f/a6wc+eH3X39+0wBVW/3ijItLiGStazqTUe0eY/UPoLsrZvKziFgrKgygdir6fsBROXHHDSSgn7sZi8EGJ1Ia/YsqfdGLgG4FjGMe99y6eO7dswYJ58+bNnT+/vKio4NlnnxaDeGFwHMnx708s86ckczrEGDmOE+IhOmIXxGBAZ4OS++Y5HRvqNfH16rBqnxhtQDTqrwWHm9TxFYHoXM/oHWn4RZLJP6J2Qgh6VfCNqtckmAISawKSai5JrPdNrAi+zKSOMfiG1aJCdZxRHV6tCasOCLUEJVV5T9rqP1WriTGrU9CBVVBUVeAkg3/KNk1ig0+0OSje7BNlCYyv8wqv902sUifq/dDHV30gOnep1kRs8fE1gVwP3lpQVODs0ge9ivnG6CfEWP2itf4Tt3nF1WridKIa9qhq2Fj9MHyjfkJcrSaq3j8WnVloJmGINL9Yi2ZS1cVh5kuSjX5XmIKT9EFT9EGhtRcn1PjE6oKiLH4hVf5Jhouj6zXxtUGxRu9Yy0UTzf4x1UGhRq/Eber46oBwXcCk2uCrrSr071ATEGHxT8YIlAFJFv8rzJophmC8bw6KQQ9DQTFVwTFojPyLaH1gjFYRYZD51sHFdaCuhqBaCDL5R1jVYeYJaB1oUUfUB6VVB8aY/MMoG/6c76wgCKwYlgt1Wv7VK3tfX9+SJUtKS0vnzp1bVlZWLh5z5swpLCx85JFH7HY7IWRwEP10npTx5+zPhVI3Lg3whLAYfdgcmlQHIcbAMKvPJKPoisp9P7WakHpQDHLH0cm+Q5xhYKyoMx42aTbiFCMNH92o/UEOFnWUMSgZ3S6486lXh5mUHh3rvuZRksFnAOWenykYgNt4ez3jx+f0GVyxdaQLiRz37t2bm5tbUFCQlZX14IMPzp49e/78+Q8++OD8+fOzs7MLCwuLi4sPHDiA48WPP93o04N57n7hMUiQGD99S0SaGdDo1YAOWiLd+qxXp3wFIAn7LO6WOZ2EsZH+M8aNs+F6Mk6LmO4tVQYAqya62icKPda482nUROlA0fr197hPiboi3BCx28nAGeNzLjKMOzbkOFEKERlNuh4cHHz99dfvvvvut956S6fTdXd3E0JmzpxZUlKyYsUKQRBaW1urq6vffffdu+++e/ny5ZKQeC7Ap2X8PwJO1iFGUnZwAm+KSLPCldUBoegTVB3r1qfWL0IvByczyIg6EXYM+kFQLeGMD0bgWXScTRxHtJsNIDcFhZmD0R7GrU9D0G8rAFq++xJdn0uRYwkj8I4zhudcZBh3bCjNc0dOdbu6uhiGcd2RptLp6elFRUUrVqxwCYOSSOhwOAYGfp4/XOdiuMdwGRhgXJotE/OlV+sg3CyP1qoiTfIQtz4bIdoIyuHYm0Sc6IoLAmc8EuLCuDiDZI+s/6bax08HGiv4W8HXrU8dBGqVvp2frUHlCkIYaZH/zINonTGep8owHtnQtW44cgWQ47iRU+D09PTS0tLly5e7WNJFoyOznwpSeu+sEBDDyYt6pEzDldfrPSPRxTT6mndv2QeVSOR+nLPf6bAT3iGGSRVXSM8QJI4wuJUncIR1Djbt2v3aK/tf//ved97f8/Z77n2+t6LpjVd6tu4g3BCDG4q4U+nAndCf4Rh3bDiS8iS8RfMVQZo1u/hx5syZhYWFH3zwAS7pnth1cY3PSIp03aQX/w0CDGGcxEk4DlcPBVYMuYka9v9NmWMhL4Mz4y5pV4AhQ07UA3NiHPczPdDe4IRmLeEcWCxDiIMVbbHc95NnCcc6xW0ldpCwHD/ESeEBzxSfc5F+3LEhquWIx0iOwwH41/3l6dOnFxUVrVq1ysWSLrRZlv0xpbp+pRdniQBGGubFeLqsgBZBODMULSBPoaN55rqkP1shBJ8WJEP8J4h/V3nCnM2mKY9bMKJ+metpZdzf2dEQYXFajLIgOiuRRvxnmiiT8ciGrjmviwEFYVg2lOREnuczMjLKysree+89ad0QNaLFQ3rVXRnP8s2n2X6MgCC+EQxyIIdSojidHNYy/Ukao2KGsZeSY3EtjKA+K/ZQJPKz2CNw8gLPir7eOPxzThxozjkkRdx0oz8OP24qcRBxPoB/L1iC+8r4eeay84+fqDO/M07Z8N8AJbHejBkzpD3lf5OS/kQRoAhcSAhQNjx5NCkbnowI/U4RGB8IUDY8eZwpG56MCP1OERgfCFA2PHmcKRuejAj9ThEYHwhQNjx5nCkbnowI/U4RGB8IUDY8eZwpG56MCP1OERgfCFA2PHmcKRuejAj9ThEYHwhQNjx5nCkbnowI/U4RGB8IuA0b8sTpJBgRBf3yo/K6jXDoDvtcGRm4zB44wjs4dlr6zOI5c95bufxclX+6chjCogmq5NdNIGiLyqI7D3pQBCgC5xkBt2FDVE9nWMmvNSqrc6K507lkDZ5hbTw3hDZhAsmcMa2suGD1ilWjPh6CZHSBdldEIIwUVHnUa6UVUAQoAicj4DZsyHBo78nxDtGJguQBDa3WebTlOQcnAiOaDXEcmslmZhaWlMxfsfIfnMCf8jwnlfJEwOihouUWWiaJtltotnUuWf7kIaffKQIUgVMi4DZsiK6QxAiibK/D1n6wr/uIo7Pb1tHR39F2bs62nqGuLltb21DrEdLZPW/67Y8VZX/xyiuDnR2nPM9NpR1t3e17Bgf6MCI0wdBQPFrmiqFRTjlc9CZFgCIwagi4DRviWppAhjh7e9UPm1UKvdJzCyg3y+Qmmcc5OasAMIiiwlMHSoPMt0b1a7PsN3q4SI9hYU9xnpNKTTKPSnnAvo8/HZLkQVFIFJ1ZjdqA04IpAhSB0yDgNmxIiB2dW/CkpaLKCB6WwKss/uFGdaRBHX1OTtPFcdrA0KqAieageKs6oVYTV+MfY/KKN2piTnmek0oN6miTAvZ99g/JV4uT53jOQYQhnLPTgyJAETi/CLgRG9pEZNiuKq0YFCK8xie6Wh1lUUecozPK7B9j8ou2BMXo/cONmliDOsagPm2IonNUaYRBCYfWrRFd/fLo+xc3hxjRudX5fRBobRSBcY+A27Ch5BKS5bmuLXodKE3qWLNfglEdbtbEnpOzNjDJEhBbo4mv0cRb1DFWTbTBN8QcEGlSx5zyPCeVmjWxeoDmjz8Xt00wdBCP4UHE4HHj/tGkAFAEzjMCbsOG0n4rIXxntdGgkFlEkjIGRNf5h+nVIVp1lFUTWx0YXesTZlSH16hTUdDzjzBqYusDk2sD4rb6xpiCU4yaWJNXvCk4wRp0pT4owRAcbvSK3+oXVhsUrQsINU+YVKuO1wXG6ieEWQNDTD5RGC37ojB9wMQ6v2vNmlitX4QlKMUcNNGkCbP4xJuCws2+0dU+IRWBUTpNojkg0hIQYvEO02nC9ReHGjVRVr/kmqCpWt9Y08VR5osSNgdGmgMirZrYzSLJbvdJMQVGG0B2aO0aVwhZAcNf0InyeX4LaHUUAUTA/dlQnaYNCqnxTDD7RZn946oDI2snhFj8YmoCphgnhBuC4zeqwy1BMfX+sTUBYZWa0Hr1xDrvJJ1fjD74KmNgqEkdX+ebvDEwskodXx8QadKkGIIiLUEpVq+kBs1koybKqImpUCdrNSE1/mlGdaLFL84wIcriM1kfmNTgl7AtKNLil2bSRNUGXWMMmmTwjq8LjDddlFDtnbxdk7YlcFKNT1SdJkIfgPEwLX4JJv8Ia3C01TfJpI61+CVY1XGUDemLSBEYIwi4PRvqgqOrApIrf3WtSZmgVYbolVcYfcKsvnE1AaEGpdzkeaUpKFIfmFTrF17hO7FaBgbv+I0yP71/fIP66lrf6IbgqWZNglEeXQuXVV6UXOMdaQoIqfAIMcAVeojWeU+sD46qUoeawave+0qjOrJGnar3i2oIiqq9KBYl0KAYY3Cc3i+yxitGd3FstX+MMSjR4h+pD4wya+L06jDDxdF6TXxVQJQ+MMICv62XhRk1UdrgiOrgOFPQZfrAFMqGY+RNoM2gCLg9G1YHhNf4RNWAwiq/aHvx/H2z7jWovCpAZoAJjWs/3joxrd4zWecbWeUxqS70ukPrNm0COPKPD01Jv9fLQs3BUbX+KXqIqL1l+v73/66HoDqvcDPIzCGpe2cvMKdnVnqraiCoEqBl9WrDpORKzSRdYLwuOM4cFGbwjTBqonSXhNT4xxqCIqvVsebA6Dp1fL1XrFUTW6OOtAQnaANiDT5X1QSEGSFUq/S2Fs6uvaPAoASTT4ghIM6kibBcNJGyIX0JKQJjBAG3Z8MadXQdyFvWrB7sO9pv1R011tmGOru//L4agDgdtb+/RQ9eZpAbIGTH/97u7DqySQWEGdzxp7v0EF6l/NVmgE0g23bfg3xL93oAg0J2pKFO6DreqzUNbNvNOpm9z71eCXLCDVVef9N2WZgVLq0B0KvkBvmvKryUBv/YepmiFqBGGWnxD6+RqUygqPAIq1cnmdTxhqBUi2+UySPMCNFMz4Gexu1D7b39WrMRvOv8J1cEhZh9wikbjpE3gTaDIuD2bGiF4EPL3uGHhoxyb4NcUQWy+ktTDm/ZogNgB3q3zXvimKXu0PdfmwB0ssuOrv2qCrwcfZ21N6YbQdYwq6TP1NSurWh86innkebNIDteax3Y12QAmV4OJpVia35JxxfrdSDjHTZ98l+1oGicfU9/bWP35tpDT7659+PVG2RwYP23bUa9+Xc3Vyl9D6zb0K3T6/73JgtMrNfE1/kk6DVXVQE0r/t6YNturadKC8oh+6D5mhtrVUlaTYxJk0DZkL6EFIExgoDbs2GV0sveO1j36FIteOl9wqsvSdApI7XgoZf7OAYYW39n3a05R2vqBup2VHnICMNVghfpZ/VX33Lg6aXEYWu4Z8GuRfcSJ2EPHqsAIKzNDGoLxNeoIyt8Eg1wuV6mNss9ibPXHJK677nXhX57XXn5jocfI5yjc1dd01vL+rY27nvr5QMffLDnxVcH2w7tfurFQx+uNirUZv9J9QGR1ksidV5p1pjrDL9IMsCvTSrZELFvuzLFAlH1QQnGgBjKhmPkTaDNoAi4PRvqFEBsxHJnZq0spNIv1OIfqQsO3R4QVakAYYBszc6tBai/6S6m/3gFAGMf2KQCYbBLf/nvHd09OxYvsciVOpnnrmde7O1s1ikVRCAbFartfuE6dVydOqYyIAS1DgHIIGOCiYP2LnPxXB1AhRx2v/quffeB+uLZZJBpuvepzZ7KvdmLCGGalj5f4eFr8Q/fop5S4xNrDYo3B0ZaFBFV8ugqAL6lu/OH700ypVEdX62eqPWJomxIX0KKwBhBwO3Z0CRXtO3e27n+6wqVh8k31CibVC1TmlRgBOBtA4brbzXBL/RJ1/N9A1YvD97eUyn3cxzvrfxNHOnr2ZGXZ4Jgg9yjpvx+Z1uHFjwdHDHeu9AKUBOQ0AAT9TK5FS4xyTyGHIxVfiXpt9XeNVPndXGVQrXtmddtzXsqwaN+2l3O4z2tX67boPDcfmv6YF9321cbqwF0gfFVAVfU+yTXBSRW+0dtkcHArv09TY1aUBrVkdWeCdaAGGtgCGXDMfIm0GZQBNyeDWtgkvUPfyJDZNfqz7YCGMGn7asqzjloBJVjsK/uf6aZ4dLa5D8LgwNVAESUEMkAb7n2utb3PxS6jm2dmFYR/QfSM9DT3moB2P7Yoxwh+5c+awJ/S9LvWrbt6tvftMUDbGyf4TdTDqz9xNnRpoOwbUk3MUM99u31TYuX7Mgr2/f+h4P7djUtXLCjdNGu119ztLZXg5c2ONUadKU1MMSijjLJwFG/o7+xcSN4W5W+VsXlJt/Ebf5h5sBUyob0JaQIjBEE3J4NqwMjGzx+bQlL7tIZ7QfbHLt2t/2wvmZiYjV4DzXsqEu9QS+faE79c7vFaAQ4brVWA/TVGPR/uFELHgfe+6h738HufQcPf/HZ4YqNVUovI0BNzqyu7duPt7T17N3ZvG6N3sPXALLe2u2Vsb/Xgcf+f6wd2N3at6/l4LoNR79eXzfvPvu+g4N72rb/cXrT/IecB1rs+9oabp+mV8ktgM51tih8tihVe17/oLe97fjuvY4DzbbDrTW5uTXyX1cHhdJ1wzHyGtBmUAQuCFsUTYI+YEoNhNWChwFkm5VyKyi08vjqwGiDAnTyJIv6SoN3qF6mMnpHb1JqavyS9TJFlSpM/8vYavDfqFAYwcsISi14NPrEWXyjDfDbWjkY5WAElQ68Dd7xVp9wvPYIs/hfpVWCVua9FcAs9zbJvEzySVUKlQHA5HlJFfzKBGBSQEPoH3u3NXRv28rV1XVtbRzY3lShhBqAShlowcOgVOlVvzX6RdYHJuuCqWUefQ0pAmMFAbeXDU0Bk9BG2Cu0IjhaHxijVUdp1UmWCdEN6qlmj4k16skWTWq9X8pmdYjZL8Lqm7DTP9l6UVR1QGjNhKjtPil1/lE7A6NqAqPq1SnVmghLUJT1F9dqfSehEwffiHr/WOOEUK0mBP04+IRbfRNMftG1geFVAZHaX4ZUa5K2XZRoCrpM6xu95ReRBr/4moAw84RUvX+sdeptDddcv23qzZbkP1km32jySGtQX21SxxgC4nb5xRr9wi0Tog2XTDUEU8u8sfIm0HZQBNyeDXXquIbgeItfnG5CpMlvktknXB9wpeniGH1QbE1QRL1PSIUmutYvsuaiyHp1iCkwtiYwxKAJN/vHWPyT9UFhlsCrqjUJRn/c09BrLjMFTLJMiLZoQnU+8dW+4YaLwo2aKENggjEwoirgKktwgiE4zhicorskzOgVb/aLqPVP2uIfqp2QXOOVghvEPtEWTXKtZ0SNZ7IBwkyqUINnmBVCzb6hWr8I3YSp2kA0mtap42oCEizqiTo/yob0HaQIjBUE3J4NLX4xRq/w6l9E6ANjLL7RtT4RJp8Yc1BcrTreHHBVzcWxtQFxOk14VWBIbUDcxovCLYGJ5oBokybBGBBdo4nX+YebNXFWTXS1OsWqiTV7JzT4xNSqE3XBcTXBmLLGJ7ZOHWf2CTdeFGuekKj1i6ybMLXOM6wOGW2KISjS5BFm0SSbL0rTBsXoAmPNwRHm4AhT8ER9QHSDZrIlILQq4Cr0k+gXafRPqA6MMQZEGwKvrAlOqPOPMvhTDZux8ibQdlAE3J4N9Ro0BDYEx1sCE/WaxK1BU80TEmsCIuqCE6oDErf4Xq4PTq0KjqnzTqpRxxq8Y7VBMWa/CL1/7Ba/iVp1lPHiCFPQlNrACENQrF4Tb9GkGtWhxoC4Bt8QQ0CEThNpDAzbpkk2qKO3eMUZguPqL4oyB4QbvSNNmgi9X2SVf1hNcEKD+sq6wHirOsyiCa31iN+ijrEGRxvV8QafSENA3Fb/5IpfxFs1kfoJYTU+UQ3qmDrfZG1AtC4w3hoUT/eU6UtIERgjCLgNG3KcILrHZw5ubtKCyhoQYbgkHv0VaqLc+tTKZAfXnYiLQhiOECd6wEbntvSgCFAEzicCbsOGPE8GCcOSgWOVxk0eoAcwKJXVAAZQuvVZrdS0/eNjDuOHEpYbIsMBRdnz+RDQuigCFAG30rBhCeEEQlimq3+gXtuztbazqeH41u1HGurc+uxqqOjuPswwjOjwmicc4fCDBlSmrydF4Hwj4DayIeEJxxKHwBEew4cMRx7G6EooVLnxKbACM0QEniGsUyRBAcNE0aB55/tNoPVRBNyJDVlCBjG8pig7cRhXDgPMCW5+8oRzODlBnCFjvDyeYLQoelAEKALnGwG3YUMUlkTis/N2DDQvcETgCcO7Oxk6xW7h1FhAencSX5oJfgAAIABJREFU3sE7qWh4vt8DWh9FwI2iRAnIFywR48lhCHaC10RwezZkCO6VozTIsITnkRapbEjfTIrAz4GA28iGLOFZXlxPY4iTMBzHcBzHIyPiGqI7nw5J5hUcjFNw4DqA2Kuf42GgdVIExjUCbsOG43qUaOcpAhSB0UeAsuHoY0xroAhQBNwBAcqG7jBKtI0UAYrA6CNA2XD0MaY1UAQoAu6AAGVDdxgl2kaKAEVg9BGgbDj6GNMaKAIUAXdAgLKhO4wSbSNFgCIw+ghQNhx9jGkNFAGKgDsgQNnQHUaJtpEiQBEYfQQoG44+xrQGigBFwB0QoGzoDqNE20gRoAiMPgKUDUcfY1oDRYAi4A4IUDZ0h1GibaQIUARGHwHKhqOPMa2BIkARcAcEKBu6wyjRNlIEKAKjjwBlw9HHmNZAEaAIuAMClA3dYZRoGykCFIHRR4Cy4ehjTGugCFAE3AEByobuMEq0jRQBisDoI0DZcPQxpjVQBCgC7oAAZUN3GCXaRooARWD0EaBsOPoY0xooAhQBd0CAsqE7jBJtI0WAIjD6CFA2HH2MaQ0UAYqAOyBA2dAdRom2kSJAERh9BCgbjj7GtAaKAEXAHRCgbOgOo0TbSBGgCIw+ApQNRx9jWgNFgCLgDghQNnSHUaJtpAhQBEYfAcqGo48xrYEiQBFwBwQoG7rDKNE2UgQoAqOPAGXD0ceY1kARoAi4AwKUDd1hlEaljQzPcoS1cYSwHOGIg7CEJYyDDBHCEs7BOAWWcIQnLOFZwhOecIQhPLERjhCeCPwgGSQMpiU85iEcR3jeKTaVI8QhcHjJsHhNup2YnxcEwnJ2lrBYC0sEAavF4jAVwxOGZez4lecFQnhmgAgET57liY3lGUIYgXFy2CLxPv5ExBqx6YRliEA4nnCsWJvDJtXoxCR2qfkCweoI5mN4VuCJk2NY4sAb0k8OBIMQziaIPXMQwmN9HEdYO7EJhBU4IgjD7eIEnud5sYViofTDzRGgbOjmA3jWzUf2Q/obQmJhCMcSnmEJYTj8biMOTnzNCSOyGkNYnuH4IXzzka2QJxmB5wQnEViWODhCBgXCMUgwhB/C+zxy4RAhdsJgmSxheY7Fe4Q4efyP552sg5VojSO84HTgTYbBGkR2w59YTC+mQQZjkdgGkSKxpQKSMrIbtp+wAhkuDelXJHhsLGYSyY9wPNI1EYiDJ8ibRKQ5JHOOsRG7QBwEe8Qj9TmdmFek/WEcxGtkSomgCXaHE3jBRY1nPRA045hBgLLhmBmK89wQjiBzsYwoLKHkhELcEMqB+MKLEp+AlMEQRhLGWIGg6McOExhmF/mUsLxDlBl7JPZBMhOGkF4ZkdRECU4kEQZFQ5FkHFgDJ5Iq4dgh5EFJNuMJsq9AJAlQIMRGRMFTYJ3CECsV5SR2JEiOZXmnSKAiY/JDhOUEXhT9WF6wc4ITr514hyE2jnecIDI7dpvhkNYkTsR0+Cv2TiRBgfAoiWLfBewnNkkUSDmR8TlkepbnGGwCZmYkDj/PI0irO9cIUDY814i6SXkccdjw5Ufhqqu7o6HF6HT2sQJp72up2VXj4HpYpK1BgXeIU1UUrJw8t7/j4EvfPdPV1cwJAyJ92qXJKYpIyGj8tkNbX//h3Z7BdoKSG4eTawfpcXYu/eY5y04DTo+RVJGXmo80Ww9YOIblHDYGiZnhiF2csxLCO7ZYNr2y7kUGidaBLDXEE35QwGmrnUNx08lyIuE6UFDFeTojsCy77Ot3N+/bzBLnl8YNb33/IlKb4BCwum6UD8WKGfF/TuRZkTr7CMPyKORKcLAs8j3OnoewYn4I1wAEFkVhMY1UjjjKAiFOlhEpWpSZ3WToaTNPhwBlw9Mhc4Hfd5BBpB4Uc5hPrZ97FXt09u0jhNVuN0Oh1862JvyFIxxOhG24kCdwTs5WUbvJrxwam2t5AXMjf+DKHdKHNHV9bd2rUKy07NYhY6GwhnPqPnsvzIOVVcuQ9ETyYIhjpe4TVZ7/4YFOXJtkyJAod/Is50Dpk3nsy8dhoUdf33FRWGWdZFAUKkUREmfJYh5JVMTFShT3jh7v9y33+POrN/xTUF306UOwSGEjghMFQFHuRSp0El4Q2GHxUxQVcbESFzkFFBWJwPI81s6SPmR5hncKhBOcWAKPfzucxMmySJEnTiwU58ti/+mHuyNA2dDdR/Bs22+z4Uvt4AUy9N22jVAGx3uPEo6Ydzd5LIDtHQf6ma62zqMs7qGgCNV67Ehnb6duTy0sgp3Nu3qOd3QMdEhynkMY7Ohrt/eTjmNd/cLgnpZuUcxCQbDb3tU50NXjOO5Z7v1xxUqceBKWx9mn8yPjGlgk7+s7brf1tvU3Cwzbd7x3YPA4cQ4Rnjz/3cseCxX9zr6jfUftDty+kGREQvjWnrb2Ptxgwe0RgbT1HzlmG2rr72IdZH/Pvv7B44Rn5q4uhMfkPcf7GJYnQ3znwNH240dthGnva3H22gSG7e49TBjnwGBPV3+XIC404ryaIyxj6+jub+k/Ji5EsoJgFzjCsPbm7vZjg8fErSSkS2wPMisiIwiUDs/2IRxj+SgbjrEBOV/NGV7jQ/FK+N64Qb7Y+/OGL+oO1r6/8S2v+9QtzY0HW7ZBjuyjipUOQjraW6EE3vvhfUNTDTyhuvLFcCgHr0V+N3xwB0ucvV1tMFuueghgieIzwyqYB52dzf9kqofW3O+xUKkqBc3SYOWD3u/rPiS4G+t0CijafWxYA4ugu/e4drdOMVvtex94zJdDuc8q/T+IQF74aqniYVA+5gkLQLHQa+fhfQzn3NnTqHhMBuUACwCe9uzp6SZkAJYAPKWQZcOerl2qe1QPfrZ0o+Vb+WJPxSNyxVJ/wpG5nyyWL/CEReD1yATlIu+Pqj/pdB6HMoBHABYDLIHcd2cNiE161/yhYoFaNh9gofKGt28eGMTFRBSW7wWPxT6q+d45HxT0sf24J44T6OGpN8qY9LggEKBseEEM45l3AmkQp6U4QV1f8yU8BrIlHrLFSngY4FHF/oMHeJ695rWr4TkZx5Mnv3lIuUjGsHbDPiM8AHkrcns7jqzc+L78Xli54R+t/W1wr+r2N+483NO6qXaz50LvLnv75qZK2QJ45uvHDw62PPrR/XAffGL4VCD8IM6rcTnxI90HsBg6B3use/TwCKSvzN7Vtg+eVcHjQIj9zXUvwKM+72x5Y9OeStkC5X1fLhQ4Ak95x72QsHdf49bWrb96/tI/vPl7gjdl3k947jx4mCVEdh/c+9XD/6Tvog8LPR6Dzv6+jTu/gDnw3FevdXYdevDzR1WPqj6r/XRgwAYPgeIR372H9pS9NRfug66jbaZdm2Gh/P41Dzcf3W2s0T+49v4O25GO/m5luSx/ee6Brp3aukrVg/L3P13uxCVOnFPjlHtYB+jMB4DmGHsIUDYce2NyflqEO7qiJgtPNtV/DUvgUPcRlti2NG6GBdDYto0jRLutAhbCF9s+hUc9Xvp6qZM4rFuNnvfK2440i5qITo8lkPHBjIE+u2K+7xrLx4T0fVerVcyFvu7Olze9oyiHAX6QEHbI0a9cCJ/qPiMcz3MOIrBO4vja8KlsgazX1mPZUe+5SGlp3EFYx+IP74dHvFmee+7bF2Cxh83ex7F25T3yh9c83jbQrrgP4HlQLUbZUHa/UjELbM4jsqdh4af3OTieFxxwn/yhtY+z3ND9nz0qewg4jjz9w/Oye8GOU2p+0DGkvAfWGj/vtvUrFsJbP7zpJI7N+s9l98o7e/peWv+ifK6SZXnCsgwZ4Pk+JyGbtv8Aj4D8cSVKowtAsQTgSS8n6SM2ccUU953F0cJNZnq4PQKUDd1+CM+yA4KoPSLuR3xj/RLmKdv7ewhxVG2r8J7jsaflkLglzMH9oHxMpbhX1drVZxdIxf4qeAA+2LDCSfjGo9tVDygfXPv40d5WuEe1xvAZyzvW1n4Hi6Cr9+gq3ReKJcqKRj3rIBt2G2GJ7CPtaqe4cCgyqbBavwrukR9xdNXsscIDsLW1gQjM3E/nwwMwRPgn1i9V3gN2rp8lRH6v15JPnxhij3nN98hcnme3C0eGWq0HdrU72xxOXv6s8tGPHiROwUlYmK966LPH/rnVe98n98FDQATyUcVK7yVeFXvMhDh02zbC/bBWt7q3/xgsUK7QLud48oXpa7hX1t7X+VHdGljssXl3Nc8KR/sHD7TvZp3kQHOd/B7165ue7WWHjncea2ip7Sct0gpmD+5uM0O8c0hAffKzHAWabSwhQNlwLI3GeWwLjxutPKrRCeT7mh80uRe39XQRwlTu1MpKFHtbm3FZjHM8v/EleNhj3gdFhAw6nc6NOytRKFuggCdlsBDgAdjbe/BI3wHVLO/vjN/wAvm85hufUr/D/R29TL/HgwD3Azwqh/kKuBdWaz9FtUQnTpMJ4VdUr1IU+h3qa67bb4JiubWthnBk9opS38V+hJDH1zzike+BSoI8808Rsnz1HMKQ5dq/ey709noMlA+Bsthjff1XhCWKhT6LVi2UFLPl8+DRTx8SCLNw3QNwnxdxEruzVfawTPYAyJ9U+S4KhkcVH1V/0jvU610csGLTO4QhH1s/9ShVtHQd6BO6L3/+MpgLqqXecD8EzIKDxw5xhGQuz/O8Vyl/UgUPAZQoDx1sY0XtHNx6QaVE3CVnOMkG5zyOH61qFBCgbDgKoLpDkYwTdUekrYCmI3verHz7WF8vz7P7jrQv0606NNjJO1H2+bbxW9Viv8OHdxFxiezg0cPLK5ZvO7Dt4+pPvqj8fHCol+WGBuzHP9C+vbd5uyAIjYd3rKp++5jQg9o5vGNj1fcfV6+uPVCzqnr51uZG1GIW1WIEYt/Wsn2ZdpnN3tvcsfedire7+voYgVRs3/Ch/j3CEn2TdtmmD2yigvjKqpXrmzag4gtHGvc2rjQs/7Dqs8bOXUirTnaZYfWWJsMAqmmzyzYtr2jaRAS+eqvlPfPKIQ7NToacg1+Zv/+y8rO6vVvf1r/XsK/ByTLvVS3f2ryTdXJ72na+u+XdgT472goyNnPdhtXmjz62fNlpP8axqPjNELZi18bVNWu/MK9pPXZU1BtHQxrRXo9D5RrnifmyO4w7beO/QYCy4b8B54L+CdkN9QE53EhxSvYduAg2vASGNsxEYFT3eN365u0iBeC2C+FRqUZUG3Q6mX5x0QxNmMV9VclUjiOsU+TZQdH2V9TRdormHKzDgVu3giBwLHHwaCeMGyqYl+VFO2m0z8NaWJGpWdQDFJV1UNeaF5yoPIhymTQz5TkOzWecaPUsNtuOk3vsCMfxYoWitvUQsQsOVOuxc3YHKm8Lon2faNKHFIjddBLezgo2UQebdXAoL6OhHu8gZAB7x2BNhAwOoQm1qJotqimi+qI495fE3Qv6cRkXnaNsOC6G+RSdRAsNNNtFA1yO4Ry40SDan/Bopiyas+1s3Vv8UcGO5h2izwPCO1HUQhcIaJw3PMsWVbjRwIQTKZAIwwrSoszkEETvDHYG+QVpBc9hG2OcYJ7YkEWKEfVUODTd45Fw0U+EaBUnOWNwEA7NUfCeaEQo2snhXN6JxtXidBVbL9YyiHKsgwyxOI8V74hlYu2saBrICDzaAhJ2iEflR4nrkXelRmKBA/iBdjSimcqwtTMiZsfFBYblhCGeF9h+gvYzAraWHu6PAGVD9x/Ds+qByDjDHESGkNMEnnUK6GABaYUhLCua+EpWb6KhCaonS5bJEpOK3IGswaHPA4HwDkHgOfTUgCW43MwgPQ5bP6M1sCjuIamJi22S1wNkK96J3EQ4QeBsyK4ogqE7BhbpB11LcDzKkpgEiZgVbCiF8hz6V0AqZzn8jwyxSGsSO4mUKoqakq8djh8S7Pib6GMH+RB3t7F8MoRp0QiPxZkvliD+ZRClUVGWdIjGemigg9bdKC0KrOgtAgVISoZn9QyOuUyUDcfckJyfBuELjW8+j8Kh5NJAFBORFgUB3TDwPC7bCZJJnOh1hgxIpscOkUVF7y2DorDFc7yDQaNmUQYUhSx0W4OymZ2Q47zod4ZFwWoAmUOwI/eIXmGI4EDCEzd0kIRExwn4Kyo+o0KfOJdGKhJNRUQLZyRHBp2DoQzIov0f2i9LriWI6DwHCUpkN8kZBBLlEBlEXw8M3rdjachiCIIo6Q6Lmrh64OSGuZu1E7TCFgTiRGl5QLTME/9sSOWIhI0Nxv5S2fD8PLajWwtlw9HF98IpXXTLwHHixBKX5XDlTLRMG54AiwKSO147pLVA0RD7hAcx0Rjxwhk72pOfhgBlw5+G07hPJW2YoFdDgeN5lkGhzyZ6pBFlI0lCcsNPcUIsenYQp+coZvLoyose4xAByobjcNDPpsvivBD3gFmeych+NHve47kLnpxRvjS37HG3PrPmPXNH+qLhvWtxIo672KJHm7OBieZxZwQoG7rz6J3PtuMGLm5+sISA6i/KSTM8IrNlkQWyiEy3Pr3DZ4LHVOyYtPAooNN/qjFzPp+ssVMXZcOxMxZjuyW4TYykIRAeFLcp4vOUU2ZBShEk5bn1KY8pBcWN4oaPqDiJGzKMuIs8toeDtm4UEKBsOAqgXohFojqNtP9LeIA/KRLzFFPyIGEmpBa59SlLLgK4fngLSFQMwv1teoxLBCgbjsthP/NOizYjuNXKO4jM83aP5FJILpInFciSctz6hPgMkN3EMhg7EPeDWFGnR9wzOnOQaA73RoCyoXuP33lrPbry44eV+UD2Z3lSAaTlQ3IOpOW59ekxtQjgz6h6jlCiXjfqEFENm/P2YI2liigbjqXRGNttEcODIGUA3AZJ+fKUAkgpkKXmQUoZJE+H5FyIy1EkzYHkElXC3YqUHJhSCAklquQ8mJqrSMuHlHxVWoEitRBpdEqhR2q2PCEXErMhNReSZ0BipndqKSRnyVLzZGnlWFpqjiqpBCaXKmNKxOwLIC4TUrMhZRYk5skTZ0JCviytXBGfp0q4W56c65FUIE/NkacUyOJzILUQps5QJGIbFCk5sqQsSMlUpmVB/CxxlbNQllgI8fmKycUo3sr+d9gyBwM+o4AoTpzH9mDQ1o0CApQNRwHUC7TIU7IhXJ3rlVKMtBhTBF5/ApgmU94Kv/0LpM2QJ2RDciGkZcDkPEjN8ZhcCFOKFPEFkFwGU0u8kzJhcp5vSilEzpSn5ilSy+VJ0yA1R5aSCVMLIa0YEosg9W654k6IvBPSZkBqnjK+BAuX3QRwm9JvGlJbXCZ43AnX5EFSrnJyKUzJVqTkyNMyIXU2pMyUJ5YiGybmIUdPLoCkUki7E1JyIbXQM7UY4tPhmhzKhhfo03o23aJseDaojc88p2bDpCxFcjEkzLguvbi7s/XQ/tZDbc2ffLkFPG6FtAJZcj6E3wUxOZA60zchwzM+D6LSITkTUjNlU2ehBBeTA3E5kJAP12TDlLsUsdmy+CyIzlElp0NahhL+0tnafN+z78GkdNWvs/44c/G2hh1H2rv2NHf+UFEPkTNDr8m1ExbgBri6BCXNmAx5UhHKlckZkFCojCn2jC/zSstGCTS+FKIzZXEzcPMnZbYyrQSbMaWQsuH4fJhP2WvKhqeEhd48BQKnZEOvuDmQnK+IKcgofLz/SJ8MbvK8JLO/n7nniY8gdDrArX+7855ppY8DZN189wOQmnX9rQtvuLXgD7cugfAckE+7a9aSv2XcA6pb5allQamlU29bCKlZOQWPyK7IhJhZl15dcLCl/fnXPvROyC5Y+JyDkNfeXK38bbosKuv7SnNP6zHlVXmDDhaU1yvCZ4DX7dnlj0z+S7k86e6UO+Z4TLr119eU/K3gQfC6BX4z/brp9/z+loUev8jwjs+VX5MFKemqtLmqpBLKhqcY6fF6i7LheB35M+/3KdlQHpMOqVmy2LxppU8dO9oigzhQXd92tPeJ1z6Wy67ZsW3/4aPdlro9A7ZegSWX3zGbJfyRzq5lH6++6rqiAfvxxv3tB1sP7Nx7AFS35s99gQik9bjN0tDQY+NhSvHSl5c5bWTvniN35Sw6cuToGyvfkSv/JkvKk8dkQeBt8itvv+r3xX02wQduyZ77lO24s7FuV1vHgJPp/76qNuSGst6Bo4f3t/6gMz3z9LvHjg0d7R98atlHEDoTUnJkaTmKhGKIyaRseOYPwgWbg7LhBTu057xjp2RDmJqvmpLrmZr+l5n3E57sbW4+1NpWa9kqk1+/4tMvOo42g+w6UN7yxNI3nYwQ9tcFgkBUcDvIr9l1uHXV2u9kMAnAr3H3wVWr1908c3E/a/e7qgjkU6yWho8/3wTy2K0HD89/6FmAa3mGTLxuFkTnQRpuZ/smz4WEnCv/WNI7OAQwiRti73/iQ4DrAG7cd7j32x82zX/0za7uHi9IVsC0b4w7LMYG8IyAq6ZBYiFMyVUk5uG2+NUZlA3P+XPivgVSNnTfsTvfLT81G149G1IyISJ9Rt5jHYc6QDkVVHcA/NVTlm6tO/iPletgQibETVfBXzgnSbmtxG4flMNdMsVfHIO2xoMt7W1d+w7s376rZ+Waz24vftzW1e0pv00VfNu3X2k3V271gT8eam5b8tSboPgfxxCXUfyUd+R0n+TZsqk5EDPdV57+m+vyBAcDcC0RCChugpRpoL71w6+/21KtB7h+fYXeTsj9j78rv/yuffsPtgx0/j5ziTLhDkjMVaXkyCfnwhTKhuf7KRrL9VE2HMujM7badko2VCTm45Zx1Kw7S+4/duwYyG9WxpVBYqbyl9M/+vD71qPtHvLfgfz6p59dNUj46D8vPNZvB7gFZDcdbml74blVcsWVILt07bfVf8t+aGbRk51dR0B2M1w6fe2XGzZoTaC45tCBriVPvwKym77aXHWsu08huxPkMwCuv2X6w1uqDBA/a9BpA1mojWWfe/5jkN3oATce3tNWsckIsttBee28B5+z9fWC/HYZxG3eWFlTtx/kt3vEzoPkbEjOg8kFVDYcWw/Zz9oayoY/K/xuVbmkiCcQAoo70KAtOQeS81G5b3KpMnHWzLmLu44x4HGjMroAknKUqYUgu71hV8ux3o7djUcG+nsITxLuKGccPMhv9oucc+OMYqaf39q4f393Z9vhTuWvc4vnP3S8n4DsJo9fZH213rBlcy3I/3aovf3eZ98OvCoPPG7+dr2ZsdsaGw407T7gYI69+c4GSM7g7EQhvzF7/kOEJY1N27uPHht02n6o0r323t8HHWz7kcF16zdssW491Nbcx5J7nvvIO+wueXSuPHk2pBbLrymSJeYD3IBBEUTbQ6pv6FaP5DluLGXDcwzohVqc6PMK/fH/CxumFCjic+HqXEjJ9U+bnvDXBZ5RoqpzYg4kz4K4bFDd8strsn6X9bRM9qeQm4oDkgoS/jbXMzEXErK8YwpAeeMf7n4s7IYSlBYT0tXJdyfeuUQWN1OemDnxxtlhN87xislI/NP84JRySJqpipsB3neC959vSF+cetciOfxFHpoOv5s79W/zITFbEZkJcNNfspZ6TS30iioJua4cJtz+m5TFMTfeD3CTQv7HtLuW+MdNh4m3qZIL5cklqLmNat45lA0v1Cf2LPpF2fAsQBuPWQROCtuEFrzDsqGoxqxKLIAp2TA5z/Pqcnl8kSy1QDY1DylmcpYsNQP1/pLyIDFLlZLjEV8MiTmqhHRlWhFMKYCUXFlcISRmiHrauZCS6ZFSiCqBaTkwJRcScpRJ+crUXIjNRDXsxEJILZGnzJUllMhi8zziSiApHVJyIHWOR0yubMp0WdxMSCyGqNvlCXlYZkIxJKFtjDy2RJ6cL0uZDQnoa0c5pRBEuxTF5AKIz1Am5VI2HI9P82n6TNnwNMDQ2ychIAWzw1gq/8KGCrQ2KYXkHFl8Lhp4pOVBcrEyrRjnoUlFcO1M0XQvF6bcrUgoRIERd4TzIDkLJhdCSr5sSpF8cq4iNQtSC9CSLzUfL1Lz4epiSEULE3lqDkzOQkuSyYV4kZypSCtRpM2GtCxInQPxs3ySS9C2L2EWXF0KiXmypDyPawpRr3tyPpaTmI+0+/vZ8oRcOWplZ0HC3ZCaqZxcAAl5ioRiyoYnjfN4/krZcDyP/pn0XZINJTaU3z68bijZKSeVyZKylIkZyrRs+dX5SEyT8yExV5ZW7plWDgkzVZNnKVPnQEqOIqUA6Sk5w2NyoSK1HNLKVFNLIKEAEktkSXnId4nZkJQrSy1A0kzKhvhMSMyFpDx5Wj7en1Ik3s+F5Byc7aZmKJMzvFMy4Pc5MLlYFlMkS8tCxkwpUk7JhvhsNMK7OgeSCj1TcmUJs9FQL6EIkgohpQAl1mS0Uz6JDXmMCkXtlM/kwbiA0lI2vIAGc1S7IrqHluJC4XZtQgEkZEFiHiTNhNRiVHlJy8dzciZMKYGUTCSmtGxIzvGYIjpKSBXlvuRsWTxusCiTCiAhByZny68RRcUpmZ7JRaq0PEjJgrgccWkvG6XCBFyRlE/OlSfNUqSUocnzlEzR4ngmTMlUJM1UJJd4phYrkrJgcgbWm5aLYmlCBqQVQWoesmpCPm4fTy5EGk3OhSlFMLkIS0jJgeQM2dST1w0pG47qQzTGC6dsOMYHaKw0b+RmK8Btsrh8iM2A2GxlUj5+ThH9LCQX4kZzXI4qrQglxJQMz9QiSCyA5CJlYhFKZAllEC9OgZNz5PEFipS5isR8n5QiiJ+FPhdSMnH+m1II8XnoAic1GyYXK5Ny5WmFIr3mQGy2R1Ih+rNJzpGnzoI4JFZ5cq5XShEkZsoS85UpsyA+C1LQX44sOR9TJmar0grkybnIzqmZiik5kJSJC4vJWZCU6Xl1IZUNx8oTNgbaQdlwDAyCOzRB9PY6PIVENozNg5iZEJ0FodkQmi2PzIHwGRA6QzkxwyM8D22QQ26B0FyIyoDoTAjPhMiZyqhseUy6fGIORGRA1F0eUemy8HwISYfwaRAxXR6L2w8lAAAgAElEQVSVCRFZEJUNETPkUZnK0CxleLaYdyZE5Mjj8iEyE0JmKqPzIDQPwmbDVTno/CY6GyIKlFFZEJGpjM5ThMyEkAx5eK4qKg/CsyAsA1sYmQXRWbJJOcqwXGV4tjwiUxmVLYvIhrAsiPhX2ZDjqWzoDg/jaLWRsuFoIXuBlcvzNo4d4kW1vFll95YteLxswTOz5z87e+EzpzxnzXuqbBH+Wrrg6dIFT5ctenbuPc+XLnh63j0vlM5bOnfRcyXlT5Uvfr588fNlC54pX/y89Ovshc/MX/LSnMXPSWWWzF9aNPcJqZD5S14qW/Rsyfyl0sW8+16UvkqFz1n8XEHZY66Mp2zSqW/OfyizoIwlxM6wqEUkycDi2uEFNoK0O/8RAcqG/xEimkBEQKQJiS4YASPnOXjiwEBzwr85OUI4QhiBd3DsEMuwRGAEniPEyXMcIfubD0lfWXE90pXSwbEn3efEihiBd52uoqS8UoFSsn/Tnh//5OSxL5Lki/rXPI+6RJQNx+VTT9lwXA77mXda4IlwInoSJ7Cc4BQIIxAGeeyUJ8ZawhN97AsYT2X4FDjR6z6/a+eOm2/6k2PIxmMsd/yVY53D6dEjPyfdlxK70mDKE6Wt+2JtdVXF/5fsquuU7TnNTRcPCoRwghgO4MzBoTkuDAQoG14Y43geeoGExWP4kGE+QvISxABzJ4jOxXh4IRKggPw2fD38qyhjcgyZM3ve3LL5zz/70vDklBGTSXIaSokjWe7E9Yib7c0dGdMzczPy+rr7seQRPw1XdMpW/egmyzoFgUMTbMIznJMTeIZjqXB4Hp6nMVgFZcMxOChjs0kniMS1sibd+LfcM1K+c8l9HMe8/PKLpaWz5s8vz83N/vzzNawoFUpCnyQhnuA/rOMk8VDgWafDXj63bO6c2aUlxYsWzv8XyfHftmdksdI1z+F0f5jlxaAoUv/G5hjQVo0qApQNRxXeC6dwnCYLOFkeDqSEa2ziHcIKpzo5wcnyDoGwPE6oMQ3DDUkXaz7/JCcvc0556Zzy0rK5JZnZ6Vp9pSuZQFiWd/CE4QnDCU5XrpGFPPv80lmlhfMWzJk7b3ZxScGbb7/GE0bKdcrG/JubSIU4VcdDEA9Cp8wXzmN7Zj2hbHhmeI3f1CdEJoaRgg1LkiHL8eSUJy7DiZbN0p6E9MlywldffZOdnTt79pzy8vkLFy4uL58/Z075jBkzN22uEAhSmuhKhvACZv9/MVQgLDfMw2+8+XZ+QdH8BYvK5pTPLZ8/b/7CnNz8t95+V8p4ysb8m5viHJkMDTn5E6ui4hD/y5fxO+jjrOeUDcfZgJ9td3me505sdzCck+GcKMThct2pD8nATfpNIhqOE9555+8Z6ZmzikrycwvK58ybN3f+nNlz83MLykrnZGfn/uMfH41Mf1K5PI+c9cwzz+Xm5hcVzSopmT137rzy8vllZXOLi0vy8wuXLn2GZc+YxcR95GGxl2WkqbK4NX1S9fTrOECAsuE4GOSfu4sMw+zZs6egoGD69OkPP/zwhg0bWlpa8vLy5s2bt3bt2n379n3++ecPP/zwrbfeOmfOnJaWFsl7GMP8C9Xu2rWroKDg7rvvLikp+fDDDz/66KNZs2YVFBRs2rTp3XffLSkpmTZtWmZm5v79+6U5L8dx/L/Kez83DLT+sY4AZcOxPkJu3T6JjxobG6urq/fs2dPX1ydxHMdxWVlZhYWFX3/9tdRBjuNsNtvOnTt1Ot3hw4dZdljZRRAEh8Px5ZdfLlu2rLq6+uDBg1J6k8lUWFiYk5Nz5MgRXOnjuNbWVpPJtGLFig0bNjgcjpG4UVociQa9Ph0ClA1Phwy9/18hwKF6NR4uXht5h+O4jIyMoqKi9evXD/uRHZFSYjdX9ScJiaggLQharbagoCAnJ6etrY3jOKkQifVcNTqdTlch9IIi8B8RoGz4HyGiCc4SARfNufJLbCXdnzFjhjTPFQRBIriRu7oSjUqC4UnZpUIkNvyngNne3i4lkO5Lny4eZFmWFw9XIfSCInA6BCgbng4Zev+/QkCiPJc8KJGUVCLP8wzDpKenFxcXb9q06aRqXJKd676rEElmlERFg8GQn5+fmZnZ0dEhpXSRr3ThIkSJZF2l0QuKwOkQoGx4OmTo/XODgCAIEsG5CFG6k5GRMWvWrPXr10vk6KpMSsayog8F8a40EWbFwyXoVVdXFxcX5+XlSeuGrlpcnOiapLvqdVVBLygCp0SAsuEpYaE3/1sEJE3mkWKdi7AkYW3mzJmFhYU//PCDJPFJnMWJh1T3SBYbyXFSdoPBMHv27JycnNbWVim9a39G+npSlv+2PzT/OECAsuE4GOSfo4uu1UAXK7nYTVoldO2inKQKIxGoK7Frh2RkJ3ie12q1+fn5kmzIsqyUayT5oi9G1JEc3swZmZ1eUwROiQBlw1PCMl5uuhbpXOwj9VyS7E73ORIdKc3IO6e7HplSEARp3XDjxo0SbZ0u1+nua7XaoqKi3Nzcrq4uV5qRzMswjN1uHxgY6O3tPX78+LFjx7q7u7u6ujo7Ozs6Otra2lpaWg4fPrx///59+/bt3r27qalp+/bt9fX1tbW1NTU1JpNJp9NpTxxVVVXr16//6quvmpubXdW5Llz1uu7QC3dEgLKhO47aOWiz6wVmWba1tbVOPCwWS11dXW1trdVqNZlMer1eq9VWVVVVVlZu3rx506ZNP/zww3fffff111+vW7du7dq1a9as+eSTTz7++OPVq1d/+OGHq1atWrly5XLxeOedd95666033njjlVdeeeGFF5555pmlS5c++eSTjz766OLFix944IGysrKioqJvv/327Dqj1+vz8/PLyspKS0vz8vLy8/NzcnKmT58+QzzS09NnzpyZkZGRKR5ZI47sUx054pErHnniUVBQIOkz5uXlFRYWzhKP6dOnu9jQBSDdpSEXykHZ8EIZyf+iH99///3dd99dVFR011133XHHHXeKx1133TVt2rTpJ467RxwzfnSki4dEQBn/ekh85PrMyMgoLCyUKGbatGlffPGFNKc+0+ZXVVVNnz49Ly8vNzdXUjzMy8srKCiQGO3HnxIH5ubmStRZWFhYJB4F4pEvHhIPSmXm5OTk5uZKn9nZ2cXFxaWlpf/kR8qGZzpSbpSesqEbDda5bKo0NeZ53uFwbNiwobS0tKCgoKmpaffu3bvEY+fOnU1NTTtOHDvFo2nEIf0y4sapL6WMrs/GxsampqZdu3ZJ5be3t5+kXP0TO9nR0SHNbXfu3NnY2Lh9+/aGhoZTtkBqZ6N4nOjNDlfKHTvweufOnbt27dq9e/eePXv2ikdLS0tra+vhw4dbW1s7OjqMRmNpaek/+ZGy4U8cIHdMRtnQHUftHLRZYkNpk2Hjxo0FBQXp6en/Zs9BWvUbOT38cSMkKY/jOGlbgxePU2YZqW7943J+yp2RxbqY/T9mdPVCapuUcWQuKYF0X9LclibCe/fuzc7O/ud8WmJDKZkr48jGuG7SC7dDgLKh2w3ZOWuwawtl/fr1ubm5mZmZDMO4+OKki5Nqdf3qohXXHenipPSur1J6iWJcu8lnzSaSbCsVfkoqd7XK1YCTLv5ja6Wm7t+/PzMzk7LhSehdYF8pG15gA/pTuzNyte77778vLS2dMWOGJA2dkiBctHI65hqZ4KQ0I39y7Tm4ajkp8U/twIh0kqQpCIKkjnNGBUrs7GrMiFLxUiqK47h9+/YVFhb+c/Hx0KFD0v2RtYy8PqkE+tWNEKBs6EaDdS6bKr3/kjy1adOmwsLCGTNmjKStk97w0/HFT2yTq+SRs1rp+qSKfmKBP07242nvj9O47kjtGZnF1ULpwrWaKUnQ+/fvz8vLy8nJOXTokCvlyNJc1/TCfRGgbDhWx04KYilg6EyHGECJIzwGqxu+xihM/83Jk0EptJJA+O9++KpwVu7d6dPRR/QZFutEL/8YFJQVPaUSjiMCyxJWDC6KbvYx6AjGEMAUmE7AeE6CMIh3pFB6JwLXn9lICCzhCS/G/0R/2WSQJU6H6Mn6TLtwyvSMIJYqtYkXDu7dU5iblZed3t7agb0RAwViF8RwCP/vpNvlrdt1IfaOJ//H3nnAx1Fcj//t3p36NUk2xlavVj1JbhhCDd3GXZLlJsumuOAGSSD5hdAMSQgEAgEMpgQwOAUSICFUF+nudq+fmiWr967TFZ1O0rX9/2cHNgogYtkWuOx89rNa7c3OzrzZ+e57M7PzvOPMuJsZ96ML8JqyqFqRvD3eUcbrZvxIGmhnx2mipWfH0QLiHt8Y+okP0y8BnobTL+PTvIMPg8OL/VpiN3KsZzfG5z4LG+tkzofaG/PJvz++4/bN69cXoQWrp5g48pfC4oTFHT5EnlAYn4fxIqCg9o88c3rQ/8hbMWKA3zeGfkBkQLBkoTI1MXlZxykMg5iCEmQRg2g7xfxPHp+FvM/Nct5X39iwsWTLhpLbsaX8TWN5stwjFwZIFsjZIArYgQJ6E3gQulkGsi8GH+NxM95x9LJgxtzMiIdhRhmfEx3zjk0nk+5ZPs/T8CwL9GwlxwIFNZNxpF+No1bvcTDMyJdqySTegafyK4N0Q5+LYdxHPvnirtt3bly/ye9jnYJOKXHWpyhyHoUVJdbJHeN2+5lxj3d03DPm83ixaoP0G6wGcvoUYoOHve6/lrk+FRl6WaywCjRyNM/43D7/GIO2Sfw7T/G8HymwWHdFtG5oaS/afGfRlu1NLc1Y7UN+VFn9kfuX9TiN/U7/Z49KjV8UrO9VjL8v9Wg/KzUv0qS9vjE343H7fYzH5cS39bJ6r9/n9jm/1ChPRS58nDOQAE/DMxDedF46ipUd1Nx9zOjIONKtkDc5zgI7wwOsraA0GebvH//79l13r16/0cVatFNLGWGDVXmwFoWsYQ/DaocYBH7/l5Y+NgAZxsXCi1Ua/+MH6nTcuiPfywinDDPmYNUrlObUMs+S6lsvYZD2+lUPgI+xtrT/rKDwwYI1DeWm4d7u4d5ue3envbsTHw/3djt6ur51G+/ud3X3OLu7nN0dzu6OkZ5OV2/PSF+fu7vX2dlj6+n1dA4O91sdPZbxDqunxzHW3ckMOL+kvIfVrBn0hw/fgwR4Gn4PQj6tW2AFyusuf/D/jkKYPkCsAtAKSCUJZ2VTQYCahDICVIRIJ7pUBbO1omglyKaauBqI40LyWBCpFgFNgBKgDEANpJ4MoYiQMiKgVEjqRGAG4hMIfjpIGiAMbm1p+FJJ/Mqvnh8hbeqBNbEd7ScoEJaB6JgoRAmiqeZ/svgGENAAKkAiUgsESggywKUGiDoOoCUD1SCgQKghAjREAAVCLRmIj7+5NwoISkCUkUQpKxYKBEoQHhUJkNyCAnRCwccBQAEY0e0EfxfBnYTo0V/8zoX0aKQpIpOa7SGdunT4K6YsAZ6GUxbZ93OBn3F5GR8z7qp/+FENzNJK0nQShSk0iw7MPCsbFZJFh+Row/K04my1OE0jS6elaWpx2lQT14jT1WEZKLXAHDowhwrKpkKyNCGZdFCuLjRdF5ZyJFTxlPTq6+asCIstFFxSIIS59fXtXpZ+Xt+Izz/+VV/aVOU6PIoMTa+1tUEJgVRIgk6iUAWeNfloxJlqSVZpWFapOOdIcKZGlmeQ5RrE2Rq5QiNXlIbMVUsyKWkWLctWhqVr5ApKmvWtm0qWRkuytKEKbWguJVZopNlGeVqlPMUgVlChcyuD00yy+a/NunJr5I8FGcsEiRtAtPQXv/qtmxlhVW63hxlhUIeic6rS4eOfhgR4Gp6G0L6PSzzMKDKP/L7a3z6mIWbSkelURC4t+7I14jZ5Rntprjosk5Zk400jz6FlitKQtKmnmaMLzdIHZuhCs3TyXFNEXrk0uzwk41+R2Y9deuUV8SsCUzZA4kZRXCEkLIfUJYHEtXWNXahnDBVvjKXhaVmCnlHWfvSMNtdTQpFRnEJF5JgjEarOyqaWpNNhabrQTGNoljYwzSjL1sjS1eFzDfJMvSyDDkvVSdN10nSDPFMjRifxv9/ca8KydBKFXqYwhiv0EQqDPMcgVSAUirNenrN4a9SNgWlLIWpNwJwNkFwEsatBdNPDD/2eYcZG2V5WNMyE+1u/j4fuYr8HT8Nz9Alg54+gIQHTb35DwSyNLFMVoqDFeRpp9lnZ9PK5OmmmVoxS04VnauVphsgcNau8TCl9nWyRUppeJoszhidWhSv+HXHVPXNunJd4U3DseiKhEOLXoC2hEGLXQkwhxOSL4Lq6lhYvHjzx+b7sTEQ279SCh2FcrKU80t6sIYLUIWlKWY5Omj6lzH9HZJ08lxJnqSWZtCybkmbpI/M0UoVOPo8SZ2plCq1MoZPnaGUKQ0SeVqbQh+fik9/cG8QKdUSGatZcU0RKZWjmZ8ELnphx7da4W0Rx+RCfD0lFZMJGQewmQfQ6iCuEuIIgWPHb377lQjWPcOh3jyPoozE1Pky7BHgaTruIT/cGqK17GabmsSe15AxahvQLOjQT6SYzsnXijFJ5iiF4gUGWppTmaSMyNeEZOolCJ5urk15OzcjTh84/GpZdKsvUS3NoefpRaaYhPFUlTjTJMrUhmbRkkV6SqQldQM3IVc9I1wbNV4WnG6QL9OIUVWiWPixLI5tLzcygQueaQnLKIjOM8jStNJUOn6eSp1aJczTSXKRRhqUZw7NM0mx6Zvp7sxbeH7Xk0ujbyJR1gfHrIL6EiN0YGLcVolZB/G2QUAAx64QJmyC2EOCqhpZ2ZB2jQV7U0tnB6Cm3dnQBq14Ot7SqgKQlWVQ4EpEpNM0kzS4NzjoekWoKTtKGJtORabQsUyNVqOWZKnG8WpKuumReRUhGefh8Veh8kyydisjRyNIrpQq1LFcdsUAjWYBM2vA0k1xBSXJ0kT86Lk2rCM4ySDNUsiyjPI8OydGF5VSGKPSyeL0kiQpbUBqWoQ9K10oykLodmUeL88rlefqwLLVMYQzN1oRnHJMufG3m9fnJRSHRJRC/CZJWQuxqYcIaiC0kEzZCzFpIWCdM2ELGrQFi6aOPv4hG6NEMJDTgPmXRnO4Dx1/H0/CcfQa+nYbKiHSNPOdo+GU00lByaCnqeKIkeWZJhl4yn5bmls7I0Msy1BHxJmmuQZKuCc3QSBaYZAsNsmuOyTNL5Qs04Wm0TFEmS6dmZqjDc8rEmXR4ojos2yBPoOWppbIks2yxMSTPjPibaAi93DRjviosm5ZklUkXlcsWqyKytDNy1PJMfXDSn+dcuS/ultmzC4Ji8yF2WXBMCaSug7glwSmbIGGVML4I0TBuJcTlk/HrBAlFELtyummojsw2yOaWhy9UhibqQxZREXN18nmmGfPNYZma0FS1WHEiNFctn6+WJWrlC4wh6WWSBZrwDJNkXqkkUyvPMshzdGHJmvCM46HZdERmqTS27JJ0g2SuUbJIF5leJs5WhqeUzkg0zpxfFnF5aXhihUxxPCRHG7mIDs9VRqTS0gylPNUUpjBJs8tnxh+JyHk+8oplieuFMUWQvhJi10DcrRC9kYjNJxOXQWwBGb8OYpZB8nIybpUgqQiiCnga/oANkqfhDyj87771f2ioISI53VAflkUFp+nFCqUsyyTPNYVn6MSJammKUbpAD1GUJM8gT0EQDMuqEKSphJcekSiOQxwlS6FDMyvC56nDFaWyzApBupKMrRRfrgtR6MWp6hnpRlmOetbC8qDFBtncz8MylAFJWvkitTydli7QRWaZQtOMkhyTOI5mlc13ZFftiLkeYgoDkzZAbIlo1gaI2RQQw/Z8xRUJo9bBrEJBwlpR/GpRYiEk5UPSakHCWiKuiEjcPO00lClUkkVU4Dy9/HJ1QCoNserANFo6Tx2ZWwqRtDBFHz5fL83RirNVoYuOCIRaSDfAbC2Rcjx8gT4s+7g00yDLVYXlmUCkCcpSy7OV4Qq9MPmoIEEJqcqQNLVMoY1cpAa5lkhRhuYqpZlUOFLJNZFXlMsvpyVxBnnOhxFX/HbWjQtiboXUdQHxBZB8M+oTjFkJsUUw9yZIWBEYvyEodjV56QZStlIUtQLiVqNXRXKBKGk9T8PvbhXT+itPw2kV75kk/u00pCIzNeJMHSGnhKABggYwgPAoJJZKMio3bf9cFEXJUqjwLE1oqkpxnfm27SpZVm3xTgMkqsXzzBGZ2hl5aiK38qZbjVeuURNpptAsSiik0DySgFKBSEME6cgUbXyecf0daog1ya/QhuVRYUmakCRKnvOXqKu2z8mH2FVk0kry0o2ChJWS6E0Qu4KMXS+KXQsJSyGxEOLXQ9J6YfRGCFwCwkXCmQVkbAmRtA6iV6OmHrduumlYOnMuFb5YKxRrAMrv2FO5a58KEssIYTnMqf/ja/otxRQkmGV5emmOHqLr3v97+bzr615+vrJwnRESKGlWrSxZJUk2QHzrX95Vi2Io+fxyNKUmsWbbTxu23UcB6AC0ENl88Dn9mrU6Eo2llIdnqGcm6qRxn0oue3T2dTmxBbK4DaLoIpizDlILiNiNRMJaiFkPsQVBqZuIqOKAuPWCuA0guqKoaN+d2x4kYIlg5lqIK4CE1QiXvKV8Jo3mzK7laXhm8pu2q9kPIb7sN9QQkZQ0WyfNpkIyKHmCCgJaDvzV6hhwdvbYBx326pPKK642ZN/AjPlKASiQ6GGBRhhQ9+5h76jTvPg6xuUqA9BJUnUQT8FMWiDqUR3t+PxzDSn4AqDtwzKm226rb3QMDQwcOU7DjMZ1W7xjFoMAtDLFcUHaS3DZRrgBIpYHzC4KiFsvIvIh8laIXSu6pAgEawLCbhXE50Pyeohfi4YCkvIhcWkA3PjRp2oP47n61h3EJauRvRybTyatgYRpt5QNYblaIBuffNozZrUYTUOUym0bsqrp40IY6Wg7+fuHPyJBJ5LoIVkjnOVt6zVv2eZs6a787SMaco4Wog0gKAPQCEL8jA+9JAA63v+IsbuGDMcd5Wa3w9r3xrtHCBjrGzT+6uETMMckjDoMM+4nF4bALSRxAxlbRMK1QC4VhC0n4lcIiDUAV4I4H+I2QvRqSCmE+NWC2RuBuK6qrq69sbuupq2tvYkMWE5ErSZj2XcJT8Npa1P/M2Gehv9TRD9MBL/f62c/Yq157MmJNNQDtB3+p2u4s+6qG7VkYBkJXe/9e1hvMAqTmKExvQjqX3ieWnyrCWT6xdeX37NXf+syt9NlFhE0BOvi55cfOHh09dbuTz4Z+OxIGRFgqzphq6vSCGcdRTONySFzdcerh8tXFTiHhl4QBN8AV8OPtjz/2uHiHb9ateWXhQU/A+LHjz7z0qYdD0HQTUFwzQOPPley4+dCWA6x+UT8CiJ2vShhA0RtEsatCoLUYbvj5qX3gKyAjC0SxK2D2FWQsmq6dUMlkVi+fceY36G5dvkREB4joZSAoWPqMkHyUNXJ5pfe7aNUPceOGVOuKwWy6d0PVQKwNnfWPPQUBULVjas69Hprpalmw70ehjkC0PzO24zNVUaQRgj8XAiazOssX5SVkoHu5qbS+x7fA7m3rdr7qa5arTX89OEX//lRKUFmv/LKnymDZt3W/SC88vCLH+jN9dt37heGrAmNKxEmFKA3R8CSxx95ZsAyDsIYgMDuAetDj75AEjeRs1kNkafhD9Pg0F15Gv5wsv/OO3M0PLH/dxNpqIY5jNtvnn2lDqJKI+dS0mwNEYC+c0i5kfEz1sGetg8+YLxM7e37Wn7+e3t9JT3/Rt+gUwMhzU8+yzjH+v72b2tTA+Ma7fvbu9Sm7YzPfRRAKUrTyy/TCpKOAPE0zP3Flvv7LU6A6Fdee8/lGf3bPz6raWkc8zAH3/hA80mlSV/dPejdsu2h9z/5rLqyqa/Xsvf//kAI1kH0ekHSSiJuK8SsCYxaHwTXjo17frx0J9INo1cQcUXCxA1oEsk0jylrBcK+EzWN/3hXA4E6OeonVQoVSgjQAIzUVDNOf9WO+7sPv28balcSxMiASydJsTY11f1yf+2qu7y+scZnnqnYtsvT5fCMulSBxNiw7eSu+ygyRTcjhZLkGCDtbYjdEBDf3ta9+6dPl+x6wMMw+x99bvfu31ic7nG7NX/zL11W167dD336oerHa3dZbc7t9z74+bH//665nozZRsYWCqNuDYwuip6/MSVvQ0jEGoAYi8O1Y88jAUGrBVGbIG4Fbyl/Z7OY3h95Gk6vfE879cloaLzm5nGGOQqgl2UZxOgLB2VEeimkGFIv83kZNZGsI4Kb/vZue+kXFTt2OWpO6K68gbENfx4k8DIezTXLSklk/Y20dvX8/ePmZ151NtZTQHxxyeIDETffHFtIxK8KkBWu3vLzrn4bELkM4xZdUkTCrSBMbOloP/D6AZ2xRqUyEILZIlKh1JvocnMopJHByyElX5i0GqKLIC4fEtYiexmuHXANXb9mF8xcDXH5ROx6Iq4QdSxOMw0pIsRed6Lx+Zf0EEZHphtCkg2XzKUD8pQgtDXUN772ukkoLCPB43V9AeC29OgE2fb2rqr777UaqObD7x5B/bCh2qtW+u1jpQBev894w3KVIOGvEQvviVsG0etRBx8sbmtruevep06caDp46D0SriTJtatK7neMDoNktcPDHDh0KIBIi83b4GZcb739IUA6EbsSEtYS8esgqQDNN4peTUYVgWAhTZ2sr28E0Y/IhPWChLVo0JnXDU+7zZzxhTwNz1iE05UAGkXxMP6ax56kIByPKWvCsjSQxPgZNcTQkKKT5+iDcsoAjgcBlXeNa8SuDQaaCK9//sAAra/Ztm+4tqZ8wY/Hh3qPikK9ntEyAK1ssYokuz4/1vrBx8e3/MI97AEiOSC2UBBfDLMKQHSrAJZvLnnQ2mcB8lYf4w+CZEgoEgiuPnbU9Obf34XAK82GphGfY9E1d4HwCq2hanjMe+Oye0SRy8nY9ZCwmUjcgpCXvC4QrrQ5rDct2wnSZdOWe2cAACAASURBVERsPsxeRSTkQ0rx2aIhXlOLYRhXU6uSIClpFp75rBYGdv/739aqNkoUREOsQZSgBpmWFCmJ4NGapspnntUTc2gI8o2OlooEtkGLMWiBu76n/pcP9Bm1da+8QUOoFjKUJHj8ox+LCFd7x6d/+RcJP0LwunQVwIowWCaCq9t6bdt3/byprvfg82+QcA2E5OdevtXu9AVAYlLumtr2TtPJchJyZTEbT7TU1pzoAMFVELc+OHoDEVUCiUWihE0BMP+TT8p6raMguFIUsSIkPh8RM6aEp+F0tadTSJen4SkI6YeJ8i001IqztSDvPf6v8YHmKpHoOMBnAmh56+3+z5UGyGSc3lIS9AJJ05uHLGq1eccvhmtO6hchNadMAMzIeNNTj3wB8C4AY7N/8MUnQoga7HPozJpAQhEAS4HMVJaa/nDw1dWrftk/ZAcIGxtjHnn4T0JyHgE3Mi73m4fev+W2ewMBasw1f/vLsWUrfkaA6LjO8K8Pj4DoSuLSfGHCWojaIIjPD56zEeCaoTHbTav2kjM3kvGFwqRCiC84i2PKk9FQKUjXhAaPjo/1qlQ6UV5ZCJz8w4ujjEdLzHHV17U88yRNzKJIYEbcGpLw9vbT8tSx5qaqR/c3/fShUYYxr1zzOUQMN9e5vG6SvOqWgp8zbuZPh/4B5NVA3HL03/p+hxOI6O6Owft+8bv9j7/q9o7fsPROEObXdXRaXCNF6574ze9fW7vhQcvo2PW33f3YC6+tLPiZyzMCxGUhieuDk5ZDzC1o1hFx9Uf/KrM7x0kyBWAxEKuE0ashsQiSed3wh2ls+K48DX9I6X/nvf+Lhhp5jl6mQLPkZFkUBLd98A//sNVR3ezpHhhvtuhXbihPv8prsx0JgDKI6Pzjq70qjWnH3T3VJvOPrh/tb1dD0AfX5XcNO1vqm/sGRls7bX/+14cQfBtJXldeUWO12KiWRotjQFNhEketXrX1vuY+K0B60dpf2GyOisbmwSFLf4/jmZf+esJU09TVO2oZiM7YoDHoe7qHBm2e6265Q0BeFSRYDeRSgrgFBEthzmoQXt3mcF+35n6YWYBmJiaXEHFFkFgy3bqhRp5lgAQDEG2fHLfWdvU3VTuoE9W3FikBmj5U1tz/cyVcQgnF1pOVZQC9aq0uIq/nyNG6ffd/CuSfH9h/srGnqaPj8F8+0ptPBkABQV6XefUOnUHb0d5a39x05NgXMGcFwKLPKc2dOx4F4rpHnjxc39BU39r6t/c+KzNWXLNsW0Ndc2PHwPZ7H7h25b1VjQ2tre2//OUBgrgSiGuBuB6I6wny8l33PN7W2lBX09LWVtfWNvDo794E0VIytgiSCnnd8DsbxfT+yNNweuV7Bql/Ow0pcVaZJFVLEEcIoGKyjDDnuBDKIIoOmauH2aWh86iZV+qJNBWRYSZSywVJb4bl3S+6ecbsdTBzFQTeDClFofBjgWAJGVGEZr1FrwHiRoBbRClFwXC5AFagz0VmFpLyNUiPC1oiEC2ExEKSvJkQ3gSXrAHBEjJ+rQCuhplFQN4gmLWSDLxqS8m97/71oz8d+sdbh//5zt8++N2zhwDQdBwQ3yCas0aQuAbi8NTrWyBx6XTT0CTN0UkzadEiCuAIAWqAY0DoBEnqGWnHIOgoEVsqnWeUXaYlgw2hcUfI0DeC5j8syLs66DpIKCCJlUhTg6vJwCVCuAF9RZO8lJi9AYS3BML1QC4G4W2QsBFhC24C6W1BlxaD4DYQXAZwZRDcBrAkWL4iAH6EZtUIbhNJVgNcB3AjCG+lyitOVDVXV9VVmMurqmuuX74T4CqAywKENwD8CIj8gEtXsl8u8zQ8gxZzxpfyNDxjEU5XAt9OQ60sxxCCFphSh2XrA7N0ohw6PJGWZZZKk7WiNJU4s1KaawhJeCf8+r2zlwijNqClE2LQ97CQmM9+JLcEEtZBzFr0rVj0KmHC2oCofMHspQFJ60Sz15PxayFuEySuhailRNIGIqYATauO3gizV7JfHBcKY9YTUSWClBWQshbi1hAxBULZhvXFj7x44K/PvfT28wcOP/fin3716wOEYAVELw+M3RicuIFIWQUxa8m4zcIkdp2CszSKMpmlXCHNpWWZlCRFH5zJzsReREtTlRKFUZZzVJqtC01XB2fqJKnPX3LlzjnLApLWCmI3h0fdDjGrBcmrIKZAEF8YFHUHu4ZCEZmQTybkQ0w+xBURUasheSNELYP4opCY9YLogpCkYoheLkwqDJy9iUhYG5C4EWKK0OIUSWvQvOvEVWRiAUSvZb9N3Djvx7cvuHxz9rUlOdf8JO/q7dLkNYLoZQFxG9GHyXEFELcWvXsSlxEp63jdcLra0ymky9PwFIT0w0T5dhoqpQvRrBpZulqSfnzGYq104TE5+yluaFqpLOvwzKt3zLoFTfGdUwixWyBlNZlYIIhbS8bcFhK7jIgrgNkFcOkyUUoRkbQOfSMRXQDR+ZBcEBizCpILIXEdmhAXWyBMXhsYu16QVAgxq0SxKyBxBRG9AU0YTCyB+HxBwnrW7M2HpPUhcRtAthyIpQArAW4VCZaCYAnqJYwtIuMLYc4qNKsmcZ0wcR3ErYb4szamPBkNKXmSQboAfY0XkXNcmlYenF4+Y642cp4pIomWL3pj9o+3zLhFmLhKmLRaGFMIieshoQgxPWY9JK4KnLMWvTMS10LMKqQCR+VD/Hph7O0h0cUQu4mILQ5MWUPEFhMpqxEiY1ZC3BqYvRqSV6Euv9hiiM0XRhdDUgHiYMytgXFb0KTruPVoUYY5y2HmcmFcCTFnrWjWRjJ6DSRuZNewWY6ujdoICSUQX4TGsvgx5R+muaG78jT84WT/P+787TSkZZm60IVoub2I+abwBcbQZPUlea9E3LQ5Kl+Uth4SbgtGusxaMv42Mnk5Ebsa4jYGJhSRCavJRKSAENFolEOYuFWEvpYrgvi1aMJHYiFiYvwa1LCji9C0uPgixLuYlWT8WjKhGKJL0ASaOYWhccXsZ3ZFkLKUiN6ApozEbQhNWBYSuwnBLnaZIHYTzFmGPlVOWA3xy4n4VZCIVFEirlCUWAJRG6bbUtbLFLqINM1MtBAkPUNxIjj9mGzxc7MWFcbkQ3QhkbKOSC6CqJUQuywwfhORsBzmrIH4ZZC0QZSwjkgoJFNXByYUQeIaMrEIDYJHFbAq22pIKIa4wtDYDZC0VJSyHpJZIMYXkYkrEBATNgmS8yFmA0StBiSTAmHiBmHCmoDkTaI57Hh9wioybhUZvYWMvjUgZp0wpUCQiL7PgZj16ML4ZWg9m6iNgqgNPA3/R7OYzp95Gk6ndM8o7W+noUqWVhWWYZTOLZVkvCK9fHPsLWRcAZG0CRLXCxPWsrpJEcQVEMn5ELVOkLIZwS6hgCXaBkgsRG0vtgiSVxGJq1lgrRPEo/GNkKTCwLgCNOybmE8mr4fYjRBfBEmbIX4jmbAeYpcKEzYR8asQ3bBxN2c90nriliONMnkTMveSl6Mvz6KKkG6VUgRJ+aKkOxBSkwsgYR2ywaNXn8XZ15PphqoQhSksVy/JVspynrnkmuUx+RBfIEhcI0rYBKmFaI3FxEJAuUIqcGDUeiKuQJC4iQXTcojdIIhaQ8ZtQkKbvZKdG7hekFBEzr5dGFuAXhVxRURcATlnY2DcZjIZiQipzDElZOompGXHLYekfEHc7ZC8lowtIuLXoY/t4tZBXJEwfn1AUgESXeIG1FORvAWi15GJBURcoTCuRBBfiEzyxEL05SKvG55Rqzmji3kanpH4pu9itKrdODPOjNU/9kQZzCqXJullGdqw+Z/KFv1m1jU3xS2dgZZQ3QAxG5H5mcQuqoqXVj3DfcxKpBPFrERmchwytCF+DTo+w2S/upyEy+oaO3zM8FfL9rGu5BD5pxjQZ4s+hnG6263HAdQRiSZxuk6e81HYov0zrr427jY5WiuhGKI2o4nfyZPnP2YlUoETC1A/QDRaTgbi1yBOJeSjTgZk8q9CRnH0CmHyWnT8VUGm6UBE3rL/8Ve9DOtEEInF52fGWSerU5QPH33qEuBpOHWZfT9XsJQYZ5j6/3uUgvB/QsSDovlXim4kiCVoCotoCSFcIoSlIlgCcAu7LQF0fKabULBcKFgOcAPAzQJyGd7OPNkJKaTX1DX7kQ8ALEe2nF+hcSqidQ+zzvl6GxvLgPgXEf8YXDmDvE4ES1EnpmAJkEsESD5LgbwNRMsnZOBrIrqZgKVskW8JDloDcCsBSwXkMoBbsVQJWCoSrmDPLCEJNHA8rRtJXvaLB57xsTRk/Sj7kLOE05HPVGTJx2UlwNPwHH0QWJe7vnH/qPLTT9548U/PvfL2Hw++/ftXXn/xpXdeevHQyy/+6cBLrz13EG0vvvzWywfePvjSO2dle/Xgnw+88NarB//84vNvvvDHN9C9Drx9FtN/+unDvYNW7HaUFb0POVw+jdaO/Ieir3Wc3aOvP/P87185/Pxb77/40jsvvnDowIFDL778xouv/OnAq2+g7eChl1+eVDivHvzzwZfeeeXlw7iMeP/Si4deefnwwZfeefnA21gCr73yFyyZsyLk70jkD8+9+8nnKjfrRgstgO33er1TdjZ9jj7T53y2eBqe21XkY/xujwc5U/Yw4+MM+sOuDc86Qka+yFH2fYzf42HcZ2XzMh5u8zDuicdnJX3kEvMrN8putxsvXOZHLuqnGPyowON+Zpxh3IiLPq/bM4Z6F1ilk3N1j5bSR+7nvyPzuIwexu1mxr1I1KjU4/6xiZeM+Ua9yHfd+MST03Hs/Uo+yA8E4qCPYXw+3lSe4tNxetF5Gp6e3L6Hq9yomfvcXoYZZRuDh3WYibyIsO5EvKjlfwVHpCWdtYCccjDM3//+d26k4qwljfKOPB5hXdDv9+N27vGMT/UWHq/Lw4wzHs+4f5TxsGqim31FsH6ovaxkPMjV/VcW+SQ3mAgajwdBuba21uv9j0DHx1HesEwmnp8kvTM/7cIOXxDPv3pJcAdnnjqfwndIgKfhdwjnh/xpjO1Pww4k/QgbCHyokWKWoLbCLn/InsGI/M9PXJzTOPAh1pabzMuW3qYqU2Iz9ktj9jRS++YlbI8YcpbHNnWW86cxhsJKA9WPh2FGEQuxtc2i8EsHzX6WhB4ktLGJcvtalnx+P6es+pmOtvZbbrq5vbWN8TNeN+vaFIuaFcvZkfDXMvDf//r9Lo93FNX4hHcGW6If8mm8SO7N0/AcrWgMvi9VFBYXrL7jdXtHvb4x5E3N7/Uj3cfjRZbd2H+3qdNvtm6Pb9jp2rL1jn33/GRTccnA4JDH6z+LKGAYxj3uZxiPzz/u9bBI9yPPcFMOfmYUWbWsc3pkfjNjyD0zw9qz7nFk1aJbIP0awfB/yMft8Xl9yITfd89Pdu3eu3vPPg9abJfh9h7vRGaevnj/ZzWxuiyyjr9833mxbE7nhTFlkV70F/A0PEcfAR/bzhENfV6v1+lhXKzh7EfKFKsKMT6sMrJmM7LwUBM6K9v99//s7rt37Nmza+fO7bt27fR4xsfHR89KyigRFuEspNzoGGXf4/mPYXrK1YH7TD0oJTszwiAHzT5WRGxOJ/IVS2xy4bBaqs/rdR848MIdd2zdu3f3zp3bn3vuD/g8AhNybuxjzfmzI+HvEqYb64Rf+g51jbJ9CBOLc8oS4iNOVQI8DacqsQsnPu4L4zrFEFB9vqeffnrbtm333nvvPjbs3LnzV7/61djY2NeK7fMhSHMpfO3Xc/lfv9/vdru9Xi8am2ANdVyKjz76aMuWLbt37967d+8999yzbdu2w4cPT+xV/F46Dc9lyV34eeNpeOHX8XeUkMOZ3+8fGxvDKNy5c+fevXv37Nmziw133333fffdZ7PZkC7KzvjACXJjIN+R/rnzEy4pRzeu4DiH77//fklJyb333nvPPffs27fv3nvv3bt379atWzEQz1PunzvCP19ywtPwfKmpacknHkX1eDwDAwP79u0rKSnZunXr7t279+3bt2fPnvvuu+/ee+/dvHnz1q1bb7/99urqar/fjy9h53+chn07LaU4lUQ5DnKRMRD9fv8rr7xSXFy8Y8eO4uLinTt37tq1a8eOHSUlJbfffntJScmTTz45MjLyzcu5dPiDC0YCPA0vmKqcWkHcbPB6vaOjo++9996yZct++9vffvzxxx0dHQzD7Nq1a+/evb/+9a8Zhunq6jp27NgLL7xQXFx84MCB4eFhrCRONLGndu9zI7bH42lubi4pKdm4ceP+/fs//fRTm822gw2HDh3q7+8/cuTIU089VVxcvGrVKpPJxAPx3Ki3acwFT8NpFO65n7TP5xsaGsJWMJdbv9+/c+fOHTt2/OY3v8H9axz4hoeHLRbL18xM7sJz+cDt/vKLDqzb+ny+5uZmo9HY3t4+Pj7O/VpcXLxr165Dhw5xZfF4PJ2dnVVVVc3NzedjwbmC8Af/UwI8Df+niC6iCFwH2b59+3bv3r1//348tIIHEDjTkpPIeUcHnGE8BISLNtH2ZximpKRk27Zt77zzDldGfHDelfRr+ef/PRUJ8DQ8FSldgHEw+LhGjs1A/K/f79+2bdv27dt/85vfcCXH8blxVe6Ai3DuH3g8Hmzjc6XmdF7uoLi4eNu2bYcOHeLGiLjxdK7D9NwvKZ/D05MAT8PTk9t5fxXGH6f0TewU83q9e/fu3blz56OPPorLyVES/8vZleeRFCbiG5NuIhNxQbxe79atW3fs2PHWW29NLDj65IX9aG9iIudR2fmsnqIEeBqeoqAulmi4we/evXvnzp2cbojxgSfoceoVN5byNdF88/zES7B9yu2/du23/vs1Fk+c5fOt8ad08mtMLCkp2b1798R+wymlxkc+ryXA0/C8rr5pybzH49mzZ8/u3bsff/xxbEKeFSPxm5TEiX+t5+47isRl46zraD4f+rKHYZgtW7bcddddhw8f/o5s8D9dqBLgaXih1uzpl8vn8+3du/fuu+9+/PHH8Zjy1xQonPS30o27q5cNHGW481874/F4Th1tXDYmKptneMyVBR8UFxfffffdb775Jpdh/uDikQBPw4unrk+ppD6fz+Px7N69e8eOHU888cT/vGai+Twx8mSQwnG4bkpuBs/Eaycec6zEB/h2EyOc4TEm7Dgb3G73tm3b7rzzzm+OKZ/hXfjLzwsJ8DQ8L6rp+87k7t279+zZ88ADD7S3t9fV1dXW1lZXV1dVVVVUVJhMJoPBoNVqaZqmKEqpVJaVlR09evSzzz776KOPPvjgg/fee+/dd99955133n777TfffPO11147ePDgiy+++Mc//vG555773e9+94c//OGZZ5554oknnn766WefffaRRx4ZGhr6jhJyE2L8fv8//vGPJ5544tlnn/39WQpPPfXUM8888+yzzz799NPPPPPMnj17tm3b9vbbb39HfvifLlQJ8DS8UGv2NMuFdSXcb7hz585NmzZt3LixpKRkMxtK2LDlq7D1q3A7G+6444472XDXf4dtE8LOnTu3b99+xx133H333XfeeefevXs3b97c398/WXa/Nn598ODBu+66a/v27ZvOUli3bl1JSQku5saNG4uLizdt2vT6669Plh/+/AUsAZ6GF3Dlnn7RHn744QcffPCRRx558MEHH3vssf8/1ebBBx98iA0PP/zwI4888uijj+6fEB599NFH2PAwGx566KFHJw/79+9/7LHH9u/f/4tf/GLPnj1btmz5Dhp+rQwvv/zyjh07/v8n1W1nKbS3t3d0dDQ1NeH0WltbW1pa+vr6vnZf/t+LQQI8DS+GWp5aGfGCV/garCpynXcTE+J6Biee5I4n60/E5/EtKioq7rjjji1btgwODnIXfu0AL8SP+xk9Hs/Bgwd37NixZ88e7u5neIBvx6XPTcP+Wjb4fy8GCfA0vBhq+WyU0cuMoOWlPWiRaS8z7nYynjF2gdWpJe5hkI8D1uGd21Ch37x1W9GGrX2WSWmIV7Zl1/1Ga64+99KLt+/YtvdnP5naXSePPYr4h6Y/olt4WE8qft+o1zX5FfwvF6wEeBpesFV71guGPs5jEBHRstxo1erTWggauy5B69wzFYbyO7cUF28otFuGJl0OeoLTEsbjff3gK3vv3vWTvfsmjT/VXHlZVwr+cex570tvVQi8fLjoJMDT8KKr8tMrsG98DGl0frxDe+TDD62Sj/6c+ubxMqwDEq/Px+h0uq23b9hcUmQZ7J8sBY8PuX/x+Nx4Xf7XXj24Y/tdP/3JPZPFn/J5xs26b0da4Tjrdwu5JORpeHpPyXl+FU/D87wCv6/suzyjY6OIZH4v42F8rKMnxu/7Upc69Vy4WT8u2FmSwVhx+9ZtJZvvGLI4JkvBwyCnydjLMMMwL710cMe2nfv27J0s/lTPsy6Yse+9EcaP7GVkO/NOmaYqxwsiPk/DC6Iap78QXgY5dWL8zKjTM9LX5LRZ/QMW10DXmNU2pc094Bjr7x/p6fYO2CtKVXs2b9y5oaivrnGyRNwWp6vP5hm0ey02n2Xo7eeeu//2rQ/suHOy+FM97x7oHHeOMT6fn3Eh2COd14d8WfHh4pMAT8OLr85Pq8SsN05mnHF1ffTB0SBRGQTpILiMhDIgprRpgkAJAjUEKwkoBTCSsQaI15HSyRJRCkBFgkZEqICkIFhPzqgKTDBA9GTxp3peBxFd7/6T7QNwIxUUHfEwPK1H5Py/iKfh+V+H30sJkN6ENCd3378/LwOhRpapC80yhqXqJZlT2+QLdeGZtDRVI83Vh+eZZ2RqJIkGec5kiWhkmZQknZKka+VZqrC5+F+1OG2y+FM9rxRA88cfokETt3eMHV72M+4xL28qfy9P1Tl2E56G51iFnLPZwSMMjGfw4yM6ILUzcujgLHVElkaumNJGSbPKQlMpaZYxcj4lVmhlObQkRyeeN1kiOkmuVpbDRsvWSBX68DyNPIeWTe2mkyWukSuMBNn570+RRugeR77p/eN+xoVcu/Ph4pMAT8OLr85Pq8Rf8cHX9ckxNYBKlqWTZmtlCipcYQrNoMNilbIcXWQGJUvTh+aYZQqdJNVwyWU6cQYln2+SZutCFBpxerlYoZVnaOVZtCSHDknXSBW68Pna8Llm+TxKnqCUKAzSZPUleUpJllZyhSE0vVSSqQ3J1ISnUZJ0dVhGxcw0nXgBLU7WyhdpZOlG6YJK6aJj0hStJMMQfkVpcIY6PKdq1rzP5HP10hyDGNFTNWOhUpatC03XhGdopNlKaaZOnquTJVfKs9URi3TBC2iAzo8/Y0uHOw29fJ/haT0gF8JFPA0vhFr8HsowGQ3VMoVWpjCKF9LhuaWSBWrxPKV0vlaeoZInqQOSjbKFZRE5OolCG55dFp5mlOXoZRlqxMQsKmxeedAidUSGdkYOJc3Wh2Vr5VnGiLmlkXk6icIgm4uAOyNJI802yNLUcmSPH5fNL5+RZ5BmlUlS6YhMgzyTkibrQjMN0gxtWIJSnqsLT6eDFVpJhlaeQQUrqOBckzzXHJ5NSTMqg3LU4XNNkRmmUMRi7aU5htAUvTiNp+H38PCcL7fgaXi+1NQPnM/JaGgU59GR8zWhufQlGdXi+VRQJi3NNYZl0MELKsS5x8OzVGFJlHiRRp6lDstWh11mEC80SBVHZmfpxBlGWY5aNs8QhsxkbXi2QZqlDlugjVisCUvWSFLMoQpleKY6LFsbNl8jzqSkV5jD5peFp5hk80vFeWqZokyaqZIvpiLTy8SZWvmCY+HZ2rBMc1i2IXQRi11kxevFilKpQidPpCJyDJE56rCFupB5aklmqThFHa5Qh6fyNPyBH6xz6fY8Dc+l2jiH8zIZDdWSTGP41drQVG1QqlqQrIK4srAEnTRbM2MeTchUIfEaWbohIk8jVVCC5DJipk6arodZOmFqqSRDK042SObrJQuVZLQeotThCn1kikaWXkEu/AKij5M5ekm2MixDMzNbR0ToQtONoTkmWSaypiMy9LKs8uAcSppMh+RowtPKgueWS9IoaZYuIq9SlkFL5xlDsw0ReaVShT4y3RCEejm1gqTSoLl0WJo6NO/oJQuo4FTDTAVPw3P4ofu+s8bT8PuW+Hl6v0lpKFPoJZkqADWQ2oIifVEJJQIVKS4NuKThT4fKg5IqApK08iyTKNWYfkPr268bANreeNEQlasMStXK5x0LTaEg3ZhfUPfkCxpBDB2cQQtEGnlORcG2ilvyNaSgHBK1RGjPy29Swcm0KNUgSVVHzNPJFtHSjArxvApJjkqSbBArTBHZBnk2fUm2ORyNO6vk2aoQhU6eowxPMYrzNKCgQVKdv8mYtFgLgUpxokHyI31Yhl6aw9PwPH0gpyPbPA2nQ6oXYJqT0ZCSpSlB0Pfn9xmXxV6uHStv8I/Y6l9/6zgA42PKQfGFgNCRwmMwo3rzdvvoQBkpZcb92uzbqMC5ekhVA2hA0Pr4s46ullIAHYDVRA/b+vo1tK3l5KhlsOKXD2og2MOMai/N/kKQcBzijoDwOICGjKBhRlnwPCURfBRAKYrXhuXpAMpA+gWZqo+cpw/PNUvSqMh0vWC+ZublTkeXpbrcPeSoe+nlMlGoWpZbLlbopJk8DS/Ah/V0i8TT8HQld5FdNxkNdRBU/+bbI6ODOgjUEAFKgjRcc3WPUn0UwDU6XrPprnaNvvtv7x0NJChiYcsb738kEIy5RisV15eKoOqOvW20rv6TfzT//sWhhtpjILJXVPfXVSqJYApALYDK+37V8uF7ZSQwLrtRklUWIKy585e9Sn33p/+sf+iJ1gMHjwN0/f1fHV8cMeddSYmCOv76z77P/qW74lotJCnlGQZ5tkmyQEvMMT3xu6F//LlMEFSzer1tsMMgDFCGZ5ojMumIbJ6GF9mD/F3F5Wn4XdLhf+MkMBkNjwmE44PDJ+7fezwgUhOZqxfnKoWJBggsBXA7nd4eIP9GEgAAGO1JREFUW/ldW+1VDf1lZTqYxdiHlEhnHDbL55389VPM6Gjtw/tPPPk84x0drK2hIYQZ96hAqCWzdLIFphmL9MQcGoLVIPJ53aUCafOBtxjnWNN9j9S88ILf7++qKW18+Z0xY3XbW39vffnlhudftVUZW9441PD662XkHFo+VxOWRYmzKiXzNYGzj0Fw45/+NGq3d/35/VIAOvTKCpmClmbwNOSqmD/gacg/A6ckgcloWAbg9Q+brtugggS1/DKTPEsflqUOzSsjwO8eNywvLhOBvuQO94BNDaLxocFPAfxOhxkEzEBP/V0/UwVBGYjb3nh9sKFNTaQxXuZTAIM42yhdUBqWoQzPLJVk0gTp9fuOgNDrchs27y0ngilSUPXOXyxmY+Mvf82M+Mo37igDKP+/hxhm7MTO+ygASp6nE2fQ0lw64rKymSlKMpaC4Kp9v7JXn3TVNRwPFCplyeqwDDo8l6fhKVX/xRGJp+HFUc9nXMrJaHgMRM62ps7XXtORIrUwXi3K1AUEfgagI0Uel5cOSSmHmIrrCjy9nRQRZLc6PgERMz56DGDYM6j90VIlGa+H0MoHHnHWN9EBBMO49QXFFBFESWbTkH4cQIm6AoMYq0MPwHgcmpyrtRBTBlD/zFPDVTX/JsUn7t3h9TAtrzx3DKBq5z1jY67G9w+rAbSyPLM4rzwsp0yQfGLvzzSXXXcU5BQEME6ndkkRDfHGsMvMYn5M+YyfjAsoAZ6GF1BlTmdRJqOhjkg05G/zM+6ml/+ohQADyDs++NA9bEGjKP4xE5GuhSTzLSu8w/1qgBF77xdAekbGKcht//B9Z0+LRhhVMfeWEbttuKmcBqL+hef9jKf2Zw9QAMa0+a7yhl5THQ3AMC5KQPR+RttbmighVOQuYUbsAwbdiV8+VHn9qsY/v2stP9H004fM+bfXvvqKraHeBJGUWKGKzFDJU8uA6Pn0C1dNmwqENT/b77ePlQJoJWnq8Dy+33A6H5nzL22ehudfnf0gOZ6MhtrIBRrBDGr12vaqcktLi6e9uUtz3Jh9qxICxupajMJsA6Trr1pmM9eUAbgrK+kAGK1vLk+7UgUBLR9+5G9vHm2u7fzko4EvyvQQoIfAqn2/ctQ12tvaO5qaBj76yABxykAYaKyjZ6VpCWH3RxpXU4etoWbguHbwX0cqHvmVs63J2dShvGHlid8+5W23Dje1lm8oVgMcAYGOHaTWAkkD9KhVg21NzoZm4/LbKXIWJZ+vCk9XyebxlvIP8jidmzflaXhu1ss5l6vJaEjLF6nFCgoS1IRAQ4AGQImW+YpXhmceA5ExMP1IRPZxYaohIEIjSqYhTC9L1EKoGmaXyjJRBx8ppIFUg4wSkqWSeHX4XD3MKiMC1BCoAtAJQS+aq5NmfkaSKmGGQZ55FIRlEIYuBPIYITgB6Z8AHBMQxyCNAqmKFGgBdDeu6T9RbjEbXRV6e6WxT2c+IgQjAA1hGghUk0nHxRmGoGx18GKTjP8y75x70n7ADPE0/AGFfz7dejIa6sKzDcGpFTKFKixJF55tkl5Oh+Tow+erpNl0ZLpallgqRp8tGyQ52oj00vB4lSxNFaGgpFegZRfkeXRoEi3JMcyYf1yWSoel6mUKrWSxNjz3c3mGSZ5Lh8w1habp5ZdREWmaiPlGyaKj8mS1fKEqIlV56XyDPKViRrZZnEeH5GllOeawdG1IpiEkk56zgL6+QHXDCtUNKyqu3aC7+WYNmay7NEsbmmQSZ6pk81TheTp5rj4sSxuZyOuG59NTOM155Wk4zQK+UJKfjIZ6ccoX8txSeYpeMl8rX0RL09Sy3GOhSabQNDpkrkqWUS7O0kTG0uKF5cEpqohkgyzNHJSrQ98Uo1ULaXEyPWMRLU01yXPLLknVSlO1YXN1wUm6WXllklxN+BWUJEcTkWKOyEBrQwQm6OSxmjC08o1Glq6VpKGBY3m6UZ6mDU3WyhTq8DyUh7AMFZmkESzWQpoaMnXCZLNssSZMoQnPUEvS9ZL0itBMrTibli8uk/C64YXygJ6NcvA0PBtSvAjSmIyG6HNgyXyNLLNMkmoOS6fCs0wROWZ5OhU5XxN+WakkUxeSq5PnGKVpKvllOvk8U0S2WqygI+ebwrJVM1JU4gylNF0pzaRkizXyVF1Yjj5iER2aqQ6aqxJnVEoV2rA8lTxXHZ5aHop0Rk1oWlloqkE2TxWZoRSn6GRo1RwqfJFOnqsUp5hkedrwuTpxFh2apIlYWBmmMMnyjokTjdIFlCxNPTMZra8TnKOWpJvCUrQz8vTyy3jd8CJ4eE+1iDwNT1VSF3m8UWYcLZTPjLV/UqYiBWUR89Vh2brwbFqmOK83gwDaPvnQg12+MIzX72MYt3/Kzq8u8qfjAik+T8MLpCKnuxhjjBv5DGHG2j7+/DiQdARCoVk6l129Fa0neJ5uaqGo4+NP0AqvbuQOxefxIiepvCOA6X6ezsn0eRqek9VyDmbKi/xqjjOu9vf/UkqAHgKM7Od3FAjP600JM/v//pmHYVy+EcRED0Iirxqegw/g95Alnobfg5AvjFuw+pKfGe/q6T/2aZdGNagyDmg1PbTuvN66VEcG+ntZD8pjqG8UaYZ+v/+rbtILo+r4UpyaBHganpqc+Fisc03Uc4hA4RllvH7siB07ij+P96ggjN/DMCwNv/QeypvKF+MTz9PwYqz10yqzh2E8fj/D9q6xCbDE8KH+tvN58zPjyEUeKp3H40NQZJgx3+hpiYi/6PyWAE/D87v+vr/c+xmPD/mTG2cYn5vVEJEvdgSS83sbZwvg8zFu3GnIIKsZqYp8uOgkwNPwoqvy0yywh3F5kE/lUS8C4hjjZ/wuN+M6z1nIjDLMuGeM8aGewlGGnUTk9TFeXjc8zcfkvL6Mp+F5XX185nkJ8BI4axLgaXjWRMknxEuAl8B5LQGehud19fGZ5yXAS+CsSYCn4VkTJZ8QLwFeAue1BHgantfVx2eelwAvgbMmAZ6GZ02UfEK8BHgJnNcS4Gl4Xlcfn3leArwEzpoEeBqeNVHyCfES4CVwXksAbFMMVqvVbrfbbDan02m32wcGBhxssNvtDofDarUODQ0NDw9zBzabbWhoyOl0Dg8PDw0N4WhDQ0M2m214eHhwcBAf4whcyjabzWKxcPFtNpvD4cC/4gy4XC6bzWa1WoeHhx0OB07NbrcPDg7i46GhIZwHq9U6MjIyPDxssVhGRka4kziTVqsVpzw0NGSxWBwOB84PLgXOrdPpxLewWq0Tc4Ilh/MzNDTkcDiG2WC32/FJLBlcCisbhoeHuTSxDPGvFotleHiYqwp8I5wHnE+73T4yMsIJDaeMU8O342SFi4BTwPLBNcVJiatB7nZfO7B/W/B6vWgxA3Y5A7fbzbAB/4uP+T0vgfNdAlOmIW6cuFk6HA6LxWL7KuBGhM/Y7XYMCI5KGHBcU8SRcWoOhwNTzG63WywW3JIxpDhmcfDFF+LUMFBwO8eJYDRgUHKkGx4edjqdmBcctfG1+F64BBiUTqcTQwSfHBwcxOjhMMoVk8MopjDOhtPptNlsOE5/fz9ODf87MDCAi4ljcoXFBxzcsdxwxrAY8U8TiWm32zEKMbvxewKTGtMQcx/nkMun1WrFxOfif1V1X/+LMzxxPzY25na7vV60boPP9+WiBtwBwwdeAue/BKZMQ1bF+VJF6u/vx4zgFBPcbm1swDDi4lutVg40WIscHh4eGRmZ2ODxJTabbWRkBOuGGLi4WbpcLnyAWTwRZJgUTjZgnmKEYWrg/GBM4NtZ2IDVVcxrjGlcHIxUjHVMLqzD4rtjHRBjBau0+F4Wi8Xlcg0NDXHIw/9iGGF84/zgFDAE8d2xBo31XLvdjpGK/8VKK5YMxzUsZ+5txMnQYrHY7fbx8XH8bsCF4nRV7oWEc4jF8h37iTR0OBxOp3N8/D9L//n9fgxHhg+8BC4ICUyZhhhkWLnAe3yGo8nIyAhuzJhWnK6HlTvc7LnLJ/IFqzm4hdfV1TU1NWHz1ul0YjJaLJaBgQGtVmu1WrHKhlGL0eZ0OgcHB61WK2YQZhmmQ0tLS21tLYcGTkm0scHhcLhcLkw0Djc4M1gzHRkZwSTlyIWzjW+B4zidzurq6vb2dk4OmPX4Ervd3tnZWV9fjyk2sbuAUzwxbnAEDF+r1TowMIAlNjAwgA12rORijmMJYyHg80NDQy6XC8sBIxLLE8fBxjiuHVz2U9njwnJ38X+19p+PDQwfeAlcKBI4HRpiZGAFBzd+rq8K25hYkeFAgJsuVrLwTxiRX7Nq8UncYhsbG5uampxOJ+4s40ja19dHURQGEO46xCCbqCfiZPEZDLXm5uaGhoaJvYqYkhiyXF8eptvo6OjXDEkczcYGi8WCFSucPtdR6HQ6Kysr29ra8N3xfbEmiIvc1tZ24sQJTnvl4MXJCmPRZrONjo5yqh/Xm8n1yXJm9UTFEL8DOOFjLZVTLQcHB4eHh7FmzdUdLs6p77HWjLPn/yowfOAlcAFJYMo0xByx2WzNzc0YHwMDA62trbiZ9fT0dHd3t7S0DAwMYA2ora2NY2VLS0tHR0dvby/GTVdXFwaN1WptaGjAqWHK1NTUtLS0dHd3t7e3t7S0YJJaLJba2lqdTtfU1ORwOEZHR7u6uk6ePNnU1ISpYWNDf39/a2trfX19V1cXvnVDQ0NTU1Nvb29dXV1nZycGkNVqbW5ubmpqwvZjfX19b29va2tre3u7w+Ho7++vq6vr6urCdMaXtLa21tXV9fX1dXR0DAwMDA0NtbW1NTU1dXR0tLS0GAyGEydOdHZ2Ypx1dHQ0Nja2tLRgPjY3N2MaDg0N9fX1NTY2tra29vX11dfXDwwMWK3W7u5unPjAwIDFYmlubu7o6MBqKY6AewO6u7ubmpqam5t7enq4rtK+vr4mNnR0dGBucqJraGjo6+tzOp2dnZ24XrDyiGX1zT3WAb95nnvHOBwOLzuiwvCBl8CFJYEp09Bms2E7Tq1WY+S1trZqNBo8AFpVVdXZ2dnQ0HDy5EmsEqpUqvb2dpvN1tPTo9frW1pajEYjVlvwv1iNoml6aGgI9/07nc76+nqKokwmU0tLS1VVFUVR2GBsbm7WarVtbW1DQ0ONjY1arbaxsbGhoUGpVGL7t6enR61W19bWtrW1GY3GiooKu93e3t6uUqkqKiqampp0Oh2mZGVlZU1NTVVVVU1NjdVqVSqVWq22ublZo9FUV1ebzeampiaapjEce3p6KIqqqanp6OigaZqiKIwblUpVXV3d1dXV2dlpNptramp6e3utVis+39LSUlFRgQXV1NRUV1fncrlaW1tLS0vr6uqam5txUg6Ho6enx2AwtLS06HQ6q9Wq0WgaGxvLy8ux6HDRhoaG2tvb8csA5/PkyZM2m62rq0un09XW1jY2Nup0uoaGBpvN1tHRoVarKyoq6urqaJouLy+vrKxsbGxUKpU9PT22yQOm4TeZiO1lrLR62bGUC6sh8KXhJcCcDg2xwlVVVdXc3Gy32w0Gg9lsxkZiWVmZ3W7v6emhadput7e2tup0OrPZ7HK5sCE5MjKi1Wp7e3u7uro0Go1erx8eHj558iTWm7D1bbPZ6uvrT5w4gbXF4eHh6urquro6PKFHo9Fgm1epVHZ1dXWzoba21mw2u91unU7X3d2Np9RYrdaWlhasxuIbYXXSaDQ6nc7y8vLGxkY8XNPX16fRaHB3W1tbG0az3W5vaWmpqamx2WwYJZyZiYmM2WS327G1bjabu7u77XZ7VVVVa2ur2+3Gg7xYcW5tbcVlVKlUeNTYZrP19/drNBr8qqBpur+/H78nMLPwUDiWNu5CpSiqr6+P68jr7OwcGRkxmUxYJcTKeFlZmcViaW1tNRgMWJ51dXVmsxn3AJhMJqytT8bDyWjIDVhbrVbfV2PK/q/6EPmWxEvgApDAlGmILUfcRE0mU29vr8Fg6O3tNRqNDQ0NdXV1WImrqKjo6+tTq9X9/f1ms7m/v1+v1+N+/ZMnT9bV1VVUVLS1tZWXl3d0dGi1WowGzIKRkZGamprGxkauq6utra2iogKbwzRNDw8Pd3V1GQyGWjbU1dWdZIPD4VAqlZxegzv1HA4Htojx+G9nZ6fJZMKmd2VlpVar7evr6+/vV6vVOEJXV5der8dDNy0tLZWVlVarlaZpPD0FjxHV1tZ2dXXhXHGdj+Xl5a2trU6nU6PRYPVz4jSgxsbG6upqrPfhnko8Mo4p7HA42tvb9Xo91qkHBgZ0Ol1FRQXuo8Tx+/v7KYrixqlxP+PQ0BDGKzdMbDKZurq6Ojo6amtrMTebm5tPnjyJuyxPnjyJ32GT0XDieXw5pxVyvZncfEMOixdAS+CLwEsAJj7xp3KMdQTce1hRUaFSqbq6umw2m9FoxGTBXWx9fX00TZvNZpvN1tLSQlFUfX091q0sFgtFUVqtltMiKysrsV6DR4qdTmdDQ4PBYOD0EaPR2Nraik1vo9GIx5TVarXVah0bG8NKXHNzs9PpNBgM+MBisfT19VVUVNhsNty3iMcWMA2xdul0OrHlbrFYtFot1sV6e3vLy8sxyDo6OiorK10uV0VFRWVlJTezR6VSYUu5vLx8dHQUD1+YzebOzk6Hw3Hy5MmamhpulOnEiRP9/f3Nzc01NTUWi0WlUvX19eGk+vr6sCrHzUJXq9X4dTIyMmI0GltaWsbGxnB8u92uUqmwPjg4ONje3o7vUlVV1djYiGGH30C4c6C2thYLHNMQvxs4Gk5W17jfdiITuWP808jICG8p8+C4ICUwZd2QmymNO6ew3Wq32xsaGqqqqnAnIJ4sQtM0Np8HBwdx3xmecuh0Ok0mU2NjIx4axrYtnj5SW1urVCpHRkZOnjypZUNNTQ1N09XV1ZiMQ0NDZWVleGyhqamJoiij0Wg2m3U6He5cs1gsOp0O9/2p1WpsC9fV1TU0NOBB2L6+Pr1e73A4zGZzeXk5RVFtbW1WqxWb0iMjI21tbZWVlVh5bG5urq6uxlqYTqfT6/Xl5eVKpRJ3PnZ0dFRXVzudTjzKUVlZiY30gYEBs9ms0WgqKyt1Oh3Wy5qammpqaux2O35PlJeXV1VV0TSt0+mwYUtRlNlsNhqNmGhGo1Gj0fT19Q0PDyuVypqaGpfLhbsXzGZzZWUlTdOdnZ1YhzUajSaTqaqqiuulbW1traqqwjlvamqaqBviMSiOcadywA2UDw8Pu91uPxsuyPbAF+pilgBM7Cc6lePh4WH8iQUe4sQgwDYs3mPGORyOvr4+7uMHbDliHWpoaAhP28YTUPAQKp5yjGcOchOYe3t7e3p6cE8ZN7ra2dmJp7m43e4BNnR3d2PFB4/k2Gw2fH5wcBBPZMEfgeCJJna7vbe3FytNXV1duCxDQ0M9PT3cAPfg4CBu/xaLpaenB5cIm+ednZ04fTx/qKenh5uw3dPTww0EYSn19fXhLxfx0BOeM4iVsp6ens7Ozv7+/r6+vsHBwdHRUYvFghPHXYScPmi327u6urjJOjabrbe3F09s5OYeDg8PY0Fh9Q1XBC6v1Wrt6+vDHZp2u727uxvXy2R1PRGOE/VH/LIZHR3F1rGf7zG8mLFxgZZ9yroh1v64b9G4qby4ueL2g0cJ8E8YSbiNYazgrzhwJxQelcbxORjhhjo4OGixWLhvhHEKmGKYRNhwxn2ReMoOlzLuaMN6E77pxCmEOJPc/O2BgQHu+2VOt8Up4JxwMwGxKY2NetwhgAd2MINwXyrOA2Yc94ketpox5nBO8Gc5I199isNJBs8wx3fEczlxTJzU0NAQNw0bd+ByHRfctCH8XsEF4YrD5QTHx8L81v03KclFc7lceG4Nj0KGDxeiBKZMQzzwilsIbjkYLrgvj2vw3Ee4OCbHUMwCTot0uVx45ATPkuMmNmOrlmMfjoN1RpwCN/cYUwAbtpxCh+GC1RkcE0MKR5tIBI6SXAoc8jBWcFJ47KK/vx9H43DMZR53DuBi4qFhrA/iTkDcqYdxiXsMue9b+vv7sQBxrrCmyWUGiwX/i6WBIY7phsfcMYvxWwGb7cPDw3jOI0dV/L7BGcASw/Vy6vuRkRGPB/nV9Pv9Pn5MmeHDBSiB/9fO2a1IDMJQeN//ca0xkdR1oR9zkA5d2F4tu81FSdWc/BSdDBo/7Ifk7tu2RYS7t9aQhqHgodbq7uzPmllEUFJCY0RoMJOW0zBgRgSbtjAA0mJmHGTRytJ7J/2kC43tIBWxuTu9mVlKMTM/CB7x1lrvXWaAz19v1iySQXdHCntI90opEcECSm0MLvNEl3qlQvEhOBpQa8VxTCJuchwGTH5FKP4jLHwId8cePGWNVkxqreKvPjv4788xhlLCz4X+4Jx4XPqvEbh/v+G+78wQTZI1ZaBRU4jXNa0g4BKZc/beGfbNliVKrz4WaHnQCR9MjoZI6TuTmXJnvi5roSCXSwoksuKrNkOWjzGUScGQVcnB9cqDk0ZeJXXSCA7aM5NeRDRyP2jOKXuuIna7HRWr5behHsEnAr8kAl/2GZ9QDOhbbQAAAABJRU5ErkJggg==)"
      ],
      "metadata": {
        "id": "b8eB--AFdkd8"
      }
    },
    {
      "cell_type": "markdown",
      "source": [
        "#Multiple Inheritance:"
      ],
      "metadata": {
        "id": "JVsCsGo9cZOv"
      }
    },
    {
      "cell_type": "code",
      "source": [
        "class Base1:\n",
        "    pass\n",
        "\n",
        "class Base2:\n",
        "    pass\n",
        "\n",
        "class Derived(Base1, Base2):\n",
        "    pass\n"
      ],
      "metadata": {
        "id": "6kHcL-cqc-nz"
      },
      "execution_count": null,
      "outputs": []
    },
    {
      "cell_type": "markdown",
      "source": [
        "# 3 Multilevel Inheritance:"
      ],
      "metadata": {
        "id": "egz-7KBHcZRb"
      }
    },
    {
      "cell_type": "code",
      "source": [
        "class Grandparent:\n",
        "    pass\n",
        "\n",
        "class Parent(Grandparent):\n",
        "    pass\n",
        "\n",
        "class Child(Parent):\n",
        "    pass\n"
      ],
      "metadata": {
        "id": "OODkdRKpdC_D"
      },
      "execution_count": null,
      "outputs": []
    },
    {
      "cell_type": "markdown",
      "source": [
        "# 4 Hierarchical Inheritance:"
      ],
      "metadata": {
        "id": "LuuHPI_RcZUL"
      }
    },
    {
      "cell_type": "code",
      "source": [
        "class Base:\n",
        "    pass\n",
        "\n",
        "class Child1(Base):\n",
        "    pass\n",
        "\n",
        "class Child2(Base):\n",
        "    pass\n"
      ],
      "metadata": {
        "id": "X9I5_FWwdH8X"
      },
      "execution_count": null,
      "outputs": []
    },
    {
      "cell_type": "markdown",
      "source": [
        "# 5 Hybrid Inheritance:"
      ],
      "metadata": {
        "id": "wDX05pE2cZXf"
      }
    },
    {
      "cell_type": "code",
      "source": [
        "class Base1:\n",
        "    pass\n",
        "\n",
        "class Base2:\n",
        "    pass\n",
        "\n",
        "class Derived(Base1):\n",
        "    pass\n",
        "\n",
        "class Child(Derived, Base2):\n",
        "    pass\n"
      ],
      "metadata": {
        "id": "DQURekJldN2h"
      },
      "execution_count": null,
      "outputs": []
    },
    {
      "cell_type": "markdown",
      "source": [
        "# Overloading"
      ],
      "metadata": {
        "id": "rjvWdr2szDz9"
      }
    },
    {
      "cell_type": "markdown",
      "source": [
        "##       In Python, method overloading refers to the ability to define multiple methods in a class with the same name but different parameter lists. Depending on the number or types of parameters passed during the method call, the appropriate method implementation is invoked"
      ],
      "metadata": {
        "id": "NnO5KT_JcZcL"
      }
    },
    {
      "cell_type": "code",
      "source": [
        "class MyClass:\n",
        "    def method(self, x=None):\n",
        "        if x is None:\n",
        "            print(\"No argument provided\")\n",
        "        else:\n",
        "            print(\"Argument provided:\", x)\n",
        "\n",
        "obj = MyClass()\n",
        "obj.method()  # Output: No argument provided\n",
        "obj.method(10)  # Output: Argument provided: 10"
      ],
      "metadata": {
        "id": "ryZ01-JPzTIV"
      },
      "execution_count": null,
      "outputs": []
    },
    {
      "cell_type": "markdown",
      "source": [
        "##### Python does not enforce strict method overloading like some other languages, these techniques provide flexibility for achieving similar behavior when needed. It's important to choose the most appropriate technique based on the specific requirements and design of your application.\n",
        "\n",
        "\n",
        "\n",
        "\n",
        "\n"
      ],
      "metadata": {
        "id": "v3bMBCIizSj5"
      }
    },
    {
      "cell_type": "markdown",
      "metadata": {
        "id": "VYD7BgLZtUdM"
      },
      "source": [
        "## Polymorphism\n",
        "\n",
        "We've learned that while functions can take in different arguments, methods belong to the objects they act on. In Python, *polymorphism* refers to the way in which different object classes can share the same method name, and those methods can be called from the same place even though a variety of different objects might be passed in. The best way to explain this is by example:"
      ]
    },
    {
      "cell_type": "markdown",
      "source": [
        "## It refers to the ability of different classes to be treated as objects of a common superclass."
      ],
      "metadata": {
        "id": "dKxo1snm262Q"
      }
    },
    {
      "cell_type": "code",
      "metadata": {
        "id": "C-DbH8vVtUdM"
      },
      "source": [
        "class HouseStark:\n",
        "    def __init__(self, name):\n",
        "        self.name = name\n",
        "\n",
        "    def motto(self):\n",
        "        return \"House Stark with sigil \" + self.name + \" has the motto 'Winter is coming'\""
      ],
      "execution_count": null,
      "outputs": []
    },
    {
      "cell_type": "code",
      "metadata": {
        "id": "Knb58dwgF5wZ"
      },
      "source": [
        "class HouseLannister:\n",
        "    def __init__(self, sigil):\n",
        "        self.sigil = sigil\n",
        "\n",
        "    def motto(self):\n",
        "        return \"House Lannister with sigil \" + self.sigil + \" has the motto 'Hear me roar'\""
      ],
      "execution_count": null,
      "outputs": []
    },
    {
      "cell_type": "code",
      "metadata": {
        "id": "ZHMg38V2tUdO"
      },
      "source": [
        "arya = HouseStark('direwolf')\n",
        "tyrion = HouseLannister('golden lion')"
      ],
      "execution_count": null,
      "outputs": []
    },
    {
      "cell_type": "code",
      "metadata": {
        "id": "haoS9YqetUdR",
        "colab": {
          "base_uri": "https://localhost:8080/"
        },
        "outputId": "f3e0ebe9-6df7-4a07-9433-ab6279f5dee3"
      },
      "source": [
        "print(arya.motto())"
      ],
      "execution_count": null,
      "outputs": [
        {
          "output_type": "stream",
          "text": [
            "House Stark with sigil direwolf has the motto 'Winter is coming'\n"
          ],
          "name": "stdout"
        }
      ]
    },
    {
      "cell_type": "code",
      "metadata": {
        "id": "HsZugVGgFChX",
        "colab": {
          "base_uri": "https://localhost:8080/"
        },
        "outputId": "84a55214-02de-4c8b-c044-f7a303256d42"
      },
      "source": [
        "print(tyrion.motto())"
      ],
      "execution_count": null,
      "outputs": [
        {
          "output_type": "stream",
          "text": [
            "House Lannister with sigil golden lion has the motto 'Hear me roar'\n"
          ],
          "name": "stdout"
        }
      ]
    },
    {
      "cell_type": "markdown",
      "metadata": {
        "id": "bWpYCHnXtUdT"
      },
      "source": [
        "Here we have a HouseStark class and a HouseLannister class, and each has a `.motto()` method. When called, each object's `.motto()` method returns a result unique to the object.\n",
        "\n",
        "There a few different ways to demonstrate polymorphism. First, with a for loop:"
      ]
    },
    {
      "cell_type": "code",
      "metadata": {
        "id": "sB9Dm2QetUdU",
        "colab": {
          "base_uri": "https://localhost:8080/"
        },
        "outputId": "7488415d-d70b-4483-c2a9-dcb610e9dad0"
      },
      "source": [
        "for warrior in [arya, tyrion]:\n",
        "    print(warrior.motto())"
      ],
      "execution_count": null,
      "outputs": [
        {
          "output_type": "stream",
          "text": [
            "House Stark with sigil direwolf has the motto 'Winter is coming'\n",
            "House Lannister with sigil golden lion has the motto 'Hear me roar'\n"
          ],
          "name": "stdout"
        }
      ]
    },
    {
      "cell_type": "markdown",
      "metadata": {
        "id": "ejVaA9YctUdV"
      },
      "source": [
        "Another is with functions:"
      ]
    },
    {
      "cell_type": "code",
      "metadata": {
        "id": "w53MLAWJtUdW",
        "colab": {
          "base_uri": "https://localhost:8080/"
        },
        "outputId": "296012a0-55f1-4f3b-88ce-9553ffe5e1a5"
      },
      "source": [
        "def get_motto(warrior):\n",
        "    print(warrior.motto())\n",
        "\n",
        "get_motto(arya)\n",
        "get_motto(tyrion)"
      ],
      "execution_count": null,
      "outputs": [
        {
          "output_type": "stream",
          "text": [
            "House Stark with sigil direwolf has the motto 'Winter is coming'\n",
            "House Lannister with sigil golden lion has the motto 'Hear me roar'\n"
          ],
          "name": "stdout"
        }
      ]
    },
    {
      "cell_type": "markdown",
      "metadata": {
        "id": "sewYYDL7tUdY"
      },
      "source": [
        "In both cases we were able to pass in different object types, and we obtained object-specific results from the same mechanism."
      ]
    },
    {
      "cell_type": "markdown",
      "metadata": {
        "id": "FF0HJ0VUtUdY"
      },
      "source": [
        "**Great! By now you should have a basic understanding of how to create your own objects with class in Python.**"
      ]
    },
    {
      "cell_type": "markdown",
      "metadata": {
        "id": "7MVXdj_MGzIO"
      },
      "source": [
        "# 2. Errors and Exception Handling\n",
        "\n",
        "Now we will learn about Errors and Exception Handling in Python. You've definitely already encountered errors by this point in the course. For example:"
      ]
    },
    {
      "cell_type": "code",
      "metadata": {
        "id": "iRy54of4GuZY",
        "colab": {
          "base_uri": "https://localhost:8080/",
          "height": 132
        },
        "outputId": "67ea01e8-41e6-4931-bec9-3173e431b628"
      },
      "source": [
        "print('XGBoost)"
      ],
      "execution_count": null,
      "outputs": [
        {
          "output_type": "error",
          "ename": "SyntaxError",
          "evalue": "ignored",
          "traceback": [
            "\u001b[0;36m  File \u001b[0;32m\"<ipython-input-39-4c062b08efa2>\"\u001b[0;36m, line \u001b[0;32m1\u001b[0m\n\u001b[0;31m    print('XGBoost)\u001b[0m\n\u001b[0m                   ^\u001b[0m\n\u001b[0;31mSyntaxError\u001b[0m\u001b[0;31m:\u001b[0m EOL while scanning string literal\n"
          ]
        }
      ]
    },
    {
      "cell_type": "markdown",
      "metadata": {
        "id": "w1zIZO0oSctr"
      },
      "source": [
        "Note how we get a SyntaxError, with the further description that it was an EOL (End of Line Error) while scanning the string literal. This is specific enough for us to see that we forgot a single quote at the end of the line. Understanding these various error types will help you debug your code much faster.\n",
        "\n",
        "This type of error and description is known as an Exception. Even if a statement or expression is syntactically correct, it may cause an error when an attempt is made to execute it. Errors detected during execution are called exceptions and are not unconditionally fatal.\n",
        "\n",
        "You can check out the full list of built-in exceptions [here](https://docs.python.org/3/library/exceptions.html). Now let's learn how to handle errors and exceptions in our own code."
      ]
    },
    {
      "cell_type": "markdown",
      "metadata": {
        "id": "kTa8caFuSezF"
      },
      "source": [
        "## try and except\n",
        "\n",
        "The basic terminology and syntax used to handle errors in Python are the <code>try</code> and <code>except</code> statements. The code which can cause an exception to occur is put in the <code>try</code> block and the handling of the exception is then implemented in the <code>except</code> block of code. The syntax follows:\n",
        "\n",
        "    try:\n",
        "       You do your operations here...\n",
        "       ...\n",
        "    except:\n",
        "       If there is an exception, then execute this block.\n",
        "    else:\n",
        "       If there is no exception then execute this block.\n",
        "\n",
        "To get a better understanding of this let's check out an example:"
      ]
    },
    {
      "cell_type": "code",
      "metadata": {
        "id": "Ckb2jAAeZlkv",
        "colab": {
          "base_uri": "https://localhost:8080/"
        },
        "outputId": "c2a23122-d894-4d3a-eb12-b74b0b25fac3"
      },
      "source": [
        "try:\n",
        "    print(\"Good to go!\")\n",
        "    print('a', fwdfdwafwf)\n",
        "    print('b')\n",
        "except:\n",
        "    # This will check for any exception and then execute this print statement\n",
        "    print(\"Oops!\")\n",
        "    print('c')\n",
        "    print('d')\n",
        "else:\n",
        "    print(\"No errors encountered!\")\n",
        "    print('e')\n",
        "    print('f')"
      ],
      "execution_count": null,
      "outputs": [
        {
          "output_type": "stream",
          "text": [
            "Good to go!\n",
            "Oops!\n",
            "c\n",
            "d\n"
          ],
          "name": "stdout"
        }
      ]
    },
    {
      "cell_type": "markdown",
      "metadata": {
        "id": "1iWZyynISj7-"
      },
      "source": [
        "Great! Now we don't actually need to memorize that list of exception types! Now what if we kept wanting to run code after the exception occurred? This is where <code>finally</code> comes in.\n",
        "## finally\n",
        "The <code>finally:</code> block of code will always be run regardless if there was an exception in the <code>try</code> code block. The syntax is:\n",
        "\n",
        "    try:\n",
        "       Code block here\n",
        "       ...\n",
        "       Due to any exception, this code may be skipped!\n",
        "    finally:\n",
        "       This code block would always be executed.\n",
        "\n",
        "For example:"
      ]
    },
    {
      "cell_type": "code",
      "metadata": {
        "id": "arY-rn-CGvKS",
        "colab": {
          "base_uri": "https://localhost:8080/"
        },
        "outputId": "b8e2c615-5376-4f47-ac3d-1480958026e2"
      },
      "source": [
        "try:\n",
        "  print(\"Execute try statements\")\n",
        "finally:\n",
        "  print(\"Always execute finally code blocks\")"
      ],
      "execution_count": null,
      "outputs": [
        {
          "output_type": "stream",
          "text": [
            "Execute try statements\n",
            "Always execute finally code blocks\n"
          ],
          "name": "stdout"
        }
      ]
    },
    {
      "cell_type": "markdown",
      "metadata": {
        "id": "n-4eDtEnSvI9"
      },
      "source": [
        "We can use this in conjunction with <code>except</code>. Let's see a new example that will take into account a user providing the wrong input:"
      ]
    },
    {
      "cell_type": "code",
      "metadata": {
        "id": "ldMDSNkeSnl1"
      },
      "source": [
        "a = 1\n",
        "b = 0.2"
      ],
      "execution_count": null,
      "outputs": []
    },
    {
      "cell_type": "code",
      "metadata": {
        "id": "hn1ZlKSDSwxQ",
        "colab": {
          "base_uri": "https://localhost:8080/"
        },
        "outputId": "9cdb4311-22fa-47df-a1b0-e9ad4a191bb3"
      },
      "source": [
        "try:\n",
        "    print(afdwfwf, type(aefwffewf))\n",
        "except:\n",
        "    print(b, type(b))\n",
        "finally:\n",
        "    print('Type printed')"
      ],
      "execution_count": null,
      "outputs": [
        {
          "output_type": "stream",
          "text": [
            "0.2 <class 'float'>\n",
            "Type printed\n"
          ],
          "name": "stdout"
        }
      ]
    },
    {
      "cell_type": "code",
      "metadata": {
        "id": "OrkKRRLv_vbf",
        "colab": {
          "base_uri": "https://localhost:8080/"
        },
        "outputId": "a07eb64a-7316-4d5e-a978-08d5c5eab1a7"
      },
      "source": [
        "try:\n",
        "    a = 1\n",
        "    print(adefewdwd)\n",
        "    try:\n",
        "      print(type(afggdgdsgg))\n",
        "    except:\n",
        "      print('Error occured')\n",
        "except Exception as ex:\n",
        "    print('The error is : ', ex)\n",
        "    print(b, type(b))"
      ],
      "execution_count": null,
      "outputs": [
        {
          "output_type": "stream",
          "text": [
            "The error is :  name 'adefewdwd' is not defined\n",
            "0.2 <class 'float'>\n"
          ],
          "name": "stdout"
        }
      ]
    },
    {
      "cell_type": "markdown",
      "metadata": {
        "id": "-rhyUIY4S6gZ"
      },
      "source": [
        "**Great! Now you know how to handle errors and exceptions in Python with the try, except, else, and finally notation!**\n",
        "\n"
      ]
    },
    {
      "cell_type": "markdown",
      "metadata": {
        "id": "pZrycmS2S_1t"
      },
      "source": [
        "# Real World Use Case\n",
        "\n",
        "### Uber's simplified pricing model\n",
        "\n",
        "When you request an Uber, you enter your pick-up location and the destination. Based on the distance, peak hours, willingness to pay and many other factors, Uber uses a machine learning algorithm to compute what prices will be shown to you.\n",
        "\n",
        "Let's consider a simplistic version of the Uber Pricing Model where you compute the price based on the distance between the pick-up and the drop location and the time of the booking.\n",
        "\n",
        "User Inputs:\n",
        "\n",
        "* Pick-up location (pick_up_latitude, pick_up_longitude)\n",
        "* Drop location (drop_latitude, drop_longitude)\n",
        "* Time of booking\n",
        "\n",
        "Output:\n",
        "\n",
        "* Final Price"
      ]
    },
    {
      "cell_type": "markdown",
      "metadata": {
        "id": "N6hCfBw3TNhJ"
      },
      "source": [
        " ### Development Code"
      ]
    },
    {
      "cell_type": "code",
      "metadata": {
        "id": "vdwRZpbJTC2b"
      },
      "source": [
        "# Calculate the distance between the pick-up location and the drop location\n",
        "\n",
        "import geopy.distance\n",
        "\n",
        "def get_distance(location_1, location_2):\n",
        "\n",
        "    distance = geopy.distance.distance(location_1, location_2).km\n",
        "\n",
        "    return distance"
      ],
      "execution_count": null,
      "outputs": []
    },
    {
      "cell_type": "code",
      "metadata": {
        "id": "zC0vGEflTK8c"
      },
      "source": [
        "def get_price_per_km(hour):\n",
        "\n",
        "    if (hour > 8) & (hour < 11):\n",
        "        price_per_km = 20\n",
        "    elif (hour > 18) & (hour < 21):\n",
        "        price_per_km = 15\n",
        "    else:\n",
        "        price_per_km = 10\n",
        "\n",
        "    return price_per_km"
      ],
      "execution_count": null,
      "outputs": []
    },
    {
      "cell_type": "code",
      "metadata": {
        "id": "sJhJg5PhTPWh"
      },
      "source": [
        "def get_final_price(pick_up_location, drop_location, booking_hour):\n",
        "\n",
        "    total_distance = get_distance(pick_up_location, drop_location)\n",
        "    actual_price_per_km = get_price_per_km(booking_hour)\n",
        "\n",
        "    final_price = round(total_distance * actual_price_per_km, 2)\n",
        "\n",
        "    return final_price"
      ],
      "execution_count": null,
      "outputs": []
    },
    {
      "cell_type": "code",
      "metadata": {
        "id": "cYICiaPGTQ5c"
      },
      "source": [
        "# Inputs\n",
        "\n",
        "pick_up_location = (24, 70)\n",
        "drop_location = (24.1, 70.1)\n",
        "booking_time = 19"
      ],
      "execution_count": null,
      "outputs": []
    },
    {
      "cell_type": "code",
      "metadata": {
        "id": "J-6Y6diXTSU7",
        "colab": {
          "base_uri": "https://localhost:8080/"
        },
        "outputId": "8e912397-eb90-4262-e78b-212b1d78dee7"
      },
      "source": [
        "# Output\n",
        "\n",
        "get_final_price(pick_up_location, drop_location, booking_time)"
      ],
      "execution_count": null,
      "outputs": [
        {
          "output_type": "execute_result",
          "data": {
            "text/plain": [
              "225.56"
            ]
          },
          "metadata": {
            "tags": []
          },
          "execution_count": 65
        }
      ]
    },
    {
      "cell_type": "markdown",
      "metadata": {
        "id": "q_nSK3-FTaqD"
      },
      "source": [
        "### Production Grade Code"
      ]
    },
    {
      "cell_type": "code",
      "metadata": {
        "id": "QHPqo8fNTUGG"
      },
      "source": [
        "# Calculate the distance between the pick-up location and the drop location\n",
        "\n",
        "import geopy.distance\n",
        "import math\n",
        "\n",
        "class Maps:\n",
        "\n",
        "    def __init__(self):\n",
        "        pass\n",
        "\n",
        "    def get_distance(self, location_1, location_2):\n",
        "\n",
        "        try:\n",
        "            distance = geopy.distance.distance(location_1, location_2).km\n",
        "        except:\n",
        "            distance = math.sqrt((location_1[0]-location_2[0])^2 + (location_1[1]-location_2[1])^2)\n",
        "\n",
        "        return distance"
      ],
      "execution_count": null,
      "outputs": []
    },
    {
      "cell_type": "code",
      "metadata": {
        "id": "4n1-Cf9GTX4h"
      },
      "source": [
        "class SurgePricing:\n",
        "\n",
        "    def __init__(self):\n",
        "        pass\n",
        "\n",
        "    def get_price_per_km(self, hour):\n",
        "\n",
        "        try:\n",
        "\n",
        "            if (hour > 8) & (hour < 11):\n",
        "                price_per_km = 20\n",
        "            elif (hour > 18) & (hour < 21):\n",
        "                price_per_km = 15\n",
        "            else:\n",
        "                price_per_km = 10\n",
        "\n",
        "        except:\n",
        "\n",
        "            price_per_km = 10\n",
        "\n",
        "        return price_per_km"
      ],
      "execution_count": null,
      "outputs": []
    },
    {
      "cell_type": "code",
      "metadata": {
        "id": "4lSkQz2ITer_"
      },
      "source": [
        "def get_final_price(pick_up_location, drop_location, booking_hour):\n",
        "\n",
        "    maps = Maps()\n",
        "    surge = SurgePricing()\n",
        "\n",
        "    total_distance = maps.get_distance(pick_up_location, drop_location)\n",
        "    actual_price_per_km = surge.get_price_per_km(booking_hour)\n",
        "\n",
        "    final_price = round(total_distance * actual_price_per_km, 2)\n",
        "\n",
        "    return final_price"
      ],
      "execution_count": null,
      "outputs": []
    },
    {
      "cell_type": "code",
      "metadata": {
        "id": "aQ0YYXCATgJS",
        "colab": {
          "base_uri": "https://localhost:8080/"
        },
        "outputId": "3474fdba-1879-462a-9c08-f8df71045e02"
      },
      "source": [
        "# Output\n",
        "\n",
        "get_final_price(pick_up_location, drop_location, booking_time)"
      ],
      "execution_count": null,
      "outputs": [
        {
          "output_type": "execute_result",
          "data": {
            "text/plain": [
              "225.56"
            ]
          },
          "metadata": {
            "tags": []
          },
          "execution_count": 78
        }
      ]
    },
    {
      "cell_type": "code",
      "metadata": {
        "id": "f_AP-EMnThm5"
      },
      "source": [],
      "execution_count": null,
      "outputs": []
    },
    {
      "cell_type": "code",
      "metadata": {
        "id": "T0N2tUbLZikS"
      },
      "source": [],
      "execution_count": null,
      "outputs": []
    }
  ]
}